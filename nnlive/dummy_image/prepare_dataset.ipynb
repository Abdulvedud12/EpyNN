{
 "cells": [
  {
   "cell_type": "markdown",
   "metadata": {},
   "source": [
    "# Dummy dataset"
   ]
  },
  {
   "cell_type": "markdown",
   "metadata": {},
   "source": [
    "* Find this notebook at `EpyNN/nnlive/dummy_image/prepare_dataset.ipynb`. \n",
    "* Regular python code at `EpyNN/nnlive/dummy_image/prepare_dataset.py`."
   ]
  },
  {
   "cell_type": "markdown",
   "metadata": {},
   "source": [
    "This notebook is the fourth of the series on preparing data for Neural Network regression with EpyNN.\n",
    "\n",
    "In addition to the topic-specific content, it contains several explanations about basics or general concepts in programming that are important in the context.\n",
    "\n",
    "Note that elements developed in dummy dataset [with Boolean](../dummy_boolean/prepare_dataset.ipynb), [with string](../dummy_string/prepare_dataset.ipynb) and [with numerical (time-series)](../dummy_time/prepare_dataset.ipynb) features may not be recalled herein."
   ]
  },
  {
   "cell_type": "markdown",
   "metadata": {},
   "source": [
    "## What is an image?\n",
    "\n",
    "Instinctively, an image may resemble to a 2D plane composed of **WIDTH * HEIGHT** colored units arranged together in a particular manner.\n",
    "\n",
    "In computing, a 2D image is generally a 3D object which is composed of **WIDTH * HEIGHT** units within each plane with respect the the third dimension, which is the **DEPTH** of the image, therefore giving **WIDTH * HEIGHT * DEPTH = N_FEATURES**.\n",
    "\n",
    "Image depth is simply the number of channels which compose the image. You are certainly aware of RGB colors, for instance. In the RGB scheme, one color is written such as ``rgb(int, int, int)`` or ``rgb(255, 0, 0)``, ``rgb(0, 255, 0)`` and ``rgb(0, 0, 255)`` for pure red, green and blue, respectively. One RGB image would therefore have a **depth** equal to 3, because three channels in there.\n",
    "\n",
    "Note that following this scheme, an image is made of Numerical data, namely integer or ``int``. "
   ]
  },
  {
   "cell_type": "markdown",
   "metadata": {},
   "source": [
    "## Why preparing a dummy dataset with ... features?\n",
    "\n",
    "In addition to the general interest of dummy dataset explained in [dummy dataset with boolean sample features](../dummy_boolean/prepare_dataset.ipynb#Why-preparing-a-dummy-dataset-with-Boolean-features)."
   ]
  },
  {
   "cell_type": "markdown",
   "metadata": {},
   "source": [
    "## Prepare a set of image sample features and related label"
   ]
  },
  {
   "cell_type": "markdown",
   "metadata": {},
   "source": [
    "### Imports"
   ]
  },
  {
   "cell_type": "code",
   "execution_count": 1,
   "metadata": {},
   "outputs": [],
   "source": [
    "# EpyNN/nnlive/dummy_image/prepare_dataset.ipynb\n",
    "# Standard library imports\n",
    "import random\n",
    "\n",
    "# Related third party imports\n",
    "import matplotlib.pyplot as plt\n",
    "import numpy as np"
   ]
  },
  {
   "cell_type": "markdown",
   "metadata": {},
   "source": [
    "### Seeding"
   ]
  },
  {
   "cell_type": "code",
   "execution_count": 2,
   "metadata": {},
   "outputs": [],
   "source": [
    "random.seed(0)\n",
    "np.random.seed(1)"
   ]
  },
  {
   "cell_type": "markdown",
   "metadata": {},
   "source": [
    "### Generate features"
   ]
  },
  {
   "cell_type": "code",
   "execution_count": 3,
   "metadata": {},
   "outputs": [],
   "source": [
    "def features_image(WIDTH=28, HEIGHT=28):\n",
    "    \"\"\"Generate dummy image features.\n",
    "\n",
    "    :param WIDTH: Image width, defaults to 28.\n",
    "    :type WIDTH: int\n",
    "\n",
    "    :param HEIGHT: Image height, defaults to 28.\n",
    "    :type HEIGHT: int\n",
    "\n",
    "    :return: Random image features of size N_FEATURES.\n",
    "    :rtype: :class:`numpy.ndarray`\n",
    "\n",
    "    :return: Non-random image features of size N_FEATURES.\n",
    "    :rtype: :class:`numpy.ndarray`\n",
    "    \"\"\"\n",
    "    # Number of channels is one for greyscale images\n",
    "    DEPTH = 1\n",
    "\n",
    "    # Number of features describing a sample\n",
    "    N_FEATURES = WIDTH * HEIGHT * DEPTH\n",
    "\n",
    "    # Number of distinct tones in features\n",
    "    N_TONES = 16\n",
    "\n",
    "    # Shades of grey\n",
    "    GSCALE = [i for i in range(N_TONES)]\n",
    "\n",
    "    # Random choice of shades for N_FEATURES iterations\n",
    "    features = [random.choice(GSCALE) for j in range(N_FEATURES)]\n",
    "\n",
    "    # Vectorization of features\n",
    "    features = np.array(features).reshape(HEIGHT, WIDTH, DEPTH)\n",
    "\n",
    "    # Masked features\n",
    "    mask_on_features = features.copy()\n",
    "    mask_on_features[np.random.randint(0, HEIGHT)] = np.zeros_like(features[0])\n",
    "    mask_on_features[:, np.random.randint(0, WIDTH)] = np.zeros_like(features[:, 0])\n",
    "\n",
    "    # Random choice between random image or masked image\n",
    "    features = random.choice([features, mask_on_features])\n",
    "\n",
    "    return features, mask_on_features"
   ]
  },
  {
   "cell_type": "code",
   "execution_count": 4,
   "metadata": {},
   "outputs": [
    {
     "data": {
      "image/png": "[encoded data removed]",
      "text/plain": [
       "<Figure size 432x288 with 1 Axes>"
      ]
     },
     "metadata": {
      "needs_background": "light"
     },
     "output_type": "display_data"
    }
   ],
   "source": [
    "features, mask_on_features = features_image()\n",
    "\n",
    "plt.imshow(features, cmap='gray')\n",
    "plt.show()"
   ]
  },
  {
   "cell_type": "markdown",
   "metadata": {},
   "source": [
    "This is the image features we retrieve for one sample. "
   ]
  },
  {
   "cell_type": "code",
   "execution_count": 5,
   "metadata": {},
   "outputs": [
    {
     "data": {
      "image/png": "[encoded data removed]",
      "text/plain": [
       "<Figure size 432x288 with 1 Axes>"
      ]
     },
     "metadata": {
      "needs_background": "light"
     },
     "output_type": "display_data"
    }
   ],
   "source": [
    "plt.imshow(features - mask_on_features, cmap='gray')\n",
    "plt.show()"
   ]
  },
  {
   "cell_type": "markdown",
   "metadata": {},
   "source": [
    "When subtracting ``mask_on_features`` from ``features``, we observe that the image is all black - is not all zeros -. This means that the random choice here has selected the non-random image, the one that has been alterated during the generation of image sample features."
   ]
  },
  {
   "cell_type": "markdown",
   "metadata": {},
   "source": [
    "### Generate label"
   ]
  },
  {
   "cell_type": "code",
   "execution_count": 6,
   "metadata": {},
   "outputs": [],
   "source": [
    "def label_features(features, mask_on_features):\n",
    "    \"\"\"Prepare label associated with features.\n",
    "\n",
    "    The dummy law is:\n",
    "\n",
    "    Image is NOT random = positive\n",
    "    Image is random = negative\n",
    "\n",
    "    :param features: Random image features of size N_FEATURES\n",
    "    :type features: :class:`numpy.ndarray`\n",
    "\n",
    "    :param mask_on_features: Non-random image features of size N_FEATURES\n",
    "    :type mask_on_features: :class:`numpy.ndarray`\n",
    "\n",
    "    :return: Single-digit label with respect to features\n",
    "    :rtype: int\n",
    "    \"\"\"\n",
    "    # Single-digit positive and negative labels\n",
    "    p_label = 1\n",
    "    n_label = 0\n",
    "\n",
    "    # Test if image is not random (+)\n",
    "    if np.sum(features) == np.sum(mask_on_features):\n",
    "        label = p_label\n",
    "\n",
    "    # Test if image is random (-)\n",
    "    elif np.sum(features) != np.sum(mask_on_features):\n",
    "        label = n_label\n",
    "\n",
    "    return label"
   ]
  },
  {
   "cell_type": "markdown",
   "metadata": {},
   "source": [
    "The code above is commented and self explaining.\n",
    "\n",
    "Let's check the function we made for a few iterations."
   ]
  },
  {
   "cell_type": "code",
   "execution_count": 7,
   "metadata": {},
   "outputs": [
    {
     "name": "stdout",
     "output_type": "stream",
     "text": [
      "0 5476 5476\n",
      "1 5500 5500\n",
      "0 5469 5469\n",
      "1 5355 5355\n",
      "0 5356 5356\n"
     ]
    }
   ],
   "source": [
    "for i in range(5):\n",
    "    features, mask_on_features = features_image()\n",
    "    label = label_features(features, mask_on_features)\n",
    "\n",
    "    print(label, np.sum(mask_on_features), np.sum(mask_on_features))"
   ]
  },
  {
   "cell_type": "markdown",
   "metadata": {},
   "source": [
    "### Prepare dataset"
   ]
  },
  {
   "cell_type": "code",
   "execution_count": 8,
   "metadata": {},
   "outputs": [],
   "source": [
    "def prepare_dataset(N_SAMPLES=100):\n",
    "    \"\"\"Prepare a set of dummy time sample features and label.\n",
    "\n",
    "    :param N_SAMPLES: Number of samples to generate, defaults to 100.\n",
    "    :type N_SAMPLES: int\n",
    "\n",
    "    :return: Set of sample features.\n",
    "    :rtype: tuple[:class:`numpy.ndarray`]\n",
    "\n",
    "    :return: Set of single-digit sample label.\n",
    "    :rtype: tuple[int]\n",
    "    \"\"\"\n",
    "    # Initialize X and Y datasets\n",
    "    X_features = []\n",
    "    Y_label = []\n",
    "\n",
    "   # Iterate over N_SAMPLES\n",
    "    for i in range(N_SAMPLES):\n",
    "\n",
    "        # Compute random string features\n",
    "        features, mask_on_features = features_image()\n",
    "\n",
    "        # Retrieve label associated with features\n",
    "        label = label_features(features, mask_on_features)\n",
    "\n",
    "        # Append sample features to X_features\n",
    "        X_features.append(features)\n",
    "\n",
    "        # Append sample label to Y_label\n",
    "        Y_label.append(label)\n",
    "\n",
    "    # Prepare X-Y pairwise dataset\n",
    "    dataset = list(zip(X_features, Y_label))\n",
    "\n",
    "    # Shuffle dataset\n",
    "    random.shuffle(dataset)\n",
    "\n",
    "    # Separate X-Y pairs\n",
    "    X_features, Y_label = zip(*dataset)\n",
    "\n",
    "    return X_features, Y_label"
   ]
  },
  {
   "cell_type": "markdown",
   "metadata": {},
   "source": [
    "_"
   ]
  },
  {
   "cell_type": "code",
   "execution_count": null,
   "metadata": {},
   "outputs": [],
   "source": []
  },
  {
   "cell_type": "markdown",
   "metadata": {},
   "source": [
    "_"
   ]
  },
  {
   "cell_type": "markdown",
   "metadata": {},
   "source": [
    "## Live examples"
   ]
  },
  {
   "cell_type": "markdown",
   "metadata": {},
   "source": [
    "The function ``prepare_dataset()`` presented herein is used in the following live examples:\n",
    "\n",
    "* Notebook at`EpyNN/nnlive/dummy_image/train.ipynb` or following [this link](train.ypinb). \n",
    "* Regular python code at `EpyNN/nnlive/dummy_image/train.py`."
   ]
  }
 ],
 "metadata": {
  "kernelspec": {
   "display_name": "Python 3",
   "language": "python",
   "name": "python3"
  },
  "language_info": {
   "codemirror_mode": {
    "name": "ipython",
    "version": 3
   },
   "file_extension": ".py",
   "mimetype": "text/x-python",
   "name": "python",
   "nbconvert_exporter": "python",
   "pygments_lexer": "ipython3",
   "version": "3.7.3"
  }
 },
 "nbformat": 4,
 "nbformat_minor": 4
}
