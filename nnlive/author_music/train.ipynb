{
 "cells": [
  {
   "cell_type": "markdown",
   "metadata": {},
   "source": [
    "# Distinguish author-specific patterns in music"
   ]
  },
  {
   "cell_type": "markdown",
   "metadata": {},
   "source": [
    "* Find this notebook at `EpyNN/nnlive/author_music/train.ipynb`.\n",
    "* Regular python code at `EpyNN/nnlive/author_music/train.py`."
   ]
  },
  {
   "cell_type": "markdown",
   "metadata": {},
   "source": [
    "In this notebook we will review:\n",
    "\n",
    "* Handling univariate time series that represents a **huge amount of data points**."
   ]
  },
  {
   "cell_type": "markdown",
   "metadata": {},
   "source": [
    "## Environment and data"
   ]
  },
  {
   "cell_type": "markdown",
   "metadata": {},
   "source": [
    "Follow [this link](prepare_dataset.ipynb) for details about data preparation."
   ]
  },
  {
   "cell_type": "markdown",
   "metadata": {},
   "source": [
    "Briefly, raw data are acoustic guittare music from the *True* author and the *False* author. These are raw ``.wav`` files that were resampled, clipped and digitalized using a 4-bits encoder.\n",
    "\n",
    "Commonly, music ``.wav`` files have a sampling rate of 44100 Hz. This means that each second of music represents a numerical time series or sequence of length 44100. Because we can not resonably setup a recurrent layer with thousands of cells in the context on this notebook, we dim "
   ]
  },
  {
   "cell_type": "code",
   "execution_count": 1,
   "metadata": {},
   "outputs": [],
   "source": [
    "# EpyNN/nnlive/author_music/train.ipynb\n",
    "# Standard library imports\n",
    "import random\n",
    "\n",
    "# Related third party imports\n",
    "import numpy as np\n",
    "\n",
    "# Local application/library specific imports\n",
    "import nnlibs.initialize\n",
    "from nnlibs.commons.maths import relu, softmax\n",
    "from nnlibs.commons.library import (\n",
    "    configure_directory,\n",
    "    read_model,\n",
    ")\n",
    "from nnlibs.network.models import EpyNN\n",
    "from nnlibs.embedding.models import Embedding\n",
    "from nnlibs.rnn.models import RNN\n",
    "# from nnlibs.lstm.models import LSTM\n",
    "from nnlibs.gru.models import GRU\n",
    "from nnlibs.flatten.models import Flatten\n",
    "from nnlibs.dropout.models import Dropout\n",
    "from nnlibs.dense.models import Dense\n",
    "from prepare_dataset import prepare_dataset\n",
    "from settings import se_hPars\n",
    "\n",
    "\n",
    "########################## CONFIGURE ##########################\n",
    "random.seed(1)\n",
    "\n",
    "np.set_printoptions(threshold=10)\n",
    "\n",
    "np.seterr(all='warn')\n",
    "np.seterr(under='ignore')\n",
    "\n",
    "\n",
    "############################ DATASET ##########################\n",
    "X_features, Y_label = prepare_dataset(N_SAMPLES=10000)"
   ]
  },
  {
   "cell_type": "markdown",
   "metadata": {},
   "source": [
    "_"
   ]
  },
  {
   "cell_type": "markdown",
   "metadata": {},
   "source": [
    "## Feed-Forward (FF)"
   ]
  },
  {
   "cell_type": "markdown",
   "metadata": {},
   "source": [
    "_"
   ]
  },
  {
   "cell_type": "markdown",
   "metadata": {},
   "source": [
    "### Embedding"
   ]
  },
  {
   "cell_type": "markdown",
   "metadata": {},
   "source": [
    "_"
   ]
  },
  {
   "cell_type": "code",
   "execution_count": 2,
   "metadata": {},
   "outputs": [],
   "source": [
    "embedding = Embedding(X_data=X_features,\n",
    "                      Y_data=Y_label,\n",
    "                      X_encode=True,\n",
    "                      Y_encode=True,\n",
    "                      batch_size=32,\n",
    "                      relative_size=(2, 1, 0))"
   ]
  },
  {
   "cell_type": "markdown",
   "metadata": {},
   "source": [
    "_"
   ]
  },
  {
   "cell_type": "markdown",
   "metadata": {},
   "source": [
    "### Multiple layers with Dropout"
   ]
  },
  {
   "cell_type": "markdown",
   "metadata": {},
   "source": [
    "_"
   ]
  },
  {
   "cell_type": "code",
   "execution_count": 3,
   "metadata": {
    "tags": []
   },
   "outputs": [],
   "source": [
    "name = 'Flatten_Dense-64-relu_Dropout-08_Dense-2-softmax'\n",
    "\n",
    "se_hPars['learning_rate'] = 0.005\n",
    "se_hPars['softmax_temperature'] = 5\n",
    "\n",
    "flatten = Flatten()\n",
    "\n",
    "dropout1 = Dropout(keep_prob=0.5)\n",
    "\n",
    "hidden_dense = Dense(64, relu)\n",
    "\n",
    "dropout2 = Dropout(keep_prob=0.5)\n",
    "\n",
    "dense = Dense(2, softmax)\n",
    "\n",
    "layers = [embedding, flatten, dropout1, hidden_dense, dropout2, dense]\n",
    "\n",
    "model = EpyNN(layers=layers, name=name)"
   ]
  },
  {
   "cell_type": "markdown",
   "metadata": {
    "tags": []
   },
   "source": [
    "_"
   ]
  },
  {
   "cell_type": "code",
   "execution_count": 4,
   "metadata": {
    "tags": []
   },
   "outputs": [
    {
     "name": "stdout",
     "output_type": "stream",
     "text": [
      "\u001b[1m--- EpyNN Check --- \u001b[0m\n",
      "\u001b[1mLayer: Embedding\u001b[0m\n",
      "\u001b[1m\u001b[32mcompute_shapes: Embedding\u001b[0m\n",
      "\u001b[1m\u001b[32minitialize_parameters: Embedding\u001b[0m\n",
      "\u001b[1m\u001b[32mforward: Embedding\u001b[0m\n",
      "\u001b[1mLayer: Flatten\u001b[0m\n",
      "\u001b[1m\u001b[32mcompute_shapes: Flatten\u001b[0m\n",
      "\u001b[1m\u001b[32minitialize_parameters: Flatten\u001b[0m\n",
      "\u001b[1m\u001b[32mforward: Flatten\u001b[0m\n",
      "\u001b[1mLayer: Dropout\u001b[0m\n",
      "\u001b[1m\u001b[32mcompute_shapes: Dropout\u001b[0m\n",
      "\u001b[1m\u001b[32minitialize_parameters: Dropout\u001b[0m\n",
      "\u001b[1m\u001b[32mforward: Dropout\u001b[0m\n",
      "\u001b[1mLayer: Dense\u001b[0m\n",
      "\u001b[1m\u001b[32mcompute_shapes: Dense\u001b[0m\n",
      "\u001b[1m\u001b[32minitialize_parameters: Dense\u001b[0m\n",
      "\u001b[1m\u001b[32mforward: Dense\u001b[0m\n",
      "\u001b[1mLayer: Dropout\u001b[0m\n",
      "\u001b[1m\u001b[32mcompute_shapes: Dropout\u001b[0m\n",
      "\u001b[1m\u001b[32minitialize_parameters: Dropout\u001b[0m\n",
      "\u001b[1m\u001b[32mforward: Dropout\u001b[0m\n",
      "\u001b[1mLayer: Dense\u001b[0m\n",
      "\u001b[1m\u001b[32mcompute_shapes: Dense\u001b[0m\n",
      "\u001b[1m\u001b[32minitialize_parameters: Dense\u001b[0m\n",
      "\u001b[1m\u001b[32mforward: Dense\u001b[0m\n",
      "\u001b[1mLayer: Dense\u001b[0m\n",
      "\u001b[1m\u001b[36mbackward: Dense\u001b[0m\n",
      "\u001b[1m\u001b[36mcompute_gradients: Dense\u001b[0m\n",
      "\u001b[1mLayer: Dropout\u001b[0m\n",
      "\u001b[1m\u001b[36mbackward: Dropout\u001b[0m\n",
      "\u001b[1m\u001b[36mcompute_gradients: Dropout\u001b[0m\n",
      "\u001b[1mLayer: Dense\u001b[0m\n",
      "\u001b[1m\u001b[36mbackward: Dense\u001b[0m\n",
      "\u001b[1m\u001b[36mcompute_gradients: Dense\u001b[0m\n",
      "\u001b[1mLayer: Dropout\u001b[0m\n",
      "\u001b[1m\u001b[36mbackward: Dropout\u001b[0m\n",
      "\u001b[1m\u001b[36mcompute_gradients: Dropout\u001b[0m\n",
      "\u001b[1mLayer: Flatten\u001b[0m\n",
      "\u001b[1m\u001b[36mbackward: Flatten\u001b[0m\n",
      "\u001b[1m\u001b[36mcompute_gradients: Flatten\u001b[0m\n",
      "\u001b[1mLayer: Embedding\u001b[0m\n",
      "\u001b[1m\u001b[36mbackward: Embedding\u001b[0m\n",
      "\u001b[1m\u001b[36mcompute_gradients: Embedding\u001b[0m\n"
     ]
    }
   ],
   "source": [
    "model.initialize(loss='BCE', seed=1, metrics=['accuracy', 'recall', 'precision'], se_hPars=se_hPars.copy())"
   ]
  },
  {
   "cell_type": "markdown",
   "metadata": {},
   "source": [
    "_"
   ]
  },
  {
   "cell_type": "code",
   "execution_count": 5,
   "metadata": {},
   "outputs": [
    {
     "name": "stdout",
     "output_type": "stream",
     "text": [
      "+-------+----------+----------+-------+----------+-------+--------+-------+-----------+-------+-------+-------------------------------------------------------------+\n",
      "| \u001b[1m\u001b[37mepoch\u001b[0m |  \u001b[1m\u001b[37mlrate\u001b[0m   |  \u001b[1m\u001b[37mlrate\u001b[0m   |       | \u001b[1m\u001b[32maccuracy\u001b[0m |       | \u001b[1m\u001b[31mrecall\u001b[0m |       | \u001b[1m\u001b[35mprecision\u001b[0m |       |  \u001b[1m\u001b[36mBCE\u001b[0m  |                         \u001b[37mExperiment\u001b[0m                          |\n",
      "|       |  \u001b[37mDense\u001b[0m   |  \u001b[37mDense\u001b[0m   |  \u001b[1m\u001b[32m(0)\u001b[0m  |   \u001b[1m\u001b[32m(1)\u001b[0m    |  \u001b[1m\u001b[31m(0)\u001b[0m  |  \u001b[1m\u001b[31m(1)\u001b[0m   |  \u001b[1m\u001b[35m(0)\u001b[0m  |    \u001b[1m\u001b[35m(1)\u001b[0m    |  \u001b[1m\u001b[36m(0)\u001b[0m  |  \u001b[1m\u001b[36m(1)\u001b[0m  |                                                             |\n",
      "+-------+----------+----------+-------+----------+-------+--------+-------+-----------+-------+-------+-------------------------------------------------------------+\n",
      "|   \u001b[1m\u001b[37m0\u001b[0m   | \u001b[1m\u001b[37m5.00e-03\u001b[0m | \u001b[1m\u001b[37m5.00e-03\u001b[0m | \u001b[1m\u001b[32m0.599\u001b[0m |  \u001b[1m\u001b[32m0.584\u001b[0m   | \u001b[1m\u001b[31m0.804\u001b[0m | \u001b[1m\u001b[31m0.784\u001b[0m  | \u001b[1m\u001b[35m0.599\u001b[0m |   \u001b[1m\u001b[35m0.592\u001b[0m   | \u001b[1m\u001b[36m0.658\u001b[0m | \u001b[1m\u001b[36m0.676\u001b[0m | \u001b[37m1628890253_Flatten_Dense-64-relu_Dropout-08_Dense-2-softmax\u001b[0m |\n",
      "|  \u001b[1m\u001b[37m10\u001b[0m   | \u001b[1m\u001b[37m5.00e-03\u001b[0m | \u001b[1m\u001b[37m5.00e-03\u001b[0m | \u001b[1m\u001b[32m0.679\u001b[0m |  \u001b[1m\u001b[32m0.647\u001b[0m   | \u001b[1m\u001b[31m0.674\u001b[0m | \u001b[1m\u001b[31m0.656\u001b[0m  | \u001b[1m\u001b[35m0.721\u001b[0m |   \u001b[1m\u001b[35m0.688\u001b[0m   | \u001b[1m\u001b[36m0.577\u001b[0m | \u001b[1m\u001b[36m0.625\u001b[0m | \u001b[37m1628890253_Flatten_Dense-64-relu_Dropout-08_Dense-2-softmax\u001b[0m |\n",
      "|  \u001b[1m\u001b[37m20\u001b[0m   | \u001b[1m\u001b[37m5.00e-03\u001b[0m | \u001b[1m\u001b[37m5.00e-03\u001b[0m | \u001b[1m\u001b[32m0.743\u001b[0m |  \u001b[1m\u001b[32m0.675\u001b[0m   | \u001b[1m\u001b[31m0.793\u001b[0m | \u001b[1m\u001b[31m0.741\u001b[0m  | \u001b[1m\u001b[35m0.751\u001b[0m |   \u001b[1m\u001b[35m0.691\u001b[0m   | \u001b[1m\u001b[36m0.514\u001b[0m | \u001b[1m\u001b[36m0.602\u001b[0m | \u001b[37m1628890253_Flatten_Dense-64-relu_Dropout-08_Dense-2-softmax\u001b[0m |\n",
      "|  \u001b[1m\u001b[37m30\u001b[0m   | \u001b[1m\u001b[37m5.00e-03\u001b[0m | \u001b[1m\u001b[37m5.00e-03\u001b[0m | \u001b[1m\u001b[32m0.786\u001b[0m |  \u001b[1m\u001b[32m0.707\u001b[0m   | \u001b[1m\u001b[31m0.811\u001b[0m | \u001b[1m\u001b[31m0.748\u001b[0m  | \u001b[1m\u001b[35m0.800\u001b[0m |   \u001b[1m\u001b[35m0.728\u001b[0m   | \u001b[1m\u001b[36m0.451\u001b[0m | \u001b[1m\u001b[36m0.567\u001b[0m | \u001b[37m1628890253_Flatten_Dense-64-relu_Dropout-08_Dense-2-softmax\u001b[0m |\n",
      "|  \u001b[1m\u001b[37m40\u001b[0m   | \u001b[1m\u001b[37m5.00e-03\u001b[0m | \u001b[1m\u001b[37m5.00e-03\u001b[0m | \u001b[1m\u001b[32m0.797\u001b[0m |  \u001b[1m\u001b[32m0.721\u001b[0m   | \u001b[1m\u001b[31m0.845\u001b[0m | \u001b[1m\u001b[31m0.771\u001b[0m  | \u001b[1m\u001b[35m0.796\u001b[0m |   \u001b[1m\u001b[35m0.735\u001b[0m   | \u001b[1m\u001b[36m0.423\u001b[0m | \u001b[1m\u001b[36m0.541\u001b[0m | \u001b[37m1628890253_Flatten_Dense-64-relu_Dropout-08_Dense-2-softmax\u001b[0m |\n",
      "|  \u001b[1m\u001b[37m50\u001b[0m   | \u001b[1m\u001b[37m5.00e-03\u001b[0m | \u001b[1m\u001b[37m5.00e-03\u001b[0m | \u001b[1m\u001b[32m0.808\u001b[0m |  \u001b[1m\u001b[32m0.725\u001b[0m   | \u001b[1m\u001b[31m0.834\u001b[0m | \u001b[1m\u001b[31m0.756\u001b[0m  | \u001b[1m\u001b[35m0.818\u001b[0m |   \u001b[1m\u001b[35m0.747\u001b[0m   | \u001b[1m\u001b[36m0.406\u001b[0m | \u001b[1m\u001b[36m0.563\u001b[0m | \u001b[37m1628890253_Flatten_Dense-64-relu_Dropout-08_Dense-2-softmax\u001b[0m |\n",
      "|  \u001b[1m\u001b[37m60\u001b[0m   | \u001b[1m\u001b[37m5.00e-03\u001b[0m | \u001b[1m\u001b[37m5.00e-03\u001b[0m | \u001b[1m\u001b[32m0.814\u001b[0m |  \u001b[1m\u001b[32m0.738\u001b[0m   | \u001b[1m\u001b[31m0.855\u001b[0m | \u001b[1m\u001b[31m0.797\u001b[0m  | \u001b[1m\u001b[35m0.815\u001b[0m |   \u001b[1m\u001b[35m0.745\u001b[0m   | \u001b[1m\u001b[36m0.388\u001b[0m | \u001b[1m\u001b[36m0.548\u001b[0m | \u001b[37m1628890253_Flatten_Dense-64-relu_Dropout-08_Dense-2-softmax\u001b[0m |\n",
      "|  \u001b[1m\u001b[37m70\u001b[0m   | \u001b[1m\u001b[37m5.00e-03\u001b[0m | \u001b[1m\u001b[37m5.00e-03\u001b[0m | \u001b[1m\u001b[32m0.830\u001b[0m |  \u001b[1m\u001b[32m0.739\u001b[0m   | \u001b[1m\u001b[31m0.880\u001b[0m | \u001b[1m\u001b[31m0.791\u001b[0m  | \u001b[1m\u001b[35m0.822\u001b[0m |   \u001b[1m\u001b[35m0.749\u001b[0m   | \u001b[1m\u001b[36m0.370\u001b[0m | \u001b[1m\u001b[36m0.547\u001b[0m | \u001b[37m1628890253_Flatten_Dense-64-relu_Dropout-08_Dense-2-softmax\u001b[0m |\n",
      "|  \u001b[1m\u001b[37m80\u001b[0m   | \u001b[1m\u001b[37m5.00e-03\u001b[0m | \u001b[1m\u001b[37m5.00e-03\u001b[0m | \u001b[1m\u001b[32m0.835\u001b[0m |  \u001b[1m\u001b[32m0.747\u001b[0m   | \u001b[1m\u001b[31m0.883\u001b[0m | \u001b[1m\u001b[31m0.803\u001b[0m  | \u001b[1m\u001b[35m0.827\u001b[0m |   \u001b[1m\u001b[35m0.754\u001b[0m   | \u001b[1m\u001b[36m0.363\u001b[0m | \u001b[1m\u001b[36m0.521\u001b[0m | \u001b[37m1628890253_Flatten_Dense-64-relu_Dropout-08_Dense-2-softmax\u001b[0m |\n",
      "|  \u001b[1m\u001b[37m90\u001b[0m   | \u001b[1m\u001b[37m5.00e-03\u001b[0m | \u001b[1m\u001b[37m5.00e-03\u001b[0m | \u001b[1m\u001b[32m0.831\u001b[0m |  \u001b[1m\u001b[32m0.758\u001b[0m   | \u001b[1m\u001b[31m0.852\u001b[0m | \u001b[1m\u001b[31m0.798\u001b[0m  | \u001b[1m\u001b[35m0.842\u001b[0m |   \u001b[1m\u001b[35m0.770\u001b[0m   | \u001b[1m\u001b[36m0.361\u001b[0m | \u001b[1m\u001b[36m0.518\u001b[0m | \u001b[37m1628890253_Flatten_Dense-64-relu_Dropout-08_Dense-2-softmax\u001b[0m |\n",
      "|  \u001b[1m\u001b[37m99\u001b[0m   | \u001b[1m\u001b[37m5.00e-03\u001b[0m | \u001b[1m\u001b[37m5.00e-03\u001b[0m | \u001b[1m\u001b[32m0.841\u001b[0m |  \u001b[1m\u001b[32m0.751\u001b[0m   | \u001b[1m\u001b[31m0.887\u001b[0m | \u001b[1m\u001b[31m0.828\u001b[0m  | \u001b[1m\u001b[35m0.833\u001b[0m |   \u001b[1m\u001b[35m0.747\u001b[0m   | \u001b[1m\u001b[36m0.342\u001b[0m | \u001b[1m\u001b[36m0.520\u001b[0m | \u001b[37m1628890253_Flatten_Dense-64-relu_Dropout-08_Dense-2-softmax\u001b[0m |\n",
      "+-------+----------+----------+-------+----------+-------+--------+-------+-----------+-------+-------+-------------------------------------------------------------+\n"
     ]
    }
   ],
   "source": [
    "model.train(epochs=100, init_logs=False)"
   ]
  },
  {
   "cell_type": "markdown",
   "metadata": {},
   "source": [
    "_"
   ]
  },
  {
   "cell_type": "markdown",
   "metadata": {},
   "source": [
    "## Recurrent Architectures"
   ]
  },
  {
   "cell_type": "markdown",
   "metadata": {},
   "source": [
    "_"
   ]
  },
  {
   "cell_type": "markdown",
   "metadata": {},
   "source": [
    "### Embedding"
   ]
  },
  {
   "cell_type": "markdown",
   "metadata": {},
   "source": [
    "_"
   ]
  },
  {
   "cell_type": "code",
   "execution_count": 6,
   "metadata": {},
   "outputs": [],
   "source": [
    "embedding = Embedding(X_data=X_features,\n",
    "                      Y_data=Y_label,\n",
    "                      X_encode=True,\n",
    "                      Y_encode=True,\n",
    "                      batch_size=32,\n",
    "                      relative_size=(2, 1, 0))"
   ]
  },
  {
   "cell_type": "markdown",
   "metadata": {},
   "source": [
    "_"
   ]
  },
  {
   "cell_type": "markdown",
   "metadata": {},
   "source": [
    "### RNN + Multi-layers FF with Dropout"
   ]
  },
  {
   "cell_type": "markdown",
   "metadata": {},
   "source": [
    "_"
   ]
  },
  {
   "cell_type": "code",
   "execution_count": 7,
   "metadata": {
    "tags": []
   },
   "outputs": [],
   "source": [
    "name = 'RNN-100_Flatten_Dense-64-relu_Dropout-08_Dense-2-softmax'\n",
    "\n",
    "se_hPars['learning_rate'] = 0.001\n",
    "se_hPars['softmax_temperature'] = 10\n",
    "\n",
    "rnn = RNN(100, sequences=True)\n",
    "\n",
    "flatten = Flatten()\n",
    "\n",
    "dense = Dense(2, softmax)\n",
    "\n",
    "layers = [embedding, rnn, flatten, dense]\n",
    "\n",
    "model = EpyNN(layers=layers, name=name)"
   ]
  },
  {
   "cell_type": "markdown",
   "metadata": {
    "tags": []
   },
   "source": [
    "_"
   ]
  },
  {
   "cell_type": "code",
   "execution_count": 8,
   "metadata": {
    "tags": []
   },
   "outputs": [
    {
     "name": "stdout",
     "output_type": "stream",
     "text": [
      "\u001b[1m--- EpyNN Check --- \u001b[0m\n",
      "\u001b[1mLayer: Embedding\u001b[0m\n",
      "\u001b[1m\u001b[32mcompute_shapes: Embedding\u001b[0m\n",
      "\u001b[1m\u001b[32minitialize_parameters: Embedding\u001b[0m\n",
      "\u001b[1m\u001b[32mforward: Embedding\u001b[0m\n",
      "\u001b[1mLayer: RNN\u001b[0m\n",
      "\u001b[1m\u001b[32mcompute_shapes: RNN\u001b[0m\n",
      "\u001b[1m\u001b[32minitialize_parameters: RNN\u001b[0m\n",
      "\u001b[1m\u001b[32mforward: RNN\u001b[0m\n",
      "\u001b[1mLayer: Flatten\u001b[0m\n",
      "\u001b[1m\u001b[32mcompute_shapes: Flatten\u001b[0m\n",
      "\u001b[1m\u001b[32minitialize_parameters: Flatten\u001b[0m\n",
      "\u001b[1m\u001b[32mforward: Flatten\u001b[0m\n",
      "\u001b[1mLayer: Dense\u001b[0m\n",
      "\u001b[1m\u001b[32mcompute_shapes: Dense\u001b[0m\n",
      "\u001b[1m\u001b[32minitialize_parameters: Dense\u001b[0m\n",
      "\u001b[1m\u001b[32mforward: Dense\u001b[0m\n",
      "\u001b[1mLayer: Dense\u001b[0m\n",
      "\u001b[1m\u001b[36mbackward: Dense\u001b[0m\n",
      "\u001b[1m\u001b[36mcompute_gradients: Dense\u001b[0m\n",
      "\u001b[1mLayer: Flatten\u001b[0m\n",
      "\u001b[1m\u001b[36mbackward: Flatten\u001b[0m\n",
      "\u001b[1m\u001b[36mcompute_gradients: Flatten\u001b[0m\n",
      "\u001b[1mLayer: RNN\u001b[0m\n",
      "\u001b[1m\u001b[36mbackward: RNN\u001b[0m\n",
      "\u001b[1m\u001b[36mcompute_gradients: RNN\u001b[0m\n",
      "\u001b[1mLayer: Embedding\u001b[0m\n",
      "\u001b[1m\u001b[36mbackward: Embedding\u001b[0m\n",
      "\u001b[1m\u001b[36mcompute_gradients: Embedding\u001b[0m\n"
     ]
    }
   ],
   "source": [
    "model.initialize(loss='BCE', seed=1, metrics=['accuracy', 'recall', 'precision'], se_hPars=se_hPars.copy())"
   ]
  },
  {
   "cell_type": "markdown",
   "metadata": {},
   "source": [
    "_"
   ]
  },
  {
   "cell_type": "code",
   "execution_count": 9,
   "metadata": {},
   "outputs": [
    {
     "name": "stdout",
     "output_type": "stream",
     "text": [
      "+-------+----------+----------+-------+----------+-------+--------+-------+-----------+-------+-------+---------------------------------------------------------------------+\n",
      "| \u001b[1m\u001b[37mepoch\u001b[0m |  \u001b[1m\u001b[37mlrate\u001b[0m   |  \u001b[1m\u001b[37mlrate\u001b[0m   |       | \u001b[1m\u001b[32maccuracy\u001b[0m |       | \u001b[1m\u001b[31mrecall\u001b[0m |       | \u001b[1m\u001b[35mprecision\u001b[0m |       |  \u001b[1m\u001b[36mBCE\u001b[0m  |                             \u001b[37mExperiment\u001b[0m                              |\n",
      "|       |   \u001b[37mRNN\u001b[0m    |  \u001b[37mDense\u001b[0m   |  \u001b[1m\u001b[32m(0)\u001b[0m  |   \u001b[1m\u001b[32m(1)\u001b[0m    |  \u001b[1m\u001b[31m(0)\u001b[0m  |  \u001b[1m\u001b[31m(1)\u001b[0m   |  \u001b[1m\u001b[35m(0)\u001b[0m  |    \u001b[1m\u001b[35m(1)\u001b[0m    |  \u001b[1m\u001b[36m(0)\u001b[0m  |  \u001b[1m\u001b[36m(1)\u001b[0m  |                                                                     |\n",
      "+-------+----------+----------+-------+----------+-------+--------+-------+-----------+-------+-------+---------------------------------------------------------------------+\n",
      "|   \u001b[1m\u001b[37m0\u001b[0m   | \u001b[1m\u001b[37m1.00e-03\u001b[0m | \u001b[1m\u001b[37m1.00e-03\u001b[0m | \u001b[1m\u001b[32m0.592\u001b[0m |  \u001b[1m\u001b[32m0.593\u001b[0m   | \u001b[1m\u001b[31m0.664\u001b[0m | \u001b[1m\u001b[31m0.660\u001b[0m  | \u001b[1m\u001b[35m0.618\u001b[0m |   \u001b[1m\u001b[35m0.623\u001b[0m   | \u001b[1m\u001b[36m0.854\u001b[0m | \u001b[1m\u001b[36m0.864\u001b[0m | \u001b[37m1628890370_RNN-100_Flatten_Dense-64-relu_Dropout-08_Dense-2-softmax\u001b[0m |\n",
      "|   \u001b[1m\u001b[37m1\u001b[0m   | \u001b[1m\u001b[37m1.00e-03\u001b[0m | \u001b[1m\u001b[37m1.00e-03\u001b[0m | \u001b[1m\u001b[32m0.613\u001b[0m |  \u001b[1m\u001b[32m0.604\u001b[0m   | \u001b[1m\u001b[31m0.645\u001b[0m | \u001b[1m\u001b[31m0.635\u001b[0m  | \u001b[1m\u001b[35m0.647\u001b[0m |   \u001b[1m\u001b[35m0.642\u001b[0m   | \u001b[1m\u001b[36m0.774\u001b[0m | \u001b[1m\u001b[36m0.802\u001b[0m | \u001b[37m1628890370_RNN-100_Flatten_Dense-64-relu_Dropout-08_Dense-2-softmax\u001b[0m |\n",
      "|   \u001b[1m\u001b[37m2\u001b[0m   | \u001b[1m\u001b[37m1.00e-03\u001b[0m | \u001b[1m\u001b[37m1.00e-03\u001b[0m | \u001b[1m\u001b[32m0.623\u001b[0m |  \u001b[1m\u001b[32m0.611\u001b[0m   | \u001b[1m\u001b[31m0.673\u001b[0m | \u001b[1m\u001b[31m0.659\u001b[0m  | \u001b[1m\u001b[35m0.650\u001b[0m |   \u001b[1m\u001b[35m0.644\u001b[0m   | \u001b[1m\u001b[36m0.729\u001b[0m | \u001b[1m\u001b[36m0.765\u001b[0m | \u001b[37m1628890370_RNN-100_Flatten_Dense-64-relu_Dropout-08_Dense-2-softmax\u001b[0m |\n",
      "|   \u001b[1m\u001b[37m3\u001b[0m   | \u001b[1m\u001b[37m1.00e-03\u001b[0m | \u001b[1m\u001b[37m1.00e-03\u001b[0m | \u001b[1m\u001b[32m0.634\u001b[0m |  \u001b[1m\u001b[32m0.615\u001b[0m   | \u001b[1m\u001b[31m0.676\u001b[0m | \u001b[1m\u001b[31m0.653\u001b[0m  | \u001b[1m\u001b[35m0.662\u001b[0m |   \u001b[1m\u001b[35m0.650\u001b[0m   | \u001b[1m\u001b[36m0.701\u001b[0m | \u001b[1m\u001b[36m0.745\u001b[0m | \u001b[37m1628890370_RNN-100_Flatten_Dense-64-relu_Dropout-08_Dense-2-softmax\u001b[0m |\n",
      "|   \u001b[1m\u001b[37m4\u001b[0m   | \u001b[1m\u001b[37m1.00e-03\u001b[0m | \u001b[1m\u001b[37m1.00e-03\u001b[0m | \u001b[1m\u001b[32m0.636\u001b[0m |  \u001b[1m\u001b[32m0.617\u001b[0m   | \u001b[1m\u001b[31m0.721\u001b[0m | \u001b[1m\u001b[31m0.700\u001b[0m  | \u001b[1m\u001b[35m0.651\u001b[0m |   \u001b[1m\u001b[35m0.639\u001b[0m   | \u001b[1m\u001b[36m0.684\u001b[0m | \u001b[1m\u001b[36m0.732\u001b[0m | \u001b[37m1628890370_RNN-100_Flatten_Dense-64-relu_Dropout-08_Dense-2-softmax\u001b[0m |\n",
      "|   \u001b[1m\u001b[37m5\u001b[0m   | \u001b[1m\u001b[37m1.00e-03\u001b[0m | \u001b[1m\u001b[37m1.00e-03\u001b[0m | \u001b[1m\u001b[32m0.645\u001b[0m |  \u001b[1m\u001b[32m0.617\u001b[0m   | \u001b[1m\u001b[31m0.682\u001b[0m | \u001b[1m\u001b[31m0.659\u001b[0m  | \u001b[1m\u001b[35m0.673\u001b[0m |   \u001b[1m\u001b[35m0.651\u001b[0m   | \u001b[1m\u001b[36m0.667\u001b[0m | \u001b[1m\u001b[36m0.720\u001b[0m | \u001b[37m1628890370_RNN-100_Flatten_Dense-64-relu_Dropout-08_Dense-2-softmax\u001b[0m |\n",
      "|   \u001b[1m\u001b[37m6\u001b[0m   | \u001b[1m\u001b[37m1.00e-03\u001b[0m | \u001b[1m\u001b[37m1.00e-03\u001b[0m | \u001b[1m\u001b[32m0.647\u001b[0m |  \u001b[1m\u001b[32m0.619\u001b[0m   | \u001b[1m\u001b[31m0.695\u001b[0m | \u001b[1m\u001b[31m0.671\u001b[0m  | \u001b[1m\u001b[35m0.670\u001b[0m |   \u001b[1m\u001b[35m0.649\u001b[0m   | \u001b[1m\u001b[36m0.655\u001b[0m | \u001b[1m\u001b[36m0.711\u001b[0m | \u001b[37m1628890370_RNN-100_Flatten_Dense-64-relu_Dropout-08_Dense-2-softmax\u001b[0m |\n",
      "|   \u001b[1m\u001b[37m7\u001b[0m   | \u001b[1m\u001b[37m1.00e-03\u001b[0m | \u001b[1m\u001b[37m1.00e-03\u001b[0m | \u001b[1m\u001b[32m0.649\u001b[0m |  \u001b[1m\u001b[32m0.619\u001b[0m   | \u001b[1m\u001b[31m0.701\u001b[0m | \u001b[1m\u001b[31m0.675\u001b[0m  | \u001b[1m\u001b[35m0.672\u001b[0m |   \u001b[1m\u001b[35m0.648\u001b[0m   | \u001b[1m\u001b[36m0.645\u001b[0m | \u001b[1m\u001b[36m0.704\u001b[0m | \u001b[37m1628890370_RNN-100_Flatten_Dense-64-relu_Dropout-08_Dense-2-softmax\u001b[0m |\n",
      "|   \u001b[1m\u001b[37m8\u001b[0m   | \u001b[1m\u001b[37m1.00e-03\u001b[0m | \u001b[1m\u001b[37m1.00e-03\u001b[0m | \u001b[1m\u001b[32m0.657\u001b[0m |  \u001b[1m\u001b[32m0.622\u001b[0m   | \u001b[1m\u001b[31m0.671\u001b[0m | \u001b[1m\u001b[31m0.647\u001b[0m  | \u001b[1m\u001b[35m0.692\u001b[0m |   \u001b[1m\u001b[35m0.660\u001b[0m   | \u001b[1m\u001b[36m0.639\u001b[0m | \u001b[1m\u001b[36m0.700\u001b[0m | \u001b[37m1628890370_RNN-100_Flatten_Dense-64-relu_Dropout-08_Dense-2-softmax\u001b[0m |\n",
      "|   \u001b[1m\u001b[37m9\u001b[0m   | \u001b[1m\u001b[37m1.00e-03\u001b[0m | \u001b[1m\u001b[37m1.00e-03\u001b[0m | \u001b[1m\u001b[32m0.660\u001b[0m |  \u001b[1m\u001b[32m0.623\u001b[0m   | \u001b[1m\u001b[31m0.698\u001b[0m | \u001b[1m\u001b[31m0.672\u001b[0m  | \u001b[1m\u001b[35m0.685\u001b[0m |   \u001b[1m\u001b[35m0.654\u001b[0m   | \u001b[1m\u001b[36m0.631\u001b[0m | \u001b[1m\u001b[36m0.694\u001b[0m | \u001b[37m1628890370_RNN-100_Flatten_Dense-64-relu_Dropout-08_Dense-2-softmax\u001b[0m |\n",
      "+-------+----------+----------+-------+----------+-------+--------+-------+-----------+-------+-------+---------------------------------------------------------------------+\n"
     ]
    }
   ],
   "source": [
    "model.train(epochs=10, init_logs=False)"
   ]
  },
  {
   "cell_type": "markdown",
   "metadata": {},
   "source": [
    "_"
   ]
  },
  {
   "cell_type": "markdown",
   "metadata": {
    "tags": []
   },
   "source": [
    "_"
   ]
  },
  {
   "cell_type": "markdown",
   "metadata": {},
   "source": [
    "### GRU + Multi-layers FF with Dropout"
   ]
  },
  {
   "cell_type": "markdown",
   "metadata": {},
   "source": [
    "_"
   ]
  },
  {
   "cell_type": "code",
   "execution_count": 10,
   "metadata": {
    "tags": []
   },
   "outputs": [],
   "source": [
    "name = 'GRU-100_Flatten_Dense-64-relu_Dropout-08_Dense-2-softmax'\n",
    "\n",
    "se_hPars['learning_rate'] = 0.05\n",
    "se_hPars['softmax_temperature'] = 10\n",
    "\n",
    "gru = GRU(100, sequences=True)\n",
    "\n",
    "flatten = Flatten()\n",
    "\n",
    "dropout1 = Dropout(keep_prob=0.5)\n",
    "\n",
    "hidden_dense = Dense(64, relu)\n",
    "\n",
    "dropout2 = Dropout(keep_prob=0.5)\n",
    "\n",
    "dense = Dense(2, softmax)\n",
    "\n",
    "layers = [embedding, gru, flatten, dense]\n",
    "\n",
    "model = EpyNN(layers=layers, name=name)"
   ]
  },
  {
   "cell_type": "markdown",
   "metadata": {
    "tags": []
   },
   "source": [
    "_"
   ]
  },
  {
   "cell_type": "code",
   "execution_count": null,
   "metadata": {
    "tags": []
   },
   "outputs": [
    {
     "name": "stdout",
     "output_type": "stream",
     "text": [
      "\u001b[1m--- EpyNN Check --- \u001b[0m\n",
      "\u001b[1mLayer: Embedding\u001b[0m\n",
      "\u001b[1m\u001b[32mcompute_shapes: Embedding\u001b[0m\n",
      "\u001b[1m\u001b[32minitialize_parameters: Embedding\u001b[0m\n",
      "\u001b[1m\u001b[32mforward: Embedding\u001b[0m\n",
      "\u001b[1mLayer: GRU\u001b[0m\n",
      "\u001b[1m\u001b[32mcompute_shapes: GRU\u001b[0m\n",
      "\u001b[1m\u001b[32minitialize_parameters: GRU\u001b[0m\n",
      "\u001b[1m\u001b[32mforward: GRU\u001b[0m\n",
      "\u001b[1mLayer: Flatten\u001b[0m\n",
      "\u001b[1m\u001b[32mcompute_shapes: Flatten\u001b[0m\n",
      "\u001b[1m\u001b[32minitialize_parameters: Flatten\u001b[0m\n",
      "\u001b[1m\u001b[32mforward: Flatten\u001b[0m\n",
      "\u001b[1mLayer: Dense\u001b[0m\n",
      "\u001b[1m\u001b[32mcompute_shapes: Dense\u001b[0m\n",
      "\u001b[1m\u001b[32minitialize_parameters: Dense\u001b[0m\n",
      "\u001b[1m\u001b[32mforward: Dense\u001b[0m\n",
      "\u001b[1mLayer: Dense\u001b[0m\n",
      "\u001b[1m\u001b[36mbackward: Dense\u001b[0m\n",
      "\u001b[1m\u001b[36mcompute_gradients: Dense\u001b[0m\n",
      "\u001b[1mLayer: Flatten\u001b[0m\n",
      "\u001b[1m\u001b[36mbackward: Flatten\u001b[0m\n",
      "\u001b[1m\u001b[36mcompute_gradients: Flatten\u001b[0m\n",
      "\u001b[1mLayer: GRU\u001b[0m\n",
      "\u001b[1m\u001b[36mbackward: GRU\u001b[0m\n",
      "\u001b[1m\u001b[36mcompute_gradients: GRU\u001b[0m\n",
      "\u001b[1mLayer: Embedding\u001b[0m\n",
      "\u001b[1m\u001b[36mbackward: Embedding\u001b[0m\n",
      "\u001b[1m\u001b[36mcompute_gradients: Embedding\u001b[0m\n",
      "\u001b[1m\u001b[37mEpoch 4 - Batch 20/207 - Accuracy: 0.719 Cost: 0.61962 - TIME: 363s RATE: 0.01e/s TTC: 700s\u001b[0mmm\r"
     ]
    }
   ],
   "source": [
    "model.initialize(loss='BCE', seed=1, metrics=['accuracy', 'recall', 'precision'], se_hPars=se_hPars.copy())\n",
    "\n",
    "model.train(epochs=10, init_logs=False)"
   ]
  },
  {
   "cell_type": "markdown",
   "metadata": {},
   "source": [
    "_"
   ]
  },
  {
   "cell_type": "markdown",
   "metadata": {},
   "source": [
    "_"
   ]
  }
 ],
 "metadata": {
  "kernelspec": {
   "display_name": "Python 3",
   "language": "python",
   "name": "python3"
  },
  "language_info": {
   "codemirror_mode": {
    "name": "ipython",
    "version": 3
   },
   "file_extension": ".py",
   "mimetype": "text/x-python",
   "name": "python",
   "nbconvert_exporter": "python",
   "pygments_lexer": "ipython3",
   "version": "3.7.3"
  }
 },
 "nbformat": 4,
 "nbformat_minor": 4
}
