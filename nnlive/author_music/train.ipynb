{
 "cells": [
  {
   "cell_type": "markdown",
   "metadata": {},
   "source": [
    "# Distinguish author-specific patterns in music"
   ]
  },
  {
   "cell_type": "markdown",
   "metadata": {},
   "source": [
    "* Find this notebook at `EpyNN/nnlive/author_music/train.ipynb`.\n",
    "* Regular python code at `EpyNN/nnlive/author_music/train.py`."
   ]
  },
  {
   "cell_type": "markdown",
   "metadata": {},
   "source": [
    "In this notebook we will review:\n",
    "\n",
    "* Handling univariate time series that represent a **huge amount of data points**.\n",
    "* Taking advantage of recurrent architectures (RNN, GRU) over Feed-Forward architectures.\n",
    "* Introducing recall and precision along with accuracy when dealing with unbalanced datasets.\n",
    "\n",
    "**It is assumed that all *basics* notebooks were already reviewed:**\n",
    "\n",
    "* [Basics with Perceptron (P)](../dummy_boolean/train.ipynb)\n",
    "* [Basics with string sequence](../dummy_string/train.ipynb)\n",
    "* [Basics with numerical time-series](../dummy_time/train.ipynb)\n",
    "* [Basics with images](../dummy_image/train.ipynb)"
   ]
  },
  {
   "cell_type": "markdown",
   "metadata": {},
   "source": [
    "**<font color='red'>This notebook does not enhance, extend or replace EpyNN's documentation.</font>**\n",
    "\n",
    "**Relevant documentation pages for the current notebook:**\n",
    "\n",
    "* [Fully Connected (Dense)](https://epynn.net/Dense.html)\n",
    "* [Recurrent Neural Network (RNN)](https://epynn.net/RNN.html)\n",
    "* [Gated Recurrent Unit (GRU)](https://epynn.net/GRU.html)"
   ]
  },
  {
   "cell_type": "markdown",
   "metadata": {},
   "source": [
    "## Environment and data"
   ]
  },
  {
   "cell_type": "markdown",
   "metadata": {},
   "source": [
    "Follow [this link](prepare_dataset.ipynb) for details about data preparation."
   ]
  },
  {
   "cell_type": "markdown",
   "metadata": {},
   "source": [
    "Briefly, raw data are instrumental guitar music from the *True* author and the *False* author. These are raw ``.wav`` files that were normalized, digitalized using a 4-bits encoder and clipped.\n",
    "\n",
    "Commonly, music ``.wav`` files have a sampling rate of 44100 Hz. This means that each second of music represents a numerical time series of length 44100."
   ]
  },
  {
   "cell_type": "code",
   "execution_count": 1,
   "metadata": {},
   "outputs": [
    {
     "name": "stdout",
     "output_type": "stream",
     "text": [
      "\u001b[1m\u001b[32mMake: /media/synthase/beta/EpyNN/nnlive/author_music/datasets\u001b[0m\n",
      "\u001b[1m\u001b[32mMake: /media/synthase/beta/EpyNN/nnlive/author_music/models\u001b[0m\n",
      "\u001b[1m\u001b[32mMake: /media/synthase/beta/EpyNN/nnlive/author_music/plots\u001b[0m\n",
      "\u001b[1m\u001b[32mMake: author_music.tar\u001b[0m\n"
     ]
    }
   ],
   "source": [
    "# EpyNN/nnlive/author_music/train.ipynb\n",
    "# Standard library imports\n",
    "import random\n",
    "\n",
    "# Related third party imports\n",
    "import numpy as np\n",
    "\n",
    "# Local application/library specific imports\n",
    "import nnlibs.initialize\n",
    "from nnlibs.commons.maths import relu, softmax\n",
    "from nnlibs.commons.library import (\n",
    "    configure_directory,\n",
    "    read_model,\n",
    ")\n",
    "from nnlibs.network.models import EpyNN\n",
    "from nnlibs.embedding.models import Embedding\n",
    "from nnlibs.rnn.models import RNN\n",
    "from nnlibs.gru.models import GRU\n",
    "from nnlibs.flatten.models import Flatten\n",
    "from nnlibs.dropout.models import Dropout\n",
    "from nnlibs.dense.models import Dense\n",
    "from prepare_dataset import (\n",
    "    prepare_dataset,\n",
    "    download_music,\n",
    ")\n",
    "from settings import se_hPars\n",
    "\n",
    "\n",
    "########################## CONFIGURE ##########################\n",
    "random.seed(1)\n",
    "\n",
    "np.set_printoptions(threshold=10)\n",
    "\n",
    "np.seterr(all='warn')\n",
    "np.seterr(under='ignore')\n",
    "\n",
    "configure_directory()\n",
    "\n",
    "\n",
    "############################ DATASET ##########################\n",
    "download_music()\n",
    "\n",
    "X_features, Y_label = prepare_dataset(N_SAMPLES=256)"
   ]
  },
  {
   "cell_type": "markdown",
   "metadata": {},
   "source": [
    "Let's inspect."
   ]
  },
  {
   "cell_type": "code",
   "execution_count": 2,
   "metadata": {},
   "outputs": [
    {
     "name": "stdout",
     "output_type": "stream",
     "text": [
      "256\n",
      "(10000,)\n",
      "[10  7  7 ...  9  9  9]\n",
      "1 15\n"
     ]
    }
   ],
   "source": [
    "print(len(X_features))\n",
    "print(X_features[0].shape)\n",
    "print(X_features[0])\n",
    "print(np.min(X_features[0]), np.max(X_features[0]))"
   ]
  },
  {
   "cell_type": "markdown",
   "metadata": {},
   "source": [
    "We clipped the original ``.wav`` files in 1 second clips and thus we could retrieve ``256`` samples. We did that because we do not have an infinite number of data. Since we want more training examples, we need to split the data.\n",
    "\n",
    "Below other problems are discussed:\n",
    "\n",
    "* **Arrays size in memory**: One second represents 44100 data points for each clip and thus ``44100 * 256 = 11.2896e6`` data points in total. More than ten million of these is more likely to overload your RAM or to raise a memory allocation error on most laptops. This is why we resampled the original ``.wav`` files content to 10000 Hz. When doing that, we lose the patterns associated with frequencies greater than 5000 Hz. Alternatively, we could have made clips of shorther duration but then we would miss patterns associated with lower frequencies. Because the guitar emission spectrum is essentially entirely below 5000 Hz, we preferred to apply the resampling method.\n",
    "* **Signal normalization**: Original signals were sequences of 16-bits integers ranging from ``-32768`` to ``32767``. Feeding a neural network which such big values will most likely result in floating point errors. This is why we normalized the original data from each ``.wav`` file within the range \\[0, 1\\].\n",
    "* **Signal digitalization**: While the original signal was a digital signal encoded over 16-bits integers, this results in ``3e-5`` difference between each digit after normalization within the range \\[0, 1\\]. Such thin differences may be difficult to evaluate for the network and convergence in the training phase could turn prohibitively slow. In the context of this notebook, we digitalized from 16-bits to 4-bits integers ranging from ``0`` to ``15`` for a total of 16 bins instead of 65536. \n",
    "* **One-hot encoding**: To simplify the problem and focus on patterns, we will eliminate explicit amplitudes by performing one-hot encoding of the univariate, 4-bits encoded time series.\n",
    "\n",
    "All things being said, we can go ahead."
   ]
  },
  {
   "cell_type": "markdown",
   "metadata": {},
   "source": [
    "## Feed-Forward (FF)"
   ]
  },
  {
   "cell_type": "markdown",
   "metadata": {},
   "source": [
    "We first start with our reference, a Feed-Forward network with dropout regularization."
   ]
  },
  {
   "cell_type": "markdown",
   "metadata": {},
   "source": [
    "### Embedding"
   ]
  },
  {
   "cell_type": "markdown",
   "metadata": {},
   "source": [
    "We scaled input data for each ``.wav`` file before, so we do not need to provide the argument to the class constructor of the *embedding* layer. Note that when ``X_scale=True`` it applies a global scaling over the whole training set. Here we work with independant ``.wav`` files which should be normalized separately.\n",
    "\n",
    "For the embedding, we will one-hot encode time series. See [One-hot encoding of string features](https://epynn.net/nnlive/dummy_string/prepare_dataset.html#One-hot-encoding-of-string-features) for details about the process. Note that while one-hot encoding is mandatory when dealing with string input data, it can also be done with digitized numerical data as is the case here."
   ]
  },
  {
   "cell_type": "code",
   "execution_count": 3,
   "metadata": {},
   "outputs": [],
   "source": [
    "embedding = Embedding(X_data=X_features,\n",
    "                      Y_data=Y_label,\n",
    "                      X_encode=True,\n",
    "                      Y_encode=True,\n",
    "                      batch_size=16,\n",
    "                      relative_size=(2, 1, 0))"
   ]
  },
  {
   "cell_type": "markdown",
   "metadata": {},
   "source": [
    "Let's inspect the shape of the data."
   ]
  },
  {
   "cell_type": "code",
   "execution_count": 4,
   "metadata": {},
   "outputs": [
    {
     "name": "stdout",
     "output_type": "stream",
     "text": [
      "(171, 10000, 16)\n",
      "{1: 71, 0: 100}\n"
     ]
    }
   ],
   "source": [
    "print(embedding.dtrain.X.shape)\n",
    "print(embedding.dtrain.b)"
   ]
  },
  {
   "cell_type": "markdown",
   "metadata": {},
   "source": [
    "We note that we have an unbalanced dataset, with about 2/3 of negative samples."
   ]
  },
  {
   "cell_type": "markdown",
   "metadata": {},
   "source": [
    "### Flatten-(Dense)n with Dropout"
   ]
  },
  {
   "cell_type": "markdown",
   "metadata": {},
   "source": [
    "Let's proceed with the network design and training."
   ]
  },
  {
   "cell_type": "code",
   "execution_count": 5,
   "metadata": {
    "tags": []
   },
   "outputs": [],
   "source": [
    "name = 'Flatten_Dense-64-relu_Dropout05_Dense-2-softmax'\n",
    "\n",
    "se_hPars['learning_rate'] = 0.01\n",
    "se_hPars['softmax_temperature'] = 1\n",
    "\n",
    "layers = [\n",
    "    embedding,\n",
    "    Flatten(),\n",
    "    Dense(64, relu),\n",
    "    Dropout(0.5),\n",
    "    Dense(2, softmax),\n",
    "]\n",
    "\n",
    "model = EpyNN(layers=layers, name=name)"
   ]
  },
  {
   "cell_type": "markdown",
   "metadata": {
    "tags": []
   },
   "source": [
    "We can initialize the model."
   ]
  },
  {
   "cell_type": "code",
   "execution_count": 6,
   "metadata": {
    "tags": []
   },
   "outputs": [
    {
     "name": "stdout",
     "output_type": "stream",
     "text": [
      "\u001b[1m--- EpyNN Check OK! ---                                                                             \u001b[0m\r"
     ]
    }
   ],
   "source": [
    "model.initialize(loss='MSE', seed=1, metrics=['accuracy', 'recall', 'precision'], se_hPars=se_hPars.copy(), end='\\r')"
   ]
  },
  {
   "cell_type": "markdown",
   "metadata": {},
   "source": [
    "Train it for 10 epochs."
   ]
  },
  {
   "cell_type": "code",
   "execution_count": 7,
   "metadata": {},
   "outputs": [
    {
     "name": "stdout",
     "output_type": "stream",
     "text": [
      "\u001b[1m\u001b[37mEpoch 9 - Batch 9/9 - Accuracy: 0.562 Cost: 0.34791 - TIME: 558.08s RATE: 6.99e+00e/s TTC: 0s       \u001b[0m\n",
      "\n",
      "+-------+----------+----------+----------+-------+--------+-------+-----------+-------+--------+-------+------------------------------------------------------------+\n",
      "| \u001b[1m\u001b[37mepoch\u001b[0m |  \u001b[1m\u001b[37mlrate\u001b[0m   |  \u001b[1m\u001b[37mlrate\u001b[0m   | \u001b[1m\u001b[32maccuracy\u001b[0m |       | \u001b[1m\u001b[31mrecall\u001b[0m |       | \u001b[1m\u001b[35mprecision\u001b[0m |       |  \u001b[1m\u001b[36mMSE\u001b[0m   |       |                         \u001b[37mExperiment\u001b[0m                         |\n",
      "|       |  \u001b[37mDense\u001b[0m   |  \u001b[37mDense\u001b[0m   |  \u001b[1m\u001b[32mdtrain\u001b[0m  | \u001b[1m\u001b[32mdval\u001b[0m  | \u001b[1m\u001b[31mdtrain\u001b[0m | \u001b[1m\u001b[31mdval\u001b[0m  |  \u001b[1m\u001b[35mdtrain\u001b[0m   | \u001b[1m\u001b[35mdval\u001b[0m  | \u001b[1m\u001b[36mdtrain\u001b[0m | \u001b[1m\u001b[36mdval\u001b[0m  |                                                            |\n",
      "+-------+----------+----------+----------+-------+--------+-------+-----------+-------+--------+-------+------------------------------------------------------------+\n",
      "|   \u001b[1m\u001b[37m0\u001b[0m   | \u001b[1m\u001b[37m1.00e-02\u001b[0m | \u001b[1m\u001b[37m1.00e-02\u001b[0m |  \u001b[1m\u001b[32m0.532\u001b[0m   | \u001b[1m\u001b[32m0.553\u001b[0m | \u001b[1m\u001b[31m0.230\u001b[0m  | \u001b[1m\u001b[31m0.217\u001b[0m |   \u001b[1m\u001b[35m0.885\u001b[0m   | \u001b[1m\u001b[35m0.833\u001b[0m | \u001b[1m\u001b[36m0.457\u001b[0m  | \u001b[1m\u001b[36m0.439\u001b[0m | \u001b[37m1631718865_Flatten_Dense-64-relu_Dropout05_Dense-2-softmax\u001b[0m |\n",
      "|   \u001b[1m\u001b[37m1\u001b[0m   | \u001b[1m\u001b[37m1.00e-02\u001b[0m | \u001b[1m\u001b[37m1.00e-02\u001b[0m |  \u001b[1m\u001b[32m0.497\u001b[0m   | \u001b[1m\u001b[32m0.553\u001b[0m | \u001b[1m\u001b[31m0.220\u001b[0m  | \u001b[1m\u001b[31m0.283\u001b[0m |   \u001b[1m\u001b[35m0.733\u001b[0m   | \u001b[1m\u001b[35m0.722\u001b[0m | \u001b[1m\u001b[36m0.494\u001b[0m  | \u001b[1m\u001b[36m0.434\u001b[0m | \u001b[37m1631718865_Flatten_Dense-64-relu_Dropout05_Dense-2-softmax\u001b[0m |\n",
      "|   \u001b[1m\u001b[37m2\u001b[0m   | \u001b[1m\u001b[37m1.00e-02\u001b[0m | \u001b[1m\u001b[37m1.00e-02\u001b[0m |  \u001b[1m\u001b[32m0.491\u001b[0m   | \u001b[1m\u001b[32m0.506\u001b[0m | \u001b[1m\u001b[31m0.360\u001b[0m  | \u001b[1m\u001b[31m0.370\u001b[0m |   \u001b[1m\u001b[35m0.610\u001b[0m   | \u001b[1m\u001b[35m0.567\u001b[0m | \u001b[1m\u001b[36m0.487\u001b[0m  | \u001b[1m\u001b[36m0.465\u001b[0m | \u001b[37m1631718865_Flatten_Dense-64-relu_Dropout05_Dense-2-softmax\u001b[0m |\n",
      "|   \u001b[1m\u001b[37m3\u001b[0m   | \u001b[1m\u001b[37m1.00e-02\u001b[0m | \u001b[1m\u001b[37m1.00e-02\u001b[0m |  \u001b[1m\u001b[32m0.532\u001b[0m   | \u001b[1m\u001b[32m0.518\u001b[0m | \u001b[1m\u001b[31m0.480\u001b[0m  | \u001b[1m\u001b[31m0.478\u001b[0m |   \u001b[1m\u001b[35m0.632\u001b[0m   | \u001b[1m\u001b[35m0.564\u001b[0m | \u001b[1m\u001b[36m0.451\u001b[0m  | \u001b[1m\u001b[36m0.451\u001b[0m | \u001b[37m1631718865_Flatten_Dense-64-relu_Dropout05_Dense-2-softmax\u001b[0m |\n",
      "|   \u001b[1m\u001b[37m4\u001b[0m   | \u001b[1m\u001b[37m1.00e-02\u001b[0m | \u001b[1m\u001b[37m1.00e-02\u001b[0m |  \u001b[1m\u001b[32m0.573\u001b[0m   | \u001b[1m\u001b[32m0.506\u001b[0m | \u001b[1m\u001b[31m0.300\u001b[0m  | \u001b[1m\u001b[31m0.152\u001b[0m |   \u001b[1m\u001b[35m0.909\u001b[0m   | \u001b[1m\u001b[35m0.700\u001b[0m | \u001b[1m\u001b[36m0.413\u001b[0m  | \u001b[1m\u001b[36m0.461\u001b[0m | \u001b[37m1631718865_Flatten_Dense-64-relu_Dropout05_Dense-2-softmax\u001b[0m |\n",
      "|   \u001b[1m\u001b[37m5\u001b[0m   | \u001b[1m\u001b[37m1.00e-02\u001b[0m | \u001b[1m\u001b[37m1.00e-02\u001b[0m |  \u001b[1m\u001b[32m0.561\u001b[0m   | \u001b[1m\u001b[32m0.565\u001b[0m | \u001b[1m\u001b[31m0.330\u001b[0m  | \u001b[1m\u001b[31m0.239\u001b[0m |   \u001b[1m\u001b[35m0.805\u001b[0m   | \u001b[1m\u001b[35m0.846\u001b[0m | \u001b[1m\u001b[36m0.420\u001b[0m  | \u001b[1m\u001b[36m0.430\u001b[0m | \u001b[37m1631718865_Flatten_Dense-64-relu_Dropout05_Dense-2-softmax\u001b[0m |\n",
      "|   \u001b[1m\u001b[37m6\u001b[0m   | \u001b[1m\u001b[37m1.00e-02\u001b[0m | \u001b[1m\u001b[37m1.00e-02\u001b[0m |  \u001b[1m\u001b[32m0.702\u001b[0m   | \u001b[1m\u001b[32m0.588\u001b[0m | \u001b[1m\u001b[31m0.540\u001b[0m  | \u001b[1m\u001b[31m0.326\u001b[0m |   \u001b[1m\u001b[35m0.915\u001b[0m   | \u001b[1m\u001b[35m0.789\u001b[0m | \u001b[1m\u001b[36m0.284\u001b[0m  | \u001b[1m\u001b[36m0.392\u001b[0m | \u001b[37m1631718865_Flatten_Dense-64-relu_Dropout05_Dense-2-softmax\u001b[0m |\n",
      "|   \u001b[1m\u001b[37m7\u001b[0m   | \u001b[1m\u001b[37m1.00e-02\u001b[0m | \u001b[1m\u001b[37m1.00e-02\u001b[0m |  \u001b[1m\u001b[32m0.649\u001b[0m   | \u001b[1m\u001b[32m0.494\u001b[0m | \u001b[1m\u001b[31m0.460\u001b[0m  | \u001b[1m\u001b[31m0.239\u001b[0m |   \u001b[1m\u001b[35m0.885\u001b[0m   | \u001b[1m\u001b[35m0.579\u001b[0m | \u001b[1m\u001b[36m0.305\u001b[0m  | \u001b[1m\u001b[36m0.466\u001b[0m | \u001b[37m1631718865_Flatten_Dense-64-relu_Dropout05_Dense-2-softmax\u001b[0m |\n",
      "|   \u001b[1m\u001b[37m8\u001b[0m   | \u001b[1m\u001b[37m1.00e-02\u001b[0m | \u001b[1m\u001b[37m1.00e-02\u001b[0m |  \u001b[1m\u001b[32m0.696\u001b[0m   | \u001b[1m\u001b[32m0.588\u001b[0m | \u001b[1m\u001b[31m0.490\u001b[0m  | \u001b[1m\u001b[31m0.304\u001b[0m |   \u001b[1m\u001b[35m0.980\u001b[0m   | \u001b[1m\u001b[35m0.824\u001b[0m | \u001b[1m\u001b[36m0.298\u001b[0m  | \u001b[1m\u001b[36m0.373\u001b[0m | \u001b[37m1631718865_Flatten_Dense-64-relu_Dropout05_Dense-2-softmax\u001b[0m |\n",
      "|   \u001b[1m\u001b[37m9\u001b[0m   | \u001b[1m\u001b[37m1.00e-02\u001b[0m | \u001b[1m\u001b[37m1.00e-02\u001b[0m |  \u001b[1m\u001b[32m0.678\u001b[0m   | \u001b[1m\u001b[32m0.541\u001b[0m | \u001b[1m\u001b[31m0.470\u001b[0m  | \u001b[1m\u001b[31m0.261\u001b[0m |   \u001b[1m\u001b[35m0.959\u001b[0m   | \u001b[1m\u001b[35m0.706\u001b[0m | \u001b[1m\u001b[36m0.314\u001b[0m  | \u001b[1m\u001b[36m0.426\u001b[0m | \u001b[37m1631718865_Flatten_Dense-64-relu_Dropout05_Dense-2-softmax\u001b[0m |\n",
      "+-------+----------+----------+----------+-------+--------+-------+-----------+-------+--------+-------+------------------------------------------------------------+\n"
     ]
    }
   ],
   "source": [
    "model.train(epochs=10, init_logs=False)"
   ]
  },
  {
   "cell_type": "markdown",
   "metadata": {},
   "source": [
    "The model could not reproduce the training data very well while it is almost not representative at all of the validation data.\n",
    "\n",
    "We can still comment the **recall** and **precision** metrics:\n",
    "\n",
    "* **Recall**: This represents *the fraction of positive instances retrieved by the model*.\n",
    "* **Precision**: This represents *the fraction of positive instances within the labels predicted as positive*. \n",
    "\n",
    "Said differently:\n",
    "\n",
    "* Given **tp** the *true positive* samples.\n",
    "* Given **tn** the *true negative* samples.\n",
    "* Given **fp** the *false positive* samples.\n",
    "* Given **fn** the *false negative* samples.\n",
    "* Then **recall** = ``tp / (tp+fn)`` and **precision** = ``tp / (tp+fp)``.\n",
    "\n",
    "For code, maths and pictures behind the *Dense* layer, follow this link:\n",
    "\n",
    "* [Fully Connected (Dense)](https://epynn.net/Dense.html)"
   ]
  },
  {
   "cell_type": "markdown",
   "metadata": {},
   "source": [
    "## Recurrent Architectures"
   ]
  },
  {
   "cell_type": "markdown",
   "metadata": {},
   "source": [
    "Recurrent architectures can make a difference here because they process time series one measurement by one measurement. \n",
    "\n",
    "Impotantly, the number of time steps **does not define the size of parameters (weight/bias) array** while in the Feed-Forward network this is the case. \n",
    "\n",
    "For the *dense*, the shape of W is ``n, u`` given ``n`` the number of nodes in the previous layer and ``u`` in the current layer. So when a *dense* layer follows the *embedding* layer, the number of nodes in the *embedding* layer is equal to the number of features, herein the number of time steps ``10 000``. \n",
    "\n",
    "By contrast, the *RNN* layer has parameters shape which depends on the number of units and the uni/multivariate nature of each measurement, but not depending of the number of time steps. In the previous situation there are likely too many parameters and the computation does not converge.\n",
    "\n",
    "Of note, this is because recurrent layers parameters are not defined with respect to sequence length, as they can handle data of variable length."
   ]
  },
  {
   "cell_type": "markdown",
   "metadata": {},
   "source": [
    "### Embedding"
   ]
  },
  {
   "cell_type": "markdown",
   "metadata": {},
   "source": [
    "For the embedding, we will one-hot encode time series. See [One-hot encoding of string features](https://epynn.net/nnlive/dummy_string/prepare_dataset.html#One-hot-encoding-of-string-features) for details about the process which follows the same logic and requirements regardless the data-type."
   ]
  },
  {
   "cell_type": "code",
   "execution_count": 8,
   "metadata": {},
   "outputs": [],
   "source": [
    "embedding = Embedding(X_data=X_features,\n",
    "                      Y_data=Y_label,\n",
    "                      X_encode=True,\n",
    "                      Y_encode=True,\n",
    "                      batch_size=16,\n",
    "                      relative_size=(2, 1, 0))"
   ]
  },
  {
   "cell_type": "markdown",
   "metadata": {},
   "source": [
    "Let's inspect the data shape."
   ]
  },
  {
   "cell_type": "code",
   "execution_count": 9,
   "metadata": {},
   "outputs": [
    {
     "name": "stdout",
     "output_type": "stream",
     "text": [
      "(171, 10000, 16)\n"
     ]
    }
   ],
   "source": [
    "print(embedding.dtrain.X.shape)"
   ]
  },
  {
   "cell_type": "markdown",
   "metadata": {},
   "source": [
    "### RNN(sequences=True)-Flatten-(Dense)n with Dropout"
   ]
  },
  {
   "cell_type": "markdown",
   "metadata": {},
   "source": [
    "Time to clarify a point:\n",
    "\n",
    "* We have a multivariate like time series (one-hot encoded univariate series) with 10000 time steps.\n",
    "* The 10000 or **length of sequence is unrelated to the number of units in the RNN layer**. The number of units may be anything, the whole sequence will be processed in its entirety.\n",
    "* In recurrent layers, parameters shape is related to the number of units and the vocabulary size, not to the length of the sequence. That's why such architectures can handle input sequences of variable length.\n"
   ]
  },
  {
   "cell_type": "code",
   "execution_count": 10,
   "metadata": {
    "tags": []
   },
   "outputs": [],
   "source": [
    "name = 'RNN-1-Seq_Flatten_Dense-64-relu_Dropout05_Dense-2-softmax'\n",
    "\n",
    "se_hPars['learning_rate'] = 0.01\n",
    "se_hPars['softmax_temperature'] = 1\n",
    "\n",
    "layers = [\n",
    "    embedding,\n",
    "    RNN(1, sequences=True),\n",
    "    Flatten(),\n",
    "    Dense(64, relu),\n",
    "    Dropout(0.5),\n",
    "    Dense(2, softmax),\n",
    "]\n",
    "\n",
    "model = EpyNN(layers=layers, name=name)"
   ]
  },
  {
   "cell_type": "markdown",
   "metadata": {
    "tags": []
   },
   "source": [
    "We initialize the model."
   ]
  },
  {
   "cell_type": "code",
   "execution_count": 11,
   "metadata": {
    "tags": []
   },
   "outputs": [
    {
     "name": "stdout",
     "output_type": "stream",
     "text": [
      "\u001b[1m--- EpyNN Check OK! ---                                                                             \u001b[0m\r"
     ]
    }
   ],
   "source": [
    "model.initialize(loss='MSE', seed=1, metrics=['accuracy', 'recall', 'precision'], se_hPars=se_hPars.copy(), end='\\r')"
   ]
  },
  {
   "cell_type": "markdown",
   "metadata": {},
   "source": [
    "We will only train for 3 epochs."
   ]
  },
  {
   "cell_type": "code",
   "execution_count": 12,
   "metadata": {},
   "outputs": [
    {
     "name": "stdout",
     "output_type": "stream",
     "text": [
      "\u001b[1m\u001b[37mEpoch 2 - Batch 9/9 - Accuracy: 0.938 Cost: 0.04189 - TIME: 64.02s RATE: 5.45e-01e/s TTC: 4s        \u001b[0m\n",
      "\n",
      "+-------+----------+----------+----------+----------+-------+--------+-------+-----------+-------+--------+-------+----------------------------------------------------------------------+\n",
      "| \u001b[1m\u001b[37mepoch\u001b[0m |  \u001b[1m\u001b[37mlrate\u001b[0m   |  \u001b[1m\u001b[37mlrate\u001b[0m   |  \u001b[1m\u001b[37mlrate\u001b[0m   | \u001b[1m\u001b[32maccuracy\u001b[0m |       | \u001b[1m\u001b[31mrecall\u001b[0m |       | \u001b[1m\u001b[35mprecision\u001b[0m |       |  \u001b[1m\u001b[36mMSE\u001b[0m   |       |                              \u001b[37mExperiment\u001b[0m                              |\n",
      "|       |   \u001b[37mRNN\u001b[0m    |  \u001b[37mDense\u001b[0m   |  \u001b[37mDense\u001b[0m   |  \u001b[1m\u001b[32mdtrain\u001b[0m  | \u001b[1m\u001b[32mdval\u001b[0m  | \u001b[1m\u001b[31mdtrain\u001b[0m | \u001b[1m\u001b[31mdval\u001b[0m  |  \u001b[1m\u001b[35mdtrain\u001b[0m   | \u001b[1m\u001b[35mdval\u001b[0m  | \u001b[1m\u001b[36mdtrain\u001b[0m | \u001b[1m\u001b[36mdval\u001b[0m  |                                                                      |\n",
      "+-------+----------+----------+----------+----------+-------+--------+-------+-----------+-------+--------+-------+----------------------------------------------------------------------+\n",
      "|   \u001b[1m\u001b[37m0\u001b[0m   | \u001b[1m\u001b[37m1.00e-02\u001b[0m | \u001b[1m\u001b[37m1.00e-02\u001b[0m | \u001b[1m\u001b[37m1.00e-02\u001b[0m |  \u001b[1m\u001b[32m0.930\u001b[0m   | \u001b[1m\u001b[32m0.741\u001b[0m | \u001b[1m\u001b[31m0.990\u001b[0m  | \u001b[1m\u001b[31m0.891\u001b[0m |   \u001b[1m\u001b[35m0.900\u001b[0m   | \u001b[1m\u001b[35m0.707\u001b[0m | \u001b[1m\u001b[36m0.050\u001b[0m  | \u001b[1m\u001b[36m0.180\u001b[0m | \u001b[37m1631719527_RNN-1-Seq_Flatten_Dense-64-relu_Dropout05_Dense-2-softmax\u001b[0m |\n",
      "|   \u001b[1m\u001b[37m1\u001b[0m   | \u001b[1m\u001b[37m1.00e-02\u001b[0m | \u001b[1m\u001b[37m1.00e-02\u001b[0m | \u001b[1m\u001b[37m1.00e-02\u001b[0m |  \u001b[1m\u001b[32m0.965\u001b[0m   | \u001b[1m\u001b[32m0.718\u001b[0m | \u001b[1m\u001b[31m0.990\u001b[0m  | \u001b[1m\u001b[31m0.826\u001b[0m |   \u001b[1m\u001b[35m0.952\u001b[0m   | \u001b[1m\u001b[35m0.704\u001b[0m | \u001b[1m\u001b[36m0.031\u001b[0m  | \u001b[1m\u001b[36m0.179\u001b[0m | \u001b[37m1631719527_RNN-1-Seq_Flatten_Dense-64-relu_Dropout05_Dense-2-softmax\u001b[0m |\n",
      "|   \u001b[1m\u001b[37m2\u001b[0m   | \u001b[1m\u001b[37m1.00e-02\u001b[0m | \u001b[1m\u001b[37m1.00e-02\u001b[0m | \u001b[1m\u001b[37m1.00e-02\u001b[0m |  \u001b[1m\u001b[32m0.988\u001b[0m   | \u001b[1m\u001b[32m0.835\u001b[0m | \u001b[1m\u001b[31m0.990\u001b[0m  | \u001b[1m\u001b[31m0.848\u001b[0m |   \u001b[1m\u001b[35m0.990\u001b[0m   | \u001b[1m\u001b[35m0.848\u001b[0m | \u001b[1m\u001b[36m0.018\u001b[0m  | \u001b[1m\u001b[36m0.134\u001b[0m | \u001b[37m1631719527_RNN-1-Seq_Flatten_Dense-64-relu_Dropout05_Dense-2-softmax\u001b[0m |\n",
      "+-------+----------+----------+----------+----------+-------+--------+-------+-----------+-------+--------+-------+----------------------------------------------------------------------+\n"
     ]
    }
   ],
   "source": [
    "model.train(epochs=3, init_logs=False)"
   ]
  },
  {
   "cell_type": "markdown",
   "metadata": {},
   "source": [
    "While we still observe overfitting, it is reduced compared to the Feed-Forward network and the accuracy on the validation set is higher. This model seems, so far, more appropriate to the problem. \n",
    "\n",
    "For code, maths and pictures behind the *RNN* layer, follow this link:\n",
    "\n",
    "* [Recurrent Neural Network (RNN)](https://epynn.net/RNN.html)"
   ]
  },
  {
   "cell_type": "markdown",
   "metadata": {},
   "source": [
    "### GRU(sequences=True)-Flatten-(Dense)n with Dropout"
   ]
  },
  {
   "cell_type": "markdown",
   "metadata": {},
   "source": [
    "Let's now try a more evolved recurrent architecture."
   ]
  },
  {
   "cell_type": "code",
   "execution_count": 13,
   "metadata": {
    "tags": []
   },
   "outputs": [
    {
     "name": "stdout",
     "output_type": "stream",
     "text": [
      "\u001b[1m\u001b[37mEpoch 2 - Batch 9/9 - Accuracy: 0.812 Cost: 0.14584 - TIME: 113.26s RATE: 1.43e-01e/s TTC: 14s      \u001b[0m\n",
      "\n",
      "+-------+----------+----------+----------+----------+-------+--------+-------+-----------+-------+--------+-------+----------------------------------------------------------------------+\n",
      "| \u001b[1m\u001b[37mepoch\u001b[0m |  \u001b[1m\u001b[37mlrate\u001b[0m   |  \u001b[1m\u001b[37mlrate\u001b[0m   |  \u001b[1m\u001b[37mlrate\u001b[0m   | \u001b[1m\u001b[32maccuracy\u001b[0m |       | \u001b[1m\u001b[31mrecall\u001b[0m |       | \u001b[1m\u001b[35mprecision\u001b[0m |       |  \u001b[1m\u001b[36mMSE\u001b[0m   |       |                              \u001b[37mExperiment\u001b[0m                              |\n",
      "|       |   \u001b[37mGRU\u001b[0m    |  \u001b[37mDense\u001b[0m   |  \u001b[37mDense\u001b[0m   |  \u001b[1m\u001b[32mdtrain\u001b[0m  | \u001b[1m\u001b[32mdval\u001b[0m  | \u001b[1m\u001b[31mdtrain\u001b[0m | \u001b[1m\u001b[31mdval\u001b[0m  |  \u001b[1m\u001b[35mdtrain\u001b[0m   | \u001b[1m\u001b[35mdval\u001b[0m  | \u001b[1m\u001b[36mdtrain\u001b[0m | \u001b[1m\u001b[36mdval\u001b[0m  |                                                                      |\n",
      "+-------+----------+----------+----------+----------+-------+--------+-------+-----------+-------+--------+-------+----------------------------------------------------------------------+\n",
      "|   \u001b[1m\u001b[37m0\u001b[0m   | \u001b[1m\u001b[37m1.00e-02\u001b[0m | \u001b[1m\u001b[37m1.00e-02\u001b[0m | \u001b[1m\u001b[37m1.00e-02\u001b[0m |  \u001b[1m\u001b[32m0.585\u001b[0m   | \u001b[1m\u001b[32m0.541\u001b[0m | \u001b[1m\u001b[31m1.000\u001b[0m  | \u001b[1m\u001b[31m1.000\u001b[0m |   \u001b[1m\u001b[35m0.585\u001b[0m   | \u001b[1m\u001b[35m0.541\u001b[0m | \u001b[1m\u001b[36m0.224\u001b[0m  | \u001b[1m\u001b[36m0.273\u001b[0m | \u001b[37m1631719591_GRU-1-Seq_Flatten_Dense-64-relu_Dropout05_Dense-2-softmax\u001b[0m |\n",
      "|   \u001b[1m\u001b[37m1\u001b[0m   | \u001b[1m\u001b[37m1.00e-02\u001b[0m | \u001b[1m\u001b[37m1.00e-02\u001b[0m | \u001b[1m\u001b[37m1.00e-02\u001b[0m |  \u001b[1m\u001b[32m0.848\u001b[0m   | \u001b[1m\u001b[32m0.647\u001b[0m | \u001b[1m\u001b[31m0.760\u001b[0m  | \u001b[1m\u001b[31m0.457\u001b[0m |   \u001b[1m\u001b[35m0.974\u001b[0m   | \u001b[1m\u001b[35m0.808\u001b[0m | \u001b[1m\u001b[36m0.158\u001b[0m  | \u001b[1m\u001b[36m0.233\u001b[0m | \u001b[37m1631719591_GRU-1-Seq_Flatten_Dense-64-relu_Dropout05_Dense-2-softmax\u001b[0m |\n",
      "|   \u001b[1m\u001b[37m2\u001b[0m   | \u001b[1m\u001b[37m1.00e-02\u001b[0m | \u001b[1m\u001b[37m1.00e-02\u001b[0m | \u001b[1m\u001b[37m1.00e-02\u001b[0m |  \u001b[1m\u001b[32m0.889\u001b[0m   | \u001b[1m\u001b[32m0.588\u001b[0m | \u001b[1m\u001b[31m1.000\u001b[0m  | \u001b[1m\u001b[31m0.891\u001b[0m |   \u001b[1m\u001b[35m0.840\u001b[0m   | \u001b[1m\u001b[35m0.577\u001b[0m | \u001b[1m\u001b[36m0.095\u001b[0m  | \u001b[1m\u001b[36m0.251\u001b[0m | \u001b[37m1631719591_GRU-1-Seq_Flatten_Dense-64-relu_Dropout05_Dense-2-softmax\u001b[0m |\n",
      "+-------+----------+----------+----------+----------+-------+--------+-------+-----------+-------+--------+-------+----------------------------------------------------------------------+\n"
     ]
    }
   ],
   "source": [
    "name = 'GRU-1-Seq_Flatten_Dense-64-relu_Dropout05_Dense-2-softmax'\n",
    "\n",
    "se_hPars['learning_rate'] = 0.01\n",
    "se_hPars['softmax_temperature'] = 1\n",
    "\n",
    "layers = [\n",
    "    embedding,\n",
    "    GRU(1, sequences=True),\n",
    "    Flatten(),\n",
    "    Dense(64, relu),\n",
    "    Dropout(0.5),\n",
    "    Dense(2, softmax),\n",
    "]\n",
    "\n",
    "model = EpyNN(layers=layers, name=name)\n",
    "\n",
    "model.initialize(loss='MSE', seed=1, metrics=['accuracy', 'recall', 'precision'], se_hPars=se_hPars.copy(), end='\\r')\n",
    "\n",
    "model.train(epochs=3, init_logs=False)"
   ]
  },
  {
   "cell_type": "markdown",
   "metadata": {
    "tags": []
   },
   "source": [
    "In the context of this example, the GRU-based network performs poorly compared to both Feed-Forward and RNN-based networks. While we may attempt to optimize using more samples, different batch size, decaying learning rate and many other things, this teaches us that the more complex architecture is not necessarily the more appropriate one. This always depends on the context and most importantly computational and human time required with respect to anticipated possibility of improvements.\n",
    "\n",
    "For code, maths and pictures behind the *GRU* layer, follow this link:\n",
    "\n",
    "* [Gated Recurrent Unit (GRU)](https://epynn.net/GRU.html)"
   ]
  },
  {
   "cell_type": "markdown",
   "metadata": {},
   "source": [
    "## Write, read & Predict"
   ]
  },
  {
   "cell_type": "markdown",
   "metadata": {},
   "source": [
    "A trained model can be written on disk such as:"
   ]
  },
  {
   "cell_type": "code",
   "execution_count": 14,
   "metadata": {},
   "outputs": [
    {
     "name": "stdout",
     "output_type": "stream",
     "text": [
      "\u001b[1m\u001b[32mMake: /media/synthase/beta/EpyNN/nnlive/author_music/models/1631719591_GRU-1-Seq_Flatten_Dense-64-relu_Dropout05_Dense-2-softmax.pickle\u001b[0m\n"
     ]
    }
   ],
   "source": [
    "model.write()\n",
    "\n",
    "# model.write(path=/your/custom/path)"
   ]
  },
  {
   "cell_type": "markdown",
   "metadata": {},
   "source": [
    "A model can be read from disk such as:"
   ]
  },
  {
   "cell_type": "code",
   "execution_count": 15,
   "metadata": {},
   "outputs": [],
   "source": [
    "model = read_model()\n",
    "\n",
    "# model = read_model(path=/your/custom/path)"
   ]
  },
  {
   "cell_type": "markdown",
   "metadata": {},
   "source": [
    "We can retrieve new features and predict on them."
   ]
  },
  {
   "cell_type": "code",
   "execution_count": 16,
   "metadata": {},
   "outputs": [],
   "source": [
    "X_features, _ = prepare_dataset(N_SAMPLES=10)\n",
    "\n",
    "dset = model.predict(X_features, X_encode=True)"
   ]
  },
  {
   "cell_type": "markdown",
   "metadata": {},
   "source": [
    "Results can be extracted such as:"
   ]
  },
  {
   "cell_type": "code",
   "execution_count": 17,
   "metadata": {},
   "outputs": [
    {
     "name": "stdout",
     "output_type": "stream",
     "text": [
      "0 0 [0.62348587 0.37651413]\n",
      "1 0 [0.63667543 0.36332457]\n",
      "2 0 [0.81301845 0.18698155]\n",
      "3 0 [0.95380408 0.04619592]\n",
      "4 0 [0.99581376 0.00418624]\n",
      "5 0 [0.79320167 0.20679833]\n",
      "6 0 [0.62564515 0.37435485]\n",
      "7 0 [0.64342594 0.35657406]\n",
      "8 0 [0.56949781 0.43050219]\n",
      "9 0 [0.5813419 0.4186581]\n"
     ]
    }
   ],
   "source": [
    "for n, pred, probs in zip(dset.ids, dset.P, dset.A):\n",
    "    print(n, pred, probs)"
   ]
  },
  {
   "cell_type": "markdown",
   "metadata": {},
   "source": [
    "Note that we wrote to the disk the last model we computed, which was the poorest in terms on performance. Therefore, predictions achieved here are not expected to be appropriate. The RNN-based network should be saved instead and will provide more accurate results."
   ]
  }
 ],
 "metadata": {
  "kernelspec": {
   "display_name": "Python 3",
   "language": "python",
   "name": "python3"
  },
  "language_info": {
   "codemirror_mode": {
    "name": "ipython",
    "version": 3
   },
   "file_extension": ".py",
   "mimetype": "text/x-python",
   "name": "python",
   "nbconvert_exporter": "python",
   "pygments_lexer": "ipython3",
   "version": "3.7.3"
  }
 },
 "nbformat": 4,
 "nbformat_minor": 4
}
