{
 "cells": [
  {
   "cell_type": "markdown",
   "metadata": {},
   "source": [
    "# Distinguish author-specific patterns in music"
   ]
  },
  {
   "cell_type": "markdown",
   "metadata": {},
   "source": [
    "## Environment and data embedding"
   ]
  },
  {
   "cell_type": "code",
   "execution_count": 1,
   "metadata": {},
   "outputs": [],
   "source": [
    "# EpyNN/nnlive/author_music/train.ipynb\n",
    "# Standard library imports\n",
    "import random\n",
    "\n",
    "# Related third party imports\n",
    "import numpy as np\n",
    "\n",
    "# Local application/library specific imports\n",
    "import nnlibs.initialize\n",
    "from nnlibs.commons.maths import relu, softmax\n",
    "from nnlibs.commons.library import (\n",
    "    configure_directory,\n",
    "    read_model,\n",
    ")\n",
    "from nnlibs.network.models import EpyNN\n",
    "from nnlibs.embedding.models import Embedding\n",
    "from nnlibs.rnn.models import RNN\n",
    "from nnlibs.lstm.models import LSTM\n",
    "from nnlibs.gru.models import GRU\n",
    "from nnlibs.flatten.models import Flatten\n",
    "from nnlibs.dropout.models import Dropout\n",
    "from nnlibs.dense.models import Dense\n",
    "from prepare_dataset import prepare_dataset\n",
    "from settings import se_hPars\n",
    "\n",
    "\n",
    "########################## CONFIGURE ##########################\n",
    "random.seed(1)\n",
    "\n",
    "np.set_printoptions(threshold=10)\n",
    "\n",
    "np.seterr(all='warn')\n",
    "np.seterr(under='ignore')\n",
    "\n",
    "\n",
    "############################ DATASET ##########################\n",
    "X_features, Y_label = prepare_dataset(N_SAMPLES=196)\n",
    "\n",
    "embedding = Embedding(X_data=X_features,\n",
    "                      Y_data=Y_label,\n",
    "                      X_encode=True,\n",
    "                      Y_encode=True,\n",
    "                      batch_size=32,\n",
    "                      relative_size=(2, 1, 0))"
   ]
  },
  {
   "cell_type": "markdown",
   "metadata": {},
   "source": [
    "## Feed-Forward (FF)"
   ]
  },
  {
   "cell_type": "code",
   "execution_count": 2,
   "metadata": {},
   "outputs": [],
   "source": [
    "flatten = Flatten()\n",
    "\n",
    "hidden_dense = Dense(64, relu)\n",
    "\n",
    "dense = Dense(2, softmax)\n",
    "\n",
    "layers = [embedding, flatten, hidden_dense, dense]\n",
    "\n",
    "model = EpyNN(layers=layers, name='None')"
   ]
  },
  {
   "cell_type": "code",
   "execution_count": 3,
   "metadata": {},
   "outputs": [
    {
     "name": "stdout",
     "output_type": "stream",
     "text": [
      "\u001b[1m--- EpyNN Check --- \u001b[0m\n",
      "\u001b[1mLayer: Embedding\u001b[0m\n",
      "\u001b[1m\u001b[32mcompute_shapes: Embedding\u001b[0m\n",
      "\u001b[1m\u001b[32minitialize_parameters: Embedding\u001b[0m\n",
      "\u001b[1m\u001b[32mforward: Embedding\u001b[0m\n",
      "\u001b[1mLayer: Flatten\u001b[0m\n",
      "\u001b[1m\u001b[32mcompute_shapes: Flatten\u001b[0m\n",
      "\u001b[1m\u001b[32minitialize_parameters: Flatten\u001b[0m\n",
      "\u001b[1m\u001b[32mforward: Flatten\u001b[0m\n",
      "\u001b[1mLayer: Dense\u001b[0m\n",
      "\u001b[1m\u001b[32mcompute_shapes: Dense\u001b[0m\n",
      "\u001b[1m\u001b[32minitialize_parameters: Dense\u001b[0m\n",
      "\u001b[1m\u001b[32mforward: Dense\u001b[0m\n",
      "\u001b[1mLayer: Dense\u001b[0m\n",
      "\u001b[1m\u001b[32mcompute_shapes: Dense\u001b[0m\n",
      "\u001b[1m\u001b[32minitialize_parameters: Dense\u001b[0m\n",
      "\u001b[1m\u001b[32mforward: Dense\u001b[0m\n",
      "\u001b[1mLayer: Dense\u001b[0m\n",
      "\u001b[1m\u001b[36mbackward: Dense\u001b[0m\n",
      "\u001b[1m\u001b[36mcompute_gradients: Dense\u001b[0m\n",
      "\u001b[1mLayer: Dense\u001b[0m\n",
      "\u001b[1m\u001b[36mbackward: Dense\u001b[0m\n",
      "\u001b[1m\u001b[36mcompute_gradients: Dense\u001b[0m\n",
      "\u001b[1mLayer: Flatten\u001b[0m\n",
      "\u001b[1m\u001b[36mbackward: Flatten\u001b[0m\n",
      "\u001b[1m\u001b[36mcompute_gradients: Flatten\u001b[0m\n",
      "\u001b[1mLayer: Embedding\u001b[0m\n",
      "\u001b[1m\u001b[36mbackward: Embedding\u001b[0m\n",
      "\u001b[1m\u001b[36mcompute_gradients: Embedding\u001b[0m\n"
     ]
    }
   ],
   "source": [
    "model.initialize(loss='BCE', se_hPars=se_hPars, seed=1)"
   ]
  },
  {
   "cell_type": "code",
   "execution_count": 4,
   "metadata": {},
   "outputs": [
    {
     "name": "stdout",
     "output_type": "stream",
     "text": [
      "+-------+----------+----------+-------+----------+--------+--------+-----------------+\n",
      "| \u001b[1m\u001b[37mepoch\u001b[0m |  \u001b[1m\u001b[37mlrate\u001b[0m   |  \u001b[1m\u001b[37mlrate\u001b[0m   |       | \u001b[1m\u001b[32maccuracy\u001b[0m |        |  \u001b[1m\u001b[31mBCE\u001b[0m   |   \u001b[37mExperiment\u001b[0m    |\n",
      "|       |  \u001b[37mDense\u001b[0m   |  \u001b[37mDense\u001b[0m   |  \u001b[1m\u001b[32m(0)\u001b[0m  |   \u001b[1m\u001b[32m(1)\u001b[0m    |  \u001b[1m\u001b[31m(0)\u001b[0m   |  \u001b[1m\u001b[31m(1)\u001b[0m   |                 |\n",
      "+-------+----------+----------+-------+----------+--------+--------+-----------------+\n",
      "|   \u001b[1m\u001b[37m0\u001b[0m   | \u001b[1m\u001b[37m1.00e-01\u001b[0m | \u001b[1m\u001b[37m1.00e-01\u001b[0m | \u001b[1m\u001b[32m0.565\u001b[0m |  \u001b[1m\u001b[32m0.492\u001b[0m   | \u001b[1m\u001b[31m10.019\u001b[0m | \u001b[1m\u001b[31m11.690\u001b[0m | \u001b[37m1628548943_None\u001b[0m |\n",
      "|   \u001b[1m\u001b[37m2\u001b[0m   | \u001b[1m\u001b[37m1.00e-01\u001b[0m | \u001b[1m\u001b[37m1.00e-01\u001b[0m | \u001b[1m\u001b[32m0.565\u001b[0m |  \u001b[1m\u001b[32m0.492\u001b[0m   | \u001b[1m\u001b[31m10.019\u001b[0m | \u001b[1m\u001b[31m11.690\u001b[0m | \u001b[37m1628548943_None\u001b[0m |\n",
      "|   \u001b[1m\u001b[37m4\u001b[0m   | \u001b[1m\u001b[37m1.00e-01\u001b[0m | \u001b[1m\u001b[37m1.00e-01\u001b[0m | \u001b[1m\u001b[32m0.565\u001b[0m |  \u001b[1m\u001b[32m0.492\u001b[0m   | \u001b[1m\u001b[31m10.019\u001b[0m | \u001b[1m\u001b[31m11.690\u001b[0m | \u001b[37m1628548943_None\u001b[0m |\n",
      "|   \u001b[1m\u001b[37m6\u001b[0m   | \u001b[1m\u001b[37m1.00e-01\u001b[0m | \u001b[1m\u001b[37m1.00e-01\u001b[0m | \u001b[1m\u001b[32m0.565\u001b[0m |  \u001b[1m\u001b[32m0.492\u001b[0m   | \u001b[1m\u001b[31m10.019\u001b[0m | \u001b[1m\u001b[31m11.690\u001b[0m | \u001b[37m1628548943_None\u001b[0m |\n",
      "|   \u001b[1m\u001b[37m8\u001b[0m   | \u001b[1m\u001b[37m1.00e-01\u001b[0m | \u001b[1m\u001b[37m1.00e-01\u001b[0m | \u001b[1m\u001b[32m0.565\u001b[0m |  \u001b[1m\u001b[32m0.492\u001b[0m   | \u001b[1m\u001b[31m10.019\u001b[0m | \u001b[1m\u001b[31m11.690\u001b[0m | \u001b[37m1628548943_None\u001b[0m |\n",
      "|  \u001b[1m\u001b[37m10\u001b[0m   | \u001b[1m\u001b[37m1.00e-01\u001b[0m | \u001b[1m\u001b[37m1.00e-01\u001b[0m | \u001b[1m\u001b[32m0.565\u001b[0m |  \u001b[1m\u001b[32m0.492\u001b[0m   | \u001b[1m\u001b[31m10.019\u001b[0m | \u001b[1m\u001b[31m11.690\u001b[0m | \u001b[37m1628548943_None\u001b[0m |\n",
      "|  \u001b[1m\u001b[37m12\u001b[0m   | \u001b[1m\u001b[37m1.00e-01\u001b[0m | \u001b[1m\u001b[37m1.00e-01\u001b[0m | \u001b[1m\u001b[32m0.565\u001b[0m |  \u001b[1m\u001b[32m0.492\u001b[0m   | \u001b[1m\u001b[31m10.019\u001b[0m | \u001b[1m\u001b[31m11.690\u001b[0m | \u001b[37m1628548943_None\u001b[0m |\n",
      "|  \u001b[1m\u001b[37m14\u001b[0m   | \u001b[1m\u001b[37m1.00e-01\u001b[0m | \u001b[1m\u001b[37m1.00e-01\u001b[0m | \u001b[1m\u001b[32m0.565\u001b[0m |  \u001b[1m\u001b[32m0.492\u001b[0m   | \u001b[1m\u001b[31m10.019\u001b[0m | \u001b[1m\u001b[31m11.690\u001b[0m | \u001b[37m1628548943_None\u001b[0m |\n",
      "|  \u001b[1m\u001b[37m16\u001b[0m   | \u001b[1m\u001b[37m1.00e-01\u001b[0m | \u001b[1m\u001b[37m1.00e-01\u001b[0m | \u001b[1m\u001b[32m0.565\u001b[0m |  \u001b[1m\u001b[32m0.492\u001b[0m   | \u001b[1m\u001b[31m10.019\u001b[0m | \u001b[1m\u001b[31m11.690\u001b[0m | \u001b[37m1628548943_None\u001b[0m |\n",
      "|  \u001b[1m\u001b[37m18\u001b[0m   | \u001b[1m\u001b[37m1.00e-01\u001b[0m | \u001b[1m\u001b[37m1.00e-01\u001b[0m | \u001b[1m\u001b[32m0.565\u001b[0m |  \u001b[1m\u001b[32m0.492\u001b[0m   | \u001b[1m\u001b[31m10.019\u001b[0m | \u001b[1m\u001b[31m11.690\u001b[0m | \u001b[37m1628548943_None\u001b[0m |\n",
      "|  \u001b[1m\u001b[37m19\u001b[0m   | \u001b[1m\u001b[37m1.00e-01\u001b[0m | \u001b[1m\u001b[37m1.00e-01\u001b[0m | \u001b[1m\u001b[32m0.565\u001b[0m |  \u001b[1m\u001b[32m0.492\u001b[0m   | \u001b[1m\u001b[31m10.019\u001b[0m | \u001b[1m\u001b[31m11.690\u001b[0m | \u001b[37m1628548943_None\u001b[0m |\n",
      "+-------+----------+----------+-------+----------+--------+--------+-----------------+\n",
      "\u001b[1m\u001b[37mTIME: 1s RATE: 20.0e/s TTC: 0s - Batch loss: 8.63469\u001b[0m\r"
     ]
    }
   ],
   "source": [
    "model.train(epochs=20, init_logs=False)"
   ]
  },
  {
   "cell_type": "code",
   "execution_count": 5,
   "metadata": {},
   "outputs": [
    {
     "data": {
      "image/png": "[encoded data removed]",
      "text/plain": [
       "<Figure size 432x288 with 1 Axes>"
      ]
     },
     "metadata": {
      "needs_background": "light"
     },
     "output_type": "display_data"
    }
   ],
   "source": [
    "model.plot(path=False)"
   ]
  },
  {
   "cell_type": "code",
   "execution_count": null,
   "metadata": {},
   "outputs": [],
   "source": []
  },
  {
   "cell_type": "markdown",
   "metadata": {},
   "source": [
    "## Recurrent Neural Network (RNN)"
   ]
  },
  {
   "cell_type": "code",
   "execution_count": 6,
   "metadata": {},
   "outputs": [],
   "source": [
    "se_hPars['learning_rate'] = 0.01\n",
    "se_hPars['schedule'] = 'exp_decay'\n",
    "se_hPars['decay_k'] = 0.01\n",
    "\n",
    "rnn = RNN(220, sequences=False)\n",
    "\n",
    "flatten = Flatten()\n",
    "\n",
    "dense = Dense(2, softmax)\n",
    "\n",
    "layers = [embedding, rnn, flatten, dense]\n",
    "\n",
    "model = EpyNN(layers=layers, name='None')"
   ]
  },
  {
   "cell_type": "code",
   "execution_count": 7,
   "metadata": {},
   "outputs": [
    {
     "name": "stdout",
     "output_type": "stream",
     "text": [
      "\u001b[1m--- EpyNN Check --- \u001b[0m\n",
      "\u001b[1mLayer: Embedding\u001b[0m\n",
      "\u001b[1m\u001b[32mcompute_shapes: Embedding\u001b[0m\n",
      "\u001b[1m\u001b[32minitialize_parameters: Embedding\u001b[0m\n",
      "\u001b[1m\u001b[32mforward: Embedding\u001b[0m\n",
      "\u001b[1mLayer: RNN\u001b[0m\n",
      "\u001b[1m\u001b[32mcompute_shapes: RNN\u001b[0m\n",
      "\u001b[1m\u001b[32minitialize_parameters: RNN\u001b[0m\n",
      "\u001b[1m\u001b[32mforward: RNN\u001b[0m\n",
      "\u001b[1mLayer: Flatten\u001b[0m\n",
      "\u001b[1m\u001b[32mcompute_shapes: Flatten\u001b[0m\n",
      "\u001b[1m\u001b[32minitialize_parameters: Flatten\u001b[0m\n",
      "\u001b[1m\u001b[32mforward: Flatten\u001b[0m\n",
      "\u001b[1mLayer: Dense\u001b[0m\n",
      "\u001b[1m\u001b[32mcompute_shapes: Dense\u001b[0m\n",
      "\u001b[1m\u001b[32minitialize_parameters: Dense\u001b[0m\n",
      "\u001b[1m\u001b[32mforward: Dense\u001b[0m\n",
      "\u001b[1mLayer: Dense\u001b[0m\n",
      "\u001b[1m\u001b[36mbackward: Dense\u001b[0m\n",
      "\u001b[1m\u001b[36mcompute_gradients: Dense\u001b[0m\n",
      "\u001b[1mLayer: Flatten\u001b[0m\n",
      "\u001b[1m\u001b[36mbackward: Flatten\u001b[0m\n",
      "\u001b[1m\u001b[36mcompute_gradients: Flatten\u001b[0m\n",
      "\u001b[1mLayer: RNN\u001b[0m\n",
      "\u001b[1m\u001b[36mbackward: RNN\u001b[0m\n",
      "\u001b[1m\u001b[36mcompute_gradients: RNN\u001b[0m\n",
      "\u001b[1mLayer: Embedding\u001b[0m\n",
      "\u001b[1m\u001b[36mbackward: Embedding\u001b[0m\n",
      "\u001b[1m\u001b[36mcompute_gradients: Embedding\u001b[0m\n"
     ]
    }
   ],
   "source": [
    "model.initialize(loss='BCE', se_hPars=se_hPars)"
   ]
  },
  {
   "cell_type": "code",
   "execution_count": 8,
   "metadata": {},
   "outputs": [
    {
     "name": "stdout",
     "output_type": "stream",
     "text": [
      "+-------+----------+----------+-------+----------+-------+-------+-----------------+\n",
      "| \u001b[1m\u001b[37mepoch\u001b[0m |  \u001b[1m\u001b[37mlrate\u001b[0m   |  \u001b[1m\u001b[37mlrate\u001b[0m   |       | \u001b[1m\u001b[32maccuracy\u001b[0m |       |  \u001b[1m\u001b[31mBCE\u001b[0m  |   \u001b[37mExperiment\u001b[0m    |\n",
      "|       |   \u001b[37mRNN\u001b[0m    |  \u001b[37mDense\u001b[0m   |  \u001b[1m\u001b[32m(0)\u001b[0m  |   \u001b[1m\u001b[32m(1)\u001b[0m    |  \u001b[1m\u001b[31m(0)\u001b[0m  |  \u001b[1m\u001b[31m(1)\u001b[0m  |                 |\n",
      "+-------+----------+----------+-------+----------+-------+-------+-----------------+\n",
      "|   \u001b[1m\u001b[37m0\u001b[0m   | \u001b[1m\u001b[37m1.00e-02\u001b[0m | \u001b[1m\u001b[37m1.00e-02\u001b[0m | \u001b[1m\u001b[32m0.557\u001b[0m |  \u001b[1m\u001b[32m0.508\u001b[0m   | \u001b[1m\u001b[31m1.343\u001b[0m | \u001b[1m\u001b[31m1.831\u001b[0m | \u001b[37m1628548944_None\u001b[0m |\n",
      "|   \u001b[1m\u001b[37m2\u001b[0m   | \u001b[1m\u001b[37m9.80e-03\u001b[0m | \u001b[1m\u001b[37m9.80e-03\u001b[0m | \u001b[1m\u001b[32m0.565\u001b[0m |  \u001b[1m\u001b[32m0.523\u001b[0m   | \u001b[1m\u001b[31m1.183\u001b[0m | \u001b[1m\u001b[31m1.705\u001b[0m | \u001b[37m1628548944_None\u001b[0m |\n",
      "|   \u001b[1m\u001b[37m4\u001b[0m   | \u001b[1m\u001b[37m9.61e-03\u001b[0m | \u001b[1m\u001b[37m9.61e-03\u001b[0m | \u001b[1m\u001b[32m0.588\u001b[0m |  \u001b[1m\u001b[32m0.523\u001b[0m   | \u001b[1m\u001b[31m1.046\u001b[0m | \u001b[1m\u001b[31m1.601\u001b[0m | \u001b[37m1628548944_None\u001b[0m |\n",
      "|   \u001b[1m\u001b[37m6\u001b[0m   | \u001b[1m\u001b[37m9.42e-03\u001b[0m | \u001b[1m\u001b[37m9.42e-03\u001b[0m | \u001b[1m\u001b[32m0.573\u001b[0m |  \u001b[1m\u001b[32m0.492\u001b[0m   | \u001b[1m\u001b[31m0.936\u001b[0m | \u001b[1m\u001b[31m1.506\u001b[0m | \u001b[37m1628548944_None\u001b[0m |\n",
      "|   \u001b[1m\u001b[37m8\u001b[0m   | \u001b[1m\u001b[37m9.23e-03\u001b[0m | \u001b[1m\u001b[37m9.23e-03\u001b[0m | \u001b[1m\u001b[32m0.588\u001b[0m |  \u001b[1m\u001b[32m0.492\u001b[0m   | \u001b[1m\u001b[31m0.854\u001b[0m | \u001b[1m\u001b[31m1.410\u001b[0m | \u001b[37m1628548944_None\u001b[0m |\n",
      "|  \u001b[1m\u001b[37m10\u001b[0m   | \u001b[1m\u001b[37m9.05e-03\u001b[0m | \u001b[1m\u001b[37m9.05e-03\u001b[0m | \u001b[1m\u001b[32m0.588\u001b[0m |  \u001b[1m\u001b[32m0.477\u001b[0m   | \u001b[1m\u001b[31m0.797\u001b[0m | \u001b[1m\u001b[31m1.312\u001b[0m | \u001b[37m1628548944_None\u001b[0m |\n",
      "|  \u001b[1m\u001b[37m12\u001b[0m   | \u001b[1m\u001b[37m8.87e-03\u001b[0m | \u001b[1m\u001b[37m8.87e-03\u001b[0m | \u001b[1m\u001b[32m0.611\u001b[0m |  \u001b[1m\u001b[32m0.508\u001b[0m   | \u001b[1m\u001b[31m0.757\u001b[0m | \u001b[1m\u001b[31m1.206\u001b[0m | \u001b[37m1628548944_None\u001b[0m |\n",
      "|  \u001b[1m\u001b[37m14\u001b[0m   | \u001b[1m\u001b[37m8.69e-03\u001b[0m | \u001b[1m\u001b[37m8.69e-03\u001b[0m | \u001b[1m\u001b[32m0.611\u001b[0m |  \u001b[1m\u001b[32m0.523\u001b[0m   | \u001b[1m\u001b[31m0.729\u001b[0m | \u001b[1m\u001b[31m1.155\u001b[0m | \u001b[37m1628548944_None\u001b[0m |\n",
      "|  \u001b[1m\u001b[37m16\u001b[0m   | \u001b[1m\u001b[37m8.52e-03\u001b[0m | \u001b[1m\u001b[37m8.52e-03\u001b[0m | \u001b[1m\u001b[32m0.634\u001b[0m |  \u001b[1m\u001b[32m0.538\u001b[0m   | \u001b[1m\u001b[31m0.706\u001b[0m | \u001b[1m\u001b[31m1.154\u001b[0m | \u001b[37m1628548944_None\u001b[0m |\n",
      "|  \u001b[1m\u001b[37m18\u001b[0m   | \u001b[1m\u001b[37m8.35e-03\u001b[0m | \u001b[1m\u001b[37m8.35e-03\u001b[0m | \u001b[1m\u001b[32m0.656\u001b[0m |  \u001b[1m\u001b[32m0.523\u001b[0m   | \u001b[1m\u001b[31m0.685\u001b[0m | \u001b[1m\u001b[31m1.160\u001b[0m | \u001b[37m1628548944_None\u001b[0m |\n",
      "|  \u001b[1m\u001b[37m19\u001b[0m   | \u001b[1m\u001b[37m8.27e-03\u001b[0m | \u001b[1m\u001b[37m8.27e-03\u001b[0m | \u001b[1m\u001b[32m0.664\u001b[0m |  \u001b[1m\u001b[32m0.523\u001b[0m   | \u001b[1m\u001b[31m0.677\u001b[0m | \u001b[1m\u001b[31m1.156\u001b[0m | \u001b[37m1628548944_None\u001b[0m |\n",
      "+-------+----------+----------+-------+----------+-------+-------+-----------------+\n",
      "\u001b[1m\u001b[37mTIME: 32s RATE: 0.62e/s TTC: 3s - Batch loss: 0.77897\u001b[0m\r"
     ]
    }
   ],
   "source": [
    "model.train(epochs=20, init_logs=False)"
   ]
  }
 ],
 "metadata": {
  "kernelspec": {
   "display_name": "Python 3",
   "language": "python",
   "name": "python3"
  },
  "language_info": {
   "codemirror_mode": {
    "name": "ipython",
    "version": 3
   },
   "file_extension": ".py",
   "mimetype": "text/x-python",
   "name": "python",
   "nbconvert_exporter": "python",
   "pygments_lexer": "ipython3",
   "version": "3.7.3"
  }
 },
 "nbformat": 4,
 "nbformat_minor": 4
}
