{
 "cells": [
  {
   "cell_type": "markdown",
   "metadata": {},
   "source": [
    "# Distinguish author-specific patterns in music"
   ]
  },
  {
   "cell_type": "markdown",
   "metadata": {},
   "source": [
    "* Find this notebook at `EpyNN/nnlive/author_music/train.ipynb`.\n",
    "* Regular python code at `EpyNN/nnlive/author_music/train.py`."
   ]
  },
  {
   "cell_type": "markdown",
   "metadata": {},
   "source": [
    "In this notebook we will review:\n",
    "\n",
    "* Handling univariate time series that represents a **huge amount of data points**.\n",
    "* Take advantage of recurrent architectures (RNN, GRU) over Feed-Forward architectures.\n",
    "* Introduce recall and precision along with accuracy when dealing with unbalanced datasets."
   ]
  },
  {
   "cell_type": "markdown",
   "metadata": {},
   "source": [
    "Please see the following if you get lost:\n",
    "\n",
    "* [Fully Connected (Dense)](../../Dense.html)\n",
    "* [Recurrent Neural Network (RNN)](../../RNN.html)\n",
    "* [Gated Recurrent Unit (GRU)](../../GRU.html)"
   ]
  },
  {
   "cell_type": "markdown",
   "metadata": {},
   "source": [
    "## Environment and data"
   ]
  },
  {
   "cell_type": "markdown",
   "metadata": {},
   "source": [
    "Follow [this link](prepare_dataset.ipynb) for details about data preparation."
   ]
  },
  {
   "cell_type": "markdown",
   "metadata": {},
   "source": [
    "Briefly, raw data are acoustic guittare music from the *True* author and the *False* author. These are raw ``.wav`` files that were resampled, clipped and digitalized using a 4-bits encoder.\n",
    "\n",
    "Commonly, music ``.wav`` files have a sampling rate of 44100 Hz. This means that each second of music represents a numerical time series of length 44100."
   ]
  },
  {
   "cell_type": "code",
   "execution_count": 1,
   "metadata": {},
   "outputs": [],
   "source": [
    "# EpyNN/nnlive/author_music/train.ipynb\n",
    "# Standard library imports\n",
    "import random\n",
    "\n",
    "# Related third party imports\n",
    "import numpy as np\n",
    "\n",
    "# Local application/library specific imports\n",
    "import nnlibs.initialize\n",
    "from nnlibs.commons.maths import relu, softmax\n",
    "from nnlibs.commons.library import (\n",
    "    configure_directory,\n",
    "    read_model,\n",
    ")\n",
    "from nnlibs.network.models import EpyNN\n",
    "from nnlibs.embedding.models import Embedding\n",
    "from nnlibs.rnn.models import RNN\n",
    "from nnlibs.gru.models import GRU\n",
    "from nnlibs.flatten.models import Flatten\n",
    "from nnlibs.dropout.models import Dropout\n",
    "from nnlibs.dense.models import Dense\n",
    "from prepare_dataset import (\n",
    "    prepare_dataset,\n",
    "    download_music,\n",
    ")\n",
    "from settings import se_hPars\n",
    "\n",
    "\n",
    "########################## CONFIGURE ##########################\n",
    "random.seed(1)\n",
    "\n",
    "np.set_printoptions(threshold=10)\n",
    "\n",
    "np.seterr(all='warn')\n",
    "np.seterr(under='ignore')\n",
    "\n",
    "configure_directory()\n",
    "\n",
    "\n",
    "############################ DATASET ##########################\n",
    "download_music()\n",
    "\n",
    "X_features, Y_label = prepare_dataset(N_SAMPLES=256)"
   ]
  },
  {
   "cell_type": "markdown",
   "metadata": {},
   "source": [
    "Let's inspect."
   ]
  },
  {
   "cell_type": "code",
   "execution_count": 2,
   "metadata": {},
   "outputs": [
    {
     "name": "stdout",
     "output_type": "stream",
     "text": [
      "256\n",
      "(10000,)\n",
      "[10  7  7 ...  9  9  9]\n",
      "1 15\n"
     ]
    }
   ],
   "source": [
    "print(len(X_features))\n",
    "print(X_features[0].shape)\n",
    "print(X_features[0])\n",
    "print(np.min(X_features[0]), np.max(X_features[0]))"
   ]
  },
  {
   "cell_type": "markdown",
   "metadata": {},
   "source": [
    "We clipped the original ``.wav`` files in 1 second clips and thus we could retrieve ``256`` samples. We did that because we do not have an infinite number of data. Since we want more training examples, we need to split the data.\n",
    "\n",
    "Below other problems are discussed:\n",
    "\n",
    "* **Arrays size in memory**: One second represents 44100 data points for each clip and thus ``44100 * 256 = 11.2896e6`` data points in total. More than ten millions of these is more likely to overload your RAM or to raise a memory allocation error on most laptops. This is why we resampled the original ``.wav`` files content to 10000 Hz. When doing that, we loose the patterns associated with frequencies greater than 5000 Hz. Instead, we could have made clips of shorther duration but then we would miss patterns associated with lower frequencies. Because guittare emission spectrum is essentially filled below 5000 Hz, we prefered to apply the resampling method.\n",
    "* **Signal normalization**: Original signals were sequences of 16-bits integers ranging from ``-32768`` to ``32767``. Feeding a neural network which such big values will most likely result in floatting point errors. This is why we normalized the original data from each ``.wav`` file within the range \\[0, 1\\].\n",
    "* **Signal digitalization**: While the original signal was a digital signal encoded onver 16-bits integers, this results in ``3e-5`` difference between each digit after normalization within the range \\[0, 1\\]. Such thin differences may be difficult to be evaluated for the network and the training could turn prohibitively slow. In the context of this notebook, we digitalized again but using 4-bits integers ranging from ``0`` to ``15`` for then a total of 16 values instead of 65536. \n",
    "* **One-hot encoding**: To simplify the problem and focus on patterns, we will eliminate explicit amplitudes by performing one-hot encoding of the univariate, 4-bits encoded time series.\n",
    "\n",
    "All things being said, we can go ahead."
   ]
  },
  {
   "cell_type": "markdown",
   "metadata": {},
   "source": [
    "## Feed-Forward (FF)"
   ]
  },
  {
   "cell_type": "markdown",
   "metadata": {},
   "source": [
    "We first start by our reference, a Feed-Forward network with dropout regularization."
   ]
  },
  {
   "cell_type": "markdown",
   "metadata": {},
   "source": [
    "### Embedding"
   ]
  },
  {
   "cell_type": "markdown",
   "metadata": {},
   "source": [
    "We scaled input data for each ``.wav`` file before, so we do not need to provide the argument to the class constructor of the *embedding* layer. Note that when ``X_scale=True`` it applies a global scaling over the whole training set. Here we work with independant ``.wav`` files which should be normalized separately."
   ]
  },
  {
   "cell_type": "code",
   "execution_count": 3,
   "metadata": {},
   "outputs": [],
   "source": [
    "embedding = Embedding(X_data=X_features,\n",
    "                      Y_data=Y_label,\n",
    "                      X_encode=True,\n",
    "                      Y_encode=True,\n",
    "                      batch_size=16,\n",
    "                      relative_size=(2, 1, 0))"
   ]
  },
  {
   "cell_type": "markdown",
   "metadata": {},
   "source": [
    "Let's inspect the shape of the data."
   ]
  },
  {
   "cell_type": "code",
   "execution_count": 4,
   "metadata": {},
   "outputs": [
    {
     "name": "stdout",
     "output_type": "stream",
     "text": [
      "(171, 10000, 16)\n",
      "{1: 71, 0: 100}\n"
     ]
    }
   ],
   "source": [
    "print(embedding.dtrain.X.shape)\n",
    "print(embedding.dtrain.b)"
   ]
  },
  {
   "cell_type": "markdown",
   "metadata": {},
   "source": [
    "We note that we have an unbalanced dataset, with about 2/3 of negative samples."
   ]
  },
  {
   "cell_type": "markdown",
   "metadata": {},
   "source": [
    "### Flatten-(Dense)n with Dropout"
   ]
  },
  {
   "cell_type": "markdown",
   "metadata": {},
   "source": [
    "Let's proceed with the network design and training."
   ]
  },
  {
   "cell_type": "code",
   "execution_count": 5,
   "metadata": {
    "tags": []
   },
   "outputs": [],
   "source": [
    "name = 'Flatten_Dense-64-relu_Dense-2-softmax'\n",
    "\n",
    "# se_hPars['learning_rate'] = 0.00001\n",
    "# se_hPars['learning_rate'] = 1\n",
    "se_hPars['learning_rate'] = 0.01\n",
    "se_hPars['softmax_temperature'] = 1\n",
    "\n",
    "layers = [\n",
    "    embedding,\n",
    "    Flatten(),\n",
    "    Dense(64, relu),\n",
    "    Dropout(0.5),\n",
    "    Dense(2, softmax),\n",
    "]\n",
    "\n",
    "model = EpyNN(layers=layers, name=name)"
   ]
  },
  {
   "cell_type": "markdown",
   "metadata": {
    "tags": []
   },
   "source": [
    "We can initialize the model."
   ]
  },
  {
   "cell_type": "code",
   "execution_count": 6,
   "metadata": {
    "tags": []
   },
   "outputs": [
    {
     "name": "stdout",
     "output_type": "stream",
     "text": [
      "\u001b[1m--- EpyNN Check OK! --- \u001b[0mdding\u001b[0m0m0m\r"
     ]
    }
   ],
   "source": [
    "model.initialize(loss='MSE', seed=1, metrics=['accuracy', 'recall', 'precision'], se_hPars=se_hPars.copy(), end='\\r')"
   ]
  },
  {
   "cell_type": "markdown",
   "metadata": {},
   "source": [
    "Train it for 5 epochs."
   ]
  },
  {
   "cell_type": "code",
   "execution_count": 7,
   "metadata": {},
   "outputs": [
    {
     "name": "stdout",
     "output_type": "stream",
     "text": [
      "\u001b[1m\u001b[37mEpoch 9 - Batch 9/9 - Accuracy: 0.625 Cost: 0.38532 - TIME: 11.91s RATE: 1.20e+01e/s TTC: 0s        \u001b[0m\n",
      "\n",
      "+-------+----------+----------+-------+----------+-------+--------+-------+-----------+-------+-------+--------------------------------------------------+\n",
      "| \u001b[1m\u001b[37mepoch\u001b[0m |  \u001b[1m\u001b[37mlrate\u001b[0m   |  \u001b[1m\u001b[37mlrate\u001b[0m   |       | \u001b[1m\u001b[32maccuracy\u001b[0m |       | \u001b[1m\u001b[31mrecall\u001b[0m |       | \u001b[1m\u001b[35mprecision\u001b[0m |       |  \u001b[1m\u001b[36mMSE\u001b[0m  |                    \u001b[37mExperiment\u001b[0m                    |\n",
      "|       |  \u001b[37mDense\u001b[0m   |  \u001b[37mDense\u001b[0m   |  \u001b[1m\u001b[32m(0)\u001b[0m  |   \u001b[1m\u001b[32m(1)\u001b[0m    |  \u001b[1m\u001b[31m(0)\u001b[0m  |  \u001b[1m\u001b[31m(1)\u001b[0m   |  \u001b[1m\u001b[35m(0)\u001b[0m  |    \u001b[1m\u001b[35m(1)\u001b[0m    |  \u001b[1m\u001b[36m(0)\u001b[0m  |  \u001b[1m\u001b[36m(1)\u001b[0m  |                                                  |\n",
      "+-------+----------+----------+-------+----------+-------+--------+-------+-----------+-------+-------+--------------------------------------------------+\n",
      "|   \u001b[1m\u001b[37m0\u001b[0m   | \u001b[1m\u001b[37m1.00e-02\u001b[0m | \u001b[1m\u001b[37m1.00e-02\u001b[0m | \u001b[1m\u001b[32m0.532\u001b[0m |  \u001b[1m\u001b[32m0.553\u001b[0m   | \u001b[1m\u001b[31m0.230\u001b[0m | \u001b[1m\u001b[31m0.217\u001b[0m  | \u001b[1m\u001b[35m0.885\u001b[0m |   \u001b[1m\u001b[35m0.833\u001b[0m   | \u001b[1m\u001b[36m0.457\u001b[0m | \u001b[1m\u001b[36m0.439\u001b[0m | \u001b[37m1631096276_Flatten_Dense-64-relu_Dense-2-softmax\u001b[0m |\n",
      "|   \u001b[1m\u001b[37m1\u001b[0m   | \u001b[1m\u001b[37m1.00e-02\u001b[0m | \u001b[1m\u001b[37m1.00e-02\u001b[0m | \u001b[1m\u001b[32m0.497\u001b[0m |  \u001b[1m\u001b[32m0.553\u001b[0m   | \u001b[1m\u001b[31m0.220\u001b[0m | \u001b[1m\u001b[31m0.283\u001b[0m  | \u001b[1m\u001b[35m0.733\u001b[0m |   \u001b[1m\u001b[35m0.722\u001b[0m   | \u001b[1m\u001b[36m0.494\u001b[0m | \u001b[1m\u001b[36m0.434\u001b[0m | \u001b[37m1631096276_Flatten_Dense-64-relu_Dense-2-softmax\u001b[0m |\n",
      "|   \u001b[1m\u001b[37m2\u001b[0m   | \u001b[1m\u001b[37m1.00e-02\u001b[0m | \u001b[1m\u001b[37m1.00e-02\u001b[0m | \u001b[1m\u001b[32m0.491\u001b[0m |  \u001b[1m\u001b[32m0.506\u001b[0m   | \u001b[1m\u001b[31m0.360\u001b[0m | \u001b[1m\u001b[31m0.370\u001b[0m  | \u001b[1m\u001b[35m0.610\u001b[0m |   \u001b[1m\u001b[35m0.567\u001b[0m   | \u001b[1m\u001b[36m0.487\u001b[0m | \u001b[1m\u001b[36m0.465\u001b[0m | \u001b[37m1631096276_Flatten_Dense-64-relu_Dense-2-softmax\u001b[0m |\n",
      "|   \u001b[1m\u001b[37m3\u001b[0m   | \u001b[1m\u001b[37m1.00e-02\u001b[0m | \u001b[1m\u001b[37m1.00e-02\u001b[0m | \u001b[1m\u001b[32m0.532\u001b[0m |  \u001b[1m\u001b[32m0.518\u001b[0m   | \u001b[1m\u001b[31m0.480\u001b[0m | \u001b[1m\u001b[31m0.478\u001b[0m  | \u001b[1m\u001b[35m0.632\u001b[0m |   \u001b[1m\u001b[35m0.564\u001b[0m   | \u001b[1m\u001b[36m0.451\u001b[0m | \u001b[1m\u001b[36m0.451\u001b[0m | \u001b[37m1631096276_Flatten_Dense-64-relu_Dense-2-softmax\u001b[0m |\n",
      "|   \u001b[1m\u001b[37m4\u001b[0m   | \u001b[1m\u001b[37m1.00e-02\u001b[0m | \u001b[1m\u001b[37m1.00e-02\u001b[0m | \u001b[1m\u001b[32m0.614\u001b[0m |  \u001b[1m\u001b[32m0.529\u001b[0m   | \u001b[1m\u001b[31m0.380\u001b[0m | \u001b[1m\u001b[31m0.196\u001b[0m  | \u001b[1m\u001b[35m0.905\u001b[0m |   \u001b[1m\u001b[35m0.750\u001b[0m   | \u001b[1m\u001b[36m0.382\u001b[0m | \u001b[1m\u001b[36m0.435\u001b[0m | \u001b[37m1631096276_Flatten_Dense-64-relu_Dense-2-softmax\u001b[0m |\n",
      "|   \u001b[1m\u001b[37m5\u001b[0m   | \u001b[1m\u001b[37m1.00e-02\u001b[0m | \u001b[1m\u001b[37m1.00e-02\u001b[0m | \u001b[1m\u001b[32m0.596\u001b[0m |  \u001b[1m\u001b[32m0.624\u001b[0m   | \u001b[1m\u001b[31m0.330\u001b[0m | \u001b[1m\u001b[31m0.304\u001b[0m  | \u001b[1m\u001b[35m0.943\u001b[0m |   \u001b[1m\u001b[35m1.000\u001b[0m   | \u001b[1m\u001b[36m0.382\u001b[0m | \u001b[1m\u001b[36m0.376\u001b[0m | \u001b[37m1631096276_Flatten_Dense-64-relu_Dense-2-softmax\u001b[0m |\n",
      "|   \u001b[1m\u001b[37m6\u001b[0m   | \u001b[1m\u001b[37m1.00e-02\u001b[0m | \u001b[1m\u001b[37m1.00e-02\u001b[0m | \u001b[1m\u001b[32m0.719\u001b[0m |  \u001b[1m\u001b[32m0.612\u001b[0m   | \u001b[1m\u001b[31m0.570\u001b[0m | \u001b[1m\u001b[31m0.348\u001b[0m  | \u001b[1m\u001b[35m0.919\u001b[0m |   \u001b[1m\u001b[35m0.842\u001b[0m   | \u001b[1m\u001b[36m0.272\u001b[0m | \u001b[1m\u001b[36m0.385\u001b[0m | \u001b[37m1631096276_Flatten_Dense-64-relu_Dense-2-softmax\u001b[0m |\n",
      "|   \u001b[1m\u001b[37m7\u001b[0m   | \u001b[1m\u001b[37m1.00e-02\u001b[0m | \u001b[1m\u001b[37m1.00e-02\u001b[0m | \u001b[1m\u001b[32m0.696\u001b[0m |  \u001b[1m\u001b[32m0.435\u001b[0m   | \u001b[1m\u001b[31m0.540\u001b[0m | \u001b[1m\u001b[31m0.304\u001b[0m  | \u001b[1m\u001b[35m0.900\u001b[0m |   \u001b[1m\u001b[35m0.467\u001b[0m   | \u001b[1m\u001b[36m0.301\u001b[0m | \u001b[1m\u001b[36m0.514\u001b[0m | \u001b[37m1631096276_Flatten_Dense-64-relu_Dense-2-softmax\u001b[0m |\n",
      "|   \u001b[1m\u001b[37m8\u001b[0m   | \u001b[1m\u001b[37m1.00e-02\u001b[0m | \u001b[1m\u001b[37m1.00e-02\u001b[0m | \u001b[1m\u001b[32m0.673\u001b[0m |  \u001b[1m\u001b[32m0.588\u001b[0m   | \u001b[1m\u001b[31m0.460\u001b[0m | \u001b[1m\u001b[31m0.326\u001b[0m  | \u001b[1m\u001b[35m0.958\u001b[0m |   \u001b[1m\u001b[35m0.789\u001b[0m   | \u001b[1m\u001b[36m0.311\u001b[0m | \u001b[1m\u001b[36m0.385\u001b[0m | \u001b[37m1631096276_Flatten_Dense-64-relu_Dense-2-softmax\u001b[0m |\n",
      "|   \u001b[1m\u001b[37m9\u001b[0m   | \u001b[1m\u001b[37m1.00e-02\u001b[0m | \u001b[1m\u001b[37m1.00e-02\u001b[0m | \u001b[1m\u001b[32m0.684\u001b[0m |  \u001b[1m\u001b[32m0.529\u001b[0m   | \u001b[1m\u001b[31m0.490\u001b[0m | \u001b[1m\u001b[31m0.261\u001b[0m  | \u001b[1m\u001b[35m0.942\u001b[0m |   \u001b[1m\u001b[35m0.667\u001b[0m   | \u001b[1m\u001b[36m0.312\u001b[0m | \u001b[1m\u001b[36m0.442\u001b[0m | \u001b[37m1631096276_Flatten_Dense-64-relu_Dense-2-softmax\u001b[0m |\n",
      "+-------+----------+----------+-------+----------+-------+--------+-------+-----------+-------+-------+--------------------------------------------------+\n"
     ]
    }
   ],
   "source": [
    "model.train(epochs=10, init_logs=False)"
   ]
  },
  {
   "cell_type": "markdown",
   "metadata": {},
   "source": [
    "While the model could reproduce the training data with high fidelity, it is less True for the testing data and we observe significant overfitting.\n",
    "\n",
    "We can still comment the **recall** and **precision** metrics:\n",
    "\n",
    "* **Recall**: It represents *the fraction of positive instances retrieved by the model*.\n",
    "* **Precision**: It represents *the fraction of positive instances within the labels predicted as positive*. \n",
    "\n",
    "Said differently:\n",
    "\n",
    "* Given **tp** the *true positive* samples.\n",
    "* Given **tn** the *true negative* samples.\n",
    "* Given **fp** the *false positive* samples.\n",
    "* Given **fn** the *false negative* samples.\n",
    "* Then **recall** = ``tp / (tp+fn)`` and **precision** = ``tp / (tp+fp)``."
   ]
  },
  {
   "cell_type": "markdown",
   "metadata": {},
   "source": [
    "## Recurrent Architectures"
   ]
  },
  {
   "cell_type": "markdown",
   "metadata": {},
   "source": [
    "Recurrent architectures can make a difference here because they process time series one measurement by one measurement. \n",
    "\n",
    "The number of time steps **does not define the size of parameters (weight/bias) array** while in the Feed-Forward network this is the case. \n",
    "\n",
    "For the *dense*, the shape of W is ``n, u`` given ``n`` the number of nodes in the previous layer and ``u`` in the current layer. So when a *dense* layer follows the *embedding* layer, the number of nodes in the *embedding* layer is equal to the number of features, herein the number of time steps ``10 000``. \n",
    "\n",
    "By contrast, the *RNN* layer has parameters shape which depends on the number of cells and the uni/multivariate nature of each measurement, but not depending of the number of time steps. In the previous situation there is likely too much parameters and the computation does not converge."
   ]
  },
  {
   "cell_type": "markdown",
   "metadata": {},
   "source": [
    "### Embedding"
   ]
  },
  {
   "cell_type": "markdown",
   "metadata": {},
   "source": [
    "For the embedding, we will one-hot encode time series and we know the *\"vocabulary\"* size will be 16 because we digitalized over 16 bins."
   ]
  },
  {
   "cell_type": "code",
   "execution_count": 8,
   "metadata": {},
   "outputs": [],
   "source": [
    "embedding = Embedding(X_data=X_features,\n",
    "                      Y_data=Y_label,\n",
    "                      X_encode=True,\n",
    "                      Y_encode=True,\n",
    "                      batch_size=16,\n",
    "                      relative_size=(2, 1, 0))"
   ]
  },
  {
   "cell_type": "markdown",
   "metadata": {},
   "source": [
    "Let's inspect the data shape."
   ]
  },
  {
   "cell_type": "code",
   "execution_count": 9,
   "metadata": {},
   "outputs": [
    {
     "name": "stdout",
     "output_type": "stream",
     "text": [
      "(171, 10000, 16)\n"
     ]
    }
   ],
   "source": [
    "print(embedding.dtrain.X.shape)"
   ]
  },
  {
   "cell_type": "markdown",
   "metadata": {},
   "source": [
    "### RNN(sequences=True)-Flatten-(Dense)n with Dropout"
   ]
  },
  {
   "cell_type": "markdown",
   "metadata": {},
   "source": [
    "Time to clarify a point:\n",
    "\n",
    "* We have multivariate like time series (one-hot encoded univariate series) with 10000 time steps.\n",
    "* The 10000 or **length of sequence is unrelated to the number of cells in the RNN layer**. The number of cells may be whatever, the whole sequence will entirely be processed.\n",
    "* In recurrent layers, parameters shape is related to the number of cells and the vocabulary size, not to the length of the sequence. That's why such architectures can handle input sequences of variable length.\n"
   ]
  },
  {
   "cell_type": "code",
   "execution_count": 10,
   "metadata": {
    "tags": []
   },
   "outputs": [],
   "source": [
    "name = 'RNN-1-Seq_Flatten_Dense-64-relu_Dropout05_Dense-2-softmax'\n",
    "\n",
    "se_hPars['learning_rate'] = 0.01\n",
    "se_hPars['softmax_temperature'] = 1\n",
    "\n",
    "layers = [\n",
    "    embedding,\n",
    "    RNN(1, sequences=True),\n",
    "    Flatten(),\n",
    "    Dense(64, relu),\n",
    "    Dropout(0.5),\n",
    "    Dense(2, softmax),\n",
    "]\n",
    "\n",
    "model = EpyNN(layers=layers, name=name)"
   ]
  },
  {
   "cell_type": "markdown",
   "metadata": {
    "tags": []
   },
   "source": [
    "We initialize the model."
   ]
  },
  {
   "cell_type": "code",
   "execution_count": 11,
   "metadata": {
    "tags": []
   },
   "outputs": [
    {
     "name": "stdout",
     "output_type": "stream",
     "text": [
      "\u001b[1m--- EpyNN Check OK! --- \u001b[0mdding\u001b[0m0m0m\r"
     ]
    }
   ],
   "source": [
    "model.initialize(loss='MSE', seed=1, metrics=['accuracy', 'recall', 'precision'], se_hPars=se_hPars.copy(), end='\\r')"
   ]
  },
  {
   "cell_type": "markdown",
   "metadata": {},
   "source": [
    "We will only train for 5 epochs."
   ]
  },
  {
   "cell_type": "code",
   "execution_count": 12,
   "metadata": {},
   "outputs": [
    {
     "name": "stdout",
     "output_type": "stream",
     "text": [
      "\u001b[1m\u001b[37mEpoch 4 - Batch 9/9 - Accuracy: 1.0 Cost: 0.00205 - TIME: 33.98s RATE: 8.69e-01e/s TTC: 2s          \u001b[0m\n",
      "\n",
      "+-------+----------+----------+----------+-------+----------+-------+--------+-------+-----------+-------+-------+----------------------------------------------------------------------+\n",
      "| \u001b[1m\u001b[37mepoch\u001b[0m |  \u001b[1m\u001b[37mlrate\u001b[0m   |  \u001b[1m\u001b[37mlrate\u001b[0m   |  \u001b[1m\u001b[37mlrate\u001b[0m   |       | \u001b[1m\u001b[32maccuracy\u001b[0m |       | \u001b[1m\u001b[31mrecall\u001b[0m |       | \u001b[1m\u001b[35mprecision\u001b[0m |       |  \u001b[1m\u001b[36mMSE\u001b[0m  |                              \u001b[37mExperiment\u001b[0m                              |\n",
      "|       |   \u001b[37mRNN\u001b[0m    |  \u001b[37mDense\u001b[0m   |  \u001b[37mDense\u001b[0m   |  \u001b[1m\u001b[32m(0)\u001b[0m  |   \u001b[1m\u001b[32m(1)\u001b[0m    |  \u001b[1m\u001b[31m(0)\u001b[0m  |  \u001b[1m\u001b[31m(1)\u001b[0m   |  \u001b[1m\u001b[35m(0)\u001b[0m  |    \u001b[1m\u001b[35m(1)\u001b[0m    |  \u001b[1m\u001b[36m(0)\u001b[0m  |  \u001b[1m\u001b[36m(1)\u001b[0m  |                                                                      |\n",
      "+-------+----------+----------+----------+-------+----------+-------+--------+-------+-----------+-------+-------+----------------------------------------------------------------------+\n",
      "|   \u001b[1m\u001b[37m0\u001b[0m   | \u001b[1m\u001b[37m1.00e-02\u001b[0m | \u001b[1m\u001b[37m1.00e-02\u001b[0m | \u001b[1m\u001b[37m1.00e-02\u001b[0m | \u001b[1m\u001b[32m0.930\u001b[0m |  \u001b[1m\u001b[32m0.741\u001b[0m   | \u001b[1m\u001b[31m0.990\u001b[0m | \u001b[1m\u001b[31m0.891\u001b[0m  | \u001b[1m\u001b[35m0.900\u001b[0m |   \u001b[1m\u001b[35m0.707\u001b[0m   | \u001b[1m\u001b[36m0.050\u001b[0m | \u001b[1m\u001b[36m0.180\u001b[0m | \u001b[37m1631096292_RNN-1-Seq_Flatten_Dense-64-relu_Dropout05_Dense-2-softmax\u001b[0m |\n",
      "|   \u001b[1m\u001b[37m1\u001b[0m   | \u001b[1m\u001b[37m1.00e-02\u001b[0m | \u001b[1m\u001b[37m1.00e-02\u001b[0m | \u001b[1m\u001b[37m1.00e-02\u001b[0m | \u001b[1m\u001b[32m0.965\u001b[0m |  \u001b[1m\u001b[32m0.718\u001b[0m   | \u001b[1m\u001b[31m0.990\u001b[0m | \u001b[1m\u001b[31m0.826\u001b[0m  | \u001b[1m\u001b[35m0.952\u001b[0m |   \u001b[1m\u001b[35m0.704\u001b[0m   | \u001b[1m\u001b[36m0.031\u001b[0m | \u001b[1m\u001b[36m0.179\u001b[0m | \u001b[37m1631096292_RNN-1-Seq_Flatten_Dense-64-relu_Dropout05_Dense-2-softmax\u001b[0m |\n",
      "|   \u001b[1m\u001b[37m2\u001b[0m   | \u001b[1m\u001b[37m1.00e-02\u001b[0m | \u001b[1m\u001b[37m1.00e-02\u001b[0m | \u001b[1m\u001b[37m1.00e-02\u001b[0m | \u001b[1m\u001b[32m0.988\u001b[0m |  \u001b[1m\u001b[32m0.835\u001b[0m   | \u001b[1m\u001b[31m0.990\u001b[0m | \u001b[1m\u001b[31m0.848\u001b[0m  | \u001b[1m\u001b[35m0.990\u001b[0m |   \u001b[1m\u001b[35m0.848\u001b[0m   | \u001b[1m\u001b[36m0.018\u001b[0m | \u001b[1m\u001b[36m0.134\u001b[0m | \u001b[37m1631096292_RNN-1-Seq_Flatten_Dense-64-relu_Dropout05_Dense-2-softmax\u001b[0m |\n",
      "|   \u001b[1m\u001b[37m3\u001b[0m   | \u001b[1m\u001b[37m1.00e-02\u001b[0m | \u001b[1m\u001b[37m1.00e-02\u001b[0m | \u001b[1m\u001b[37m1.00e-02\u001b[0m | \u001b[1m\u001b[32m0.988\u001b[0m |  \u001b[1m\u001b[32m0.741\u001b[0m   | \u001b[1m\u001b[31m0.990\u001b[0m | \u001b[1m\u001b[31m0.804\u001b[0m  | \u001b[1m\u001b[35m0.990\u001b[0m |   \u001b[1m\u001b[35m0.740\u001b[0m   | \u001b[1m\u001b[36m0.012\u001b[0m | \u001b[1m\u001b[36m0.176\u001b[0m | \u001b[37m1631096292_RNN-1-Seq_Flatten_Dense-64-relu_Dropout05_Dense-2-softmax\u001b[0m |\n",
      "|   \u001b[1m\u001b[37m4\u001b[0m   | \u001b[1m\u001b[37m1.00e-02\u001b[0m | \u001b[1m\u001b[37m1.00e-02\u001b[0m | \u001b[1m\u001b[37m1.00e-02\u001b[0m | \u001b[1m\u001b[32m0.988\u001b[0m |  \u001b[1m\u001b[32m0.718\u001b[0m   | \u001b[1m\u001b[31m1.000\u001b[0m | \u001b[1m\u001b[31m0.826\u001b[0m  | \u001b[1m\u001b[35m0.980\u001b[0m |   \u001b[1m\u001b[35m0.704\u001b[0m   | \u001b[1m\u001b[36m0.014\u001b[0m | \u001b[1m\u001b[36m0.200\u001b[0m | \u001b[37m1631096292_RNN-1-Seq_Flatten_Dense-64-relu_Dropout05_Dense-2-softmax\u001b[0m |\n",
      "+-------+----------+----------+----------+-------+----------+-------+--------+-------+-----------+-------+-------+----------------------------------------------------------------------+\n"
     ]
    }
   ],
   "source": [
    "model.train(epochs=5, init_logs=False)"
   ]
  },
  {
   "cell_type": "markdown",
   "metadata": {},
   "source": [
    "FLAG."
   ]
  },
  {
   "cell_type": "markdown",
   "metadata": {},
   "source": [
    "### GRU(sequences=True)-Flatten-(Dense)n with Dropout"
   ]
  },
  {
   "cell_type": "markdown",
   "metadata": {},
   "source": [
    "Let's now try a more evolved recurrent architecture."
   ]
  },
  {
   "cell_type": "code",
   "execution_count": 13,
   "metadata": {
    "tags": []
   },
   "outputs": [
    {
     "name": "stdout",
     "output_type": "stream",
     "text": [
      "\u001b[1m\u001b[37mEpoch 2 - Batch 9/9 - Accuracy: 0.688 Cost: 0.21652 - TIME: 76.07s RATE: 1.35e-01e/s TTC: 15s       \u001b[0m\n",
      "\n",
      "+-------+----------+----------+----------+-------+----------+-------+--------+-------+-----------+-------+-------+----------------------------------------------------------------------+\n",
      "| \u001b[1m\u001b[37mepoch\u001b[0m |  \u001b[1m\u001b[37mlrate\u001b[0m   |  \u001b[1m\u001b[37mlrate\u001b[0m   |  \u001b[1m\u001b[37mlrate\u001b[0m   |       | \u001b[1m\u001b[32maccuracy\u001b[0m |       | \u001b[1m\u001b[31mrecall\u001b[0m |       | \u001b[1m\u001b[35mprecision\u001b[0m |       |  \u001b[1m\u001b[36mMSE\u001b[0m  |                              \u001b[37mExperiment\u001b[0m                              |\n",
      "|       |   \u001b[37mGRU\u001b[0m    |  \u001b[37mDense\u001b[0m   |  \u001b[37mDense\u001b[0m   |  \u001b[1m\u001b[32m(0)\u001b[0m  |   \u001b[1m\u001b[32m(1)\u001b[0m    |  \u001b[1m\u001b[31m(0)\u001b[0m  |  \u001b[1m\u001b[31m(1)\u001b[0m   |  \u001b[1m\u001b[35m(0)\u001b[0m  |    \u001b[1m\u001b[35m(1)\u001b[0m    |  \u001b[1m\u001b[36m(0)\u001b[0m  |  \u001b[1m\u001b[36m(1)\u001b[0m  |                                                                      |\n",
      "+-------+----------+----------+----------+-------+----------+-------+--------+-------+-----------+-------+-------+----------------------------------------------------------------------+\n",
      "|   \u001b[1m\u001b[37m0\u001b[0m   | \u001b[1m\u001b[37m1.00e-02\u001b[0m | \u001b[1m\u001b[37m1.00e-02\u001b[0m | \u001b[1m\u001b[37m1.00e-02\u001b[0m | \u001b[1m\u001b[32m0.632\u001b[0m |  \u001b[1m\u001b[32m0.553\u001b[0m   | \u001b[1m\u001b[31m0.390\u001b[0m | \u001b[1m\u001b[31m0.261\u001b[0m  | \u001b[1m\u001b[35m0.951\u001b[0m |   \u001b[1m\u001b[35m0.750\u001b[0m   | \u001b[1m\u001b[36m0.237\u001b[0m | \u001b[1m\u001b[36m0.252\u001b[0m | \u001b[37m1631096326_GRU-1-Seq_Flatten_Dense-64-relu_Dropout05_Dense-2-softmax\u001b[0m |\n",
      "|   \u001b[1m\u001b[37m1\u001b[0m   | \u001b[1m\u001b[37m1.00e-02\u001b[0m | \u001b[1m\u001b[37m1.00e-02\u001b[0m | \u001b[1m\u001b[37m1.00e-02\u001b[0m | \u001b[1m\u001b[32m0.901\u001b[0m |  \u001b[1m\u001b[32m0.624\u001b[0m   | \u001b[1m\u001b[31m0.940\u001b[0m | \u001b[1m\u001b[31m0.696\u001b[0m  | \u001b[1m\u001b[35m0.895\u001b[0m |   \u001b[1m\u001b[35m0.640\u001b[0m   | \u001b[1m\u001b[36m0.154\u001b[0m | \u001b[1m\u001b[36m0.240\u001b[0m | \u001b[37m1631096326_GRU-1-Seq_Flatten_Dense-64-relu_Dropout05_Dense-2-softmax\u001b[0m |\n",
      "|   \u001b[1m\u001b[37m2\u001b[0m   | \u001b[1m\u001b[37m1.00e-02\u001b[0m | \u001b[1m\u001b[37m1.00e-02\u001b[0m | \u001b[1m\u001b[37m1.00e-02\u001b[0m | \u001b[1m\u001b[32m0.743\u001b[0m |  \u001b[1m\u001b[32m0.435\u001b[0m   | \u001b[1m\u001b[31m0.680\u001b[0m | \u001b[1m\u001b[31m0.304\u001b[0m  | \u001b[1m\u001b[35m0.850\u001b[0m |   \u001b[1m\u001b[35m0.467\u001b[0m   | \u001b[1m\u001b[36m0.162\u001b[0m | \u001b[1m\u001b[36m0.315\u001b[0m | \u001b[37m1631096326_GRU-1-Seq_Flatten_Dense-64-relu_Dropout05_Dense-2-softmax\u001b[0m |\n",
      "+-------+----------+----------+----------+-------+----------+-------+--------+-------+-----------+-------+-------+----------------------------------------------------------------------+\n"
     ]
    }
   ],
   "source": [
    "name = 'GRU-1-Seq_Flatten_Dense-64-relu_Dropout05_Dense-2-softmax'\n",
    "\n",
    "se_hPars['learning_rate'] = 0.01\n",
    "se_hPars['softmax_temperature'] = 1\n",
    "\n",
    "layers = [\n",
    "    embedding,\n",
    "    GRU(1, sequences=True),\n",
    "    Flatten(),\n",
    "    Dense(64, relu),\n",
    "    Dropout(0.5),\n",
    "    Dense(2, softmax),\n",
    "]\n",
    "\n",
    "model = EpyNN(layers=layers, name=name)\n",
    "\n",
    "model.initialize(loss='MSE', seed=1, metrics=['accuracy', 'recall', 'precision'], se_hPars=se_hPars.copy(), end='\\r')\n",
    "\n",
    "model.train(epochs=3, init_logs=False)"
   ]
  },
  {
   "cell_type": "markdown",
   "metadata": {
    "tags": []
   },
   "source": [
    "FLAG."
   ]
  },
  {
   "cell_type": "markdown",
   "metadata": {},
   "source": [
    "## Write, Read & Predict"
   ]
  },
  {
   "cell_type": "code",
   "execution_count": 14,
   "metadata": {},
   "outputs": [
    {
     "name": "stdout",
     "output_type": "stream",
     "text": [
      "\u001b[1m\u001b[32mMake: /media/synthase/beta/EpyNN/nnlive/author_music/models/1631096326_GRU-1-Seq_Flatten_Dense-64-relu_Dropout05_Dense-2-softmax.pickle\u001b[0m\n",
      "0 0 [0.53466267 0.46533733]\n",
      "1 1 [0.30410443 0.69589557]\n",
      "2 0 [0.63609356 0.36390644]\n",
      "3 0 [0.76139002 0.23860998]\n",
      "4 0 [0.69681818 0.30318182]\n",
      "5 0 [0.52317497 0.47682503]\n",
      "6 1 [0.40630025 0.59369975]\n",
      "7 0 [0.62075473 0.37924527]\n",
      "8 1 [0.37191097 0.62808903]\n",
      "9 1 [0.33150543 0.66849457]\n"
     ]
    }
   ],
   "source": [
    "### Write/read model\n",
    "\n",
    "model.write()\n",
    "\n",
    "model = read_model()\n",
    "\n",
    "\n",
    "### Predict\n",
    "\n",
    "X_features, _ = prepare_dataset(N_SAMPLES=10)\n",
    "\n",
    "dset = model.predict(X_features, X_encode=True)\n",
    "\n",
    "for n, pred, probs in zip(dset.ids, dset.P, dset.A):\n",
    "    print(n, pred, probs)"
   ]
  }
 ],
 "metadata": {
  "kernelspec": {
   "display_name": "Python 3",
   "language": "python",
   "name": "python3"
  },
  "language_info": {
   "codemirror_mode": {
    "name": "ipython",
    "version": 3
   },
   "file_extension": ".py",
   "mimetype": "text/x-python",
   "name": "python",
   "nbconvert_exporter": "python",
   "pygments_lexer": "ipython3",
   "version": "3.7.3"
  }
 },
 "nbformat": 4,
 "nbformat_minor": 4
}
