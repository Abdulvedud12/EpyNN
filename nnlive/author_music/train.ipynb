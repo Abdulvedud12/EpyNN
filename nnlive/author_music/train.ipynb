{
 "cells": [
  {
   "cell_type": "markdown",
   "metadata": {},
   "source": [
    "# Distinguish author-specific patterns in music"
   ]
  },
  {
   "cell_type": "markdown",
   "metadata": {},
   "source": [
    "* Find this notebook at `EpyNN/nnlive/author_music/train.ipynb`.\n",
    "* Regular python code at `EpyNN/nnlive/author_music/train.py`."
   ]
  },
  {
   "cell_type": "markdown",
   "metadata": {},
   "source": [
    "In this notebook we will review:\n",
    "\n",
    "* Handling univariate time series that represents a **huge amount of data points**.\n",
    "* Take advantage of recurrent architectures (RNN, GRU) over Feed-Forward architectures.\n",
    "* Introduce recall and precision along with accuracy when dealing with unbalanced datasets."
   ]
  },
  {
   "cell_type": "markdown",
   "metadata": {},
   "source": [
    "Please see the following if you get lost:\n",
    "\n",
    "* [Fully Connected (Dense)](../../Dense.html)\n",
    "* [Recurrent Neural Network (RNN)](../../RNN.html)\n",
    "* [Gated Recurrent Unit (GRU)](../../GRU.html)"
   ]
  },
  {
   "cell_type": "markdown",
   "metadata": {},
   "source": [
    "## Environment and data"
   ]
  },
  {
   "cell_type": "markdown",
   "metadata": {},
   "source": [
    "Follow [this link](prepare_dataset.ipynb) for details about data preparation."
   ]
  },
  {
   "cell_type": "markdown",
   "metadata": {},
   "source": [
    "Briefly, raw data are acoustic guitar music from the *True* author and the *False* author. These are raw ``.wav`` files that were normalized, digitalized using a 4-bits encoder and clipped.\n",
    "\n",
    "Commonly, music ``.wav`` files have a sampling rate of 44100 Hz. This means that each second of music represents a numerical time series of length 44100."
   ]
  },
  {
   "cell_type": "code",
   "execution_count": 1,
   "metadata": {},
   "outputs": [],
   "source": [
    "# EpyNN/nnlive/author_music/train.ipynb\n",
    "# Standard library imports\n",
    "import random\n",
    "\n",
    "# Related third party imports\n",
    "import numpy as np\n",
    "\n",
    "# Local application/library specific imports\n",
    "import nnlibs.initialize\n",
    "from nnlibs.commons.maths import relu, softmax\n",
    "from nnlibs.commons.library import (\n",
    "    configure_directory,\n",
    "    read_model,\n",
    ")\n",
    "from nnlibs.network.models import EpyNN\n",
    "from nnlibs.embedding.models import Embedding\n",
    "from nnlibs.rnn.models import RNN\n",
    "from nnlibs.gru.models import GRU\n",
    "from nnlibs.flatten.models import Flatten\n",
    "from nnlibs.dropout.models import Dropout\n",
    "from nnlibs.dense.models import Dense\n",
    "from prepare_dataset import (\n",
    "    prepare_dataset,\n",
    "    download_music,\n",
    ")\n",
    "from settings import se_hPars\n",
    "\n",
    "\n",
    "########################## CONFIGURE ##########################\n",
    "random.seed(1)\n",
    "\n",
    "np.set_printoptions(threshold=10)\n",
    "\n",
    "np.seterr(all='warn')\n",
    "np.seterr(under='ignore')\n",
    "\n",
    "configure_directory()\n",
    "\n",
    "\n",
    "############################ DATASET ##########################\n",
    "download_music()\n",
    "\n",
    "X_features, Y_label = prepare_dataset(N_SAMPLES=256)"
   ]
  },
  {
   "cell_type": "markdown",
   "metadata": {},
   "source": [
    "Let's inspect."
   ]
  },
  {
   "cell_type": "code",
   "execution_count": 2,
   "metadata": {},
   "outputs": [
    {
     "name": "stdout",
     "output_type": "stream",
     "text": [
      "256\n",
      "(10000,)\n",
      "[10  7  7 ...  9  9  9]\n",
      "1 15\n"
     ]
    }
   ],
   "source": [
    "print(len(X_features))\n",
    "print(X_features[0].shape)\n",
    "print(X_features[0])\n",
    "print(np.min(X_features[0]), np.max(X_features[0]))"
   ]
  },
  {
   "cell_type": "markdown",
   "metadata": {},
   "source": [
    "We clipped the original ``.wav`` files in 1 second clips and thus we could retrieve ``256`` samples. We did that because we do not have an infinite number of data. Since we want more training examples, we need to split the data.\n",
    "\n",
    "Below other problems are discussed:\n",
    "\n",
    "* **Arrays size in memory**: One second represents 44100 data points for each clip and thus ``44100 * 256 = 11.2896e6`` data points in total. More than ten millions of these is more likely to overload your RAM or to raise a memory allocation error on most laptops. This is why we resampled the original ``.wav`` files content to 10000 Hz. When doing that, we loose the patterns associated with frequencies greater than 5000 Hz. Alternatively, we could have made clips of shorther duration but then we would miss patterns associated with lower frequencies. Because guitar emission spectrum is essentially filled below 5000 Hz, we prefered to apply the resampling method.\n",
    "* **Signal normalization**: Original signals were sequences of 16-bits integers ranging from ``-32768`` to ``32767``. Feeding a neural network which such big values will most likely result in floatting point errors. This is why we normalized the original data from each ``.wav`` file within the range \\[0, 1\\].\n",
    "* **Signal digitalization**: While the original signal was a digital signal encoded onver 16-bits integers, this results in ``3e-5`` difference between each digit after normalization within the range \\[0, 1\\]. Such thin differences may be difficult to be evaluated for the network and convergence in the training phase could turn prohibitively slow. In the context of this notebook, we digitalized from 16-bits to 4-bits integers ranging from ``0`` to ``15`` for a total of 16 bins instead of 65536. \n",
    "* **One-hot encoding**: To simplify the problem and focus on patterns, we will eliminate explicit amplitudes by performing one-hot encoding of the univariate, 4-bits encoded time series.\n",
    "\n",
    "All things being said, we can go ahead."
   ]
  },
  {
   "cell_type": "markdown",
   "metadata": {},
   "source": [
    "## Feed-Forward (FF)"
   ]
  },
  {
   "cell_type": "markdown",
   "metadata": {},
   "source": [
    "We first start by our reference, a Feed-Forward network with dropout regularization."
   ]
  },
  {
   "cell_type": "markdown",
   "metadata": {},
   "source": [
    "### Embedding"
   ]
  },
  {
   "cell_type": "markdown",
   "metadata": {},
   "source": [
    "We scaled input data for each ``.wav`` file before, so we do not need to provide the argument to the class constructor of the *embedding* layer. Note that when ``X_scale=True`` it applies a global scaling over the whole training set. Here we work with independant ``.wav`` files which should be normalized separately.\n",
    "\n",
    "For the embedding, we will one-hot encode time series. See [One-hot encoding of string features](../../nnlive/dummy_string/prepare_dataset.html#One-hot-encoding-of-string-features) for details about the process. Note that while one-hot encoding is mandatory when dealing with string input data, it can also be done with digitized numerical data as it is the case here."
   ]
  },
  {
   "cell_type": "code",
   "execution_count": 3,
   "metadata": {},
   "outputs": [],
   "source": [
    "embedding = Embedding(X_data=X_features,\n",
    "                      Y_data=Y_label,\n",
    "                      X_encode=True,\n",
    "                      Y_encode=True,\n",
    "                      batch_size=16,\n",
    "                      relative_size=(2, 1, 0))"
   ]
  },
  {
   "cell_type": "markdown",
   "metadata": {},
   "source": [
    "Let's inspect the shape of the data."
   ]
  },
  {
   "cell_type": "code",
   "execution_count": 4,
   "metadata": {},
   "outputs": [
    {
     "name": "stdout",
     "output_type": "stream",
     "text": [
      "(171, 10000, 16)\n",
      "{1: 71, 0: 100}\n"
     ]
    }
   ],
   "source": [
    "print(embedding.dtrain.X.shape)\n",
    "print(embedding.dtrain.b)"
   ]
  },
  {
   "cell_type": "markdown",
   "metadata": {},
   "source": [
    "We note that we have an unbalanced dataset, with about 2/3 of negative samples."
   ]
  },
  {
   "cell_type": "markdown",
   "metadata": {},
   "source": [
    "### Flatten-(Dense)n with Dropout"
   ]
  },
  {
   "cell_type": "markdown",
   "metadata": {},
   "source": [
    "Let's proceed with the network design and training."
   ]
  },
  {
   "cell_type": "code",
   "execution_count": 5,
   "metadata": {
    "tags": []
   },
   "outputs": [],
   "source": [
    "name = 'Flatten_Dense-64-relu_Dense-2-softmax'\n",
    "\n",
    "se_hPars['learning_rate'] = 0.01\n",
    "se_hPars['softmax_temperature'] = 5\n",
    "\n",
    "layers = [\n",
    "    embedding,\n",
    "    Flatten(),\n",
    "    Dense(64, relu),\n",
    "    Dropout(0.5),\n",
    "    Dense(2, softmax),\n",
    "]\n",
    "\n",
    "model = EpyNN(layers=layers, name=name)"
   ]
  },
  {
   "cell_type": "markdown",
   "metadata": {
    "tags": []
   },
   "source": [
    "We can initialize the model."
   ]
  },
  {
   "cell_type": "code",
   "execution_count": 6,
   "metadata": {
    "tags": []
   },
   "outputs": [
    {
     "name": "stdout",
     "output_type": "stream",
     "text": [
      "\u001b[1m--- EpyNN Check OK! ---                                                                             \u001b[0m\r"
     ]
    }
   ],
   "source": [
    "model.initialize(loss='MSE', seed=1, metrics=['accuracy', 'recall', 'precision'], se_hPars=se_hPars.copy(), end='\\r')"
   ]
  },
  {
   "cell_type": "markdown",
   "metadata": {},
   "source": [
    "Train it for 10 epochs."
   ]
  },
  {
   "cell_type": "code",
   "execution_count": 7,
   "metadata": {},
   "outputs": [
    {
     "name": "stdout",
     "output_type": "stream",
     "text": [
      "\u001b[1m\u001b[37mEpoch 9 - Batch 9/9 - Accuracy: 1.0 Cost: 0.01086 - TIME: 17.5s RATE: 1.10e+01e/s TTC: 0s           \u001b[0m\n",
      "\n",
      "+-------+----------+----------+-------+----------+-------+--------+-------+-----------+-------+-------+--------------------------------------------------+\n",
      "| \u001b[1m\u001b[37mepoch\u001b[0m |  \u001b[1m\u001b[37mlrate\u001b[0m   |  \u001b[1m\u001b[37mlrate\u001b[0m   |       | \u001b[1m\u001b[32maccuracy\u001b[0m |       | \u001b[1m\u001b[31mrecall\u001b[0m |       | \u001b[1m\u001b[35mprecision\u001b[0m |       |  \u001b[1m\u001b[36mMSE\u001b[0m  |                    \u001b[37mExperiment\u001b[0m                    |\n",
      "|       |  \u001b[37mDense\u001b[0m   |  \u001b[37mDense\u001b[0m   |  \u001b[1m\u001b[32m(0)\u001b[0m  |   \u001b[1m\u001b[32m(1)\u001b[0m    |  \u001b[1m\u001b[31m(0)\u001b[0m  |  \u001b[1m\u001b[31m(1)\u001b[0m   |  \u001b[1m\u001b[35m(0)\u001b[0m  |    \u001b[1m\u001b[35m(1)\u001b[0m    |  \u001b[1m\u001b[36m(0)\u001b[0m  |  \u001b[1m\u001b[36m(1)\u001b[0m  |                                                  |\n",
      "+-------+----------+----------+-------+----------+-------+--------+-------+-----------+-------+-------+--------------------------------------------------+\n",
      "|   \u001b[1m\u001b[37m0\u001b[0m   | \u001b[1m\u001b[37m1.00e-02\u001b[0m | \u001b[1m\u001b[37m1.00e-02\u001b[0m | \u001b[1m\u001b[32m0.725\u001b[0m |  \u001b[1m\u001b[32m0.706\u001b[0m   | \u001b[1m\u001b[31m0.860\u001b[0m | \u001b[1m\u001b[31m0.891\u001b[0m  | \u001b[1m\u001b[35m0.723\u001b[0m |   \u001b[1m\u001b[35m0.672\u001b[0m   | \u001b[1m\u001b[36m0.175\u001b[0m | \u001b[1m\u001b[36m0.223\u001b[0m | \u001b[37m1631190223_Flatten_Dense-64-relu_Dense-2-softmax\u001b[0m |\n",
      "|   \u001b[1m\u001b[37m1\u001b[0m   | \u001b[1m\u001b[37m1.00e-02\u001b[0m | \u001b[1m\u001b[37m1.00e-02\u001b[0m | \u001b[1m\u001b[32m0.848\u001b[0m |  \u001b[1m\u001b[32m0.718\u001b[0m   | \u001b[1m\u001b[31m0.960\u001b[0m | \u001b[1m\u001b[31m0.913\u001b[0m  | \u001b[1m\u001b[35m0.814\u001b[0m |   \u001b[1m\u001b[35m0.677\u001b[0m   | \u001b[1m\u001b[36m0.107\u001b[0m | \u001b[1m\u001b[36m0.218\u001b[0m | \u001b[37m1631190223_Flatten_Dense-64-relu_Dense-2-softmax\u001b[0m |\n",
      "|   \u001b[1m\u001b[37m2\u001b[0m   | \u001b[1m\u001b[37m1.00e-02\u001b[0m | \u001b[1m\u001b[37m1.00e-02\u001b[0m | \u001b[1m\u001b[32m0.842\u001b[0m |  \u001b[1m\u001b[32m0.565\u001b[0m   | \u001b[1m\u001b[31m0.740\u001b[0m | \u001b[1m\u001b[31m0.261\u001b[0m  | \u001b[1m\u001b[35m0.987\u001b[0m |   \u001b[1m\u001b[35m0.800\u001b[0m   | \u001b[1m\u001b[36m0.107\u001b[0m | \u001b[1m\u001b[36m0.331\u001b[0m | \u001b[37m1631190223_Flatten_Dense-64-relu_Dense-2-softmax\u001b[0m |\n",
      "|   \u001b[1m\u001b[37m3\u001b[0m   | \u001b[1m\u001b[37m1.00e-02\u001b[0m | \u001b[1m\u001b[37m1.00e-02\u001b[0m | \u001b[1m\u001b[32m0.912\u001b[0m |  \u001b[1m\u001b[32m0.694\u001b[0m   | \u001b[1m\u001b[31m0.990\u001b[0m | \u001b[1m\u001b[31m0.935\u001b[0m  | \u001b[1m\u001b[35m0.876\u001b[0m |   \u001b[1m\u001b[35m0.652\u001b[0m   | \u001b[1m\u001b[36m0.074\u001b[0m | \u001b[1m\u001b[36m0.232\u001b[0m | \u001b[37m1631190223_Flatten_Dense-64-relu_Dense-2-softmax\u001b[0m |\n",
      "|   \u001b[1m\u001b[37m4\u001b[0m   | \u001b[1m\u001b[37m1.00e-02\u001b[0m | \u001b[1m\u001b[37m1.00e-02\u001b[0m | \u001b[1m\u001b[32m0.953\u001b[0m |  \u001b[1m\u001b[32m0.765\u001b[0m   | \u001b[1m\u001b[31m0.980\u001b[0m | \u001b[1m\u001b[31m0.783\u001b[0m  | \u001b[1m\u001b[35m0.942\u001b[0m |   \u001b[1m\u001b[35m0.783\u001b[0m   | \u001b[1m\u001b[36m0.033\u001b[0m | \u001b[1m\u001b[36m0.182\u001b[0m | \u001b[37m1631190223_Flatten_Dense-64-relu_Dense-2-softmax\u001b[0m |\n",
      "|   \u001b[1m\u001b[37m5\u001b[0m   | \u001b[1m\u001b[37m1.00e-02\u001b[0m | \u001b[1m\u001b[37m1.00e-02\u001b[0m | \u001b[1m\u001b[32m0.936\u001b[0m |  \u001b[1m\u001b[32m0.600\u001b[0m   | \u001b[1m\u001b[31m0.930\u001b[0m | \u001b[1m\u001b[31m0.543\u001b[0m  | \u001b[1m\u001b[35m0.959\u001b[0m |   \u001b[1m\u001b[35m0.658\u001b[0m   | \u001b[1m\u001b[36m0.049\u001b[0m | \u001b[1m\u001b[36m0.280\u001b[0m | \u001b[37m1631190223_Flatten_Dense-64-relu_Dense-2-softmax\u001b[0m |\n",
      "|   \u001b[1m\u001b[37m6\u001b[0m   | \u001b[1m\u001b[37m1.00e-02\u001b[0m | \u001b[1m\u001b[37m1.00e-02\u001b[0m | \u001b[1m\u001b[32m0.982\u001b[0m |  \u001b[1m\u001b[32m0.729\u001b[0m   | \u001b[1m\u001b[31m1.000\u001b[0m | \u001b[1m\u001b[31m0.674\u001b[0m  | \u001b[1m\u001b[35m0.971\u001b[0m |   \u001b[1m\u001b[35m0.795\u001b[0m   | \u001b[1m\u001b[36m0.018\u001b[0m | \u001b[1m\u001b[36m0.200\u001b[0m | \u001b[37m1631190223_Flatten_Dense-64-relu_Dense-2-softmax\u001b[0m |\n",
      "|   \u001b[1m\u001b[37m7\u001b[0m   | \u001b[1m\u001b[37m1.00e-02\u001b[0m | \u001b[1m\u001b[37m1.00e-02\u001b[0m | \u001b[1m\u001b[32m0.936\u001b[0m |  \u001b[1m\u001b[32m0.706\u001b[0m   | \u001b[1m\u001b[31m0.910\u001b[0m | \u001b[1m\u001b[31m0.543\u001b[0m  | \u001b[1m\u001b[35m0.978\u001b[0m |   \u001b[1m\u001b[35m0.862\u001b[0m   | \u001b[1m\u001b[36m0.055\u001b[0m | \u001b[1m\u001b[36m0.262\u001b[0m | \u001b[37m1631190223_Flatten_Dense-64-relu_Dense-2-softmax\u001b[0m |\n",
      "|   \u001b[1m\u001b[37m8\u001b[0m   | \u001b[1m\u001b[37m1.00e-02\u001b[0m | \u001b[1m\u001b[37m1.00e-02\u001b[0m | \u001b[1m\u001b[32m0.988\u001b[0m |  \u001b[1m\u001b[32m0.718\u001b[0m   | \u001b[1m\u001b[31m1.000\u001b[0m | \u001b[1m\u001b[31m0.717\u001b[0m  | \u001b[1m\u001b[35m0.980\u001b[0m |   \u001b[1m\u001b[35m0.750\u001b[0m   | \u001b[1m\u001b[36m0.015\u001b[0m | \u001b[1m\u001b[36m0.218\u001b[0m | \u001b[37m1631190223_Flatten_Dense-64-relu_Dense-2-softmax\u001b[0m |\n",
      "|   \u001b[1m\u001b[37m9\u001b[0m   | \u001b[1m\u001b[37m1.00e-02\u001b[0m | \u001b[1m\u001b[37m1.00e-02\u001b[0m | \u001b[1m\u001b[32m0.982\u001b[0m |  \u001b[1m\u001b[32m0.776\u001b[0m   | \u001b[1m\u001b[31m0.990\u001b[0m | \u001b[1m\u001b[31m0.848\u001b[0m  | \u001b[1m\u001b[35m0.980\u001b[0m |   \u001b[1m\u001b[35m0.765\u001b[0m   | \u001b[1m\u001b[36m0.016\u001b[0m | \u001b[1m\u001b[36m0.183\u001b[0m | \u001b[37m1631190223_Flatten_Dense-64-relu_Dense-2-softmax\u001b[0m |\n",
      "+-------+----------+----------+-------+----------+-------+--------+-------+-----------+-------+-------+--------------------------------------------------+\n"
     ]
    }
   ],
   "source": [
    "model.train(epochs=10, init_logs=False)"
   ]
  },
  {
   "cell_type": "markdown",
   "metadata": {},
   "source": [
    "While the model could reproduce the training data with high fidelity, it is less true for the validation data and we observe significant overfitting.\n",
    "\n",
    "We can still comment the **recall** and **precision** metrics:\n",
    "\n",
    "* **Recall**: It represents *the fraction of positive instances retrieved by the model*.\n",
    "* **Precision**: It represents *the fraction of positive instances within the labels predicted as positive*. \n",
    "\n",
    "Said differently:\n",
    "\n",
    "* Given **tp** the *true positive* samples.\n",
    "* Given **tn** the *true negative* samples.\n",
    "* Given **fp** the *false positive* samples.\n",
    "* Given **fn** the *false negative* samples.\n",
    "* Then **recall** = ``tp / (tp+fn)`` and **precision** = ``tp / (tp+fp)``.\n",
    "\n",
    "For code, maths and pictures behind the *Dense* layer, follow this link:\n",
    "\n",
    "* [Fully Connected (Dense)](../../Dense.html)"
   ]
  },
  {
   "cell_type": "markdown",
   "metadata": {},
   "source": [
    "## Recurrent Architectures"
   ]
  },
  {
   "cell_type": "markdown",
   "metadata": {},
   "source": [
    "Recurrent architectures can make a difference here because they process time series one measurement by one measurement. \n",
    "\n",
    "Impotantly, the number of time steps **does not define the size of parameters (weight/bias) array** while in the Feed-Forward network this is the case. \n",
    "\n",
    "For the *dense*, the shape of W is ``n, u`` given ``n`` the number of nodes in the previous layer and ``u`` in the current layer. So when a *dense* layer follows the *embedding* layer, the number of nodes in the *embedding* layer is equal to the number of features, herein the number of time steps ``10 000``. \n",
    "\n",
    "By contrast, the *RNN* layer has parameters shape which depends on the number of units and the uni/multivariate nature of each measurement, but not depending of the number of time steps. In the previous situation there is likely too much parameters and the computation does not converge.\n",
    "\n",
    "Of note, this is because recurrent layers parameters are not defined with respect to sequence length that it is said they can handle data of variable length."
   ]
  },
  {
   "cell_type": "markdown",
   "metadata": {},
   "source": [
    "### Embedding"
   ]
  },
  {
   "cell_type": "markdown",
   "metadata": {},
   "source": [
    "For the embedding, we will one-hot encode time series. See [One-hot encoding of string features](../../nnlive/dummy_string/prepare_dataset.html#One-hot-encoding-of-string-features) for details about the process which follows the same logic and requirement regardless the data-type."
   ]
  },
  {
   "cell_type": "code",
   "execution_count": 8,
   "metadata": {},
   "outputs": [],
   "source": [
    "embedding = Embedding(X_data=X_features,\n",
    "                      Y_data=Y_label,\n",
    "                      X_encode=True,\n",
    "                      Y_encode=True,\n",
    "                      batch_size=16,\n",
    "                      relative_size=(2, 1, 0))"
   ]
  },
  {
   "cell_type": "markdown",
   "metadata": {},
   "source": [
    "Let's inspect the data shape."
   ]
  },
  {
   "cell_type": "code",
   "execution_count": 9,
   "metadata": {},
   "outputs": [
    {
     "name": "stdout",
     "output_type": "stream",
     "text": [
      "(171, 10000, 16)\n"
     ]
    }
   ],
   "source": [
    "print(embedding.dtrain.X.shape)"
   ]
  },
  {
   "cell_type": "markdown",
   "metadata": {},
   "source": [
    "### RNN(sequences=True)-Flatten-(Dense)n with Dropout"
   ]
  },
  {
   "cell_type": "markdown",
   "metadata": {},
   "source": [
    "Time to clarify a point:\n",
    "\n",
    "* We have multivariate like time series (one-hot encoded univariate series) with 10000 time steps.\n",
    "* The 10000 or **length of sequence is unrelated to the number of units in the RNN layer**. The number of units may be whatever, the whole sequence will entirely be processed.\n",
    "* In recurrent layers, parameters shape is related to the number of units and the vocabulary size, not to the length of the sequence. That's why such architectures can handle input sequences of variable length.\n"
   ]
  },
  {
   "cell_type": "code",
   "execution_count": 10,
   "metadata": {
    "tags": []
   },
   "outputs": [],
   "source": [
    "name = 'RNN-1-Seq_Flatten_Dense-64-relu_Dropout05_Dense-2-softmax'\n",
    "\n",
    "se_hPars['learning_rate'] = 0.01\n",
    "se_hPars['softmax_temperature'] = 1\n",
    "\n",
    "layers = [\n",
    "    embedding,\n",
    "    RNN(1, sequences=True),\n",
    "    Flatten(),\n",
    "    Dense(64, relu),\n",
    "    Dropout(0.5),\n",
    "    Dense(2, softmax),\n",
    "]\n",
    "\n",
    "model = EpyNN(layers=layers, name=name)"
   ]
  },
  {
   "cell_type": "markdown",
   "metadata": {
    "tags": []
   },
   "source": [
    "We initialize the model."
   ]
  },
  {
   "cell_type": "code",
   "execution_count": 11,
   "metadata": {
    "tags": []
   },
   "outputs": [
    {
     "name": "stdout",
     "output_type": "stream",
     "text": [
      "\u001b[1m--- EpyNN Check OK! ---                                                                             \u001b[0m\r"
     ]
    }
   ],
   "source": [
    "model.initialize(loss='MSE', seed=1, metrics=['accuracy', 'recall', 'precision'], se_hPars=se_hPars.copy(), end='\\r')"
   ]
  },
  {
   "cell_type": "markdown",
   "metadata": {},
   "source": [
    "We will only train for 3 epochs."
   ]
  },
  {
   "cell_type": "code",
   "execution_count": 12,
   "metadata": {},
   "outputs": [
    {
     "name": "stdout",
     "output_type": "stream",
     "text": [
      "\u001b[1m\u001b[37mEpoch 2 - Batch 9/9 - Accuracy: 0.938 Cost: 0.04189 - TIME: 19.39s RATE: 5.38e-01e/s TTC: 4s        \u001b[0m\n",
      "\n",
      "+-------+----------+----------+----------+-------+----------+-------+--------+-------+-----------+-------+-------+----------------------------------------------------------------------+\n",
      "| \u001b[1m\u001b[37mepoch\u001b[0m |  \u001b[1m\u001b[37mlrate\u001b[0m   |  \u001b[1m\u001b[37mlrate\u001b[0m   |  \u001b[1m\u001b[37mlrate\u001b[0m   |       | \u001b[1m\u001b[32maccuracy\u001b[0m |       | \u001b[1m\u001b[31mrecall\u001b[0m |       | \u001b[1m\u001b[35mprecision\u001b[0m |       |  \u001b[1m\u001b[36mMSE\u001b[0m  |                              \u001b[37mExperiment\u001b[0m                              |\n",
      "|       |   \u001b[37mRNN\u001b[0m    |  \u001b[37mDense\u001b[0m   |  \u001b[37mDense\u001b[0m   |  \u001b[1m\u001b[32m(0)\u001b[0m  |   \u001b[1m\u001b[32m(1)\u001b[0m    |  \u001b[1m\u001b[31m(0)\u001b[0m  |  \u001b[1m\u001b[31m(1)\u001b[0m   |  \u001b[1m\u001b[35m(0)\u001b[0m  |    \u001b[1m\u001b[35m(1)\u001b[0m    |  \u001b[1m\u001b[36m(0)\u001b[0m  |  \u001b[1m\u001b[36m(1)\u001b[0m  |                                                                      |\n",
      "+-------+----------+----------+----------+-------+----------+-------+--------+-------+-----------+-------+-------+----------------------------------------------------------------------+\n",
      "|   \u001b[1m\u001b[37m0\u001b[0m   | \u001b[1m\u001b[37m1.00e-02\u001b[0m | \u001b[1m\u001b[37m1.00e-02\u001b[0m | \u001b[1m\u001b[37m1.00e-02\u001b[0m | \u001b[1m\u001b[32m0.930\u001b[0m |  \u001b[1m\u001b[32m0.741\u001b[0m   | \u001b[1m\u001b[31m0.990\u001b[0m | \u001b[1m\u001b[31m0.891\u001b[0m  | \u001b[1m\u001b[35m0.900\u001b[0m |   \u001b[1m\u001b[35m0.707\u001b[0m   | \u001b[1m\u001b[36m0.050\u001b[0m | \u001b[1m\u001b[36m0.180\u001b[0m | \u001b[37m1631190245_RNN-1-Seq_Flatten_Dense-64-relu_Dropout05_Dense-2-softmax\u001b[0m |\n",
      "|   \u001b[1m\u001b[37m1\u001b[0m   | \u001b[1m\u001b[37m1.00e-02\u001b[0m | \u001b[1m\u001b[37m1.00e-02\u001b[0m | \u001b[1m\u001b[37m1.00e-02\u001b[0m | \u001b[1m\u001b[32m0.965\u001b[0m |  \u001b[1m\u001b[32m0.718\u001b[0m   | \u001b[1m\u001b[31m0.990\u001b[0m | \u001b[1m\u001b[31m0.826\u001b[0m  | \u001b[1m\u001b[35m0.952\u001b[0m |   \u001b[1m\u001b[35m0.704\u001b[0m   | \u001b[1m\u001b[36m0.031\u001b[0m | \u001b[1m\u001b[36m0.179\u001b[0m | \u001b[37m1631190245_RNN-1-Seq_Flatten_Dense-64-relu_Dropout05_Dense-2-softmax\u001b[0m |\n",
      "|   \u001b[1m\u001b[37m2\u001b[0m   | \u001b[1m\u001b[37m1.00e-02\u001b[0m | \u001b[1m\u001b[37m1.00e-02\u001b[0m | \u001b[1m\u001b[37m1.00e-02\u001b[0m | \u001b[1m\u001b[32m0.988\u001b[0m |  \u001b[1m\u001b[32m0.835\u001b[0m   | \u001b[1m\u001b[31m0.990\u001b[0m | \u001b[1m\u001b[31m0.848\u001b[0m  | \u001b[1m\u001b[35m0.990\u001b[0m |   \u001b[1m\u001b[35m0.848\u001b[0m   | \u001b[1m\u001b[36m0.018\u001b[0m | \u001b[1m\u001b[36m0.134\u001b[0m | \u001b[37m1631190245_RNN-1-Seq_Flatten_Dense-64-relu_Dropout05_Dense-2-softmax\u001b[0m |\n",
      "+-------+----------+----------+----------+-------+----------+-------+--------+-------+-----------+-------+-------+----------------------------------------------------------------------+\n"
     ]
    }
   ],
   "source": [
    "model.train(epochs=3, init_logs=False)"
   ]
  },
  {
   "cell_type": "markdown",
   "metadata": {},
   "source": [
    "While we still observe overfitting, it is reduced compared to the Feed-Forward network and the accuracy on the validation set is higher. This model seems, so far, more appropriate to the problem. \n",
    "\n",
    "For code, maths and pictures behind the *RNN* layer, follow this link:\n",
    "\n",
    "* [Recurrent Neural Network (RNN)](../../RNN.html)"
   ]
  },
  {
   "cell_type": "markdown",
   "metadata": {},
   "source": [
    "### GRU(sequences=True)-Flatten-(Dense)n with Dropout"
   ]
  },
  {
   "cell_type": "markdown",
   "metadata": {},
   "source": [
    "Let's now try a more evolved recurrent architecture."
   ]
  },
  {
   "cell_type": "code",
   "execution_count": 13,
   "metadata": {
    "tags": []
   },
   "outputs": [
    {
     "name": "stdout",
     "output_type": "stream",
     "text": [
      "\u001b[1m\u001b[37mEpoch 2 - Batch 9/9 - Accuracy: 0.812 Cost: 0.14584 - TIME: 73.36s RATE: 1.37e-01e/s TTC: 15s       \u001b[0m\n",
      "\n",
      "+-------+----------+----------+----------+-------+----------+-------+--------+-------+-----------+-------+-------+----------------------------------------------------------------------+\n",
      "| \u001b[1m\u001b[37mepoch\u001b[0m |  \u001b[1m\u001b[37mlrate\u001b[0m   |  \u001b[1m\u001b[37mlrate\u001b[0m   |  \u001b[1m\u001b[37mlrate\u001b[0m   |       | \u001b[1m\u001b[32maccuracy\u001b[0m |       | \u001b[1m\u001b[31mrecall\u001b[0m |       | \u001b[1m\u001b[35mprecision\u001b[0m |       |  \u001b[1m\u001b[36mMSE\u001b[0m  |                              \u001b[37mExperiment\u001b[0m                              |\n",
      "|       |   \u001b[37mGRU\u001b[0m    |  \u001b[37mDense\u001b[0m   |  \u001b[37mDense\u001b[0m   |  \u001b[1m\u001b[32m(0)\u001b[0m  |   \u001b[1m\u001b[32m(1)\u001b[0m    |  \u001b[1m\u001b[31m(0)\u001b[0m  |  \u001b[1m\u001b[31m(1)\u001b[0m   |  \u001b[1m\u001b[35m(0)\u001b[0m  |    \u001b[1m\u001b[35m(1)\u001b[0m    |  \u001b[1m\u001b[36m(0)\u001b[0m  |  \u001b[1m\u001b[36m(1)\u001b[0m  |                                                                      |\n",
      "+-------+----------+----------+----------+-------+----------+-------+--------+-------+-----------+-------+-------+----------------------------------------------------------------------+\n",
      "|   \u001b[1m\u001b[37m0\u001b[0m   | \u001b[1m\u001b[37m1.00e-02\u001b[0m | \u001b[1m\u001b[37m1.00e-02\u001b[0m | \u001b[1m\u001b[37m1.00e-02\u001b[0m | \u001b[1m\u001b[32m0.585\u001b[0m |  \u001b[1m\u001b[32m0.541\u001b[0m   | \u001b[1m\u001b[31m1.000\u001b[0m | \u001b[1m\u001b[31m1.000\u001b[0m  | \u001b[1m\u001b[35m0.585\u001b[0m |   \u001b[1m\u001b[35m0.541\u001b[0m   | \u001b[1m\u001b[36m0.224\u001b[0m | \u001b[1m\u001b[36m0.273\u001b[0m | \u001b[37m1631190264_GRU-1-Seq_Flatten_Dense-64-relu_Dropout05_Dense-2-softmax\u001b[0m |\n",
      "|   \u001b[1m\u001b[37m1\u001b[0m   | \u001b[1m\u001b[37m1.00e-02\u001b[0m | \u001b[1m\u001b[37m1.00e-02\u001b[0m | \u001b[1m\u001b[37m1.00e-02\u001b[0m | \u001b[1m\u001b[32m0.848\u001b[0m |  \u001b[1m\u001b[32m0.647\u001b[0m   | \u001b[1m\u001b[31m0.760\u001b[0m | \u001b[1m\u001b[31m0.457\u001b[0m  | \u001b[1m\u001b[35m0.974\u001b[0m |   \u001b[1m\u001b[35m0.808\u001b[0m   | \u001b[1m\u001b[36m0.158\u001b[0m | \u001b[1m\u001b[36m0.233\u001b[0m | \u001b[37m1631190264_GRU-1-Seq_Flatten_Dense-64-relu_Dropout05_Dense-2-softmax\u001b[0m |\n",
      "|   \u001b[1m\u001b[37m2\u001b[0m   | \u001b[1m\u001b[37m1.00e-02\u001b[0m | \u001b[1m\u001b[37m1.00e-02\u001b[0m | \u001b[1m\u001b[37m1.00e-02\u001b[0m | \u001b[1m\u001b[32m0.889\u001b[0m |  \u001b[1m\u001b[32m0.588\u001b[0m   | \u001b[1m\u001b[31m1.000\u001b[0m | \u001b[1m\u001b[31m0.891\u001b[0m  | \u001b[1m\u001b[35m0.840\u001b[0m |   \u001b[1m\u001b[35m0.577\u001b[0m   | \u001b[1m\u001b[36m0.095\u001b[0m | \u001b[1m\u001b[36m0.251\u001b[0m | \u001b[37m1631190264_GRU-1-Seq_Flatten_Dense-64-relu_Dropout05_Dense-2-softmax\u001b[0m |\n",
      "+-------+----------+----------+----------+-------+----------+-------+--------+-------+-----------+-------+-------+----------------------------------------------------------------------+\n"
     ]
    }
   ],
   "source": [
    "name = 'GRU-1-Seq_Flatten_Dense-64-relu_Dropout05_Dense-2-softmax'\n",
    "\n",
    "se_hPars['learning_rate'] = 0.01\n",
    "se_hPars['softmax_temperature'] = 1\n",
    "\n",
    "layers = [\n",
    "    embedding,\n",
    "    GRU(1, sequences=True),\n",
    "    Flatten(),\n",
    "    Dense(64, relu),\n",
    "    Dropout(0.5),\n",
    "    Dense(2, softmax),\n",
    "]\n",
    "\n",
    "model = EpyNN(layers=layers, name=name)\n",
    "\n",
    "model.initialize(loss='MSE', seed=1, metrics=['accuracy', 'recall', 'precision'], se_hPars=se_hPars.copy(), end='\\r')\n",
    "\n",
    "model.train(epochs=3, init_logs=False)"
   ]
  },
  {
   "cell_type": "markdown",
   "metadata": {
    "tags": []
   },
   "source": [
    "In the context of this example, the GRU-based network performs poorly compared to both Feed-Forward and RNN-based networks. While we may attempt to optimize using more samples, different batch size, decaying learning rate and many other things, this teaches us that the more complex architecture is not necessarily the more appropriate one. This always depends on the context and most importantly computational and human time required with respect to anticipated possibility of improvements.\n",
    "\n",
    "For code, maths and pictures behind the *GRU* layer, follow this link:\n",
    "\n",
    "* [Gated Recurrent Unit (GRU)](../../GRU.html)"
   ]
  },
  {
   "cell_type": "markdown",
   "metadata": {},
   "source": [
    "## Write, Read & Predict"
   ]
  },
  {
   "cell_type": "code",
   "execution_count": 14,
   "metadata": {},
   "outputs": [
    {
     "name": "stdout",
     "output_type": "stream",
     "text": [
      "\u001b[1m\u001b[32mMake: /media/synthase/beta/EpyNN/nnlive/author_music/models/1631190264_GRU-1-Seq_Flatten_Dense-64-relu_Dropout05_Dense-2-softmax.pickle\u001b[0m\n",
      "0 0 [0.62348587 0.37651413]\n",
      "1 0 [0.63667543 0.36332457]\n",
      "2 0 [0.81301845 0.18698155]\n",
      "3 0 [0.95380408 0.04619592]\n",
      "4 0 [0.99581376 0.00418624]\n",
      "5 0 [0.79320167 0.20679833]\n",
      "6 0 [0.62564515 0.37435485]\n",
      "7 0 [0.64342594 0.35657406]\n",
      "8 0 [0.56949781 0.43050219]\n",
      "9 0 [0.5813419 0.4186581]\n"
     ]
    }
   ],
   "source": [
    "### Write/read model\n",
    "\n",
    "model.write()\n",
    "\n",
    "model = read_model()\n",
    "\n",
    "\n",
    "### Predict\n",
    "\n",
    "X_features, _ = prepare_dataset(N_SAMPLES=10)\n",
    "\n",
    "dset = model.predict(X_features, X_encode=True)\n",
    "\n",
    "for n, pred, probs in zip(dset.ids, dset.P, dset.A):\n",
    "    print(n, pred, probs)"
   ]
  },
  {
   "cell_type": "markdown",
   "metadata": {},
   "source": [
    "Note that we wrote to the disk the last model we computed, which was the poorest in terms on performance. Therefore, predictions achieved here are not expected to be appropriate. The RNN-based network should be saved instead and will provide more accurate results."
   ]
  }
 ],
 "metadata": {
  "kernelspec": {
   "display_name": "Python 3",
   "language": "python",
   "name": "python3"
  },
  "language_info": {
   "codemirror_mode": {
    "name": "ipython",
    "version": 3
   },
   "file_extension": ".py",
   "mimetype": "text/x-python",
   "name": "python",
   "nbconvert_exporter": "python",
   "pygments_lexer": "ipython3",
   "version": "3.7.3"
  }
 },
 "nbformat": 4,
 "nbformat_minor": 4
}
