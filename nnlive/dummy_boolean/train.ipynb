{
 "cells": [
  {
   "cell_type": "markdown",
   "metadata": {},
   "source": [
    "# Basics with Perceptron (P)"
   ]
  },
  {
   "cell_type": "markdown",
   "metadata": {
    "tags": []
   },
   "source": [
    "* Find this notebook at `EpyNN/nnlive/dummy_boolean/train.ipynb`.\n",
    "* Regular python code at `EpyNN/nnlive/dummy_boolean/train.py`."
   ]
  },
  {
   "cell_type": "markdown",
   "metadata": {},
   "source": [
    "In this notebook we will review:\n",
    "\n",
    "* Handling Boolean data.\n",
    "* Design and train a simple perceptron using EpyNN objects.\n",
    "* Basics and general concepts relevant to the context."
   ]
  },
  {
   "cell_type": "markdown",
   "metadata": {},
   "source": [
    "**<font color='red'>This notebook does not enhance, extend or replace EpyNN's documentation.</font>**\n",
    "\n",
    "**Relevant documentation pages for the current notebook:**\n",
    "\n",
    "* [Neural Network - Model](https://epynn.net/EpyNN_Model.html)\n",
    "* [Architecture layers - Model](https://epynn.net/Layer_Model.html)\n",
    "* [Data - Model](https://epynn.net/Data_Model.html)\n",
    "* [Data Embedding (Input)](https://epynn.net/Embedding.html)\n",
    "* [Fully Connected (Dense)](https://epynn.net/Dense.html)"
   ]
  },
  {
   "cell_type": "markdown",
   "metadata": {},
   "source": [
    "## Import, configure and retrieve data"
   ]
  },
  {
   "cell_type": "markdown",
   "metadata": {},
   "source": [
    "Follow [this link](prepare_dataset.ipynb) for details about data preparation."
   ]
  },
  {
   "cell_type": "markdown",
   "metadata": {},
   "source": [
    "We will import all libraries and configure seeding, behaviors and directory. "
   ]
  },
  {
   "cell_type": "markdown",
   "metadata": {},
   "source": [
    "### Imports"
   ]
  },
  {
   "cell_type": "code",
   "execution_count": 1,
   "metadata": {},
   "outputs": [],
   "source": [
    "# EpyNN/nnlive/dummy_boolean/train.ipynb\n",
    "# Standard library imports\n",
    "import random\n",
    "\n",
    "# Related third party imports\n",
    "import numpy as np\n",
    "\n",
    "# Local application/library specific imports\n",
    "import nnlibs.initialize\n",
    "from nnlibs.commons.library import (\n",
    "    configure_directory,\n",
    "    read_model,\n",
    ")\n",
    "from nnlibs.network.models import EpyNN\n",
    "from nnlibs.embedding.models import Embedding\n",
    "from nnlibs.dense.models import Dense\n",
    "from prepare_dataset import prepare_dataset"
   ]
  },
  {
   "cell_type": "markdown",
   "metadata": {},
   "source": [
    "Note that we imported all libraries we will use, at once and on top of the script. Even though we are going through a notebook, we should pay attention to follow good practices for imports as stated in [PEP 8 -- Style Guide for Python Code](https://www.python.org/dev/peps/pep-0008/#imports).\n",
    "\n",
    "You may have also noted that ``# Related third party imports`` are limited to ``numpy``. \n",
    "\n",
    "We developed an educational resource for which computations rely on pure Python/NumPy, nothing else."
   ]
  },
  {
   "cell_type": "markdown",
   "metadata": {},
   "source": [
    "### Configuration"
   ]
  },
  {
   "cell_type": "markdown",
   "metadata": {},
   "source": [
    "Let's now proceed with the configuration and preferences for the current script."
   ]
  },
  {
   "cell_type": "code",
   "execution_count": 2,
   "metadata": {},
   "outputs": [
    {
     "name": "stdout",
     "output_type": "stream",
     "text": [
      "\u001b[1m\u001b[31mRemove: /media/synthase/beta/EpyNN/nnlive/dummy_boolean/datasets\u001b[0m\n",
      "\u001b[1m\u001b[32mMake: /media/synthase/beta/EpyNN/nnlive/dummy_boolean/datasets\u001b[0m\n",
      "\u001b[1m\u001b[31mRemove: /media/synthase/beta/EpyNN/nnlive/dummy_boolean/models\u001b[0m\n",
      "\u001b[1m\u001b[32mMake: /media/synthase/beta/EpyNN/nnlive/dummy_boolean/models\u001b[0m\n",
      "\u001b[1m\u001b[31mRemove: /media/synthase/beta/EpyNN/nnlive/dummy_boolean/plots\u001b[0m\n",
      "\u001b[1m\u001b[32mMake: /media/synthase/beta/EpyNN/nnlive/dummy_boolean/plots\u001b[0m\n"
     ]
    }
   ],
   "source": [
    "random.seed(1)\n",
    "\n",
    "np.set_printoptions(threshold=10)\n",
    "\n",
    "np.seterr(all='warn')\n",
    "\n",
    "configure_directory(clear=True)    # This is a dummy example"
   ]
  },
  {
   "cell_type": "markdown",
   "metadata": {},
   "source": [
    "We already explained the [reason for seeding](prepare_dataset.html#Seeding).\n",
    "\n",
    "The call to ``np.set_printoptions()`` set the printing behavior of NumPy arrays. To not overfill this notebook, we instructed that beyond ``threshold=10`` NumPy will trigger summarization rather than full representation.\n",
    "\n",
    "The call to ``np.seterr()`` is **very important** if you want to be aware of what's happening in your Network. Follow the [numpy.seterr](https://numpy.org/doc/stable/reference/generated/numpy.seterr.html) official documentation for details. Herein, we make sure that floating-point errors will always ``warn`` on the terminal session and thus we will always be aware of them.\n",
    "\n",
    "Finally, the call to ``configure_directory()`` is purely facultative but creates the default EpyNN subdirectories in the working directory."
   ]
  },
  {
   "cell_type": "markdown",
   "metadata": {},
   "source": [
    "### Retrieve Boolean features and label "
   ]
  },
  {
   "cell_type": "markdown",
   "metadata": {},
   "source": [
    "From [prepare_dataset](prepare_dataset.ipynb#Preparedataset) we imported the function ``prepare_dataset()``."
   ]
  },
  {
   "cell_type": "code",
   "execution_count": 3,
   "metadata": {},
   "outputs": [],
   "source": [
    "X_features, Y_label = prepare_dataset(N_SAMPLES=50)"
   ]
  },
  {
   "cell_type": "markdown",
   "metadata": {},
   "source": [
    "Let's inspect, always."
   ]
  },
  {
   "cell_type": "code",
   "execution_count": 4,
   "metadata": {},
   "outputs": [
    {
     "name": "stdout",
     "output_type": "stream",
     "text": [
      "0 False [False, True, False, True, True, False, True, False, True, False, False]\n",
      "1 True [False, True, False, True, True, False, True, False, True, False, True]\n",
      "1 True [True, True, False, True, False, True, True, False, False, True, False]\n",
      "0 False [False, False, False, False, False, False, True, True, False, False, True]\n",
      "0 False [False, False, False, False, False, True, True, False, True, True, True]\n"
     ]
    }
   ],
   "source": [
    "for sample in list(zip(X_features, Y_label))[:5]:\n",
    "    features, label = sample\n",
    "    print(label, (features.count(True) > features.count(False)), features)"
   ]
  },
  {
   "cell_type": "markdown",
   "metadata": {},
   "source": [
    "We have what we expect. Remeber that the conditional expression is the dummy law we used to assign a label to dummy sample boolean features."
   ]
  },
  {
   "cell_type": "markdown",
   "metadata": {},
   "source": [
    "## Perceptron - Single layer Neural Network"
   ]
  },
  {
   "cell_type": "markdown",
   "metadata": {},
   "source": [
    "Herein, we are going to build the most simple Neural Network and to train it in the most simple way we can."
   ]
  },
  {
   "cell_type": "markdown",
   "metadata": {},
   "source": [
    "### The Embedding layer object"
   ]
  },
  {
   "cell_type": "markdown",
   "metadata": {},
   "source": [
    "In EpyNN, data must be passed as arguments upon call of the ``Embedding()`` layer class constructor.\n",
    "\n",
    "The instantiated object - the embedding or input layer - is always the first layer in Neural Networks made with EpyNN."
   ]
  },
  {
   "cell_type": "code",
   "execution_count": 5,
   "metadata": {},
   "outputs": [],
   "source": [
    "embedding = Embedding(X_data=X_features,\n",
    "                      Y_data=Y_label,\n",
    "                      relative_size=(2, 1, 0)) # Training, validation, testing set"
   ]
  },
  {
   "cell_type": "markdown",
   "metadata": {},
   "source": [
    "The arguments ``X_features`` and ``Y_label`` passed in the class constructor have been split with respect to relative sizes for training, validation and testing sets.\n",
    "\n",
    "Let's explore some properties and attributes of the instantiated ``embedding`` layer object."
   ]
  },
  {
   "cell_type": "code",
   "execution_count": 6,
   "metadata": {},
   "outputs": [
    {
     "name": "stdout",
     "output_type": "stream",
     "text": [
      "<class 'nnlibs.embedding.models.Embedding'>\n",
      "0 d {}\n",
      "1 fs {}\n",
      "2 p {}\n",
      "3 fc {}\n",
      "4 bs {}\n",
      "5 g {}\n",
      "6 bc {}\n",
      "7 o {}\n",
      "8 activation {}\n",
      "9 se_hPars None\n",
      "10 se_dataset {'dtrain_relative': 2, 'dval_relative': 1, 'dtest_relative': 0, 'batch_size': None, 'X_scale': False, 'X_encode': False, 'Y_encode': False}\n",
      "11 dtrain <nnlibs.commons.models.dataSet object at 0x7f333c512400>\n",
      "12 dval <nnlibs.commons.models.dataSet object at 0x7f333c512470>\n",
      "13 dtest <nnlibs.commons.models.dataSet object at 0x7f333c5124a8>\n",
      "14 dsets [<nnlibs.commons.models.dataSet object at 0x7f333c512400>, <nnlibs.commons.models.dataSet object at 0x7f333c512470>]\n",
      "15 trainable False\n"
     ]
    }
   ],
   "source": [
    "# Type of object\n",
    "print(type(embedding))\n",
    "\n",
    "# Attributes and values of embedding layer\n",
    "for i, (attr, value) in enumerate(vars(embedding).items()):\n",
    "    print(i, attr, value)"
   ]
  },
  {
   "cell_type": "markdown",
   "metadata": {},
   "source": [
    "**Lines 0-9**: Inherited from ``nnlibs.commons.models.Layer`` which is the [Base Layer](https://epynn.net/Layer_Model.html#base-layer). These instance attributes exist for any layers in EpyNN.\n",
    "\n",
    "**Lines 10-15**: Instance attributes specific to ``nnlibs.embedding.models.Embedding`` layer. \n",
    "\n",
    "* (10) se_dataset: Contains data-related settings applied upon layer instantiation\n",
    "* (11-13) dtrain, dval, dtest: Training, validation and testing sets in EpyNN ``dataSet`` object.\n",
    "* (14) batch_dtrain: Training mini-batches. Contains the data actually used for training.\n",
    "* (15) dsets: Contains the active datasets that will be evaluated during training. It contains only two ``dataSet`` objects because dval was set to empty."
   ]
  },
  {
   "cell_type": "markdown",
   "metadata": {},
   "source": [
    "### The dataSet object"
   ]
  },
  {
   "cell_type": "markdown",
   "metadata": {},
   "source": [
    "Let's examinate one ``dataSet`` object the same way."
   ]
  },
  {
   "cell_type": "code",
   "execution_count": 7,
   "metadata": {},
   "outputs": [
    {
     "name": "stdout",
     "output_type": "stream",
     "text": [
      "<class 'nnlibs.commons.models.dataSet'>\n",
      "0 name dtrain\n",
      "1 active True\n",
      "2 X [[False  True False ...  True False False]\n",
      " [False  True False ...  True False  True]\n",
      " [ True  True False ... False  True False]\n",
      " ...\n",
      " [ True False False ...  True False False]\n",
      " [False False False ...  True False  True]\n",
      " [False False  True ...  True False  True]]\n",
      "3 Y [[0]\n",
      " [1]\n",
      " [1]\n",
      " ...\n",
      " [0]\n",
      " [0]\n",
      " [0]]\n",
      "4 y [0 1 1 ... 0 0 0]\n",
      "5 b {0: 15, 1: 18}\n",
      "6 ids [ 0  1  2 ... 30 31 32]\n",
      "7 A []\n",
      "8 P []\n"
     ]
    }
   ],
   "source": [
    "# Type of object\n",
    "print(type(embedding.dtrain))\n",
    "\n",
    "# Attributes and values of embedding layer\n",
    "for i, (attr, value) in enumerate(vars(embedding.dtrain).items()):\n",
    "    print(i, attr, value)"
   ]
  },
  {
   "cell_type": "markdown",
   "metadata": {},
   "source": [
    "* (0) name: Self-explaining\n",
    "* (1) active: If it contains data\n",
    "* (2) X: Set of sample features\n",
    "* (3) Y: Set of sample label.\n",
    "* (4) y: Set of single-digit sample label.\n",
    "* (5) b: Balance of labels in set.\n",
    "* (6) ids: Sample identifiers.\n",
    "* (7) A: Output of forward propagation\n",
    "* (8) P: Label predictions.\n",
    "\n",
    "For full documentation of ``nnlibs.commons.models.dataSet`` object, you can refer to [Data - Model](https://epynn.net/Data_Model.html).\n",
    "\n",
    "Note that in the present example we use single digit-labels and therefore the only difference between (3) and (4) is about the shape. The reason for this apparent duplicate will appear in a next notebook."
   ]
  },
  {
   "cell_type": "code",
   "execution_count": 8,
   "metadata": {},
   "outputs": [
    {
     "name": "stdout",
     "output_type": "stream",
     "text": [
      "(33, 1)\n",
      "(33,)\n",
      "True\n"
     ]
    }
   ],
   "source": [
    "print(embedding.dtrain.Y.shape)\n",
    "print(embedding.dtrain.y.shape)\n",
    "\n",
    "print(all(embedding.dtrain.Y.flatten() == embedding.dtrain.y))"
   ]
  },
  {
   "cell_type": "markdown",
   "metadata": {},
   "source": [
    "We described how to instantiate the embedding - or input - layer with EpyNN and we browsed the attached attribute-value pairs.\n",
    "\n",
    "We observed that it contains ``dataSet`` objects and we browsed the corresponding attribute-value pairs for the training set.\n",
    "\n",
    "We introduced all we needed to know.\n",
    "\n",
    "We are ready."
   ]
  },
  {
   "cell_type": "markdown",
   "metadata": {},
   "source": [
    "For more information about, please follow this link:\n",
    "\n",
    "* [Data - Model](https://epynn.net/Data_Model.html)"
   ]
  },
  {
   "cell_type": "markdown",
   "metadata": {},
   "source": [
    "### The Dense layer object"
   ]
  },
  {
   "cell_type": "code",
   "execution_count": 9,
   "metadata": {},
   "outputs": [],
   "source": [
    "dense = Dense()    # Defaults to Dense(nodes=1, activation=sigmoid)"
   ]
  },
  {
   "cell_type": "markdown",
   "metadata": {},
   "source": [
    "This one was easy. Let's inspect."
   ]
  },
  {
   "cell_type": "code",
   "execution_count": 10,
   "metadata": {},
   "outputs": [
    {
     "name": "stdout",
     "output_type": "stream",
     "text": [
      "<class 'nnlibs.dense.models.Dense'>\n",
      "0 d {'u': 1}\n",
      "1 fs {}\n",
      "2 p {}\n",
      "3 fc {}\n",
      "4 bs {}\n",
      "5 g {}\n",
      "6 bc {}\n",
      "7 o {}\n",
      "8 activation {'activate': 'sigmoid'}\n",
      "9 se_hPars None\n",
      "10 activate <function sigmoid at 0x7f333c4ff8c8>\n",
      "11 initialization <function xavier at 0x7f333c4ffa60>\n",
      "12 trainable True\n"
     ]
    }
   ],
   "source": [
    "# Type of object\n",
    "print(type(dense))\n",
    "\n",
    "# Attributes and values of dense layer\n",
    "for i, (attr, value) in enumerate(vars(dense).items()):\n",
    "    print(i, attr, value)"
   ]
  },
  {
   "cell_type": "markdown",
   "metadata": {},
   "source": [
    "Note that (1) indicates the number of nodes in the Dense layer, and (8, 11) the activation function for this layer. See [Activation - Functions](https://epynn.net/activation.html) for details."
   ]
  },
  {
   "cell_type": "markdown",
   "metadata": {},
   "source": [
    "For code, maths and pictures behind layers in general and the dense layer in particular, follow these link:\n",
    "\n",
    "* [Base layer](https://epynn.net/Layer_Model.html#base-layer)\n",
    "* [Template layer](https://epynn.net/Layer_Model.html#template-layer)\n",
    "* [Fully Connected (Dense)](https://epynn.net/Dense.html)"
   ]
  },
  {
   "cell_type": "markdown",
   "metadata": {},
   "source": [
    "## The EpyNN Network object"
   ]
  },
  {
   "cell_type": "markdown",
   "metadata": {},
   "source": [
    "### Instantiate your Perceptron"
   ]
  },
  {
   "cell_type": "markdown",
   "metadata": {},
   "source": [
    "Now that we have an embedding (input) layer and a Dense (output) layer, we can instantiate the EpyNN object which represents the Neural Network."
   ]
  },
  {
   "cell_type": "code",
   "execution_count": 11,
   "metadata": {},
   "outputs": [],
   "source": [
    "layers = [embedding, dense]"
   ]
  },
  {
   "cell_type": "markdown",
   "metadata": {},
   "source": [
    "The list ``layers`` is the architecture of a Perceptron."
   ]
  },
  {
   "cell_type": "code",
   "execution_count": 12,
   "metadata": {},
   "outputs": [],
   "source": [
    "model = EpyNN(layers=layers, name='Perceptron_Dense-1-sigmoid')"
   ]
  },
  {
   "cell_type": "markdown",
   "metadata": {},
   "source": [
    "The object ``EpyNN`` is the Perceptron itself.\n",
    "\n",
    "Let's proove it."
   ]
  },
  {
   "cell_type": "code",
   "execution_count": 13,
   "metadata": {},
   "outputs": [
    {
     "name": "stdout",
     "output_type": "stream",
     "text": [
      "<class 'nnlibs.network.models.EpyNN'>\n",
      "0 layers [<nnlibs.embedding.models.Embedding object at 0x7f333c5123c8>, <nnlibs.dense.models.Dense object at 0x7f333c5032b0>]\n",
      "1 embedding <nnlibs.embedding.models.Embedding object at 0x7f333c5123c8>\n",
      "2 ts 1631701398\n",
      "3 uname 1631701398_Perceptron_Dense-1-sigmoid\n",
      "4 initialized False\n"
     ]
    }
   ],
   "source": [
    "# Type of object\n",
    "print(type(model))\n",
    "\n",
    "# Attributes and values of EpyNN model for a Perceptron\n",
    "for i, (attr, value) in enumerate(vars(model).items()):\n",
    "    print(i, attr, value)"
   ]
  },
  {
   "cell_type": "markdown",
   "metadata": {},
   "source": [
    "Does it really contain the layers we instantiated before?"
   ]
  },
  {
   "cell_type": "code",
   "execution_count": 14,
   "metadata": {},
   "outputs": [
    {
     "name": "stdout",
     "output_type": "stream",
     "text": [
      "True\n",
      "True\n"
     ]
    }
   ],
   "source": [
    "print((model.embedding == embedding))\n",
    "print((model.layers[-1] == dense))"
   ]
  },
  {
   "cell_type": "markdown",
   "metadata": {},
   "source": [
    "### Perceptron training"
   ]
  },
  {
   "cell_type": "markdown",
   "metadata": {},
   "source": [
    "It does seem, yes.\n",
    "\n",
    "We are going to start the training of this Perceptron with all defaults, the very most simple."
   ]
  },
  {
   "cell_type": "code",
   "execution_count": 15,
   "metadata": {},
   "outputs": [
    {
     "name": "stdout",
     "output_type": "stream",
     "text": [
      "\u001b[1m--- EpyNN Check ---                                                                                 \u001b[0m\n",
      "\u001b[1mLayer: Embedding\u001b[0m\n",
      "\u001b[1m\u001b[32mcompute_shapes: Embedding\u001b[0m\n",
      "\u001b[1m\u001b[32minitialize_parameters: Embedding\u001b[0m\n",
      "\u001b[1m\u001b[32mforward: Embedding\u001b[0m\n",
      "shape: (33, 11)\n",
      "\u001b[1mLayer: Dense\u001b[0m\n",
      "\u001b[1m\u001b[32mcompute_shapes: Dense\u001b[0m\n",
      "\u001b[1m\u001b[32minitialize_parameters: Dense\u001b[0m\n",
      "\u001b[1m\u001b[32mforward: Dense\u001b[0m\n",
      "shape: (33, 1)\n",
      "\u001b[1mLayer: Dense\u001b[0m\n",
      "\u001b[1m\u001b[36mbackward: Dense\u001b[0m\n",
      "shape: (33, 11)\n",
      "\u001b[1m\u001b[36mcompute_gradients: Dense\u001b[0m\n",
      "\u001b[1mLayer: Embedding\u001b[0m\n",
      "\u001b[1m\u001b[36mbackward: Embedding\u001b[0m\n",
      "shape: (33, 11)\n",
      "\u001b[1m\u001b[36mcompute_gradients: Embedding\u001b[0m\n",
      "\u001b[1m--- EpyNN Check OK! ---                                                                             \u001b[0m\n",
      "\u001b[1m----------------------- 1631701398_Perceptron_Dense-1-sigmoid -------------------------\n",
      "\u001b[0m\n",
      "\n",
      "\u001b[1m-------------------------------- Datasets ------------------------------------\n",
      "\u001b[0m\n",
      "+--------+------+-------+-------+\n",
      "| dtrain | dval | dtest | batch |\n",
      "| (0)    | (1)  | (2)   | size  |\n",
      "+--------+------+-------+-------+\n",
      "| 33     | 17   | None  | None  |\n",
      "+--------+------+-------+-------+\n",
      "\n",
      "+----------+--------+------+-------+\n",
      "| N_LABELS | dtrain | dval | dtest |\n",
      "|          | (0)    | (1)  | (2)   |\n",
      "+----------+--------+------+-------+\n",
      "| 2        | 0: 15  | 0: 8 | None  |\n",
      "|          | 1: 18  | 1: 9 |       |\n",
      "+----------+--------+------+-------+\n",
      "\n",
      "\u001b[1m----------------------- Model Architecture -------------------------\n",
      "\u001b[0m\n",
      "+----+-----------+------------+-------------------+-------------+--------------+\n",
      "| ID | Layer     | Dimensions | Activation        | FW_Shapes   | BW_Shapes    |\n",
      "+----+-----------+------------+-------------------+-------------+--------------+\n",
      "| 0  | Embedding | m: 33      |                   | X: (33, 11) | dA: (33, 11) |\n",
      "|    |           | n: 11      |                   | A: (33, 11) | dX: (33, 11) |\n",
      "+----+-----------+------------+-------------------+-------------+--------------+\n",
      "| 1  | Dense     | u: 1       | activate: sigmoid | X: (33, 11) | dA: (33, 1)  |\n",
      "|    |           | m: 33      |                   | W: (11, 1)  | dZ: (33, 1)  |\n",
      "|    |           | n: 11      |                   | b: (1, 1)   | dX: (33, 11) |\n",
      "|    |           |            |                   | Z: (33, 1)  |              |\n",
      "|    |           |            |                   | A: (33, 1)  |              |\n",
      "+----+-----------+------------+-------------------+-------------+--------------+\n",
      "\n",
      "\u001b[1m------------------------------------------- Layers ---------------------------------------------\n",
      "\u001b[0m\n",
      "+-------+--------+----------+---------+--------+---------+--------+----------+----------+-----+\n",
      "| Layer | epochs | schedule | decay_k | cycle  | cycle   | cycle  | learning | learning | end |\n",
      "|       |        |          |         | epochs | descent | number | rate     | rate     | (%) |\n",
      "|       |        |          |         |        |         |        | (start)  | (end)    |     |\n",
      "+-------+--------+----------+---------+--------+---------+--------+----------+----------+-----+\n",
      "| Dense | 100    | steady   | 0.050   | 0      | 0       | 1      | 0.100    | 0.100    | 100 |\n",
      "+-------+--------+----------+---------+--------+---------+--------+----------+----------+-----+\n",
      "\n",
      "+-------+-------+-------+-------------+\n",
      "| Layer | LRELU | ELU   | softmax     |\n",
      "|       | alpha | alpha | temperature |\n",
      "+-------+-------+-------+-------------+\n",
      "| Dense | 0.300 | 1     | 1           |\n",
      "+-------+-------+-------+-------------+\n",
      "\n",
      "\u001b[1m----------------------- 1631701398_Perceptron_Dense-1-sigmoid -------------------------\n",
      "\u001b[0m\n",
      "\n",
      "\u001b[1m\u001b[37mEpoch 99 - Batch 0/0 - Accuracy: 1.0 Cost: 0.05829 - TIME: 4.95s RATE: 5.96e+04e/s TTC: 0s          \u001b[0m\n",
      "\n",
      "+-------+----------+----------+-------+--------+-------+---------------------------------------+\n",
      "| \u001b[1m\u001b[37mepoch\u001b[0m |  \u001b[1m\u001b[37mlrate\u001b[0m   | \u001b[1m\u001b[32maccuracy\u001b[0m |       |  \u001b[1m\u001b[31mMSE\u001b[0m   |       |              \u001b[37mExperiment\u001b[0m               |\n",
      "|       |  \u001b[37mDense\u001b[0m   |  \u001b[1m\u001b[32mdtrain\u001b[0m  | \u001b[1m\u001b[32mdval\u001b[0m  | \u001b[1m\u001b[31mdtrain\u001b[0m | \u001b[1m\u001b[31mdval\u001b[0m  |                                       |\n",
      "+-------+----------+----------+-------+--------+-------+---------------------------------------+\n",
      "|   \u001b[1m\u001b[37m0\u001b[0m   | \u001b[1m\u001b[37m1.00e-01\u001b[0m |  \u001b[1m\u001b[32m0.697\u001b[0m   | \u001b[1m\u001b[32m0.647\u001b[0m | \u001b[1m\u001b[31m0.244\u001b[0m  | \u001b[1m\u001b[31m0.226\u001b[0m | \u001b[37m1631701398_Perceptron_Dense-1-sigmoid\u001b[0m |\n",
      "|  \u001b[1m\u001b[37m10\u001b[0m   | \u001b[1m\u001b[37m1.00e-01\u001b[0m |  \u001b[1m\u001b[32m0.848\u001b[0m   | \u001b[1m\u001b[32m0.706\u001b[0m | \u001b[1m\u001b[31m0.153\u001b[0m  | \u001b[1m\u001b[31m0.198\u001b[0m | \u001b[37m1631701398_Perceptron_Dense-1-sigmoid\u001b[0m |\n",
      "|  \u001b[1m\u001b[37m20\u001b[0m   | \u001b[1m\u001b[37m1.00e-01\u001b[0m |  \u001b[1m\u001b[32m0.848\u001b[0m   | \u001b[1m\u001b[32m0.765\u001b[0m | \u001b[1m\u001b[31m0.122\u001b[0m  | \u001b[1m\u001b[31m0.184\u001b[0m | \u001b[37m1631701398_Perceptron_Dense-1-sigmoid\u001b[0m |\n",
      "|  \u001b[1m\u001b[37m30\u001b[0m   | \u001b[1m\u001b[37m1.00e-01\u001b[0m |  \u001b[1m\u001b[32m0.909\u001b[0m   | \u001b[1m\u001b[32m0.706\u001b[0m | \u001b[1m\u001b[31m0.105\u001b[0m  | \u001b[1m\u001b[31m0.172\u001b[0m | \u001b[37m1631701398_Perceptron_Dense-1-sigmoid\u001b[0m |\n",
      "|  \u001b[1m\u001b[37m40\u001b[0m   | \u001b[1m\u001b[37m1.00e-01\u001b[0m |  \u001b[1m\u001b[32m0.939\u001b[0m   | \u001b[1m\u001b[32m0.706\u001b[0m | \u001b[1m\u001b[31m0.093\u001b[0m  | \u001b[1m\u001b[31m0.163\u001b[0m | \u001b[37m1631701398_Perceptron_Dense-1-sigmoid\u001b[0m |\n",
      "|  \u001b[1m\u001b[37m50\u001b[0m   | \u001b[1m\u001b[37m1.00e-01\u001b[0m |  \u001b[1m\u001b[32m1.000\u001b[0m   | \u001b[1m\u001b[32m0.824\u001b[0m | \u001b[1m\u001b[31m0.084\u001b[0m  | \u001b[1m\u001b[31m0.156\u001b[0m | \u001b[37m1631701398_Perceptron_Dense-1-sigmoid\u001b[0m |\n",
      "|  \u001b[1m\u001b[37m60\u001b[0m   | \u001b[1m\u001b[37m1.00e-01\u001b[0m |  \u001b[1m\u001b[32m1.000\u001b[0m   | \u001b[1m\u001b[32m0.824\u001b[0m | \u001b[1m\u001b[31m0.077\u001b[0m  | \u001b[1m\u001b[31m0.151\u001b[0m | \u001b[37m1631701398_Perceptron_Dense-1-sigmoid\u001b[0m |\n",
      "|  \u001b[1m\u001b[37m70\u001b[0m   | \u001b[1m\u001b[37m1.00e-01\u001b[0m |  \u001b[1m\u001b[32m1.000\u001b[0m   | \u001b[1m\u001b[32m0.824\u001b[0m | \u001b[1m\u001b[31m0.071\u001b[0m  | \u001b[1m\u001b[31m0.147\u001b[0m | \u001b[37m1631701398_Perceptron_Dense-1-sigmoid\u001b[0m |\n",
      "|  \u001b[1m\u001b[37m80\u001b[0m   | \u001b[1m\u001b[37m1.00e-01\u001b[0m |  \u001b[1m\u001b[32m1.000\u001b[0m   | \u001b[1m\u001b[32m0.824\u001b[0m | \u001b[1m\u001b[31m0.066\u001b[0m  | \u001b[1m\u001b[31m0.144\u001b[0m | \u001b[37m1631701398_Perceptron_Dense-1-sigmoid\u001b[0m |\n",
      "|  \u001b[1m\u001b[37m90\u001b[0m   | \u001b[1m\u001b[37m1.00e-01\u001b[0m |  \u001b[1m\u001b[32m1.000\u001b[0m   | \u001b[1m\u001b[32m0.824\u001b[0m | \u001b[1m\u001b[31m0.061\u001b[0m  | \u001b[1m\u001b[31m0.141\u001b[0m | \u001b[37m1631701398_Perceptron_Dense-1-sigmoid\u001b[0m |\n",
      "|  \u001b[1m\u001b[37m99\u001b[0m   | \u001b[1m\u001b[37m1.00e-01\u001b[0m |  \u001b[1m\u001b[32m1.000\u001b[0m   | \u001b[1m\u001b[32m0.824\u001b[0m | \u001b[1m\u001b[31m0.058\u001b[0m  | \u001b[1m\u001b[31m0.139\u001b[0m | \u001b[37m1631701398_Perceptron_Dense-1-sigmoid\u001b[0m |\n",
      "+-------+----------+----------+-------+--------+-------+---------------------------------------+\n"
     ]
    }
   ],
   "source": [
    "model.train(epochs=100)"
   ]
  },
  {
   "cell_type": "markdown",
   "metadata": {},
   "source": [
    "With all default, EpyNN returns:\n",
    "\n",
    "* **EpyNN Check**: Result of a blank epoch to make sure the network is functionnal. For each layer, output shapes are returned for both the forward and backward propagation.\n",
    "* **init_logs**: Extended report about datasets, network architecture and shapes.\n",
    "* **Evaluation**: Real time evaluation of non-empty datasets (may include dtrain, dval, dtest) with default metrics accuracy and default loss function MSE.\n",
    "\n",
    "The latter can be plotted using:"
   ]
  },
  {
   "cell_type": "code",
   "execution_count": 16,
   "metadata": {},
   "outputs": [
    {
     "data": {
      "image/png": "iVBORw0KGgoAAAANSUhEUgAAAYIAAAEWCAYAAABrDZDcAAAAOXRFWHRTb2Z0d2FyZQBNYXRwbG90bGliIHZlcnNpb24zLjQuMywgaHR0cHM6Ly9tYXRwbG90bGliLm9yZy/MnkTPAAAACXBIWXMAAAsTAAALEwEAmpwYAAA/3klEQVR4nO3deXxU5b348c83M5N9Xwg7QRZZAkFWFay41aUVKy7UK1bUatWqdblW2/rz4tbbVntv7dVasSpaUaxaFanaFtEqVcCgqICgSAKEnewhy2Rmnt8f58xkEiYbZDJJ5vt+veY15zznOed8z0wy33nOc+Y5YoxBKaVU9IqJdABKKaUiSxOBUkpFOU0ESikV5TQRKKVUlNNEoJRSUU4TgVJKRTlNBEqpHk1EhopIjYg4etJ+RWShiDzXnTGFiyaCMBCRG0SkUEQaRGRxi2WJIvIHETkoIpUi8n7QsltEZJuIVInIbhH5XxFxBi2/T0S+EBGPiCxssd2f23+0/kediPhEJNteHiciT9nb3isitwatGysiL4tIsYgYEZndYtvtxXWiiKwVkWoR+VxEZrVY/0YRKbLXL2y5vJXXcLGIuO1jKRORf4rImPbW6y4iMltESiK072L7/a0WkQoR+VBErhWRHvX/LCL5IvJ3+2/9iH+wZIzZYYxJNsZ4uzK+nrrfSOhRfzh9yG7gfuCpEMsWAZnAWPv5lqBly4DJxphUIB8oAG4KWr4V+Cnwt5YbNcb80v6jTTbGJAO/Bt4zxhy0qywERgHDgFOAn4rIWUGbWAXMB/aGiLnVuEQkE3gDeBBIB34DvCEiGfbyGcCvgAuBNOBJ4NUOfrv7jX0sg4H9wOIOrNNMcMLqbmHe97nGmBSs9/NXwB1Yr21P0gj8Bbgq0oGodhhj9BGmB1YyWBw0PwaoAlI7sG4WsAL4Q4hlzwEL21hXgG3A5UFlu4FvB83fBywNsW4JMLujcQHfBTa2qPMVcJU9PQ9YG7QsCTDAgHaOfzFwf9D8d4Aae3og8ApwACgCbgqqtxB42X6NqoAfYiXcp+3XoBx4Laj+d4H1QAXwITAxaFkx8DNgk73e00C8fQx1gA+osR8DW9n3QKxEWoaVyK9uEetfgGeBamAjMLUDfxvFwOktyqbb8eTb83HAQ8AOYB/wRyDBXjbbfp9vw0qwe4ArgrZ1jn3M1cAu4D878nq1Ee9IwHSg3nSg0H7t9gH/Y5fn2X8zTnt+OPC+Hd8K4FHguRZ1rwB22u/btcA04HM77keC9hkD3AVst1+LZ4G0Nvb7L3u//wQe8e+3tz+0RdC9pmP9wd1jN5e/EJELgiuIyH+ISBVwEOub9+NHsJ+TgH5YH5bY384HAJ8F1fkMGN/RDbYTl7SsjtVyAHgLcIjIDLsVcCXWB0molkdr+04GLgU+tU9/vGHHPwg4DbhZRM4MWuU8rA/kdGAJ8GcgEet4+https://epynn.net/3OKxW24+wEtzjwDIRiQva1qXAmcAIYDRwlzHmEHA2sNs0tcJ2t7LvpVgfugOxWkW/FJFTg7Y/x66TjpUwHuno6xLMGLPW3s9JdtGv7HgnYX0QDwLuDlqlP1YLbRDhttps://epynn.net/a04rJbFj4zV4sgHVkKHX6+j8TDwsLFaniOwkmQozwNr7RgWApeFqDMDqwU8D/gd8AvgdKy/gYtF5GS73gL7cQpwDJBM6+/B88A6IBvri9TlHTyuni/SmagvPzi8RfBzrG8YC4FY4GSsb5NjQ6w7CuuPrX+IZe21CJ5ssd8h9n7jg8rOAIpDrNtei6BZXFj/jBXAJYAL65/DBzxuLxf7uBsBD1YimdaB124xUG9vey/Wh+QIrH/wHS3q/gx42p5eCLwftGyAHU9GiH08BtzXomwLcLI9XQxcG7TsHOAbe3o2UNJi3Zb7HgJ4gZSgsv/2vzd2/RVBy8YBdR14bYpp0SKwy1djfeAJcAgYEbTsBKAoKPY67G+6dtl+4Hh7egfWh31qi+23+Xq1EW9HWwTvA/cA2S3K8+y/Xycw1P47Smzx/9CyRTAoaHkpMC9o/hXgZnv6HeD6oGXH2n+rzlb2mxRU93m0RaCOQB3WH9n9xhi3MeZfwLvAt1tWNMZ8jXWq4A+d2YGIJAIXAc8EFdfYz6lBZalYTdxOaRmXMaYU61vwrVjN+bOwmuv+jtSrsJrp47GS33xguYgM7MDuHjLGpBtj+htj5hhjvsE6Jz7Q7iStEJEKrESTG7TezqDpIUCZMaY8xPaHAbe12NYQrG/voba1vcWyUILrD7T3Hfw6b8f6Fu4X3DKqBeKPom9hENYpqBysFtC6oON62y73KzXGeFrsO9mevgAr6W0XkX+JyAl2eauvl4hcGnShwlvtBdpK/auwWjGbReRjEfluiFX9r2ltUNnOEPX2BU3XhZj3H+tArPfEbzvWB3/w35O/XrmxWoPBdfuEiHWkRanPQ5S1dTWFE+tbcGecj/Vh8F5gB8aUi8gerFM6/7SLC7A+0I9Es7jshDYNAh2k24Df2osnAcuNMV/Z82/bsZyIdQqls3ZifbMd1Uad4Nd0J5ApIunGmIoQ23rAGPNAG9saEjQ9FKufoeU+Wtv3bnvfKUHJYCjWefcuJSLTsBLBKqxWVx0w3hjT6X0ZYz4GzhMRF3AD1imaIbT/ei3pxD6WtKxvf8m4xD79Nxd4WUSyWqy6B+s1TQxKBkM4cruxEphttps://epynn.net/PqyLFIL3myEiSUHJYCht///2GtoiCAMRcYpIPODAOj/u/5b3Plaz+2d2nZlY5https://epynn.net/3QxHpZ0+Pwzrl8U7Qdl32dmMAp73dllffXA48a+y2a5BngbtEJMO+DPNqgq7CEevy0nh7NtbetnQwruPs2FKxOih3GmP+bi/+GPiOiBwjljOwvvVt6NSL2mQtUC0id4hIgog47MsUp4WqbIzZg9VP8Qf72F0i8i178RPAtXb/hYhIkoh8R0RSgjbxYxEZbF8d9QvgRbt8H5AlImmtBWqM2YnVofrf9us5Eetbb5ddey4iqfY356VYpym+MMb47GP736D3bVCLfpTWthdrf1tPM8Y0YnXc+uzFHXm9grcl9t9UrD0f31Z/gojMF5EcO/4Ku9gXXMcYsx2rQ3mhHesJwLntHVcbXgBuEZHhYvVF/RJ4sUVrKXi/99j7nXWU++1ZIn1uqi8+sM79mhaPhfay8cBHWOdwNwHnB633NNYHzCGs88AP0vy8/uIQ210QtHwQ1reZkSFiisPq6PNfkXFri+XFIbad18G4XgAq7ceLQL+gZQLci5UAq4Evgcs68BouJuiqoRbLBtr73It1Vchq7HPm9mv/XIv6mVinyvbZ9f8atOwsrGRVgfWt7yXsc/o0v2qowt5G8Lnpp7DOP1fQdNVQy30PBpZjtdK+oXmfQ7P6tLhKpY3XphjrG3https://epynn.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://epynn.net/01nD95UOcCKV4FMU64fSu4kuCPM60yTQTdq2yblQTOeQgmXx7paFRfF+Nov84RCGsiEJGzgIcBB/AnY8yvWiwfCjwDpNt17jTGvBnOmI7Wx8VleH2G/7vkOPIHpSHA4IyETm2jf1o8w7ISWVNUxuAMawiHGZ3tHyheBQMnN50KyjsJPv8LeD3g0PzebYpXWc/HzAan3qVN9U5h6ywWEQfwKHA2MA64RETGtah2F/AXY8xxwPeBP4Qrnq6ytriMWEcMZ4zLZXh2EnnZSTgdnX8Zp+dl8nFxGau3lRLnjGHCoPSOr9xQA7s/gbyZTWV5M8FdDXs/63Qs6igUr4KkfpClQ3Kr3iucVw1NB7YaY7YZY9zAUuC8FnUM4O8hTQN2hzGeLrGmqIxJQ9KJdx1dE2368Ewqaht5bf0uJg/NINbZibdi5xrweSBvVlPZMHva/w1VhZ8x1uudNwukE/07SvUw4UwEg4CdQfMldlmwhcB8ESkB3gRuDLUhEblGRApFpPDAgQPhiLVDDjV42LCrsksu85wxPAuAitrGzm9v+79BHDDk+KaylFzIHq2JoDuVbYPq3c0TslK9UKR/R3AJsNgYMxg4B/iziBwWkzFmkTFmqjFmak7O4TdJ6S6f7CjH6zNdkgiGZCbQP9XqYD6i/oFBkyGuxaBwebNgx2qrn0CF3/Z/W895J0U2DqWOUjgTwS5gSND8YLss2FXAXwCMMR8B8UB2GGM6KmuLynDECJO74M5cIsL04Zm4HMJxQzuxPfch2LUu9LfQvFnW7wr2fn7U8akO8PcPZI+KdCRKHZVwJoKPgVEiMlxEYrE6g5e1qLMDOA1ARMZiJYLInftpx5qiMvIHppIc1zVX5dz27dE8ftkUEmI70d+wc63VPzAsRCLQfoLuE+gfmKn9A6rXC1siMMZ4gBuAvwNfYl0dtFFE7hWROXa124CrReQz4AVggTEmsuMwt6LB42X9zopmA8UdrWFZSZw6JrdzKxWvsvoHhs44fFlKLmSN0kTQHcqLoGqX9g+oPiGsF5zbvwl4s0XZ3UHTm4CZLdfriT4vqcTt8UV+PKDiVTDwOIhLCb08bxZseMUagiJMPz5RNCVb7R9QfYD+8qiD/KOFHnWLwOuByh1HuG6j1T9wwo9br5M3C9Y9DV//E3JGH9l+giXltJ50ervqvdBYe2Trbl1hvTbZXfAaKxVhmgg6aE1RGcfmppCRdJS/Hn3zNli3+Oi2MbyNb6F5swCBF+Yd3T78MobDTZ/2vfPgOz+GJ08/um2Mn9v3XhcVlTQRtKK+0csv3/ySqrpGANYWlXLRlCHtrNUOY6xv6kNPhClHOC5NbBIcc2rry1P6w+XLoKoLfpu3cw0UPmVdL5/Vx25dufWfIDEw5/+sMZuOxPCTuzYmpSJEE0Ernl+zg2c/2s7QzEREYFB6AnMmDTy6jZYXWx2Ms26Bgu93SZwhDf9W12xn0BQrERSv6nuJoPjfMKAAjpsf6UiUijhNBCE0eLw8/v43zBieyYs/OqHrNtzbOhizRkJyrhX3kbZgeqLGeij5GGZcE+lIlOoRIv3L4h7plXW72FfVwA2ndvFAYsWrIDEbco7t2u2GiwgMs4e37plX9R6Zko/B2xD6txhKRSFNBC00en384b2tFAxJZ9bILvyRc2/9AVLeLGs8nbJtkY6k6xSvsvoHhh7ffl2looAmghaWrd9NSXkdN54yEunKD+zyYqgq6T2nhfz88falH6kVr4L+EyEhPdKRKNUjRH0fgc9nWF1UitvjA+DR97YydkAqp43t17U7CgxQ1stOR2SPssbT2f7vvtFP4O8fmH51pCNRqseI+kTw/Nod3PXahmZlf7h0cte2BsDuH8iCnDFdu91wE7GSl7+foDed1gplV6HVP9DbWmZKhVFUJ4JGr4/H3vuGgiHp/Ne51s3T4p0Oxg7o4l/S+vsHhvhttps://epynn.net/vJmw8a/W+DqZx0Q6mqNTvAoQ7R9QKkhUJ4LXPt3Froo67vveeCZ3ZijozqrYDpU74cSbwrePcAruJ+gLiWCA9g8oFSxqO4u9PsMf3vuGcQNSOeXYLu4PaCnw+4Fe1j/glz3aGlent3cYN9Zbw3jraSGlmonOFsHeL6j8yw38rqqKYVmJyBOu8O6vanfvhttps://epynn.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://epynn.net/CHdgSqnoFGoY6pdffpnCwkIuvfRSJk2aRF1dHXl5edxxxx1MnjyZl156qdXhpYNbFbNnz+aOO+5g+vTpjB49utUfbSUmJjJ27Fj8P1598cUXA79mBtizZw+DBw8OzPuHxO6tOnLV0H9h3UVsHPAmcDbW7wg63tZSSvU6v177azaXbe7SbY7JHMMd01u/6LC1YagvvPBCHnnkER566CGmTm36cWxWVhaffGJ1V5aWloYcXrolj8fD2rVrefPNN7nnnntaPXhttps://epynn.net/n6VLl5Kbm4vD4WDgwIGBU1O33HILp556KieeeCLf/va3ueKKK0hPTwesEVQnTZoU2M4rr7zCiBEjOvU6dbeO/LL4QqAA+NQYc4WI5ALPhTcspVQ0Ch6GGmg2DHUowWP0bNiwgbvuuouKigpqamo488wzQ64zd+5cAKZMmUJxcXGr2z7rrLPhttps://epynn.net/5Gbm9tsPwBXXHEFZ555Jm+//Tavv/46jz/+OJ999hnQO08NdSQR1BtjfCLiEZFUYD/Nb0qvlOqD2vrm3lMED/bW0eGl4+LiAOueA23dTjI2NpYpU6bw29/+lk2bNrFsWfNbrg8cOJArr7ySK6+8kvz8fDZs2HD0BxQhrfYRiMijIjILWCsi6cATwDrgE+Cj7glPKRVN2hqGOiUlherq6lbXbW146aNx22238etf//qwG9K8/fbbgaGn9+7dS2lpKYMGDeqSfUZCWy2Cr4AHgYHAIeAF4Awg1RjzeTfEppSKMsHDUPfr16/ZsNILFizg2muvJSEhgY8+Ovy7qH946ZycHGbMmNFm0uio8ePHN7tayO8f//gHP/nJT4iPjwfgwQcfpH///mzevPmwPoK77rqLCy+88KhjCaeODEM9DPi+/UjASgjPG2O+Dn94h9NhqJUKHx2Gum/o7DDUHbkxzXZjzK+NMccBlwDfA7r2UgKllFIR024iEBGniJwrIkuAt4AtwNywR6aUUqpbtDXW0BlYLYBzgLXAUuAaY8yhbopNKaVUN2irs/hnwPPAbcaY8m6KRymlVDdra6yhU7szEKWUUpFxJHcoU0op1YdoIlBK9VjBA8Z11oIFC3j55ZdDlicmJjb7ncHNN9+MiHDw4EHAGvhu/PjxTJw4kUmTJrFmzRrAGrTu2GOPDQwx3dN/H9BRHRliQiml+pSRI0fy+uuvM3/+fHw+HytXrgz8Mvijjz5i+fLlfPLJJ8TFxXHw4EHcbndg3SVLljQb+K4v0BaBUqpHCTUM9ebNm5k+fXqgTnFxcWDo53vvvZdp06aRn5/PNddcQ3s/kgVrZNEXX3wRsG4mM3PmTJxO63vxnj17yM7ODoxJlJ2dHfIeCH2JtgiUUiHt/eUvafiya387Gjd2DP1//vNWl7c2DPWYMWNwu90UFRUxfPhwXnzxxcCIoDfccAN33303AJdddhnLly/n3HPPbTOO0aNHs2zZMsrLy3nhhReYP38+b731FgDf/va3uffeexk9ejSnn3468+bN4+STTw6se+mll5KQkADAGWecwYMPPnhUr0lPoC0CpVSPETwMdWpqarNhqC+++OLAt/jgRPDuu+8yY8YMJkyYwMqVK9m4cWOH9jV37lyWLl3KmjVrOOmkkwLlycnJrFu3jkWLFpGTk8O8efNYvHhxYPmSJUtYv34969ev7xNJALRFoJRqRVvf3CNh3rx5XHTRRcydOxcRYdSoUdTX13P99ddTWFjIkCFDWLhwIfX19R3e3pQpU7j88suJiWn+ndjhcDB79mxmz57NhAkTeOaZZ1iwYEEYjqpnCGuLQETOEpEtIrJVRO5so94FImJEpG/1wCilOqWtYahHjBiBw+HgvvvuC7QG/B/62dnZ1NTUhLxKqDXDhg3jgQce4Prrr29WvmXLFr7+umlMzfXr1zNs2LCjOaweL2wtAhFxAI9iDV1dAnwsIsuMMZta1EsBfgKsCVcsSqneoa1hqMH6Fn/77bdTVFQEQHp6OldffTX5+fn079//sPrt+dGPfnRYWU1NDTfeeCMVFRU4nU5GjhzJokWLAsuD+wiys7NbvdVlb9LuMNRHvGGRE4CFxpgz7fmfARhj/rtFvd8B/wRuB/7TGNPmGNM6DLVS4aPDUPcNXT4M9VEYBOwMmi+xy4IDmwwMMcb8ra0Nicg1IlIoIoUHDhzo+kiVUiqKReyqIRGJAf4HuK29usaYRcaYqcaYqTk5OeEPTimlokg4E8Eumt/kfrBd5pcC5APviUgxcDywTDuMlVKqe4UzEXwMjBKR4SISi3Wry2X+hcaYSmNMtjEmzxiTB6wG5rTXR6CUCq9w9Ruq7nEk71/YEoExxgPcAPwd+BL4izFmo4jcKyJz2l5bKRUJ8fHxlJaWajLopYwxlJaWEh8f36n1wnbVULjoVUNKhU9jYyMlJSUd/lGW6nni4+MZPHgwLperWXlbVw3pL4uVUgEul4vhw4dHOgzVzXSsIaWUinKaCJRSKsppIlBKqSiniUAppaKcJgKllIpymgiUUirKaSJQSqkop4lAKaWinCYCpZSKcpoIlFIqymkiUEqpKKeJQCmlopwmAqWUinKaCJRSKsppIlBKqSiniUAppaKcJgKllIpymgiUUirKaSJQSqkop4lAKaWinCYCpZSKcpoIlFIqymkiUEqpKKeJQCmlolxUJYJ6T32kQ1BKqR4nahLBq1+/ytxlcympLol0KEop1aNETSIYkT6CyoZKLn/rcr6p+CbS4SilVI8RNYlgYs5EFp+1GINhwdsL2HBwQ6RDUkqpHiFqEoGvtpahpcIzZz9DkiuJq/5+Fat2rYp0WEopFXFRkwhKn3yKbd87n9hHlrB41h8YljqMG965gb9s+UukQ1NKqYiKmkSQcel/kH7++ZQ9+yxVF1zO/x06j9PSpnPf6vv4beFv8fq8kQ5RKaUiQowxkY6hU6ZOnWoKCwuPeP26Lzaw7/77qfvsMwAqhqTzYW4lvuPG8cP5/0NG7tCuClUppXoMEVlnjJkaclk4E4GInAU8DDiAPxljftVi+a3ADwEPcAC40hizva1tHm0iADA+H3XrP6N27VoOrVlDzbpCYtyN1sIRw0ibcBxxY44lfvRoYkeMwNmvHyJyVPtUSqlIikgiEBEH8BVwBlACfAxcYozZFFTnFGCNMaZWRK4DZhtj5rW13a5IBC0Zt5vPP3iVt//6EHnFdYwrS8RZXt10LImJxOYNI3bQYFwDB+AaOBBn/wG4+ufizM3FmZ2NOJ1dGpNSSnWlthJBOD+9pgNbjTHb7CCWAucBgURgjHk3qP5qYH4Y42mVxMZScNo8Bp5wKj99/6fcv6+Q8zJP56a083DtOkBDURHu4mIatm2jZtUqTF1diw0IjsxMnDk5TY/sbHs6u2k6O5uYpKRIHKJSSrUqnIlgELAzaL4EmNFG/auAt0ItEJFrgGsAhg4N3zn8nMQc/vTtP/H0xqd59NNHWdOwmXtPvpcTLrkkUMcYg7eiAs/evTTu3Ytn3z48+w/gOdD0aNiyBU9pKXgP74COSUzEkZONM7tlwrCThj3tyMhAYqKmL18pFUHhPDV0IXCWMeaH9vxlwAxjzA0h6s4HbgBONsY0tLXdcJwaCuWLA1/ws1U/Y3vVds4bcR63T7udtLi0Dq9vfD4rYRw4aCWIgwfwHjzYlDAOlgamfTU1h2/A4cCZlRVIFI6gJOHM9icSq7URk5DQhUeulOqLInVqaBcwJGh+sF3WjIicDvyCDiSB7jQhZwIvn/syj3/+OE9veJoPdn3ArVNu5dwR5xIj7X9Tl5gYnJmZODMz4djRbdb11dXhCSSJ4GRhPTfu30/dpo14S8vA5zts/ZikJJzZ2TiyswPJw5GdhTMrG2d2Fs6srMAyTRpKqZbC2SJwYnUWn4aVAD4G/sMYszGoznHAy1gth687st3uahEE21K2hXs+uocvDn7B+Kzx/HTaT5mcO7lbYwAwXi/esjIraRw8aJ2SKi0NJAzvwVJ7/iC+qqqQ25DERCtBZWXhyMzEkZWJMyPT6uPIzMCRmYUjMwNnRgaOzExi4uO7+SiVUuEQyctHzwF+h3X56FPGmAdE5F6g0BizTERWABOAPfYqO4wxc9raZiQSAYDP+Pjbtr/xu09https://epynn.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://epynn.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\n",
      "text/plain": [
       "<Figure size 432x288 with 1 Axes>"
      ]
     },
     "metadata": {
      "needs_background": "light"
     },
     "output_type": "display_data"
    }
   ],
   "source": [
    "model.plot(path=False)"
   ]
  },
  {
   "cell_type": "markdown",
   "metadata": {},
   "source": [
    "For code, maths and pictures behind the EpyNN model, follow this link:\n",
    "\n",
    "* [Neural Network - Model](https://epynn.net/EpyNN_Model.html)"
   ]
  },
  {
   "cell_type": "markdown",
   "metadata": {},
   "source": [
    "## Write, read & Predict"
   ]
  },
  {
   "cell_type": "markdown",
   "metadata": {},
   "source": [
    "A trained model can be written on disk such as:"
   ]
  },
  {
   "cell_type": "code",
   "execution_count": 17,
   "metadata": {},
   "outputs": [
    {
     "name": "stdout",
     "output_type": "stream",
     "text": [
      "\u001b[1m\u001b[32mMake: /media/synthase/beta/EpyNN/nnlive/dummy_boolean/models/1631701398_Perceptron_Dense-1-sigmoid.pickle\u001b[0m\n"
     ]
    }
   ],
   "source": [
    "model.write()\n",
    "\n",
    "# model.write(path=/your/custom/path)"
   ]
  },
  {
   "cell_type": "markdown",
   "metadata": {},
   "source": [
    "A model can be read from disk such as:"
   ]
  },
  {
   "cell_type": "code",
   "execution_count": 18,
   "metadata": {},
   "outputs": [],
   "source": [
    "model = read_model()\n",
    "\n",
    "# model = read_model(path=/your/custom/path)"
   ]
  },
  {
   "cell_type": "markdown",
   "metadata": {},
   "source": [
    "We can retrieve new features and predict on them."
   ]
  },
  {
   "cell_type": "code",
   "execution_count": 19,
   "metadata": {},
   "outputs": [],
   "source": [
    "X_features, _ = prepare_dataset(N_SAMPLES=10)\n",
    "\n",
    "dset = model.predict(X_features)"
   ]
  },
  {
   "cell_type": "markdown",
   "metadata": {},
   "source": [
    "Results can be extracted such as:"
   ]
  },
  {
   "cell_type": "code",
   "execution_count": 20,
   "metadata": {},
   "outputs": [
    {
     "name": "stdout",
     "output_type": "stream",
     "text": [
      "0 [1.] [0.6896805] [ True False False ...  True  True  True]\n",
      "1 [1.] [0.83786431] [ True  True  True ...  True False  True]\n",
      "2 [1.] [0.57022719] [False  True False ...  True  True  True]\n",
      "3 [1.] [0.91912894] [False  True  True ... False  True  True]\n",
      "4 [0.] [0.08532819] [ True False  True ...  True False False]\n",
      "5 [1.] [0.60994619] [False  True False ...  True  True  True]\n",
      "6 [1.] [0.91598294] [False False  True ... False  True  True]\n",
      "7 [1.] [0.83326288] [False False  True ... False  True False]\n",
      "8 [1.] [0.86967157] [ True False  True ...  True  True  True]\n",
      "9 [1.] [0.84469189] [ True  True  True ...  True  True  True]\n"
     ]
    }
   ],
   "source": [
    "for n, pred, probs, features in zip(dset.ids, dset.P, dset.A, dset.X):\n",
    "    print(n, pred, probs, features)"
   ]
  }
 ],
 "metadata": {
  "kernelspec": {
   "display_name": "Python 3",
   "language": "python",
   "name": "python3"
  },
  "language_info": {
   "codemirror_mode": {
    "name": "ipython",
    "version": 3
   },
   "file_extension": ".py",
   "mimetype": "text/x-python",
   "name": "python",
   "nbconvert_exporter": "python",
   "pygments_lexer": "ipython3",
   "version": "3.7.3"
  }
 },
 "nbformat": 4,
 "nbformat_minor": 4
}
