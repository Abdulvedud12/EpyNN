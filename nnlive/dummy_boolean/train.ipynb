{
 "cells": [
  {
   "cell_type": "markdown",
   "metadata": {},
   "source": [
    "# Basics with Perceptron (P)"
   ]
  },
  {
   "cell_type": "markdown",
   "metadata": {
    "tags": []
   },
   "source": [
    "* Find this notebook at `EpyNN/nnlive/dummy_boolean/train.ipynb`.\n",
    "* Regular python code at `EpyNN/nnlive/dummy_boolean/train.py`."
   ]
  },
  {
   "cell_type": "markdown",
   "metadata": {},
   "source": [
    "In this notebook we will review:\n",
    "\n",
    "* Handling Boolean data.\n",
    "* Design and train a simple perceptron using EpyNN objects.\n",
    "* Basics and general concepts relevant to the context."
   ]
  },
  {
   "cell_type": "markdown",
   "metadata": {},
   "source": [
    "Please see the following if you get lost:\n",
    "\n",
    "* [Neural Network - Model](../../EpyNN_Model.html)\n",
    "* [Architecture layers - Model](../../Layer_Model.html)\n",
    "* [Data - Model](../../Data_Model.html)\n",
    "* [Data Embedding (Input)](../../Embedding.html)\n",
    "* [Fully Connected (Dense)](../../Dense.html)"
   ]
  },
  {
   "cell_type": "markdown",
   "metadata": {},
   "source": [
    "## Import, configure and retrieve data"
   ]
  },
  {
   "cell_type": "markdown",
   "metadata": {},
   "source": [
    "Follow [this link](prepare_dataset.ipynb) for details about data preparation."
   ]
  },
  {
   "cell_type": "markdown",
   "metadata": {},
   "source": [
    "We will import all libraries and configure seeding, behaviors and directory. "
   ]
  },
  {
   "cell_type": "markdown",
   "metadata": {},
   "source": [
    "### Imports"
   ]
  },
  {
   "cell_type": "code",
   "execution_count": 1,
   "metadata": {},
   "outputs": [],
   "source": [
    "# EpyNN/nnlive/dummy_boolean/train.ipynb\n",
    "# Standard library imports\n",
    "import random\n",
    "\n",
    "# Related third party imports\n",
    "import numpy as np\n",
    "\n",
    "# Local application/library specific imports\n",
    "import nnlibs.initialize\n",
    "from nnlibs.commons.library import (\n",
    "    configure_directory,\n",
    "    read_model,\n",
    ")\n",
    "from nnlibs.network.models import EpyNN\n",
    "from nnlibs.embedding.models import Embedding\n",
    "from nnlibs.dense.models import Dense\n",
    "from prepare_dataset import prepare_dataset"
   ]
  },
  {
   "cell_type": "markdown",
   "metadata": {},
   "source": [
    "Note that we imported all libraries we will use, at once and on top of the script. Even though we are going through a notebook, we should pay attention to follow good practices for imports as stated in [PEP 8 -- Style Guide for Python Code](https://www.python.org/dev/peps/pep-0008/#imports).\n",
    "\n",
    "You may have also noted that ``# Related third party imports`` are limited to ``numpy``. \n",
    "\n",
    "According to the [Philosophy of EpyNN](), we developed an educational resource for which computations rely in pure Python/NumPy, nothing else."
   ]
  },
  {
   "cell_type": "markdown",
   "metadata": {},
   "source": [
    "### Configuration"
   ]
  },
  {
   "cell_type": "markdown",
   "metadata": {},
   "source": [
    "Let's now proceed with the configuration and preferences for the current script."
   ]
  },
  {
   "cell_type": "code",
   "execution_count": 2,
   "metadata": {},
   "outputs": [
    {
     "name": "stdout",
     "output_type": "stream",
     "text": [
      "\u001b[1m\u001b[31mRemove: /media/synthase/beta/EpyNN/nnlive/dummy_boolean/datasets\u001b[0m\n",
      "\u001b[1m\u001b[32mMake: /media/synthase/beta/EpyNN/nnlive/dummy_boolean/datasets\u001b[0m\n",
      "\u001b[1m\u001b[31mRemove: /media/synthase/beta/EpyNN/nnlive/dummy_boolean/models\u001b[0m\n",
      "\u001b[1m\u001b[32mMake: /media/synthase/beta/EpyNN/nnlive/dummy_boolean/models\u001b[0m\n",
      "\u001b[1m\u001b[31mRemove: /media/synthase/beta/EpyNN/nnlive/dummy_boolean/plots\u001b[0m\n",
      "\u001b[1m\u001b[32mMake: /media/synthase/beta/EpyNN/nnlive/dummy_boolean/plots\u001b[0m\n"
     ]
    }
   ],
   "source": [
    "random.seed(1)\n",
    "\n",
    "np.set_printoptions(threshold=10)\n",
    "\n",
    "np.seterr(all='warn')\n",
    "\n",
    "configure_directory(clear=True)    # This is a dummy example"
   ]
  },
  {
   "cell_type": "markdown",
   "metadata": {},
   "source": [
    "We already explained the [reason for seeding](prepare_dataset.html#Seeding).\n",
    "\n",
    "The call to ``np.set_printoptions()`` set the printing behavior of NumPy arrays. To not overfill this notebook, we instructed that beyond ``threshold=10`` NumPy will trigger summarization rather than full representation.\n",
    "\n",
    "The call to ``np.seterr()`` is **very important** if you want to be aware of what's happening in your Network. Follow the [numpy.seterr](https://numpy.org/doc/stable/reference/generated/numpy.seterr.html) official documentation for details. Herein, we make sure that floating-point errors will always ``warn`` on the terminal session and thus we will always be aware of them.\n",
    "\n",
    "Finally, the call to ``configure_directory()`` is purely facultative but creates the default EpyNN subdirectories in the working directory."
   ]
  },
  {
   "cell_type": "markdown",
   "metadata": {},
   "source": [
    "### Retrieve Boolean features and label "
   ]
  },
  {
   "cell_type": "markdown",
   "metadata": {},
   "source": [
    "From [prepare_dataset](prepare_dataset.ipynb#Preparedataset) we imported the function ``prepare_dataset()``."
   ]
  },
  {
   "cell_type": "code",
   "execution_count": 3,
   "metadata": {},
   "outputs": [],
   "source": [
    "X_features, Y_label = prepare_dataset(N_SAMPLES=50)"
   ]
  },
  {
   "cell_type": "markdown",
   "metadata": {},
   "source": [
    "Let's inspect, always."
   ]
  },
  {
   "cell_type": "code",
   "execution_count": 4,
   "metadata": {},
   "outputs": [
    {
     "name": "stdout",
     "output_type": "stream",
     "text": [
      "0 False [False, True, False, True, True, False, True, False, True, False, False]\n",
      "1 True [False, True, False, True, True, False, True, False, True, False, True]\n",
      "1 True [True, True, False, True, False, True, True, False, False, True, False]\n",
      "0 False [False, False, False, False, False, False, True, True, False, False, True]\n",
      "0 False [False, False, False, False, False, True, True, False, True, True, True]\n"
     ]
    }
   ],
   "source": [
    "for sample in list(zip(X_features, Y_label))[:5]:\n",
    "    features, label = sample\n",
    "    print(label, (features.count(True) > features.count(False)), features)"
   ]
  },
  {
   "cell_type": "markdown",
   "metadata": {},
   "source": [
    "We have what we expect. Remeber that the conditional expression is the dummy law we used to assign a label to dummy sample boolean features."
   ]
  },
  {
   "cell_type": "markdown",
   "metadata": {},
   "source": [
    "## Perceptron - Single layer Neural Network"
   ]
  },
  {
   "cell_type": "markdown",
   "metadata": {},
   "source": [
    "Herein, we are going to build the most simple Neural Network and to train it in the most simple way we can."
   ]
  },
  {
   "cell_type": "markdown",
   "metadata": {},
   "source": [
    "### The Embedding layer object"
   ]
  },
  {
   "cell_type": "markdown",
   "metadata": {},
   "source": [
    "In EpyNN, data must be passed as arguments upon call of the ``Embedding()`` layer class constructor.\n",
    "\n",
    "The instantiated object - the embedding or input layer - is always the first layer in Neural Networks made with EpyNN."
   ]
  },
  {
   "cell_type": "code",
   "execution_count": 5,
   "metadata": {},
   "outputs": [],
   "source": [
    "embedding = Embedding(X_data=X_features,\n",
    "                      Y_data=Y_label,\n",
    "                      relative_size=(2, 1, 0)) # Training, testing, validation set"
   ]
  },
  {
   "cell_type": "markdown",
   "metadata": {},
   "source": [
    "The arguments ``X_features`` and ``Y_label`` passed in the class constructor have been split with respect to relative sizes for training, testing and validation sets.\n",
    "\n",
    "Let's explore some properties and attributes of the instantiated ``embedding`` layer object."
   ]
  },
  {
   "cell_type": "code",
   "execution_count": 6,
   "metadata": {},
   "outputs": [
    {
     "name": "stdout",
     "output_type": "stream",
     "text": [
      "<class 'nnlibs.embedding.models.Embedding'>\n",
      "0 d {}\n",
      "1 fs {}\n",
      "2 p {}\n",
      "3 fc {}\n",
      "4 bs {}\n",
      "5 g {}\n",
      "6 bc {}\n",
      "7 o {}\n",
      "8 activation {}\n",
      "9 se_hPars None\n",
      "10 se_dataset {'dtrain_relative': 2, 'dtest_relative': 1, 'dval_relative': 0, 'batch_size': None, 'X_scale': False, 'X_encode': False, 'Y_encode': False}\n",
      "11 dtrain <nnlibs.commons.models.dataSet object at 0x7f2a899c00f0>\n",
      "12 dtest <nnlibs.commons.models.dataSet object at 0x7f2a899c01d0>\n",
      "13 dval <nnlibs.commons.models.dataSet object at 0x7f2a899c0208>\n",
      "14 dsets [<nnlibs.commons.models.dataSet object at 0x7f2a899c00f0>, <nnlibs.commons.models.dataSet object at 0x7f2a899c01d0>]\n",
      "15 trainable False\n"
     ]
    }
   ],
   "source": [
    "# Type of object\n",
    "print(type(embedding))\n",
    "\n",
    "# Attributes and values of embedding layer\n",
    "for i, (attr, value) in enumerate(vars(embedding).items()):\n",
    "    print(i, attr, value)"
   ]
  },
  {
   "cell_type": "markdown",
   "metadata": {},
   "source": [
    "**Lines 0-9**: Inherited from ``nnlibs.commons.models.Layer`` which is the [Base Layer](../../Layer_Model.html#base-layer). These instance attributes exist for any layers in EpyNN.\n",
    "\n",
    "**Lines 10-15**: Instance attributes specific to ``nnlibs.embedding.models.Embedding`` layer. \n",
    "\n",
    "* (10) se_dataset: Contains data-related settings applied upon layer instantiation\n",
    "* (11-13) dtrain, dtest, dval: Training, testing and validation sets in EpyNN ``dataSet`` object.\n",
    "* (14) batch_dtrain: Training mini-batches. Contains the data actually used for training.\n",
    "* (15) dsets: Contains the active datasets that will be evaluated during training. It contains only two ``dataSet`` objects because dval was set to empty."
   ]
  },
  {
   "cell_type": "markdown",
   "metadata": {},
   "source": [
    "### The dataSet object"
   ]
  },
  {
   "cell_type": "markdown",
   "metadata": {},
   "source": [
    "Let's examinate one ``dataSet`` object the same way."
   ]
  },
  {
   "cell_type": "code",
   "execution_count": 7,
   "metadata": {},
   "outputs": [
    {
     "name": "stdout",
     "output_type": "stream",
     "text": [
      "<class 'nnlibs.commons.models.dataSet'>\n",
      "0 name dtrain\n",
      "1 active True\n",
      "2 X [[False  True False ...  True False False]\n",
      " [False  True False ...  True False  True]\n",
      " [ True  True False ... False  True False]\n",
      " ...\n",
      " [ True False False ...  True False False]\n",
      " [False False False ...  True False  True]\n",
      " [False False  True ...  True False  True]]\n",
      "3 Y [[0]\n",
      " [1]\n",
      " [1]\n",
      " ...\n",
      " [0]\n",
      " [0]\n",
      " [0]]\n",
      "4 y [0 1 1 ... 0 0 0]\n",
      "5 b {0: 15, 1: 18}\n",
      "6 ids [ 0  1  2 ... 30 31 32]\n",
      "7 A []\n",
      "8 P []\n"
     ]
    }
   ],
   "source": [
    "# Type of object\n",
    "print(type(embedding.dtrain))\n",
    "\n",
    "# Attributes and values of embedding layer\n",
    "for i, (attr, value) in enumerate(vars(embedding.dtrain).items()):\n",
    "    print(i, attr, value)"
   ]
  },
  {
   "cell_type": "markdown",
   "metadata": {},
   "source": [
    "* (0) name: Self-explaining\n",
    "* (1) active: If it contains data\n",
    "* (2) X: Set of sample features\n",
    "* (3) Y: Set of sample label.\n",
    "* (4) y: Set of single-digit sample label.\n",
    "* (5) b: Balance of labels in set.\n",
    "* (6) ids: Sample identifiers.\n",
    "* (7) A: Output of forward propagation\n",
    "* (8) P: Label predictions.\n",
    "\n",
    "For full documentation of ``nnlibs.commons.models.dataSet`` object, you can refer to [Data - Model](../../Data_Model.html).\n",
    "\n",
    "Note that in the present example we use single digit-labels and therefore the only difference between (3) and (4) is about the shape. The reason for this apparent duplicate will appear in a next notebook."
   ]
  },
  {
   "cell_type": "code",
   "execution_count": 8,
   "metadata": {},
   "outputs": [
    {
     "name": "stdout",
     "output_type": "stream",
     "text": [
      "(33, 1)\n",
      "(33,)\n",
      "True\n"
     ]
    }
   ],
   "source": [
    "print(embedding.dtrain.Y.shape)\n",
    "print(embedding.dtrain.y.shape)\n",
    "\n",
    "print(all(embedding.dtrain.Y.flatten() == embedding.dtrain.y))"
   ]
  },
  {
   "cell_type": "markdown",
   "metadata": {},
   "source": [
    "We described how to instantiate the embedding - or input - layer with EpyNN and we browsed the attached attribute-value pairs.\n",
    "\n",
    "We observed that it contains ``dataSet`` objects and we browsed the corresponding attribute-value pairs for the training set.\n",
    "\n",
    "We introduced all we needed to know.\n",
    "\n",
    "We are ready."
   ]
  },
  {
   "cell_type": "markdown",
   "metadata": {},
   "source": [
    "### The Dense layer object"
   ]
  },
  {
   "cell_type": "code",
   "execution_count": 9,
   "metadata": {},
   "outputs": [],
   "source": [
    "dense = Dense()    # Defaults to Dense(nodes=1, activation=sigmoid)"
   ]
  },
  {
   "cell_type": "markdown",
   "metadata": {},
   "source": [
    "This one was easy. Let's inspect."
   ]
  },
  {
   "cell_type": "code",
   "execution_count": 10,
   "metadata": {},
   "outputs": [
    {
     "name": "stdout",
     "output_type": "stream",
     "text": [
      "<class 'nnlibs.dense.models.Dense'>\n",
      "0 d {'u': 1}\n",
      "1 fs {}\n",
      "2 p {}\n",
      "3 fc {}\n",
      "4 bs {}\n",
      "5 g {}\n",
      "6 bc {}\n",
      "7 o {}\n",
      "8 activation {'activate': 'sigmoid'}\n",
      "9 se_hPars None\n",
      "10 activate <function sigmoid at 0x7f2a89a2a048>\n",
      "11 initialization <function xavier at 0x7f2a89a2a1e0>\n",
      "12 trainable True\n"
     ]
    }
   ],
   "source": [
    "# Type of object\n",
    "print(type(dense))\n",
    "\n",
    "# Attributes and values of dense layer\n",
    "for i, (attr, value) in enumerate(vars(dense).items()):\n",
    "    print(i, attr, value)"
   ]
  },
  {
   "cell_type": "markdown",
   "metadata": {},
   "source": [
    "We pass on details again. Simply note that (1) indicates the number of nodes in the Dense layer, and (8, 11) the activation function for this layer. See [Activation - Functions](../../activation.html) for details."
   ]
  },
  {
   "cell_type": "markdown",
   "metadata": {},
   "source": [
    "## The EpyNN Network object"
   ]
  },
  {
   "cell_type": "markdown",
   "metadata": {},
   "source": [
    "### Instantiate your Perceptron"
   ]
  },
  {
   "cell_type": "markdown",
   "metadata": {},
   "source": [
    "Now that we have an embedding (input) layer and a Dense (output) layer, we can instantiate the EpyNN object which represents the Neural Network."
   ]
  },
  {
   "cell_type": "code",
   "execution_count": 11,
   "metadata": {},
   "outputs": [],
   "source": [
    "layers = [embedding, dense]"
   ]
  },
  {
   "cell_type": "markdown",
   "metadata": {},
   "source": [
    "The list ``layers`` is the architecture of a Perceptron."
   ]
  },
  {
   "cell_type": "code",
   "execution_count": 12,
   "metadata": {},
   "outputs": [],
   "source": [
    "model = EpyNN(layers=layers, name='Perceptron_Dense-1-sigmoid')"
   ]
  },
  {
   "cell_type": "markdown",
   "metadata": {},
   "source": [
    "The object ``EpyNN`` is the Perceptron itself.\n",
    "\n",
    "Let's proove it."
   ]
  },
  {
   "cell_type": "code",
   "execution_count": 13,
   "metadata": {},
   "outputs": [
    {
     "name": "stdout",
     "output_type": "stream",
     "text": [
      "<class 'nnlibs.network.models.EpyNN'>\n",
      "0 layers [<nnlibs.embedding.models.Embedding object at 0x7f2a899c00b8>, <nnlibs.dense.models.Dense object at 0x7f2a89a32390>]\n",
      "1 embedding <nnlibs.embedding.models.Embedding object at 0x7f2a899c00b8>\n",
      "2 ts 1630851994\n",
      "3 uname 1630851994_Perceptron_Dense-1-sigmoid\n",
      "4 initialized False\n"
     ]
    }
   ],
   "source": [
    "# Type of object\n",
    "print(type(model))\n",
    "\n",
    "# Attributes and values of EpyNN model for a Perceptron\n",
    "for i, (attr, value) in enumerate(vars(model).items()):\n",
    "    print(i, attr, value)"
   ]
  },
  {
   "cell_type": "markdown",
   "metadata": {},
   "source": [
    "Does it really contains the layers we instantiated before?"
   ]
  },
  {
   "cell_type": "code",
   "execution_count": 14,
   "metadata": {},
   "outputs": [
    {
     "name": "stdout",
     "output_type": "stream",
     "text": [
      "True\n",
      "True\n"
     ]
    }
   ],
   "source": [
    "print((model.embedding == embedding))\n",
    "print((model.layers[-1] == dense))"
   ]
  },
  {
   "cell_type": "markdown",
   "metadata": {},
   "source": [
    "### Perceptron training"
   ]
  },
  {
   "cell_type": "markdown",
   "metadata": {},
   "source": [
    "It does seems, yes.\n",
    "\n",
    "We are going to start the training of this Perceptron with all defaults, the very most simple."
   ]
  },
  {
   "cell_type": "code",
   "execution_count": 15,
   "metadata": {},
   "outputs": [
    {
     "name": "stdout",
     "output_type": "stream",
     "text": [
      "\u001b[1m--- EpyNN Check --- \u001b[0m\n",
      "\u001b[1mLayer: Embedding\u001b[0m\n",
      "\u001b[1m\u001b[32mcompute_shapes: Embedding\u001b[0m\n",
      "\u001b[1m\u001b[32minitialize_parameters: Embedding\u001b[0m\n",
      "\u001b[1m\u001b[32mforward: Embedding\u001b[0m\n",
      "shape: (33, 11)\n",
      "\u001b[1mLayer: Dense\u001b[0m\n",
      "\u001b[1m\u001b[32mcompute_shapes: Dense\u001b[0m\n",
      "\u001b[1m\u001b[32minitialize_parameters: Dense\u001b[0m\n",
      "\u001b[1m\u001b[32mforward: Dense\u001b[0m\n",
      "shape: (33, 1)\n",
      "\u001b[1mLayer: Dense\u001b[0m\n",
      "\u001b[1m\u001b[36mbackward: Dense\u001b[0m\n",
      "shape: (33, 11)\n",
      "\u001b[1m\u001b[36mcompute_gradients: Dense\u001b[0m\n",
      "\u001b[1mLayer: Embedding\u001b[0m\n",
      "\u001b[1m\u001b[36mbackward: Embedding\u001b[0m\n",
      "shape: (33, 11)\n",
      "\u001b[1m\u001b[36mcompute_gradients: Embedding\u001b[0m\n",
      "\u001b[1m--- EpyNN Check OK! --- \u001b[0m\n",
      "\u001b[1m----------------------- 1630851994_Perceptron_Dense-1-sigmoid -------------------------\n",
      "\u001b[0m\n",
      "\n",
      "\u001b[1m-------------------------------- Datasets ------------------------------------\n",
      "\u001b[0m\n",
      "+--------+-------+------+-------+\n",
      "| dtrain | dtest | dval | batch |\n",
      "| (0)    | (1)   | (2)  | size  |\n",
      "+--------+-------+------+-------+\n",
      "| 33     | 17    | None | None  |\n",
      "+--------+-------+------+-------+\n",
      "\n",
      "+----------+--------+-------+------+\n",
      "| N_LABELS | dtrain | dtest | dval |\n",
      "|          | (0)    | (1)   | (2)  |\n",
      "+----------+--------+-------+------+\n",
      "| 2        | 0: 15  | 0: 8  | None |\n",
      "|          | 1: 18  | 1: 9  |      |\n",
      "+----------+--------+-------+------+\n",
      "\n",
      "\u001b[1m----------------------- Model Architecture -------------------------\n",
      "\u001b[0m\n",
      "+----+-----------+------------+-------------------+-------------+--------------+\n",
      "| ID | Layer     | Dimensions | Activation        | FW_Shapes   | BW_Shapes    |\n",
      "+----+-----------+------------+-------------------+-------------+--------------+\n",
      "| 0  | Embedding | m: 33      |                   | X: (33, 11) | dA: (33, 11) |\n",
      "|    |           | n: 11      |                   | A: (33, 11) | dX: (33, 11) |\n",
      "+----+-----------+------------+-------------------+-------------+--------------+\n",
      "| 1  | Dense     | u: 1       | activate: sigmoid | X: (33, 11) | dA: (33, 1)  |\n",
      "|    |           | m: 33      |                   | W: (11, 1)  | dZ: (33, 1)  |\n",
      "|    |           | n: 11      |                   | b: (1, 1)   | dX: (33, 11) |\n",
      "|    |           |            |                   | Z: (33, 1)  |              |\n",
      "|    |           |            |                   | A: (33, 1)  |              |\n",
      "+----+-----------+------------+-------------------+-------------+--------------+\n",
      "\n",
      "\u001b[1m------------------------------------------- Layers ---------------------------------------------\n",
      "\u001b[0m\n",
      "+-------+--------+----------+---------+--------+---------+--------+----------+----------+-----+\n",
      "| Layer | epochs | schedule | decay_k | cycle  | cycle   | cycle  | learning | learning | end |\n",
      "|       |        |          |         | epochs | descent | number | rate     | rate     | (%) |\n",
      "|       |        |          |         |        |         |        | (start)  | (end)    |     |\n",
      "+-------+--------+----------+---------+--------+---------+--------+----------+----------+-----+\n",
      "| Dense | 100    | steady   | 0.050   | 0      | 0       | 1      | 0.100    | 0.100    | 100 |\n",
      "+-------+--------+----------+---------+--------+---------+--------+----------+----------+-----+\n",
      "\n",
      "+-------+-------+-------+-------------+\n",
      "| Layer | LRELU | ELU   | softmax     |\n",
      "|       | alpha | alpha | temperature |\n",
      "+-------+-------+-------+-------------+\n",
      "| Dense | 0.300 | 1     | 1           |\n",
      "+-------+-------+-------+-------------+\n",
      "\n",
      "\u001b[1m----------------------- 1630851994_Perceptron_Dense-1-sigmoid -------------------------\n",
      "\u001b[0m\n",
      "\n",
      "\u001b[1m\u001b[37mEpoch 99 - Batch 0/0 - Accuracy: 1.0 Cost: 0.05708 - TIME: 5.75s RATE: 1.07e+05e/s TTC: 0s\u001b[0mmm\n",
      "\n",
      "+-------+----------+-------+----------+-------+-------+---------------------------------------+\n",
      "| \u001b[1m\u001b[37mepoch\u001b[0m |  \u001b[1m\u001b[37mlrate\u001b[0m   |       | \u001b[1m\u001b[32maccuracy\u001b[0m |       |  \u001b[1m\u001b[31mMSE\u001b[0m  |              \u001b[37mExperiment\u001b[0m               |\n",
      "|       |  \u001b[37mDense\u001b[0m   |  \u001b[1m\u001b[32m(0)\u001b[0m  |   \u001b[1m\u001b[32m(1)\u001b[0m    |  \u001b[1m\u001b[31m(0)\u001b[0m  |  \u001b[1m\u001b[31m(1)\u001b[0m  |                                       |\n",
      "+-------+----------+-------+----------+-------+-------+---------------------------------------+\n",
      "|   \u001b[1m\u001b[37m0\u001b[0m   | \u001b[1m\u001b[37m1.00e-01\u001b[0m | \u001b[1m\u001b[32m0.485\u001b[0m |  \u001b[1m\u001b[32m0.529\u001b[0m   | \u001b[1m\u001b[31m0.236\u001b[0m | \u001b[1m\u001b[31m0.230\u001b[0m | \u001b[37m1630851994_Perceptron_Dense-1-sigmoid\u001b[0m |\n",
      "|  \u001b[1m\u001b[37m10\u001b[0m   | \u001b[1m\u001b[37m1.00e-01\u001b[0m | \u001b[1m\u001b[32m0.879\u001b[0m |  \u001b[1m\u001b[32m0.706\u001b[0m   | \u001b[1m\u001b[31m0.147\u001b[0m | \u001b[1m\u001b[31m0.198\u001b[0m | \u001b[37m1630851994_Perceptron_Dense-1-sigmoid\u001b[0m |\n",
      "|  \u001b[1m\u001b[37m20\u001b[0m   | \u001b[1m\u001b[37m1.00e-01\u001b[0m | \u001b[1m\u001b[32m0.909\u001b[0m |  \u001b[1m\u001b[32m0.824\u001b[0m   | \u001b[1m\u001b[31m0.119\u001b[0m | \u001b[1m\u001b[31m0.180\u001b[0m | \u001b[37m1630851994_Perceptron_Dense-1-sigmoid\u001b[0m |\n",
      "|  \u001b[1m\u001b[37m30\u001b[0m   | \u001b[1m\u001b[37m1.00e-01\u001b[0m | \u001b[1m\u001b[32m0.939\u001b[0m |  \u001b[1m\u001b[32m0.824\u001b[0m   | \u001b[1m\u001b[31m0.102\u001b[0m | \u001b[1m\u001b[31m0.168\u001b[0m | \u001b[37m1630851994_Perceptron_Dense-1-sigmoid\u001b[0m |\n",
      "|  \u001b[1m\u001b[37m40\u001b[0m   | \u001b[1m\u001b[37m1.00e-01\u001b[0m | \u001b[1m\u001b[32m1.000\u001b[0m |  \u001b[1m\u001b[32m0.824\u001b[0m   | \u001b[1m\u001b[31m0.091\u001b[0m | \u001b[1m\u001b[31m0.159\u001b[0m | \u001b[37m1630851994_Perceptron_Dense-1-sigmoid\u001b[0m |\n",
      "|  \u001b[1m\u001b[37m50\u001b[0m   | \u001b[1m\u001b[37m1.00e-01\u001b[0m | \u001b[1m\u001b[32m1.000\u001b[0m |  \u001b[1m\u001b[32m0.824\u001b[0m   | \u001b[1m\u001b[31m0.082\u001b[0m | \u001b[1m\u001b[31m0.152\u001b[0m | \u001b[37m1630851994_Perceptron_Dense-1-sigmoid\u001b[0m |\n",
      "|  \u001b[1m\u001b[37m60\u001b[0m   | \u001b[1m\u001b[37m1.00e-01\u001b[0m | \u001b[1m\u001b[32m1.000\u001b[0m |  \u001b[1m\u001b[32m0.824\u001b[0m   | \u001b[1m\u001b[31m0.075\u001b[0m | \u001b[1m\u001b[31m0.148\u001b[0m | \u001b[37m1630851994_Perceptron_Dense-1-sigmoid\u001b[0m |\n",
      "|  \u001b[1m\u001b[37m70\u001b[0m   | \u001b[1m\u001b[37m1.00e-01\u001b[0m | \u001b[1m\u001b[32m1.000\u001b[0m |  \u001b[1m\u001b[32m0.824\u001b[0m   | \u001b[1m\u001b[31m0.069\u001b[0m | \u001b[1m\u001b[31m0.144\u001b[0m | \u001b[37m1630851994_Perceptron_Dense-1-sigmoid\u001b[0m |\n",
      "|  \u001b[1m\u001b[37m80\u001b[0m   | \u001b[1m\u001b[37m1.00e-01\u001b[0m | \u001b[1m\u001b[32m1.000\u001b[0m |  \u001b[1m\u001b[32m0.824\u001b[0m   | \u001b[1m\u001b[31m0.064\u001b[0m | \u001b[1m\u001b[31m0.141\u001b[0m | \u001b[37m1630851994_Perceptron_Dense-1-sigmoid\u001b[0m |\n",
      "|  \u001b[1m\u001b[37m90\u001b[0m   | \u001b[1m\u001b[37m1.00e-01\u001b[0m | \u001b[1m\u001b[32m1.000\u001b[0m |  \u001b[1m\u001b[32m0.824\u001b[0m   | \u001b[1m\u001b[31m0.060\u001b[0m | \u001b[1m\u001b[31m0.139\u001b[0m | \u001b[37m1630851994_Perceptron_Dense-1-sigmoid\u001b[0m |\n",
      "|  \u001b[1m\u001b[37m99\u001b[0m   | \u001b[1m\u001b[37m1.00e-01\u001b[0m | \u001b[1m\u001b[32m1.000\u001b[0m |  \u001b[1m\u001b[32m0.824\u001b[0m   | \u001b[1m\u001b[31m0.057\u001b[0m | \u001b[1m\u001b[31m0.138\u001b[0m | \u001b[37m1630851994_Perceptron_Dense-1-sigmoid\u001b[0m |\n",
      "+-------+----------+-------+----------+-------+-------+---------------------------------------+\n"
     ]
    }
   ],
   "source": [
    "model.train(epochs=100)"
   ]
  },
  {
   "cell_type": "markdown",
   "metadata": {},
   "source": [
    "With all default, EpyNN returns:\n",
    "\n",
    "* **EpyNN Check**: Result of a blank epoch to make sure the network is functionnal. For each layer, output shapes are returned for both the forward and backward propagation.\n",
    "* **init_logs**: Extended report about datasets, network architecture and shapes.\n",
    "* **Evaluation**: Real time evaluation of non-empty datasets (may include dtrain, dtest, dval) with default metrics accuracy and default loss function MSE.\n",
    "\n",
    "The latter can be plotted using:"
   ]
  },
  {
   "cell_type": "code",
   "execution_count": 16,
   "metadata": {},
   "outputs": [
    {
     "data": {
      "image/png": "[encoded data removed]",
      "text/plain": [
       "<Figure size 432x288 with 1 Axes>"
      ]
     },
     "metadata": {
      "needs_background": "light"
     },
     "output_type": "display_data"
    }
   ],
   "source": [
    "model.plot(path=False)"
   ]
  },
  {
   "cell_type": "markdown",
   "metadata": {},
   "source": [
    "## Write, read & Predict"
   ]
  },
  {
   "cell_type": "markdown",
   "metadata": {},
   "source": [
    "A trained model can be written on disk such as:"
   ]
  },
  {
   "cell_type": "code",
   "execution_count": 17,
   "metadata": {},
   "outputs": [
    {
     "name": "stdout",
     "output_type": "stream",
     "text": [
      "\u001b[1m\u001b[32mMake: /media/synthase/beta/EpyNN/nnlive/dummy_boolean/models/1630851994_Perceptron_Dense-1-sigmoid.pickle\u001b[0m\n"
     ]
    }
   ],
   "source": [
    "model.write()\n",
    "\n",
    "# model.write(path=/your/custom/path)"
   ]
  },
  {
   "cell_type": "markdown",
   "metadata": {},
   "source": [
    "A model can be read from disk such as:"
   ]
  },
  {
   "cell_type": "code",
   "execution_count": 18,
   "metadata": {},
   "outputs": [],
   "source": [
    "model = read_model()\n",
    "\n",
    "# model = read_model(path=/your/custom/path)"
   ]
  },
  {
   "cell_type": "markdown",
   "metadata": {},
   "source": [
    "We can retrieve new features and predict on them."
   ]
  },
  {
   "cell_type": "code",
   "execution_count": 19,
   "metadata": {},
   "outputs": [],
   "source": [
    "X_features, _ = prepare_dataset(N_SAMPLES=10)\n",
    "\n",
    "dset = model.predict(X_features)"
   ]
  },
  {
   "cell_type": "markdown",
   "metadata": {},
   "source": [
    "Results can be extracted such as:"
   ]
  },
  {
   "cell_type": "code",
   "execution_count": 20,
   "metadata": {},
   "outputs": [
    {
     "name": "stdout",
     "output_type": "stream",
     "text": [
      "0 [1.] [0.68043381] [ True False False ...  True  True  True]\n",
      "1 [1.] [0.85747028] [ True  True  True ...  True False  True]\n",
      "2 [1.] [0.59525098] [False  True False ...  True  True  True]\n",
      "3 [1.] [0.92413633] [False  True  True ... False  True  True]\n",
      "4 [0.] [0.09419323] [ True False  True ...  True False False]\n",
      "5 [1.] [0.61585502] [False  True False ...  True  True  True]\n",
      "6 [1.] [0.90922115] [False False  True ... False  True  True]\n",
      "7 [1.] [0.82268849] [False False  True ... False  True False]\n",
      "8 [1.] [0.86659777] [ True False  True ...  True  True  True]\n",
      "9 [1.] [0.85425442] [ True  True  True ...  True  True  True]\n"
     ]
    }
   ],
   "source": [
    "for n, pred, probs, features in zip(dset.ids, dset.P, dset.A, dset.X):\n",
    "    print(n, pred, probs, features)"
   ]
  }
 ],
 "metadata": {
  "kernelspec": {
   "display_name": "Python 3",
   "language": "python",
   "name": "python3"
  },
  "language_info": {
   "codemirror_mode": {
    "name": "ipython",
    "version": 3
   },
   "file_extension": ".py",
   "mimetype": "text/x-python",
   "name": "python",
   "nbconvert_exporter": "python",
   "pygments_lexer": "ipython3",
   "version": "3.7.3"
  }
 },
 "nbformat": 4,
 "nbformat_minor": 4
}
