{
 "cells": [
  {
   "cell_type": "markdown",
   "metadata": {},
   "source": [
    "# Basics with Perceptron (P)"
   ]
  },
  {
   "cell_type": "markdown",
   "metadata": {},
   "source": [
    "Find this notebook at `EpyNN/nnlive/dummy_boolean/train_P.ipynb`. <br />\n",
    "Regular python code at `EpyNN/nnlive/dummy_boolean/train.py`."
   ]
  },
  {
   "cell_type": "markdown",
   "metadata": {},
   "source": [
    "This notebook is the first of the series on Neural Network training and prediction with EpyNN. Therefore, it contains extra-details not necessarily refreshed in the next notebooks.\n",
    "\n",
    "In addition to the topic-specific content, it contains several explanations about basics or general concepts in programming that are important in the context."
   ]
  },
  {
   "cell_type": "markdown",
   "metadata": {},
   "source": [
    "## Import, configure and retrieve data"
   ]
  },
  {
   "cell_type": "markdown",
   "metadata": {},
   "source": [
    "We will import all libraries and configure seeding, behaviors and directory. "
   ]
  },
  {
   "cell_type": "markdown",
   "metadata": {},
   "source": [
    "### Imports"
   ]
  },
  {
   "cell_type": "code",
   "execution_count": 1,
   "metadata": {},
   "outputs": [],
   "source": [
    "# EpyNN/nnlive/dummy_boolean/train.ipynb\n",
    "# Standard library imports\n",
    "import random\n",
    "import copy\n",
    "\n",
    "# Related third party imports\n",
    "import numpy as np\n",
    "\n",
    "# Local application/library specific imports\n",
    "import nnlibs.initialize\n",
    "from nnlibs.commons.maths import relu\n",
    "from nnlibs.commons.library import (\n",
    "    configure_directory,\n",
    "    read_model,\n",
    ")\n",
    "from nnlibs.network.models import EpyNN\n",
    "from nnlibs.embedding.models import Embedding\n",
    "from nnlibs.dense.models import Dense\n",
    "from prepare_dataset import prepare_dataset"
   ]
  },
  {
   "cell_type": "markdown",
   "metadata": {},
   "source": [
    "Note that we imported all libraries we will use, at once and on top of the script. Even though we are going through a notebook, we should pay attention to follow good practices for imports as stated in [PEP 8 -- Style Guide for Python Code](https://www.python.org/dev/peps/pep-0008/#imports).\n",
    "\n",
    "You may have also noted that ``# Related third party imports`` are limited to ``numpy``. \n",
    "\n",
    "According to the [Philosophy of EpyNN](), we developed an educational resource for which computations rely in pure Python/NumPy, nothing else."
   ]
  },
  {
   "cell_type": "markdown",
   "metadata": {},
   "source": [
    "### Configuration"
   ]
  },
  {
   "cell_type": "markdown",
   "metadata": {},
   "source": [
    "Let's now proceed with the configuration and preferences for the current script."
   ]
  },
  {
   "cell_type": "code",
   "execution_count": 2,
   "metadata": {},
   "outputs": [
    {
     "name": "stdout",
     "output_type": "stream",
     "text": [
      "\u001b[1m\u001b[31mRemove: /media/synthase/beta/EpyNN/nnlive/dummy_boolean/datasets\u001b[0m\n",
      "\u001b[1m\u001b[32mMake: /media/synthase/beta/EpyNN/nnlive/dummy_boolean/datasets\u001b[0m\n",
      "\u001b[1m\u001b[31mRemove: /media/synthase/beta/EpyNN/nnlive/dummy_boolean/models\u001b[0m\n",
      "\u001b[1m\u001b[32mMake: /media/synthase/beta/EpyNN/nnlive/dummy_boolean/models\u001b[0m\n",
      "\u001b[1m\u001b[31mRemove: /media/synthase/beta/EpyNN/nnlive/dummy_boolean/plots\u001b[0m\n",
      "\u001b[1m\u001b[32mMake: /media/synthase/beta/EpyNN/nnlive/dummy_boolean/plots\u001b[0m\n"
     ]
    }
   ],
   "source": [
    "random.seed(1)\n",
    "\n",
    "np.set_printoptions(threshold=10)\n",
    "\n",
    "np.seterr(all='warn')\n",
    "\n",
    "configure_directory(clear=True)    # This is a dummy example"
   ]
  },
  {
   "cell_type": "markdown",
   "metadata": {},
   "source": [
    "We already explained the [reason for seeding](prepare_dataset.html#Seeding).\n",
    "\n",
    "The call to ``np.set_printoptions()`` set the printing behavior of NumPy arrays. To not overfill this notebook, we instructed that beyond ``threshold=10`` NumPy will trigger summarization rather than full representation.\n",
    "\n",
    "The call to ``np.seterr()`` is **very important** if you want to be aware of what's happening in your Network. Follow the [numpy.seterr](https://numpy.org/doc/stable/reference/generated/numpy.seterr.html) official documentation for details. Herein, we make sure that floating-point errors will always ``warn`` on the terminal session and thus we will always be aware of them.\n",
    "\n",
    "Finally, the call to ``configure_directory()`` is purely facultative but creates the default EpyNN subdirectories in the working directory."
   ]
  },
  {
   "cell_type": "markdown",
   "metadata": {},
   "source": [
    "### Retrieve Boolean features and label "
   ]
  },
  {
   "cell_type": "markdown",
   "metadata": {},
   "source": [
    "From [prepare_dataset](prepare_dataset.ipynb#Preparedataset) we imported the function ``prepare_dataset()``."
   ]
  },
  {
   "cell_type": "code",
   "execution_count": 3,
   "metadata": {},
   "outputs": [],
   "source": [
    "X_features, Y_label = prepare_dataset(N_SAMPLES=100)"
   ]
  },
  {
   "cell_type": "markdown",
   "metadata": {},
   "source": [
    "Let's inspect, always."
   ]
  },
  {
   "cell_type": "code",
   "execution_count": 4,
   "metadata": {},
   "outputs": [
    {
     "name": "stdout",
     "output_type": "stream",
     "text": [
      "1 True [True, False, False, True, False, True, False, True, True, True, False]\n",
      "0 False [False, True, False, False, False, False, False, True, False, False, True]\n",
      "1 True [False, False, False, True, True, True, False, True, False, True, True]\n",
      "1 True [True, True, True, True, False, True, True, True, True, False, True]\n",
      "0 False [True, False, True, False, True, False, False, False, False, False, True]\n"
     ]
    }
   ],
   "source": [
    "for sample in list(zip(X_features, Y_label))[:5]:\n",
    "    features, label = sample\n",
    "    print(label, (features.count(True) > features.count(False)), features)"
   ]
  },
  {
   "cell_type": "markdown",
   "metadata": {},
   "source": [
    "We have what we expect. Remeber that the conditional expression is the dummy law we used to assign a label to dummy sample boolean features."
   ]
  },
  {
   "cell_type": "markdown",
   "metadata": {},
   "source": [
    "## Perceptron - Single layer Neural Network"
   ]
  },
  {
   "cell_type": "markdown",
   "metadata": {},
   "source": [
    "Herein, we are going to build the most simple Neural Network and to train it in the most simple way we can."
   ]
  },
  {
   "cell_type": "markdown",
   "metadata": {},
   "source": [
    "<img src=\"perceptron-01.png\" style=\"width: 500px;\"/>"
   ]
  },
  {
   "cell_type": "markdown",
   "metadata": {},
   "source": [
    "This scheme depict the topology of a Perceptron, a single layer Neural Network capable of linear regressions.\n",
    "\n",
    "Although the picture is clearly stating that there are two layers in there, **single layer** refers to **single trainable layer**. \n",
    "\n",
    "The trainable layer is the output layer, which is here a *fully connected* or *Dense* layer.\n",
    "\n",
    "Since we already spent time to detail the what is and what contains an ``Embedding`` layer and ``dataSet`` object, we will focus on practice and pass on these important definitions otherwise reviewed in [xxxx]().\n",
    "\n",
    "We have the embedding or input layer to satisfy the scheme above. We need to instantiate a Dense layer object."
   ]
  },
  {
   "cell_type": "markdown",
   "metadata": {},
   "source": [
    "### The Embedding layer object"
   ]
  },
  {
   "cell_type": "markdown",
   "metadata": {},
   "source": [
    "In EpyNN, data must be passed as arguments upon call of the ``Embedding()`` layer class constructor.\n",
    "\n",
    "The instantiated object - the embedding or input layer - is always the first layer in Neural Networks made with EpyNN."
   ]
  },
  {
   "cell_type": "code",
   "execution_count": 5,
   "metadata": {},
   "outputs": [],
   "source": [
    "embedding = Embedding(X_data=X_features,\n",
    "                      Y_data=Y_label,\n",
    "                      relative_size=(2, 1, 0)) # Training, testing, validation set"
   ]
  },
  {
   "cell_type": "markdown",
   "metadata": {},
   "source": [
    "You can refer to [Data Embedding (Input)](../../Embedding.html) for full documentation.\n",
    "\n",
    "The arguments ``X_features`` and ``Y_label`` passed in the class constructor have been split with respect to relative sizes for training, testing and validation sets.\n",
    "\n",
    "Let's explore some properties and attributes of the instantiated ``embedding`` layer object."
   ]
  },
  {
   "cell_type": "code",
   "execution_count": 6,
   "metadata": {},
   "outputs": [
    {
     "name": "stdout",
     "output_type": "stream",
     "text": [
      "<class 'nnlibs.embedding.models.Embedding'>\n",
      "0 d {}\n",
      "1 fs {}\n",
      "2 p {}\n",
      "3 fc {}\n",
      "4 bs {}\n",
      "5 g {}\n",
      "6 bc {}\n",
      "7 o {}\n",
      "8 activation {}\n",
      "9 se_hPars None\n",
      "10 se_dataset {'dtrain_relative': 2, 'dtest_relative': 1, 'dval_relative': 0, 'batch_size': None, 'X_scale': False, 'X_encode': False, 'Y_encode': False}\n",
      "11 dtrain <nnlibs.commons.models.dataSet object at 0x7fe479b371d0>\n",
      "12 dtest <nnlibs.commons.models.dataSet object at 0x7fe479b372b0>\n",
      "13 dval <nnlibs.commons.models.dataSet object at 0x7fe479b25ac8>\n",
      "14 batch_dtrain [<nnlibs.commons.models.dataSet object at 0x7fe479b372e8>]\n",
      "15 dsets [<nnlibs.commons.models.dataSet object at 0x7fe479b371d0>, <nnlibs.commons.models.dataSet object at 0x7fe479b372b0>]\n"
     ]
    }
   ],
   "source": [
    "# Type of object\n",
    "print(type(embedding))\n",
    "\n",
    "# Attributes and values of embedding layer\n",
    "for i, (attr, value) in enumerate(vars(embedding).items()):\n",
    "    print(i, attr, value)"
   ]
  },
  {
   "cell_type": "markdown",
   "metadata": {},
   "source": [
    "**Lines 0-9**: Inherited from ``nnlibs.commons.models.Layer`` which is the [Base Layer](../../Layer_Model.html). These instance attributes exist for any layers in EpyNN.\n",
    "\n",
    "**Lines 10-15**: Instance attributes specific to ``nnlibs.embedding.models.Embedding`` layer. \n",
    "\n",
    "* (10) se_dataset: Contains data-related settings applied upon layer instantiation\n",
    "* (11-13) dtrain, dtest, dval: Training, testing and validation sets in EpyNN ``dataSet`` object.\n",
    "* (14) batch_dtrain: Training mini-batches. Contains the data actually used for training.\n",
    "* (15) dsets: Contains the active datasets that will be evaluated during training. It contains only two ``dataSet`` objects because dval was set to empty."
   ]
  },
  {
   "cell_type": "markdown",
   "metadata": {},
   "source": [
    "### The dataSet object"
   ]
  },
  {
   "cell_type": "markdown",
   "metadata": {},
   "source": [
    "Let's examinate one ``dataSet`` object the same way."
   ]
  },
  {
   "cell_type": "code",
   "execution_count": 7,
   "metadata": {},
   "outputs": [
    {
     "name": "stdout",
     "output_type": "stream",
     "text": [
      "<class 'nnlibs.commons.models.dataSet'>\n",
      "0 name dtrain\n",
      "1 active True\n",
      "2 X [[ True False False ...  True  True False]\n",
      " [False  True False ... False False  True]\n",
      " [False False False ... False  True  True]\n",
      " ...\n",
      " [ True False False ... False False  True]\n",
      " [False  True False ... False  True False]\n",
      " [False False  True ...  True  True False]]\n",
      "3 Y [[1]\n",
      " [0]\n",
      " [1]\n",
      " ...\n",
      " [0]\n",
      " [0]\n",
      " [1]]\n",
      "4 y [1 0 1 ... 0 0 1]\n",
      "5 b {1: 31, 0: 36}\n",
      "6 ids [ 0  1  2 ... 64 65 66]\n",
      "7 A []\n",
      "8 P []\n"
     ]
    }
   ],
   "source": [
    "# Type of object\n",
    "print(type(embedding.dtrain))\n",
    "\n",
    "# Attributes and values of embedding layer\n",
    "for i, (attr, value) in enumerate(vars(embedding.dtrain).items()):\n",
    "    print(i, attr, value)"
   ]
  },
  {
   "cell_type": "markdown",
   "metadata": {},
   "source": [
    "* (0) name: Self-explaining\n",
    "* (1) active: If it contains data\n",
    "* (2) X: Set of sample features\n",
    "* (3) Y: Set of sample label.\n",
    "* (4) y: Set of single-digit sample label.\n",
    "* (5) b: Balance of labels in set.\n",
    "* (6) ids: Sample identifiers.\n",
    "* (7) A: Output of forward propagation\n",
    "* (8) P: Label predictions.\n",
    "\n",
    "For full documentation of ``nnlibs.commons.models.dataSet`` object, you can refer to [Dataset (Model)](../../Data_Model.html).\n",
    "\n",
    "Note that in the present example we use single digit-labels and therefore the only difference between (3) and (4) is about the shape. The reason for this apparent duplicate will appear in a next notebook."
   ]
  },
  {
   "cell_type": "code",
   "execution_count": 8,
   "metadata": {},
   "outputs": [
    {
     "name": "stdout",
     "output_type": "stream",
     "text": [
      "(67, 1)\n",
      "(67,)\n",
      "True\n"
     ]
    }
   ],
   "source": [
    "print(embedding.dtrain.Y.shape)\n",
    "print(embedding.dtrain.y.shape)\n",
    "\n",
    "print(all(embedding.dtrain.Y.flatten() == embedding.dtrain.y))"
   ]
  },
  {
   "cell_type": "markdown",
   "metadata": {},
   "source": [
    "We described how to instantiate the embedding - or input - layer with EpyNN and we browsed the attached attribute-value pairs.\n",
    "\n",
    "We observed that it contains ``dataSet`` objects and we browsed the corresponding attribute-value pairs for the training set.\n",
    "\n",
    "We introduced all we needed to know.\n",
    "\n",
    "We are ready."
   ]
  },
  {
   "cell_type": "markdown",
   "metadata": {},
   "source": [
    "### The Dense layer object"
   ]
  },
  {
   "cell_type": "code",
   "execution_count": 9,
   "metadata": {},
   "outputs": [],
   "source": [
    "dense = Dense()    # Defaults to Dense(nodes=1, activation=sigmoid)"
   ]
  },
  {
   "cell_type": "markdown",
   "metadata": {},
   "source": [
    "This one was easy. Let's inspect."
   ]
  },
  {
   "cell_type": "code",
   "execution_count": 10,
   "metadata": {},
   "outputs": [
    {
     "name": "stdout",
     "output_type": "stream",
     "text": [
      "<class 'nnlibs.dense.models.Dense'>\n",
      "0 d {'n': 1}\n",
      "1 fs {}\n",
      "2 p {}\n",
      "3 fc {}\n",
      "4 bs {}\n",
      "5 g {}\n",
      "6 bc {}\n",
      "7 o {}\n",
      "8 activation {'activate': 'sigmoid'}\n",
      "9 se_hPars None\n",
      "10 initialization <function xavier at 0x7fe47ccea400>\n",
      "11 activate <function sigmoid at 0x7fe47ccea1e0>\n"
     ]
    }
   ],
   "source": [
    "# Type of object\n",
    "print(type(dense))\n",
    "\n",
    "# Attributes and values of dense layer\n",
    "for i, (attr, value) in enumerate(vars(dense).items()):\n",
    "    print(i, attr, value)"
   ]
  },
  {
   "cell_type": "markdown",
   "metadata": {},
   "source": [
    "We pass on details again. Simply note that (1) indicates the number of nodes in the Dense layer, and (8, 11) the activation function for this layer. See [xx]()."
   ]
  },
  {
   "cell_type": "markdown",
   "metadata": {},
   "source": [
    "## The EpyNN Network object"
   ]
  },
  {
   "cell_type": "markdown",
   "metadata": {},
   "source": [
    "### Instantiate your Perceptron"
   ]
  },
  {
   "cell_type": "markdown",
   "metadata": {},
   "source": [
    "Now that we have an embedding (input) layer and a Dense (output) layer, we can instantiate the EpyNN object which represents the Neural Network."
   ]
  },
  {
   "cell_type": "code",
   "execution_count": 11,
   "metadata": {},
   "outputs": [],
   "source": [
    "layers = [embedding, dense]"
   ]
  },
  {
   "cell_type": "markdown",
   "metadata": {},
   "source": [
    "The list ``layers`` is the architecture of a Perceptron."
   ]
  },
  {
   "cell_type": "code",
   "execution_count": 12,
   "metadata": {},
   "outputs": [],
   "source": [
    "model = EpyNN(layers=layers, name='Perceptron_Dense-1-sigmoid')"
   ]
  },
  {
   "cell_type": "markdown",
   "metadata": {},
   "source": [
    "The object ``EpyNN`` is the Perceptron itself.\n",
    "\n",
    "Let's proove it."
   ]
  },
  {
   "cell_type": "code",
   "execution_count": 13,
   "metadata": {},
   "outputs": [
    {
     "name": "stdout",
     "output_type": "stream",
     "text": [
      "<class 'nnlibs.network.models.EpyNN'>\n",
      "0 layers [<nnlibs.embedding.models.Embedding object at 0x7fe479b370f0>, <nnlibs.dense.models.Dense object at 0x7fe479b25390>]\n",
      "1 embedding <nnlibs.embedding.models.Embedding object at 0x7fe479b370f0>\n",
      "2 ts 1628334037\n",
      "3 uname 1628334037_Perceptron_Dense-1-sigmoid\n",
      "4 initialized False\n"
     ]
    }
   ],
   "source": [
    "# Type of object\n",
    "print(type(model))\n",
    "\n",
    "# Attributes and values of EpyNN model for a Perceptron\n",
    "for i, (attr, value) in enumerate(vars(model).items()):\n",
    "    print(i, attr, value)"
   ]
  },
  {
   "cell_type": "markdown",
   "metadata": {},
   "source": [
    "Does it really contains the layers we instantiated before?"
   ]
  },
  {
   "cell_type": "code",
   "execution_count": 14,
   "metadata": {},
   "outputs": [],
   "source": [
    "print((model.embedding == embedding))\n",
    "print((model.layers[-1] == dense))"
   ]
  },
  {
   "cell_type": "markdown",
   "metadata": {},
   "source": []
  },
  {
   "cell_type": "markdown",
   "metadata": {},
   "source": [
    "### Perceptron training"
   ]
  },
  {
   "cell_type": "markdown",
   "metadata": {},
   "source": [
    "It does seems, yes.\n",
    "\n",
    "We are going to start the training of this Perceptron with all defaults, the very most simple.\n",
    "\n",
    "If willing to read the docs about [Neural Network (EpyNN)](../../EpyNN_Model.html) before, or examinate a [less basic use]() first, feel free.\n",
    "\n",
    "Otherwise, let's train it."
   ]
  },
  {
   "cell_type": "code",
   "execution_count": 15,
   "metadata": {},
   "outputs": [
    {
     "name": "stdout",
     "output_type": "stream",
     "text": [
      "\u001b[1m--- EpyNN Check --- \u001b[0m\n",
      "\u001b[1mLayer: Embedding\u001b[0m\n",
      "\u001b[1m\u001b[32mcompute_shapes: Embedding\u001b[0m\n",
      "\u001b[1m\u001b[32minitialize_parameters: Embedding\u001b[0m\n",
      "\u001b[1m\u001b[32mforward: Embedding\u001b[0m\n",
      "\u001b[1mLayer: Dense\u001b[0m\n",
      "\u001b[1m\u001b[32mcompute_shapes: Dense\u001b[0m\n",
      "\u001b[1m\u001b[32minitialize_parameters: Dense\u001b[0m\n",
      "\u001b[1m\u001b[32mforward: Dense\u001b[0m\n",
      "\u001b[1m\u001b[36mbackward: Dense\u001b[0m\n",
      "\u001b[1m\u001b[36mcompute_gradients: Dense\u001b[0m\n",
      "\u001b[1m\u001b[36mbackward: Embedding\u001b[0m\n",
      "\u001b[1m\u001b[36mcompute_gradients: Embedding\u001b[0m\n",
      "\u001b[1m----------------------- 1628334037_Perceptron_Dense-1-sigmoid -------------------------\n",
      "\u001b[0m\n",
      "\n",
      "\u001b[1m-------------------------------- Datasets ------------------------------------\n",
      "\u001b[0m\n",
      "+--------+-------+------+-------+\n",
      "| dtrain | dtest | dval | batch |\n",
      "| (0)    | (1)   | (2)  | size  |\n",
      "+--------+-------+------+-------+\n",
      "| 67     | 33    | None | None  |\n",
      "+--------+-------+------+-------+\n",
      "\n",
      "+----------+--------+-------+------+\n",
      "| N_LABELS | dtrain | dtest | dval |\n",
      "|          | (0)    | (1)   | (2)  |\n",
      "+----------+--------+-------+------+\n",
      "| 2        | 0: 36  | 0: 14 | None |\n",
      "|          | 1: 31  | 1: 19 |      |\n",
      "+----------+--------+-------+------+\n",
      "\n",
      "\u001b[1m----------------------- Model Architecture -------------------------\n",
      "\u001b[0m\n",
      "+----+-----------+------------+-------------------+-------------+--------------+\n",
      "| ID | Layer     | Dimensions | Activation        | FW_Shapes   | BW_Shapes    |\n",
      "+----+-----------+------------+-------------------+-------------+--------------+\n",
      "| 0  | Embedding | m: 67      |                   | X: (67, 11) | dX: (67, 11) |\n",
      "|    |           | n: 11      |                   | A: (67, 11) | dA: (67, 11) |\n",
      "+----+-----------+------------+-------------------+-------------+--------------+\n",
      "| 1  | Dense     | n: 1       | activate: sigmoid | X: (67, 11) | dX: (67, 1)  |\n",
      "|    |           | m: 67      |                   | W: (11, 1)  | dZ: (67, 1)  |\n",
      "|    |           | p: 11      |                   | b: (1, 1)   | dA: (67, 11) |\n",
      "|    |           |            |                   | Z: (67, 1)  |              |\n",
      "|    |           |            |                   | A: (67, 1)  |              |\n",
      "+----+-----------+------------+-------------------+-------------+--------------+\n",
      "\n",
      "\u001b[1m------------------------------------------- Layers ---------------------------------------------\n",
      "\u001b[0m\n",
      "+-------+--------+----------+---------+--------+---------+--------+----------+----------+-----+\n",
      "| Layer | epochs | schedule | decay_k | cycle  | cycle   | cycle  | learning | learning | end |\n",
      "|       |        |          |         | epochs | descent | number | rate     | rate     | (%) |\n",
      "|       |        |          |         |        |         |        | (start)  | (end)    |     |\n",
      "+-------+--------+----------+---------+--------+---------+--------+----------+----------+-----+\n",
      "| Dense | 100    | steady   | 0.001   | 0      | 0       | 1      | 0.100    | 0.100    | 100 |\n",
      "+-------+--------+----------+---------+--------+---------+--------+----------+----------+-----+\n",
      "\n",
      "+-------+-------+-------+-------------+\n",
      "| Layer | LRELU | ELU   | softmax     |\n",
      "|       | alpha | alpha | temperature |\n",
      "+-------+-------+-------+-------------+\n",
      "| Dense | 0.010 | 0.010 | 1           |\n",
      "+-------+-------+-------+-------------+\n",
      "\n",
      "\u001b[1m----------------------- 1628334037_Perceptron_Dense-1-sigmoid -------------------------\n",
      "\u001b[0m\n",
      "\n",
      "+-------+----------+-------+----------+-------+-------+---------------------------------------+\n",
      "| \u001b[1m\u001b[37mepoch\u001b[0m |  \u001b[1m\u001b[37mlrate\u001b[0m   |       | \u001b[1m\u001b[32maccuracy\u001b[0m |       |  \u001b[1m\u001b[31mMSE\u001b[0m  |              \u001b[37mExperiment\u001b[0m               |\n",
      "|       |  \u001b[37mDense\u001b[0m   |  \u001b[1m\u001b[32m(0)\u001b[0m  |   \u001b[1m\u001b[32m(1)\u001b[0m    |  \u001b[1m\u001b[31m(0)\u001b[0m  |  \u001b[1m\u001b[31m(1)\u001b[0m  |                                       |\n",
      "+-------+----------+-------+----------+-------+-------+---------------------------------------+\n",
      "|   \u001b[1m\u001b[37m0\u001b[0m   | \u001b[1m\u001b[37m1.00e-01\u001b[0m | \u001b[1m\u001b[32m0.433\u001b[0m |  \u001b[1m\u001b[32m0.455\u001b[0m   | \u001b[1m\u001b[31m0.418\u001b[0m | \u001b[1m\u001b[31m0.441\u001b[0m | \u001b[37m1628334037_Perceptron_Dense-1-sigmoid\u001b[0m |\n",
      "|  \u001b[1m\u001b[37m10\u001b[0m   | \u001b[1m\u001b[37m1.00e-01\u001b[0m | \u001b[1m\u001b[32m0.716\u001b[0m |  \u001b[1m\u001b[32m0.606\u001b[0m   | \u001b[1m\u001b[31m0.226\u001b[0m | \u001b[1m\u001b[31m0.264\u001b[0m | \u001b[37m1628334037_Perceptron_Dense-1-sigmoid\u001b[0m |\n",
      "|  \u001b[1m\u001b[37m20\u001b[0m   | \u001b[1m\u001b[37m1.00e-01\u001b[0m | \u001b[1m\u001b[32m0.806\u001b[0m |  \u001b[1m\u001b[32m0.667\u001b[0m   | \u001b[1m\u001b[31m0.150\u001b[0m | \u001b[1m\u001b[31m0.194\u001b[0m | \u001b[37m1628334037_Perceptron_Dense-1-sigmoid\u001b[0m |\n",
      "|  \u001b[1m\u001b[37m30\u001b[0m   | \u001b[1m\u001b[37m1.00e-01\u001b[0m | \u001b[1m\u001b[32m0.910\u001b[0m |  \u001b[1m\u001b[32m0.788\u001b[0m   | \u001b[1m\u001b[31m0.107\u001b[0m | \u001b[1m\u001b[31m0.138\u001b[0m | \u001b[37m1628334037_Perceptron_Dense-1-sigmoid\u001b[0m |\n",
      "|  \u001b[1m\u001b[37m40\u001b[0m   | \u001b[1m\u001b[37m1.00e-01\u001b[0m | \u001b[1m\u001b[32m0.955\u001b[0m |  \u001b[1m\u001b[32m0.909\u001b[0m   | \u001b[1m\u001b[31m0.090\u001b[0m | \u001b[1m\u001b[31m0.116\u001b[0m | \u001b[37m1628334037_Perceptron_Dense-1-sigmoid\u001b[0m |\n",
      "|  \u001b[1m\u001b[37m50\u001b[0m   | \u001b[1m\u001b[37m1.00e-01\u001b[0m | \u001b[1m\u001b[32m0.970\u001b[0m |  \u001b[1m\u001b[32m0.909\u001b[0m   | \u001b[1m\u001b[31m0.081\u001b[0m | \u001b[1m\u001b[31m0.104\u001b[0m | \u001b[37m1628334037_Perceptron_Dense-1-sigmoid\u001b[0m |\n",
      "|  \u001b[1m\u001b[37m60\u001b[0m   | \u001b[1m\u001b[37m1.00e-01\u001b[0m | \u001b[1m\u001b[32m0.970\u001b[0m |  \u001b[1m\u001b[32m0.909\u001b[0m   | \u001b[1m\u001b[31m0.073\u001b[0m | \u001b[1m\u001b[31m0.096\u001b[0m | \u001b[37m1628334037_Perceptron_Dense-1-sigmoid\u001b[0m |\n",
      "|  \u001b[1m\u001b[37m70\u001b[0m   | \u001b[1m\u001b[37m1.00e-01\u001b[0m | \u001b[1m\u001b[32m0.985\u001b[0m |  \u001b[1m\u001b[32m0.970\u001b[0m   | \u001b[1m\u001b[31m0.070\u001b[0m | \u001b[1m\u001b[31m0.098\u001b[0m | \u001b[37m1628334037_Perceptron_Dense-1-sigmoid\u001b[0m |\n",
      "|  \u001b[1m\u001b[37m80\u001b[0m   | \u001b[1m\u001b[37m1.00e-01\u001b[0m | \u001b[1m\u001b[32m0.940\u001b[0m |  \u001b[1m\u001b[32m0.879\u001b[0m   | \u001b[1m\u001b[31m0.075\u001b[0m | \u001b[1m\u001b[31m0.114\u001b[0m | \u001b[37m1628334037_Perceptron_Dense-1-sigmoid\u001b[0m |\n",
      "|  \u001b[1m\u001b[37m90\u001b[0m   | \u001b[1m\u001b[37m1.00e-01\u001b[0m | \u001b[1m\u001b[32m0.985\u001b[0m |  \u001b[1m\u001b[32m0.939\u001b[0m   | \u001b[1m\u001b[31m0.064\u001b[0m | \u001b[1m\u001b[31m0.097\u001b[0m | \u001b[37m1628334037_Perceptron_Dense-1-sigmoid\u001b[0m |\n",
      "+-------+----------+-------+----------+-------+-------+---------------------------------------+\n",
      "\u001b[1m\u001b[37mTIME: 5s RATE: 18.2e/s TTC: 1s\u001b[0m\n",
      "+-------+-------+-----+----------+-----+-----+------------+\n",
      "| \u001b[1m\u001b[37mepoch\u001b[0m | \u001b[1m\u001b[37mlrate\u001b[0m |     | \u001b[1m\u001b[32maccuracy\u001b[0m |     | \u001b[1m\u001b[31mMSE\u001b[0m | \u001b[37mExperiment\u001b[0m |\n",
      "|       | \u001b[37mDense\u001b[0m | \u001b[1m\u001b[32m(0)\u001b[0m |   \u001b[1m\u001b[32m(1)\u001b[0m    | \u001b[1m\u001b[31m(0)\u001b[0m | \u001b[1m\u001b[31m(1)\u001b[0m |            |\n",
      "+-------+-------+-----+----------+-----+-----+------------+\n",
      "+-------+-------+-----+----------+-----+-----+------------+\n",
      "\u001b[1m\u001b[37mTIME: 5s RATE: 20.0e/s TTC: 0s\u001b[0m\n"
     ]
    }
   ],
   "source": [
    "model.train(epochs=100)"
   ]
  },
  {
   "cell_type": "markdown",
   "metadata": {},
   "source": [
    "XXXX"
   ]
  },
  {
   "cell_type": "code",
   "execution_count": 16,
   "metadata": {},
   "outputs": [
    {
     "data": {
      "image/png": "[encoded data removed]",
      "text/plain": [
       "<Figure size 432x288 with 1 Axes>"
      ]
     },
     "metadata": {
      "needs_background": "light"
     },
     "output_type": "display_data"
    },
    {
     "name": "stdout",
     "output_type": "stream",
     "text": [
      "\u001b[1m\u001b[32mMake: /media/synthase/beta/EpyNN/nnlive/dummy_boolean/plots/1628334037_Perceptron_Dense-1-sigmoid.png\u001b[0m\n"
     ]
    }
   ],
   "source": [
    "model.plot()"
   ]
  },
  {
   "cell_type": "markdown",
   "metadata": {},
   "source": [
    "### Prediction"
   ]
  },
  {
   "cell_type": "code",
   "execution_count": null,
   "metadata": {},
   "outputs": [],
   "source": []
  }
 ],
 "metadata": {
  "kernelspec": {
   "display_name": "Python 3",
   "language": "python",
   "name": "python3"
  },
  "language_info": {
   "codemirror_mode": {
    "name": "ipython",
    "version": 3
   },
   "file_extension": ".py",
   "mimetype": "text/x-python",
   "name": "python",
   "nbconvert_exporter": "python",
   "pygments_lexer": "ipython3",
   "version": "3.7.3"
  }
 },
 "nbformat": 4,
 "nbformat_minor": 4
}
