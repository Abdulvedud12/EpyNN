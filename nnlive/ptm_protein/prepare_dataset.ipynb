{
 "cells": [
  {
   "cell_type": "markdown",
   "metadata": {},
   "source": [
    "# Protein Modification"
   ]
  },
  {
   "cell_type": "markdown",
   "metadata": {},
   "source": [
    "* Find this notebook at `EpyNN/nnlive/ptm_protein/prepare_dataset.ipynb`. \n",
    "* Regular python code at `EpyNN/nnlive/ptm_protein/prepare_dataset.py`."
   ]
  },
  {
   "cell_type": "markdown",
   "metadata": {},
   "source": [
    "This notebook is part of the series on preparing data for Neural Network regression with EpyNN. \n",
    "\n",
    "It deals with a real world problem and therefore will focus on the problem itself, rather than basics that were reviewed along with the preparation of the following dummy dataset: \n",
    "\n",
    "* [Boolean dataset](../dummy_boolean/prepare_dataset.ipynb)\n",
    "* [String dataset](../dummy_string/prepare_dataset.ipynb)\n",
    "* [Time-series (numerical)](../dummy_time/prepare_dataset.ipynb)\n",
    "* [Image (numerical)](../dummy_image/prepare_dataset.ipynb)"
   ]
  },
  {
   "cell_type": "markdown",
   "metadata": {},
   "source": [
    "## Post Translational Modification (PTM) of Proteins"
   ]
  },
  {
   "cell_type": "markdown",
   "metadata": {},
   "source": [
    "Post-Translational Modification (PTM) of proteins is an ensemble of mechanisms by which the primary sequence of a protein can be chemically modified after - and in some circumstances during - biosynthesis by the ribosomes.\n",
    "\n",
    "When talking about *one* PTM, it generally refers to a given chemical group that may be covalently linked with given amino acid residues in proteins.\n",
    "\n",
    "For instance, the formation of a phosphoester between a phosphate group and side-chain hydroxyl of serine, threonine and tyrosine is known as phosphorylation. While proteins overall may contain a given number of such residues, phosphorylation may occur particularly on a given subset, generally with respect to specific cellular conditions.\n",
    "\n",
    "From a given number of chemically unmodified proteins (proteome), below is a list of some characteristics with respect to PTM:\n",
    "\n",
    "* PTM increase chemical diversity: for a given *proteome*, there is a corresponding *phosphoproteome* or *oglcnacome* if talking about *O*-GlcNAcylation. Said explicitely, a chemically uniform protein may give rise to an ensemble of chemically distinct proteins upon modification.\n",
    "* PTM may enrich gene's function: as for other mechanisms, the fact that a given gene product - the chemically unmodified protein - may be modified to yield distinct chemical entities is equivalent to multiplying the number of end-products from a single gene. As such, the number of functions for this gene is expected to increase, because distinct functions are achieved by distinct molecules, and this is actually what PTM do: create chemically distinct proteins from the same gene product.\n",
    "* Chemical groups defining one PTM are numerous: among the most studied, one may cite phosphorylation, ubiquitinylation, *O*-GlcNActylation, methylation, succinylation, among dozens of others.\n",
    "\n",
    "PTMs are major regulators of cell signaling and play a role in virtually every biological process.\n",
    "\n",
    "As such, this is a big challenge to predict whether or not one protein may be modified with respect to one PTM.\n",
    "\n",
    "Let's draw something to illustrate one aspect of the deal."
   ]
  },
  {
   "cell_type": "markdown",
   "metadata": {},
   "source": [
    "![2hr9](tctp.png)"
   ]
  },
  {
   "cell_type": "markdown",
   "metadata": {},
   "source": [
    "This is a protein called [TCTP](https://www.rcsb.org/structure/2hr9) and above is shown a type of 3D model commonly used to represent proteins. The red sticks represent serine residues along the protein primary sequence. Those with label SER-46 and SER-64 where shown to undergo phosphorylation in cells.\n",
    "\n",
    "But in theory, phosphorylation could occur on all serines within this structure. The reality is that such modifications only occur on *some* serines.\n",
    "\n",
    "This is what we are going to challenge here, with a PTM called *O*-GlcNAcylation."
   ]
  },
  {
   "cell_type": "markdown",
   "metadata": {},
   "source": [
    "## Prepare a set of peptides"
   ]
  },
  {
   "cell_type": "markdown",
   "metadata": {},
   "source": [
    "Let’s prepare a set of O-GlcNAcylated and presumably not *O*-GlcNAcylated peptide sequences."
   ]
  },
  {
   "cell_type": "markdown",
   "metadata": {},
   "source": [
    "### Imports"
   ]
  },
  {
   "cell_type": "code",
   "execution_count": 1,
   "metadata": {},
   "outputs": [],
   "source": [
    "# EpyNN/nnlive/ptm_protein/prepare_dataset.ipynb\n",
    "# Standard library imports\n",
    "import tarfile\n",
    "import random\n",
    "import os\n",
    "\n",
    "# Related third party imports\n",
    "import wget\n",
    "import numpy as np\n",
    "import matplotlib.pyplot as plt\n",
    "\n",
    "# Local application/library specific imports\n",
    "from epynn.commons.library import read_file\n",
    "from epynn.commons.logs import process_logs"
   ]
  },
  {
   "cell_type": "markdown",
   "metadata": {},
   "source": [
    "Note the `tarfile` which is a Python built-in *standard* library and the first choice to deal with `.tar` archives and related."
   ]
  },
  {
   "cell_type": "markdown",
   "metadata": {},
   "source": [
    "### Seeding"
   ]
  },
  {
   "cell_type": "code",
   "execution_count": 2,
   "metadata": {},
   "outputs": [],
   "source": [
    "random.seed(1)"
   ]
  },
  {
   "cell_type": "markdown",
   "metadata": {},
   "source": [
    "For reproducibility."
   ]
  },
  {
   "cell_type": "markdown",
   "metadata": {},
   "source": [
    "### Download sequences"
   ]
  },
  {
   "cell_type": "markdown",
   "metadata": {},
   "source": [
    "Simple function to download data from the cloud as `.tar` archive. Once uncompressed, it yields a `data/` directory containing `.dat` text files for positive and negative sequences."
   ]
  },
  {
   "cell_type": "code",
   "execution_count": 3,
   "metadata": {},
   "outputs": [],
   "source": [
    "def download_sequences():\n",
    "    \"\"\"Download a set of peptide sequences.\n",
    "    \"\"\"\n",
    "    data_path = os.path.join('.', 'data')\n",
    "\n",
    "    if not os.path.exists(data_path):\n",
    "\n",
    "        # Download @url with wget\n",
    "        url = 'https://synthase.s3.us-west-2.amazonaws.com/ptm_prediction_data.tar'\n",
    "        fname = wget.download(url)\n",
    "\n",
    "        # Extract archive\n",
    "        tar = tarfile.open(fname).extractall('.')\n",
    "        process_logs('Make: ' + fname, level=1)\n",
    "\n",
    "        # Clean-up\n",
    "        os.remove(fname)\n",
    "\n",
    "    return None"
   ]
  },
  {
   "cell_type": "markdown",
   "metadata": {},
   "source": [
    "Retrieve the data as follows."
   ]
  },
  {
   "cell_type": "code",
   "execution_count": 4,
   "metadata": {},
   "outputs": [],
   "source": [
    "download_sequences()"
   ]
  },
  {
   "cell_type": "markdown",
   "metadata": {},
   "source": [
    "Check the directory."
   ]
  },
  {
   "cell_type": "code",
   "execution_count": 5,
   "metadata": {},
   "outputs": [
    {
     "name": "stdout",
     "output_type": "stream",
     "text": [
      "('data', [], ['21_positive.dat', '21_negative.dat'])\n"
     ]
    }
   ],
   "source": [
    "for path in os.walk('data'):\n",
    "    print(path)"
   ]
  },
  {
   "cell_type": "markdown",
   "metadata": {},
   "source": [
    "Let’s have a quick look to what one file's content."
   ]
  },
  {
   "cell_type": "code",
   "execution_count": 6,
   "metadata": {},
   "outputs": [
    {
     "name": "stdout",
     "output_type": "stream",
     "text": [
      "['SQDVSNAFSPSISKAQPGAPP', 'GPRIPDHQRTSVPENHAQSRI', 'QFSCKCLTGFTGQKCETDVNE', 'KLIKRLYVDKSLNLSTEFISS', 'QQKEGEQNQQTQQQQILIQPQ']\n"
     ]
    }
   ],
   "source": [
    "with open(os.path.join('data', '21_positive.dat'), 'r') as f:\n",
    "    print(f.read().splitlines()[:5])"
   ]
  },
  {
   "cell_type": "markdown",
   "metadata": {},
   "source": [
    "These are 21 amino-acids long peptide sequences.\n",
    "\n",
    "Note that positive sequences are *Homo sapiens* *O*-GlcNAcylated peptides sourced from [The *O*-GlcNAc Database](https://www.oglcnac.mcw.edu).\n",
    "\n",
    "Negative sequences are *Homo sapiens* peptide sequence not reported in the above-mentioned source. "
   ]
  },
  {
   "cell_type": "markdown",
   "metadata": {},
   "source": [
    "### Prepare dataset"
   ]
  },
  {
   "cell_type": "markdown",
   "metadata": {},
   "source": [
    "Below is a function we use to prepare the labeled dataset."
   ]
  },
  {
   "cell_type": "code",
   "execution_count": 7,
   "metadata": {},
   "outputs": [],
   "source": [
    "def prepare_dataset(N_SAMPLES=100):\n",
    "    \"\"\"Prepare a set of labeled peptides.\n",
    "\n",
    "    :param N_SAMPLES: Number of peptide samples to retrieve, defaults to 100.\n",
    "    :type N_SAMPLES: int\n",
    "\n",
    "    :return: Set of peptides.\n",
    "    :rtype: tuple[list[str]]\n",
    "\n",
    "    :return: Set of single-digit peptides label.\n",
    "    :rtype: tuple[int]\n",
    "    \"\"\"\n",
    "    # Single-digit positive and negative labels\n",
    "    p_label = 0\n",
    "    n_label = 1\n",
    "\n",
    "    # Positive data are Homo sapiens O-GlcNAcylated peptide sequences from oglcnac.mcw.edu\n",
    "    path_positive = os.path.join('data', '21_positive.dat')\n",
    "\n",
    "    # Negative data are peptide sequences presumably not O-GlcNAcylated\n",
    "    path_negative = os.path.join('data', '21_negative.dat')\n",
    "\n",
    "    # Read text files, each containing one sequence per line\n",
    "    positive = [[list(x), p_label] for x in read_file(path_positive).splitlines()]\n",
    "    negative = [[list(x), n_label] for x in read_file(path_negative).splitlines()]\n",
    "\n",
    "    # Shuffle data to prevent from any sorting previously applied\n",
    "    random.shuffle(positive)\n",
    "    random.shuffle(negative)\n",
    "\n",
    "    # Truncate to prepare a balanced dataset\n",
    "    negative = negative[:len(positive)]\n",
    "\n",
    "    # Prepare a balanced dataset\n",
    "    dataset = positive + negative\n",
    "\n",
    "    # Shuffle dataset\n",
    "    random.shuffle(dataset)\n",
    "\n",
    "    # Truncate dataset to N_SAMPLES\n",
    "    dataset = dataset[:N_SAMPLES]\n",
    "\n",
    "    # Separate X-Y pairs\n",
    "    X_features, Y_label = zip(*dataset)\n",
    "\n",
    "    return X_features, Y_label"
   ]
  },
  {
   "cell_type": "markdown",
   "metadata": {},
   "source": [
    "Let's check the function."
   ]
  },
  {
   "cell_type": "code",
   "execution_count": 8,
   "metadata": {},
   "outputs": [
    {
     "name": "stdout",
     "output_type": "stream",
     "text": [
      "0 ['T', 'A', 'A', 'M', 'R', 'N', 'T', 'K', 'R', 'G', 'S', 'W', 'Y', 'I', 'E', 'A', 'L', 'A', 'Q', 'V', 'F']\n",
      "1 ['N', 'K', 'K', 'L', 'A', 'P', 'S', 'S', 'T', 'P', 'S', 'N', 'I', 'A', 'P', 'S', 'D', 'V', 'V', 'S', 'N']\n",
      "1 ['R', 'G', 'A', 'G', 'S', 'S', 'A', 'F', 'S', 'Q', 'S', 'S', 'G', 'T', 'L', 'A', 'S', 'N', 'P', 'A', 'T']\n",
      "0 ['T', 'D', 'N', 'D', 'W', 'P', 'I', 'Y', 'V', 'E', 'S', 'G', 'E', 'E', 'N', 'D', 'P', 'A', 'G', 'D', 'D']\n",
      "0 ['G', 'Q', 'E', 'R', 'F', 'R', 'S', 'I', 'T', 'Q', 'S', 'Y', 'Y', 'R', 'S', 'A', 'N', 'A', 'L', 'I', 'L']\n",
      "0 ['S', 'I', 'N', 'T', 'G', 'C', 'L', 'N', 'A', 'C', 'T', 'Y', 'C', 'K', 'T', 'K', 'H', 'A', 'R', 'G', 'N']\n",
      "1 ['N', 'K', 'A', 'S', 'L', 'P', 'P', 'K', 'P', 'G', 'T', 'M', 'A', 'A', 'G', 'G', 'G', 'G', 'P', 'A', 'P']\n",
      "1 ['A', 'S', 'V', 'Q', 'D', 'Q', 'T', 'T', 'V', 'R', 'T', 'V', 'A', 'S', 'A', 'T', 'T', 'A', 'I', 'E', 'I']\n",
      "1 ['A', 'S', 'L', 'E', 'G', 'K', 'K', 'I', 'K', 'D', 'S', 'T', 'A', 'A', 'S', 'R', 'A', 'T', 'T', 'L', 'S']\n",
      "1 ['R', 'R', 'Q', 'P', 'V', 'G', 'G', 'L', 'G', 'L', 'S', 'I', 'K', 'G', 'G', 'S', 'E', 'H', 'N', 'V', 'P']\n"
     ]
    }
   ],
   "source": [
    "X_features, Y_label = prepare_dataset(N_SAMPLES=10)\n",
    "\n",
    "for peptide, label in zip(X_features, Y_label):\n",
    "    print(label, peptide)"
   ]
  },
  {
   "cell_type": "markdown",
   "metadata": {},
   "source": [
    "These sequences are centered with respect to the modified or presumably unmodified residue, which may be a serine or a threonine."
   ]
  },
  {
   "cell_type": "code",
   "execution_count": 9,
   "metadata": {},
   "outputs": [
    {
     "name": "stdout",
     "output_type": "stream",
     "text": [
      "0 ['S']\n",
      "1 ['S']\n",
      "1 ['S']\n",
      "0 ['S']\n",
      "0 ['S']\n",
      "0 ['T']\n",
      "1 ['T']\n",
      "1 ['T']\n",
      "1 ['S']\n",
      "1 ['S']\n"
     ]
    }
   ],
   "source": [
    "for peptide, label in zip(X_features, Y_label):\n",
    "    print(label, peptide[len(peptide) // 2:len(peptide) // 2 + 1])"
   ]
  },
  {
   "cell_type": "markdown",
   "metadata": {},
   "source": [
    "Because *O*-GlcNAcylation may impact Serine or Threonine, note that negative sequences with label ``0`` were prepared to also contain such residues at the same position."
   ]
  },
  {
   "cell_type": "markdown",
   "metadata": {},
   "source": [
    "We have already seen in [String dataset](../dummy_string/prepare_dataset.ipynb) how to perform [*one-hot encoding*](../dummy_string/prepare_dataset.ipynb#One-hot-encoding-of-string-features) of string features.\n",
    "\n",
    "Just for fun, and also because you may like to use such data in convolutional networks, let's convert a peptide sequence into an image."
   ]
  },
  {
   "cell_type": "code",
   "execution_count": 10,
   "metadata": {},
   "outputs": [
    {
     "name": "stdout",
     "output_type": "stream",
     "text": [
      "20\n",
      "{'T': 0, 'S': 1, 'E': 2, 'L': 3, 'M': 4, 'A': 5, 'W': 6, 'C': 7, 'I': 8, 'P': 9, 'D': 10, 'V': 11, 'Q': 12, 'H': 13, 'R': 14, 'Y': 15, 'G': 16, 'K': 17, 'N': 18, 'F': 19}\n",
      "['G', 'R', 'I', 'S', 'A', 'L', 'Q', 'G', 'K', 'L', 'S', 'K', 'L', 'D', 'Y', 'R', 'D', 'I', 'T', 'K', 'Q']\n",
      "[16, 14, 8, 1, 5, 3, 12, 16, 17, 3, 1, 17, 3, 10, 15, 14, 10, 8, 0, 17, 12]\n"
     ]
    },
    {
     "data": {
      "image/png": "[encoded data removed]",
      "text/plain": [
       "<Figure size 432x288 with 1 Axes>"
      ]
     },
     "metadata": {
      "needs_background": "light"
     },
     "output_type": "display_data"
    }
   ],
   "source": [
    "X_features, _ = prepare_dataset(N_SAMPLES=10)\n",
    "\n",
    "# Flatten the list of lists (list of peptides) and make a set()\n",
    "aas = list(set([feature for features in X_features for feature in features]))\n",
    "\n",
    "# set() contains unique elements\n",
    "print(len(aas))  # 20 amino-acids\n",
    "\n",
    "e2i = {k: i for i, k in enumerate(aas)}  # element_to_idx encoder 0-19\n",
    "\n",
    "features = X_features[0]\n",
    "\n",
    "print(e2i)       # Encoder\n",
    "print(features)  # Peptide before encoding\n",
    "print([e2i[feature] for feature in features])  # After encoding\n",
    "\n",
    "# NumPy array to plot as image\n",
    "img_features = np.array([e2i[feature] for feature in features])\n",
    "img_features = np.expand_dims(img_features, axis=1)\n",
    "\n",
    "plt.imshow(img_features, cmap='gray')\n",
    "plt.show()"
   ]
  },
  {
   "cell_type": "markdown",
   "metadata": {},
   "source": [
    "Well, let’s reshape. The number 21 is divisible by 7 and 3."
   ]
  },
  {
   "cell_type": "code",
   "execution_count": 11,
   "metadata": {},
   "outputs": [
    {
     "data": {
      "image/png": "[encoded data removed]",
      "text/plain": [
       "<Figure size 432x288 with 1 Axes>"
      ]
     },
     "metadata": {
      "needs_background": "light"
     },
     "output_type": "display_data"
    }
   ],
   "source": [
    "plt.imshow(img_features.reshape(7, 3), cmap='gray')\n",
    "plt.show()"
   ]
  },
  {
   "cell_type": "markdown",
   "metadata": {},
   "source": [
    "It seems to be working! We are done."
   ]
  },
  {
   "cell_type": "markdown",
   "metadata": {},
   "source": [
    "## Live examples"
   ]
  },
  {
   "cell_type": "markdown",
   "metadata": {},
   "source": [
    "The function ``prepare_dataset()`` presented herein is used in the following live examples:\n",
    "\n",
    "* Notebook at`EpyNN/nnlive/dummy_string/train.ipynb` or following [this link](train.ipynb). \n",
    "* Regular python code at `EpyNN/nnlive/dummy_string/train.py`."
   ]
  }
 ],
 "metadata": {
  "kernelspec": {
   "display_name": "Python 3",
   "language": "python",
   "name": "python3"
  },
  "language_info": {
   "codemirror_mode": {
    "name": "ipython",
    "version": 3
   },
   "file_extension": ".py",
   "mimetype": "text/x-python",
   "name": "python",
   "nbconvert_exporter": "python",
   "pygments_lexer": "ipython3",
   "version": "3.7.3"
  }
 },
 "nbformat": 4,
 "nbformat_minor": 4
}
