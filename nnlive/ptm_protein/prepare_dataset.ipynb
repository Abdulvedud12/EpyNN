{
 "cells": [
  {
   "cell_type": "markdown",
   "metadata": {},
   "source": [
    "# Protein Modification"
   ]
  },
  {
   "cell_type": "markdown",
   "metadata": {},
   "source": [
    "Find this notebook at `EpyNN/nnlive/ptm_protein/prepare_dataset.ipynb`. \n",
    "Regular python code at `EpyNN/nnlive/ptm_protein/prepare_dataset.py`."
   ]
  },
  {
   "cell_type": "markdown",
   "metadata": {},
   "source": [
    "This notebook is part of the series on preparing data for Neural Network regression with EpyNN. It deals with a real world problem and therefore will focus on the problem itself, rather than basics that were reviewed along with the preparation of dummy dataset [with Boolean](../dummy_boolean/prepare_dataset.ipynb), [with string](../dummy_string/prepare_dataset.ipynb), [with time-series (numerical)](../dummy_time/prepare_dataset.ipynb) and [with image (numerical)](../dummy_image/prepare_dataset.ipynb)."
   ]
  },
  {
   "cell_type": "markdown",
   "metadata": {},
   "source": [
    "## Post Translational Modification (PTM) of Proteins\n",
    "\n"
   ]
  },
  {
   "cell_type": "markdown",
   "metadata": {},
   "source": [
    "## Prepare a set of peptides"
   ]
  },
  {
   "cell_type": "markdown",
   "metadata": {},
   "source": [
    "### Imports"
   ]
  },
  {
   "cell_type": "code",
   "execution_count": 1,
   "metadata": {},
   "outputs": [],
   "source": [
    "# EpyNN/nnlive/ptm_protein/prepare_dataset.ipynb\n",
    "# Standard library imports\n",
    "import tarfile\n",
    "import random\n",
    "import wget\n",
    "import os\n",
    "\n",
    "# Local application/library specific imports\n",
    "from nnlibs.commons.library import read_file\n",
    "from nnlibs.commons.logs import process_logs"
   ]
  },
  {
   "cell_type": "markdown",
   "metadata": {},
   "source": [
    "### Seeding"
   ]
  },
  {
   "cell_type": "code",
   "execution_count": 2,
   "metadata": {},
   "outputs": [],
   "source": [
    "random.seed(1)"
   ]
  },
  {
   "cell_type": "markdown",
   "metadata": {},
   "source": [
    "### Download sequences"
   ]
  },
  {
   "cell_type": "code",
   "execution_count": 3,
   "metadata": {},
   "outputs": [],
   "source": [
    "def download_sequences():\n",
    "    \"\"\"Download a set of peptide sequences.\n",
    "    \"\"\"\n",
    "    data_path = os.path.join('.', 'data')\n",
    "\n",
    "    if not os.path.exists(data_path):\n",
    "\n",
    "        # Download @url with wget\n",
    "        url = 'https://synthase.s3.us-west-2.amazonaws.com/ptm_prediction_data.tar'\n",
    "        fname = wget.download(url)\n",
    "\n",
    "        # Extract archive\n",
    "        tar = tarfile.open(fname).extractall('.')\n",
    "        process_logs('Make: ' + fname, level=1)\n",
    "\n",
    "        # Clean-up\n",
    "        os.remove(fname)\n",
    "\n",
    "    return None"
   ]
  },
  {
   "cell_type": "markdown",
   "metadata": {},
   "source": [
    "Retrieve the data as follows."
   ]
  },
  {
   "cell_type": "code",
   "execution_count": 4,
   "metadata": {},
   "outputs": [],
   "source": [
    "download_sequences()"
   ]
  },
  {
   "cell_type": "markdown",
   "metadata": {},
   "source": [
    "### Prepare dataset"
   ]
  },
  {
   "cell_type": "code",
   "execution_count": 5,
   "metadata": {},
   "outputs": [],
   "source": [
    "def prepare_dataset(N_SAMPLES=100):\n",
    "    \"\"\"Prepare a set of labeled peptides.\n",
    "\n",
    "    :param N_SAMPLES: Number of peptide samples to retrieve, defaults to 100.\n",
    "    :type N_SAMPLES: int\n",
    "\n",
    "    :return: Set of peptides.\n",
    "    :rtype: tuple[list[str]]\n",
    "\n",
    "    :return: Set of single-digit peptides label.\n",
    "    :rtype: tuple[int]\n",
    "    \"\"\"\n",
    "    # Single-digit positive and negative labels\n",
    "    p_label = 1\n",
    "    n_label = 0\n",
    "\n",
    "    # Positive data are Homo sapiens O-GlcNAcylated peptide sequences from oglcnac.mcw.edu\n",
    "    path_positive = 'data/21_positive.dat'\n",
    "\n",
    "    # Negative data are peptide sequences presumably not O-GlcNAcylated\n",
    "    path_negative = 'data/21_negative.dat'\n",
    "\n",
    "    # Read text files, each containing one sequence per line\n",
    "    positive = [[list(x), p_label] for x in read_file(path_positive).splitlines()]\n",
    "    negative = [[list(x), n_label] for x in read_file(path_negative).splitlines()]\n",
    "\n",
    "    # Shuffle data to prevent from any sorting previously applied\n",
    "    random.shuffle(positive)\n",
    "    random.shuffle(negative)\n",
    "\n",
    "    # Truncate to prepare a balanced dataset\n",
    "    negative = negative[:len(positive)]\n",
    "\n",
    "    # Prepare a balanced dataset\n",
    "    dataset = positive + negative\n",
    "\n",
    "    # Shuffle dataset\n",
    "    random.shuffle(dataset)\n",
    "\n",
    "    # Truncate dataset to N_SAMPLES\n",
    "    dataset = dataset[:N_SAMPLES]\n",
    "\n",
    "    # Separate X-Y pairs\n",
    "    X_features, Y_label = zip(*dataset)\n",
    "\n",
    "    return X_features, Y_label"
   ]
  },
  {
   "cell_type": "markdown",
   "metadata": {},
   "source": [
    "Let's check the function."
   ]
  },
  {
   "cell_type": "code",
   "execution_count": 6,
   "metadata": {},
   "outputs": [
    {
     "name": "stdout",
     "output_type": "stream",
     "text": [
      "TAAMRNTKRGSWYIEALAQVF 0\n",
      "NKKLAPSSTPSNIAPSDVVSN 1\n",
      "RGAGSSAFSQSSGTLASNPAT 1\n",
      "TDNDWPIYVESGEENDPAGDD 0\n",
      "GQERFRSITQSYYRSANALIL 0\n",
      "SINTGCLNACTYCKTKHARGN 0\n",
      "NKASLPPKPGTMAAGGGGPAP 1\n",
      "ASVQDQTTVRTVASATTAIEI 1\n",
      "ASLEGKKIKDSTAASRATTLS 1\n",
      "RRQPVGGLGLSIKGGSEHNVP 1\n"
     ]
    }
   ],
   "source": [
    "X_features, Y_label = prepare_dataset(N_SAMPLES=10)\n",
    "\n",
    "for peptide, label in zip(X_features, Y_label):\n",
    "    print(peptide, label)"
   ]
  },
  {
   "cell_type": "markdown",
   "metadata": {},
   "source": [
    "## What comes next?"
   ]
  },
  {
   "cell_type": "markdown",
   "metadata": {},
   "source": [
    "The function ``prepare_dataset()`` applied to dummy string data is used in the following working examples:\n",
    "\n",
    "XXX"
   ]
  }
 ],
 "metadata": {
  "kernelspec": {
   "display_name": "Python 3",
   "language": "python",
   "name": "python3"
  },
  "language_info": {
   "codemirror_mode": {
    "name": "ipython",
    "version": 3
   },
   "file_extension": ".py",
   "mimetype": "text/x-python",
   "name": "python",
   "nbconvert_exporter": "python",
   "pygments_lexer": "ipython3",
   "version": "3.7.3"
  }
 },
 "nbformat": 4,
 "nbformat_minor": 4
}
