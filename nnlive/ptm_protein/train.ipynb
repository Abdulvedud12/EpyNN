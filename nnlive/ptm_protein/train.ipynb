{
 "cells": [
  {
   "cell_type": "markdown",
   "metadata": {},
   "source": [
    "# O-GlcNAc Prediction"
   ]
  },
  {
   "cell_type": "markdown",
   "metadata": {},
   "source": [
    "* Find this notebook at `EpyNN/nnlive/ptm_protein/train.ipynb`.\n",
    "* Regular python code at `EpyNN/nnlive/ptm_protein/train.py`."
   ]
  },
  {
   "cell_type": "markdown",
   "metadata": {},
   "source": [
    "In this notebook we will review:\n",
    "\n",
    "* Handling sequential string data which represents peptide sequences.\n",
    "* Training of Feed-Forward (FF) and recurrent networks (LSTM).\n",
    "* LSTM-based schemes with ``sequences=True``, multiple dense layers and dropout.\n",
    "\n",
    "**It is assumed that all *basics* notebooks were already reviewed:**\n",
    "\n",
    "* [Basics with Perceptron (P)](../dummy_boolean/train.ipynb)\n",
    "* [Basics with string sequence](../dummy_string/train.ipynb)\n",
    "* [Basics with numerical time-series](../dummy_time/train.ipynb)\n",
    "* [Basics with images](../dummy_image/train.ipynb)"
   ]
  },
  {
   "cell_type": "markdown",
   "metadata": {},
   "source": [
    "**<font color='red'>This notebook does not enhance, extend or replace EpyNN's documentation.</font>**\n",
    "\n",
    "**Relevant documentation pages for the current notebook:**\n",
    "\n",
    "* [Fully Connected (Dense)](https://epynn.net/Dense.html)\n",
    "* [Long Short-Term Memory (LSTM)](https://epynn.net/LSTM.html)\n",
    "* [Dropout - Regularization](https://epynn.net/Dropout.html)"
   ]
  },
  {
   "cell_type": "markdown",
   "metadata": {},
   "source": [
    "## Environment and data"
   ]
  },
  {
   "cell_type": "markdown",
   "metadata": {},
   "source": [
    "Follow [this link](prepare_dataset.ipynb) for details about data preparation."
   ]
  },
  {
   "cell_type": "markdown",
   "metadata": {},
   "source": [
    "Briefly, one set of sample features contains 21 amino acid-long peptides.\n",
    "\n",
    "Positive peptides are *Homo sapiens* peptides retrieved from [The O-GlcNAc Database](https://www.oglcnac.mcw.edu). These peptides were all experimentally demonstrated to undergo *O*-GlcNAcylation which is a protein Post-Translational Modification (PTM).\n",
    "\n",
    "Negative peptides are *presumably not* modified peptides. These sequences are part of a running project so we will not say much about them except that they are not present in the *O*-GlcNAc Database.\n",
    "\n",
    "Disclaimer: We are the authors of both EpyNN and the *O*-GlcNAc Database \\[[1](https://www.nature.com/articles/s41597-021-00810-4), [2](https://academic.oup.com/database/article/doi/10.1093/database/baab039/6323965)\\]."
   ]
  },
  {
   "cell_type": "code",
   "execution_count": 1,
   "metadata": {},
   "outputs": [
    {
     "name": "stdout",
     "output_type": "stream",
     "text": [
      "\u001b[1m\u001b[32mMake: /media/synthase/beta/EpyNN/nnlive/ptm_protein/datasets\u001b[0m\n",
      "\u001b[1m\u001b[32mMake: /media/synthase/beta/EpyNN/nnlive/ptm_protein/models\u001b[0m\n",
      "\u001b[1m\u001b[32mMake: /media/synthase/beta/EpyNN/nnlive/ptm_protein/plots\u001b[0m\n",
      "\u001b[1m\u001b[32mMake: ptm_prediction_data.tar\u001b[0m\n"
     ]
    }
   ],
   "source": [
    "# EpyNN/nnlive/ptm_protein/train.ipynb\n",
    "# Standard library imports\n",
    "import random\n",
    "\n",
    "# Related third party imports\n",
    "import numpy as np\n",
    "\n",
    "# Local application/library specific imports\n",
    "import epynn.initialize\n",
    "from epynn.commons.library import (\n",
    "    configure_directory,\n",
    "    read_model,\n",
    ")\n",
    "from epynn.commons.maths import relu, softmax\n",
    "from epynn.network.models import EpyNN\n",
    "from epynn.embedding.models import Embedding\n",
    "from epynn.lstm.models import LSTM\n",
    "from epynn.flatten.models import Flatten\n",
    "from epynn.dropout.models import Dropout\n",
    "from epynn.dense.models import Dense\n",
    "from prepare_dataset import (\n",
    "    prepare_dataset,\n",
    "    download_sequences,\n",
    ")\n",
    "from settings import se_hPars\n",
    "\n",
    "\n",
    "########################## CONFIGURE ##########################\n",
    "random.seed(1)\n",
    "\n",
    "np.set_printoptions(threshold=10)\n",
    "\n",
    "np.seterr(all='warn')\n",
    "np.seterr(under='ignore')\n",
    "\n",
    "configure_directory()\n",
    "\n",
    "############################ DATASET ##########################\n",
    "download_sequences()\n",
    "\n",
    "X_features, Y_label = prepare_dataset(N_SAMPLES=1280)"
   ]
  },
  {
   "cell_type": "markdown",
   "metadata": {},
   "source": [
    "Let's inspect our data."
   ]
  },
  {
   "cell_type": "code",
   "execution_count": 2,
   "metadata": {},
   "outputs": [
    {
     "name": "stdout",
     "output_type": "stream",
     "text": [
      "1280\n",
      "21\n",
      "['T', 'A', 'A', 'M', 'R', 'N', 'T', 'K', 'R', 'G', 'S', 'W', 'Y', 'I', 'E', 'A', 'L', 'A', 'Q', 'V', 'F']\n",
      "0\n"
     ]
    }
   ],
   "source": [
    "print(len(X_features))     # Number of sequences (samples)\n",
    "print(len(X_features[0]))  # Length of sequence (features)\n",
    "print(X_features[0])       # First sequence\n",
    "print(Y_label[0])          # Associated label"
   ]
  },
  {
   "cell_type": "markdown",
   "metadata": {},
   "source": [
    "Note that this sequence has a zero-label, meaning that it is presumably not modified.\n",
    "\n",
    "However."
   ]
  },
  {
   "cell_type": "code",
   "execution_count": 3,
   "metadata": {},
   "outputs": [
    {
     "name": "stdout",
     "output_type": "stream",
     "text": [
      "['T', 'A', 'A', 'M', 'R', 'N', 'T', 'K', 'R', 'G'] S ['W', 'Y', 'I', 'E', 'A', 'L', 'A', 'Q', 'V', 'F']\n"
     ]
    }
   ],
   "source": [
    "print(X_features[0][:10], X_features[0][10], X_features[0][11:])"
   ]
  },
  {
   "cell_type": "markdown",
   "metadata": {},
   "source": [
    "Note the 11th amino acid is a serine (S), although this sequence is presumably not modified.\n",
    "\n",
    "Time to recall that *O*-GlcNAcylation specifically impacts the subset of serine (S) and threonine (T) within the whole set of such amino acids in proteins.\n",
    "\n",
    "All sequences in this exemple were centered: 10 amino acids on the left side; the S or T in the center; ten other amino acids on the right side.\n",
    "\n",
    "Negative sequences all contain a S or a T at the 11th position, as the positive sequences do. This is to avoid biasing the problem: it is of interest to know which sequence containing S or T may be modified. But it is of no interest to train a network at finding out that sequences with no S or T will not be modified. That's trivial.\n",
    "\n",
    "About N- and C- terminal moities of proteins which are prone to PTMs: on those we cannot follow the format \\[10 amino acids\\] \\[S or T\\] \\[10 amino acids\\] just because if S/T is at position 6, there is only 5 amino acids on the left side.\n",
    "\n",
    "Below is a list of options in this case:\n",
    "\n",
    "* **Exclude those peptides**: Well, this is the *technically* best option but in terms of biological relevance it is the worst: because protein extremities are most often unstructured and/or solvent-exposed, they are over-represented as undergoing modifications. So we must include them otherwise our dataset will not be representative of the problem.\n",
    "* **Go with \\[5 amino acids\\] \\[S or T\\] \\[10 amino acids\\]**: While this can be done using recurrent architectures which accept input sequences of variable length, it cannot be done with pure Feed-Forward networks. Recurrent architectures process the sequence steps one by one and the weights are defined with respect to the number of recurrent cells and vocabulary size, not the length of the sequence. But Feed-Forward networks and precisely the *dense* layer has one dimension less compared to the *RNN* layer. Weight shape is defined with respect to the number of nodes and features. Therefore, if the latter changes, the maths can not operate as it is.\n",
    "* **Pad the sequence such as \\[0, 0, 0, 0, 0\\] \\[5 amino acids\\] \\[S or T\\] \\[10 amino acids\\]**: This enables us to include such peptides in our dataset regardless if we intend to use Feed-Forward or recurrent architectures. Moreover, it preserves the centering around the 11th position and explicitely states that *\"the number of padding characters is proportional to the closeness of the S/T from the protein first (left side) or last (right side) amino-acid\"*\n",
    "\n",
    "We have chosen the last option, padding, and used the character ``_`` instead of zero to avoid confusion between data types."
   ]
  },
  {
   "cell_type": "code",
   "execution_count": 4,
   "metadata": {},
   "outputs": [
    {
     "name": "stdout",
     "output_type": "stream",
     "text": [
      "GTEGKSRGSSSSSRCL_____\n",
      "SASGAASTTTTASKAQ_____\n",
      "CSIPSIKPPSTAN________\n",
      "VGNFTGAKQASSQSWVPG___\n",
      "PNQSFPHSVKTTTHSWVSG__\n",
      "_______MIATPLKHSRIYLP\n",
      "________MKTPNAQEAEGQQ\n",
      "________MPSDLAKKKAAKK\n",
      "______MDPNTIIEALRGTMD\n",
      "___MAAAAELSLLEKSLGLSK\n"
     ]
    }
   ],
   "source": [
    "print('\\n'.join([''.join(features) for features in X_features if '_' in features][0:10]))"
   ]
  },
  {
   "cell_type": "markdown",
   "metadata": {},
   "source": [
    "Therefore, the character ``_`` is part of our vocabulary size along with the 20 canonical amino acids."
   ]
  },
  {
   "cell_type": "markdown",
   "metadata": {},
   "source": [
    "## Feed-Forward (FF)"
   ]
  },
  {
   "cell_type": "markdown",
   "metadata": {},
   "source": [
    "We will give it a quick try with a 2-layers Feed-Foward network regularized by a double dropout. We already had many discussions about this architecture in other notebook so we pass. \n",
    "\n",
    "Just note that the following network considers each data point as independent from the others around it. Said differently, it considers *a priori* that the probability of a given residue type at position ``i`` is unrelated to the residue type at position ``i - 1``. Which we know is not true. Amino acids have each their own distribution, but the arrangement of amino acids between each other in proteins is not random. There are more frequent combinations with respect to amino acid distributions."
   ]
  },
  {
   "cell_type": "markdown",
   "metadata": {},
   "source": [
    "### Embedding"
   ]
  },
  {
   "cell_type": "markdown",
   "metadata": {},
   "source": [
    "We proceed with one-hot encoding of sample string features and label."
   ]
  },
  {
   "cell_type": "code",
   "execution_count": 5,
   "metadata": {},
   "outputs": [],
   "source": [
    "embedding = Embedding(X_data=X_features,\n",
    "                      Y_data=Y_label,\n",
    "                      X_encode=True,\n",
    "                      Y_encode=True,\n",
    "                      batch_size=32,\n",
    "                      relative_size=(2, 1, 0))"
   ]
  },
  {
   "cell_type": "markdown",
   "metadata": {},
   "source": [
    "We have set a batch size of 32, but this setting is empirical. You may want to change it and see."
   ]
  },
  {
   "cell_type": "markdown",
   "metadata": {},
   "source": [
    "### Flatten-(Dense)n with Dropout"
   ]
  },
  {
   "cell_type": "markdown",
   "metadata": {},
   "source": [
    "Since we already discussed this architecture in other notebooks, we proceed readily."
   ]
  },
  {
   "cell_type": "code",
   "execution_count": 6,
   "metadata": {
    "tags": []
   },
   "outputs": [],
   "source": [
    "name = 'Flatten_Dropout-02_Dense-64-relu_Dropout-03_Dense-2-softmax'\n",
    "\n",
    "se_hPars['learning_rate'] = 0.001\n",
    "\n",
    "flatten = Flatten()\n",
    "\n",
    "dropout1 = Dropout(drop_prob=0.2)\n",
    "\n",
    "hidden_dense = Dense(64, relu)\n",
    "\n",
    "dropout2 = Dropout(drop_prob=0.3)\n",
    "\n",
    "dense = Dense(2, softmax)\n",
    "\n",
    "layers = [embedding, flatten, dropout1, hidden_dense, dropout2, dense]\n",
    "\n",
    "model = EpyNN(layers=layers, name=name)"
   ]
  },
  {
   "cell_type": "markdown",
   "metadata": {
    "tags": []
   },
   "source": [
    "We can go ahead and initialize the model."
   ]
  },
  {
   "cell_type": "code",
   "execution_count": 7,
   "metadata": {
    "tags": []
   },
   "outputs": [
    {
     "name": "stdout",
     "output_type": "stream",
     "text": [
      "\u001b[1m--- EpyNN Check OK! ---                                                                             \u001b[0m\r"
     ]
    }
   ],
   "source": [
    "model.initialize(loss='MSE', seed=1, se_hPars=se_hPars.copy(), end='\\r')"
   ]
  },
  {
   "cell_type": "markdown",
   "metadata": {},
   "source": [
    "Start the training."
   ]
  },
  {
   "cell_type": "code",
   "execution_count": 8,
   "metadata": {},
   "outputs": [
    {
     "name": "stdout",
     "output_type": "stream",
     "text": [
      "\u001b[1m\u001b[37mEpoch 99 - Batch 25/25 - Accuracy: 0.969 Cost: 0.05861 - TIME: 19.17s RATE: 3.06e+02e/s TTC: 0s     \u001b[0m\n",
      "\n",
      "+-------+----------+----------+----------+-------+--------+-------+------------------------------------------------------------------------+\n",
      "| \u001b[1m\u001b[37mepoch\u001b[0m |  \u001b[1m\u001b[37mlrate\u001b[0m   |  \u001b[1m\u001b[37mlrate\u001b[0m   | \u001b[1m\u001b[32maccuracy\u001b[0m |       |  \u001b[1m\u001b[31mMSE\u001b[0m   |       |                               \u001b[37mExperiment\u001b[0m                               |\n",
      "|       |  \u001b[37mDense\u001b[0m   |  \u001b[37mDense\u001b[0m   |  \u001b[1m\u001b[32mdtrain\u001b[0m  | \u001b[1m\u001b[32mdval\u001b[0m  | \u001b[1m\u001b[31mdtrain\u001b[0m | \u001b[1m\u001b[31mdval\u001b[0m  |                                                                        |\n",
      "+-------+----------+----------+----------+-------+--------+-------+------------------------------------------------------------------------+\n",
      "|   \u001b[1m\u001b[37m0\u001b[0m   | \u001b[1m\u001b[37m1.00e-03\u001b[0m | \u001b[1m\u001b[37m1.00e-03\u001b[0m |  \u001b[1m\u001b[32m0.518\u001b[0m   | \u001b[1m\u001b[32m0.431\u001b[0m | \u001b[1m\u001b[31m0.256\u001b[0m  | \u001b[1m\u001b[31m0.271\u001b[0m | \u001b[37m1631718693_Flatten_Dropout-02_Dense-64-relu_Dropout-03_Dense-2-softmax\u001b[0m |\n",
      "|  \u001b[1m\u001b[37m10\u001b[0m   | \u001b[1m\u001b[37m1.00e-03\u001b[0m | \u001b[1m\u001b[37m1.00e-03\u001b[0m |  \u001b[1m\u001b[32m0.642\u001b[0m   | \u001b[1m\u001b[32m0.625\u001b[0m | \u001b[1m\u001b[31m0.221\u001b[0m  | \u001b[1m\u001b[31m0.228\u001b[0m | \u001b[37m1631718693_Flatten_Dropout-02_Dense-64-relu_Dropout-03_Dense-2-softmax\u001b[0m |\n",
      "|  \u001b[1m\u001b[37m20\u001b[0m   | \u001b[1m\u001b[37m1.00e-03\u001b[0m | \u001b[1m\u001b[37m1.00e-03\u001b[0m |  \u001b[1m\u001b[32m0.726\u001b[0m   | \u001b[1m\u001b[32m0.665\u001b[0m | \u001b[1m\u001b[31m0.187\u001b[0m  | \u001b[1m\u001b[31m0.214\u001b[0m | \u001b[37m1631718693_Flatten_Dropout-02_Dense-64-relu_Dropout-03_Dense-2-softmax\u001b[0m |\n",
      "|  \u001b[1m\u001b[37m30\u001b[0m   | \u001b[1m\u001b[37m1.00e-03\u001b[0m | \u001b[1m\u001b[37m1.00e-03\u001b[0m |  \u001b[1m\u001b[32m0.764\u001b[0m   | \u001b[1m\u001b[32m0.696\u001b[0m | \u001b[1m\u001b[31m0.165\u001b[0m  | \u001b[1m\u001b[31m0.192\u001b[0m | \u001b[37m1631718693_Flatten_Dropout-02_Dense-64-relu_Dropout-03_Dense-2-softmax\u001b[0m |\n",
      "|  \u001b[1m\u001b[37m40\u001b[0m   | \u001b[1m\u001b[37m1.00e-03\u001b[0m | \u001b[1m\u001b[37m1.00e-03\u001b[0m |  \u001b[1m\u001b[32m0.796\u001b[0m   | \u001b[1m\u001b[32m0.740\u001b[0m | \u001b[1m\u001b[31m0.147\u001b[0m  | \u001b[1m\u001b[31m0.185\u001b[0m | \u001b[37m1631718693_Flatten_Dropout-02_Dense-64-relu_Dropout-03_Dense-2-softmax\u001b[0m |\n",
      "|  \u001b[1m\u001b[37m50\u001b[0m   | \u001b[1m\u001b[37m1.00e-03\u001b[0m | \u001b[1m\u001b[37m1.00e-03\u001b[0m |  \u001b[1m\u001b[32m0.829\u001b[0m   | \u001b[1m\u001b[32m0.747\u001b[0m | \u001b[1m\u001b[31m0.130\u001b[0m  | \u001b[1m\u001b[31m0.176\u001b[0m | \u001b[37m1631718693_Flatten_Dropout-02_Dense-64-relu_Dropout-03_Dense-2-softmax\u001b[0m |\n",
      "|  \u001b[1m\u001b[37m60\u001b[0m   | \u001b[1m\u001b[37m1.00e-03\u001b[0m | \u001b[1m\u001b[37m1.00e-03\u001b[0m |  \u001b[1m\u001b[32m0.846\u001b[0m   | \u001b[1m\u001b[32m0.733\u001b[0m | \u001b[1m\u001b[31m0.122\u001b[0m  | \u001b[1m\u001b[31m0.181\u001b[0m | \u001b[37m1631718693_Flatten_Dropout-02_Dense-64-relu_Dropout-03_Dense-2-softmax\u001b[0m |\n",
      "|  \u001b[1m\u001b[37m70\u001b[0m   | \u001b[1m\u001b[37m1.00e-03\u001b[0m | \u001b[1m\u001b[37m1.00e-03\u001b[0m |  \u001b[1m\u001b[32m0.843\u001b[0m   | \u001b[1m\u001b[32m0.700\u001b[0m | \u001b[1m\u001b[31m0.117\u001b[0m  | \u001b[1m\u001b[31m0.184\u001b[0m | \u001b[37m1631718693_Flatten_Dropout-02_Dense-64-relu_Dropout-03_Dense-2-softmax\u001b[0m |\n",
      "|  \u001b[1m\u001b[37m80\u001b[0m   | \u001b[1m\u001b[37m1.00e-03\u001b[0m | \u001b[1m\u001b[37m1.00e-03\u001b[0m |  \u001b[1m\u001b[32m0.855\u001b[0m   | \u001b[1m\u001b[32m0.731\u001b[0m | \u001b[1m\u001b[31m0.111\u001b[0m  | \u001b[1m\u001b[31m0.173\u001b[0m | \u001b[37m1631718693_Flatten_Dropout-02_Dense-64-relu_Dropout-03_Dense-2-softmax\u001b[0m |\n",
      "|  \u001b[1m\u001b[37m90\u001b[0m   | \u001b[1m\u001b[37m1.00e-03\u001b[0m | \u001b[1m\u001b[37m1.00e-03\u001b[0m |  \u001b[1m\u001b[32m0.879\u001b[0m   | \u001b[1m\u001b[32m0.742\u001b[0m | \u001b[1m\u001b[31m0.099\u001b[0m  | \u001b[1m\u001b[31m0.175\u001b[0m | \u001b[37m1631718693_Flatten_Dropout-02_Dense-64-relu_Dropout-03_Dense-2-softmax\u001b[0m |\n",
      "|  \u001b[1m\u001b[37m99\u001b[0m   | \u001b[1m\u001b[37m1.00e-03\u001b[0m | \u001b[1m\u001b[37m1.00e-03\u001b[0m |  \u001b[1m\u001b[32m0.882\u001b[0m   | \u001b[1m\u001b[32m0.721\u001b[0m | \u001b[1m\u001b[31m0.096\u001b[0m  | \u001b[1m\u001b[31m0.177\u001b[0m | \u001b[37m1631718693_Flatten_Dropout-02_Dense-64-relu_Dropout-03_Dense-2-softmax\u001b[0m |\n",
      "+-------+----------+----------+----------+-------+--------+-------+------------------------------------------------------------------------+\n"
     ]
    }
   ],
   "source": [
    "model.train(epochs=100, init_logs=False)"
   ]
  },
  {
   "cell_type": "markdown",
   "metadata": {},
   "source": [
    "We are pretty much overfitting the training data whereas we used a double dropout. "
   ]
  },
  {
   "cell_type": "code",
   "execution_count": 9,
   "metadata": {
    "tags": []
   },
   "outputs": [
    {
     "data": {
      "image/png": "[encoded data removed]",
      "text/plain": [
       "<Figure size 432x288 with 1 Axes>"
      ]
     },
     "metadata": {
      "needs_background": "light"
     },
     "output_type": "display_data"
    }
   ],
   "source": [
    "model.plot(path=False)"
   ]
  },
  {
   "cell_type": "markdown",
   "metadata": {
    "tags": []
   },
   "source": [
    "We could try to optimize by using a different loss function, adding one hidden *dense* layer or decreasing the number of nodes while increasing the learning rate etc... But we will not herein, because we want to work with recurrent architectures :).\n",
    "\n",
    "For code, maths and pictures behind the *Flatten*, *Dense* and *Dropout* layers, follow these links:\n",
    "\n",
    "* [Flatten - Adapter](https://epynn.net/Flatten.html)\n",
    "* [Fully Connected (Dense)](https://epynn.net/Dense.html)\n",
    "* [Dropout - Regularization](https://epynn.net/Dropout.html)"
   ]
  },
  {
   "cell_type": "markdown",
   "metadata": {},
   "source": [
    "## Recurrent Architectures"
   ]
  },
  {
   "cell_type": "markdown",
   "metadata": {},
   "source": [
    "Let see the big picture."
   ]
  },
  {
   "cell_type": "markdown",
   "metadata": {},
   "source": [
    "Sequence logo of *Homo sapiens* *O*-GlcNAcylated peptides consensus from [The O-GlcNAc Database Consensus](https://www.oglcnac.mcw.edu/consensus/) page.\n",
    "\n",
    "![Sequence logo Homo-sapens O-GlcNAcylated peptides](dl_seqlogo_ST_Homo.png)"
   ]
  },
  {
   "cell_type": "markdown",
   "metadata": {},
   "source": [
    "This is what is classically looked at when quickly evaluating if a sequence may or may not be modified: herein residues with positive values on the y-axis are over-represented within modified peptides while those with negative y-axis values are under-represented. This with respect to the position on the x-axis.\n",
    "\n",
    "While this plot provides information on amino acid distribution with respect to a given position, it provides zero information about amino acid distribution with respect to position in the context of the sequence.\n",
    "\n",
    "Just making a simple drawing:"
   ]
  },
  {
   "cell_type": "code",
   "execution_count": 10,
   "metadata": {},
   "outputs": [],
   "source": [
    "seqA = 'AAA'\n",
    "seqB = 'BBB'"
   ]
  },
  {
   "cell_type": "markdown",
   "metadata": {},
   "source": [
    "The consensus for those two sequences is 50/50 A/B with respect to position in sequence."
   ]
  },
  {
   "cell_type": "code",
   "execution_count": 11,
   "metadata": {},
   "outputs": [],
   "source": [
    "seqA = 'BAB'\n",
    "seqB = 'ABA'"
   ]
  },
  {
   "cell_type": "markdown",
   "metadata": {},
   "source": [
    "The consensus for those two sequences is 50/50 A/B with respect to position in sequence.\n",
    "\n",
    "Said differently: the consensus is the same, while the character patterns are totally unrelated.\n",
    "\n",
    "Conclusion: when representing sequences with metrics that exclude the sequential nature of the data, we may get quite misleading representations overall.\n",
    "\n",
    "That's where the recurrent architectures comes in: it postulates *a priori* that elements in one sequence are linked together. When processing sample features step by step - or position by position -, the output at a given position integrates results gained from the past positions. This is intrinsically - hard-written - in the code of the architecture."
   ]
  },
  {
   "cell_type": "markdown",
   "metadata": {},
   "source": [
    "### Embedding"
   ]
  },
  {
   "cell_type": "markdown",
   "metadata": {},
   "source": [
    "Here we use the same embedding settings as for the Feed-Forward network."
   ]
  },
  {
   "cell_type": "code",
   "execution_count": 12,
   "metadata": {},
   "outputs": [],
   "source": [
    "embedding = Embedding(X_data=X_features,\n",
    "                      Y_data=Y_label,\n",
    "                      X_encode=True,\n",
    "                      Y_encode=True,\n",
    "                      batch_size=32,\n",
    "                      relative_size=(2, 1, 0))"
   ]
  },
  {
   "cell_type": "markdown",
   "metadata": {},
   "source": [
    "We may continue with using *RNN* or *GRU* or *LSTM* layers. We will go ahead with LSTM first."
   ]
  },
  {
   "cell_type": "markdown",
   "metadata": {},
   "source": [
    "### LSTM-Dense"
   ]
  },
  {
   "cell_type": "markdown",
   "metadata": {},
   "source": [
    "Briefly, the advtange of using LSTM cells in one LSTM layer is that it *\"retains\"* the information for more sequence steps compared to the simple *RNN*. The drawback is that it takes significantly longer computational time compared to the simple *RNN*."
   ]
  },
  {
   "cell_type": "code",
   "execution_count": 13,
   "metadata": {
    "tags": []
   },
   "outputs": [],
   "source": [
    "name = 'LSTM-8_Dense-2-softmax'\n",
    "\n",
    "se_hPars['learning_rate'] = 0.1\n",
    "se_hPars['softmax_temperature'] = 5\n",
    "\n",
    "lstm = LSTM(8)\n",
    "\n",
    "dense = Dense(2, softmax)\n",
    "\n",
    "layers = [embedding, lstm, dense]\n",
    "\n",
    "model = EpyNN(layers=layers, name=name)"
   ]
  },
  {
   "cell_type": "markdown",
   "metadata": {
    "tags": []
   },
   "source": [
    "Here we have set a *LSTM* layer with 8 units and all defaults.\n",
    "\n",
    "The output of the LSTM layer will be fed in the *dense* output layer."
   ]
  },
  {
   "cell_type": "code",
   "execution_count": 14,
   "metadata": {
    "tags": []
   },
   "outputs": [
    {
     "name": "stdout",
     "output_type": "stream",
     "text": [
      "\u001b[1m--- EpyNN Check OK! ---                                                                             \u001b[0m\r"
     ]
    }
   ],
   "source": [
    "model.initialize(loss='MSE', seed=1, se_hPars=se_hPars.copy(), end='\\r')"
   ]
  },
  {
   "cell_type": "markdown",
   "metadata": {},
   "source": [
    "Train the model."
   ]
  },
  {
   "cell_type": "code",
   "execution_count": 15,
   "metadata": {},
   "outputs": [
    {
     "name": "stdout",
     "output_type": "stream",
     "text": [
      "\u001b[1m\u001b[37mEpoch 19 - Batch 25/25 - Accuracy: 0.969 Cost: 0.03674 - TIME: 9.54s RATE: 5.41e+01e/s TTC: 0s      \u001b[0m\n",
      "\n",
      "+-------+----------+----------+----------+-------+--------+-------+-----------------------------------+\n",
      "| \u001b[1m\u001b[37mepoch\u001b[0m |  \u001b[1m\u001b[37mlrate\u001b[0m   |  \u001b[1m\u001b[37mlrate\u001b[0m   | \u001b[1m\u001b[32maccuracy\u001b[0m |       |  \u001b[1m\u001b[31mMSE\u001b[0m   |       |            \u001b[37mExperiment\u001b[0m             |\n",
      "|       |   \u001b[37mLSTM\u001b[0m   |  \u001b[37mDense\u001b[0m   |  \u001b[1m\u001b[32mdtrain\u001b[0m  | \u001b[1m\u001b[32mdval\u001b[0m  | \u001b[1m\u001b[31mdtrain\u001b[0m | \u001b[1m\u001b[31mdval\u001b[0m  |                                   |\n",
      "+-------+----------+----------+----------+-------+--------+-------+-----------------------------------+\n",
      "|   \u001b[1m\u001b[37m0\u001b[0m   | \u001b[1m\u001b[37m1.00e-01\u001b[0m | \u001b[1m\u001b[37m1.00e-01\u001b[0m |  \u001b[1m\u001b[32m0.509\u001b[0m   | \u001b[1m\u001b[32m0.499\u001b[0m | \u001b[1m\u001b[31m0.249\u001b[0m  | \u001b[1m\u001b[31m0.253\u001b[0m | \u001b[37m1631718713_LSTM-8_Dense-2-softmax\u001b[0m |\n",
      "|   \u001b[1m\u001b[37m2\u001b[0m   | \u001b[1m\u001b[37m1.00e-01\u001b[0m | \u001b[1m\u001b[37m1.00e-01\u001b[0m |  \u001b[1m\u001b[32m0.746\u001b[0m   | \u001b[1m\u001b[32m0.721\u001b[0m | \u001b[1m\u001b[31m0.193\u001b[0m  | \u001b[1m\u001b[31m0.199\u001b[0m | \u001b[37m1631718713_LSTM-8_Dense-2-softmax\u001b[0m |\n",
      "|   \u001b[1m\u001b[37m4\u001b[0m   | \u001b[1m\u001b[37m1.00e-01\u001b[0m | \u001b[1m\u001b[37m1.00e-01\u001b[0m |  \u001b[1m\u001b[32m0.817\u001b[0m   | \u001b[1m\u001b[32m0.801\u001b[0m | \u001b[1m\u001b[31m0.132\u001b[0m  | \u001b[1m\u001b[31m0.140\u001b[0m | \u001b[37m1631718713_LSTM-8_Dense-2-softmax\u001b[0m |\n",
      "|   \u001b[1m\u001b[37m6\u001b[0m   | \u001b[1m\u001b[37m1.00e-01\u001b[0m | \u001b[1m\u001b[37m1.00e-01\u001b[0m |  \u001b[1m\u001b[32m0.811\u001b[0m   | \u001b[1m\u001b[32m0.801\u001b[0m | \u001b[1m\u001b[31m0.130\u001b[0m  | \u001b[1m\u001b[31m0.140\u001b[0m | \u001b[37m1631718713_LSTM-8_Dense-2-softmax\u001b[0m |\n",
      "|   \u001b[1m\u001b[37m8\u001b[0m   | \u001b[1m\u001b[37m1.00e-01\u001b[0m | \u001b[1m\u001b[37m1.00e-01\u001b[0m |  \u001b[1m\u001b[32m0.831\u001b[0m   | \u001b[1m\u001b[32m0.817\u001b[0m | \u001b[1m\u001b[31m0.118\u001b[0m  | \u001b[1m\u001b[31m0.130\u001b[0m | \u001b[37m1631718713_LSTM-8_Dense-2-softmax\u001b[0m |\n",
      "|  \u001b[1m\u001b[37m10\u001b[0m   | \u001b[1m\u001b[37m1.00e-01\u001b[0m | \u001b[1m\u001b[37m1.00e-01\u001b[0m |  \u001b[1m\u001b[32m0.822\u001b[0m   | \u001b[1m\u001b[32m0.806\u001b[0m | \u001b[1m\u001b[31m0.123\u001b[0m  | \u001b[1m\u001b[31m0.135\u001b[0m | \u001b[37m1631718713_LSTM-8_Dense-2-softmax\u001b[0m |\n",
      "|  \u001b[1m\u001b[37m12\u001b[0m   | \u001b[1m\u001b[37m1.00e-01\u001b[0m | \u001b[1m\u001b[37m1.00e-01\u001b[0m |  \u001b[1m\u001b[32m0.837\u001b[0m   | \u001b[1m\u001b[32m0.815\u001b[0m | \u001b[1m\u001b[31m0.113\u001b[0m  | \u001b[1m\u001b[31m0.131\u001b[0m | \u001b[37m1631718713_LSTM-8_Dense-2-softmax\u001b[0m |\n",
      "|  \u001b[1m\u001b[37m14\u001b[0m   | \u001b[1m\u001b[37m1.00e-01\u001b[0m | \u001b[1m\u001b[37m1.00e-01\u001b[0m |  \u001b[1m\u001b[32m0.850\u001b[0m   | \u001b[1m\u001b[32m0.808\u001b[0m | \u001b[1m\u001b[31m0.110\u001b[0m  | \u001b[1m\u001b[31m0.130\u001b[0m | \u001b[37m1631718713_LSTM-8_Dense-2-softmax\u001b[0m |\n",
      "|  \u001b[1m\u001b[37m16\u001b[0m   | \u001b[1m\u001b[37m1.00e-01\u001b[0m | \u001b[1m\u001b[37m1.00e-01\u001b[0m |  \u001b[1m\u001b[32m0.873\u001b[0m   | \u001b[1m\u001b[32m0.824\u001b[0m | \u001b[1m\u001b[31m0.095\u001b[0m  | \u001b[1m\u001b[31m0.126\u001b[0m | \u001b[37m1631718713_LSTM-8_Dense-2-softmax\u001b[0m |\n",
      "|  \u001b[1m\u001b[37m18\u001b[0m   | \u001b[1m\u001b[37m1.00e-01\u001b[0m | \u001b[1m\u001b[37m1.00e-01\u001b[0m |  \u001b[1m\u001b[32m0.876\u001b[0m   | \u001b[1m\u001b[32m0.806\u001b[0m | \u001b[1m\u001b[31m0.099\u001b[0m  | \u001b[1m\u001b[31m0.132\u001b[0m | \u001b[37m1631718713_LSTM-8_Dense-2-softmax\u001b[0m |\n",
      "|  \u001b[1m\u001b[37m19\u001b[0m   | \u001b[1m\u001b[37m1.00e-01\u001b[0m | \u001b[1m\u001b[37m1.00e-01\u001b[0m |  \u001b[1m\u001b[32m0.877\u001b[0m   | \u001b[1m\u001b[32m0.822\u001b[0m | \u001b[1m\u001b[31m0.094\u001b[0m  | \u001b[1m\u001b[31m0.135\u001b[0m | \u001b[37m1631718713_LSTM-8_Dense-2-softmax\u001b[0m |\n",
      "+-------+----------+----------+----------+-------+--------+-------+-----------------------------------+\n"
     ]
    }
   ],
   "source": [
    "model.train(epochs=20, init_logs=False)"
   ]
  },
  {
   "cell_type": "markdown",
   "metadata": {},
   "source": [
    "Plot results."
   ]
  },
  {
   "cell_type": "code",
   "execution_count": 16,
   "metadata": {
    "tags": []
   },
   "outputs": [
    {
     "data": {
      "image/png": "[encoded data removed]",
      "text/plain": [
       "<Figure size 432x288 with 1 Axes>"
      ]
     },
     "metadata": {
      "needs_background": "light"
     },
     "output_type": "display_data"
    }
   ],
   "source": [
    "model.plot(path=False)"
   ]
  },
  {
   "cell_type": "markdown",
   "metadata": {
    "tags": []
   },
   "source": [
    "Results here are pretty good, with ~84% accuracy for both training and validation sets (epoch 14). Let's try to add more complexity in the model."
   ]
  },
  {
   "cell_type": "markdown",
   "metadata": {
    "tags": []
   },
   "source": [
    "For code, maths and pictures behind the *LSTM* layer, follow this link:\n",
    "\n",
    "* [Long Short-Term Memory (LSTM)](https://epynn.net/LSTM.html)"
   ]
  },
  {
   "cell_type": "markdown",
   "metadata": {},
   "source": [
    "### LSTM(sequence=True)-Flatten-Dense"
   ]
  },
  {
   "cell_type": "markdown",
   "metadata": {},
   "source": [
    "By default, the LSTM layer returns the hidden state computed at the last sequence step.\n",
    "\n",
    "Consistently, gradients - what are actually used to update parameters - are computed with respect to this single last hidden step.\n",
    "\n",
    "While this last hidden state incorporates information with respect to the whole sequence, it is commonly found that returning all hidden states and computing gradients with respect to each of them provides better results than the default behavior.\n",
    "\n",
    "One drawback is that instead of returning an array of shape ``(m, 1, u)`` with ``m`` number of samples, ``1`` length of sequence and ``u`` the number of *LSTM* units within the layer, it returns an array of shape ``(m, s, u)``. Said differently, it return ``s`` times more data which makes computations slower.\n",
    "\n",
    "It also requires the use of a *flatten* layer to get a shape such as ``(m, s * u)`` to adapt for the *dense* layer. When using the defaults ``LSTM(sequences=False)`` note that the returned data have shape ``(m, u)`` and not ``(m, 1, u)`` as stated above for pedagogic purpose.  This explains why we did not need a *flatten* layer in the first LSTM example."
   ]
  },
  {
   "cell_type": "code",
   "execution_count": 17,
   "metadata": {
    "tags": []
   },
   "outputs": [],
   "source": [
    "name = 'LSTM-8-Seq_Flatten_Dense-2-softmax'\n",
    "\n",
    "se_hPars['learning_rate'] = 0.1\n",
    "se_hPars['softmax_temperature'] = 5\n",
    "\n",
    "lstm = LSTM(8, sequences=True)\n",
    "\n",
    "flatten = Flatten()\n",
    "\n",
    "dense = Dense(2, softmax)\n",
    "\n",
    "layers = [embedding, lstm, flatten, dense]\n",
    "\n",
    "model = EpyNN(layers=layers, name=name)"
   ]
  },
  {
   "cell_type": "markdown",
   "metadata": {
    "tags": []
   },
   "source": [
    "Initialize the model."
   ]
  },
  {
   "cell_type": "code",
   "execution_count": 18,
   "metadata": {
    "tags": []
   },
   "outputs": [
    {
     "name": "stdout",
     "output_type": "stream",
     "text": [
      "\u001b[1m--- EpyNN Check OK! ---                                                                             \u001b[0m\r"
     ]
    }
   ],
   "source": [
    "model.initialize(loss='MSE', seed=1, se_hPars=se_hPars.copy(), end='\\r')"
   ]
  },
  {
   "cell_type": "markdown",
   "metadata": {},
   "source": [
    "Train for 20 epochs."
   ]
  },
  {
   "cell_type": "code",
   "execution_count": 19,
   "metadata": {},
   "outputs": [
    {
     "name": "stdout",
     "output_type": "stream",
     "text": [
      "\u001b[1m\u001b[37mEpoch 19 - Batch 25/25 - Accuracy: 0.969 Cost: 0.02191 - TIME: 11.14s RATE: 4.96e+01e/s TTC: 0s     \u001b[0m\n",
      "\n",
      "+-------+----------+----------+----------+-------+--------+-------+-----------------------------------------------+\n",
      "| \u001b[1m\u001b[37mepoch\u001b[0m |  \u001b[1m\u001b[37mlrate\u001b[0m   |  \u001b[1m\u001b[37mlrate\u001b[0m   | \u001b[1m\u001b[32maccuracy\u001b[0m |       |  \u001b[1m\u001b[31mMSE\u001b[0m   |       |                  \u001b[37mExperiment\u001b[0m                   |\n",
      "|       |   \u001b[37mLSTM\u001b[0m   |  \u001b[37mDense\u001b[0m   |  \u001b[1m\u001b[32mdtrain\u001b[0m  | \u001b[1m\u001b[32mdval\u001b[0m  | \u001b[1m\u001b[31mdtrain\u001b[0m | \u001b[1m\u001b[31mdval\u001b[0m  |                                               |\n",
      "+-------+----------+----------+----------+-------+--------+-------+-----------------------------------------------+\n",
      "|   \u001b[1m\u001b[37m0\u001b[0m   | \u001b[1m\u001b[37m1.00e-01\u001b[0m | \u001b[1m\u001b[37m1.00e-01\u001b[0m |  \u001b[1m\u001b[32m0.509\u001b[0m   | \u001b[1m\u001b[32m0.499\u001b[0m | \u001b[1m\u001b[31m0.253\u001b[0m  | \u001b[1m\u001b[31m0.255\u001b[0m | \u001b[37m1631718722_LSTM-8-Seq_Flatten_Dense-2-softmax\u001b[0m |\n",
      "|   \u001b[1m\u001b[37m2\u001b[0m   | \u001b[1m\u001b[37m1.00e-01\u001b[0m | \u001b[1m\u001b[37m1.00e-01\u001b[0m |  \u001b[1m\u001b[32m0.792\u001b[0m   | \u001b[1m\u001b[32m0.789\u001b[0m | \u001b[1m\u001b[31m0.149\u001b[0m  | \u001b[1m\u001b[31m0.149\u001b[0m | \u001b[37m1631718722_LSTM-8-Seq_Flatten_Dense-2-softmax\u001b[0m |\n",
      "|   \u001b[1m\u001b[37m4\u001b[0m   | \u001b[1m\u001b[37m1.00e-01\u001b[0m | \u001b[1m\u001b[37m1.00e-01\u001b[0m |  \u001b[1m\u001b[32m0.828\u001b[0m   | \u001b[1m\u001b[32m0.813\u001b[0m | \u001b[1m\u001b[31m0.128\u001b[0m  | \u001b[1m\u001b[31m0.133\u001b[0m | \u001b[37m1631718722_LSTM-8-Seq_Flatten_Dense-2-softmax\u001b[0m |\n",
      "|   \u001b[1m\u001b[37m6\u001b[0m   | \u001b[1m\u001b[37m1.00e-01\u001b[0m | \u001b[1m\u001b[37m1.00e-01\u001b[0m |  \u001b[1m\u001b[32m0.808\u001b[0m   | \u001b[1m\u001b[32m0.787\u001b[0m | \u001b[1m\u001b[31m0.139\u001b[0m  | \u001b[1m\u001b[31m0.158\u001b[0m | \u001b[37m1631718722_LSTM-8-Seq_Flatten_Dense-2-softmax\u001b[0m |\n",
      "|   \u001b[1m\u001b[37m8\u001b[0m   | \u001b[1m\u001b[37m1.00e-01\u001b[0m | \u001b[1m\u001b[37m1.00e-01\u001b[0m |  \u001b[1m\u001b[32m0.842\u001b[0m   | \u001b[1m\u001b[32m0.803\u001b[0m | \u001b[1m\u001b[31m0.116\u001b[0m  | \u001b[1m\u001b[31m0.134\u001b[0m | \u001b[37m1631718722_LSTM-8-Seq_Flatten_Dense-2-softmax\u001b[0m |\n",
      "|  \u001b[1m\u001b[37m10\u001b[0m   | \u001b[1m\u001b[37m1.00e-01\u001b[0m | \u001b[1m\u001b[37m1.00e-01\u001b[0m |  \u001b[1m\u001b[32m0.865\u001b[0m   | \u001b[1m\u001b[32m0.820\u001b[0m | \u001b[1m\u001b[31m0.104\u001b[0m  | \u001b[1m\u001b[31m0.124\u001b[0m | \u001b[37m1631718722_LSTM-8-Seq_Flatten_Dense-2-softmax\u001b[0m |\n",
      "|  \u001b[1m\u001b[37m12\u001b[0m   | \u001b[1m\u001b[37m1.00e-01\u001b[0m | \u001b[1m\u001b[37m1.00e-01\u001b[0m |  \u001b[1m\u001b[32m0.866\u001b[0m   | \u001b[1m\u001b[32m0.806\u001b[0m | \u001b[1m\u001b[31m0.101\u001b[0m  | \u001b[1m\u001b[31m0.130\u001b[0m | \u001b[37m1631718722_LSTM-8-Seq_Flatten_Dense-2-softmax\u001b[0m |\n",
      "|  \u001b[1m\u001b[37m14\u001b[0m   | \u001b[1m\u001b[37m1.00e-01\u001b[0m | \u001b[1m\u001b[37m1.00e-01\u001b[0m |  \u001b[1m\u001b[32m0.889\u001b[0m   | \u001b[1m\u001b[32m0.810\u001b[0m | \u001b[1m\u001b[31m0.090\u001b[0m  | \u001b[1m\u001b[31m0.126\u001b[0m | \u001b[37m1631718722_LSTM-8-Seq_Flatten_Dense-2-softmax\u001b[0m |\n",
      "|  \u001b[1m\u001b[37m16\u001b[0m   | \u001b[1m\u001b[37m1.00e-01\u001b[0m | \u001b[1m\u001b[37m1.00e-01\u001b[0m |  \u001b[1m\u001b[32m0.899\u001b[0m   | \u001b[1m\u001b[32m0.820\u001b[0m | \u001b[1m\u001b[31m0.081\u001b[0m  | \u001b[1m\u001b[31m0.125\u001b[0m | \u001b[37m1631718722_LSTM-8-Seq_Flatten_Dense-2-softmax\u001b[0m |\n",
      "|  \u001b[1m\u001b[37m18\u001b[0m   | \u001b[1m\u001b[37m1.00e-01\u001b[0m | \u001b[1m\u001b[37m1.00e-01\u001b[0m |  \u001b[1m\u001b[32m0.905\u001b[0m   | \u001b[1m\u001b[32m0.813\u001b[0m | \u001b[1m\u001b[31m0.081\u001b[0m  | \u001b[1m\u001b[31m0.130\u001b[0m | \u001b[37m1631718722_LSTM-8-Seq_Flatten_Dense-2-softmax\u001b[0m |\n",
      "|  \u001b[1m\u001b[37m19\u001b[0m   | \u001b[1m\u001b[37m1.00e-01\u001b[0m | \u001b[1m\u001b[37m1.00e-01\u001b[0m |  \u001b[1m\u001b[32m0.920\u001b[0m   | \u001b[1m\u001b[32m0.820\u001b[0m | \u001b[1m\u001b[31m0.069\u001b[0m  | \u001b[1m\u001b[31m0.124\u001b[0m | \u001b[37m1631718722_LSTM-8-Seq_Flatten_Dense-2-softmax\u001b[0m |\n",
      "+-------+----------+----------+----------+-------+--------+-------+-----------------------------------------------+\n"
     ]
    }
   ],
   "source": [
    "model.train(epochs=20, init_logs=False)"
   ]
  },
  {
   "cell_type": "markdown",
   "metadata": {},
   "source": [
    "Plot the results which look very good by a quick inspection on the table."
   ]
  },
  {
   "cell_type": "code",
   "execution_count": 20,
   "metadata": {
    "tags": []
   },
   "outputs": [
    {
     "data": {
      "image/png": "[encoded data removed]",
      "text/plain": [
       "<Figure size 432x288 with 1 Axes>"
      ]
     },
     "metadata": {
      "needs_background": "light"
     },
     "output_type": "display_data"
    }
   ],
   "source": [
    "model.plot(path=False)"
   ]
  },
  {
   "cell_type": "markdown",
   "metadata": {},
   "source": [
    "Overall, we increased accuracy on the training set but decreased accuracy on the validation set. Adding more complexity in the model did result in overfitting.\n",
    "\n",
    "For code, maths and pictures behind the *LSTM* layer, follow this link:\n",
    "\n",
    "* [Long Short-Term Memory (LSTM)](https://epynn.net/LSTM.html)"
   ]
  },
  {
   "cell_type": "markdown",
   "metadata": {},
   "source": [
    "### LSTM(sequence=True)-Flatten-(Dense)n with Dropout"
   ]
  },
  {
   "cell_type": "markdown",
   "metadata": {},
   "source": [
    "Adding one hidden *dense* layer will inevitably result in overfitting. So we set a double dropout each with a probability of 0.5 to pass values forward."
   ]
  },
  {
   "cell_type": "code",
   "execution_count": 21,
   "metadata": {},
   "outputs": [
    {
     "name": "stdout",
     "output_type": "stream",
     "text": [
      "\u001b[1m\u001b[37mEpoch 19 - Batch 25/25 - Accuracy: 0.969 Cost: 0.0456 - TIME: 18.08s RATE: 3.06e+01e/s TTC: 0s      \u001b[0m\n",
      "\n",
      "+-------+----------+----------+----------+----------+-------+--------+-------+-----------------------------------------------------------------------------------+\n",
      "| \u001b[1m\u001b[37mepoch\u001b[0m |  \u001b[1m\u001b[37mlrate\u001b[0m   |  \u001b[1m\u001b[37mlrate\u001b[0m   |  \u001b[1m\u001b[37mlrate\u001b[0m   | \u001b[1m\u001b[32maccuracy\u001b[0m |       |  \u001b[1m\u001b[31mMSE\u001b[0m   |       |                                    \u001b[37mExperiment\u001b[0m                                     |\n",
      "|       |   \u001b[37mLSTM\u001b[0m   |  \u001b[37mDense\u001b[0m   |  \u001b[37mDense\u001b[0m   |  \u001b[1m\u001b[32mdtrain\u001b[0m  | \u001b[1m\u001b[32mdval\u001b[0m  | \u001b[1m\u001b[31mdtrain\u001b[0m | \u001b[1m\u001b[31mdval\u001b[0m  |                                                                                   |\n",
      "+-------+----------+----------+----------+----------+-------+--------+-------+-----------------------------------------------------------------------------------+\n",
      "|   \u001b[1m\u001b[37m0\u001b[0m   | \u001b[1m\u001b[37m1.00e-01\u001b[0m | \u001b[1m\u001b[37m1.00e-01\u001b[0m | \u001b[1m\u001b[37m1.00e-01\u001b[0m |  \u001b[1m\u001b[32m0.509\u001b[0m   | \u001b[1m\u001b[32m0.499\u001b[0m | \u001b[1m\u001b[31m0.248\u001b[0m  | \u001b[1m\u001b[31m0.250\u001b[0m | \u001b[37m1631718733_LSTM-8-Seq_Flatten_Dropout-05_Dense-64-relu_Dropout-05_Dense-2-softmax\u001b[0m |\n",
      "|   \u001b[1m\u001b[37m2\u001b[0m   | \u001b[1m\u001b[37m1.00e-01\u001b[0m | \u001b[1m\u001b[37m1.00e-01\u001b[0m | \u001b[1m\u001b[37m1.00e-01\u001b[0m |  \u001b[1m\u001b[32m0.739\u001b[0m   | \u001b[1m\u001b[32m0.714\u001b[0m | \u001b[1m\u001b[31m0.210\u001b[0m  | \u001b[1m\u001b[31m0.215\u001b[0m | \u001b[37m1631718733_LSTM-8-Seq_Flatten_Dropout-05_Dense-64-relu_Dropout-05_Dense-2-softmax\u001b[0m |\n",
      "|   \u001b[1m\u001b[37m4\u001b[0m   | \u001b[1m\u001b[37m1.00e-01\u001b[0m | \u001b[1m\u001b[37m1.00e-01\u001b[0m | \u001b[1m\u001b[37m1.00e-01\u001b[0m |  \u001b[1m\u001b[32m0.773\u001b[0m   | \u001b[1m\u001b[32m0.756\u001b[0m | \u001b[1m\u001b[31m0.146\u001b[0m  | \u001b[1m\u001b[31m0.159\u001b[0m | \u001b[37m1631718733_LSTM-8-Seq_Flatten_Dropout-05_Dense-64-relu_Dropout-05_Dense-2-softmax\u001b[0m |\n",
      "|   \u001b[1m\u001b[37m6\u001b[0m   | \u001b[1m\u001b[37m1.00e-01\u001b[0m | \u001b[1m\u001b[37m1.00e-01\u001b[0m | \u001b[1m\u001b[37m1.00e-01\u001b[0m |  \u001b[1m\u001b[32m0.768\u001b[0m   | \u001b[1m\u001b[32m0.733\u001b[0m | \u001b[1m\u001b[31m0.165\u001b[0m  | \u001b[1m\u001b[31m0.187\u001b[0m | \u001b[37m1631718733_LSTM-8-Seq_Flatten_Dropout-05_Dense-64-relu_Dropout-05_Dense-2-softmax\u001b[0m |\n",
      "|   \u001b[1m\u001b[37m8\u001b[0m   | \u001b[1m\u001b[37m1.00e-01\u001b[0m | \u001b[1m\u001b[37m1.00e-01\u001b[0m | \u001b[1m\u001b[37m1.00e-01\u001b[0m |  \u001b[1m\u001b[32m0.810\u001b[0m   | \u001b[1m\u001b[32m0.801\u001b[0m | \u001b[1m\u001b[31m0.127\u001b[0m  | \u001b[1m\u001b[31m0.138\u001b[0m | \u001b[37m1631718733_LSTM-8-Seq_Flatten_Dropout-05_Dense-64-relu_Dropout-05_Dense-2-softmax\u001b[0m |\n",
      "|  \u001b[1m\u001b[37m10\u001b[0m   | \u001b[1m\u001b[37m1.00e-01\u001b[0m | \u001b[1m\u001b[37m1.00e-01\u001b[0m | \u001b[1m\u001b[37m1.00e-01\u001b[0m |  \u001b[1m\u001b[32m0.848\u001b[0m   | \u001b[1m\u001b[32m0.810\u001b[0m | \u001b[1m\u001b[31m0.110\u001b[0m  | \u001b[1m\u001b[31m0.135\u001b[0m | \u001b[37m1631718733_LSTM-8-Seq_Flatten_Dropout-05_Dense-64-relu_Dropout-05_Dense-2-softmax\u001b[0m |\n",
      "|  \u001b[1m\u001b[37m12\u001b[0m   | \u001b[1m\u001b[37m1.00e-01\u001b[0m | \u001b[1m\u001b[37m1.00e-01\u001b[0m | \u001b[1m\u001b[37m1.00e-01\u001b[0m |  \u001b[1m\u001b[32m0.823\u001b[0m   | \u001b[1m\u001b[32m0.801\u001b[0m | \u001b[1m\u001b[31m0.118\u001b[0m  | \u001b[1m\u001b[31m0.141\u001b[0m | \u001b[37m1631718733_LSTM-8-Seq_Flatten_Dropout-05_Dense-64-relu_Dropout-05_Dense-2-softmax\u001b[0m |\n",
      "|  \u001b[1m\u001b[37m14\u001b[0m   | \u001b[1m\u001b[37m1.00e-01\u001b[0m | \u001b[1m\u001b[37m1.00e-01\u001b[0m | \u001b[1m\u001b[37m1.00e-01\u001b[0m |  \u001b[1m\u001b[32m0.855\u001b[0m   | \u001b[1m\u001b[32m0.801\u001b[0m | \u001b[1m\u001b[31m0.108\u001b[0m  | \u001b[1m\u001b[31m0.138\u001b[0m | \u001b[37m1631718733_LSTM-8-Seq_Flatten_Dropout-05_Dense-64-relu_Dropout-05_Dense-2-softmax\u001b[0m |\n",
      "|  \u001b[1m\u001b[37m16\u001b[0m   | \u001b[1m\u001b[37m1.00e-01\u001b[0m | \u001b[1m\u001b[37m1.00e-01\u001b[0m | \u001b[1m\u001b[37m1.00e-01\u001b[0m |  \u001b[1m\u001b[32m0.842\u001b[0m   | \u001b[1m\u001b[32m0.787\u001b[0m | \u001b[1m\u001b[31m0.108\u001b[0m  | \u001b[1m\u001b[31m0.157\u001b[0m | \u001b[37m1631718733_LSTM-8-Seq_Flatten_Dropout-05_Dense-64-relu_Dropout-05_Dense-2-softmax\u001b[0m |\n",
      "|  \u001b[1m\u001b[37m18\u001b[0m   | \u001b[1m\u001b[37m1.00e-01\u001b[0m | \u001b[1m\u001b[37m1.00e-01\u001b[0m | \u001b[1m\u001b[37m1.00e-01\u001b[0m |  \u001b[1m\u001b[32m0.862\u001b[0m   | \u001b[1m\u001b[32m0.815\u001b[0m | \u001b[1m\u001b[31m0.097\u001b[0m  | \u001b[1m\u001b[31m0.148\u001b[0m | \u001b[37m1631718733_LSTM-8-Seq_Flatten_Dropout-05_Dense-64-relu_Dropout-05_Dense-2-softmax\u001b[0m |\n",
      "|  \u001b[1m\u001b[37m19\u001b[0m   | \u001b[1m\u001b[37m1.00e-01\u001b[0m | \u001b[1m\u001b[37m1.00e-01\u001b[0m | \u001b[1m\u001b[37m1.00e-01\u001b[0m |  \u001b[1m\u001b[32m0.868\u001b[0m   | \u001b[1m\u001b[32m0.806\u001b[0m | \u001b[1m\u001b[31m0.091\u001b[0m  | \u001b[1m\u001b[31m0.139\u001b[0m | \u001b[37m1631718733_LSTM-8-Seq_Flatten_Dropout-05_Dense-64-relu_Dropout-05_Dense-2-softmax\u001b[0m |\n",
      "+-------+----------+----------+----------+----------+-------+--------+-------+-----------------------------------------------------------------------------------+\n"
     ]
    }
   ],
   "source": [
    "name = 'LSTM-8-Seq_Flatten_Dropout-05_Dense-64-relu_Dropout-05_Dense-2-softmax'\n",
    "\n",
    "se_hPars['learning_rate'] = 0.1\n",
    "se_hPars['softmax_temperature'] = 5\n",
    "\n",
    "layers = [\n",
    "    embedding,\n",
    "    LSTM(8, sequences=True),\n",
    "    Flatten(),\n",
    "    Dropout(drop_prob=0.5),\n",
    "    Dense(64, relu),\n",
    "    Dropout(drop_prob=0.5),\n",
    "    Dense(2, softmax),\n",
    "]\n",
    "\n",
    "model = EpyNN(layers=layers, name=name)\n",
    "\n",
    "model.initialize(loss='MSE', seed=1, se_hPars=se_hPars.copy(), end='\\r')\n",
    "\n",
    "model.train(epochs=20, init_logs=False)"
   ]
  },
  {
   "cell_type": "markdown",
   "metadata": {},
   "source": [
    "Although we have a pretty harsh dropout setup, we still observe overfitting and the accuracy on the testing set turned out to be lower than without the hidden *dense* layer. This is to illustrate that even though the largest network is *theoretically* capable of the best regression, this comes with more difficulties in training. \n",
    "\n",
    "There is always the question of balancing between the metrics you get and how much they could be improved with respect to the human/computational time it may require.\n",
    "\n",
    "For code, maths and pictures behind the *LSTM* layer, follow this link:\n",
    "\n",
    "* [Long Short-Term Memory (LSTM)](https://epynn.net/LSTM.html)"
   ]
  },
  {
   "cell_type": "markdown",
   "metadata": {},
   "source": [
    "## Write, read & Predict"
   ]
  },
  {
   "cell_type": "markdown",
   "metadata": {},
   "source": [
    "A trained model can be written on disk such as:"
   ]
  },
  {
   "cell_type": "code",
   "execution_count": 22,
   "metadata": {},
   "outputs": [
    {
     "name": "stdout",
     "output_type": "stream",
     "text": [
      "\u001b[1m\u001b[32mMake: /media/synthase/beta/EpyNN/nnlive/ptm_protein/models/1631718733_LSTM-8-Seq_Flatten_Dropout-05_Dense-64-relu_Dropout-05_Dense-2-softmax.pickle\u001b[0m\n"
     ]
    }
   ],
   "source": [
    "model.write()\n",
    "\n",
    "# model.write(path=/your/custom/path)"
   ]
  },
  {
   "cell_type": "markdown",
   "metadata": {},
   "source": [
    "A model can be read from disk such as:"
   ]
  },
  {
   "cell_type": "code",
   "execution_count": 23,
   "metadata": {},
   "outputs": [],
   "source": [
    "model = read_model()\n",
    "\n",
    "# model = read_model(path=/your/custom/path)"
   ]
  },
  {
   "cell_type": "markdown",
   "metadata": {},
   "source": [
    "We can retrieve new features and predict on them."
   ]
  },
  {
   "cell_type": "code",
   "execution_count": 24,
   "metadata": {},
   "outputs": [],
   "source": [
    "X_features, _ = prepare_dataset(N_SAMPLES=10)\n",
    "\n",
    "dset = model.predict(X_features, X_encode=True)"
   ]
  },
  {
   "cell_type": "markdown",
   "metadata": {},
   "source": [
    "Results can be extracted such as:"
   ]
  },
  {
   "cell_type": "code",
   "execution_count": 25,
   "metadata": {},
   "outputs": [
    {
     "name": "stdout",
     "output_type": "stream",
     "text": [
      "0 0 [0.84055882 0.15944118]\n",
      "1 1 [4.71483917e-04 9.99528516e-01]\n",
      "2 0 [0.99409811 0.00590189]\n",
      "3 0 [0.91336871 0.08663129]\n",
      "4 0 [0.83018333 0.16981667]\n",
      "5 0 [9.99969517e-01 3.04828443e-05]\n",
      "6 0 [0.72555977 0.27444023]\n",
      "7 1 [3.38946664e-13 1.00000000e+00]\n",
      "8 0 [0.68813584 0.31186416]\n",
      "9 0 [0.90026552 0.09973448]\n"
     ]
    }
   ],
   "source": [
    "for n, pred, probs in zip(dset.ids, dset.P, dset.A):\n",
    "    print(n, pred, probs)"
   ]
  }
 ],
 "metadata": {
  "kernelspec": {
   "display_name": "Python 3",
   "language": "python",
   "name": "python3"
  },
  "language_info": {
   "codemirror_mode": {
    "name": "ipython",
    "version": 3
   },
   "file_extension": ".py",
   "mimetype": "text/x-python",
   "name": "python",
   "nbconvert_exporter": "python",
   "pygments_lexer": "ipython3",
   "version": "3.7.3"
  }
 },
 "nbformat": 4,
 "nbformat_minor": 4
}
