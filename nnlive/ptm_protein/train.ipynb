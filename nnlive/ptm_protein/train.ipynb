{
 "cells": [
  {
   "cell_type": "markdown",
   "metadata": {},
   "source": [
    "# O-GlcNAc Prediction"
   ]
  },
  {
   "cell_type": "markdown",
   "metadata": {},
   "source": [
    "* Find this notebook at `EpyNN/nnlive/ptm_protein/train.ipynb`.\n",
    "* Regular python code at `EpyNN/nnlive/ptm_protein/train.py`."
   ]
  },
  {
   "cell_type": "markdown",
   "metadata": {},
   "source": [
    "In this notebook we will review:\n",
    "\n",
    "* Handling sequential string data which represents peptides sequences.\n",
    "* Training of Feed-Forward (FF) and recurrent networks (LSTM).\n",
    "* LSTM-based schemes with ``sequences=True``, multiple dense layers and dropout."
   ]
  },
  {
   "cell_type": "markdown",
   "metadata": {},
   "source": [
    "Please see the following if you get lost:\n",
    "\n",
    "* [Fully Connected (Dense)](../../Dense.html)\n",
    "* [Long Short-Term Memory (LSTM)](../../LSTM.html)\n",
    "* [Dropout - Regularization](../../Dropout.html)"
   ]
  },
  {
   "cell_type": "markdown",
   "metadata": {},
   "source": [
    "## Environment and data"
   ]
  },
  {
   "cell_type": "markdown",
   "metadata": {},
   "source": [
    "Follow [this link](prepare_dataset.ipynb) for details about data preparation."
   ]
  },
  {
   "cell_type": "markdown",
   "metadata": {},
   "source": [
    "Briefly, one set of sample features contains 21 amino-acids long peptides.\n",
    "\n",
    "Positive peptides are *Homo sapiens* peptides retrieved from [The O-GlcNAc Database](https://www.oglcnac.mcw.edu). These peptides were all experimentally demonstrated to undergo *O*-GlcNAcylation which is an ubiquitary protein Post-Translational Modification (PTM).\n",
    "\n",
    "Negative peptides are *presumably not* modified peptides. These sequences are part of a running project so we will not say much about them excepted that they are not present in the *O*-GlcNAc Database.\n",
    "\n",
    "Disclaimer: We are the authors of both EpyNN and the *O*-GlcNAc Database \\[[1](https://www.nature.com/articles/s41597-021-00810-4), [2](https://academic.oup.com/database/article/doi/10.1093/database/baab039/6323965)\\]."
   ]
  },
  {
   "cell_type": "code",
   "execution_count": 1,
   "metadata": {},
   "outputs": [],
   "source": [
    "# EpyNN/nnlive/ptm_protein/train.ipynb\n",
    "# Standard library imports\n",
    "import random\n",
    "\n",
    "# Related third party imports\n",
    "import numpy as np\n",
    "\n",
    "# Local application/library specific imports\n",
    "import nnlibs.initialize\n",
    "from nnlibs.commons.library import (\n",
    "    configure_directory,\n",
    "    read_model,\n",
    ")\n",
    "from nnlibs.commons.maths import relu, softmax\n",
    "from nnlibs.network.models import EpyNN\n",
    "from nnlibs.embedding.models import Embedding\n",
    "from nnlibs.lstm.models import LSTM\n",
    "from nnlibs.flatten.models import Flatten\n",
    "from nnlibs.dropout.models import Dropout\n",
    "from nnlibs.dense.models import Dense\n",
    "from prepare_dataset import (\n",
    "    prepare_dataset,\n",
    "    download_sequences,\n",
    ")\n",
    "from settings import se_hPars\n",
    "\n",
    "\n",
    "########################## CONFIGURE ##########################\n",
    "random.seed(1)\n",
    "\n",
    "np.set_printoptions(threshold=10)\n",
    "\n",
    "np.seterr(all='warn')\n",
    "np.seterr(under='ignore')\n",
    "\n",
    "configure_directory()\n",
    "\n",
    "############################ DATASET ##########################\n",
    "download_sequences()\n",
    "\n",
    "X_features, Y_label = prepare_dataset(N_SAMPLES=1280)"
   ]
  },
  {
   "cell_type": "markdown",
   "metadata": {},
   "source": [
    "Let's inspect our data."
   ]
  },
  {
   "cell_type": "code",
   "execution_count": 2,
   "metadata": {},
   "outputs": [
    {
     "name": "stdout",
     "output_type": "stream",
     "text": [
      "1280\n",
      "21\n",
      "['T', 'A', 'A', 'M', 'R', 'N', 'T', 'K', 'R', 'G', 'S', 'W', 'Y', 'I', 'E', 'A', 'L', 'A', 'Q', 'V', 'F']\n",
      "0\n"
     ]
    }
   ],
   "source": [
    "print(len(X_features))     # Number of sequences (samples)\n",
    "print(len(X_features[0]))  # Length of sequence (features)\n",
    "print(X_features[0])       # First sequence\n",
    "print(Y_label[0])          # Associated label"
   ]
  },
  {
   "cell_type": "markdown",
   "metadata": {},
   "source": [
    "Note that this sequence has zero-label, meaning that it is presumably not modified.\n",
    "\n",
    "However."
   ]
  },
  {
   "cell_type": "code",
   "execution_count": 3,
   "metadata": {},
   "outputs": [
    {
     "name": "stdout",
     "output_type": "stream",
     "text": [
      "['T', 'A', 'A', 'M', 'R', 'N', 'T', 'K', 'R', 'G'] S ['W', 'Y', 'I', 'E', 'A', 'L', 'A', 'Q', 'V', 'F']\n"
     ]
    }
   ],
   "source": [
    "print(X_features[0][:10], X_features[0][10], X_features[0][11:])"
   ]
  },
  {
   "cell_type": "markdown",
   "metadata": {},
   "source": [
    "Note the 11th amino-acids is a serine (S), although this sequence is presumably not modified.\n",
    "\n",
    "Time to recall that *O*-GlcNAcylation does impact a subset of serine and threonine within the whole set of such amino-acids in proteins.\n",
    "\n",
    "All sequences in this exemple were centered: 10 amino-acids on the left side; the S or T amino-acid; ten other amino-acids on the right side.\n",
    "\n",
    "Negative sequences all contain a S or a T at the 11th position, as the positive sequences do. This to avoid biasing the problem: it is of interest to know which sequence containing S or T may be modified. But it has no interest to train a network at finding out that sequences with no S or T will not be modified. That's trivial.\n",
    "\n",
    "About N- and C- terminal moities of proteins which are prone to PTMs: on those we can not follow the format \\[10 amino-acids\\] \\[S or T\\] \\[10 amino-acids\\] just because if S/T is at position 6, there is only 5 amino-acids on the left side.\n",
    "\n",
    "Below is a list of options in this case:\n",
    "\n",
    "* **Exclude those peptides**: Well, this is the *technically* best option but in terms of biological relevance that is the worse: because protein extremities are most often unstructured and/or solvent-exposed, they are over-represented to undergo modifications. So we must include them otherwise our dataset will not be representative of the problem.\n",
    "* **Go with \\[5 amino-acids\\] \\[S or T\\] \\[10 amino-acids\\]**: While this can be done using recurrent architectures which accepts input sequences of variable length, it can not be done with pure Feed-Forward networks. Recurrent architectures process the sequence steps one by one and the weights are defined with respect to the number of recurrent cells and vocabulary size, not the length of the sequence. But Feed-Forward network and precisely the *dense* layer has one dimension less compared to the *RNN* layer. Weight shape is defined with respect to the number of nodes and features. Therefore, if the latter changes, the maths can not operate as it is.\n",
    "* **Pad the sequence such as \\[0, 0, 0, 0, 0\\] \\[5 amino-acids\\] \\[S or T\\] \\[10 amino-acids\\]**: This enables to include such peptides in our dataset regardless if we intend to use Feed-Forward or recurrent architectures. Moreover, it preserves the centering around the 11th position and explicitely states that *\"the number of padding characters is proportional to the closeness of the S/T from the protein first (left side) or last (right side) amino-acid\"*\n",
    "\n",
    "We have choosen the last option, padding, and used the character ``_`` instead of zero to avoid confusion between data types."
   ]
  },
  {
   "cell_type": "code",
   "execution_count": 4,
   "metadata": {},
   "outputs": [
    {
     "name": "stdout",
     "output_type": "stream",
     "text": [
      "GTEGKSRGSSSSSRCL_____\n",
      "SASGAASTTTTASKAQ_____\n",
      "CSIPSIKPPSTAN________\n",
      "VGNFTGAKQASSQSWVPG___\n",
      "PNQSFPHSVKTTTHSWVSG__\n",
      "_______MIATPLKHSRIYLP\n",
      "________MKTPNAQEAEGQQ\n",
      "________MPSDLAKKKAAKK\n",
      "______MDPNTIIEALRGTMD\n",
      "___MAAAAELSLLEKSLGLSK\n"
     ]
    }
   ],
   "source": [
    "print('\\n'.join([''.join(features) for features in X_features if '_' in features][0:10]))"
   ]
  },
  {
   "cell_type": "markdown",
   "metadata": {},
   "source": [
    "Therefore, the character ``_`` is part of our vocabulary size along with the 20 canonical amino-acids."
   ]
  },
  {
   "cell_type": "markdown",
   "metadata": {},
   "source": [
    "## Feed-Forward (FF)"
   ]
  },
  {
   "cell_type": "markdown",
   "metadata": {},
   "source": [
    "We will give it a quick try with a 2-layers Feed-Foward network regularized by a double dropout. We already had much discussions about this architecture in other notebook so we pass. \n",
    "\n",
    "Just note that the following network consider each data point as independant from others around. Said differently, it considers *a priori* that the probability of a given residue type at position ``i`` is unrelated to the residue type at position ``i - 1``. Which we know is not true. Amino-acids have each their own distribution, but the arrangement of amino-acids between each others in proteins is not random, there are more frequent combinations with respect to amino-acids distributions."
   ]
  },
  {
   "cell_type": "markdown",
   "metadata": {},
   "source": [
    "### Embedding"
   ]
  },
  {
   "cell_type": "markdown",
   "metadata": {},
   "source": [
    "We proceed with one-hot encoding of sample string features and label."
   ]
  },
  {
   "cell_type": "code",
   "execution_count": 5,
   "metadata": {},
   "outputs": [],
   "source": [
    "embedding = Embedding(X_data=X_features,\n",
    "                      Y_data=Y_label,\n",
    "                      X_encode=True,\n",
    "                      Y_encode=True,\n",
    "                      batch_size=32,\n",
    "                      relative_size=(2, 1, 0))"
   ]
  },
  {
   "cell_type": "markdown",
   "metadata": {},
   "source": [
    "We have set a batch size of 32, this setting is empirical. You may want to change it and see."
   ]
  },
  {
   "cell_type": "markdown",
   "metadata": {},
   "source": [
    "### Flatten-(Dense)n with Dropout"
   ]
  },
  {
   "cell_type": "markdown",
   "metadata": {},
   "source": [
    "Since we already discussed this architecture (e.g. ), we proceed readily."
   ]
  },
  {
   "cell_type": "code",
   "execution_count": 6,
   "metadata": {
    "tags": []
   },
   "outputs": [],
   "source": [
    "name = 'Flatten_Dropout-02_Dense-64-relu_Dropout-03_Dense-2-softmax'\n",
    "\n",
    "se_hPars['learning_rate'] = 0.001\n",
    "\n",
    "flatten = Flatten()\n",
    "\n",
    "dropout1 = Dropout(drop_prob=0.2)\n",
    "\n",
    "hidden_dense = Dense(64, relu)\n",
    "\n",
    "dropout2 = Dropout(drop_prob=0.3)\n",
    "\n",
    "dense = Dense(2, softmax)\n",
    "\n",
    "layers = [embedding, flatten, dropout1, hidden_dense, dropout2, dense]\n",
    "\n",
    "model = EpyNN(layers=layers, name=name)"
   ]
  },
  {
   "cell_type": "markdown",
   "metadata": {
    "tags": []
   },
   "source": [
    "We can go ahead and initialize the model."
   ]
  },
  {
   "cell_type": "code",
   "execution_count": 7,
   "metadata": {
    "tags": []
   },
   "outputs": [
    {
     "name": "stdout",
     "output_type": "stream",
     "text": [
      "\u001b[1m--- EpyNN Check OK! --- \u001b[0mdding\u001b[0m0m0m\r"
     ]
    }
   ],
   "source": [
    "model.initialize(loss='MSE', seed=1, se_hPars=se_hPars.copy(), end='\\r')"
   ]
  },
  {
   "cell_type": "markdown",
   "metadata": {},
   "source": [
    "Start the training."
   ]
  },
  {
   "cell_type": "code",
   "execution_count": 8,
   "metadata": {},
   "outputs": [
    {
     "name": "stdout",
     "output_type": "stream",
     "text": [
      "\u001b[1m\u001b[37mEpoch 99 - Batch 25/25 - Accuracy: 0.906 Cost: 0.08465 - TIME: 55.9s RATE: 5.31e+03e/s TTC: 0s\u001b[0mm\n",
      "\n",
      "+-------+----------+----------+-------+----------+-------+-------+------------------------------------------------------------------------+\n",
      "| \u001b[1m\u001b[37mepoch\u001b[0m |  \u001b[1m\u001b[37mlrate\u001b[0m   |  \u001b[1m\u001b[37mlrate\u001b[0m   |       | \u001b[1m\u001b[32maccuracy\u001b[0m |       |  \u001b[1m\u001b[31mMSE\u001b[0m  |                               \u001b[37mExperiment\u001b[0m                               |\n",
      "|       |  \u001b[37mDense\u001b[0m   |  \u001b[37mDense\u001b[0m   |  \u001b[1m\u001b[32m(0)\u001b[0m  |   \u001b[1m\u001b[32m(1)\u001b[0m    |  \u001b[1m\u001b[31m(0)\u001b[0m  |  \u001b[1m\u001b[31m(1)\u001b[0m  |                                                                        |\n",
      "+-------+----------+----------+-------+----------+-------+-------+------------------------------------------------------------------------+\n",
      "|   \u001b[1m\u001b[37m0\u001b[0m   | \u001b[1m\u001b[37m1.00e-03\u001b[0m | \u001b[1m\u001b[37m1.00e-03\u001b[0m | \u001b[1m\u001b[32m0.515\u001b[0m |  \u001b[1m\u001b[32m0.431\u001b[0m   | \u001b[1m\u001b[31m0.256\u001b[0m | \u001b[1m\u001b[31m0.271\u001b[0m | \u001b[37m1630852037_Flatten_Dropout-02_Dense-64-relu_Dropout-03_Dense-2-softmax\u001b[0m |\n",
      "|  \u001b[1m\u001b[37m10\u001b[0m   | \u001b[1m\u001b[37m1.00e-03\u001b[0m | \u001b[1m\u001b[37m1.00e-03\u001b[0m | \u001b[1m\u001b[32m0.655\u001b[0m |  \u001b[1m\u001b[32m0.621\u001b[0m   | \u001b[1m\u001b[31m0.221\u001b[0m | \u001b[1m\u001b[31m0.227\u001b[0m | \u001b[37m1630852037_Flatten_Dropout-02_Dense-64-relu_Dropout-03_Dense-2-softmax\u001b[0m |\n",
      "|  \u001b[1m\u001b[37m20\u001b[0m   | \u001b[1m\u001b[37m1.00e-03\u001b[0m | \u001b[1m\u001b[37m1.00e-03\u001b[0m | \u001b[1m\u001b[32m0.740\u001b[0m |  \u001b[1m\u001b[32m0.651\u001b[0m   | \u001b[1m\u001b[31m0.187\u001b[0m | \u001b[1m\u001b[31m0.215\u001b[0m | \u001b[37m1630852037_Flatten_Dropout-02_Dense-64-relu_Dropout-03_Dense-2-softmax\u001b[0m |\n",
      "|  \u001b[1m\u001b[37m30\u001b[0m   | \u001b[1m\u001b[37m1.00e-03\u001b[0m | \u001b[1m\u001b[37m1.00e-03\u001b[0m | \u001b[1m\u001b[32m0.775\u001b[0m |  \u001b[1m\u001b[32m0.693\u001b[0m   | \u001b[1m\u001b[31m0.165\u001b[0m | \u001b[1m\u001b[31m0.193\u001b[0m | \u001b[37m1630852037_Flatten_Dropout-02_Dense-64-relu_Dropout-03_Dense-2-softmax\u001b[0m |\n",
      "|  \u001b[1m\u001b[37m40\u001b[0m   | \u001b[1m\u001b[37m1.00e-03\u001b[0m | \u001b[1m\u001b[37m1.00e-03\u001b[0m | \u001b[1m\u001b[32m0.796\u001b[0m |  \u001b[1m\u001b[32m0.724\u001b[0m   | \u001b[1m\u001b[31m0.147\u001b[0m | \u001b[1m\u001b[31m0.185\u001b[0m | \u001b[37m1630852037_Flatten_Dropout-02_Dense-64-relu_Dropout-03_Dense-2-softmax\u001b[0m |\n",
      "|  \u001b[1m\u001b[37m50\u001b[0m   | \u001b[1m\u001b[37m1.00e-03\u001b[0m | \u001b[1m\u001b[37m1.00e-03\u001b[0m | \u001b[1m\u001b[32m0.829\u001b[0m |  \u001b[1m\u001b[32m0.749\u001b[0m   | \u001b[1m\u001b[31m0.130\u001b[0m | \u001b[1m\u001b[31m0.178\u001b[0m | \u001b[37m1630852037_Flatten_Dropout-02_Dense-64-relu_Dropout-03_Dense-2-softmax\u001b[0m |\n",
      "|  \u001b[1m\u001b[37m60\u001b[0m   | \u001b[1m\u001b[37m1.00e-03\u001b[0m | \u001b[1m\u001b[37m1.00e-03\u001b[0m | \u001b[1m\u001b[32m0.848\u001b[0m |  \u001b[1m\u001b[32m0.724\u001b[0m   | \u001b[1m\u001b[31m0.122\u001b[0m | \u001b[1m\u001b[31m0.181\u001b[0m | \u001b[37m1630852037_Flatten_Dropout-02_Dense-64-relu_Dropout-03_Dense-2-softmax\u001b[0m |\n",
      "|  \u001b[1m\u001b[37m70\u001b[0m   | \u001b[1m\u001b[37m1.00e-03\u001b[0m | \u001b[1m\u001b[37m1.00e-03\u001b[0m | \u001b[1m\u001b[32m0.849\u001b[0m |  \u001b[1m\u001b[32m0.717\u001b[0m   | \u001b[1m\u001b[31m0.116\u001b[0m | \u001b[1m\u001b[31m0.183\u001b[0m | \u001b[37m1630852037_Flatten_Dropout-02_Dense-64-relu_Dropout-03_Dense-2-softmax\u001b[0m |\n",
      "|  \u001b[1m\u001b[37m80\u001b[0m   | \u001b[1m\u001b[37m1.00e-03\u001b[0m | \u001b[1m\u001b[37m1.00e-03\u001b[0m | \u001b[1m\u001b[32m0.850\u001b[0m |  \u001b[1m\u001b[32m0.733\u001b[0m   | \u001b[1m\u001b[31m0.112\u001b[0m | \u001b[1m\u001b[31m0.173\u001b[0m | \u001b[37m1630852037_Flatten_Dropout-02_Dense-64-relu_Dropout-03_Dense-2-softmax\u001b[0m |\n",
      "|  \u001b[1m\u001b[37m90\u001b[0m   | \u001b[1m\u001b[37m1.00e-03\u001b[0m | \u001b[1m\u001b[37m1.00e-03\u001b[0m | \u001b[1m\u001b[32m0.883\u001b[0m |  \u001b[1m\u001b[32m0.742\u001b[0m   | \u001b[1m\u001b[31m0.099\u001b[0m | \u001b[1m\u001b[31m0.175\u001b[0m | \u001b[37m1630852037_Flatten_Dropout-02_Dense-64-relu_Dropout-03_Dense-2-softmax\u001b[0m |\n",
      "|  \u001b[1m\u001b[37m99\u001b[0m   | \u001b[1m\u001b[37m1.00e-03\u001b[0m | \u001b[1m\u001b[37m1.00e-03\u001b[0m | \u001b[1m\u001b[32m0.887\u001b[0m |  \u001b[1m\u001b[32m0.719\u001b[0m   | \u001b[1m\u001b[31m0.095\u001b[0m | \u001b[1m\u001b[31m0.176\u001b[0m | \u001b[37m1630852037_Flatten_Dropout-02_Dense-64-relu_Dropout-03_Dense-2-softmax\u001b[0m |\n",
      "+-------+----------+----------+-------+----------+-------+-------+------------------------------------------------------------------------+\n"
     ]
    }
   ],
   "source": [
    "model.train(epochs=100, init_logs=False)"
   ]
  },
  {
   "cell_type": "markdown",
   "metadata": {},
   "source": [
    "We are pretty much overfitting the training data whereas we used a double dropout. "
   ]
  },
  {
   "cell_type": "code",
   "execution_count": 9,
   "metadata": {
    "tags": []
   },
   "outputs": [
    {
     "data": {
      "image/png": "[encoded data removed]",
      "text/plain": [
       "<Figure size 432x288 with 1 Axes>"
      ]
     },
     "metadata": {
      "needs_background": "light"
     },
     "output_type": "display_data"
    }
   ],
   "source": [
    "model.plot(path=False)"
   ]
  },
  {
   "cell_type": "markdown",
   "metadata": {
    "tags": []
   },
   "source": [
    "We could try to optimize by using a different loss function, adding one hidden *dense* layer or decreasing the number of nodes while increasing the learning rate etc... But we will not herein, because we want to work with recurrent architectures :).\n",
    "\n",
    "For code, maths and pictures behind the *Flatten*, *Dense* and *Dropout* layers, follow these links:\n",
    "\n",
    "* [Flatten - Adapter](../../Flatten.html)\n",
    "* [Fully Connected (Dense)](../../Dense.html)\n",
    "* [Dropout - Regularization](../../Dropout.html)"
   ]
  },
  {
   "cell_type": "markdown",
   "metadata": {},
   "source": [
    "## Recurrent Architectures"
   ]
  },
  {
   "cell_type": "markdown",
   "metadata": {},
   "source": [
    "Let see the big picture."
   ]
  },
  {
   "cell_type": "markdown",
   "metadata": {},
   "source": [
    "Sequence logo of **Homo sapiens** *O*-GlcNAcylated peptides consensus from [The O-GlcNAc Database Consensus](https://www.oglcnac.mcw.edu/consensus/) page.\n",
    "\n",
    "![Sequence logo Homo-sapens O-GlcNAcylated peptides](dl_seqlogo_ST_Homo.png)"
   ]
  },
  {
   "cell_type": "markdown",
   "metadata": {},
   "source": [
    "This is what is classically looked at when quickly evaluating if a sequence may or may not be modified: herein residues with positive values on the y-axis are over-represented within modified peptides while those with negative y-axis values are under-represented. This with respect to the position on the x-axis.\n",
    "\n",
    "While this plot provides information on amino-acid distribution with respect to a given position, it provides zero information about amino-acid distribution with respect to position in the context of the sequence.\n",
    "\n",
    "Just making a simple drawing:"
   ]
  },
  {
   "cell_type": "code",
   "execution_count": 10,
   "metadata": {},
   "outputs": [],
   "source": [
    "seqA = 'AAA'\n",
    "seqB = 'BBB'"
   ]
  },
  {
   "cell_type": "markdown",
   "metadata": {},
   "source": [
    "The consensus for those two sequences is 50/50 A/B with respect to position in sequence."
   ]
  },
  {
   "cell_type": "code",
   "execution_count": 11,
   "metadata": {},
   "outputs": [],
   "source": [
    "seqA = 'BAB'\n",
    "seqB = 'ABA'"
   ]
  },
  {
   "cell_type": "markdown",
   "metadata": {},
   "source": [
    "The consensus for those two sequences is 50/50 A/B with respect to position in sequence.\n",
    "\n",
    "Said differently: the consensus is the same, while the character patterns are totally unrelated.\n",
    "\n",
    "Conclusion: when representing sequences with metrics that exclude the sequential nature of the data, we may get quite misleading representations overall.\n",
    "\n",
    "That's where the recurrent architectures comes in: it postulates *a priori* that elements in one sequence are linked together. When processing samples features step by step - or position by position -, the output at a given position integrates results gained from the past positions. This intrinsically - hard-written - in the code of the architecture."
   ]
  },
  {
   "cell_type": "markdown",
   "metadata": {},
   "source": [
    "### Embedding"
   ]
  },
  {
   "cell_type": "markdown",
   "metadata": {},
   "source": [
    "Here we use the same embedding settings than for the Feed-Forward network."
   ]
  },
  {
   "cell_type": "code",
   "execution_count": 12,
   "metadata": {},
   "outputs": [],
   "source": [
    "embedding = Embedding(X_data=X_features,\n",
    "                      Y_data=Y_label,\n",
    "                      X_encode=True,\n",
    "                      Y_encode=True,\n",
    "                      batch_size=32,\n",
    "                      relative_size=(2, 1, 0))"
   ]
  },
  {
   "cell_type": "markdown",
   "metadata": {},
   "source": [
    "We may continue with either using *RNN* or *GRU* or *LSTM* layers. We go ahead with LSTM first."
   ]
  },
  {
   "cell_type": "markdown",
   "metadata": {},
   "source": [
    "### LSTM-Dense"
   ]
  },
  {
   "cell_type": "markdown",
   "metadata": {},
   "source": [
    "Briefly, the advtange of using LSTM cells in one LSTM layer is that it *\"retains\"* the information for more sequence steps compared to the simple *RNN*. The drawback is that it takes significantly longer computational time compared to the simple *RNN*."
   ]
  },
  {
   "cell_type": "code",
   "execution_count": 13,
   "metadata": {
    "tags": []
   },
   "outputs": [],
   "source": [
    "name = 'LSTM-8_Dense-2-softmax'\n",
    "\n",
    "se_hPars['learning_rate'] = 0.1\n",
    "se_hPars['softmax_temperature'] = 5\n",
    "\n",
    "lstm = LSTM(8)\n",
    "\n",
    "dense = Dense(2, softmax)\n",
    "\n",
    "layers = [embedding, lstm, dense]\n",
    "\n",
    "model = EpyNN(layers=layers, name=name)"
   ]
  },
  {
   "cell_type": "markdown",
   "metadata": {
    "tags": []
   },
   "source": [
    "Here we have set a *LSTM* layer with 8 units and all defaults.\n",
    "\n",
    "The output of the LSTM layer will be fed in the *dense* output layer."
   ]
  },
  {
   "cell_type": "code",
   "execution_count": 14,
   "metadata": {
    "tags": []
   },
   "outputs": [
    {
     "name": "stdout",
     "output_type": "stream",
     "text": [
      "\u001b[1m--- EpyNN Check OK! --- \u001b[0mdding\u001b[0m\u001b[0m\r"
     ]
    }
   ],
   "source": [
    "model.initialize(loss='MSE', seed=1, se_hPars=se_hPars.copy(), end='\\r')"
   ]
  },
  {
   "cell_type": "markdown",
   "metadata": {},
   "source": [
    "Train the model."
   ]
  },
  {
   "cell_type": "code",
   "execution_count": 15,
   "metadata": {},
   "outputs": [
    {
     "name": "stdout",
     "output_type": "stream",
     "text": [
      "\u001b[1m\u001b[37mEpoch 19 - Batch 25/25 - Accuracy: 0.906 Cost: 0.1176 - TIME: 26.84s RATE: 4.13e+02e/s TTC: 0s\u001b[0mm\n",
      "\n",
      "+-------+----------+----------+-------+----------+-------+-------+-----------------------------------+\n",
      "| \u001b[1m\u001b[37mepoch\u001b[0m |  \u001b[1m\u001b[37mlrate\u001b[0m   |  \u001b[1m\u001b[37mlrate\u001b[0m   |       | \u001b[1m\u001b[32maccuracy\u001b[0m |       |  \u001b[1m\u001b[31mMSE\u001b[0m  |            \u001b[37mExperiment\u001b[0m             |\n",
      "|       |   \u001b[37mLSTM\u001b[0m   |  \u001b[37mDense\u001b[0m   |  \u001b[1m\u001b[32m(0)\u001b[0m  |   \u001b[1m\u001b[32m(1)\u001b[0m    |  \u001b[1m\u001b[31m(0)\u001b[0m  |  \u001b[1m\u001b[31m(1)\u001b[0m  |                                   |\n",
      "+-------+----------+----------+-------+----------+-------+-------+-----------------------------------+\n",
      "|   \u001b[1m\u001b[37m0\u001b[0m   | \u001b[1m\u001b[37m1.00e-01\u001b[0m | \u001b[1m\u001b[37m1.00e-01\u001b[0m | \u001b[1m\u001b[32m0.509\u001b[0m |  \u001b[1m\u001b[32m0.499\u001b[0m   | \u001b[1m\u001b[31m0.247\u001b[0m | \u001b[1m\u001b[31m0.251\u001b[0m | \u001b[37m1630852093_LSTM-8_Dense-2-softmax\u001b[0m |\n",
      "|   \u001b[1m\u001b[37m2\u001b[0m   | \u001b[1m\u001b[37m1.00e-01\u001b[0m | \u001b[1m\u001b[37m1.00e-01\u001b[0m | \u001b[1m\u001b[32m0.733\u001b[0m |  \u001b[1m\u001b[32m0.705\u001b[0m   | \u001b[1m\u001b[31m0.220\u001b[0m | \u001b[1m\u001b[31m0.226\u001b[0m | \u001b[37m1630852093_LSTM-8_Dense-2-softmax\u001b[0m |\n",
      "|   \u001b[1m\u001b[37m4\u001b[0m   | \u001b[1m\u001b[37m1.00e-01\u001b[0m | \u001b[1m\u001b[37m1.00e-01\u001b[0m | \u001b[1m\u001b[32m0.693\u001b[0m |  \u001b[1m\u001b[32m0.672\u001b[0m   | \u001b[1m\u001b[31m0.229\u001b[0m | \u001b[1m\u001b[31m0.233\u001b[0m | \u001b[37m1630852093_LSTM-8_Dense-2-softmax\u001b[0m |\n",
      "|   \u001b[1m\u001b[37m6\u001b[0m   | \u001b[1m\u001b[37m1.00e-01\u001b[0m | \u001b[1m\u001b[37m1.00e-01\u001b[0m | \u001b[1m\u001b[32m0.546\u001b[0m |  \u001b[1m\u001b[32m0.543\u001b[0m   | \u001b[1m\u001b[31m0.278\u001b[0m | \u001b[1m\u001b[31m0.282\u001b[0m | \u001b[37m1630852093_LSTM-8_Dense-2-softmax\u001b[0m |\n",
      "|   \u001b[1m\u001b[37m8\u001b[0m   | \u001b[1m\u001b[37m1.00e-01\u001b[0m | \u001b[1m\u001b[37m1.00e-01\u001b[0m | \u001b[1m\u001b[32m0.800\u001b[0m |  \u001b[1m\u001b[32m0.780\u001b[0m   | \u001b[1m\u001b[31m0.143\u001b[0m | \u001b[1m\u001b[31m0.155\u001b[0m | \u001b[37m1630852093_LSTM-8_Dense-2-softmax\u001b[0m |\n",
      "|  \u001b[1m\u001b[37m10\u001b[0m   | \u001b[1m\u001b[37m1.00e-01\u001b[0m | \u001b[1m\u001b[37m1.00e-01\u001b[0m | \u001b[1m\u001b[32m0.812\u001b[0m |  \u001b[1m\u001b[32m0.789\u001b[0m   | \u001b[1m\u001b[31m0.138\u001b[0m | \u001b[1m\u001b[31m0.150\u001b[0m | \u001b[37m1630852093_LSTM-8_Dense-2-softmax\u001b[0m |\n",
      "|  \u001b[1m\u001b[37m12\u001b[0m   | \u001b[1m\u001b[37m1.00e-01\u001b[0m | \u001b[1m\u001b[37m1.00e-01\u001b[0m | \u001b[1m\u001b[32m0.841\u001b[0m |  \u001b[1m\u001b[32m0.820\u001b[0m   | \u001b[1m\u001b[31m0.117\u001b[0m | \u001b[1m\u001b[31m0.126\u001b[0m | \u001b[37m1630852093_LSTM-8_Dense-2-softmax\u001b[0m |\n",
      "|  \u001b[1m\u001b[37m14\u001b[0m   | \u001b[1m\u001b[37m1.00e-01\u001b[0m | \u001b[1m\u001b[37m1.00e-01\u001b[0m | \u001b[1m\u001b[32m0.837\u001b[0m |  \u001b[1m\u001b[32m0.829\u001b[0m   | \u001b[1m\u001b[31m0.114\u001b[0m | \u001b[1m\u001b[31m0.125\u001b[0m | \u001b[37m1630852093_LSTM-8_Dense-2-softmax\u001b[0m |\n",
      "|  \u001b[1m\u001b[37m16\u001b[0m   | \u001b[1m\u001b[37m1.00e-01\u001b[0m | \u001b[1m\u001b[37m1.00e-01\u001b[0m | \u001b[1m\u001b[32m0.839\u001b[0m |  \u001b[1m\u001b[32m0.813\u001b[0m   | \u001b[1m\u001b[31m0.113\u001b[0m | \u001b[1m\u001b[31m0.125\u001b[0m | \u001b[37m1630852093_LSTM-8_Dense-2-softmax\u001b[0m |\n",
      "|  \u001b[1m\u001b[37m18\u001b[0m   | \u001b[1m\u001b[37m1.00e-01\u001b[0m | \u001b[1m\u001b[37m1.00e-01\u001b[0m | \u001b[1m\u001b[32m0.849\u001b[0m |  \u001b[1m\u001b[32m0.834\u001b[0m   | \u001b[1m\u001b[31m0.108\u001b[0m | \u001b[1m\u001b[31m0.121\u001b[0m | \u001b[37m1630852093_LSTM-8_Dense-2-softmax\u001b[0m |\n",
      "|  \u001b[1m\u001b[37m19\u001b[0m   | \u001b[1m\u001b[37m1.00e-01\u001b[0m | \u001b[1m\u001b[37m1.00e-01\u001b[0m | \u001b[1m\u001b[32m0.846\u001b[0m |  \u001b[1m\u001b[32m0.815\u001b[0m   | \u001b[1m\u001b[31m0.108\u001b[0m | \u001b[1m\u001b[31m0.127\u001b[0m | \u001b[37m1630852093_LSTM-8_Dense-2-softmax\u001b[0m |\n",
      "+-------+----------+----------+-------+----------+-------+-------+-----------------------------------+\n"
     ]
    }
   ],
   "source": [
    "model.train(epochs=20, init_logs=False)"
   ]
  },
  {
   "cell_type": "markdown",
   "metadata": {},
   "source": [
    "Plot results."
   ]
  },
  {
   "cell_type": "code",
   "execution_count": 16,
   "metadata": {
    "tags": []
   },
   "outputs": [
    {
     "data": {
      "image/png": "[encoded data removed]",
      "text/plain": [
       "<Figure size 432x288 with 1 Axes>"
      ]
     },
     "metadata": {
      "needs_background": "light"
     },
     "output_type": "display_data"
    }
   ],
   "source": [
    "model.plot(path=False)"
   ]
  },
  {
   "cell_type": "markdown",
   "metadata": {
    "tags": []
   },
   "source": [
    "Results here are pretty good, with ~84% accuracy for both training and testing sets (epoch 14). Let's try to add more complexity in the model."
   ]
  },
  {
   "cell_type": "markdown",
   "metadata": {
    "tags": []
   },
   "source": [
    "For code, maths and pictures behind the *LSTM* layer, follow this link:\n",
    "\n",
    "* [Long Short-Term Memory (LSTM)](../../LSTM.html)"
   ]
  },
  {
   "cell_type": "markdown",
   "metadata": {},
   "source": [
    "### LSTM(sequence=True)-Flatten-Dense"
   ]
  },
  {
   "cell_type": "markdown",
   "metadata": {},
   "source": [
    "By defaults, the LSTM layer returns the hidden state computed at the last sequence step.\n",
    "\n",
    "Consistently, gradients - what is actually used to update parameters - are computed with respect to this single last hidden step.\n",
    "\n",
    "While this last hidden state incorporates information with respect to the whole sequence, it is commonly found that returning all hidden states and computing gradients with respect to each of them provides better results than the default behavior.\n",
    "\n",
    "One drawback is that instead of returning an array of shape ``(m, 1, u)`` with ``m`` number of samples, ``1`` number of sequence and ``u`` the number of *LSTM* units within the layer, it returns an array of shape ``(m, s, u)``. Said differently, it return ``s`` times more data which makes computations slower.\n",
    "\n",
    "It also requires to use a *flatten* layer to get a shape such as ``(m, s * u)`` to adapt for the *dense* layer. When using the defaults ``LSTM(sequences=False)`` note that the returned data have shape ``(m, u)`` and not ``(m, 1, u)`` as stated above for pedagogic purpose.  This explains why we did not need a *flatten* layer in the first LSTM example."
   ]
  },
  {
   "cell_type": "code",
   "execution_count": 17,
   "metadata": {
    "tags": []
   },
   "outputs": [],
   "source": [
    "name = 'LSTM-8-Seq_Flatten_Dense-2-softmax'\n",
    "\n",
    "se_hPars['learning_rate'] = 0.1\n",
    "se_hPars['softmax_temperature'] = 5\n",
    "\n",
    "lstm = LSTM(8, sequences=True)\n",
    "\n",
    "flatten = Flatten()\n",
    "\n",
    "dense = Dense(2, softmax)\n",
    "\n",
    "layers = [embedding, lstm, flatten, dense]\n",
    "\n",
    "model = EpyNN(layers=layers, name=name)"
   ]
  },
  {
   "cell_type": "markdown",
   "metadata": {
    "tags": []
   },
   "source": [
    "Initialize the model."
   ]
  },
  {
   "cell_type": "code",
   "execution_count": 18,
   "metadata": {
    "tags": []
   },
   "outputs": [
    {
     "name": "stdout",
     "output_type": "stream",
     "text": [
      "\u001b[1m--- EpyNN Check OK! --- \u001b[0mdding\u001b[0m0m0m\r"
     ]
    }
   ],
   "source": [
    "model.initialize(loss='MSE', seed=1, se_hPars=se_hPars.copy(), end='\\r')"
   ]
  },
  {
   "cell_type": "markdown",
   "metadata": {},
   "source": [
    "Train for 20 epochs."
   ]
  },
  {
   "cell_type": "code",
   "execution_count": 19,
   "metadata": {},
   "outputs": [
    {
     "name": "stdout",
     "output_type": "stream",
     "text": [
      "\u001b[1m\u001b[37mEpoch 19 - Batch 25/25 - Accuracy: 0.875 Cost: 0.11951 - TIME: 23.69s RATE: 6.54e+02e/s TTC: 0s\u001b[0m\n",
      "\n",
      "+-------+----------+----------+-------+----------+-------+-------+-----------------------------------------------+\n",
      "| \u001b[1m\u001b[37mepoch\u001b[0m |  \u001b[1m\u001b[37mlrate\u001b[0m   |  \u001b[1m\u001b[37mlrate\u001b[0m   |       | \u001b[1m\u001b[32maccuracy\u001b[0m |       |  \u001b[1m\u001b[31mMSE\u001b[0m  |                  \u001b[37mExperiment\u001b[0m                   |\n",
      "|       |   \u001b[37mLSTM\u001b[0m   |  \u001b[37mDense\u001b[0m   |  \u001b[1m\u001b[32m(0)\u001b[0m  |   \u001b[1m\u001b[32m(1)\u001b[0m    |  \u001b[1m\u001b[31m(0)\u001b[0m  |  \u001b[1m\u001b[31m(1)\u001b[0m  |                                               |\n",
      "+-------+----------+----------+-------+----------+-------+-------+-----------------------------------------------+\n",
      "|   \u001b[1m\u001b[37m0\u001b[0m   | \u001b[1m\u001b[37m1.00e-01\u001b[0m | \u001b[1m\u001b[37m1.00e-01\u001b[0m | \u001b[1m\u001b[32m0.509\u001b[0m |  \u001b[1m\u001b[32m0.499\u001b[0m   | \u001b[1m\u001b[31m0.249\u001b[0m | \u001b[1m\u001b[31m0.252\u001b[0m | \u001b[37m1630852120_LSTM-8-Seq_Flatten_Dense-2-softmax\u001b[0m |\n",
      "|   \u001b[1m\u001b[37m2\u001b[0m   | \u001b[1m\u001b[37m1.00e-01\u001b[0m | \u001b[1m\u001b[37m1.00e-01\u001b[0m | \u001b[1m\u001b[32m0.651\u001b[0m |  \u001b[1m\u001b[32m0.637\u001b[0m   | \u001b[1m\u001b[31m0.225\u001b[0m | \u001b[1m\u001b[31m0.234\u001b[0m | \u001b[37m1630852120_LSTM-8-Seq_Flatten_Dense-2-softmax\u001b[0m |\n",
      "|   \u001b[1m\u001b[37m4\u001b[0m   | \u001b[1m\u001b[37m1.00e-01\u001b[0m | \u001b[1m\u001b[37m1.00e-01\u001b[0m | \u001b[1m\u001b[32m0.832\u001b[0m |  \u001b[1m\u001b[32m0.794\u001b[0m   | \u001b[1m\u001b[31m0.127\u001b[0m | \u001b[1m\u001b[31m0.141\u001b[0m | \u001b[37m1630852120_LSTM-8-Seq_Flatten_Dense-2-softmax\u001b[0m |\n",
      "|   \u001b[1m\u001b[37m6\u001b[0m   | \u001b[1m\u001b[37m1.00e-01\u001b[0m | \u001b[1m\u001b[37m1.00e-01\u001b[0m | \u001b[1m\u001b[32m0.858\u001b[0m |  \u001b[1m\u001b[32m0.820\u001b[0m   | \u001b[1m\u001b[31m0.109\u001b[0m | \u001b[1m\u001b[31m0.127\u001b[0m | \u001b[37m1630852120_LSTM-8-Seq_Flatten_Dense-2-softmax\u001b[0m |\n",
      "|   \u001b[1m\u001b[37m8\u001b[0m   | \u001b[1m\u001b[37m1.00e-01\u001b[0m | \u001b[1m\u001b[37m1.00e-01\u001b[0m | \u001b[1m\u001b[32m0.872\u001b[0m |  \u001b[1m\u001b[32m0.820\u001b[0m   | \u001b[1m\u001b[31m0.099\u001b[0m | \u001b[1m\u001b[31m0.126\u001b[0m | \u001b[37m1630852120_LSTM-8-Seq_Flatten_Dense-2-softmax\u001b[0m |\n",
      "|  \u001b[1m\u001b[37m10\u001b[0m   | \u001b[1m\u001b[37m1.00e-01\u001b[0m | \u001b[1m\u001b[37m1.00e-01\u001b[0m | \u001b[1m\u001b[32m0.873\u001b[0m |  \u001b[1m\u001b[32m0.820\u001b[0m   | \u001b[1m\u001b[31m0.092\u001b[0m | \u001b[1m\u001b[31m0.130\u001b[0m | \u001b[37m1630852120_LSTM-8-Seq_Flatten_Dense-2-softmax\u001b[0m |\n",
      "|  \u001b[1m\u001b[37m12\u001b[0m   | \u001b[1m\u001b[37m1.00e-01\u001b[0m | \u001b[1m\u001b[37m1.00e-01\u001b[0m | \u001b[1m\u001b[32m0.889\u001b[0m |  \u001b[1m\u001b[32m0.827\u001b[0m   | \u001b[1m\u001b[31m0.080\u001b[0m | \u001b[1m\u001b[31m0.130\u001b[0m | \u001b[37m1630852120_LSTM-8-Seq_Flatten_Dense-2-softmax\u001b[0m |\n",
      "|  \u001b[1m\u001b[37m14\u001b[0m   | \u001b[1m\u001b[37m1.00e-01\u001b[0m | \u001b[1m\u001b[37m1.00e-01\u001b[0m | \u001b[1m\u001b[32m0.907\u001b[0m |  \u001b[1m\u001b[32m0.824\u001b[0m   | \u001b[1m\u001b[31m0.074\u001b[0m | \u001b[1m\u001b[31m0.133\u001b[0m | \u001b[37m1630852120_LSTM-8-Seq_Flatten_Dense-2-softmax\u001b[0m |\n",
      "|  \u001b[1m\u001b[37m16\u001b[0m   | \u001b[1m\u001b[37m1.00e-01\u001b[0m | \u001b[1m\u001b[37m1.00e-01\u001b[0m | \u001b[1m\u001b[32m0.940\u001b[0m |  \u001b[1m\u001b[32m0.803\u001b[0m   | \u001b[1m\u001b[31m0.057\u001b[0m | \u001b[1m\u001b[31m0.147\u001b[0m | \u001b[37m1630852120_LSTM-8-Seq_Flatten_Dense-2-softmax\u001b[0m |\n",
      "|  \u001b[1m\u001b[37m18\u001b[0m   | \u001b[1m\u001b[37m1.00e-01\u001b[0m | \u001b[1m\u001b[37m1.00e-01\u001b[0m | \u001b[1m\u001b[32m0.946\u001b[0m |  \u001b[1m\u001b[32m0.808\u001b[0m   | \u001b[1m\u001b[31m0.049\u001b[0m | \u001b[1m\u001b[31m0.146\u001b[0m | \u001b[37m1630852120_LSTM-8-Seq_Flatten_Dense-2-softmax\u001b[0m |\n",
      "|  \u001b[1m\u001b[37m19\u001b[0m   | \u001b[1m\u001b[37m1.00e-01\u001b[0m | \u001b[1m\u001b[37m1.00e-01\u001b[0m | \u001b[1m\u001b[32m0.943\u001b[0m |  \u001b[1m\u001b[32m0.822\u001b[0m   | \u001b[1m\u001b[31m0.051\u001b[0m | \u001b[1m\u001b[31m0.150\u001b[0m | \u001b[37m1630852120_LSTM-8-Seq_Flatten_Dense-2-softmax\u001b[0m |\n",
      "+-------+----------+----------+-------+----------+-------+-------+-----------------------------------------------+\n"
     ]
    }
   ],
   "source": [
    "model.train(epochs=20, init_logs=False)"
   ]
  },
  {
   "cell_type": "markdown",
   "metadata": {},
   "source": [
    "Plot the results which look very good by a quick inspection on the table."
   ]
  },
  {
   "cell_type": "code",
   "execution_count": 20,
   "metadata": {
    "tags": []
   },
   "outputs": [
    {
     "data": {
      "image/png": "[encoded data removed]",
      "text/plain": [
       "<Figure size 432x288 with 1 Axes>"
      ]
     },
     "metadata": {
      "needs_background": "light"
     },
     "output_type": "display_data"
    }
   ],
   "source": [
    "model.plot(path=False)"
   ]
  },
  {
   "cell_type": "markdown",
   "metadata": {},
   "source": [
    "Overall, we increased accuracy on the testing set but decreased accuracy on the testing set. Adding more complexity in the model did result in overfitting.\n",
    "\n",
    "For code, maths and pictures behind the *LSTM* layer, follow this link:\n",
    "\n",
    "* [Long Short-Term Memory (LSTM)](../../LSTM.html)"
   ]
  },
  {
   "cell_type": "markdown",
   "metadata": {},
   "source": [
    "### LSTM(sequence=True)-Flatten-(Dense)n with Dropout"
   ]
  },
  {
   "cell_type": "markdown",
   "metadata": {},
   "source": [
    "Adding one hidden *dense* layer will inevitably result in overfitting. So we set a double dropout with each a probability of 0.5 to pass values forward."
   ]
  },
  {
   "cell_type": "code",
   "execution_count": 21,
   "metadata": {},
   "outputs": [
    {
     "name": "stdout",
     "output_type": "stream",
     "text": [
      "\u001b[1m\u001b[37mEpoch 19 - Batch 25/25 - Accuracy: 0.875 Cost: 0.10473 - TIME: 35.78s RATE: 5.10e+02e/s TTC: 0s\u001b[0m\n",
      "\n",
      "+-------+----------+----------+----------+-------+----------+-------+-------+-----------------------------------------------------------------------------------+\n",
      "| \u001b[1m\u001b[37mepoch\u001b[0m |  \u001b[1m\u001b[37mlrate\u001b[0m   |  \u001b[1m\u001b[37mlrate\u001b[0m   |  \u001b[1m\u001b[37mlrate\u001b[0m   |       | \u001b[1m\u001b[32maccuracy\u001b[0m |       |  \u001b[1m\u001b[31mMSE\u001b[0m  |                                    \u001b[37mExperiment\u001b[0m                                     |\n",
      "|       |   \u001b[37mLSTM\u001b[0m   |  \u001b[37mDense\u001b[0m   |  \u001b[37mDense\u001b[0m   |  \u001b[1m\u001b[32m(0)\u001b[0m  |   \u001b[1m\u001b[32m(1)\u001b[0m    |  \u001b[1m\u001b[31m(0)\u001b[0m  |  \u001b[1m\u001b[31m(1)\u001b[0m  |                                                                                   |\n",
      "+-------+----------+----------+----------+-------+----------+-------+-------+-----------------------------------------------------------------------------------+\n",
      "|   \u001b[1m\u001b[37m0\u001b[0m   | \u001b[1m\u001b[37m1.00e-01\u001b[0m | \u001b[1m\u001b[37m1.00e-01\u001b[0m | \u001b[1m\u001b[37m1.00e-01\u001b[0m | \u001b[1m\u001b[32m0.509\u001b[0m |  \u001b[1m\u001b[32m0.499\u001b[0m   | \u001b[1m\u001b[31m0.323\u001b[0m | \u001b[1m\u001b[31m0.338\u001b[0m | \u001b[37m1630852144_LSTM-8-Seq_Flatten_Dropout-05_Dense-64-relu_Dropout-05_Dense-2-softmax\u001b[0m |\n",
      "|   \u001b[1m\u001b[37m2\u001b[0m   | \u001b[1m\u001b[37m1.00e-01\u001b[0m | \u001b[1m\u001b[37m1.00e-01\u001b[0m | \u001b[1m\u001b[37m1.00e-01\u001b[0m | \u001b[1m\u001b[32m0.763\u001b[0m |  \u001b[1m\u001b[32m0.775\u001b[0m   | \u001b[1m\u001b[31m0.189\u001b[0m | \u001b[1m\u001b[31m0.188\u001b[0m | \u001b[37m1630852144_LSTM-8-Seq_Flatten_Dropout-05_Dense-64-relu_Dropout-05_Dense-2-softmax\u001b[0m |\n",
      "|   \u001b[1m\u001b[37m4\u001b[0m   | \u001b[1m\u001b[37m1.00e-01\u001b[0m | \u001b[1m\u001b[37m1.00e-01\u001b[0m | \u001b[1m\u001b[37m1.00e-01\u001b[0m | \u001b[1m\u001b[32m0.783\u001b[0m |  \u001b[1m\u001b[32m0.775\u001b[0m   | \u001b[1m\u001b[31m0.151\u001b[0m | \u001b[1m\u001b[31m0.152\u001b[0m | \u001b[37m1630852144_LSTM-8-Seq_Flatten_Dropout-05_Dense-64-relu_Dropout-05_Dense-2-softmax\u001b[0m |\n",
      "|   \u001b[1m\u001b[37m6\u001b[0m   | \u001b[1m\u001b[37m1.00e-01\u001b[0m | \u001b[1m\u001b[37m1.00e-01\u001b[0m | \u001b[1m\u001b[37m1.00e-01\u001b[0m | \u001b[1m\u001b[32m0.821\u001b[0m |  \u001b[1m\u001b[32m0.794\u001b[0m   | \u001b[1m\u001b[31m0.129\u001b[0m | \u001b[1m\u001b[31m0.146\u001b[0m | \u001b[37m1630852144_LSTM-8-Seq_Flatten_Dropout-05_Dense-64-relu_Dropout-05_Dense-2-softmax\u001b[0m |\n",
      "|   \u001b[1m\u001b[37m8\u001b[0m   | \u001b[1m\u001b[37m1.00e-01\u001b[0m | \u001b[1m\u001b[37m1.00e-01\u001b[0m | \u001b[1m\u001b[37m1.00e-01\u001b[0m | \u001b[1m\u001b[32m0.822\u001b[0m |  \u001b[1m\u001b[32m0.792\u001b[0m   | \u001b[1m\u001b[31m0.126\u001b[0m | \u001b[1m\u001b[31m0.141\u001b[0m | \u001b[37m1630852144_LSTM-8-Seq_Flatten_Dropout-05_Dense-64-relu_Dropout-05_Dense-2-softmax\u001b[0m |\n",
      "|  \u001b[1m\u001b[37m10\u001b[0m   | \u001b[1m\u001b[37m1.00e-01\u001b[0m | \u001b[1m\u001b[37m1.00e-01\u001b[0m | \u001b[1m\u001b[37m1.00e-01\u001b[0m | \u001b[1m\u001b[32m0.826\u001b[0m |  \u001b[1m\u001b[32m0.810\u001b[0m   | \u001b[1m\u001b[31m0.124\u001b[0m | \u001b[1m\u001b[31m0.136\u001b[0m | \u001b[37m1630852144_LSTM-8-Seq_Flatten_Dropout-05_Dense-64-relu_Dropout-05_Dense-2-softmax\u001b[0m |\n",
      "|  \u001b[1m\u001b[37m12\u001b[0m   | \u001b[1m\u001b[37m1.00e-01\u001b[0m | \u001b[1m\u001b[37m1.00e-01\u001b[0m | \u001b[1m\u001b[37m1.00e-01\u001b[0m | \u001b[1m\u001b[32m0.837\u001b[0m |  \u001b[1m\u001b[32m0.813\u001b[0m   | \u001b[1m\u001b[31m0.119\u001b[0m | \u001b[1m\u001b[31m0.138\u001b[0m | \u001b[37m1630852144_LSTM-8-Seq_Flatten_Dropout-05_Dense-64-relu_Dropout-05_Dense-2-softmax\u001b[0m |\n",
      "|  \u001b[1m\u001b[37m14\u001b[0m   | \u001b[1m\u001b[37m1.00e-01\u001b[0m | \u001b[1m\u001b[37m1.00e-01\u001b[0m | \u001b[1m\u001b[37m1.00e-01\u001b[0m | \u001b[1m\u001b[32m0.850\u001b[0m |  \u001b[1m\u001b[32m0.806\u001b[0m   | \u001b[1m\u001b[31m0.109\u001b[0m | \u001b[1m\u001b[31m0.140\u001b[0m | \u001b[37m1630852144_LSTM-8-Seq_Flatten_Dropout-05_Dense-64-relu_Dropout-05_Dense-2-softmax\u001b[0m |\n",
      "|  \u001b[1m\u001b[37m16\u001b[0m   | \u001b[1m\u001b[37m1.00e-01\u001b[0m | \u001b[1m\u001b[37m1.00e-01\u001b[0m | \u001b[1m\u001b[37m1.00e-01\u001b[0m | \u001b[1m\u001b[32m0.850\u001b[0m |  \u001b[1m\u001b[32m0.799\u001b[0m   | \u001b[1m\u001b[31m0.111\u001b[0m | \u001b[1m\u001b[31m0.144\u001b[0m | \u001b[37m1630852144_LSTM-8-Seq_Flatten_Dropout-05_Dense-64-relu_Dropout-05_Dense-2-softmax\u001b[0m |\n",
      "|  \u001b[1m\u001b[37m18\u001b[0m   | \u001b[1m\u001b[37m1.00e-01\u001b[0m | \u001b[1m\u001b[37m1.00e-01\u001b[0m | \u001b[1m\u001b[37m1.00e-01\u001b[0m | \u001b[1m\u001b[32m0.864\u001b[0m |  \u001b[1m\u001b[32m0.803\u001b[0m   | \u001b[1m\u001b[31m0.098\u001b[0m | \u001b[1m\u001b[31m0.143\u001b[0m | \u001b[37m1630852144_LSTM-8-Seq_Flatten_Dropout-05_Dense-64-relu_Dropout-05_Dense-2-softmax\u001b[0m |\n",
      "|  \u001b[1m\u001b[37m19\u001b[0m   | \u001b[1m\u001b[37m1.00e-01\u001b[0m | \u001b[1m\u001b[37m1.00e-01\u001b[0m | \u001b[1m\u001b[37m1.00e-01\u001b[0m | \u001b[1m\u001b[32m0.814\u001b[0m |  \u001b[1m\u001b[32m0.773\u001b[0m   | \u001b[1m\u001b[31m0.147\u001b[0m | \u001b[1m\u001b[31m0.188\u001b[0m | \u001b[37m1630852144_LSTM-8-Seq_Flatten_Dropout-05_Dense-64-relu_Dropout-05_Dense-2-softmax\u001b[0m |\n",
      "+-------+----------+----------+----------+-------+----------+-------+-------+-----------------------------------------------------------------------------------+\n"
     ]
    }
   ],
   "source": [
    "name = 'LSTM-8-Seq_Flatten_Dropout-05_Dense-64-relu_Dropout-05_Dense-2-softmax'\n",
    "\n",
    "se_hPars['learning_rate'] = 0.1\n",
    "se_hPars['softmax_temperature'] = 5\n",
    "\n",
    "layers = [\n",
    "    embedding,\n",
    "    LSTM(8, sequences=True),\n",
    "    Flatten(),\n",
    "    Dropout(drop_prob=0.5),\n",
    "    Dense(64, relu),\n",
    "    Dropout(drop_prob=0.5),\n",
    "    Dense(2, softmax),\n",
    "]\n",
    "\n",
    "model = EpyNN(layers=layers, name=name)\n",
    "\n",
    "model.initialize(loss='MSE', seed=1, se_hPars=se_hPars.copy(), end='\\r')\n",
    "\n",
    "model.train(epochs=20, init_logs=False)"
   ]
  },
  {
   "cell_type": "markdown",
   "metadata": {},
   "source": [
    "Although we have a pretty harsh dropout setup, we still observe overfitting and the accuracy on the testing set turned to be lower than without the hidden *dense* layer. This to illustrate that even though the largest network is *theoretically* capable of the best regression, this comes with more difficulties in training. \n",
    "\n",
    "There is always the question of balancing between the metrics you get and how much they could be improved with respect to the human/computational time it may requires.\n",
    "\n",
    "For code, maths and pictures behind the *LSTM* layer, follow this link:\n",
    "\n",
    "* [Long Short-Term Memory (LSTM)](../../LSTM.html)"
   ]
  },
  {
   "cell_type": "markdown",
   "metadata": {},
   "source": [
    "## Write, Read & Predict"
   ]
  },
  {
   "cell_type": "code",
   "execution_count": 22,
   "metadata": {},
   "outputs": [
    {
     "name": "stdout",
     "output_type": "stream",
     "text": [
      "\u001b[1m\u001b[32mMake: /media/synthase/beta/EpyNN/nnlive/ptm_protein/models/1630852144_LSTM-8-Seq_Flatten_Dropout-05_Dense-64-relu_Dropout-05_Dense-2-softmax.pickle\u001b[0m\n",
      "0 0 [0.85457886 0.14542114]\n",
      "1 1 [1.30697052e-06 9.99998693e-01]\n",
      "2 0 [9.99962610e-01 3.73895187e-05]\n",
      "3 0 [9.99996080e-01 3.91958171e-06]\n",
      "4 0 [0.91674781 0.08325219]\n",
      "5 0 [9.99989433e-01 1.05666152e-05]\n",
      "6 1 [0.17609109 0.82390891]\n",
      "7 1 [3.55678703e-13 1.00000000e+00]\n",
      "8 0 [0.85204204 0.14795796]\n",
      "9 0 [0.89629216 0.10370784]\n"
     ]
    }
   ],
   "source": [
    "### Write/read model\n",
    "\n",
    "model.write()\n",
    "\n",
    "model = read_model()\n",
    "\n",
    "\n",
    "### Predict\n",
    "\n",
    "X_features, _ = prepare_dataset(N_SAMPLES=10)\n",
    "\n",
    "dset = model.predict(X_features, X_encode=True)\n",
    "\n",
    "for n, pred, probs in zip(dset.ids, dset.P, dset.A):\n",
    "    print(n, pred, probs)"
   ]
  }
 ],
 "metadata": {
  "kernelspec": {
   "display_name": "Python 3",
   "language": "python",
   "name": "python3"
  },
  "language_info": {
   "codemirror_mode": {
    "name": "ipython",
    "version": 3
   },
   "file_extension": ".py",
   "mimetype": "text/x-python",
   "name": "python",
   "nbconvert_exporter": "python",
   "pygments_lexer": "ipython3",
   "version": "3.7.3"
  }
 },
 "nbformat": 4,
 "nbformat_minor": 4
}
