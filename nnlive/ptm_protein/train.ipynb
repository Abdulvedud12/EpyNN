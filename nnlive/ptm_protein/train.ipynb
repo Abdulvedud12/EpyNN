{
 "cells": [
  {
   "cell_type": "markdown",
   "metadata": {},
   "source": [
    "# O-GlcNAc Prediction"
   ]
  },
  {
   "cell_type": "markdown",
   "metadata": {},
   "source": [
    "* Find this notebook at `EpyNN/nnlive/ptm_protein/train.ipynb`.\n",
    "* Regular python code at `EpyNN/nnlive/ptm_protein/train.py`."
   ]
  },
  {
   "cell_type": "markdown",
   "metadata": {},
   "source": [
    "In this notebook we will review:\n",
    "\n",
    "* Handling sequential string data which represents peptides sequences.\n",
    "* Training of Feed-Forward (FF) and recurrent networks (LSTM).\n",
    "* LSTM-based schemes with ``sequences=True``, multiple dense layers and dropout.\n",
    "\n",
    "**It is assumed that all *basics* notebooks were already reviewed:**\n",
    "\n",
    "* [Basics with Perceptron (P)](../dummy_boolean/train.ipynb)\n",
    "* [Basics with string sequence](../dummy_string/train.ipynb)\n",
    "* [Basics with numerical time-series](../dummy_time/train.ipynb)\n",
    "* [Basics with images](../dummy_image/train.ipynb)"
   ]
  },
  {
   "cell_type": "markdown",
   "metadata": {},
   "source": [
    "**<font color='red'>This notebook does not enhance, extend or replace EpyNN's documentation.</font>**\n",
    "\n",
    "**Relevant documentation pages for the current notebook:**\n",
    "\n",
    "* [Fully Connected (Dense)](https://epynn.net/Dense.html)\n",
    "* [Long Short-Term Memory (LSTM)](https://epynn.net/LSTM.html)\n",
    "* [Dropout - Regularization](https://epynn.net/Dropout.html)"
   ]
  },
  {
   "cell_type": "markdown",
   "metadata": {},
   "source": [
    "## Environment and data"
   ]
  },
  {
   "cell_type": "markdown",
   "metadata": {},
   "source": [
    "Follow [this link](prepare_dataset.ipynb) for details about data preparation."
   ]
  },
  {
   "cell_type": "markdown",
   "metadata": {},
   "source": [
    "Briefly, one set of sample features contains 21 amino-acids long peptides.\n",
    "\n",
    "Positive peptides are *Homo sapiens* peptides retrieved from [The O-GlcNAc Database](https://www.oglcnac.mcw.edu). These peptides were all experimentally demonstrated to undergo *O*-GlcNAcylation which is an ubiquitary protein Post-Translational Modification (PTM).\n",
    "\n",
    "Negative peptides are *presumably not* modified peptides. These sequences are part of a running project so we will not say much about them excepted that they are not present in the *O*-GlcNAc Database.\n",
    "\n",
    "Disclaimer: We are the authors of both EpyNN and the *O*-GlcNAc Database \\[[1](https://www.nature.com/articles/s41597-021-00810-4), [2](https://academic.oup.com/database/article/doi/10.1093/database/baab039/6323965)\\]."
   ]
  },
  {
   "cell_type": "code",
   "execution_count": 1,
   "metadata": {},
   "outputs": [
    {
     "name": "stdout",
     "output_type": "stream",
     "text": [
      "\u001b[1m\u001b[32mMake: /media/synthase/beta/EpyNN/nnlive/ptm_protein/datasets\u001b[0m\n",
      "\u001b[1m\u001b[32mMake: /media/synthase/beta/EpyNN/nnlive/ptm_protein/models\u001b[0m\n",
      "\u001b[1m\u001b[32mMake: /media/synthase/beta/EpyNN/nnlive/ptm_protein/plots\u001b[0m\n",
      "\u001b[1m\u001b[32mMake: ptm_prediction_data.tar\u001b[0m\n"
     ]
    }
   ],
   "source": [
    "# EpyNN/nnlive/ptm_protein/train.ipynb\n",
    "# Standard library imports\n",
    "import random\n",
    "\n",
    "# Related third party imports\n",
    "import numpy as np\n",
    "\n",
    "# Local application/library specific imports\n",
    "import nnlibs.initialize\n",
    "from nnlibs.commons.library import (\n",
    "    configure_directory,\n",
    "    read_model,\n",
    ")\n",
    "from nnlibs.commons.maths import relu, softmax\n",
    "from nnlibs.network.models import EpyNN\n",
    "from nnlibs.embedding.models import Embedding\n",
    "from nnlibs.lstm.models import LSTM\n",
    "from nnlibs.flatten.models import Flatten\n",
    "from nnlibs.dropout.models import Dropout\n",
    "from nnlibs.dense.models import Dense\n",
    "from prepare_dataset import (\n",
    "    prepare_dataset,\n",
    "    download_sequences,\n",
    ")\n",
    "from settings import se_hPars\n",
    "\n",
    "\n",
    "########################## CONFIGURE ##########################\n",
    "random.seed(1)\n",
    "\n",
    "np.set_printoptions(threshold=10)\n",
    "\n",
    "np.seterr(all='warn')\n",
    "np.seterr(under='ignore')\n",
    "\n",
    "configure_directory()\n",
    "\n",
    "############################ DATASET ##########################\n",
    "download_sequences()\n",
    "\n",
    "X_features, Y_label = prepare_dataset(N_SAMPLES=1280)"
   ]
  },
  {
   "cell_type": "markdown",
   "metadata": {},
   "source": [
    "Let's inspect our data."
   ]
  },
  {
   "cell_type": "code",
   "execution_count": 2,
   "metadata": {},
   "outputs": [
    {
     "name": "stdout",
     "output_type": "stream",
     "text": [
      "1280\n",
      "21\n",
      "['T', 'A', 'A', 'M', 'R', 'N', 'T', 'K', 'R', 'G', 'S', 'W', 'Y', 'I', 'E', 'A', 'L', 'A', 'Q', 'V', 'F']\n",
      "0\n"
     ]
    }
   ],
   "source": [
    "print(len(X_features))     # Number of sequences (samples)\n",
    "print(len(X_features[0]))  # Length of sequence (features)\n",
    "print(X_features[0])       # First sequence\n",
    "print(Y_label[0])          # Associated label"
   ]
  },
  {
   "cell_type": "markdown",
   "metadata": {},
   "source": [
    "Note that this sequence has zero-label, meaning that it is presumably not modified.\n",
    "\n",
    "However."
   ]
  },
  {
   "cell_type": "code",
   "execution_count": 3,
   "metadata": {},
   "outputs": [
    {
     "name": "stdout",
     "output_type": "stream",
     "text": [
      "['T', 'A', 'A', 'M', 'R', 'N', 'T', 'K', 'R', 'G'] S ['W', 'Y', 'I', 'E', 'A', 'L', 'A', 'Q', 'V', 'F']\n"
     ]
    }
   ],
   "source": [
    "print(X_features[0][:10], X_features[0][10], X_features[0][11:])"
   ]
  },
  {
   "cell_type": "markdown",
   "metadata": {},
   "source": [
    "Note the 11th amino-acids is a serine (S), although this sequence is presumably not modified.\n",
    "\n",
    "Time to recall that *O*-GlcNAcylation does impact a subset of serine and threonine within the whole set of such amino-acids in proteins.\n",
    "\n",
    "All sequences in this exemple were centered: 10 amino-acids on the left side; the S or T amino-acid; ten other amino-acids on the right side.\n",
    "\n",
    "Negative sequences all contain a S or a T at the 11th position, as the positive sequences do. This to avoid biasing the problem: it is of interest to know which sequence containing S or T may be modified. But it has no interest to train a network at finding out that sequences with no S or T will not be modified. That's trivial.\n",
    "\n",
    "About N- and C- terminal moities of proteins which are prone to PTMs: on those we can not follow the format \\[10 amino-acids\\] \\[S or T\\] \\[10 amino-acids\\] just because if S/T is at position 6, there is only 5 amino-acids on the left side.\n",
    "\n",
    "Below is a list of options in this case:\n",
    "\n",
    "* **Exclude those peptides**: Well, this is the *technically* best option but in terms of biological relevance that is the worse: because protein extremities are most often unstructured and/or solvent-exposed, they are over-represented to undergo modifications. So we must include them otherwise our dataset will not be representative of the problem.\n",
    "* **Go with \\[5 amino-acids\\] \\[S or T\\] \\[10 amino-acids\\]**: While this can be done using recurrent architectures which accepts input sequences of variable length, it can not be done with pure Feed-Forward networks. Recurrent architectures process the sequence steps one by one and the weights are defined with respect to the number of recurrent cells and vocabulary size, not the length of the sequence. But Feed-Forward network and precisely the *dense* layer has one dimension less compared to the *RNN* layer. Weight shape is defined with respect to the number of nodes and features. Therefore, if the latter changes, the maths can not operate as it is.\n",
    "* **Pad the sequence such as \\[0, 0, 0, 0, 0\\] \\[5 amino-acids\\] \\[S or T\\] \\[10 amino-acids\\]**: This enables to include such peptides in our dataset regardless if we intend to use Feed-Forward or recurrent architectures. Moreover, it preserves the centering around the 11th position and explicitely states that *\"the number of padding characters is proportional to the closeness of the S/T from the protein first (left side) or last (right side) amino-acid\"*\n",
    "\n",
    "We have choosen the last option, padding, and used the character ``_`` instead of zero to avoid confusion between data types."
   ]
  },
  {
   "cell_type": "code",
   "execution_count": 4,
   "metadata": {},
   "outputs": [
    {
     "name": "stdout",
     "output_type": "stream",
     "text": [
      "GTEGKSRGSSSSSRCL_____\n",
      "SASGAASTTTTASKAQ_____\n",
      "CSIPSIKPPSTAN________\n",
      "VGNFTGAKQASSQSWVPG___\n",
      "PNQSFPHSVKTTTHSWVSG__\n",
      "_______MIATPLKHSRIYLP\n",
      "________MKTPNAQEAEGQQ\n",
      "________MPSDLAKKKAAKK\n",
      "______MDPNTIIEALRGTMD\n",
      "___MAAAAELSLLEKSLGLSK\n"
     ]
    }
   ],
   "source": [
    "print('\\n'.join([''.join(features) for features in X_features if '_' in features][0:10]))"
   ]
  },
  {
   "cell_type": "markdown",
   "metadata": {},
   "source": [
    "Therefore, the character ``_`` is part of our vocabulary size along with the 20 canonical amino-acids."
   ]
  },
  {
   "cell_type": "markdown",
   "metadata": {},
   "source": [
    "## Feed-Forward (FF)"
   ]
  },
  {
   "cell_type": "markdown",
   "metadata": {},
   "source": [
    "We will give it a quick try with a 2-layers Feed-Foward network regularized by a double dropout. We already had much discussions about this architecture in other notebook so we pass. \n",
    "\n",
    "Just note that the following network consider each data point as independant from others around. Said differently, it considers *a priori* that the probability of a given residue type at position ``i`` is unrelated to the residue type at position ``i - 1``. Which we know is not true. Amino-acids have each their own distribution, but the arrangement of amino-acids between each others in proteins is not random, there are more frequent combinations with respect to amino-acids distributions."
   ]
  },
  {
   "cell_type": "markdown",
   "metadata": {},
   "source": [
    "### Embedding"
   ]
  },
  {
   "cell_type": "markdown",
   "metadata": {},
   "source": [
    "We proceed with one-hot encoding of sample string features and label."
   ]
  },
  {
   "cell_type": "code",
   "execution_count": 5,
   "metadata": {},
   "outputs": [],
   "source": [
    "embedding = Embedding(X_data=X_features,\n",
    "                      Y_data=Y_label,\n",
    "                      X_encode=True,\n",
    "                      Y_encode=True,\n",
    "                      batch_size=32,\n",
    "                      relative_size=(2, 1, 0))"
   ]
  },
  {
   "cell_type": "markdown",
   "metadata": {},
   "source": [
    "We have set a batch size of 32, this setting is empirical. You may want to change it and see."
   ]
  },
  {
   "cell_type": "markdown",
   "metadata": {},
   "source": [
    "### Flatten-(Dense)n with Dropout"
   ]
  },
  {
   "cell_type": "markdown",
   "metadata": {},
   "source": [
    "Since we already discussed this architecture (e.g. ), we proceed readily."
   ]
  },
  {
   "cell_type": "code",
   "execution_count": 6,
   "metadata": {
    "tags": []
   },
   "outputs": [],
   "source": [
    "name = 'Flatten_Dropout-02_Dense-64-relu_Dropout-03_Dense-2-softmax'\n",
    "\n",
    "se_hPars['learning_rate'] = 0.001\n",
    "\n",
    "flatten = Flatten()\n",
    "\n",
    "dropout1 = Dropout(drop_prob=0.2)\n",
    "\n",
    "hidden_dense = Dense(64, relu)\n",
    "\n",
    "dropout2 = Dropout(drop_prob=0.3)\n",
    "\n",
    "dense = Dense(2, softmax)\n",
    "\n",
    "layers = [embedding, flatten, dropout1, hidden_dense, dropout2, dense]\n",
    "\n",
    "model = EpyNN(layers=layers, name=name)"
   ]
  },
  {
   "cell_type": "markdown",
   "metadata": {
    "tags": []
   },
   "source": [
    "We can go ahead and initialize the model."
   ]
  },
  {
   "cell_type": "code",
   "execution_count": 7,
   "metadata": {
    "tags": []
   },
   "outputs": [
    {
     "name": "stdout",
     "output_type": "stream",
     "text": [
      "\u001b[1m--- EpyNN Check OK! ---                                                                             \u001b[0m\r"
     ]
    }
   ],
   "source": [
    "model.initialize(loss='MSE', seed=1, se_hPars=se_hPars.copy(), end='\\r')"
   ]
  },
  {
   "cell_type": "markdown",
   "metadata": {},
   "source": [
    "Start the training."
   ]
  },
  {
   "cell_type": "code",
   "execution_count": 8,
   "metadata": {},
   "outputs": [
    {
     "name": "stdout",
     "output_type": "stream",
     "text": [
      "\u001b[1m\u001b[37mEpoch 99 - Batch 25/25 - Accuracy: 0.969 Cost: 0.05861 - TIME: 25.6s RATE: 2.92e+02e/s TTC: 0s      \u001b[0m\n",
      "\n",
      "+-------+----------+----------+-------+----------+-------+-------+------------------------------------------------------------------------+\n",
      "| \u001b[1m\u001b[37mepoch\u001b[0m |  \u001b[1m\u001b[37mlrate\u001b[0m   |  \u001b[1m\u001b[37mlrate\u001b[0m   |       | \u001b[1m\u001b[32maccuracy\u001b[0m |       |  \u001b[1m\u001b[31mMSE\u001b[0m  |                               \u001b[37mExperiment\u001b[0m                               |\n",
      "|       |  \u001b[37mDense\u001b[0m   |  \u001b[37mDense\u001b[0m   |  \u001b[1m\u001b[32m(0)\u001b[0m  |   \u001b[1m\u001b[32m(1)\u001b[0m    |  \u001b[1m\u001b[31m(0)\u001b[0m  |  \u001b[1m\u001b[31m(1)\u001b[0m  |                                                                        |\n",
      "+-------+----------+----------+-------+----------+-------+-------+------------------------------------------------------------------------+\n",
      "|   \u001b[1m\u001b[37m0\u001b[0m   | \u001b[1m\u001b[37m1.00e-03\u001b[0m | \u001b[1m\u001b[37m1.00e-03\u001b[0m | \u001b[1m\u001b[32m0.518\u001b[0m |  \u001b[1m\u001b[32m0.431\u001b[0m   | \u001b[1m\u001b[31m0.256\u001b[0m | \u001b[1m\u001b[31m0.271\u001b[0m | \u001b[37m1631326466_Flatten_Dropout-02_Dense-64-relu_Dropout-03_Dense-2-softmax\u001b[0m |\n",
      "|  \u001b[1m\u001b[37m10\u001b[0m   | \u001b[1m\u001b[37m1.00e-03\u001b[0m | \u001b[1m\u001b[37m1.00e-03\u001b[0m | \u001b[1m\u001b[32m0.642\u001b[0m |  \u001b[1m\u001b[32m0.625\u001b[0m   | \u001b[1m\u001b[31m0.221\u001b[0m | \u001b[1m\u001b[31m0.228\u001b[0m | \u001b[37m1631326466_Flatten_Dropout-02_Dense-64-relu_Dropout-03_Dense-2-softmax\u001b[0m |\n",
      "|  \u001b[1m\u001b[37m20\u001b[0m   | \u001b[1m\u001b[37m1.00e-03\u001b[0m | \u001b[1m\u001b[37m1.00e-03\u001b[0m | \u001b[1m\u001b[32m0.726\u001b[0m |  \u001b[1m\u001b[32m0.665\u001b[0m   | \u001b[1m\u001b[31m0.187\u001b[0m | \u001b[1m\u001b[31m0.214\u001b[0m | \u001b[37m1631326466_Flatten_Dropout-02_Dense-64-relu_Dropout-03_Dense-2-softmax\u001b[0m |\n",
      "|  \u001b[1m\u001b[37m30\u001b[0m   | \u001b[1m\u001b[37m1.00e-03\u001b[0m | \u001b[1m\u001b[37m1.00e-03\u001b[0m | \u001b[1m\u001b[32m0.764\u001b[0m |  \u001b[1m\u001b[32m0.696\u001b[0m   | \u001b[1m\u001b[31m0.165\u001b[0m | \u001b[1m\u001b[31m0.192\u001b[0m | \u001b[37m1631326466_Flatten_Dropout-02_Dense-64-relu_Dropout-03_Dense-2-softmax\u001b[0m |\n",
      "|  \u001b[1m\u001b[37m40\u001b[0m   | \u001b[1m\u001b[37m1.00e-03\u001b[0m | \u001b[1m\u001b[37m1.00e-03\u001b[0m | \u001b[1m\u001b[32m0.796\u001b[0m |  \u001b[1m\u001b[32m0.740\u001b[0m   | \u001b[1m\u001b[31m0.147\u001b[0m | \u001b[1m\u001b[31m0.185\u001b[0m | \u001b[37m1631326466_Flatten_Dropout-02_Dense-64-relu_Dropout-03_Dense-2-softmax\u001b[0m |\n",
      "|  \u001b[1m\u001b[37m50\u001b[0m   | \u001b[1m\u001b[37m1.00e-03\u001b[0m | \u001b[1m\u001b[37m1.00e-03\u001b[0m | \u001b[1m\u001b[32m0.829\u001b[0m |  \u001b[1m\u001b[32m0.747\u001b[0m   | \u001b[1m\u001b[31m0.130\u001b[0m | \u001b[1m\u001b[31m0.176\u001b[0m | \u001b[37m1631326466_Flatten_Dropout-02_Dense-64-relu_Dropout-03_Dense-2-softmax\u001b[0m |\n",
      "|  \u001b[1m\u001b[37m60\u001b[0m   | \u001b[1m\u001b[37m1.00e-03\u001b[0m | \u001b[1m\u001b[37m1.00e-03\u001b[0m | \u001b[1m\u001b[32m0.846\u001b[0m |  \u001b[1m\u001b[32m0.733\u001b[0m   | \u001b[1m\u001b[31m0.122\u001b[0m | \u001b[1m\u001b[31m0.181\u001b[0m | \u001b[37m1631326466_Flatten_Dropout-02_Dense-64-relu_Dropout-03_Dense-2-softmax\u001b[0m |\n",
      "|  \u001b[1m\u001b[37m70\u001b[0m   | \u001b[1m\u001b[37m1.00e-03\u001b[0m | \u001b[1m\u001b[37m1.00e-03\u001b[0m | \u001b[1m\u001b[32m0.843\u001b[0m |  \u001b[1m\u001b[32m0.700\u001b[0m   | \u001b[1m\u001b[31m0.117\u001b[0m | \u001b[1m\u001b[31m0.184\u001b[0m | \u001b[37m1631326466_Flatten_Dropout-02_Dense-64-relu_Dropout-03_Dense-2-softmax\u001b[0m |\n",
      "|  \u001b[1m\u001b[37m80\u001b[0m   | \u001b[1m\u001b[37m1.00e-03\u001b[0m | \u001b[1m\u001b[37m1.00e-03\u001b[0m | \u001b[1m\u001b[32m0.855\u001b[0m |  \u001b[1m\u001b[32m0.731\u001b[0m   | \u001b[1m\u001b[31m0.111\u001b[0m | \u001b[1m\u001b[31m0.173\u001b[0m | \u001b[37m1631326466_Flatten_Dropout-02_Dense-64-relu_Dropout-03_Dense-2-softmax\u001b[0m |\n",
      "|  \u001b[1m\u001b[37m90\u001b[0m   | \u001b[1m\u001b[37m1.00e-03\u001b[0m | \u001b[1m\u001b[37m1.00e-03\u001b[0m | \u001b[1m\u001b[32m0.879\u001b[0m |  \u001b[1m\u001b[32m0.742\u001b[0m   | \u001b[1m\u001b[31m0.099\u001b[0m | \u001b[1m\u001b[31m0.175\u001b[0m | \u001b[37m1631326466_Flatten_Dropout-02_Dense-64-relu_Dropout-03_Dense-2-softmax\u001b[0m |\n",
      "|  \u001b[1m\u001b[37m99\u001b[0m   | \u001b[1m\u001b[37m1.00e-03\u001b[0m | \u001b[1m\u001b[37m1.00e-03\u001b[0m | \u001b[1m\u001b[32m0.882\u001b[0m |  \u001b[1m\u001b[32m0.721\u001b[0m   | \u001b[1m\u001b[31m0.096\u001b[0m | \u001b[1m\u001b[31m0.177\u001b[0m | \u001b[37m1631326466_Flatten_Dropout-02_Dense-64-relu_Dropout-03_Dense-2-softmax\u001b[0m |\n",
      "+-------+----------+----------+-------+----------+-------+-------+------------------------------------------------------------------------+\n"
     ]
    }
   ],
   "source": [
    "model.train(epochs=100, init_logs=False)"
   ]
  },
  {
   "cell_type": "markdown",
   "metadata": {},
   "source": [
    "We are pretty much overfitting the training data whereas we used a double dropout. "
   ]
  },
  {
   "cell_type": "code",
   "execution_count": 9,
   "metadata": {
    "tags": []
   },
   "outputs": [
    {
     "data": {
      "image/png": "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://epynn.net/5g7rD0PX9OpwnRm5Rfy+4FYftkdRUJGPoE+LgT6ONO3jSd9Atxr3Djqp51nePLXA9w+IIDnx3at0bqNkQ7M1acDcw3pwKxppSVk5vHen8dZsuss1pYWTOnTigm9/Hjxt8OERqby0PCOzL26fbnAVVhkZPGus7z353GSswto6+VIanYBqTmGUsu5O1jzvzFdGde9JYdiMhj3yVbGhbTk3cndAdWV5Ih3N+Nqb81v919ZKscan5FHc2fbcvv+bV8MDyzeQ/+2nsyf3psJn20jM6+QDQ8Pxt7G8tKcqDIKCo0sC4vihh4tcbBp+s19dGCuvqZ/N2iadklIKfn8n3A+3niC/EIjtw9owz1D29HM9O7sD7P68eSvB3hvw3F2RaTwzOhAOrdwQUrJ38cTeXXNEU4kZNG3jQdfXx9YUuxtKDKSbWp4BeBgY4WNlap77ebryr1D2vHhxpNc1bEZsel5LPw3gqSsfN6aFFyuGNm7ki4kx4S0xFBk5JGl+7jmvc1Ep+Xy+S096ywoA9hYWXBzv9Z1tj+t8dA55hrSOWatoVmxJxpnOyuGdT5/RxHmjEZJRHI2ttaWpbp6LOt4fCbPrTzI+5N7lLQqBlUkPOf7MIYHNufp67vQpln5fpillHz3XyRvrz9GVn4hN/VuRXRaLltOJBHg6cCT1wVyTRfvGqW7oNDI2I//LRmg4aoOzbh3aHv6ty03Yut5Ldl1hnm/HOCqDs349o6++l3dS0jnmKtPB+Ya0oFZa0j+PZHELV/tAOCKtp48fX0gnk42/Lo7mpV7o/Fxtefdm0JKeoCSUrI0NIrFu85wNC6TnIIirC0FX9/elys7NKtwH3d9F8r6Q/Hc0r81L98QVLKd8Z9uIzk7n02PDDlva+LU7AI+3HiC77ZH4mhrxQNXd+CW/v4lOeGaOpmQyff/nWFiL79Ku5Ksrr1n02jTzBFXe93d5KWkA3P16cBcQzowaw1FZp6BUe9vwdbKgulX+PPBXydIy1X1s1KqDioORqfT3MWWr27rg4+rHU8tP8hv+2Lo4uNC3zYedPFxYeHW00Sl5rLkrv50bVk6yB2Ny2DU+1vwcLQhM8/ApkeH4OfuwH/hyUz58j9eGteVW68IqHaak7PysbGywNlOB8HLjQ7M1afrmDWtkXp17VH1atKcAfTyd2d8Tz++3qq6Yxzfwxd/T0f2nk1j1rehTPh0Gx5ONpxNyeGxkZ24e3C7kvdqB3X04sZPt3L717v49e4BtPI412PWJ5tO4WhjyQ8z+zHu460https://epynn.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://epynn.net/R26EAqyz80L/xu2fQTL74J/31PTNr2q6nOvewuufQtaBKv55gGiMoeWq+Dj3RXc24BDs3ONnM7uAN+e595hvuJ+yIyBvT9Bh5Fw63K4eQk4ep5/PwAhk2HokxA4GtwDVIAd/zk8egKmr1L1u359VH3vlnfKr3/iT0g/C31mqs89p4NPd/WAUHwvrX+6/ANZ4nF4rwvsWnBumiFP3WtlHyiGPAGOzeCXWXD2P+hxi3qwcPZWaTvym7qH/3oRmnWEELMB9oImqd/mueb/PlPp6zAC5mxRJUBtBqli/bgD1Ttv2kXTgVmrkeSsfH7YEcm4kJb4ezry1sQQnO2s+P1gHMM6N8fH1b5k2Vv6++PrZs+9P+5mwOt/8cQv+3Gxs2JiYyieBsiIhW/Hwvqn1Jfsyb9Ujm3JNFXUB6qe1sJK5aTMBd8EBZlw/Dw5wbWPquJGZx84UEEO22iEFffA6c3qS3Lok+Bu6snM0go6XgM3fqmCc7GAgRC3XxVzmisuWm8zWP3uegMkHau4ODsrQQXif99XPz9OVuehwwi46hE4tvbcA8rxdSoodJ8GeWmw98dz29n8lmr01PVGlUv+9S5VRNxnJrQIUg8xN32jgvuCq+GPZ1V6jEWQeAwOLINdX5laG4erB46uN5xrNNaqr8ox52ep+ttWfc/tu+M1cOef8OgxmDBflSbURmMuWydVhzvgPlVKETxZFcef2lR6uV0LwKkFdLpOfbawhDEfgIOnuphttps://epynn.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://epynn.net/nLe6vDXlHj2ITEFDtUc8KzpzBmJunSzCaMB2Yq68pB+ZqFWULIYYDH6GCcsL5tns5B2ZzEekRhMaH4mnnSSvnVuQX5https://epynn.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://epynn.net/ic+KJzormQOIB1kWsI7cwl0CPwJJBOqwtrLna/2pGBYzSReKaVkd0YK4+HZhrSAfmxiWjIINVJ1fxZ+Sf5BWpurj0/HSis6LxtPNkcqfJ9PPpR4BrAO627nosaU27RHRgrj4dmGtIB+bGT0rJ9tjtfHfhttps://epynn.net/rdkuqutKwN8BjC63WgGtByAlYUVRmkkOTeZw8mH2ZOwh72Je3G2cWZ029EMaTUEW0tVp2cwGpBS6hy4plVCB+bq04G5hnRgblrisuM4kXqCiIwITqSeYOPZjaTnp+Nh54GzjTOxWbEUGAsAsLKwItAjkPjseBJyE3C2dibANYD47HiS8pKQUuLt6E0r51Z09ujMuHbj6OTRqcL9GowGTqWdopN7J51L1y4LOjBXnw7MNaQDc9NmKDKwOXoz60+vx4iRlo4taeHYgg7uHQhqFoSdlR1FxiJ2xO1gTfgaEnISaOHYAm8HbyyEBVGZUZzJPMOR5CMUGAvo6tmV8e3Hc03ANSUDfITGhfLKjlc4mXaSK3yu4On+T+Pv4l8uLWl5aexN3EuIV0itDg6iafVBB+bq04G5hnRg1qojLS+NNafXsOz4Mk6mncRSWNLPpx8uNi6si1hHS8eWXNf2OhYfXUxBUQG3drm1JDhnGbLYHLWZXXG7KJJF2FvZM7nTZG7reltJAzZNa2x0YK4+HZhrSAdmrSaklBxLPca60+tYF7GO+Jx4ZnSdwazgWdhb2ZOYk8hbu97i94jfS60X4BLAcP/h9PLuxZrwNaw9vRZrC2vau7XHy96L5g7NGRkwkr4+FzbqVFUyCzLZELmBiIwIbgm8BS8Hr/OvpGnnoQNz9enAXEM6MGsXSkqJwWiosIFYUm4ShiLV77WVhRXN7JuVqnuOzIjkp6M/EZERQWJOIjFZMWQZshjhP4JHej+Cr5MviTmJHEk5QkJOAtmGbDILMnG0dqSdWzvauralpVPLCvsdl1ISnRXNrrhdbI7azOaozSX16m62bjzb/1muCbjmEp0V7XKhA3P16cBcQzowaw1BXmEe3xz6hq8OfoVRGnG2cSYpN6nKdWwsbGjp1JKWTi1xsXEhpzCHbEM20VnRxGXHAeBp58moNqO4rs11ONk48fSWpzmYfJChrYaW7CPbkM3YdmMZ33481paNq5MLrf7owFx9OjDXkA7MWkMSlx3HF/u/oKCogECPQAI9A/F18sXJ2gkHawcyCzI5nX6ak2knOZNxhuisaKKzoskyZOFg5YCjtSPN7JvR07snfbz70M6tXamcusFoYMH+BXx3+DscrB3wsvfCYDRwLPUYvk6+3NHtDlxtXUnKTSI9P53BfoPp2qxryfpSSsLiw4jMiCS9IJ30/HQshSWutq642Ljg5+xHV8+uOFiXH9Naa1p0YK4+HZhrSAdm7XInpWRrzFY+2vMRh5MPl5s/vPVw5oTM4WTaSb4++DXHUo+VzLOysEJKWar7VAthQXu39rRza4eHnQfutu60cm5FP59+eNpXPWymURo5nX6ahJwE+vn0u6AhQrMKsrCzssPKwqrG62rVpwNz9enAXEM6MGuaIqXkUPIhrC2s8XLwwtrCmu+PfM83h74h25ANQFvXttze9Xb6+/TH1dYVeyt7ALIN2aQXpBOeFs7+pP3sT9zPmYwzpOanlqwLEOgRSP+W/enfoj89vHtgZ2nH6fTTbI3Zys7YnexJ3EN6vhoPuk+LPrx65au0cGxx3rQbjAY2R23m1https://epynn.net/0v/g4+nBn0J2MazdOdxJziejAXH06MNeQDsyaVrW0vDRWnlqJv4s/g/wG1TgXm1+Uz4nUE2yP2c7WmK3sS9xHobEQKwsr3G3dScxNBMDfxZ+ezXvSo3kP8ovyeTfsXawsrHis92O427kTnx1PSn4Kndw70btFb1xsXDibcZZfTvzCylMrScpNwsvei2vbXMvu+N0cTD6It4M3I/xHlOTgC4oKOJF2ghOpJ3C3c2dChwn4OfsBcCrtFAsPLiQ9P517u99LoGdgrZ/LpkQH5upr0oFZCDEK+ACwBBZIKV8vM38Q8D4QDEyRUi473zZ1YNa0upVjyGF3wm52xO4gPiee3t69Geg7EF8n31LLnc04yxP/PsH+xP3ltmEhLGjt3LpkRLKr/K5iYoeJDPQdWFK8vj1mOwsPLmRf4r6SftWLudq6klWQhVEaGeQ3CGsLa/468xd2VnbYWdqRXpDO5E6Tua/HfbjYnBtqMjwtnD8i/yA8LZwbO95Ivxb9EEIgpWTj2Y2sCV9DF88uDGs9jLau5Yc9bUp0YK6+JhuYhRCWwHFgBBAF7AKmSikPmy0TALgAjwKrdGDWtMat0FjIrrhdOFk74e3ojYuNCweTDrIzbicHkg7Q3as7N7S/AW9H70q3YZRGYrJiCE8Px8rCio7uHfG08yQ+J56lx5ey7PgyDEUGpgZO5ZbAW7C0sOSjhttps://epynn.net/GfscACD3sPPO08yS/KJzw9HIHAycaJzIJMenn34vq217P02FKOpBzBzdaNtPw0ANq4tmFgy4Fc0fIKenv3Ji0/jSPJRzieehxfZ18GtBxwUR3M5BhyiM6Kpp1buwuqi79YOjBXX1MOzFcAz0spR5o+PwkgpXytgmUXAat1YNY07XwKjYVIJNYWpV8VO5x8mD8j/yQpN4mkXNV3+iC/QQz3H46rrSvLji9jwYEFJOUm4evky90hd3N92+tJyk1i45mNbDq7id3xu0veIa9IoEcgrrauZBZkklmQiZudG908u9G1WVfauLTB094TDzsP7KzsSq13LOUYD256kKisKJrbN2do66EMbTWUnt49S+r9z8dgVO/Zlz3u6tKBufqacmCeCIySUs40fb4V6CelvK+CZRdRRWAWQswGZgO0bt26V2Rk5CVLt6ZpTVdeYR6Hkw8T5BVUYYDLK8xjb+Je9sTvwdPeky6eXWjn1o6I9Ai2xmxle8x28ovycbZxxtnamficeI6kHCG3MLfUdlo7t2ZMuzGMaTeG/Yn7+d+2/+Fs7cwdQXcQGhfK1pit5BbmYmVhRXCzYEKah+Bi44KtpS22lrZYCAsshAUFRQUcTz1eknP/cNiHDPQdeEHHrgNz9enAjM4xa5rWeBUZizidfpqorCiSc5NJzktmR+wOdsbtLFmmZ/OevDPknZKi8LzCPELjQ9kZt5Ndsbs4knKk1Cts5pxtnOni0YVAz0DGtRtHe/f2F5ROHZirrym/uBcNtDL77Geapmma1mRYWljS3r19qYA5O3g20VnRrD61GisLK6Z3mV6qlzY7Kzuu9L2SK32vBNSrb4XGQnKLcskvzMcojUgkFsICL3svPTRpHWvKgXkX0EEI0QYVkKcAN9dvkjRN0+qGr5Mvd4XcVa1lhRBYW1qr4K1f4653dd80r45IKQuB+4D1wBHgZynlISHEi0KIsQBCiD5CiChgEvCFEOJQ/aVY0zRN05p2jhkp5VpgbZlpz5n9vQtVxK1pmqZpDUKTzTFrmqZpWmOkA7OmaZqmNSA6MGuapmlaA6IDs6ZpmqY1IDowa5qmaVoDogOzpmmapjUgTbZLzktFCJEIXGhn2c2ApFpMTmNxOR735XjMcHke9+V4zFDz4/aXUnpdqsQ0JTow1yEhROjl2Ffs5Xjcl+Mxw+V53JfjMcPle9x1QRdla5qmaVoDogOzpmmapjUgOjDXrS/rOwH15HI87svxmOHyPO7L8Zjh8j3uS07XMWuapmlaA6JzzJqmaZrWgOjArGmapmkNiA7MdUQIMUoIcUwIcVII8UR9p+dSEEK0EkJsEkIcFkIcEkI8YJruIYT4UwhxwvTbvb7TWtuEEJZCiD1CiNWmz22EEDtM13uJEKLJDT8vhHATQiwTQhwVQhwRQlxxmVzrh0z390EhxE9CCLumdr2FEAuFEAlCiINm0yq8tkL50HTs+4UQPesv5U2DDsx1QAhhCXwCXAt0AaYKIbrUb6ouiULgESllFhttps://epynn.net/pOJ8A/pJSdgD+Mn1uah4Ajph9fgN4T0rZHkgF7qyXVF1aHwDrpJSdgRDU8Tfpay2E8AXmAr2llN0AS2AKTe96LwJGlZlW2bW9Fuhg+pkNfFZHaWyydGCuG32Bk1LKcCllAbAYGFfPaap1UspYKeVu09+ZqC9qX9SxfmNa7BvghnpJ4CUihPADrgcWmD4LYBiwzLRIUzxmV2AQ8BWAlLJASplGE7/WJlaAvRDCCnAAYmli11tKuRlIKTO5sms7DvhWKv8BbkIInzpJaBOlA3Pd8AXOmn2OMk1rsoQQAUAPYAfgLaWMNc2KA7zrK12XyPvA44DR9NkTSJNSFpo+N8Xr3QZIBL42FeEvEEI40sSvtZQyGngbOIMKyOlAGE3/ekPl1/ay+3671HRg1mqdEMIJ+AV4UEqZYT5Pqvfzmsw7ekKI0UCClDKsvtNSx6yAnsBnUsoeQDZliq2b2rUGMNWrjkM9mLQEHClf5NvkNcVr25DowFw3ooFWZp/9TNOaHCGENSoo/yCl/NU0Ob64aMv0O6G+0ncJDATGCiEiUFUUw1B1r26mok5omtc7CoiSUu4wfV6GCtRN+VoDDAdOSykTpZQG4FfUPdDUrzdUfm0vm++3uqIDc93YBXQwtdy0QTUWWVXPaap1prrVr4AjUsp3zWatAm4z/X0bsLKu03apSCmflFL6SSkDUNd1o5RyGrAJmGharEkdM4CUMg44K4ToZJp0NXCYJnytTc4A/YUQDqb7vfi4m/T1Nqns2q4CpptaZ/cH0s2KvLULoHv+qiNCiOtQdZGWwEIp5Sv1m6LaJ4S4EtgCHOBcfetTqHrmn4HWqCEzb5JSlm1Y0ugJIYYAj0opRwsh2qJy0B7AHuAWKWV+PSav1gkhuqMavNkA4cAM1MN+k77WQogXgMmotxD2ADNRdapN5noLIX4ChqCGdowH/gesoIJra3pA+RhVpJ8DzJBShtZDspsMHZg1TdM0rQHRRdmapmma1oDowKxpmqZpDYgOzJqmaZrWgOjArGmapmkNiA7MmqZpmtaA6MCsaQ2MEKJICLHX7KfWBoIQQgSYjxikaVrDY3X+RTRNq2O5Usru9Z0ITdPqh84xa1ojIYSIEEK8KYQ4IITYKYRob5oeIITYaBoL9y8hRGvTdG8hxHIhxD7TzwDTpiyFEPNNYwr/IYSwr7eD0jStHB2YNa3hsS9TlD3ZbF66lDII1dPS+6ZpHwHfSCmDgR+AD03TPwT+kVKGoPqxPmSa3gH4RErZFUgDJlzSo9E0rUZ0z1+a1sAIIbKklE4VTI8Ahkkpw02DhcRJKT2FEEmAj5TSYJoeK6VsJoRIBPzMu4Y0Dcf5p2mwe4QQ8wBrKeXLdXBomqZVg84xa1rjIiv5uybM+3AuQrc10bQGRQdmTWtcJpv93m76extqZCuAaaiBRAD+Au4GEEJYCiFc6yqRmqZdOP2krGkNj70QYq/Z53VSyuJXptyFEPtRud6ppmn3A18LIR4DElGjPAE8AHwphLgTlTO+G9DD8WlaA6frmDWtkTDVMfeWUibVd1o0Tbt0dFG2pmmapjUgOsesaZqmaQ2IzjFrmqZpWgOiA7OmaZqmNSA6MGuapmlaA6IDs6ZpmqY1IDowa5qmaVoD8n/NMfmCWdzkHAAAAABJRU5ErkJggg==\n",
      "text/plain": [
       "<Figure size 432x288 with 1 Axes>"
      ]
     },
     "metadata": {
      "needs_background": "light"
     },
     "output_type": "display_data"
    }
   ],
   "source": [
    "model.plot(path=False)"
   ]
  },
  {
   "cell_type": "markdown",
   "metadata": {
    "tags": []
   },
   "source": [
    "We could try to optimize by using a different loss function, adding one hidden *dense* layer or decreasing the number of nodes while increasing the learning rate etc... But we will not herein, because we want to work with recurrent architectures :).\n",
    "\n",
    "For code, maths and pictures behind the *Flatten*, *Dense* and *Dropout* layers, follow these links:\n",
    "\n",
    "* [Flatten - Adapter](https://epynn.net/Flatten.html)\n",
    "* [Fully Connected (Dense)](https://epynn.net/Dense.html)\n",
    "* [Dropout - Regularization](https://epynn.net/Dropout.html)"
   ]
  },
  {
   "cell_type": "markdown",
   "metadata": {},
   "source": [
    "## Recurrent Architectures"
   ]
  },
  {
   "cell_type": "markdown",
   "metadata": {},
   "source": [
    "Let see the big picture."
   ]
  },
  {
   "cell_type": "markdown",
   "metadata": {},
   "source": [
    "Sequence logo of **Homo sapiens** *O*-GlcNAcylated peptides consensus from [The O-GlcNAc Database Consensus](https://www.oglcnac.mcw.edu/consensus/) page.\n",
    "\n",
    "![Sequence logo Homo-sapens O-GlcNAcylated peptides](dl_seqlogo_ST_Homo.png)"
   ]
  },
  {
   "cell_type": "markdown",
   "metadata": {},
   "source": [
    "This is what is classically looked at when quickly evaluating if a sequence may or may not be modified: herein residues with positive values on the y-axis are over-represented within modified peptides while those with negative y-axis values are under-represented. This with respect to the position on the x-axis.\n",
    "\n",
    "While this plot provides information on amino-acid distribution with respect to a given position, it provides zero information about amino-acid distribution with respect to position in the context of the sequence.\n",
    "\n",
    "Just making a simple drawing:"
   ]
  },
  {
   "cell_type": "code",
   "execution_count": 10,
   "metadata": {},
   "outputs": [],
   "source": [
    "seqA = 'AAA'\n",
    "seqB = 'BBB'"
   ]
  },
  {
   "cell_type": "markdown",
   "metadata": {},
   "source": [
    "The consensus for those two sequences is 50/50 A/B with respect to position in sequence."
   ]
  },
  {
   "cell_type": "code",
   "execution_count": 11,
   "metadata": {},
   "outputs": [],
   "source": [
    "seqA = 'BAB'\n",
    "seqB = 'ABA'"
   ]
  },
  {
   "cell_type": "markdown",
   "metadata": {},
   "source": [
    "The consensus for those two sequences is 50/50 A/B with respect to position in sequence.\n",
    "\n",
    "Said differently: the consensus is the same, while the character patterns are totally unrelated.\n",
    "\n",
    "Conclusion: when representing sequences with metrics that exclude the sequential nature of the data, we may get quite misleading representations overall.\n",
    "\n",
    "That's where the recurrent architectures comes in: it postulates *a priori* that elements in one sequence are linked together. When processing samples features step by step - or position by position -, the output at a given position integrates results gained from the past positions. This intrinsically - hard-written - in the code of the architecture."
   ]
  },
  {
   "cell_type": "markdown",
   "metadata": {},
   "source": [
    "### Embedding"
   ]
  },
  {
   "cell_type": "markdown",
   "metadata": {},
   "source": [
    "Here we use the same embedding settings than for the Feed-Forward network."
   ]
  },
  {
   "cell_type": "code",
   "execution_count": 12,
   "metadata": {},
   "outputs": [],
   "source": [
    "embedding = Embedding(X_data=X_features,\n",
    "                      Y_data=Y_label,\n",
    "                      X_encode=True,\n",
    "                      Y_encode=True,\n",
    "                      batch_size=32,\n",
    "                      relative_size=(2, 1, 0))"
   ]
  },
  {
   "cell_type": "markdown",
   "metadata": {},
   "source": [
    "We may continue with either using *RNN* or *GRU* or *LSTM* layers. We go ahead with LSTM first."
   ]
  },
  {
   "cell_type": "markdown",
   "metadata": {},
   "source": [
    "### LSTM-Dense"
   ]
  },
  {
   "cell_type": "markdown",
   "metadata": {},
   "source": [
    "Briefly, the advtange of using LSTM cells in one LSTM layer is that it *\"retains\"* the information for more sequence steps compared to the simple *RNN*. The drawback is that it takes significantly longer computational time compared to the simple *RNN*."
   ]
  },
  {
   "cell_type": "code",
   "execution_count": 13,
   "metadata": {
    "tags": []
   },
   "outputs": [],
   "source": [
    "name = 'LSTM-8_Dense-2-softmax'\n",
    "\n",
    "se_hPars['learning_rate'] = 0.1\n",
    "se_hPars['softmax_temperature'] = 5\n",
    "\n",
    "lstm = LSTM(8)\n",
    "\n",
    "dense = Dense(2, softmax)\n",
    "\n",
    "layers = [embedding, lstm, dense]\n",
    "\n",
    "model = EpyNN(layers=layers, name=name)"
   ]
  },
  {
   "cell_type": "markdown",
   "metadata": {
    "tags": []
   },
   "source": [
    "Here we have set a *LSTM* layer with 8 units and all defaults.\n",
    "\n",
    "The output of the LSTM layer will be fed in the *dense* output layer."
   ]
  },
  {
   "cell_type": "code",
   "execution_count": 14,
   "metadata": {
    "tags": []
   },
   "outputs": [
    {
     "name": "stdout",
     "output_type": "stream",
     "text": [
      "\u001b[1m--- EpyNN Check OK! ---                                                                             \u001b[0m\r"
     ]
    }
   ],
   "source": [
    "model.initialize(loss='MSE', seed=1, se_hPars=se_hPars.copy(), end='\\r')"
   ]
  },
  {
   "cell_type": "markdown",
   "metadata": {},
   "source": [
    "Train the model."
   ]
  },
  {
   "cell_type": "code",
   "execution_count": 15,
   "metadata": {},
   "outputs": [
    {
     "name": "stdout",
     "output_type": "stream",
     "text": [
      "\u001b[1m\u001b[37mEpoch 19 - Batch 25/25 - Accuracy: 0.938 Cost: 0.04921 - TIME: 11.11s RATE: 5.20e+01e/s TTC: 0s     \u001b[0m\n",
      "\n",
      "+-------+----------+----------+-------+----------+-------+-------+-----------------------------------+\n",
      "| \u001b[1m\u001b[37mepoch\u001b[0m |  \u001b[1m\u001b[37mlrate\u001b[0m   |  \u001b[1m\u001b[37mlrate\u001b[0m   |       | \u001b[1m\u001b[32maccuracy\u001b[0m |       |  \u001b[1m\u001b[31mMSE\u001b[0m  |            \u001b[37mExperiment\u001b[0m             |\n",
      "|       |   \u001b[37mLSTM\u001b[0m   |  \u001b[37mDense\u001b[0m   |  \u001b[1m\u001b[32m(0)\u001b[0m  |   \u001b[1m\u001b[32m(1)\u001b[0m    |  \u001b[1m\u001b[31m(0)\u001b[0m  |  \u001b[1m\u001b[31m(1)\u001b[0m  |                                   |\n",
      "+-------+----------+----------+-------+----------+-------+-------+-----------------------------------+\n",
      "|   \u001b[1m\u001b[37m0\u001b[0m   | \u001b[1m\u001b[37m1.00e-01\u001b[0m | \u001b[1m\u001b[37m1.00e-01\u001b[0m | \u001b[1m\u001b[32m0.530\u001b[0m |  \u001b[1m\u001b[32m0.520\u001b[0m   | \u001b[1m\u001b[31m0.237\u001b[0m | \u001b[1m\u001b[31m0.245\u001b[0m | \u001b[37m1631326492_LSTM-8_Dense-2-softmax\u001b[0m |\n",
      "|   \u001b[1m\u001b[37m2\u001b[0m   | \u001b[1m\u001b[37m1.00e-01\u001b[0m | \u001b[1m\u001b[37m1.00e-01\u001b[0m | \u001b[1m\u001b[32m0.491\u001b[0m |  \u001b[1m\u001b[32m0.501\u001b[0m   | \u001b[1m\u001b[31m0.423\u001b[0m | \u001b[1m\u001b[31m0.417\u001b[0m | \u001b[37m1631326492_LSTM-8_Dense-2-softmax\u001b[0m |\n",
      "|   \u001b[1m\u001b[37m4\u001b[0m   | \u001b[1m\u001b[37m1.00e-01\u001b[0m | \u001b[1m\u001b[37m1.00e-01\u001b[0m | \u001b[1m\u001b[32m0.666\u001b[0m |  \u001b[1m\u001b[32m0.639\u001b[0m   | \u001b[1m\u001b[31m0.212\u001b[0m | \u001b[1m\u001b[31m0.220\u001b[0m | \u001b[37m1631326492_LSTM-8_Dense-2-softmax\u001b[0m |\n",
      "|   \u001b[1m\u001b[37m6\u001b[0m   | \u001b[1m\u001b[37m1.00e-01\u001b[0m | \u001b[1m\u001b[37m1.00e-01\u001b[0m | \u001b[1m\u001b[32m0.771\u001b[0m |  \u001b[1m\u001b[32m0.759\u001b[0m   | \u001b[1m\u001b[31m0.162\u001b[0m | \u001b[1m\u001b[31m0.171\u001b[0m | \u001b[37m1631326492_LSTM-8_Dense-2-softmax\u001b[0m |\n",
      "|   \u001b[1m\u001b[37m8\u001b[0m   | \u001b[1m\u001b[37m1.00e-01\u001b[0m | \u001b[1m\u001b[37m1.00e-01\u001b[0m | \u001b[1m\u001b[32m0.804\u001b[0m |  \u001b[1m\u001b[32m0.782\u001b[0m   | \u001b[1m\u001b[31m0.141\u001b[0m | \u001b[1m\u001b[31m0.152\u001b[0m | \u001b[37m1631326492_LSTM-8_Dense-2-softmax\u001b[0m |\n",
      "|  \u001b[1m\u001b[37m10\u001b[0m   | \u001b[1m\u001b[37m1.00e-01\u001b[0m | \u001b[1m\u001b[37m1.00e-01\u001b[0m | \u001b[1m\u001b[32m0.825\u001b[0m |  \u001b[1m\u001b[32m0.815\u001b[0m   | \u001b[1m\u001b[31m0.121\u001b[0m | \u001b[1m\u001b[31m0.132\u001b[0m | \u001b[37m1631326492_LSTM-8_Dense-2-softmax\u001b[0m |\n",
      "|  \u001b[1m\u001b[37m12\u001b[0m   | \u001b[1m\u001b[37m1.00e-01\u001b[0m | \u001b[1m\u001b[37m1.00e-01\u001b[0m | \u001b[1m\u001b[32m0.817\u001b[0m |  \u001b[1m\u001b[32m0.796\u001b[0m   | \u001b[1m\u001b[31m0.129\u001b[0m | \u001b[1m\u001b[31m0.140\u001b[0m | \u001b[37m1631326492_LSTM-8_Dense-2-softmax\u001b[0m |\n",
      "|  \u001b[1m\u001b[37m14\u001b[0m   | \u001b[1m\u001b[37m1.00e-01\u001b[0m | \u001b[1m\u001b[37m1.00e-01\u001b[0m | \u001b[1m\u001b[32m0.837\u001b[0m |  \u001b[1m\u001b[32m0.831\u001b[0m   | \u001b[1m\u001b[31m0.114\u001b[0m | \u001b[1m\u001b[31m0.125\u001b[0m | \u001b[37m1631326492_LSTM-8_Dense-2-softmax\u001b[0m |\n",
      "|  \u001b[1m\u001b[37m16\u001b[0m   | \u001b[1m\u001b[37m1.00e-01\u001b[0m | \u001b[1m\u001b[37m1.00e-01\u001b[0m | \u001b[1m\u001b[32m0.843\u001b[0m |  \u001b[1m\u001b[32m0.827\u001b[0m   | \u001b[1m\u001b[31m0.112\u001b[0m | \u001b[1m\u001b[31m0.123\u001b[0m | \u001b[37m1631326492_LSTM-8_Dense-2-softmax\u001b[0m |\n",
      "|  \u001b[1m\u001b[37m18\u001b[0m   | \u001b[1m\u001b[37m1.00e-01\u001b[0m | \u001b[1m\u001b[37m1.00e-01\u001b[0m | \u001b[1m\u001b[32m0.832\u001b[0m |  \u001b[1m\u001b[32m0.841\u001b[0m   | \u001b[1m\u001b[31m0.113\u001b[0m | \u001b[1m\u001b[31m0.124\u001b[0m | \u001b[37m1631326492_LSTM-8_Dense-2-softmax\u001b[0m |\n",
      "|  \u001b[1m\u001b[37m19\u001b[0m   | \u001b[1m\u001b[37m1.00e-01\u001b[0m | \u001b[1m\u001b[37m1.00e-01\u001b[0m | \u001b[1m\u001b[32m0.838\u001b[0m |  \u001b[1m\u001b[32m0.836\u001b[0m   | \u001b[1m\u001b[31m0.111\u001b[0m | \u001b[1m\u001b[31m0.122\u001b[0m | \u001b[37m1631326492_LSTM-8_Dense-2-softmax\u001b[0m |\n",
      "+-------+----------+----------+-------+----------+-------+-------+-----------------------------------+\n"
     ]
    }
   ],
   "source": [
    "model.train(epochs=20, init_logs=False)"
   ]
  },
  {
   "cell_type": "markdown",
   "metadata": {},
   "source": [
    "Plot results."
   ]
  },
  {
   "cell_type": "code",
   "execution_count": 16,
   "metadata": {
    "tags": []
   },
   "outputs": [
    {
     "data": {
      "image/png": "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://epynn.net/luRxpfb8tmWZySNAd1COD+5G5OTYxgUG9rod9t/tIL3Vx3g43XZlFRZ6ds1mOtH9WTakDhC3Iucyg7D1v/Cpo8g92djnMmnQZl8pFvZfMNxURAUDZYAUAoOb4Hti4xin8NbjPXFDIYBF8HAi4x+T/8tTpFOBJrWBpRSZBdVGQf+zELWZBax54jxTh1fHxODYkMJsJjrLWNSdrrbskhyHvSTrLtJtO7FXxnlxrX4kmnpTaalD6USxMSKzwmnjK/sw3jRdiU7VA9C3O6E6elMDj2iAukZFUhMyGneGXN0D/z4Emyci3LYsAV2Jd/UhZ3VEeysDiNXRWGJ7EnffgMZkZZCr4T4Ex8Iq4ph/Xvw0xtGUgnrASN+SXavK1myt5olWw+xNrMQh4L4iADOH2QkhSE9IvhuVz7vrTrA97vy8TEJkwd34/qzejIyKfJYwqgpMw7Wmz+CfctAOaBbCiRPA7MfVBa4dYXGVU1dP00cDy2B4OMPVYWAQI+zjIP/gF9AZNKp7982pBOBpnmAw6HYdaSMNfsLWZ1ZxJr9hRwqNQ7gIf4+ZPSMYHhSJMMTI0mJC8Pf5ID8HZC7AfI2Qt4GOLQFbFXGCi2B0C0VuqdDbBrEpkN0PzC7VeVVl2Jd8U9Mq17FXFvKvq7nsyjqRtZWdOVgQQXZRVXY3K46/HxM9Ig0kkJ8RCAANocDm11htSu3fgc2h/PTrkio2cUlZXMZVfsjVix8YZnIvx0Xs7kiDLNJGJEYyeTkGM5P7kb38IBT24F2G+xcDD+9Bgd+BEsQpF8DI2/nqH8Pvtl+mCVbD/PD7qPU2h1YzILVrogJ9ePaET25ekTCsTtobLWw9xvjzH/nF8Y+De8BKVdCylXQdUAL/qB2qC4xkkLF0QYJo8CYFp8B/S+E4K6n9p29SCcCTWsFNTY7m7NLWJNZxJrMQtZmFlJabQMgJtSP4YmRjEiKJKNnJP27hWCuOxO322Dl3+G758BaaYzzDYHYVONgH5tmHPyj+hi3F7ZEVRGs+IdxELVWGge7cfdjC0skt7iaA4UV9So9DxZUkltcBQIWswkfkxifZjnWb4JU+zauqvqI9Np1VEogS0MvYWn4ZVT5RePvY+asXpFMHBhDRJBv6+7cvI3w0+uw+WOw10KfiTDy19D7PMqtDpbtPMKa/YWM6h3FhIExWMwmo44i6yfjzH/rfGOfBETC4MuMBJAwst0W03iDTgRah2a1O/jn0r28tyqTsAALcRGBxIX70z0sgLiIALqHBxAXHkC3MH/jAHGKamx28oqryS2uIru4itziKnKKqsgtqSK3uJqcoipq7Q4AenUJYkSicbY/PDGShMiAxsvp83fBgl9Dzlro/wvjIBWbDpG9wNQKd4BUFMCPf4PVbxoH0CEz4JzfG2fDLaUU7FoCP7xoHFiDusBZv4bhtxkVq22pPB/WvQNr3oLyw8YV0chfQdo14OusRD6y3Tjz3zzPKFryCTCKaFKvgt7ngdkzt6V2dF5LBCIyBXgZMANvKaWeaTC9B/AfINw5zwNKqcXNrVMngs5lx6FS7v1oI1tzSxnfvwt+PmbngbmKo+W19eYVgZgQf1dy6B7uT3y4M1FEBBAZ5MuR0hrjAO880OcWV7sO+vllNcetr2uIn3NdAcRHBDAkIYKMxAiig/2aD9xhh1X/hG+eBN9AuPAFGHy5585Qyw7B8heNg6hSMOwmGHsvhMY2vYzdBtsWGMsd2WqU1Y+5G4ZcZ1SOepOt1jjL/+lfkLveSEiDLoWcn+HwZhCzcV9+ylVGEvAL9m68HYBXEoGImIFdwCQgG1gDXKOU2uY2zxvAeqXUv0RkELBYKZXY3Hp1IugcbHYHr3+/j799vYtQfwtPTxvMlMH1D2rVVrvrYJ5TXEmO86w9t9g4i88rrnadwTfGz8dEnDNJdA87ljCMBBJITJgffj4tLKpxd3QPfHqHcXbd/xdw0UsQEnPy6zkVJdnw/QtGZazJxzirH/NbCHZ7Va21GjZ+AD++DEWZEN0fzr4HUq5of2fTSkHWaiMhbF9oXE2lXmVU/HbAcnpvai4RePKBshHAHqXUPmcQc4BLgG1u8yig7mbfMCDXg/FoHcTuw2Xc+/FGNmWX8IvUWJ6YmkxUI2fg/hYzvboE06tL42eDDofiaHkNOc4rgMKK2npn+FFBvq1726XDAatfh68fN26VvOxNo6y6Lcupw+Lh4r/BmN/A988bVyVr34GRMyHjFti6AFa+CuWHIG4YnP+0UfnZGsVUniACPUYancPRfuPs4Dx5RXAFMEUpdZtz+HpgpFLqTrd5YoGvgAggCJiolFrXyLpmAjMBevToMezAgSbfwax1YHaH4s3l+3jxq10E+Zl58tLBXJTa3dthtUzBXvj0Tji4AvpNgYv+1nyxTFs5uhuWPQNbPsF1a2TSuTD2d8anrkztNLx1RdAS1wCzlFJ/FZFRwHsiMlgpVe96Xin1BvAGGEVDXohT87C9+eXc9/FG1h8sZnJyDE9dmkKXkBOUw7cHDodRsfn1n8BkgUv/ZVRstpcDbHRfuOLfRn3BtgXQdzLED/N2VFo748lEkAMkuA3HO8e5uxWYAqCUWiki/kA0cMSDcWntiN2heOhttps://epynn.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://epynn.net/i4+NPahmdCFqRstkIX7aBfYPCSUk48S14Pc65gJ8DHqT22+/h5jYIUNNOwGKxkJSU5O0wtDami4Za0Z6vPiGkzI75FxNbNL9YLBRl9CFxcz6lFfopY03TvEMnglaU+9FsSgMgY9qvWrxMlwsuJqga1i95z4ORaZqmNU0nglZiLy4mcs1edmXE0C285eVzg6ZcQ7UFipbo5iY0TfMOnQhayZ55/8HHrgi+9OKTWs4SGMSh1O50W5uJzVrroeg0TdOaphNBKyme/18OdIUx464/6WWDJk4grEKx9fv5HohM0zSteToRtILq3bsJ3XuEvaN70jWo60kvn3rJTVjNkPv5fz0QnaZpWvN0ImgFmXNnYTNBzKVXntLy4ZHdOdg/nLCV2/WDPJqmtTmdCE6TstmoXvQlG3oL49IuOeX1yLhRRBRZyV73XesFp2ma1gI6EZym8h9/xK+4kpyx/YgOiD7l9Qy65EbsAns//aAVo9M0TTsxnQhOU/ZH71EaAL0vvOrEMzcjqWca+3oFYFm+rpUi0zRNaxmdCE6DvaQEx3cr+THZxHm9J5/2+qrHpBF5qJKSnVtbITpN07SW8WgiEJEpIrJTRPaIyAONTL9dRDaLyAYR+UFEBnkyntZW8vliTDYHR8enEBUQdeIFTiDxoukA7Fzw7mmvS9M0raU8lghExAy8ClwADAKuaeRA/4FSKkUplQ48B7zoqXg84fC8DznQBYacfVmrrG9I8gT2xJmxftv0y7U1TdNamyevCEYAe5RS+5RStcAcoN5tNUqpUrfBIKDD3DtZs2cPbNvN96lmJvRsWSNzJ2IxWygY2ZfIA0XUZGe3yjo1TdNOxJOJIA7IchvOdo6rR0T+T0T2YlwR3N3YikRkpoisFZG17aWd9OL5C7CboHJ8BpH+ka223pgLjCYq9nz2fqutU9M0rTleryxWSr2qlOoN3A880sQ8byilMpRSGV26dGnbABuLx2ajcMF/Wd9LGJt6cm0LncjI4ZdyoCuUfvVVq65X0zStKZ5MBDlAgttwvHNcU+YAl3ownlZTsXIlFBSxPNXMhB4TWnXdkf6RHBgSS9jOXGxHj7bqujVN0xrjyUSwBugrIkki4gtcDXzmPoOI9HUb/AWw24PxtJri/86nIsCE5exRhPuHt/r6gydNRBTkffFpq69b0zStIY8lAqWUDbgTWAJsBz5SSm0VkSdEZKpztjtFZKuIbAB+B9zoqXhai72khNJvvub7QYqJfS/wyDaGjbqMvAg4pBOBpmltwKPvLFZKLQYWNxj3qFv/bzy5fU8o/eILpNbKD6m+3NrjPI9so39kf/43OITxP+7BXlqKOTTUI9vRNE2DdlBZ3NEU/3c+uTEWYoaOIswvzCPbEBFM40ZjdiiKvv3aI9vQNE2roxPBSajZu5fqTZv4OtnO5KQpHt1W6thpFIRA9qJ5Ht2OpmmaTgQnoWTBAhwmYWWKhfEJ4z26rRFxZ/HzAAvm1ZtwVFZ6dFuapnVuOhG0kLLbKfn0M7b19SO53xiPFQvV8TP7UTE6BZ9aO+XLf/DotjRN69x0IjgBe3ExZcuWceipp7AdOcKSQbVMTjz9lkZbou+4qZQGQO5i/QpLTdM8x6N3DXU0Silq9++nav16Ktevp2r9Bmr37jUmms0cSY1nU7+jvJgwrk3iGdtjHPP6Cud8vxJVW4v4+rbJdjVN61w6dSJwVFVRtXkzVes3ULV+PVXr12MvKQHAFBZGYHo6YRdfTMCQIfgNHsTdX0xjZMTZhPq2ze2cMUEx5Gb0wGfTASp++ongsWPbZLuapnUunSoRWA8fpurnn11n+9Xbt4PNBoBvr14ET5xA4JAhBAwZgm9SEmIyUWWrYl/JPtbsn8ehikPcPaTRdvE8Jm78hVTO/hdHv1ikE4GmaR7RaRLB0ddeI/9vLwMg/v4EpKQQdcstBAxJJyA9HUdoEPtL9rOheC97ij9nz7I97CneQ3ZZNsrZOnZccJzH7xZq6Jyk81jZ5zXO+uYblN2OmM1tun1N0858nSYRBI05G1NgIJb0VI50D2RH+X72Fu9lT/FC9nz3EgdLD2JXdgDMYqZnaE8GRA7g4l4X0zu8N33C+5AQmoDFZGnTuAdFDeLtlDDO3lZM5bp1BI0Y0abb1zTtzNdpEsHXgft5J3wB+ze+hG29URwkCAkhCfQJ78PEHhPpE96HPhF9SAxNxNfcPipmTWIi4tzx1H4yn5KvluhEoGlaq+s0icDfx5/YoFjOjjubvuF96R3em6SwJAJ8Arwd2gmN7jOBjUkLGPblYsImno9/8iDMISHeDkvTtDOEKNVh3g4JQEZGhlq7dq23w2hTldZK/u+pUfz+Iyvi/Hv59uyJf3Iy/oMHG5/JgzAHB7f6tpXDgS3/KNacbLDbCcjIQERafTuapnmWiKxTSmU0Nq3TXBF0ZIGWQPzOHsWf+mTyStxvsOw6SPXWLVRuWE/p4mONu/omJTmTQzIBycn4DRyEOTjohOu3l5djzcqiNjsba1Y21uxsanOc/Tk5qJoa17wRN1xPzIMP6mSgaWcQnQg6iPN6nMeTuU9yftYfiImKYeC0gQy69UoGmuLofRj8d+dQvXUrlWvXUrpokbGQiJEcnInB0qMHtsNHsOZkU+s84FuzslzPTtQxBQdjSUjAr3dv/MaOpiw6kPxwwXfNVnj3PVR1Dd0e+xNi0g+ma9qZQBcNdRB2h52fj/zMtoJtbCvYxvbC7WSWZLpubY30j2Rg5EAGRA4g2RRPn0NC8N5DVG/bRvWWLdiOHDm2MosF3+7dscTHY0mIR3XrSnG0H4fCHBwIqmKv/TBZ5dkcLDvI0Sq312UqxSMbe5H6xW7CLplK7NNPIz76XELTOoLmioZ0IujAKq2V7Cra5UoMOwp3sKdoDzZl3BUVYglhQNQABkQOYDBxxJVaOBxiY7+lhIMV2RwsPcjBsoMUVhfWW2/XgK4khCbQM7QnCSEJ9AjpQc/Qnnhttps://epynn.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://epynn.net/Z+fri6mu34NXXzoRaFobUUqxu3g3P+T8wA85P7D+8HpsykaQJYhhMcMIsgRhEhMmTIgIghjDYgw3N96u7ORV5LkO+OXW8nrbDvcLJz44nviQeOKC4+p9dgvqhsVkodJayb6Sfewp3sOeoj3sKdnD3uK9HKo45FpPgE8ASWFJ9ZJD78AeRB6qxFFejqqqwlFZiaPS+VlVhaOqElU3rm56VSXKfZ6aauNAHRmFOSrSOMhHR2GOjMInKtL1aYqKotRcy6HKQ+SV55FXkUduRS5Hq44SExhDYmgiiWGJJAYlEFJqw5aXhzU3D2tuLta8XCNR5OVhzcnFUVl5wr+ZOTwcc1QUPpGRxz6dScgcFYmPc5wpLAxVVYW9uNjV2dz6j3Ulrv6mEl2TLBZMvr6uJOHq9/fH5OtL5M03ETJhwsmt00knAk3zkvLacn469JOrCMnqsOJQDhzKYdy2ivFZ19/ceEGICYo57mAfH2z0B/sGn3KcZbVl7C3ey97ivewp3uP6rKsLASNBRPpHEu4XTrhfOKF+oYT7hRPmF+b6DPN16/cLI8Q35Ljbda0OK0cqj7gO8nkVeeSW53Ko4hC5FcZnla2q3jL+Zn+iAqI4UnkEq+PYlUmobyiJYYkkhSbV++wR0gMfkw+O0lKseUaSsB05giko2Eg6dQf8iAjEp+km1xzKQbm1nPLacsqt5fiZ/QiyBBHoE0iAT8AJi8OUzYa9tNSVGFR1NY6aGlRNLarGrb+2Bkd1tXN8DY5a5/jq6mP9NTVE3nQjIeeddzJ/WhedCDRNOyUlNSWupLC/ZD9FNUWU1JRQUlNCcU0xJTUllNY2fdZrEhOhvkbCCLQEUlBVQH5VPg7lqDdfpH8ksUGxxAbF0i2oG92DuxvDwca4CL8IRAS7w05uRS6ZJZlklmayv2Q/maWZZJZk1ktaZjETFxxnXDmEJpIUlkRCSAJ2h51SaynlteWU1Za5unKr27C1zDW9wlqBovFjpElMBPoEEmhx3o7sY9xy7Bqu6/c5dquyn9kPPx8//M3++Jp9j336+BvT3DqzqXWLiXQi0DTNY+wOO6W1pfWSQ0ltCcXVxRTXFFNaW0pxTTHlteVEBUS5Dvh1B/luQd0I8Ak47TjKa8uPSw77S/dzsPQgNfaaRpcxiYlgSzAhviGurrHhUN9QAi2B1NprqbRWUmEz7iSrtFYeu7PMVn+4rr/WcfyT7y3hY/JxJYW6hHFH+h1ckHTBKa2vuUTg0WaoRWQK8DJgBt5SSj3TYPo5wN+AVOBqpdQ8T8ajaVrrM5vMRPhHEOHvmWclWirYN5jB0YMZHD243niHcpBXkUd2WTa+Zt96B/pAn0CPtyVldVhdSaHaXk2tvZZqm/PTXk2NvcbobDXHpturqbHVHJvm7ML8wjwSo8cSgYiYgVeBSUA2sEZEPlNKbXOb7SBwE3Cfp+LQNK1zM4mJuOA44oLjvLJ9i8niqjNprzx5RTAC2KOU2gcgInOASwBXIlBKZTqnORpbgaZpmuZ5nmwlKw7IchvOdo47aSIyU0TWisja/Pz8Ey+gaZqmtViHaC5RKfWGUipDKZXRRTeUpWma1qo8mQhyAPfXS8U7x2mapmntiCcTwRqgr4gkiYgvcDXwmQe3p2mapp0CjyUCpZQNuBNYAmwHPlJKbRWRJ0RkKoCIDBeRbOBK4HUR2eqpeDRN07TGefQ5AqXUYmBxg3GPuvWvwSgy0jRN07ykQ1QWa5qmaZ7T4ZqYEJF84MApLh4NHG3FcFqbju/06PhOX3uPUcd36noqpRq97bLDJYLTISJrm2proz3Q8Z0eHd/pa+8x6vg8QxcNaZqmdXI6EWiapnVynS0RvOHtAE5Ax3d6dHynr73HqOPzgE5VR6BpmqYdr7NdEWiapmkN6ESgaZrWyZ2RiUBEpojIThHZIyIPNDLdT0TmOqf/JCKJbRhbgogsFZFtIrJVRH7TyDzjRKRERDY4u0cbW5cHY8wUkc3ObR/3XlAxvOLcf5tEZGgbxtbfbb9sEJFSEfltg3nafP+JyNsickREtriNixSR/4nIbudno6/wEpEbnfPsFpEb2yi250Vkh/PvN19EwptYttnfgodjfExEctz+jhc2sWyz/+8ejG+uW2yZIrKhiWXbZB+eFqXUGdVhvBZzL9AL8AU2AoMazHMH8Jqz/2pgbhvGFwsMdfaHALsaiW8csMiL+zATiG5m+oXAF4AAZwE/efFvfQjjQRmv7j/gHGAosMVt3HPAA87+B4BnG1kuEtjn/Ixw9ke0QWznAz7O/mcbi60lvwUPx/gYcF8LfgPN/r97Kr4G0/8KPOrNfXg63Zl4ReB6M5pSqhaoezOau0uA/zj75wETxNMvLnVSSuUppX529pdhNMjnnXfonbpLgHeVYRUQLiKxXohjArBXKXWqT5q3GqXU90Bhg9Huv7P/AJc2suhk4H9KqUKlVBHwP2CKp2NTSn2ljIYhAVbh5Ta/mth/LdGS//fT1lx8zmPHVcCHrb3dtnImJoKWvBnNNY/zn6EEiGqT6Nw4i6SGAD81MnmUiGwUkS9EJLltI0MBX4nIOhGZ2cj0Vnv73Gm6mqb/+by5/+rEKKXynP2HgJhG5mkP+/IWjCu8xpzot+BpdzqLr95uomitPey/scBhpdTuJqZ7ex+e0JmYCDoEEQkGPgF+q5QqbTD5Z4zijjTg78CCNg7vbKXUUOAC4P9E5Jw23v4JifGOi6nAx41M9vb+O44yygja3b3aIvIwYAPeb2Ihttps://epynn.net/gX0BtKBPIzil/boGpq/Gmj3/09nYiJoyZvRXPOIiA8QBhS0SXTGNi0YSeB9pdR/G05XSpUqpcqd/YsBi4hEt1V8Sqkc5+cRYD7G5be79vD2uQuAn5VShxtO8Pb+c3O4rsjM+XmkkXm8ti9F5CbgImCGM1EdpwW/BY9RSh1WStmVUg7gzSa27dXfovP4cRkwt6l5vLkPW+pMTAQteTPaZ0Dd3RlXAN829Y/Q2pzlif8GtiulXmxinm51dRYiMgLj79QmiUpEgkQkpK4fo1JxS4PZPgNucN49dBZQ4lYE0laaPAvz5v5rwP13diPwaSPzLAHOF5EIZ9HH+c5xHiUiU4A/AFOVUpVNzNOS34InY3Svd5rWxLa9/SbEicAOpVR2YxO9vQ9bzNu11Z7oMO5q2YVxN8HDznFPYPzoAfwxihT2AKuBXm0Y29kYRQSbgA3O7kLgduB25zx3Alsx7oBYBYxuw/h6Obe70RlD3f5zj0+AV537dzOQ0cZ/3yCMA3uY2ziv7j+MpJQHWDHKqW/FqHf6BtgNfA1EOufNAN5yW/YW529xD3BzG8W2B6Nsve43WHcXXXdgcXO/hTbcf+85f1+bMA7usQ1jdA4f9//eFvE5x8+q+925zeuVfXg6nW5iQtM0rZM7E4uGNE3TtJOgE4GmaVonpxOBpmlaJ6cTgaZpWienE4GmaVonpxOBpjUgInap38Jpq7VoKSKJ7i1Yalp74OPtADStHapSSqV7OwhNayv6ikDTWsjZrvxzzrblV4tIH+f4RBH51tk42jci0sM5PsbZ1v9GZzfauSqziLwpxvsovhKRAK99KU1DJwJNa0xAg6Kh6W7TSpRSKcA/gL85x/0d+I9SKhWj8bZXnONfAb5TRuN3QzGeLAXoC7yqlEoGioHLPfptNO0E9JPFmtaAiJQrpYIbGZ8JnKeU2udsOPCQUipKRI5iNH9gdY7PU0pFi0g+EK+UqnFbRyLG+wf6OofvByxKqafa4KtpWqP0FYGmnRzVRP/JqHHrt6Pr6jQv04lA007OdLfPlc7+FRitXgLMAJY7+78Bfg0gImYRCWurIDXtZOgzEU07XkCDF5F/qZSqu4U0QkQ2YZzVX+Mcdxfwjoj8HsgHbnaO/w3whojcinHm/2uMFiw1rV3RdQSa1kLOOoIMpdRRb8eiaa1JFw1pmqZ1cvqKQNM0rZPTVwSapmmdnE4EmqZpnZxOBJqmaZ2cTgSapmmdnE4EmqZpndz/A+vTKtE8VymfAAAAAElFTkSuQmCC\n",
      "text/plain": [
       "<Figure size 432x288 with 1 Axes>"
      ]
     },
     "metadata": {
      "needs_background": "light"
     },
     "output_type": "display_data"
    }
   ],
   "source": [
    "model.plot(path=False)"
   ]
  },
  {
   "cell_type": "markdown",
   "metadata": {
    "tags": []
   },
   "source": [
    "Results here are pretty good, with ~84% accuracy for both training and testing sets (epoch 14). Let's try to add more complexity in the model."
   ]
  },
  {
   "cell_type": "markdown",
   "metadata": {
    "tags": []
   },
   "source": [
    "For code, maths and pictures behind the *LSTM* layer, follow this link:\n",
    "\n",
    "* [Long Short-Term Memory (LSTM)](https://epynn.net/LSTM.html)"
   ]
  },
  {
   "cell_type": "markdown",
   "metadata": {},
   "source": [
    "### LSTM(sequence=True)-Flatten-Dense"
   ]
  },
  {
   "cell_type": "markdown",
   "metadata": {},
   "source": [
    "By defaults, the LSTM layer returns the hidden state computed at the last sequence step.\n",
    "\n",
    "Consistently, gradients - what is actually used to update parameters - are computed with respect to this single last hidden step.\n",
    "\n",
    "While this last hidden state incorporates information with respect to the whole sequence, it is commonly found that returning all hidden states and computing gradients with respect to each of them provides better results than the default behavior.\n",
    "\n",
    "One drawback is that instead of returning an array of shape ``(m, 1, u)`` with ``m`` number of samples, ``1`` number of sequence and ``u`` the number of *LSTM* units within the layer, it returns an array of shape ``(m, s, u)``. Said differently, it return ``s`` times more data which makes computations slower.\n",
    "\n",
    "It also requires to use a *flatten* layer to get a shape such as ``(m, s * u)`` to adapt for the *dense* layer. When using the defaults ``LSTM(sequences=False)`` note that the returned data have shape ``(m, u)`` and not ``(m, 1, u)`` as stated above for pedagogic purpose.  This explains why we did not need a *flatten* layer in the first LSTM example."
   ]
  },
  {
   "cell_type": "code",
   "execution_count": 17,
   "metadata": {
    "tags": []
   },
   "outputs": [],
   "source": [
    "name = 'LSTM-8-Seq_Flatten_Dense-2-softmax'\n",
    "\n",
    "se_hPars['learning_rate'] = 0.1\n",
    "se_hPars['softmax_temperature'] = 5\n",
    "\n",
    "lstm = LSTM(8, sequences=True)\n",
    "\n",
    "flatten = Flatten()\n",
    "\n",
    "dense = Dense(2, softmax)\n",
    "\n",
    "layers = [embedding, lstm, flatten, dense]\n",
    "\n",
    "model = EpyNN(layers=layers, name=name)"
   ]
  },
  {
   "cell_type": "markdown",
   "metadata": {
    "tags": []
   },
   "source": [
    "Initialize the model."
   ]
  },
  {
   "cell_type": "code",
   "execution_count": 18,
   "metadata": {
    "tags": []
   },
   "outputs": [
    {
     "name": "stdout",
     "output_type": "stream",
     "text": [
      "\u001b[1m--- EpyNN Check OK! ---                                                                             \u001b[0m\r"
     ]
    }
   ],
   "source": [
    "model.initialize(loss='MSE', seed=1, se_hPars=se_hPars.copy(), end='\\r')"
   ]
  },
  {
   "cell_type": "markdown",
   "metadata": {},
   "source": [
    "Train for 20 epochs."
   ]
  },
  {
   "cell_type": "code",
   "execution_count": 19,
   "metadata": {},
   "outputs": [
    {
     "name": "stdout",
     "output_type": "stream",
     "text": [
      "\u001b[1m\u001b[37mEpoch 19 - Batch 25/25 - Accuracy: 0.844 Cost: 0.07478 - TIME: 10.19s RATE: 5.59e+01e/s TTC: 0s     \u001b[0m\n",
      "\n",
      "+-------+----------+----------+-------+----------+-------+-------+-----------------------------------------------+\n",
      "| \u001b[1m\u001b[37mepoch\u001b[0m |  \u001b[1m\u001b[37mlrate\u001b[0m   |  \u001b[1m\u001b[37mlrate\u001b[0m   |       | \u001b[1m\u001b[32maccuracy\u001b[0m |       |  \u001b[1m\u001b[31mMSE\u001b[0m  |                  \u001b[37mExperiment\u001b[0m                   |\n",
      "|       |   \u001b[37mLSTM\u001b[0m   |  \u001b[37mDense\u001b[0m   |  \u001b[1m\u001b[32m(0)\u001b[0m  |   \u001b[1m\u001b[32m(1)\u001b[0m    |  \u001b[1m\u001b[31m(0)\u001b[0m  |  \u001b[1m\u001b[31m(1)\u001b[0m  |                                               |\n",
      "+-------+----------+----------+-------+----------+-------+-------+-----------------------------------------------+\n",
      "|   \u001b[1m\u001b[37m0\u001b[0m   | \u001b[1m\u001b[37m1.00e-01\u001b[0m | \u001b[1m\u001b[37m1.00e-01\u001b[0m | \u001b[1m\u001b[32m0.673\u001b[0m |  \u001b[1m\u001b[32m0.658\u001b[0m   | \u001b[1m\u001b[31m0.219\u001b[0m | \u001b[1m\u001b[31m0.220\u001b[0m | \u001b[37m1631326503_LSTM-8-Seq_Flatten_Dense-2-softmax\u001b[0m |\n",
      "|   \u001b[1m\u001b[37m2\u001b[0m   | \u001b[1m\u001b[37m1.00e-01\u001b[0m | \u001b[1m\u001b[37m1.00e-01\u001b[0m | \u001b[1m\u001b[32m0.741\u001b[0m |  \u001b[1m\u001b[32m0.721\u001b[0m   | \u001b[1m\u001b[31m0.178\u001b[0m | \u001b[1m\u001b[31m0.191\u001b[0m | \u001b[37m1631326503_LSTM-8-Seq_Flatten_Dense-2-softmax\u001b[0m |\n",
      "|   \u001b[1m\u001b[37m4\u001b[0m   | \u001b[1m\u001b[37m1.00e-01\u001b[0m | \u001b[1m\u001b[37m1.00e-01\u001b[0m | \u001b[1m\u001b[32m0.824\u001b[0m |  \u001b[1m\u001b[32m0.796\u001b[0m   | \u001b[1m\u001b[31m0.124\u001b[0m | \u001b[1m\u001b[31m0.136\u001b[0m | \u001b[37m1631326503_LSTM-8-Seq_Flatten_Dense-2-softmax\u001b[0m |\n",
      "|   \u001b[1m\u001b[37m6\u001b[0m   | \u001b[1m\u001b[37m1.00e-01\u001b[0m | \u001b[1m\u001b[37m1.00e-01\u001b[0m | \u001b[1m\u001b[32m0.780\u001b[0m |  \u001b[1m\u001b[32m0.754\u001b[0m   | \u001b[1m\u001b[31m0.160\u001b[0m | \u001b[1m\u001b[31m0.185\u001b[0m | \u001b[37m1631326503_LSTM-8-Seq_Flatten_Dense-2-softmax\u001b[0m |\n",
      "|   \u001b[1m\u001b[37m8\u001b[0m   | \u001b[1m\u001b[37m1.00e-01\u001b[0m | \u001b[1m\u001b[37m1.00e-01\u001b[0m | \u001b[1m\u001b[32m0.830\u001b[0m |  \u001b[1m\u001b[32m0.815\u001b[0m   | \u001b[1m\u001b[31m0.124\u001b[0m | \u001b[1m\u001b[31m0.151\u001b[0m | \u001b[37m1631326503_LSTM-8-Seq_Flatten_Dense-2-softmax\u001b[0m |\n",
      "|  \u001b[1m\u001b[37m10\u001b[0m   | \u001b[1m\u001b[37m1.00e-01\u001b[0m | \u001b[1m\u001b[37m1.00e-01\u001b[0m | \u001b[1m\u001b[32m0.889\u001b[0m |  \u001b[1m\u001b[32m0.803\u001b[0m   | \u001b[1m\u001b[31m0.095\u001b[0m | \u001b[1m\u001b[31m0.136\u001b[0m | \u001b[37m1631326503_LSTM-8-Seq_Flatten_Dense-2-softmax\u001b[0m |\n",
      "|  \u001b[1m\u001b[37m12\u001b[0m   | \u001b[1m\u001b[37m1.00e-01\u001b[0m | \u001b[1m\u001b[37m1.00e-01\u001b[0m | \u001b[1m\u001b[32m0.894\u001b[0m |  \u001b[1m\u001b[32m0.813\u001b[0m   | \u001b[1m\u001b[31m0.086\u001b[0m | \u001b[1m\u001b[31m0.139\u001b[0m | \u001b[37m1631326503_LSTM-8-Seq_Flatten_Dense-2-softmax\u001b[0m |\n",
      "|  \u001b[1m\u001b[37m14\u001b[0m   | \u001b[1m\u001b[37m1.00e-01\u001b[0m | \u001b[1m\u001b[37m1.00e-01\u001b[0m | \u001b[1m\u001b[32m0.910\u001b[0m |  \u001b[1m\u001b[32m0.794\u001b[0m   | \u001b[1m\u001b[31m0.078\u001b[0m | \u001b[1m\u001b[31m0.141\u001b[0m | \u001b[37m1631326503_LSTM-8-Seq_Flatten_Dense-2-softmax\u001b[0m |\n",
      "|  \u001b[1m\u001b[37m16\u001b[0m   | \u001b[1m\u001b[37m1.00e-01\u001b[0m | \u001b[1m\u001b[37m1.00e-01\u001b[0m | \u001b[1m\u001b[32m0.862\u001b[0m |  \u001b[1m\u001b[32m0.782\u001b[0m   | \u001b[1m\u001b[31m0.098\u001b[0m | \u001b[1m\u001b[31m0.163\u001b[0m | \u001b[37m1631326503_LSTM-8-Seq_Flatten_Dense-2-softmax\u001b[0m |\n",
      "|  \u001b[1m\u001b[37m18\u001b[0m   | \u001b[1m\u001b[37m1.00e-01\u001b[0m | \u001b[1m\u001b[37m1.00e-01\u001b[0m | \u001b[1m\u001b[32m0.932\u001b[0m |  \u001b[1m\u001b[32m0.792\u001b[0m   | \u001b[1m\u001b[31m0.063\u001b[0m | \u001b[1m\u001b[31m0.148\u001b[0m | \u001b[37m1631326503_LSTM-8-Seq_Flatten_Dense-2-softmax\u001b[0m |\n",
      "|  \u001b[1m\u001b[37m19\u001b[0m   | \u001b[1m\u001b[37m1.00e-01\u001b[0m | \u001b[1m\u001b[37m1.00e-01\u001b[0m | \u001b[1m\u001b[32m0.914\u001b[0m |  \u001b[1m\u001b[32m0.775\u001b[0m   | \u001b[1m\u001b[31m0.070\u001b[0m | \u001b[1m\u001b[31m0.161\u001b[0m | \u001b[37m1631326503_LSTM-8-Seq_Flatten_Dense-2-softmax\u001b[0m |\n",
      "+-------+----------+----------+-------+----------+-------+-------+-----------------------------------------------+\n"
     ]
    }
   ],
   "source": [
    "model.train(epochs=20, init_logs=False)"
   ]
  },
  {
   "cell_type": "markdown",
   "metadata": {},
   "source": [
    "Plot the results which look very good by a quick inspection on the table."
   ]
  },
  {
   "cell_type": "code",
   "execution_count": 20,
   "metadata": {
    "tags": []
   },
   "outputs": [
    {
     "data": {
      "image/png": "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://epynn.net/Py8mjUqBFWq5UvvvjijG3IycmhQYMG+Pr6snjxYvbv3w8YNfGvv/6ajIwMAKdraNCgQbz//vuA0Wmdk5NDXFwcx48fJyMjg5KSEhYsWFDl+Zo0aQLAp59+6tw/ZMgQ3nvvPed2aSujd+/eHDx4kC+//JIbb7zxjK/TFXcKwWqgjVKqhVLKDxgFfFsuzlyM1gBKqRgMV9FeN9okCEI9plu3bowcOZLk5GQuv/xyevbs6QwbM2YM48aNc3YWl+eFF16gd+/e9O3bl/bt25+xDaNHj2bNmjUkJiby2WefOdPq1KkTTz75JAMGDCA5OZl//vOfALz11lssXryYxMREunfvztatW/H19eWZZ56hV69eDBkypEp7Jk6cyPXXX0/37t2dbicw+jmysrLo3LkzycnJLF682Bl2ww030LdvX6e76GxRWrvP06KUugJ4E8P/P11rPUkp9TywRmv9rTLefJgCXAbYgUla65mVJojhGirtZBEEoWbZtm0bHTp0qGszhFNw5ZVX8tBDDzFo0KAKwyu6j0qptVrrHhXFd2sfgdZ6IbCw3L5nXNY18E9zEQRBEKogOzubXr16kZycXKkInAl13VksCIIgVJOIiAh27txZ4+nKFBOCIAgejgiBIAiChyNCIAiC4OGIEAiCIHg4IgSCINRbamIaaoAlS5awfPnymjTtvKLaQqCUCnKnIYIgCFVxPghBVdNl1yWnFAKlVB+l1FZgu7mdrJT6P7dbJgiCR1LdaajXrl3LgAED6N69O0OHDuXIkSMAvP3223Ts2JGkpCRGjRpFSkoKU6dO5Y033qBLly4nTT29atUqLrzwQrp27UqfPn2c57Tb7TzyyCN07tyZpKQk3nnnHQBWr15Nnz59SE5OplevXuTl5TFjxgzuu+8+Z5pXXnmlc66jkJAQHn74YZKTk/nzzz95/vnn6dmzJ507d+buu++m9KXe3bt3M3jwYJKTk+nWrRt79uzh1ltvZe7cuc50R48eXWZa7JqiOu8RvAEMxZweQmu9QSnVv8YtEQShfvH9Y3B0U82m2TARLn+l0uDqTkNttVoZP3488+bNIzY2llmzZvHkk08yffp0XnnlFfbt2https://epynn.net/Z2dlEREQwbtw4QkJCeOSRR046Z/v27Vm2bBk+Pj4sWrSIJ554gtmzZ/Phhx+SkpLC+vXr8fHxITMzE4vFwsiRI5k1axY9e/YkNzeXwMDAKi+5oKCA3r17M2XKFAA6duzIM88Y79XecsstLFiwgGHDhjF69Ggee+wxRowYQXFxMQ6HgzvuuIM33niD4cOHk5OTw/Lly8vMR1RTVOuFMq31wXLfwayf7RtBEM5pqjsN9Y4dO9i8eTNDhgwBjNp7o0aNAEhKSmL06NEMHz6c4cOHn/KcOTk53HbbbezatQulFFarFTCmgR43bhw+PkYxGRUVxaZNm2jUqJFzDqSwsLBTpu/t7c21117r3F68eDGvvvoqhYWFZGZm0qlTJwYOHMihQ4cYMWIEYHwTAWDAgAHcc889pKWlMXv2bK699lqnPTVJdVI8qJTqA2illC/wALCtxi0RBKF+UUXNva7RWtOpUyf+/PPPk8K+++47li5dyvz585k0aZLzwy6V8fTTT3PxxRczZ84cUlJSGDhw4GnbU9W00wEBAXh7ezv333PPPaxZs4amTZsyceLEU05xfeutt/L5558zc+ZMPvnkk9O2rTpUp7N4HHAvxodmDgFdzG1BEIQapbrTULdr1460tDSnEFitVrZs2YLD4eDgwYNcfPHFTJ48mZycHPLz86ucwtp1GugZM2Y49w8ZMoQPPvjA+c2CzMxM2rVrx5EjR1i9ejVgTH1ts9lISEhg/fr1zvOvWrWqwnOVFvoxMTHk5+fzzTffOK8tPj7e2R9QUlLi/NTmmDFjePPNNwHDreQOTikEWut0rfVorXWc1rqB1vpmrXWGW6wRBMGjqe401Ha7nW+++YYJEyaQnJxMly5dWL58OXa7nZtvvpnExES6du3K/fffT0REBMOGDWPOnDkVdhY/+uijPP7443Tt2rXMh2ruvPNOmjVr5vxG8Zdffomfnx+zZs1i/PjxJCcnM2TIEIqLi+nbty8tWrSgY8eO3H///XTr1q3C64uIiOCuu+6ic+fODB06tMhttps://epynn.net//+Htt98mKSmJPn36cPToUQDi4uLo0KFDjX2EpiJOOQ21UuoT4KRIWuvb3WVUVcg01ILgPmQa6vpHYWEhiYmJrFu3jvDw8Godc7rTUFfHNbQA+M5cfgHCgPxqWSMIgiCcMYsWLaJDhw6MHz++2iJwJpyys1hrPdt1Wyn1FfC72ywSBEEQABg8eLDzU5nu5EymmGgDNKhpQwRBEIS64ZQtAqVUHkYfgTJ/jwIT3GyXIAiCUEtUxzUUWhuGCIIgCHVDpUKglKp4/JOJ1npdzZsjCIIg1DZV9RFMqWJ53f2mCYLg6dTENNRTp07ls88+q3b8lJQUlFI89dRTzn3p6en4+vo6J5bbsWMHAwcOpEuXLnTo0IG7774bMGY5DQ8Pp0uXLs5l0aJFp21zbVNpi0BrfXFtGiIIglAVM2bMoHPnzjRu3PikMLvd7pzGoTzjxo077XO1aNGC7777jhdffBGAr7/+mk6dOjnD77//fh566CGuvvpqgDLTWPTr148FCxac9jnrkmqNGlJKdVZK3aCUurV0cbdhgiB4JtWdhjohIYEJEybQrVs3vv76a6ZNm0bPnj1JTk7m2muvdU7R4NqqGDhwIBMmTKBXr160bdv2pLeMSwkKCqJDhw6Uvrw6a9YsbrjhBmf4kSNHiI+Pd24nJia6JS9qi+qMGnoWGAh0BBYCl2O8R1D9tpYgCOcck1dNZnvm9hpNs31Ueyb0qnzQYXWnoS4lOjqadeuM7sqMjAzuuusuAJ566ik+/vhjxo8ff9I5bDYbq1atYuHChTz33HOVum5GjRrFzJkziYuLw9vbm8aNGztdUw899BCXXHIJffr04dJLL2Xs2LFEREQAxgyqXbp0caYze/ZsWrVqdVr5VNtUZ/bR64Bk4C+t9VilVBzwuXvNEgTBE6nuNNSljBw50rm+efNmnnrqKbKzs8nPz2fo0KEVHnPNNdcA0L17d1JSUipN+7LLLuPpp58mLi6uzHkAxo4dy9ChQ/nhhx+YN28eH3zwARs2bADOTddQdYSgWGvtUErZlFJhwHGgqZvtEgShjqmq5l5fCA4Odq6PGTOGuXPnkpyczIwZM5xfCCuPv78/YHwnwHWSufL4+fnRvXt3pkyZwtatW/n222/LhDdu3Jjbb7+d22+/nc6dO7N58+azv6A6otI+AqXUe0qpi4BVSqkIYBqwFlgHnDwJuCAIwllS3WmoKyIvL49GjRphtVr54osvasSehx9+mMmTJxMVFVhttps://epynn.net//OD8gM3Ro0fJyMhwTmV9LlJVi2An8BrQGCgAvgKGAGFa6421YJsgCB6G6zTUDRo0qHAa6sDAwAo/SPPCCy/Qu3dvYmNj6d27d5WiUV06depUZrRQKT/99BMPPPCA80tir732Gg0bNmT79u0n9RE89dRTXHfddWdtizupzjTUzYFR5hKIIQhfaq13ud+8k5FpqAXBfcg01OcHNT4NtdZ6v9Z6sta6K3AjMByo2aEEgiAIQp1xSiFQSvkopYYppb4Avgd2ANe43TJBEAShVqhqrqEhGC2AK4BVwEzgbq11QS3ZJgiCINQCVXUWPw58CTystc6qJXsEQRCEWqaquYYuqU1DBEEQhLrhTL5QJgiCIJxHiBAIglBvqYlpqMGYHnr58uUVhs2YMQOlVJk5h+bOnYtSim+++QaABQsW0LVrV5KTk+nYsSMffPCB074mTZqUmXY6Ozv7jGysS9wqBEqpy5RSO5RSu5VSj1UR71qllFZKVTjGVRAEwV1CAMbsoTNnznRuf/XVVyQnJwNgtVq5++67mT9/Phs2bOCvv/5i4MCBzrgPPfQQ69evdy6lk8+dS7hNCJRS3sB7GLOVdgRuVEp1rCBeKPAAsNJdtgiCcO5Q3Wmo165dy4ABA+jevTtDhw7lyJEjALz99tt07NiRpKQkRo0aRUpKClOnTuWNN96gS5cuFU493a9fP1atWoXVahttps://epynn.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://epynn.net/8vf3x9pLPdNYWqXmp/Jb6G+uPr6dnw55c2fJKgnzPvc++ni0iBIJwhtgddlYeWcnc3XNZkrqEIltRjaTro3xOCIOPIQ5+3n74e5XbNoXD39ufAJ8AogKiiA2MNZYg4zfcP1z6NFywO+xsSt/EkoNL+C31N3Zn7wYg0j+SrJIsQn1DGd5mOKPajaJZWLO6NbYWESEQhBpCa43VYcVit2BxWIxfcylxlGC1G2El9hIsDgtWu9W57oxnL3Euzm2buc9h7rOVlIlXYi+hyFZUoRD5evkSExjjFIaYwJgyQhEbZOyLCoiqsze23U2+JZ/lh5fzW+pvLEtdZnzRT3nTPa47A+IHMKDpAJqFNmND2ga+3PYlP+//GZu2cVGTi7ip/U30bdL3vM2bUkQIBOE8odBaSFpRGmmFaaQXpRvr5nZaURrphca+XEvuScd6KS+CfYIJ9A0kyCeIIN8ggnyCCPYNdm4H+gSW3W+ul4aH+YUR5h9GmF9YnfeZHMw7yNLUpSw5uIQ1x9Zgc9gI8wujX3w/BsQPoG+TvhVOZAjGqLGvd37N1zu/Jr0onWahzRjVfhRXt7660mPOdUQIBMHDKLYVk16UfkIsTOEotBVSaC085a/rG+WVEeAdUEYYnL/l1sP9wwnzCyPULxQ/Lz+8vLzwVt74ePngpcqu+ygfvL28K6yd2x12NqRt4LfU3/jt4G/sydkDQIvwFgyMH0j/+P50adDltN4at9https://epynn.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\n",
      "text/plain": [
       "<Figure size 432x288 with 1 Axes>"
      ]
     },
     "metadata": {
      "needs_background": "light"
     },
     "output_type": "display_data"
    }
   ],
   "source": [
    "model.plot(path=False)"
   ]
  },
  {
   "cell_type": "markdown",
   "metadata": {},
   "source": [
    "Overall, we increased accuracy on the testing set but decreased accuracy on the testing set. Adding more complexity in the model did result in overfitting.\n",
    "\n",
    "For code, maths and pictures behind the *LSTM* layer, follow this link:\n",
    "\n",
    "* [Long Short-Term Memory (LSTM)](https://epynn.net/LSTM.html)"
   ]
  },
  {
   "cell_type": "markdown",
   "metadata": {},
   "source": [
    "### LSTM(sequence=True)-Flatten-(Dense)n with Dropout"
   ]
  },
  {
   "cell_type": "markdown",
   "metadata": {},
   "source": [
    "Adding one hidden *dense* layer will inevitably result in overfitting. So we set a double dropout with each a probability of 0.5 to pass values forward."
   ]
  },
  {
   "cell_type": "code",
   "execution_count": 21,
   "metadata": {},
   "outputs": [
    {
     "name": "stdout",
     "output_type": "stream",
     "text": [
      "\u001b[1m\u001b[37mEpoch 19 - Batch 25/25 - Accuracy: 0.906 Cost: 0.07248 - TIME: 20.01s RATE: 2.10e+01e/s TTC: 0s     \u001b[0m\n",
      "\n",
      "+-------+----------+----------+----------+-------+----------+-------+-------+-----------------------------------------------------------------------------------+\n",
      "| \u001b[1m\u001b[37mepoch\u001b[0m |  \u001b[1m\u001b[37mlrate\u001b[0m   |  \u001b[1m\u001b[37mlrate\u001b[0m   |  \u001b[1m\u001b[37mlrate\u001b[0m   |       | \u001b[1m\u001b[32maccuracy\u001b[0m |       |  \u001b[1m\u001b[31mMSE\u001b[0m  |                                    \u001b[37mExperiment\u001b[0m                                     |\n",
      "|       |   \u001b[37mLSTM\u001b[0m   |  \u001b[37mDense\u001b[0m   |  \u001b[37mDense\u001b[0m   |  \u001b[1m\u001b[32m(0)\u001b[0m  |   \u001b[1m\u001b[32m(1)\u001b[0m    |  \u001b[1m\u001b[31m(0)\u001b[0m  |  \u001b[1m\u001b[31m(1)\u001b[0m  |                                                                                   |\n",
      "+-------+----------+----------+----------+-------+----------+-------+-------+-----------------------------------------------------------------------------------+\n",
      "|   \u001b[1m\u001b[37m0\u001b[0m   | \u001b[1m\u001b[37m1.00e-01\u001b[0m | \u001b[1m\u001b[37m1.00e-01\u001b[0m | \u001b[1m\u001b[37m1.00e-01\u001b[0m | \u001b[1m\u001b[32m0.509\u001b[0m |  \u001b[1m\u001b[32m0.499\u001b[0m   | \u001b[1m\u001b[31m0.258\u001b[0m | \u001b[1m\u001b[31m0.260\u001b[0m | \u001b[37m1631326513_LSTM-8-Seq_Flatten_Dropout-05_Dense-64-relu_Dropout-05_Dense-2-softmax\u001b[0m |\n",
      "|   \u001b[1m\u001b[37m2\u001b[0m   | \u001b[1m\u001b[37m1.00e-01\u001b[0m | \u001b[1m\u001b[37m1.00e-01\u001b[0m | \u001b[1m\u001b[37m1.00e-01\u001b[0m | \u001b[1m\u001b[32m0.710\u001b[0m |  \u001b[1m\u001b[32m0.728\u001b[0m   | \u001b[1m\u001b[31m0.205\u001b[0m | \u001b[1m\u001b[31m0.206\u001b[0m | \u001b[37m1631326513_LSTM-8-Seq_Flatten_Dropout-05_Dense-64-relu_Dropout-05_Dense-2-softmax\u001b[0m |\n",
      "|   \u001b[1m\u001b[37m4\u001b[0m   | \u001b[1m\u001b[37m1.00e-01\u001b[0m | \u001b[1m\u001b[37m1.00e-01\u001b[0m | \u001b[1m\u001b[37m1.00e-01\u001b[0m | \u001b[1m\u001b[32m0.685\u001b[0m |  \u001b[1m\u001b[32m0.672\u001b[0m   | \u001b[1m\u001b[31m0.222\u001b[0m | \u001b[1m\u001b[31m0.232\u001b[0m | \u001b[37m1631326513_LSTM-8-Seq_Flatten_Dropout-05_Dense-64-relu_Dropout-05_Dense-2-softmax\u001b[0m |\n",
      "|   \u001b[1m\u001b[37m6\u001b[0m   | \u001b[1m\u001b[37m1.00e-01\u001b[0m | \u001b[1m\u001b[37m1.00e-01\u001b[0m | \u001b[1m\u001b[37m1.00e-01\u001b[0m | \u001b[1m\u001b[32m0.815\u001b[0m |  \u001b[1m\u001b[32m0.775\u001b[0m   | \u001b[1m\u001b[31m0.136\u001b[0m | \u001b[1m\u001b[31m0.162\u001b[0m | \u001b[37m1631326513_LSTM-8-Seq_Flatten_Dropout-05_Dense-64-relu_Dropout-05_Dense-2-softmax\u001b[0m |\n",
      "|   \u001b[1m\u001b[37m8\u001b[0m   | \u001b[1m\u001b[37m1.00e-01\u001b[0m | \u001b[1m\u001b[37m1.00e-01\u001b[0m | \u001b[1m\u001b[37m1.00e-01\u001b[0m | \u001b[1m\u001b[32m0.707\u001b[0m |  \u001b[1m\u001b[32m0.691\u001b[0m   | \u001b[1m\u001b[31m0.209\u001b[0m | \u001b[1m\u001b[31m0.228\u001b[0m | \u001b[37m1631326513_LSTM-8-Seq_Flatten_Dropout-05_Dense-64-relu_Dropout-05_Dense-2-softmax\u001b[0m |\n",
      "|  \u001b[1m\u001b[37m10\u001b[0m   | \u001b[1m\u001b[37m1.00e-01\u001b[0m | \u001b[1m\u001b[37m1.00e-01\u001b[0m | \u001b[1m\u001b[37m1.00e-01\u001b[0m | \u001b[1m\u001b[32m0.811\u001b[0m |  \u001b[1m\u001b[32m0.803\u001b[0m   | \u001b[1m\u001b[31m0.138\u001b[0m | \u001b[1m\u001b[31m0.138\u001b[0m | \u001b[37m1631326513_LSTM-8-Seq_Flatten_Dropout-05_Dense-64-relu_Dropout-05_Dense-2-softmax\u001b[0m |\n",
      "|  \u001b[1m\u001b[37m12\u001b[0m   | \u001b[1m\u001b[37m1.00e-01\u001b[0m | \u001b[1m\u001b[37m1.00e-01\u001b[0m | \u001b[1m\u001b[37m1.00e-01\u001b[0m | \u001b[1m\u001b[32m0.795\u001b[0m |  \u001b[1m\u001b[32m0.749\u001b[0m   | \u001b[1m\u001b[31m0.142\u001b[0m | \u001b[1m\u001b[31m0.164\u001b[0m | \u001b[37m1631326513_LSTM-8-Seq_Flatten_Dropout-05_Dense-64-relu_Dropout-05_Dense-2-softmax\u001b[0m |\n",
      "|  \u001b[1m\u001b[37m14\u001b[0m   | \u001b[1m\u001b[37m1.00e-01\u001b[0m | \u001b[1m\u001b[37m1.00e-01\u001b[0m | \u001b[1m\u001b[37m1.00e-01\u001b[0m | \u001b[1m\u001b[32m0.822\u001b[0m |  \u001b[1m\u001b[32m0.799\u001b[0m   | \u001b[1m\u001b[31m0.128\u001b[0m | \u001b[1m\u001b[31m0.142\u001b[0m | \u001b[37m1631326513_LSTM-8-Seq_Flatten_Dropout-05_Dense-64-relu_Dropout-05_Dense-2-softmax\u001b[0m |\n",
      "|  \u001b[1m\u001b[37m16\u001b[0m   | \u001b[1m\u001b[37m1.00e-01\u001b[0m | \u001b[1m\u001b[37m1.00e-01\u001b[0m | \u001b[1m\u001b[37m1.00e-01\u001b[0m | \u001b[1m\u001b[32m0.839\u001b[0m |  \u001b[1m\u001b[32m0.794\u001b[0m   | \u001b[1m\u001b[31m0.113\u001b[0m | \u001b[1m\u001b[31m0.149\u001b[0m | \u001b[37m1631326513_LSTM-8-Seq_Flatten_Dropout-05_Dense-64-relu_Dropout-05_Dense-2-softmax\u001b[0m |\n",
      "|  \u001b[1m\u001b[37m18\u001b[0m   | \u001b[1m\u001b[37m1.00e-01\u001b[0m | \u001b[1m\u001b[37m1.00e-01\u001b[0m | \u001b[1m\u001b[37m1.00e-01\u001b[0m | \u001b[1m\u001b[32m0.844\u001b[0m |  \u001b[1m\u001b[32m0.803\u001b[0m   | \u001b[1m\u001b[31m0.108\u001b[0m | \u001b[1m\u001b[31m0.136\u001b[0m | \u001b[37m1631326513_LSTM-8-Seq_Flatten_Dropout-05_Dense-64-relu_Dropout-05_Dense-2-softmax\u001b[0m |\n",
      "|  \u001b[1m\u001b[37m19\u001b[0m   | \u001b[1m\u001b[37m1.00e-01\u001b[0m | \u001b[1m\u001b[37m1.00e-01\u001b[0m | \u001b[1m\u001b[37m1.00e-01\u001b[0m | \u001b[1m\u001b[32m0.841\u001b[0m |  \u001b[1m\u001b[32m0.806\u001b[0m   | \u001b[1m\u001b[31m0.110\u001b[0m | \u001b[1m\u001b[31m0.135\u001b[0m | \u001b[37m1631326513_LSTM-8-Seq_Flatten_Dropout-05_Dense-64-relu_Dropout-05_Dense-2-softmax\u001b[0m |\n",
      "+-------+----------+----------+----------+-------+----------+-------+-------+-----------------------------------------------------------------------------------+\n"
     ]
    }
   ],
   "source": [
    "name = 'LSTM-8-Seq_Flatten_Dropout-05_Dense-64-relu_Dropout-05_Dense-2-softmax'\n",
    "\n",
    "se_hPars['learning_rate'] = 0.1\n",
    "se_hPars['softmax_temperature'] = 5\n",
    "\n",
    "layers = [\n",
    "    embedding,\n",
    "    LSTM(8, sequences=True),\n",
    "    Flatten(),\n",
    "    Dropout(drop_prob=0.5),\n",
    "    Dense(64, relu),\n",
    "    Dropout(drop_prob=0.5),\n",
    "    Dense(2, softmax),\n",
    "]\n",
    "\n",
    "model = EpyNN(layers=layers, name=name)\n",
    "\n",
    "model.initialize(loss='MSE', seed=1, se_hPars=se_hPars.copy(), end='\\r')\n",
    "\n",
    "model.train(epochs=20, init_logs=False)"
   ]
  },
  {
   "cell_type": "markdown",
   "metadata": {},
   "source": [
    "Although we have a pretty harsh dropout setup, we still observe overfitting and the accuracy on the testing set turned to be lower than without the hidden *dense* layer. This to illustrate that even though the largest network is *theoretically* capable of the best regression, this comes with more difficulties in training. \n",
    "\n",
    "There is always the question of balancing between the metrics you get and how much they could be improved with respect to the human/computational time it may requires.\n",
    "\n",
    "For code, maths and pictures behind the *LSTM* layer, follow this link:\n",
    "\n",
    "* [Long Short-Term Memory (LSTM)](https://epynn.net/LSTM.html)"
   ]
  },
  {
   "cell_type": "markdown",
   "metadata": {},
   "source": [
    "## Write, read & Predict"
   ]
  },
  {
   "cell_type": "markdown",
   "metadata": {},
   "source": [
    "A trained model can be written on disk such as:"
   ]
  },
  {
   "cell_type": "code",
   "execution_count": 22,
   "metadata": {},
   "outputs": [
    {
     "name": "stdout",
     "output_type": "stream",
     "text": [
      "\u001b[1m\u001b[32mMake: /media/synthase/beta/EpyNN/nnlive/ptm_protein/models/1631326513_LSTM-8-Seq_Flatten_Dropout-05_Dense-64-relu_Dropout-05_Dense-2-softmax.pickle\u001b[0m\n"
     ]
    }
   ],
   "source": [
    "model.write()\n",
    "\n",
    "# model.write(path=/your/custom/path)"
   ]
  },
  {
   "cell_type": "markdown",
   "metadata": {},
   "source": [
    "A model can be read from disk such as:"
   ]
  },
  {
   "cell_type": "code",
   "execution_count": 23,
   "metadata": {},
   "outputs": [],
   "source": [
    "model = read_model()\n",
    "\n",
    "# model = read_model(path=/your/custom/path)"
   ]
  },
  {
   "cell_type": "markdown",
   "metadata": {},
   "source": [
    "We can retrieve new features and predict on them."
   ]
  },
  {
   "cell_type": "code",
   "execution_count": 24,
   "metadata": {},
   "outputs": [],
   "source": [
    "X_features, _ = prepare_dataset(N_SAMPLES=10)\n",
    "\n",
    "dset = model.predict(X_features, X_encode=True)"
   ]
  },
  {
   "cell_type": "markdown",
   "metadata": {},
   "source": [
    "Results can be extracted such as:"
   ]
  },
  {
   "cell_type": "code",
   "execution_count": 25,
   "metadata": {},
   "outputs": [
    {
     "name": "stdout",
     "output_type": "stream",
     "text": [
      "0 0 [0.62230591 0.37769409]\n",
      "1 1 [7.45936528e-04 9.99254063e-01]\n",
      "2 0 [0.6497145 0.3502855]\n",
      "3 0 [0.92361892 0.07638108]\n",
      "4 0 [0.74983445 0.25016555]\n",
      "5 0 [0.93917255 0.06082745]\n",
      "6 1 [0.39914706 0.60085294]\n",
      "7 1 [3.37541883e-13 1.00000000e+00]\n",
      "8 0 [0.76967023 0.23032977]\n",
      "9 0 [0.9618391 0.0381609]\n"
     ]
    }
   ],
   "source": [
    "for n, pred, probs in zip(dset.ids, dset.P, dset.A):\n",
    "    print(n, pred, probs)"
   ]
  }
 ],
 "metadata": {
  "kernelspec": {
   "display_name": "Python 3",
   "language": "python",
   "name": "python3"
  },
  "language_info": {
   "codemirror_mode": {
    "name": "ipython",
    "version": 3
   },
   "file_extension": ".py",
   "mimetype": "text/x-python",
   "name": "python",
   "nbconvert_exporter": "python",
   "pygments_lexer": "ipython3",
   "version": "3.7.3"
  }
 },
 "nbformat": 4,
 "nbformat_minor": 4
}
