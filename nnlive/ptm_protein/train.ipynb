{
 "cells": [
  {
   "cell_type": "markdown",
   "metadata": {},
   "source": [
    "# O-GlcNAc Prediction"
   ]
  },
  {
   "cell_type": "markdown",
   "metadata": {},
   "source": [
    "## Environment and data embedding"
   ]
  },
  {
   "cell_type": "code",
   "execution_count": 1,
   "metadata": {},
   "outputs": [],
   "source": [
    "# EpyNN/nnlive/ptm_protein/train.ipynb\n",
    "# Standard library imports\n",
    "import random\n",
    "\n",
    "# Related third party imports\n",
    "import numpy as np\n",
    "\n",
    "# Local application/library specific imports\n",
    "import nnlibs.initialize\n",
    "from nnlibs.commons.maths import relu, softmax\n",
    "from nnlibs.commons.library import (\n",
    "    configure_directory,\n",
    "    read_model,\n",
    ")\n",
    "from nnlibs.network.models import EpyNN\n",
    "from nnlibs.embedding.models import Embedding\n",
    "from nnlibs.rnn.models import RNN\n",
    "from nnlibs.lstm.models import LSTM\n",
    "from nnlibs.gru.models import GRU\n",
    "from nnlibs.flatten.models import Flatten\n",
    "from nnlibs.dropout.models import Dropout\n",
    "from nnlibs.dense.models import Dense\n",
    "from prepare_dataset import prepare_dataset\n",
    "from settings import se_hPars\n",
    "\n",
    "\n",
    "########################## CONFIGURE ##########################\n",
    "random.seed(1)\n",
    "\n",
    "np.set_printoptions(threshold=10)\n",
    "\n",
    "np.seterr(all='warn')\n",
    "np.seterr(under='ignore')\n",
    "\n",
    "############################ DATASET ##########################\n",
    "X_features, Y_label = prepare_dataset(N_SAMPLES=12800)\n",
    "\n",
    "embedding = Embedding(X_data=X_features,\n",
    "                      Y_data=Y_label,\n",
    "                      X_encode=True,\n",
    "                      Y_encode=True,\n",
    "                      batch_size=128,\n",
    "                      relative_size=(2, 1, 0))"
   ]
  },
  {
   "cell_type": "markdown",
   "metadata": {},
   "source": [
    "## Long Short-Term Memory (LSTM)"
   ]
  },
  {
   "cell_type": "code",
   "execution_count": 2,
   "metadata": {
    "tags": []
   },
   "outputs": [],
   "source": [
    "lstm = LSTM(21)\n",
    "\n",
    "flatten = Flatten()\n",
    "\n",
    "dense = Dense(2, softmax)\n",
    "\n",
    "layers = [embedding, lstm, flatten, dense]\n",
    "\n",
    "model = EpyNN(layers=layers, name='O-GcNAc_lstmNet')"
   ]
  },
  {
   "cell_type": "code",
   "execution_count": 3,
   "metadata": {},
   "outputs": [],
   "source": [
    "se_hPars['learning_rate'] = 0.1\n",
    "se_hPars['schedule'] = 'exp_decay'"
   ]
  },
  {
   "cell_type": "code",
   "execution_count": 4,
   "metadata": {
    "tags": []
   },
   "outputs": [
    {
     "name": "stdout",
     "output_type": "stream",
     "text": [
      "\u001b[1m--- EpyNN Check --- \u001b[0m\n",
      "\u001b[1mLayer: Embedding\u001b[0m\n",
      "\u001b[1m\u001b[32mcompute_shapes: Embedding\u001b[0m\n",
      "\u001b[1m\u001b[32minitialize_parameters: Embedding\u001b[0m\n",
      "\u001b[1m\u001b[32mforward: Embedding\u001b[0m\n",
      "\u001b[1mLayer: LSTM\u001b[0m\n",
      "\u001b[1m\u001b[32mcompute_shapes: LSTM\u001b[0m\n",
      "\u001b[1m\u001b[32minitialize_parameters: LSTM\u001b[0m\n",
      "\u001b[1m\u001b[32mforward: LSTM\u001b[0m\n",
      "\u001b[1mLayer: Flatten\u001b[0m\n",
      "\u001b[1m\u001b[32mcompute_shapes: Flatten\u001b[0m\n",
      "\u001b[1m\u001b[32minitialize_parameters: Flatten\u001b[0m\n",
      "\u001b[1m\u001b[32mforward: Flatten\u001b[0m\n",
      "\u001b[1mLayer: Dense\u001b[0m\n",
      "\u001b[1m\u001b[32mcompute_shapes: Dense\u001b[0m\n",
      "\u001b[1m\u001b[32minitialize_parameters: Dense\u001b[0m\n",
      "\u001b[1m\u001b[32mforward: Dense\u001b[0m\n",
      "\u001b[1m\u001b[36mbackward: Dense\u001b[0m\n",
      "\u001b[1m\u001b[36mcompute_gradients: Dense\u001b[0m\n",
      "\u001b[1m\u001b[36mbackward: Flatten\u001b[0m\n",
      "\u001b[1m\u001b[36mcompute_gradients: Flatten\u001b[0m\n",
      "\u001b[1m\u001b[36mbackward: LSTM\u001b[0m\n",
      "\u001b[1m\u001b[36mcompute_gradients: LSTM\u001b[0m\n",
      "\u001b[1m\u001b[36mbackward: Embedding\u001b[0m\n",
      "\u001b[1m\u001b[36mcompute_gradients: Embedding\u001b[0m\n"
     ]
    }
   ],
   "source": [
    "model.initialize(loss='BCE', se_hPars=se_hPars, seed=1)"
   ]
  },
  {
   "cell_type": "code",
   "execution_count": 5,
   "metadata": {
    "tags": []
   },
   "outputs": [
    {
     "name": "stdout",
     "output_type": "stream",
     "text": [
      "\u001b[1m----------------------- 1628514727_O-GcNAc_lstmNet -------------------------\n",
      "\u001b[0m\n",
      "\n",
      "\u001b[1m-------------------------------- Datasets ------------------------------------\n",
      "\u001b[0m\n",
      "+--------+-------+------+-------+\n",
      "| dtrain | dtest | dval | batch |\n",
      "| (0)    | (1)   | (2)  | size  |\n",
      "+--------+-------+------+-------+\n",
      "| 8533   | 4267  | None | 128   |\n",
      "+--------+-------+------+-------+\n",
      "\n",
      "+----------+---------+---------+------+\n",
      "| N_LABELS | dtrain  | dtest   | dval |\n",
      "|          | (0)     | (1)     | (2)  |\n",
      "+----------+---------+---------+------+\n",
      "| 2        | 0: 4229 | 0: 2152 | None |\n",
      "|          | 1: 4304 | 1: 2115 |      |\n",
      "+----------+---------+---------+------+\n",
      "\n",
      "\u001b[1m----------------------- Model Architecture -------------------------\n",
      "\u001b[0m\n",
      "+----+-----------+------------+--------------------------+------------------+--------------------+\n",
      "| ID | Layer     | Dimensions | Activation               | FW_Shapes        | BW_Shapes          |\n",
      "+----+-----------+------------+--------------------------+------------------+--------------------+\n",
      "| 0  | Embedding | v: 21      |                          | X: (128, 21, 21) | dX: (128, 21, 21)  |\n",
      "|    |           | m: 128     |                          | A: (128, 21, 21) | dA: (128, 21, 21)  |\n",
      "|    |           | n: 21      |                          |                  |                    |\n",
      "+----+-----------+------------+--------------------------+------------------+--------------------+\n",
      "| 1  | LSTM      | h: 21      | activate: tanh           | Uf: (21, 21)     | dX: (128, 21, 21)  |\n",
      "|    |           | m: 128     | activate_input: sigmoid  | Ui: (21, 21)     | dh: (128, 21, 21)  |\n",
      "|    |           | s: 21      | activate_candidate: tanh | Ug: (21, 21)     | do: (128, 21, 21)  |\n",
      "|    |           | v: 21      | activate_forget: sigmoid | Uo: (21, 21)     | di: (128, 21, 21)  |\n",
      "|    |           |            | activate_output: sigmoid | Wf: (21, 21)     | df: (128, 21, 21)  |\n",
      "|    |           |            |                          | Wi: (21, 21)     | dg: (128, 21, 21)  |\n",
      "|    |           |            |                          | Wg: (21, 21)     | dz: (128, 21)      |\n",
      "|    |           |            |                          | Wo: (21, 21)     | dhn: (128, 21, 21) |\n",
      "|    |           |            |                          | bf: (21,)        | dC: (128, 21, 21)  |\n",
      "|    |           |            |                          | bi: (21,)        | dCn: (128, 21, 21) |\n",
      "|    |           |            |                          | bg: (21,)        | dA: (128, 21, 21)  |\n",
      "|    |           |            |                          | bo: (21,)        |                    |\n",
      "|    |           |            |                          | h: (128, 21, 21) |                    |\n",
      "|    |           |            |                          | C: (128, 21, 21) |                    |\n",
      "|    |           |            |                          | X: (128, 21, 21) |                    |\n",
      "|    |           |            |                          | o: (128, 21, 21) |                    |\n",
      "|    |           |            |                          | i: (128, 21, 21) |                    |\n",
      "|    |           |            |                          | f: (128, 21, 21) |                    |\n",
      "|    |           |            |                          | g: (128, 21, 21) |                    |\n",
      "|    |           |            |                          | A: (128, 21, 21) |                    |\n",
      "+----+-----------+------------+--------------------------+------------------+--------------------+\n",
      "| 2  | Flatten   | m: 128     |                          | X: (128, 21, 21) | dX: (128, 441)     |\n",
      "|    |           | n: 441     |                          | A: (128, 441)    | dA: (128, 21, 21)  |\n",
      "+----+-----------+------------+--------------------------+------------------+--------------------+\n",
      "| 3  | Dense     | n: 2       | activate: softmax        | X: (128, 441)    | dX: (128, 2)       |\n",
      "|    |           | m: 128     |                          | W: (441, 2)      | dZ: (128, 2)       |\n",
      "|    |           | p: 441     |                          | b: (1, 2)        | dA: (128, 441)     |\n",
      "|    |           |            |                          | Z: (128, 2)      |                    |\n",
      "|    |           |            |                          | A: (128, 2)      |                    |\n",
      "+----+-----------+------------+--------------------------+------------------+--------------------+\n",
      "\n",
      "\u001b[1m------------------------------------------- Layers ---------------------------------------------\n",
      "\u001b[0m\n",
      "+-------+--------+-----------+---------+--------+---------+--------+----------+----------+-------+\n",
      "| Layer | epochs | schedule  | decay_k | cycle  | cycle   | cycle  | learning | learning | end   |\n",
      "|       |        |           |         | epochs | descent | number | rate     | rate     | (%)   |\n",
      "|       |        |           |         |        |         |        | (start)  | (end)    |       |\n",
      "+-------+--------+-----------+---------+--------+---------+--------+----------+----------+-------+\n",
      "| LSTM  | 20     | exp_decay | 0.250   | 0      | 0       | 1      | 0.100    | 0.001    | 0.865 |\n",
      "+-------+--------+-----------+---------+--------+---------+--------+----------+----------+-------+\n",
      "| Dense | 20     | exp_decay | 0.250   | 0      | 0       | 1      | 0.100    | 0.001    | 0.865 |\n",
      "+-------+--------+-----------+---------+--------+---------+--------+----------+----------+-------+\n",
      "\n",
      "+-------+-------+-------+-------------+\n",
      "| Layer | LRELU | ELU   | softmax     |\n",
      "|       | alpha | alpha | temperature |\n",
      "+-------+-------+-------+-------------+\n",
      "| LSTM  | 0.010 | 0.010 | 1           |\n",
      "+-------+-------+-------+-------------+\n",
      "| Dense | 0.010 | 0.010 | 1           |\n",
      "+-------+-------+-------+-------------+\n",
      "\n",
      "\u001b[1m----------------------- 1628514727_O-GcNAc_lstmNet -------------------------\n",
      "\u001b[0m\n",
      "\n",
      "+-------+----------+----------+-------+----------+-------+-------+----------------------------+\n",
      "| \u001b[1m\u001b[37mepoch\u001b[0m |  \u001b[1m\u001b[37mlrate\u001b[0m   |  \u001b[1m\u001b[37mlrate\u001b[0m   |       | \u001b[1m\u001b[32maccuracy\u001b[0m |       |  \u001b[1m\u001b[31mBCE\u001b[0m  |         \u001b[37mExperiment\u001b[0m         |\n",
      "|       |   \u001b[37mLSTM\u001b[0m   |  \u001b[37mDense\u001b[0m   |  \u001b[1m\u001b[32m(0)\u001b[0m  |   \u001b[1m\u001b[32m(1)\u001b[0m    |  \u001b[1m\u001b[31m(0)\u001b[0m  |  \u001b[1m\u001b[31m(1)\u001b[0m  |                            |\n",
      "+-------+----------+----------+-------+----------+-------+-------+----------------------------+\n",
      "|   \u001b[1m\u001b[37m0\u001b[0m   | \u001b[1m\u001b[37m1.00e-01\u001b[0m | \u001b[1m\u001b[37m1.00e-01\u001b[0m | \u001b[1m\u001b[32m0.734\u001b[0m |  \u001b[1m\u001b[32m0.723\u001b[0m   | \u001b[1m\u001b[31m0.525\u001b[0m | \u001b[1m\u001b[31m0.540\u001b[0m | \u001b[37m1628514727_O-GcNAc_lstmNet\u001b[0m |\n",
      "|   \u001b[1m\u001b[37m1\u001b[0m   | \u001b[1m\u001b[37m7.79e-02\u001b[0m | \u001b[1m\u001b[37m7.79e-02\u001b[0m | \u001b[1m\u001b[32m0.814\u001b[0m |  \u001b[1m\u001b[32m0.806\u001b[0m   | \u001b[1m\u001b[31m0.460\u001b[0m | \u001b[1m\u001b[31m0.488\u001b[0m | \u001b[37m1628514727_O-GcNAc_lstmNet\u001b[0m |\n",
      "|   \u001b[1m\u001b[37m2\u001b[0m   | \u001b[1m\u001b[37m6.07e-02\u001b[0m | \u001b[1m\u001b[37m6.07e-02\u001b[0m | \u001b[1m\u001b[32m0.833\u001b[0m |  \u001b[1m\u001b[32m0.823\u001b[0m   | \u001b[1m\u001b[31m0.402\u001b[0m | \u001b[1m\u001b[31m0.431\u001b[0m | \u001b[37m1628514727_O-GcNAc_lstmNet\u001b[0m |\n",
      "|   \u001b[1m\u001b[37m3\u001b[0m   | \u001b[1m\u001b[37m4.72e-02\u001b[0m | \u001b[1m\u001b[37m4.72e-02\u001b[0m | \u001b[1m\u001b[32m0.838\u001b[0m |  \u001b[1m\u001b[32m0.825\u001b[0m   | \u001b[1m\u001b[31m0.384\u001b[0m | \u001b[1m\u001b[31m0.413\u001b[0m | \u001b[37m1628514727_O-GcNAc_lstmNet\u001b[0m |\n",
      "|   \u001b[1m\u001b[37m4\u001b[0m   | \u001b[1m\u001b[37m3.68e-02\u001b[0m | \u001b[1m\u001b[37m3.68e-02\u001b[0m | \u001b[1m\u001b[32m0.839\u001b[0m |  \u001b[1m\u001b[32m0.823\u001b[0m   | \u001b[1m\u001b[31m0.376\u001b[0m | \u001b[1m\u001b[31m0.407\u001b[0m | \u001b[37m1628514727_O-GcNAc_lstmNet\u001b[0m |\n",
      "|   \u001b[1m\u001b[37m5\u001b[0m   | \u001b[1m\u001b[37m2.87e-02\u001b[0m | \u001b[1m\u001b[37m2.87e-02\u001b[0m | \u001b[1m\u001b[32m0.840\u001b[0m |  \u001b[1m\u001b[32m0.821\u001b[0m   | \u001b[1m\u001b[31m0.372\u001b[0m | \u001b[1m\u001b[31m0.404\u001b[0m | \u001b[37m1628514727_O-GcNAc_lstmNet\u001b[0m |\n",
      "|   \u001b[1m\u001b[37m6\u001b[0m   | \u001b[1m\u001b[37m2.23e-02\u001b[0m | \u001b[1m\u001b[37m2.23e-02\u001b[0m | \u001b[1m\u001b[32m0.840\u001b[0m |  \u001b[1m\u001b[32m0.818\u001b[0m   | \u001b[1m\u001b[31m0.370\u001b[0m | \u001b[1m\u001b[31m0.402\u001b[0m | \u001b[37m1628514727_O-GcNAc_lstmNet\u001b[0m |\n",
      "|   \u001b[1m\u001b[37m7\u001b[0m   | \u001b[1m\u001b[37m1.74e-02\u001b[0m | \u001b[1m\u001b[37m1.74e-02\u001b[0m | \u001b[1m\u001b[32m0.839\u001b[0m |  \u001b[1m\u001b[32m0.819\u001b[0m   | \u001b[1m\u001b[31m0.369\u001b[0m | \u001b[1m\u001b[31m0.402\u001b[0m | \u001b[37m1628514727_O-GcNAc_lstmNet\u001b[0m |\n",
      "|   \u001b[1m\u001b[37m8\u001b[0m   | \u001b[1m\u001b[37m1.35e-02\u001b[0m | \u001b[1m\u001b[37m1.35e-02\u001b[0m | \u001b[1m\u001b[32m0.839\u001b[0m |  \u001b[1m\u001b[32m0.820\u001b[0m   | \u001b[1m\u001b[31m0.368\u001b[0m | \u001b[1m\u001b[31m0.401\u001b[0m | \u001b[37m1628514727_O-GcNAc_lstmNet\u001b[0m |\n",
      "|   \u001b[1m\u001b[37m9\u001b[0m   | \u001b[1m\u001b[37m1.05e-02\u001b[0m | \u001b[1m\u001b[37m1.05e-02\u001b[0m | \u001b[1m\u001b[32m0.839\u001b[0m |  \u001b[1m\u001b[32m0.820\u001b[0m   | \u001b[1m\u001b[31m0.367\u001b[0m | \u001b[1m\u001b[31m0.401\u001b[0m | \u001b[37m1628514727_O-GcNAc_lstmNet\u001b[0m |\n",
      "+-------+----------+----------+-------+----------+-------+-------+----------------------------+\n",
      "\u001b[1m\u001b[37mTIME: 48s RATE: 0.21e/s TTC: 57s\u001b[0m\n",
      "+-------+----------+----------+-------+----------+-------+-------+----------------------------+\n",
      "| \u001b[1m\u001b[37mepoch\u001b[0m |  \u001b[1m\u001b[37mlrate\u001b[0m   |  \u001b[1m\u001b[37mlrate\u001b[0m   |       | \u001b[1m\u001b[32maccuracy\u001b[0m |       |  \u001b[1m\u001b[31mBCE\u001b[0m  |         \u001b[37mExperiment\u001b[0m         |\n",
      "|       |   \u001b[37mLSTM\u001b[0m   |  \u001b[37mDense\u001b[0m   |  \u001b[1m\u001b[32m(0)\u001b[0m  |   \u001b[1m\u001b[32m(1)\u001b[0m    |  \u001b[1m\u001b[31m(0)\u001b[0m  |  \u001b[1m\u001b[31m(1)\u001b[0m  |                            |\n",
      "+-------+----------+----------+-------+----------+-------+-------+----------------------------+\n",
      "|  \u001b[1m\u001b[37m10\u001b[0m   | \u001b[1m\u001b[37m8.21e-03\u001b[0m | \u001b[1m\u001b[37m8.21e-03\u001b[0m | \u001b[1m\u001b[32m0.839\u001b[0m |  \u001b[1m\u001b[32m0.820\u001b[0m   | \u001b[1m\u001b[31m0.367\u001b[0m | \u001b[1m\u001b[31m0.401\u001b[0m | \u001b[37m1628514727_O-GcNAc_lstmNet\u001b[0m |\n",
      "|  \u001b[1m\u001b[37m11\u001b[0m   | \u001b[1m\u001b[37m6.39e-03\u001b[0m | \u001b[1m\u001b[37m6.39e-03\u001b[0m | \u001b[1m\u001b[32m0.839\u001b[0m |  \u001b[1m\u001b[32m0.819\u001b[0m   | \u001b[1m\u001b[31m0.366\u001b[0m | \u001b[1m\u001b[31m0.401\u001b[0m | \u001b[37m1628514727_O-GcNAc_lstmNet\u001b[0m |\n",
      "|  \u001b[1m\u001b[37m12\u001b[0m   | \u001b[1m\u001b[37m4.98e-03\u001b[0m | \u001b[1m\u001b[37m4.98e-03\u001b[0m | \u001b[1m\u001b[32m0.839\u001b[0m |  \u001b[1m\u001b[32m0.819\u001b[0m   | \u001b[1m\u001b[31m0.366\u001b[0m | \u001b[1m\u001b[31m0.401\u001b[0m | \u001b[37m1628514727_O-GcNAc_lstmNet\u001b[0m |\n",
      "|  \u001b[1m\u001b[37m13\u001b[0m   | \u001b[1m\u001b[37m3.88e-03\u001b[0m | \u001b[1m\u001b[37m3.88e-03\u001b[0m | \u001b[1m\u001b[32m0.839\u001b[0m |  \u001b[1m\u001b[32m0.819\u001b[0m   | \u001b[1m\u001b[31m0.366\u001b[0m | \u001b[1m\u001b[31m0.401\u001b[0m | \u001b[37m1628514727_O-GcNAc_lstmNet\u001b[0m |\n",
      "|  \u001b[1m\u001b[37m14\u001b[0m   | \u001b[1m\u001b[37m3.02e-03\u001b[0m | \u001b[1m\u001b[37m3.02e-03\u001b[0m | \u001b[1m\u001b[32m0.840\u001b[0m |  \u001b[1m\u001b[32m0.819\u001b[0m   | \u001b[1m\u001b[31m0.366\u001b[0m | \u001b[1m\u001b[31m0.401\u001b[0m | \u001b[37m1628514727_O-GcNAc_lstmNet\u001b[0m |\n",
      "|  \u001b[1m\u001b[37m15\u001b[0m   | \u001b[1m\u001b[37m2.35e-03\u001b[0m | \u001b[1m\u001b[37m2.35e-03\u001b[0m | \u001b[1m\u001b[32m0.840\u001b[0m |  \u001b[1m\u001b[32m0.819\u001b[0m   | \u001b[1m\u001b[31m0.366\u001b[0m | \u001b[1m\u001b[31m0.401\u001b[0m | \u001b[37m1628514727_O-GcNAc_lstmNet\u001b[0m |\n",
      "|  \u001b[1m\u001b[37m16\u001b[0m   | \u001b[1m\u001b[37m1.83e-03\u001b[0m | \u001b[1m\u001b[37m1.83e-03\u001b[0m | \u001b[1m\u001b[32m0.840\u001b[0m |  \u001b[1m\u001b[32m0.819\u001b[0m   | \u001b[1m\u001b[31m0.366\u001b[0m | \u001b[1m\u001b[31m0.400\u001b[0m | \u001b[37m1628514727_O-GcNAc_lstmNet\u001b[0m |\n",
      "|  \u001b[1m\u001b[37m17\u001b[0m   | \u001b[1m\u001b[37m1.43e-03\u001b[0m | \u001b[1m\u001b[37m1.43e-03\u001b[0m | \u001b[1m\u001b[32m0.839\u001b[0m |  \u001b[1m\u001b[32m0.819\u001b[0m   | \u001b[1m\u001b[31m0.366\u001b[0m | \u001b[1m\u001b[31m0.400\u001b[0m | \u001b[37m1628514727_O-GcNAc_lstmNet\u001b[0m |\n",
      "|  \u001b[1m\u001b[37m18\u001b[0m   | \u001b[1m\u001b[37m1.11e-03\u001b[0m | \u001b[1m\u001b[37m1.11e-03\u001b[0m | \u001b[1m\u001b[32m0.840\u001b[0m |  \u001b[1m\u001b[32m0.819\u001b[0m   | \u001b[1m\u001b[31m0.365\u001b[0m | \u001b[1m\u001b[31m0.400\u001b[0m | \u001b[37m1628514727_O-GcNAc_lstmNet\u001b[0m |\n",
      "|  \u001b[1m\u001b[37m19\u001b[0m   | \u001b[1m\u001b[37m8.65e-04\u001b[0m | \u001b[1m\u001b[37m8.65e-04\u001b[0m | \u001b[1m\u001b[32m0.840\u001b[0m |  \u001b[1m\u001b[32m0.819\u001b[0m   | \u001b[1m\u001b[31m0.365\u001b[0m | \u001b[1m\u001b[31m0.400\u001b[0m | \u001b[37m1628514727_O-GcNAc_lstmNet\u001b[0m |\n",
      "+-------+----------+----------+-------+----------+-------+-------+----------------------------+\n",
      "\u001b[1m\u001b[37mTIME: 95s RATE: 0.21e/s TTC: 10s\u001b[0m\n"
     ]
    }
   ],
   "source": [
    "model.train(epochs=20)"
   ]
  },
  {
   "cell_type": "code",
   "execution_count": 6,
   "metadata": {},
   "outputs": [
    {
     "data": {
      "image/png": "[encoded data removed]",
      "text/plain": [
       "<Figure size 432x288 with 1 Axes>"
      ]
     },
     "metadata": {
      "needs_background": "light"
     },
     "output_type": "display_data"
    }
   ],
   "source": [
    "model.plot(path=False)"
   ]
  },
  {
   "cell_type": "code",
   "execution_count": null,
   "metadata": {},
   "outputs": [],
   "source": []
  },
  {
   "cell_type": "markdown",
   "metadata": {},
   "source": [
    "## Deep Feed-Forward (DFF)"
   ]
  },
  {
   "cell_type": "code",
   "execution_count": 12,
   "metadata": {
    "tags": []
   },
   "outputs": [],
   "source": [
    "flatten = Flatten()\n",
    "\n",
    "hidden_dense1 = Dense(128, relu)\n",
    "\n",
    "hidden_dense2 = Dense(16, relu)\n",
    "\n",
    "dense = Dense(2, softmax)\n",
    "\n",
    "layers = [embedding, flatten, hidden_dense1, hidden_dense2, dense]\n",
    "\n",
    "model = EpyNN(layers=layers, name='O-GcNAc_DeepNet')"
   ]
  },
  {
   "cell_type": "code",
   "execution_count": 13,
   "metadata": {},
   "outputs": [],
   "source": [
    "se_hPars['learning_rate'] = 0.01\n",
    "se_hPars['schedule'] = 'steady'"
   ]
  },
  {
   "cell_type": "code",
   "execution_count": 14,
   "metadata": {
    "tags": []
   },
   "outputs": [
    {
     "name": "stdout",
     "output_type": "stream",
     "text": [
      "\u001b[1m--- EpyNN Check --- \u001b[0m\n",
      "\u001b[1mLayer: Embedding\u001b[0m\n",
      "\u001b[1m\u001b[32mcompute_shapes: Embedding\u001b[0m\n",
      "\u001b[1m\u001b[32minitialize_parameters: Embedding\u001b[0m\n",
      "\u001b[1m\u001b[32mforward: Embedding\u001b[0m\n",
      "\u001b[1mLayer: Flatten\u001b[0m\n",
      "\u001b[1m\u001b[32mcompute_shapes: Flatten\u001b[0m\n",
      "\u001b[1m\u001b[32minitialize_parameters: Flatten\u001b[0m\n",
      "\u001b[1m\u001b[32mforward: Flatten\u001b[0m\n",
      "\u001b[1mLayer: Dense\u001b[0m\n",
      "\u001b[1m\u001b[32mcompute_shapes: Dense\u001b[0m\n",
      "\u001b[1m\u001b[32minitialize_parameters: Dense\u001b[0m\n",
      "\u001b[1m\u001b[32mforward: Dense\u001b[0m\n",
      "\u001b[1mLayer: Dense\u001b[0m\n",
      "\u001b[1m\u001b[32mcompute_shapes: Dense\u001b[0m\n",
      "\u001b[1m\u001b[32minitialize_parameters: Dense\u001b[0m\n",
      "\u001b[1m\u001b[32mforward: Dense\u001b[0m\n",
      "\u001b[1mLayer: Dense\u001b[0m\n",
      "\u001b[1m\u001b[32mcompute_shapes: Dense\u001b[0m\n",
      "\u001b[1m\u001b[32minitialize_parameters: Dense\u001b[0m\n",
      "\u001b[1m\u001b[32mforward: Dense\u001b[0m\n",
      "\u001b[1m\u001b[36mbackward: Dense\u001b[0m\n",
      "\u001b[1m\u001b[36mcompute_gradients: Dense\u001b[0m\n",
      "\u001b[1m\u001b[36mbackward: Dense\u001b[0m\n",
      "\u001b[1m\u001b[36mcompute_gradients: Dense\u001b[0m\n",
      "\u001b[1m\u001b[36mbackward: Dense\u001b[0m\n",
      "\u001b[1m\u001b[36mcompute_gradients: Dense\u001b[0m\n",
      "\u001b[1m\u001b[36mbackward: Flatten\u001b[0m\n",
      "\u001b[1m\u001b[36mcompute_gradients: Flatten\u001b[0m\n",
      "\u001b[1m\u001b[36mbackward: Embedding\u001b[0m\n",
      "\u001b[1m\u001b[36mcompute_gradients: Embedding\u001b[0m\n"
     ]
    }
   ],
   "source": [
    "model.initialize(loss='BCE', se_hPars=se_hPars, seed=1)"
   ]
  },
  {
   "cell_type": "code",
   "execution_count": 15,
   "metadata": {
    "tags": []
   },
   "outputs": [
    {
     "name": "stdout",
     "output_type": "stream",
     "text": [
      "\u001b[1m----------------------- 1628514831_O-GcNAc_DeepNet -------------------------\n",
      "\u001b[0m\n",
      "\n",
      "\u001b[1m-------------------------------- Datasets ------------------------------------\n",
      "\u001b[0m\n",
      "+--------+-------+------+-------+\n",
      "| dtrain | dtest | dval | batch |\n",
      "| (0)    | (1)   | (2)  | size  |\n",
      "+--------+-------+------+-------+\n",
      "| 8533   | 4267  | None | 128   |\n",
      "+--------+-------+------+-------+\n",
      "\n",
      "+----------+---------+---------+------+\n",
      "| N_LABELS | dtrain  | dtest   | dval |\n",
      "|          | (0)     | (1)     | (2)  |\n",
      "+----------+---------+---------+------+\n",
      "| 2        | 0: 4229 | 0: 2152 | None |\n",
      "|          | 1: 4304 | 1: 2115 |      |\n",
      "+----------+---------+---------+------+\n",
      "\n",
      "\u001b[1m----------------------- Model Architecture -------------------------\n",
      "\u001b[0m\n",
      "+----+-----------+------------+-------------------+------------------+-------------------+\n",
      "| ID | Layer     | Dimensions | Activation        | FW_Shapes        | BW_Shapes         |\n",
      "+----+-----------+------------+-------------------+------------------+-------------------+\n",
      "| 0  | Embedding | v: 21      |                   | X: (128, 21, 21) | dX: (128, 21, 21) |\n",
      "|    |           | m: 128     |                   | A: (128, 21, 21) | dA: (128, 21, 21) |\n",
      "|    |           | n: 21      |                   |                  |                   |\n",
      "+----+-----------+------------+-------------------+------------------+-------------------+\n",
      "| 1  | Flatten   | m: 128     |                   | X: (128, 21, 21) | dX: (128, 441)    |\n",
      "|    |           | n: 441     |                   | A: (128, 441)    | dA: (128, 21, 21) |\n",
      "+----+-----------+------------+-------------------+------------------+-------------------+\n",
      "| 2  | Dense     | n: 128     | activate: relu    | X: (128, 441)    | dX: (128, 128)    |\n",
      "|    |           | m: 128     |                   | W: (441, 128)    | dZ: (128, 128)    |\n",
      "|    |           | p: 441     |                   | b: (1, 128)      | dA: (128, 441)    |\n",
      "|    |           |            |                   | Z: (128, 128)    |                   |\n",
      "|    |           |            |                   | A: (128, 128)    |                   |\n",
      "+----+-----------+------------+-------------------+------------------+-------------------+\n",
      "| 3  | Dense     | n: 16      | activate: relu    | X: (128, 128)    | dX: (128, 16)     |\n",
      "|    |           | m: 128     |                   | W: (128, 16)     | dZ: (128, 16)     |\n",
      "|    |           | p: 128     |                   | b: (1, 16)       | dA: (128, 128)    |\n",
      "|    |           |            |                   | Z: (128, 16)     |                   |\n",
      "|    |           |            |                   | A: (128, 16)     |                   |\n",
      "+----+-----------+------------+-------------------+------------------+-------------------+\n",
      "| 4  | Dense     | n: 2       | activate: softmax | X: (128, 16)     | dX: (128, 2)      |\n",
      "|    |           | m: 128     |                   | W: (16, 2)       | dZ: (128, 2)      |\n",
      "|    |           | p: 16      |                   | b: (1, 2)        | dA: (128, 16)     |\n",
      "|    |           |            |                   | Z: (128, 2)      |                   |\n",
      "|    |           |            |                   | A: (128, 2)      |                   |\n",
      "+----+-----------+------------+-------------------+------------------+-------------------+\n",
      "\n",
      "\u001b[1m------------------------------------------- Layers ---------------------------------------------\n",
      "\u001b[0m\n",
      "+-------+--------+----------+---------+--------+---------+--------+----------+----------+-----+\n",
      "| Layer | epochs | schedule | decay_k | cycle  | cycle   | cycle  | learning | learning | end |\n",
      "|       |        |          |         | epochs | descent | number | rate     | rate     | (%) |\n",
      "|       |        |          |         |        |         |        | (start)  | (end)    |     |\n",
      "+-------+--------+----------+---------+--------+---------+--------+----------+----------+-----+\n",
      "| Dense | 20     | steady   | 0.250   | 0      | 0       | 1      | 0.010    | 0.010    | 100 |\n",
      "+-------+--------+----------+---------+--------+---------+--------+----------+----------+-----+\n",
      "| Dense | 20     | steady   | 0.250   | 0      | 0       | 1      | 0.010    | 0.010    | 100 |\n",
      "+-------+--------+----------+---------+--------+---------+--------+----------+----------+-----+\n",
      "| Dense | 20     | steady   | 0.250   | 0      | 0       | 1      | 0.010    | 0.010    | 100 |\n",
      "+-------+--------+----------+---------+--------+---------+--------+----------+----------+-----+\n",
      "\n",
      "+-------+-------+-------+-------------+\n",
      "| Layer | LRELU | ELU   | softmax     |\n",
      "|       | alpha | alpha | temperature |\n",
      "+-------+-------+-------+-------------+\n",
      "| Dense | 0.010 | 0.010 | 1           |\n",
      "+-------+-------+-------+-------------+\n",
      "| Dense | 0.010 | 0.010 | 1           |\n",
      "+-------+-------+-------+-------------+\n",
      "| Dense | 0.010 | 0.010 | 1           |\n",
      "+-------+-------+-------+-------------+\n",
      "\n",
      "\u001b[1m----------------------- 1628514831_O-GcNAc_DeepNet -------------------------\n",
      "\u001b[0m\n",
      "\n",
      "+-------+----------+----------+----------+-------+----------+-------+-------+----------------------------+\n",
      "| \u001b[1m\u001b[37mepoch\u001b[0m |  \u001b[1m\u001b[37mlrate\u001b[0m   |  \u001b[1m\u001b[37mlrate\u001b[0m   |  \u001b[1m\u001b[37mlrate\u001b[0m   |       | \u001b[1m\u001b[32maccuracy\u001b[0m |       |  \u001b[1m\u001b[31mBCE\u001b[0m  |         \u001b[37mExperiment\u001b[0m         |\n",
      "|       |  \u001b[37mDense\u001b[0m   |  \u001b[37mDense\u001b[0m   |  \u001b[37mDense\u001b[0m   |  \u001b[1m\u001b[32m(0)\u001b[0m  |   \u001b[1m\u001b[32m(1)\u001b[0m    |  \u001b[1m\u001b[31m(0)\u001b[0m  |  \u001b[1m\u001b[31m(1)\u001b[0m  |                            |\n",
      "+-------+----------+----------+----------+-------+----------+-------+-------+----------------------------+\n",
      "|   \u001b[1m\u001b[37m0\u001b[0m   | \u001b[1m\u001b[37m1.00e-02\u001b[0m | \u001b[1m\u001b[37m1.00e-02\u001b[0m | \u001b[1m\u001b[37m1.00e-02\u001b[0m | \u001b[1m\u001b[32m0.836\u001b[0m |  \u001b[1m\u001b[32m0.811\u001b[0m   | \u001b[1m\u001b[31m0.370\u001b[0m | \u001b[1m\u001b[31m0.421\u001b[0m | \u001b[37m1628514831_O-GcNAc_DeepNet\u001b[0m |\n",
      "|   \u001b[1m\u001b[37m1\u001b[0m   | \u001b[1m\u001b[37m1.00e-02\u001b[0m | \u001b[1m\u001b[37m1.00e-02\u001b[0m | \u001b[1m\u001b[37m1.00e-02\u001b[0m | \u001b[1m\u001b[32m0.868\u001b[0m |  \u001b[1m\u001b[32m0.817\u001b[0m   | \u001b[1m\u001b[31m0.305\u001b[0m | \u001b[1m\u001b[31m0.407\u001b[0m | \u001b[37m1628514831_O-GcNAc_DeepNet\u001b[0m |\n",
      "|   \u001b[1m\u001b[37m2\u001b[0m   | \u001b[1m\u001b[37m1.00e-02\u001b[0m | \u001b[1m\u001b[37m1.00e-02\u001b[0m | \u001b[1m\u001b[37m1.00e-02\u001b[0m | \u001b[1m\u001b[32m0.898\u001b[0m |  \u001b[1m\u001b[32m0.811\u001b[0m   | \u001b[1m\u001b[31m0.256\u001b[0m | \u001b[1m\u001b[31m0.418\u001b[0m | \u001b[37m1628514831_O-GcNAc_DeepNet\u001b[0m |\n",
      "|   \u001b[1m\u001b[37m3\u001b[0m   | \u001b[1m\u001b[37m1.00e-02\u001b[0m | \u001b[1m\u001b[37m1.00e-02\u001b[0m | \u001b[1m\u001b[37m1.00e-02\u001b[0m | \u001b[1m\u001b[32m0.914\u001b[0m |  \u001b[1m\u001b[32m0.799\u001b[0m   | \u001b[1m\u001b[31m0.219\u001b[0m | \u001b[1m\u001b[31m0.481\u001b[0m | \u001b[37m1628514831_O-GcNAc_DeepNet\u001b[0m |\n",
      "|   \u001b[1m\u001b[37m4\u001b[0m   | \u001b[1m\u001b[37m1.00e-02\u001b[0m | \u001b[1m\u001b[37m1.00e-02\u001b[0m | \u001b[1m\u001b[37m1.00e-02\u001b[0m | \u001b[1m\u001b[32m0.930\u001b[0m |  \u001b[1m\u001b[32m0.796\u001b[0m   | \u001b[1m\u001b[31m0.195\u001b[0m | \u001b[1m\u001b[31m0.512\u001b[0m | \u001b[37m1628514831_O-GcNAc_DeepNet\u001b[0m |\n",
      "|   \u001b[1m\u001b[37m5\u001b[0m   | \u001b[1m\u001b[37m1.00e-02\u001b[0m | \u001b[1m\u001b[37m1.00e-02\u001b[0m | \u001b[1m\u001b[37m1.00e-02\u001b[0m | \u001b[1m\u001b[32m0.957\u001b[0m |  \u001b[1m\u001b[32m0.801\u001b[0m   | \u001b[1m\u001b[31m0.133\u001b[0m | \u001b[1m\u001b[31m0.528\u001b[0m | \u001b[37m1628514831_O-GcNAc_DeepNet\u001b[0m |\n",
      "|   \u001b[1m\u001b[37m6\u001b[0m   | \u001b[1m\u001b[37m1.00e-02\u001b[0m | \u001b[1m\u001b[37m1.00e-02\u001b[0m | \u001b[1m\u001b[37m1.00e-02\u001b[0m | \u001b[1m\u001b[32m0.969\u001b[0m |  \u001b[1m\u001b[32m0.797\u001b[0m   | \u001b[1m\u001b[31m0.106\u001b[0m | \u001b[1m\u001b[31m0.542\u001b[0m | \u001b[37m1628514831_O-GcNAc_DeepNet\u001b[0m |\n",
      "|   \u001b[1m\u001b[37m7\u001b[0m   | \u001b[1m\u001b[37m1.00e-02\u001b[0m | \u001b[1m\u001b[37m1.00e-02\u001b[0m | \u001b[1m\u001b[37m1.00e-02\u001b[0m | \u001b[1m\u001b[32m0.982\u001b[0m |  \u001b[1m\u001b[32m0.800\u001b[0m   | \u001b[1m\u001b[31m0.069\u001b[0m | \u001b[1m\u001b[31m0.619\u001b[0m | \u001b[37m1628514831_O-GcNAc_DeepNet\u001b[0m |\n",
      "|   \u001b[1m\u001b[37m8\u001b[0m   | \u001b[1m\u001b[37m1.00e-02\u001b[0m | \u001b[1m\u001b[37m1.00e-02\u001b[0m | \u001b[1m\u001b[37m1.00e-02\u001b[0m | \u001b[1m\u001b[32m0.987\u001b[0m |  \u001b[1m\u001b[32m0.803\u001b[0m   | \u001b[1m\u001b[31m0.049\u001b[0m | \u001b[1m\u001b[31m0.680\u001b[0m | \u001b[37m1628514831_O-GcNAc_DeepNet\u001b[0m |\n",
      "|   \u001b[1m\u001b[37m9\u001b[0m   | \u001b[1m\u001b[37m1.00e-02\u001b[0m | \u001b[1m\u001b[37m1.00e-02\u001b[0m | \u001b[1m\u001b[37m1.00e-02\u001b[0m | \u001b[1m\u001b[32m0.990\u001b[0m |  \u001b[1m\u001b[32m0.801\u001b[0m   | \u001b[1m\u001b[31m0.036\u001b[0m | \u001b[1m\u001b[31m0.742\u001b[0m | \u001b[37m1628514831_O-GcNAc_DeepNet\u001b[0m |\n",
      "+-------+----------+----------+----------+-------+----------+-------+-------+----------------------------+\n",
      "\u001b[1m\u001b[37mTIME: 9s RATE: 1.11e/s TTC: 11s\u001b[0m\n",
      "+-------+----------+----------+----------+-------+----------+-------+-------+----------------------------+\n",
      "| \u001b[1m\u001b[37mepoch\u001b[0m |  \u001b[1m\u001b[37mlrate\u001b[0m   |  \u001b[1m\u001b[37mlrate\u001b[0m   |  \u001b[1m\u001b[37mlrate\u001b[0m   |       | \u001b[1m\u001b[32maccuracy\u001b[0m |       |  \u001b[1m\u001b[31mBCE\u001b[0m  |         \u001b[37mExperiment\u001b[0m         |\n",
      "|       |  \u001b[37mDense\u001b[0m   |  \u001b[37mDense\u001b[0m   |  \u001b[37mDense\u001b[0m   |  \u001b[1m\u001b[32m(0)\u001b[0m  |   \u001b[1m\u001b[32m(1)\u001b[0m    |  \u001b[1m\u001b[31m(0)\u001b[0m  |  \u001b[1m\u001b[31m(1)\u001b[0m  |                            |\n",
      "+-------+----------+----------+----------+-------+----------+-------+-------+----------------------------+\n",
      "|  \u001b[1m\u001b[37m10\u001b[0m   | \u001b[1m\u001b[37m1.00e-02\u001b[0m | \u001b[1m\u001b[37m1.00e-02\u001b[0m | \u001b[1m\u001b[37m1.00e-02\u001b[0m | \u001b[1m\u001b[32m0.992\u001b[0m |  \u001b[1m\u001b[32m0.798\u001b[0m   | \u001b[1m\u001b[31m0.029\u001b[0m | \u001b[1m\u001b[31m0.790\u001b[0m | \u001b[37m1628514831_O-GcNAc_DeepNet\u001b[0m |\n",
      "|  \u001b[1m\u001b[37m11\u001b[0m   | \u001b[1m\u001b[37m1.00e-02\u001b[0m | \u001b[1m\u001b[37m1.00e-02\u001b[0m | \u001b[1m\u001b[37m1.00e-02\u001b[0m | \u001b[1m\u001b[32m0.993\u001b[0m |  \u001b[1m\u001b[32m0.800\u001b[0m   | \u001b[1m\u001b[31m0.022\u001b[0m | \u001b[1m\u001b[31m0.854\u001b[0m | \u001b[37m1628514831_O-GcNAc_DeepNet\u001b[0m |\n",
      "|  \u001b[1m\u001b[37m12\u001b[0m   | \u001b[1m\u001b[37m1.00e-02\u001b[0m | \u001b[1m\u001b[37m1.00e-02\u001b[0m | \u001b[1m\u001b[37m1.00e-02\u001b[0m | \u001b[1m\u001b[32m0.994\u001b[0m |  \u001b[1m\u001b[32m0.804\u001b[0m   | \u001b[1m\u001b[31m0.018\u001b[0m | \u001b[1m\u001b[31m0.930\u001b[0m | \u001b[37m1628514831_O-GcNAc_DeepNet\u001b[0m |\n",
      "|  \u001b[1m\u001b[37m13\u001b[0m   | \u001b[1m\u001b[37m1.00e-02\u001b[0m | \u001b[1m\u001b[37m1.00e-02\u001b[0m | \u001b[1m\u001b[37m1.00e-02\u001b[0m | \u001b[1m\u001b[32m0.997\u001b[0m |  \u001b[1m\u001b[32m0.801\u001b[0m   | \u001b[1m\u001b[31m0.016\u001b[0m | \u001b[1m\u001b[31m0.966\u001b[0m | \u001b[37m1628514831_O-GcNAc_DeepNet\u001b[0m |\n",
      "|  \u001b[1m\u001b[37m14\u001b[0m   | \u001b[1m\u001b[37m1.00e-02\u001b[0m | \u001b[1m\u001b[37m1.00e-02\u001b[0m | \u001b[1m\u001b[37m1.00e-02\u001b[0m | \u001b[1m\u001b[32m0.996\u001b[0m |  \u001b[1m\u001b[32m0.801\u001b[0m   | \u001b[1m\u001b[31m0.015\u001b[0m | \u001b[1m\u001b[31m0.985\u001b[0m | \u001b[37m1628514831_O-GcNAc_DeepNet\u001b[0m |\n",
      "|  \u001b[1m\u001b[37m15\u001b[0m   | \u001b[1m\u001b[37m1.00e-02\u001b[0m | \u001b[1m\u001b[37m1.00e-02\u001b[0m | \u001b[1m\u001b[37m1.00e-02\u001b[0m | \u001b[1m\u001b[32m0.996\u001b[0m |  \u001b[1m\u001b[32m0.800\u001b[0m   | \u001b[1m\u001b[31m0.014\u001b[0m | \u001b[1m\u001b[31m1.020\u001b[0m | \u001b[37m1628514831_O-GcNAc_DeepNet\u001b[0m |\n",
      "|  \u001b[1m\u001b[37m16\u001b[0m   | \u001b[1m\u001b[37m1.00e-02\u001b[0m | \u001b[1m\u001b[37m1.00e-02\u001b[0m | \u001b[1m\u001b[37m1.00e-02\u001b[0m | \u001b[1m\u001b[32m0.996\u001b[0m |  \u001b[1m\u001b[32m0.796\u001b[0m   | \u001b[1m\u001b[31m0.014\u001b[0m | \u001b[1m\u001b[31m1.036\u001b[0m | \u001b[37m1628514831_O-GcNAc_DeepNet\u001b[0m |\n",
      "|  \u001b[1m\u001b[37m17\u001b[0m   | \u001b[1m\u001b[37m1.00e-02\u001b[0m | \u001b[1m\u001b[37m1.00e-02\u001b[0m | \u001b[1m\u001b[37m1.00e-02\u001b[0m | \u001b[1m\u001b[32m0.996\u001b[0m |  \u001b[1m\u001b[32m0.798\u001b[0m   | \u001b[1m\u001b[31m0.014\u001b[0m | \u001b[1m\u001b[31m1.061\u001b[0m | \u001b[37m1628514831_O-GcNAc_DeepNet\u001b[0m |\n",
      "|  \u001b[1m\u001b[37m18\u001b[0m   | \u001b[1m\u001b[37m1.00e-02\u001b[0m | \u001b[1m\u001b[37m1.00e-02\u001b[0m | \u001b[1m\u001b[37m1.00e-02\u001b[0m | \u001b[1m\u001b[32m0.996\u001b[0m |  \u001b[1m\u001b[32m0.799\u001b[0m   | \u001b[1m\u001b[31m0.013\u001b[0m | \u001b[1m\u001b[31m1.084\u001b[0m | \u001b[37m1628514831_O-GcNAc_DeepNet\u001b[0m |\n",
      "|  \u001b[1m\u001b[37m19\u001b[0m   | \u001b[1m\u001b[37m1.00e-02\u001b[0m | \u001b[1m\u001b[37m1.00e-02\u001b[0m | \u001b[1m\u001b[37m1.00e-02\u001b[0m | \u001b[1m\u001b[32m0.996\u001b[0m |  \u001b[1m\u001b[32m0.798\u001b[0m   | \u001b[1m\u001b[31m0.013\u001b[0m | \u001b[1m\u001b[31m1.100\u001b[0m | \u001b[37m1628514831_O-GcNAc_DeepNet\u001b[0m |\n",
      "+-------+----------+----------+----------+-------+----------+-------+-------+----------------------------+\n",
      "\u001b[1m\u001b[37mTIME: 10s RATE: 2.0e/s TTC: 1s\u001b[0m\n"
     ]
    }
   ],
   "source": [
    "model.train(epochs=20)"
   ]
  },
  {
   "cell_type": "code",
   "execution_count": 16,
   "metadata": {
    "tags": []
   },
   "outputs": [
    {
     "data": {
      "image/png": "[encoded data removed]",
      "text/plain": [
       "<Figure size 432x288 with 1 Axes>"
      ]
     },
     "metadata": {
      "needs_background": "light"
     },
     "output_type": "display_data"
    }
   ],
   "source": [
    "model.plot(path=False)"
   ]
  },
  {
   "cell_type": "code",
   "execution_count": null,
   "metadata": {},
   "outputs": [],
   "source": []
  }
 ],
 "metadata": {
  "kernelspec": {
   "display_name": "Python 3",
   "language": "python",
   "name": "python3"
  },
  "language_info": {
   "codemirror_mode": {
    "name": "ipython",
    "version": 3
   },
   "file_extension": ".py",
   "mimetype": "text/x-python",
   "name": "python",
   "nbconvert_exporter": "python",
   "pygments_lexer": "ipython3",
   "version": "3.7.3"
  }
 },
 "nbformat": 4,
 "nbformat_minor": 4
}
