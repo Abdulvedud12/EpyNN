{
 "cells": [
  {
   "cell_type": "markdown",
   "metadata": {},
   "source": [
    "# Multiclass Classification"
   ]
  },
  {
   "cell_type": "markdown",
   "metadata": {},
   "source": [
    "* Find this notebook at `EpyNN/nnlive/captcha_mnist/train.ipynb`.\n",
    "* Regular python code at `EpyNN/nnlive/captcha_mnist/train.py`."
   ]
  },
  {
   "cell_type": "markdown",
   "metadata": {},
   "source": [
    "In this notebook we will review:\n",
    "\n",
    "* Handling numerical data image to proceed with Neural Network regression.\n",
    "* Training of Feed-Forward (FF) and Convolutional Neural Network (CNN) for multiclass classification tasks.\n",
    "* MNIST database as a benchmark for neural networks.\n",
    "\n",
    "**It is assumed that all *basics* notebooks were already reviewed:**\n",
    "\n",
    "* [Basics with Perceptron (P)](../dummy_boolean/train.ipynb)\n",
    "* [Basics with string sequence](../dummy_string/train.ipynb)\n",
    "* [Basics with numerical time-series](../dummy_time/train.ipynb)\n",
    "* [Basics with images](../dummy_image/train.ipynb)"
   ]
  },
  {
   "cell_type": "markdown",
   "metadata": {},
   "source": [
    "**<font color='red'>This notebook does not enhance, extend or replace EpyNN's documentation.</font>**\n",
    "\n",
    "**Relevant documentation pages for the current notebook:**\n",
    "\n",
    "* [Fully Connected (Dense)](https://epynn.net/Dense.html)\n",
    "* [Convolution (CNN)](https://epynn.net/Convolution.html)\n",
    "* [Pooling (CNN)](https://epynn.net/Pooling.html)"
   ]
  },
  {
   "cell_type": "markdown",
   "metadata": {},
   "source": [
    " Please follow this [external link](http://yann.lecun.com/exdb/mnist/) for detailed contextual information about the MNIST database."
   ]
  },
  {
   "cell_type": "markdown",
   "metadata": {},
   "source": [
    "## Environment and data"
   ]
  },
  {
   "cell_type": "markdown",
   "metadata": {},
   "source": [
    "Follow [this link](prepare_dataset.ipynb) for details about data preparation."
   ]
  },
  {
   "cell_type": "markdown",
   "metadata": {},
   "source": [
    "Briefly, the MNIST database contains 70 000 images (60K + 10k).\n",
    "\n",
    "Each image contains a single handwritten digit. In total, 500 different human writers contributed to the whole.\n",
    "\n",
    "The MNIST database is curated in that images were size normalized and centered."
   ]
  },
  {
   "cell_type": "code",
   "execution_count": 1,
   "metadata": {},
   "outputs": [
    {
     "name": "stdout",
     "output_type": "stream",
     "text": [
      "\u001b[1m\u001b[32mMake: /media/synthase/beta/EpyNN/nnlive/captcha_mnist/datasets\u001b[0m\n",
      "\u001b[1m\u001b[32mMake: /media/synthase/beta/EpyNN/nnlive/captcha_mnist/models\u001b[0m\n",
      "\u001b[1m\u001b[32mMake: /media/synthase/beta/EpyNN/nnlive/captcha_mnist/plots\u001b[0m\n",
      "\u001b[1m\u001b[32mMake: mnist_database.tar\u001b[0m\n"
     ]
    }
   ],
   "source": [
    "# EpyNN/nnlive/captcha_mnist/train.ipynb\n",
    "# Standard library imports\n",
    "import random\n",
    "\n",
    "# Related third party imports\n",
    "import matplotlib.pyplot as plt\n",
    "import numpy as np\n",
    "\n",
    "# Local application/library specific imports\n",
    "import epynn.initialize\n",
    "from epynn.commons.maths import relu, softmax\n",
    "from epynn.commons.library import (\n",
    "    configure_directory,\n",
    "    read_model,\n",
    ")\n",
    "from epynn.network.models import EpyNN\n",
    "from epynn.embedding.models import Embedding\n",
    "from epynn.convolution.models import Convolution\n",
    "from epynn.pooling.models import Pooling\n",
    "from epynn.flatten.models import Flatten\n",
    "from epynn.dropout.models import Dropout\n",
    "from epynn.dense.models import Dense\n",
    "from prepare_dataset import (\n",
    "    prepare_dataset,\n",
    "    download_mnist,\n",
    ")\n",
    "from settings import se_hPars\n",
    "\n",
    "\n",
    "########################## CONFIGURE ##########################\n",
    "random.seed(1)\n",
    "np.random.seed(1)\n",
    "\n",
    "np.set_printoptions(threshold=10)\n",
    "\n",
    "np.seterr(all='warn')\n",
    "\n",
    "configure_directory()\n",
    "\n",
    "\n",
    "############################ DATASET ##########################\n",
    "download_mnist()\n",
    "\n",
    "X_features, Y_label = prepare_dataset(N_SAMPLES=750)"
   ]
  },
  {
   "cell_type": "markdown",
   "metadata": {},
   "source": [
    "Let's inspect what we retrieved."
   ]
  },
  {
   "cell_type": "code",
   "execution_count": 2,
   "metadata": {},
   "outputs": [
    {
     "name": "stdout",
     "output_type": "stream",
     "text": [
      "750\n",
      "(28, 28, 1)\n",
      "{0.0, 3.0, 6.0, 11.0, 12.0, 13.0, 15.0, 17.0, 18.0, 19.0, 20.0, 21.0, 22.0, 27.0, 28.0, 32.0, 39.0, 40.0, 42.0, 43.0, 44.0, 45.0, 46.0, 48.0, 55.0, 67.0, 82.0, 86.0, 87.0, 90.0, 91.0, 94.0, 97.0, 100.0, 101.0, 104.0, 107.0, 110.0, 112.0, 115.0, 116.0, 125.0, 127.0, 129.0, 143.0, 147.0, 150.0, 151.0, 155.0, 158.0, 162.0, 163.0, 166.0, 167.0, 169.0, 170.0, 172.0, 181.0, 183.0, 184.0, 186.0, 189.0, 202.0, 205.0, 206.0, 210.0, 211.0, 214.0, 215.0, 219.0, 220.0, 221.0, 223.0, 225.0, 227.0, 228.0, 230.0, 233.0, 234.0, 237.0, 238.0, 239.0, 240.0, 241.0, 242.0, 243.0, 247.0, 250.0, 252.0, 253.0, 255.0}\n"
     ]
    }
   ],
   "source": [
    "print(len(X_features))\n",
    "print(X_features[0].shape)\n",
    "print(set(X_features[0].flatten().tolist()))    # Get all unique tones in image"
   ]
  },
  {
   "cell_type": "markdown",
   "metadata": {},
   "source": [
    "We retrieved sample features describing ``750`` samples.\n",
    "\n",
    "For each sample, we retrieved  features as a three-dimensional array of shape ``(width, height, depth)``. Each image has dimensions of 28x28 and so contains 784 pixels.\n",
    "\n",
    "In the context, remember that the ``depth`` dimension represents the number of channels which encode the image. While the depth of any RGB image would be equal to 3, the depth of a grayscale image is equal to one. We namely have a regular grayscale image in that shades of gray range from 0 to 255. \n",
    "\n",
    "Let's recall how this looks."
   ]
  },
  {
   "cell_type": "code",
   "execution_count": 3,
   "metadata": {},
   "outputs": [
    {
     "data": {
      "image/png": "[encoded data removed]",
      "text/plain": [
       "<Figure size 432x288 with 4 Axes>"
      ]
     },
     "metadata": {
      "needs_background": "light"
     },
     "output_type": "display_data"
    }
   ],
   "source": [
    "fig, ((ax0, ax1), (ax2, ax3)) = plt.subplots(2, 2)\n",
    "\n",
    "ax0.imshow(X_features[Y_label.index(0)], cmap='gray')\n",
    "ax0.set_title('label: 0')\n",
    "\n",
    "ax1.imshow(X_features[Y_label.index(1)], cmap='gray')\n",
    "ax1.set_title('label: 1')\n",
    "\n",
    "ax2.imshow(X_features[Y_label.index(2)], cmap='gray')\n",
    "ax2.set_title('label: 2')\n",
    "\n",
    "ax3.imshow(X_features[Y_label.index(3)], cmap='gray')\n",
    "ax3.set_title('label: 3')\n",
    "\n",
    "plt.tight_layout()\n",
    "plt.show()"
   ]
  },
  {
   "cell_type": "markdown",
   "metadata": {},
   "source": [
    "According to [comments from the authors](http://yann.lecun.com/exdb/mnist/) of the MNIST database: *\"The original black and white (bilevel) images from NIST were size normalized \\[...\\]. The resulting images contain grey levels as a result of the anti-aliasing technique used by the normalization algorithm\"*."
   ]
  },
  {
   "cell_type": "markdown",
   "metadata": {},
   "source": [
    "## Feed-Forward (FF)"
   ]
  },
  {
   "cell_type": "markdown",
   "metadata": {},
   "source": [
    "As explained in other examples of network training, we like to begin by a Feed-Forward network each time we start to investigate a new problem. This is because:\n",
    "\n",
    "* Feed-Forward (Dense-based) networks are computationally faster to train than other architectures.\n",
    "* Such networks may be less sensitive to training hyperparameters and thus they are easier to train.\n",
    "* There are no reasonable day/night results depending on the architecture: one Feed-Forward - even if inappropriate - architecture may result in metrics that will not be made two times better by using an appropriate architecture. This mostly depends on hyperparameters and data processing."
   ]
  },
  {
   "cell_type": "markdown",
   "metadata": {},
   "source": [
    "About this last item, one may look at the above-linked page which reports on classifier error rate with respect to method or architecture.\n",
    "\n",
    "As a condensate:\n",
    "\n",
    "* Single-layer FF (Perceptron) - 12.0% error.\n",
    "* Single-layer FF (Perceptron) - 7.6% error with deskewing (rotating a scanned image to compensate for skewing).\n",
    "* Two-layers FF with 800 hidden nodes - 1.6% error.\n",
    "* Committee of 35 Convolutional Neural Networks (CNN) - 0.23% error (best of all reported).\n",
    "\n",
    "First, we can see that from the very basic perceptron to the most evolved CNN there is an improvement from 88% to 99.77% accuracy. This is a huge gap, but both architectures succeed at recognizing patterns and drawing a decent model. \n",
    "\n",
    "Note that the gap is significantly reduced by simply applying *deskewing* to the image data, which highlights the critical importance of data pre-processing in the ability of the network to result in an accurate model.\n",
    "\n",
    "Also note that perceptrons are only able of linear regression while multi-layers Feed-Forward or CNN and other architectures can achieve non-linear regressions.\n",
    "\n",
    "When considering the two-layer Feed-Forward with 800 hidden nodes versus the state-of-the-art CNN, the accuracy goes from 98.4% to 99.77%. Overall, this illustrates that classical Feed-Forward networks may be a good alternative to more appropriate architectures when balancing between accuracy, difficulty of training and need for more computational time."
   ]
  },
  {
   "cell_type": "markdown",
   "metadata": {},
   "source": [
    "### Embedding"
   ]
  },
  {
   "cell_type": "markdown",
   "metadata": {},
   "source": [
    "We start from sample features containing values ranging from 0 to 255.\n",
    "\n",
    "The most important thing is to **normalize** sample features within \\[0, 1\\].\n",
    "\n",
    "The second thing is to set a batch size which, in this case, will make the regression converging faster.\n",
    "\n",
    "The last - but not least - thing is to one-hot encode the set of sample label. While one may not do this with binary classification problems and thus use a single node in the output dense layer - from which 0 or 1 decisions can be extracted -, the same can not reasonably be done with multiclass classification. Because we have ten distinct labels in the game, the reasonable choice is to use 10 output nodes and to one-hot encode the set of sample label."
   ]
  },
  {
   "cell_type": "code",
   "execution_count": 4,
   "metadata": {},
   "outputs": [],
   "source": [
    "embedding = Embedding(X_data=X_features,\n",
    "                      Y_data=Y_label,\n",
    "                      X_scale=True,\n",
    "                      Y_encode=True,\n",
    "                      batch_size=32,\n",
    "                      relative_size=(2, 1, 0))"
   ]
  },
  {
   "cell_type": "markdown",
   "metadata": {},
   "source": [
    "About data normalization:\n",
    "\n",
    "* It diminishes the complexity of the problem.\n",
    "* It accelerates training and makes it easier.\n",
    "* If no normalization is done in this example, the loss function and gradients will both readily explode and generate floating points errors."
   ]
  },
  {
   "cell_type": "markdown",
   "metadata": {},
   "source": [
    "About this last point, remember that exponentials are used in the context of neural networks. If you begin feeding exponential functions with large numbers such as 255, you can be sure you will get floatting points errors pretty quickly: the computer typically deals with 64-bits float number, which has a maximal value of ``1.8 * 10 ** 308``. \n",
    "\n",
    "Note that in previously used 32-bits processors architecture, this maximal value was down to ``3.4 * 10 ** 38``. Compare with ``exp(255)`` which outputs ``5.56 * 10 ** 110`` and conclude that un-normalized data in the context of this notebook would have overflowed straight away on a - not that ancient - 32-bits system. Actually, if you attempt to run this notebook on a [Raspberry Pi](https://www.raspberrypi.org/) - why not? - you would overflow without normalization because the device relies on 32-bits CPUs.  "
   ]
  },
  {
   "cell_type": "markdown",
   "metadata": {},
   "source": [
    "### Flatten-(Dense)n with Dropout"
   ]
  },
  {
   "cell_type": "markdown",
   "metadata": {},
   "source": [
    "We already explained why we need to use a *flatten* layer when attempting to forward arrays of more than 2 dimensions to the *dense* layer: image data have three dimensions, and the array of sample features - the array of sample images - has four dimensions. Therefore we need to flatten this array to give it a bi-dimensional shape."
   ]
  },
  {
   "cell_type": "code",
   "execution_count": 5,
   "metadata": {
    "tags": []
   },
   "outputs": [],
   "source": [
    "name = 'Flatten_Dropout02_Dense-64-relu_Dropout05_Dense-10-softmax'\n",
    "\n",
    "se_hPars['learning_rate'] = 0.001\n",
    "se_hPars['softmax_temperature'] = 5\n",
    "\n",
    "flatten = Flatten()\n",
    "\n",
    "dropout1 = Dropout(drop_prob=0.2)\n",
    "\n",
    "hidden_dense = Dense(64, relu)\n",
    "\n",
    "dropout2 = Dropout(drop_prob=0.5)\n",
    "\n",
    "dense = Dense(10, softmax)\n",
    "\n",
    "layers = [embedding, flatten, dropout1, hidden_dense, dropout2, dense]\n",
    "\n",
    "model = EpyNN(layers=layers, name=name)"
   ]
  },
  {
   "cell_type": "markdown",
   "metadata": {
    "tags": []
   },
   "source": [
    "We have set up a custom learning rate, along with the 10 units in the output layers because we have labels one-hot encoded over 10 digits and again because we have ten distinct labels.\n",
    "\n",
    "Dropout layers were set to reduce overfitting and the *softmax temperature* was set higher than one to smooth the output probability distribution which practically results in more numerically stable training."
   ]
  },
  {
   "cell_type": "code",
   "execution_count": 6,
   "metadata": {
    "tags": []
   },
   "outputs": [
    {
     "name": "stdout",
     "output_type": "stream",
     "text": [
      "\u001b[1m--- EpyNN Check OK! ---                                                                             \u001b[0m\r"
     ]
    }
   ],
   "source": [
    "model.initialize(loss='CCE', seed=1, se_hPars=se_hPars.copy(), end='\\r')"
   ]
  },
  {
   "cell_type": "markdown",
   "metadata": {},
   "source": [
    "We have set the loss function to use *Categorical Cross Entropy* instead of *Binary Cross Entropy*. This is because we have ten distinct labels instead of two."
   ]
  },
  {
   "cell_type": "code",
   "execution_count": 7,
   "metadata": {},
   "outputs": [
    {
     "name": "stdout",
     "output_type": "stream",
     "text": [
      "\u001b[1m\u001b[37mEpoch 99 - Batch 14/14 - Accuracy: 0.906 Cost: 0.36511 - TIME: 16.47s RATE: 6.32e+02e/s TTC: 0s     \u001b[0m\n",
      "\n",
      "+-------+----------+----------+----------+-------+--------+-------+-----------------------------------------------------------------------+\n",
      "| \u001b[1m\u001b[37mepoch\u001b[0m |  \u001b[1m\u001b[37mlrate\u001b[0m   |  \u001b[1m\u001b[37mlrate\u001b[0m   | \u001b[1m\u001b[32maccuracy\u001b[0m |       |  \u001b[1m\u001b[31mCCE\u001b[0m   |       |                              \u001b[37mExperiment\u001b[0m                               |\n",
      "|       |  \u001b[37mDense\u001b[0m   |  \u001b[37mDense\u001b[0m   |  \u001b[1m\u001b[32mdtrain\u001b[0m  | \u001b[1m\u001b[32mdval\u001b[0m  | \u001b[1m\u001b[31mdtrain\u001b[0m | \u001b[1m\u001b[31mdval\u001b[0m  |                                                                       |\n",
      "+-------+----------+----------+----------+-------+--------+-------+-----------------------------------------------------------------------+\n",
      "|   \u001b[1m\u001b[37m0\u001b[0m   | \u001b[1m\u001b[37m1.00e-03\u001b[0m | \u001b[1m\u001b[37m1.00e-03\u001b[0m |  \u001b[1m\u001b[32m0.240\u001b[0m   | \u001b[1m\u001b[32m0.220\u001b[0m | \u001b[1m\u001b[31m2.235\u001b[0m  | \u001b[1m\u001b[31m2.239\u001b[0m | \u001b[37m1631718628_Flatten_Dropout02_Dense-64-relu_Dropout05_Dense-10-softmax\u001b[0m |\n",
      "|  \u001b[1m\u001b[37m10\u001b[0m   | \u001b[1m\u001b[37m1.00e-03\u001b[0m | \u001b[1m\u001b[37m1.00e-03\u001b[0m |  \u001b[1m\u001b[32m0.700\u001b[0m   | \u001b[1m\u001b[32m0.664\u001b[0m | \u001b[1m\u001b[31m1.155\u001b[0m  | \u001b[1m\u001b[31m1.258\u001b[0m | \u001b[37m1631718628_Flatten_Dropout02_Dense-64-relu_Dropout05_Dense-10-softmax\u001b[0m |\n",
      "|  \u001b[1m\u001b[37m20\u001b[0m   | \u001b[1m\u001b[37m1.00e-03\u001b[0m | \u001b[1m\u001b[37m1.00e-03\u001b[0m |  \u001b[1m\u001b[32m0.798\u001b[0m   | \u001b[1m\u001b[32m0.740\u001b[0m | \u001b[1m\u001b[31m0.741\u001b[0m  | \u001b[1m\u001b[31m0.910\u001b[0m | \u001b[37m1631718628_Flatten_Dropout02_Dense-64-relu_Dropout05_Dense-10-softmax\u001b[0m |\n",
      "|  \u001b[1m\u001b[37m30\u001b[0m   | \u001b[1m\u001b[37m1.00e-03\u001b[0m | \u001b[1m\u001b[37m1.00e-03\u001b[0m |  \u001b[1m\u001b[32m0.830\u001b[0m   | \u001b[1m\u001b[32m0.764\u001b[0m | \u001b[1m\u001b[31m0.618\u001b[0m  | \u001b[1m\u001b[31m0.819\u001b[0m | \u001b[37m1631718628_Flatten_Dropout02_Dense-64-relu_Dropout05_Dense-10-softmax\u001b[0m |\n",
      "|  \u001b[1m\u001b[37m40\u001b[0m   | \u001b[1m\u001b[37m1.00e-03\u001b[0m | \u001b[1m\u001b[37m1.00e-03\u001b[0m |  \u001b[1m\u001b[32m0.864\u001b[0m   | \u001b[1m\u001b[32m0.808\u001b[0m | \u001b[1m\u001b[31m0.474\u001b[0m  | \u001b[1m\u001b[31m0.714\u001b[0m | \u001b[37m1631718628_Flatten_Dropout02_Dense-64-relu_Dropout05_Dense-10-softmax\u001b[0m |\n",
      "|  \u001b[1m\u001b[37m50\u001b[0m   | \u001b[1m\u001b[37m1.00e-03\u001b[0m | \u001b[1m\u001b[37m1.00e-03\u001b[0m |  \u001b[1m\u001b[32m0.872\u001b[0m   | \u001b[1m\u001b[32m0.788\u001b[0m | \u001b[1m\u001b[31m0.435\u001b[0m  | \u001b[1m\u001b[31m0.722\u001b[0m | \u001b[37m1631718628_Flatten_Dropout02_Dense-64-relu_Dropout05_Dense-10-softmax\u001b[0m |\n",
      "|  \u001b[1m\u001b[37m60\u001b[0m   | \u001b[1m\u001b[37m1.00e-03\u001b[0m | \u001b[1m\u001b[37m1.00e-03\u001b[0m |  \u001b[1m\u001b[32m0.872\u001b[0m   | \u001b[1m\u001b[32m0.820\u001b[0m | \u001b[1m\u001b[31m0.425\u001b[0m  | \u001b[1m\u001b[31m0.627\u001b[0m | \u001b[37m1631718628_Flatten_Dropout02_Dense-64-relu_Dropout05_Dense-10-softmax\u001b[0m |\n",
      "|  \u001b[1m\u001b[37m70\u001b[0m   | \u001b[1m\u001b[37m1.00e-03\u001b[0m | \u001b[1m\u001b[37m1.00e-03\u001b[0m |  \u001b[1m\u001b[32m0.900\u001b[0m   | \u001b[1m\u001b[32m0.824\u001b[0m | \u001b[1m\u001b[31m0.351\u001b[0m  | \u001b[1m\u001b[31m0.607\u001b[0m | \u001b[37m1631718628_Flatten_Dropout02_Dense-64-relu_Dropout05_Dense-10-softmax\u001b[0m |\n",
      "|  \u001b[1m\u001b[37m80\u001b[0m   | \u001b[1m\u001b[37m1.00e-03\u001b[0m | \u001b[1m\u001b[37m1.00e-03\u001b[0m |  \u001b[1m\u001b[32m0.926\u001b[0m   | \u001b[1m\u001b[32m0.824\u001b[0m | \u001b[1m\u001b[31m0.292\u001b[0m  | \u001b[1m\u001b[31m0.729\u001b[0m | \u001b[37m1631718628_Flatten_Dropout02_Dense-64-relu_Dropout05_Dense-10-softmax\u001b[0m |\n",
      "|  \u001b[1m\u001b[37m90\u001b[0m   | \u001b[1m\u001b[37m1.00e-03\u001b[0m | \u001b[1m\u001b[37m1.00e-03\u001b[0m |  \u001b[1m\u001b[32m0.930\u001b[0m   | \u001b[1m\u001b[32m0.848\u001b[0m | \u001b[1m\u001b[31m0.269\u001b[0m  | \u001b[1m\u001b[31m0.616\u001b[0m | \u001b[37m1631718628_Flatten_Dropout02_Dense-64-relu_Dropout05_Dense-10-softmax\u001b[0m |\n",
      "|  \u001b[1m\u001b[37m99\u001b[0m   | \u001b[1m\u001b[37m1.00e-03\u001b[0m | \u001b[1m\u001b[37m1.00e-03\u001b[0m |  \u001b[1m\u001b[32m0.942\u001b[0m   | \u001b[1m\u001b[32m0.828\u001b[0m | \u001b[1m\u001b[31m0.232\u001b[0m  | \u001b[1m\u001b[31m0.625\u001b[0m | \u001b[37m1631718628_Flatten_Dropout02_Dense-64-relu_Dropout05_Dense-10-softmax\u001b[0m |\n",
      "+-------+----------+----------+----------+-------+--------+-------+-----------------------------------------------------------------------+\n"
     ]
    }
   ],
   "source": [
    "model.train(epochs=100, init_logs=False)"
   ]
  },
  {
   "cell_type": "markdown",
   "metadata": {},
   "source": [
    "Again the Feed-Forward network has been quite performant to reproduce the training data, less about the validation ones. Overfitting is a general problem in the field."
   ]
  },
  {
   "cell_type": "code",
   "execution_count": 8,
   "metadata": {
    "tags": []
   },
   "outputs": [
    {
     "data": {
      "image/png": "[encoded data removed]",
      "text/plain": [
       "<Figure size 432x288 with 1 Axes>"
      ]
     },
     "metadata": {
      "needs_background": "light"
     },
     "output_type": "display_data"
    }
   ],
   "source": [
    "model.plot(path=False)"
   ]
  },
  {
   "cell_type": "markdown",
   "metadata": {},
   "source": [
    "We will not optimize this Feed-Forward model and instead we will go ahead with Convolutional networks."
   ]
  },
  {
   "cell_type": "markdown",
   "metadata": {},
   "source": [
    "## Convolutional Neural Network (CNN)"
   ]
  },
  {
   "cell_type": "markdown",
   "metadata": {},
   "source": [
    "As detailed in [Basics with images](nnlive/dummy_image/train.html#Convolutional-Neural-Network-(CNN)), CNNs are preferred when it comes to considering *a priori* spatial relationships between data points."
   ]
  },
  {
   "cell_type": "markdown",
   "metadata": {},
   "source": [
    "### Embedding"
   ]
  },
  {
   "cell_type": "markdown",
   "metadata": {},
   "source": [
    "Using same embedding configuration as above."
   ]
  },
  {
   "cell_type": "code",
   "execution_count": 9,
   "metadata": {},
   "outputs": [],
   "source": [
    "embedding = Embedding(X_data=X_features,\n",
    "                      Y_data=Y_label,\n",
    "                      X_scale=True,\n",
    "                      Y_encode=True,\n",
    "                      batch_size=32,\n",
    "                      relative_size=(2, 1, 0))"
   ]
  },
  {
   "cell_type": "markdown",
   "metadata": {},
   "source": [
    "Note that we use only *500 + 250* sample images herein. Benchmarks using the MNIST Database generally employ the whole 60 000 images for the training set itself, but it is likely to overload the RAM or not run at all on many system configurations. "
   ]
  },
  {
   "cell_type": "markdown",
   "metadata": {},
   "source": [
    "### Conv-MaxPool-Flatten-Dense"
   ]
  },
  {
   "cell_type": "markdown",
   "metadata": {},
   "source": [
    "Using a single *Convolution-Pooling* block with ``16`` filters and *4x4* filter window for the *Convolution* layer."
   ]
  },
  {
   "cell_type": "code",
   "execution_count": 10,
   "metadata": {
    "tags": []
   },
   "outputs": [],
   "source": [
    "name = 'Convolution-16-2_Pooling-3-Max_Flatten_Dense-10-softmax'\n",
    "\n",
    "se_hPars['learning_rate'] = 0.005\n",
    "se_hPars['softmax_temperature'] = 5\n",
    "\n",
    "layers = [\n",
    "    embedding,\n",
    "    Convolution(unit_filters=16, filter_size=(2, 2), activate=relu),\n",
    "    Pooling(pool_size=(2, 2)),\n",
    "    Flatten(),\n",
    "    Dense(10, softmax)\n",
    "]\n",
    "\n",
    "model = EpyNN(layers=layers, name=name)"
   ]
  },
  {
   "cell_type": "markdown",
   "metadata": {
    "tags": []
   },
   "source": [
    "Initialize the model with *Categorical Cross Entropy* loss."
   ]
  },
  {
   "cell_type": "code",
   "execution_count": 11,
   "metadata": {
    "tags": []
   },
   "outputs": [
    {
     "name": "stdout",
     "output_type": "stream",
     "text": [
      "\u001b[1m--- EpyNN Check OK! ---                                                                             \u001b[0m\r"
     ]
    }
   ],
   "source": [
    "model.initialize(loss='CCE', seed=1, se_hPars=se_hPars.copy(), end='\\r')"
   ]
  },
  {
   "cell_type": "markdown",
   "metadata": {},
   "source": [
    "Train for 20 epochs."
   ]
  },
  {
   "cell_type": "code",
   "execution_count": 12,
   "metadata": {},
   "outputs": [
    {
     "name": "stdout",
     "output_type": "stream",
     "text": [
      "\u001b[1m\u001b[37mEpoch 9 - Batch 14/14 - Accuracy: 0.75 Cost: 0.52838 - TIME: 5.63s RATE: 5.08e+01e/s TTC: 0s        \u001b[0m\n",
      "\n",
      "+-------+-------------+----------+----------+-------+--------+-------+--------------------------------------------------------------------+\n",
      "| \u001b[1m\u001b[37mepoch\u001b[0m |    \u001b[1m\u001b[37mlrate\u001b[0m    |  \u001b[1m\u001b[37mlrate\u001b[0m   | \u001b[1m\u001b[32maccuracy\u001b[0m |       |  \u001b[1m\u001b[31mCCE\u001b[0m   |       |                             \u001b[37mExperiment\u001b[0m                             |\n",
      "|       | \u001b[37mConvolution\u001b[0m |  \u001b[37mDense\u001b[0m   |  \u001b[1m\u001b[32mdtrain\u001b[0m  | \u001b[1m\u001b[32mdval\u001b[0m  | \u001b[1m\u001b[31mdtrain\u001b[0m | \u001b[1m\u001b[31mdval\u001b[0m  |                                                                    |\n",
      "+-------+-------------+----------+----------+-------+--------+-------+--------------------------------------------------------------------+\n",
      "|   \u001b[1m\u001b[37m0\u001b[0m   |  \u001b[1m\u001b[37m5.00e-03\u001b[0m   | \u001b[1m\u001b[37m5.00e-03\u001b[0m |  \u001b[1m\u001b[32m0.594\u001b[0m   | \u001b[1m\u001b[32m0.564\u001b[0m | \u001b[1m\u001b[31m1.880\u001b[0m  | \u001b[1m\u001b[31m1.916\u001b[0m | \u001b[37m1631718645_Convolution-16-2_Pooling-3-Max_Flatten_Dense-10-softmax\u001b[0m |\n",
      "|   \u001b[1m\u001b[37m1\u001b[0m   |  \u001b[1m\u001b[37m5.00e-03\u001b[0m   | \u001b[1m\u001b[37m5.00e-03\u001b[0m |  \u001b[1m\u001b[32m0.728\u001b[0m   | \u001b[1m\u001b[32m0.716\u001b[0m | \u001b[1m\u001b[31m1.083\u001b[0m  | \u001b[1m\u001b[31m1.149\u001b[0m | \u001b[37m1631718645_Convolution-16-2_Pooling-3-Max_Flatten_Dense-10-softmax\u001b[0m |\n",
      "|   \u001b[1m\u001b[37m2\u001b[0m   |  \u001b[1m\u001b[37m5.00e-03\u001b[0m   | \u001b[1m\u001b[37m5.00e-03\u001b[0m |  \u001b[1m\u001b[32m0.770\u001b[0m   | \u001b[1m\u001b[32m0.728\u001b[0m | \u001b[1m\u001b[31m0.767\u001b[0m  | \u001b[1m\u001b[31m0.824\u001b[0m | \u001b[37m1631718645_Convolution-16-2_Pooling-3-Max_Flatten_Dense-10-softmax\u001b[0m |\n",
      "|   \u001b[1m\u001b[37m3\u001b[0m   |  \u001b[1m\u001b[37m5.00e-03\u001b[0m   | \u001b[1m\u001b[37m5.00e-03\u001b[0m |  \u001b[1m\u001b[32m0.782\u001b[0m   | \u001b[1m\u001b[32m0.792\u001b[0m | \u001b[1m\u001b[31m0.661\u001b[0m  | \u001b[1m\u001b[31m0.748\u001b[0m | \u001b[37m1631718645_Convolution-16-2_Pooling-3-Max_Flatten_Dense-10-softmax\u001b[0m |\n",
      "|   \u001b[1m\u001b[37m4\u001b[0m   |  \u001b[1m\u001b[37m5.00e-03\u001b[0m   | \u001b[1m\u001b[37m5.00e-03\u001b[0m |  \u001b[1m\u001b[32m0.814\u001b[0m   | \u001b[1m\u001b[32m0.788\u001b[0m | \u001b[1m\u001b[31m0.573\u001b[0m  | \u001b[1m\u001b[31m0.668\u001b[0m | \u001b[37m1631718645_Convolution-16-2_Pooling-3-Max_Flatten_Dense-10-softmax\u001b[0m |\n",
      "|   \u001b[1m\u001b[37m5\u001b[0m   |  \u001b[1m\u001b[37m5.00e-03\u001b[0m   | \u001b[1m\u001b[37m5.00e-03\u001b[0m |  \u001b[1m\u001b[32m0.820\u001b[0m   | \u001b[1m\u001b[32m0.784\u001b[0m | \u001b[1m\u001b[31m0.585\u001b[0m  | \u001b[1m\u001b[31m0.707\u001b[0m | \u001b[37m1631718645_Convolution-16-2_Pooling-3-Max_Flatten_Dense-10-softmax\u001b[0m |\n",
      "|   \u001b[1m\u001b[37m6\u001b[0m   |  \u001b[1m\u001b[37m5.00e-03\u001b[0m   | \u001b[1m\u001b[37m5.00e-03\u001b[0m |  \u001b[1m\u001b[32m0.866\u001b[0m   | \u001b[1m\u001b[32m0.816\u001b[0m | \u001b[1m\u001b[31m0.434\u001b[0m  | \u001b[1m\u001b[31m0.613\u001b[0m | \u001b[37m1631718645_Convolution-16-2_Pooling-3-Max_Flatten_Dense-10-softmax\u001b[0m |\n",
      "|   \u001b[1m\u001b[37m7\u001b[0m   |  \u001b[1m\u001b[37m5.00e-03\u001b[0m   | \u001b[1m\u001b[37m5.00e-03\u001b[0m |  \u001b[1m\u001b[32m0.774\u001b[0m   | \u001b[1m\u001b[32m0.744\u001b[0m | \u001b[1m\u001b[31m0.610\u001b[0m  | \u001b[1m\u001b[31m0.773\u001b[0m | \u001b[37m1631718645_Convolution-16-2_Pooling-3-Max_Flatten_Dense-10-softmax\u001b[0m |\n",
      "|   \u001b[1m\u001b[37m8\u001b[0m   |  \u001b[1m\u001b[37m5.00e-03\u001b[0m   | \u001b[1m\u001b[37m5.00e-03\u001b[0m |  \u001b[1m\u001b[32m0.842\u001b[0m   | \u001b[1m\u001b[32m0.816\u001b[0m | \u001b[1m\u001b[31m0.426\u001b[0m  | \u001b[1m\u001b[31m0.639\u001b[0m | \u001b[37m1631718645_Convolution-16-2_Pooling-3-Max_Flatten_Dense-10-softmax\u001b[0m |\n",
      "|   \u001b[1m\u001b[37m9\u001b[0m   |  \u001b[1m\u001b[37m5.00e-03\u001b[0m   | \u001b[1m\u001b[37m5.00e-03\u001b[0m |  \u001b[1m\u001b[32m0.878\u001b[0m   | \u001b[1m\u001b[32m0.856\u001b[0m | \u001b[1m\u001b[31m0.389\u001b[0m  | \u001b[1m\u001b[31m0.580\u001b[0m | \u001b[37m1631718645_Convolution-16-2_Pooling-3-Max_Flatten_Dense-10-softmax\u001b[0m |\n",
      "+-------+-------------+----------+----------+-------+--------+-------+--------------------------------------------------------------------+\n"
     ]
    }
   ],
   "source": [
    "model.train(epochs=10, init_logs=False)"
   ]
  },
  {
   "cell_type": "markdown",
   "metadata": {},
   "source": [
    "The overfitting using this CNN architecture is reduced compared with the pure Feed-Forward design. However, accuracy remains slightly lower for both training and validation data.\n",
    "\n",
    "Note the ``learning_rate`` may be a bit too high here: there are jumps up and down for both accuracy and loss, particularly visible on the validation set."
   ]
  },
  {
   "cell_type": "code",
   "execution_count": 13,
   "metadata": {
    "tags": []
   },
   "outputs": [
    {
     "data": {
      "image/png": "[encoded data removed]",
      "text/plain": [
       "<Figure size 432x288 with 1 Axes>"
      ]
     },
     "metadata": {
      "needs_background": "light"
     },
     "output_type": "display_data"
    }
   ],
   "source": [
    "model.plot(path=False)"
   ]
  },
  {
   "cell_type": "markdown",
   "metadata": {},
   "source": [
    "Looking at the plot, the model seems to have converged.\n",
    "\n",
    "We will try to optimize it further."
   ]
  },
  {
   "cell_type": "markdown",
   "metadata": {},
   "source": [
    "### Conv-MaxPool-Flatten-(Dense)n"
   ]
  },
  {
   "cell_type": "markdown",
   "metadata": {},
   "source": [
    "Below we added one ``Dense(64, relu)`` hidden layer. This is the same design as used for the Feed-Forward network excepted, of course, for the *Convolution-Pooling* block. The thing to pay attention to here is the absence of *Dropout* layer compared to the Feed-Forward network."
   ]
  },
  {
   "cell_type": "code",
   "execution_count": 14,
   "metadata": {},
   "outputs": [
    {
     "name": "stdout",
     "output_type": "stream",
     "text": [
      "\u001b[1m\u001b[37mEpoch 9 - Batch 14/14 - Accuracy: 0.906 Cost: 0.5155 - TIME: 6.61s RATE: 3.10e+01e/s TTC: 0s        \u001b[0m\n",
      "\n",
      "+-------+-------------+----------+----------+----------+-------+--------+-------+----------------------------------------------------------------------------------+\n",
      "| \u001b[1m\u001b[37mepoch\u001b[0m |    \u001b[1m\u001b[37mlrate\u001b[0m    |  \u001b[1m\u001b[37mlrate\u001b[0m   |  \u001b[1m\u001b[37mlrate\u001b[0m   | \u001b[1m\u001b[32maccuracy\u001b[0m |       |  \u001b[1m\u001b[31mCCE\u001b[0m   |       |                                    \u001b[37mExperiment\u001b[0m                                    |\n",
      "|       | \u001b[37mConvolution\u001b[0m |  \u001b[37mDense\u001b[0m   |  \u001b[37mDense\u001b[0m   |  \u001b[1m\u001b[32mdtrain\u001b[0m  | \u001b[1m\u001b[32mdval\u001b[0m  | \u001b[1m\u001b[31mdtrain\u001b[0m | \u001b[1m\u001b[31mdval\u001b[0m  |                                                                                  |\n",
      "+-------+-------------+----------+----------+----------+-------+--------+-------+----------------------------------------------------------------------------------+\n",
      "|   \u001b[1m\u001b[37m0\u001b[0m   |  \u001b[1m\u001b[37m5.00e-03\u001b[0m   | \u001b[1m\u001b[37m5.00e-03\u001b[0m | \u001b[1m\u001b[37m5.00e-03\u001b[0m |  \u001b[1m\u001b[32m0.570\u001b[0m   | \u001b[1m\u001b[32m0.520\u001b[0m | \u001b[1m\u001b[31m1.822\u001b[0m  | \u001b[1m\u001b[31m1.863\u001b[0m | \u001b[37m1631718650_Convolution-16-2_Pooling-3-Max_Flatten_Dense-64-relu_Dense-10-softmax\u001b[0m |\n",
      "|   \u001b[1m\u001b[37m1\u001b[0m   |  \u001b[1m\u001b[37m5.00e-03\u001b[0m   | \u001b[1m\u001b[37m5.00e-03\u001b[0m | \u001b[1m\u001b[37m5.00e-03\u001b[0m |  \u001b[1m\u001b[32m0.628\u001b[0m   | \u001b[1m\u001b[32m0.564\u001b[0m | \u001b[1m\u001b[31m1.172\u001b[0m  | \u001b[1m\u001b[31m1.293\u001b[0m | \u001b[37m1631718650_Convolution-16-2_Pooling-3-Max_Flatten_Dense-64-relu_Dense-10-softmax\u001b[0m |\n",
      "|   \u001b[1m\u001b[37m2\u001b[0m   |  \u001b[1m\u001b[37m5.00e-03\u001b[0m   | \u001b[1m\u001b[37m5.00e-03\u001b[0m | \u001b[1m\u001b[37m5.00e-03\u001b[0m |  \u001b[1m\u001b[32m0.630\u001b[0m   | \u001b[1m\u001b[32m0.632\u001b[0m | \u001b[1m\u001b[31m1.011\u001b[0m  | \u001b[1m\u001b[31m1.081\u001b[0m | \u001b[37m1631718650_Convolution-16-2_Pooling-3-Max_Flatten_Dense-64-relu_Dense-10-softmax\u001b[0m |\n",
      "|   \u001b[1m\u001b[37m3\u001b[0m   |  \u001b[1m\u001b[37m5.00e-03\u001b[0m   | \u001b[1m\u001b[37m5.00e-03\u001b[0m | \u001b[1m\u001b[37m5.00e-03\u001b[0m |  \u001b[1m\u001b[32m0.776\u001b[0m   | \u001b[1m\u001b[32m0.740\u001b[0m | \u001b[1m\u001b[31m0.680\u001b[0m  | \u001b[1m\u001b[31m0.798\u001b[0m | \u001b[37m1631718650_Convolution-16-2_Pooling-3-Max_Flatten_Dense-64-relu_Dense-10-softmax\u001b[0m |\n",
      "|   \u001b[1m\u001b[37m4\u001b[0m   |  \u001b[1m\u001b[37m5.00e-03\u001b[0m   | \u001b[1m\u001b[37m5.00e-03\u001b[0m | \u001b[1m\u001b[37m5.00e-03\u001b[0m |  \u001b[1m\u001b[32m0.852\u001b[0m   | \u001b[1m\u001b[32m0.812\u001b[0m | \u001b[1m\u001b[31m0.514\u001b[0m  | \u001b[1m\u001b[31m0.623\u001b[0m | \u001b[37m1631718650_Convolution-16-2_Pooling-3-Max_Flatten_Dense-64-relu_Dense-10-softmax\u001b[0m |\n",
      "|   \u001b[1m\u001b[37m5\u001b[0m   |  \u001b[1m\u001b[37m5.00e-03\u001b[0m   | \u001b[1m\u001b[37m5.00e-03\u001b[0m | \u001b[1m\u001b[37m5.00e-03\u001b[0m |  \u001b[1m\u001b[32m0.770\u001b[0m   | \u001b[1m\u001b[32m0.736\u001b[0m | \u001b[1m\u001b[31m0.621\u001b[0m  | \u001b[1m\u001b[31m0.773\u001b[0m | \u001b[37m1631718650_Convolution-16-2_Pooling-3-Max_Flatten_Dense-64-relu_Dense-10-softmax\u001b[0m |\n",
      "|   \u001b[1m\u001b[37m6\u001b[0m   |  \u001b[1m\u001b[37m5.00e-03\u001b[0m   | \u001b[1m\u001b[37m5.00e-03\u001b[0m | \u001b[1m\u001b[37m5.00e-03\u001b[0m |  \u001b[1m\u001b[32m0.912\u001b[0m   | \u001b[1m\u001b[32m0.820\u001b[0m | \u001b[1m\u001b[31m0.348\u001b[0m  | \u001b[1m\u001b[31m0.587\u001b[0m | \u001b[37m1631718650_Convolution-16-2_Pooling-3-Max_Flatten_Dense-64-relu_Dense-10-softmax\u001b[0m |\n",
      "|   \u001b[1m\u001b[37m7\u001b[0m   |  \u001b[1m\u001b[37m5.00e-03\u001b[0m   | \u001b[1m\u001b[37m5.00e-03\u001b[0m | \u001b[1m\u001b[37m5.00e-03\u001b[0m |  \u001b[1m\u001b[32m0.830\u001b[0m   | \u001b[1m\u001b[32m0.780\u001b[0m | \u001b[1m\u001b[31m0.520\u001b[0m  | \u001b[1m\u001b[31m0.676\u001b[0m | \u001b[37m1631718650_Convolution-16-2_Pooling-3-Max_Flatten_Dense-64-relu_Dense-10-softmax\u001b[0m |\n",
      "|   \u001b[1m\u001b[37m8\u001b[0m   |  \u001b[1m\u001b[37m5.00e-03\u001b[0m   | \u001b[1m\u001b[37m5.00e-03\u001b[0m | \u001b[1m\u001b[37m5.00e-03\u001b[0m |  \u001b[1m\u001b[32m0.900\u001b[0m   | \u001b[1m\u001b[32m0.856\u001b[0m | \u001b[1m\u001b[31m0.315\u001b[0m  | \u001b[1m\u001b[31m0.536\u001b[0m | \u001b[37m1631718650_Convolution-16-2_Pooling-3-Max_Flatten_Dense-64-relu_Dense-10-softmax\u001b[0m |\n",
      "|   \u001b[1m\u001b[37m9\u001b[0m   |  \u001b[1m\u001b[37m5.00e-03\u001b[0m   | \u001b[1m\u001b[37m5.00e-03\u001b[0m | \u001b[1m\u001b[37m5.00e-03\u001b[0m |  \u001b[1m\u001b[32m0.902\u001b[0m   | \u001b[1m\u001b[32m0.860\u001b[0m | \u001b[1m\u001b[31m0.290\u001b[0m  | \u001b[1m\u001b[31m0.506\u001b[0m | \u001b[37m1631718650_Convolution-16-2_Pooling-3-Max_Flatten_Dense-64-relu_Dense-10-softmax\u001b[0m |\n",
      "+-------+-------------+----------+----------+----------+-------+--------+-------+----------------------------------------------------------------------------------+\n"
     ]
    },
    {
     "data": {
      "image/png": "[encoded data removed]",
      "text/plain": [
       "<Figure size 432x288 with 1 Axes>"
      ]
     },
     "metadata": {
      "needs_background": "light"
     },
     "output_type": "display_data"
    }
   ],
   "source": [
    "name = 'Convolution-16-2_Pooling-3-Max_Flatten_Dense-64-relu_Dense-10-softmax'\n",
    "\n",
    "se_hPars['learning_rate'] = 0.005\n",
    "se_hPars['softmax_temperature'] = 5\n",
    "\n",
    "layers = [\n",
    "    embedding,\n",
    "    Convolution(unit_filters=16, filter_size=(2, 2), activate=relu),\n",
    "    Pooling(pool_size=(2, 2)),\n",
    "    Flatten(),\n",
    "    Dense(64, relu),\n",
    "    Dense(10, softmax)\n",
    "]\n",
    "\n",
    "model = EpyNN(layers=layers, name=name)\n",
    "\n",
    "model.initialize(loss='CCE', seed=1, se_hPars=se_hPars.copy(), end='\\r')\n",
    "\n",
    "model.train(epochs=10, init_logs=False)\n",
    "\n",
    "model.plot(path=False)"
   ]
  },
  {
   "cell_type": "markdown",
   "metadata": {},
   "source": [
    "This result is better than the one obtained with the Feed-Forward network. Although we did not use *Dropout* regularization, there is less overfitting and higher accuracy on the validation set."
   ]
  },
  {
   "cell_type": "markdown",
   "metadata": {},
   "source": [
    "For code, maths and pictures behind the convolution and pooling layers, follow these links:\n",
    "\n",
    "* [Convolution (CNN)](https://epynn.net/Convolution.html)\n",
    "* [Pooling (CNN)](https://epynn.net/Pooling.html)"
   ]
  },
  {
   "cell_type": "markdown",
   "metadata": {},
   "source": [
    "## Write, read & Predict"
   ]
  },
  {
   "cell_type": "markdown",
   "metadata": {},
   "source": [
    "A trained model can be written on disk such as:"
   ]
  },
  {
   "cell_type": "code",
   "execution_count": 15,
   "metadata": {},
   "outputs": [
    {
     "name": "stdout",
     "output_type": "stream",
     "text": [
      "\u001b[1m\u001b[32mMake: /media/synthase/beta/EpyNN/nnlive/captcha_mnist/models/1631718650_Convolution-16-2_Pooling-3-Max_Flatten_Dense-64-relu_Dense-10-softmax.pickle\u001b[0m\n"
     ]
    }
   ],
   "source": [
    "model.write()\n",
    "\n",
    "# model.write(path=/your/custom/path)"
   ]
  },
  {
   "cell_type": "markdown",
   "metadata": {},
   "source": [
    "A model can be read from disk such as:"
   ]
  },
  {
   "cell_type": "code",
   "execution_count": 16,
   "metadata": {},
   "outputs": [],
   "source": [
    "model = read_model()\n",
    "\n",
    "# model = read_model(path=/your/custom/path)"
   ]
  },
  {
   "cell_type": "markdown",
   "metadata": {},
   "source": [
    "We can retrieve new features and predict on them."
   ]
  },
  {
   "cell_type": "code",
   "execution_count": 17,
   "metadata": {},
   "outputs": [],
   "source": [
    "X_features, _ = prepare_dataset(N_SAMPLES=10)\n",
    "\n",
    "dset = model.predict(X_features, X_scale=True)"
   ]
  },
  {
   "cell_type": "markdown",
   "metadata": {},
   "source": [
    "Results can be extracted such as:"
   ]
  },
  {
   "cell_type": "code",
   "execution_count": 18,
   "metadata": {},
   "outputs": [
    {
     "name": "stdout",
     "output_type": "stream",
     "text": [
      "0 4 [1.31587431e-03 4.08317943e-05 1.30351360e-03 1.47063124e-03\n",
      " 9.78023255e-01 1.93182534e-03 1.40558825e-03 3.30961357e-04\n",
      " 4.94257777e-04 1.36832613e-02]\n",
      "1 1 [7.28977838e-05 9.29707175e-01 3.32038257e-02 1.98144195e-03\n",
      " 2.40938005e-04 1.34165640e-02 1.50138537e-03 1.67654867e-03\n",
      " 1.77799721e-02 4.19250987e-04]\n",
      "2 3 [4.78064492e-03 3.29830971e-06 1.58072929e-03 9.54198963e-01\n",
      " 6.41479062e-05 1.35982207e-02 5.87131031e-06 3.48727032e-05\n",
      " 2.55519849e-02 1.81267435e-04]\n",
      "3 3 [4.14994350e-03 2.29267766e-03 1.15714086e-02 5.79869691e-01\n",
      " 3.52961208e-04 6.38732938e-02 1.03465443e-04 9.56096045e-03\n",
      " 3.23308022e-01 4.91757634e-03]\n",
      "4 1 [4.89436878e-06 9.80078656e-01 1.78383500e-03 7.31766268e-06\n",
      " 7.22962122e-05 1.67800975e-04 1.39517610e-04 3.73043330e-04\n",
      " 1.73534589e-02 1.91798796e-05]\n",
      "5 4 [1.27447904e-03 3.62544371e-03 1.60817813e-02 5.22806853e-04\n",
      " 5.99689165e-01 3.52024299e-01 1.56190299e-02 1.34865787e-04\n",
      " 8.51033165e-03 2.51779700e-03]\n",
      "6 2 [4.34791238e-02 5.76774386e-03 8.07714111e-01 1.08754447e-02\n",
      " 7.84182950e-04 2.48067747e-02 1.02054993e-02 2.28036464e-02\n",
      " 6.73872013e-02 6.17627146e-03]\n",
      "7 0 [9.99507456e-01 5.13513994e-09 3.37688225e-05 3.65112950e-05\n",
      " 4.74996217e-08 2.58860168e-04 1.39608623e-04 7.52209081e-06\n",
      " 1.61164137e-05 1.04078231e-07]\n",
      "8 1 [3.17634507e-05 9.73326939e-01 7.03134936e-03 4.32744881e-04\n",
      " 1.55381335e-04 2.48030926e-03 6.37703894e-04 2.73099384e-03\n",
      " 1.27339923e-02 4.38822977e-04]\n",
      "9 9 [2.59605004e-05 2.29246440e-05 1.49105703e-05 2.63219182e-04\n",
      " 4.59102905e-02 8.82117671e-04 5.73083834e-05 7.31917762e-02\n",
      " 1.00839461e-03 8.78623098e-01]\n"
     ]
    }
   ],
   "source": [
    "for n, pred, probs in zip(dset.ids, dset.P, dset.A):\n",
    "    print(n, pred, probs)"
   ]
  }
 ],
 "metadata": {
  "kernelspec": {
   "display_name": "Python 3",
   "language": "python",
   "name": "python3"
  },
  "language_info": {
   "codemirror_mode": {
    "name": "ipython",
    "version": 3
   },
   "file_extension": ".py",
   "mimetype": "text/x-python",
   "name": "python",
   "nbconvert_exporter": "python",
   "pygments_lexer": "ipython3",
   "version": "3.7.3"
  }
 },
 "nbformat": 4,
 "nbformat_minor": 4
}
