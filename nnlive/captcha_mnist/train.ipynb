{
 "cells": [
  {
   "cell_type": "markdown",
   "metadata": {},
   "source": [
    "# Multiclass Classification"
   ]
  },
  {
   "cell_type": "markdown",
   "metadata": {},
   "source": [
    "_"
   ]
  },
  {
   "cell_type": "markdown",
   "metadata": {},
   "source": [
    "## Environment and data"
   ]
  },
  {
   "cell_type": "markdown",
   "metadata": {},
   "source": [
    "_"
   ]
  },
  {
   "cell_type": "code",
   "execution_count": 1,
   "metadata": {},
   "outputs": [],
   "source": [
    "# Standard library imports\n",
    "import random\n",
    "\n",
    "# Related third party imports\n",
    "import numpy as np\n",
    "\n",
    "# Local application/library specific imports\n",
    "import nnlibs.initialize\n",
    "from nnlibs.commons.maths import relu, softmax\n",
    "from nnlibs.commons.library import (\n",
    "    configure_directory,\n",
    "    read_model,\n",
    ")\n",
    "from nnlibs.network.models import EpyNN\n",
    "\n",
    "from nnlibs.embedding.models import Embedding\n",
    "from nnlibs.convolution.models import Convolution\n",
    "from nnlibs.pooling.models import Pooling\n",
    "from nnlibs.flatten.models import Flatten\n",
    "from nnlibs.dropout.models import Dropout\n",
    "from nnlibs.dense.models import Dense\n",
    "from prepare_dataset import prepare_dataset\n",
    "from settings import se_hPars\n",
    "\n",
    "\n",
    "########################## CONFIGURE ##########################\n",
    "random.seed(1)\n",
    "np.random.seed(1)\n",
    "\n",
    "np.set_printoptions(threshold=10)\n",
    "\n",
    "np.seterr(all='warn')\n",
    "\n",
    "configure_directory()\n",
    "\n",
    "\n",
    "############################ DATASET ##########################\n",
    "X_features, Y_label = prepare_dataset(N_SAMPLES=7500)"
   ]
  },
  {
   "cell_type": "markdown",
   "metadata": {},
   "source": [
    "_"
   ]
  },
  {
   "cell_type": "markdown",
   "metadata": {},
   "source": [
    "## Feed-Forward (FF)"
   ]
  },
  {
   "cell_type": "markdown",
   "metadata": {},
   "source": [
    "_"
   ]
  },
  {
   "cell_type": "markdown",
   "metadata": {},
   "source": [
    "### Embedding"
   ]
  },
  {
   "cell_type": "markdown",
   "metadata": {},
   "source": [
    "_"
   ]
  },
  {
   "cell_type": "code",
   "execution_count": 2,
   "metadata": {},
   "outputs": [],
   "source": [
    "embedding = Embedding(X_data=X_features,\n",
    "                      Y_data=Y_label,\n",
    "                      X_scale=True,\n",
    "                      Y_encode=True,\n",
    "                      batch_size=500,\n",
    "                      relative_size=(2, 1, 0))"
   ]
  },
  {
   "cell_type": "markdown",
   "metadata": {},
   "source": [
    "_"
   ]
  },
  {
   "cell_type": "markdown",
   "metadata": {},
   "source": [
    "### Multi-layers with Dropout"
   ]
  },
  {
   "cell_type": "markdown",
   "metadata": {},
   "source": [
    "_"
   ]
  },
  {
   "cell_type": "code",
   "execution_count": 3,
   "metadata": {
    "tags": []
   },
   "outputs": [],
   "source": [
    "name = 'Flatten_Dropout-08_Dense-64-relu_Dropout-07_Dense-10-softmax'\n",
    "\n",
    "se_hPars['learning_rate'] = 0.05\n",
    "se_hPars['softmax_temperature'] = 5\n",
    "\n",
    "flatten = Flatten()\n",
    "\n",
    "dropout1 = Dropout(keep_prob=0.8)\n",
    "\n",
    "hidden_dense = Dense(64, relu)\n",
    "\n",
    "dropout2 = Dropout(keep_prob=0.7)\n",
    "\n",
    "dense = Dense(10, softmax)\n",
    "\n",
    "layers = [embedding, flatten, dropout1, hidden_dense, dropout2, dense]\n",
    "\n",
    "model = EpyNN(layers=layers, name=name)"
   ]
  },
  {
   "cell_type": "markdown",
   "metadata": {
    "tags": []
   },
   "source": [
    "_"
   ]
  },
  {
   "cell_type": "code",
   "execution_count": 4,
   "metadata": {
    "tags": []
   },
   "outputs": [
    {
     "name": "stdout",
     "output_type": "stream",
     "text": [
      "\u001b[1m--- EpyNN Check --- \u001b[0m\n",
      "\u001b[1mLayer: Embedding\u001b[0m\n",
      "\u001b[1m\u001b[32mcompute_shapes: Embedding\u001b[0m\n",
      "\u001b[1m\u001b[32minitialize_parameters: Embedding\u001b[0m\n",
      "\u001b[1m\u001b[32mforward: Embedding\u001b[0m\n",
      "\u001b[1mLayer: Flatten\u001b[0m\n",
      "\u001b[1m\u001b[32mcompute_shapes: Flatten\u001b[0m\n",
      "\u001b[1m\u001b[32minitialize_parameters: Flatten\u001b[0m\n",
      "\u001b[1m\u001b[32mforward: Flatten\u001b[0m\n",
      "\u001b[1mLayer: Dropout\u001b[0m\n",
      "\u001b[1m\u001b[32mcompute_shapes: Dropout\u001b[0m\n",
      "\u001b[1m\u001b[32minitialize_parameters: Dropout\u001b[0m\n",
      "\u001b[1m\u001b[32mforward: Dropout\u001b[0m\n",
      "\u001b[1mLayer: Dense\u001b[0m\n",
      "\u001b[1m\u001b[32mcompute_shapes: Dense\u001b[0m\n",
      "\u001b[1m\u001b[32minitialize_parameters: Dense\u001b[0m\n",
      "\u001b[1m\u001b[32mforward: Dense\u001b[0m\n",
      "\u001b[1mLayer: Dropout\u001b[0m\n",
      "\u001b[1m\u001b[32mcompute_shapes: Dropout\u001b[0m\n",
      "\u001b[1m\u001b[32minitialize_parameters: Dropout\u001b[0m\n",
      "\u001b[1m\u001b[32mforward: Dropout\u001b[0m\n",
      "\u001b[1mLayer: Dense\u001b[0m\n",
      "\u001b[1m\u001b[32mcompute_shapes: Dense\u001b[0m\n",
      "\u001b[1m\u001b[32minitialize_parameters: Dense\u001b[0m\n",
      "\u001b[1m\u001b[32mforward: Dense\u001b[0m\n",
      "\u001b[1mLayer: Dense\u001b[0m\n",
      "\u001b[1m\u001b[36mbackward: Dense\u001b[0m\n",
      "\u001b[1m\u001b[36mcompute_gradients: Dense\u001b[0m\n",
      "\u001b[1mLayer: Dropout\u001b[0m\n",
      "\u001b[1m\u001b[36mbackward: Dropout\u001b[0m\n",
      "\u001b[1m\u001b[36mcompute_gradients: Dropout\u001b[0m\n",
      "\u001b[1mLayer: Dense\u001b[0m\n",
      "\u001b[1m\u001b[36mbackward: Dense\u001b[0m\n",
      "\u001b[1m\u001b[36mcompute_gradients: Dense\u001b[0m\n",
      "\u001b[1mLayer: Dropout\u001b[0m\n",
      "\u001b[1m\u001b[36mbackward: Dropout\u001b[0m\n",
      "\u001b[1m\u001b[36mcompute_gradients: Dropout\u001b[0m\n",
      "\u001b[1mLayer: Flatten\u001b[0m\n",
      "\u001b[1m\u001b[36mbackward: Flatten\u001b[0m\n",
      "\u001b[1m\u001b[36mcompute_gradients: Flatten\u001b[0m\n",
      "\u001b[1mLayer: Embedding\u001b[0m\n",
      "\u001b[1m\u001b[36mbackward: Embedding\u001b[0m\n",
      "\u001b[1m\u001b[36mcompute_gradients: Embedding\u001b[0m\n"
     ]
    }
   ],
   "source": [
    "model.initialize(loss='CCE', seed=1, se_hPars=se_hPars.copy())"
   ]
  },
  {
   "cell_type": "markdown",
   "metadata": {},
   "source": [
    "_"
   ]
  },
  {
   "cell_type": "code",
   "execution_count": 5,
   "metadata": {},
   "outputs": [
    {
     "name": "stdout",
     "output_type": "stream",
     "text": [
      "+-------+----------+----------+-------+----------+-------+-------+-------------------------------------------------------------------------+\n",
      "| \u001b[1m\u001b[37mepoch\u001b[0m |  \u001b[1m\u001b[37mlrate\u001b[0m   |  \u001b[1m\u001b[37mlrate\u001b[0m   |       | \u001b[1m\u001b[32maccuracy\u001b[0m |       |  \u001b[1m\u001b[31mCCE\u001b[0m  |                               \u001b[37mExperiment\u001b[0m                                |\n",
      "|       |  \u001b[37mDense\u001b[0m   |  \u001b[37mDense\u001b[0m   |  \u001b[1m\u001b[32m(0)\u001b[0m  |   \u001b[1m\u001b[32m(1)\u001b[0m    |  \u001b[1m\u001b[31m(0)\u001b[0m  |  \u001b[1m\u001b[31m(1)\u001b[0m  |                                                                         |\n",
      "+-------+----------+----------+-------+----------+-------+-------+-------------------------------------------------------------------------+\n",
      "|   \u001b[1m\u001b[37m0\u001b[0m   | \u001b[1m\u001b[37m5.00e-02\u001b[0m | \u001b[1m\u001b[37m5.00e-02\u001b[0m | \u001b[1m\u001b[32m0.643\u001b[0m |  \u001b[1m\u001b[32m0.624\u001b[0m   | \u001b[1m\u001b[31m0.117\u001b[0m | \u001b[1m\u001b[31m0.120\u001b[0m | \u001b[37m1628628279_Flatten_Dropout-08_Dense-64-relu_Dropout-07_Dense-10-softmax\u001b[0m |\n",
      "|  \u001b[1m\u001b[37m10\u001b[0m   | \u001b[1m\u001b[37m5.00e-02\u001b[0m | \u001b[1m\u001b[37m5.00e-02\u001b[0m | \u001b[1m\u001b[32m0.878\u001b[0m |  \u001b[1m\u001b[32m0.865\u001b[0m   | \u001b[1m\u001b[31m0.043\u001b[0m | \u001b[1m\u001b[31m0.044\u001b[0m | \u001b[37m1628628279_Flatten_Dropout-08_Dense-64-relu_Dropout-07_Dense-10-softmax\u001b[0m |\n",
      "|  \u001b[1m\u001b[37m20\u001b[0m   | \u001b[1m\u001b[37m5.00e-02\u001b[0m | \u001b[1m\u001b[37m5.00e-02\u001b[0m | \u001b[1m\u001b[32m0.904\u001b[0m |  \u001b[1m\u001b[32m0.890\u001b[0m   | \u001b[1m\u001b[31m0.035\u001b[0m | \u001b[1m\u001b[31m0.037\u001b[0m | \u001b[37m1628628279_Flatten_Dropout-08_Dense-64-relu_Dropout-07_Dense-10-softmax\u001b[0m |\n",
      "|  \u001b[1m\u001b[37m30\u001b[0m   | \u001b[1m\u001b[37m5.00e-02\u001b[0m | \u001b[1m\u001b[37m5.00e-02\u001b[0m | \u001b[1m\u001b[32m0.930\u001b[0m |  \u001b[1m\u001b[32m0.906\u001b[0m   | \u001b[1m\u001b[31m0.029\u001b[0m | \u001b[1m\u001b[31m0.033\u001b[0m | \u001b[37m1628628279_Flatten_Dropout-08_Dense-64-relu_Dropout-07_Dense-10-softmax\u001b[0m |\n",
      "|  \u001b[1m\u001b[37m40\u001b[0m   | \u001b[1m\u001b[37m5.00e-02\u001b[0m | \u001b[1m\u001b[37m5.00e-02\u001b[0m | \u001b[1m\u001b[32m0.930\u001b[0m |  \u001b[1m\u001b[32m0.907\u001b[0m   | \u001b[1m\u001b[31m0.027\u001b[0m | \u001b[1m\u001b[31m0.030\u001b[0m | \u001b[37m1628628279_Flatten_Dropout-08_Dense-64-relu_Dropout-07_Dense-10-softmax\u001b[0m |\n",
      "|  \u001b[1m\u001b[37m50\u001b[0m   | \u001b[1m\u001b[37m5.00e-02\u001b[0m | \u001b[1m\u001b[37m5.00e-02\u001b[0m | \u001b[1m\u001b[32m0.933\u001b[0m |  \u001b[1m\u001b[32m0.909\u001b[0m   | \u001b[1m\u001b[31m0.025\u001b[0m | \u001b[1m\u001b[31m0.030\u001b[0m | \u001b[37m1628628279_Flatten_Dropout-08_Dense-64-relu_Dropout-07_Dense-10-softmax\u001b[0m |\n",
      "|  \u001b[1m\u001b[37m60\u001b[0m   | \u001b[1m\u001b[37m5.00e-02\u001b[0m | \u001b[1m\u001b[37m5.00e-02\u001b[0m | \u001b[1m\u001b[32m0.947\u001b[0m |  \u001b[1m\u001b[32m0.908\u001b[0m   | \u001b[1m\u001b[31m0.022\u001b[0m | \u001b[1m\u001b[31m0.029\u001b[0m | \u001b[37m1628628279_Flatten_Dropout-08_Dense-64-relu_Dropout-07_Dense-10-softmax\u001b[0m |\n",
      "|  \u001b[1m\u001b[37m70\u001b[0m   | \u001b[1m\u001b[37m5.00e-02\u001b[0m | \u001b[1m\u001b[37m5.00e-02\u001b[0m | \u001b[1m\u001b[32m0.948\u001b[0m |  \u001b[1m\u001b[32m0.908\u001b[0m   | \u001b[1m\u001b[31m0.020\u001b[0m | \u001b[1m\u001b[31m0.030\u001b[0m | \u001b[37m1628628279_Flatten_Dropout-08_Dense-64-relu_Dropout-07_Dense-10-softmax\u001b[0m |\n",
      "|  \u001b[1m\u001b[37m80\u001b[0m   | \u001b[1m\u001b[37m5.00e-02\u001b[0m | \u001b[1m\u001b[37m5.00e-02\u001b[0m | \u001b[1m\u001b[32m0.956\u001b[0m |  \u001b[1m\u001b[32m0.920\u001b[0m   | \u001b[1m\u001b[31m0.019\u001b[0m | \u001b[1m\u001b[31m0.029\u001b[0m | \u001b[37m1628628279_Flatten_Dropout-08_Dense-64-relu_Dropout-07_Dense-10-softmax\u001b[0m |\n",
      "|  \u001b[1m\u001b[37m90\u001b[0m   | \u001b[1m\u001b[37m5.00e-02\u001b[0m | \u001b[1m\u001b[37m5.00e-02\u001b[0m | \u001b[1m\u001b[32m0.955\u001b[0m |  \u001b[1m\u001b[32m0.920\u001b[0m   | \u001b[1m\u001b[31m0.018\u001b[0m | \u001b[1m\u001b[31m0.027\u001b[0m | \u001b[37m1628628279_Flatten_Dropout-08_Dense-64-relu_Dropout-07_Dense-10-softmax\u001b[0m |\n",
      "|  \u001b[1m\u001b[37m99\u001b[0m   | \u001b[1m\u001b[37m5.00e-02\u001b[0m | \u001b[1m\u001b[37m5.00e-02\u001b[0m | \u001b[1m\u001b[32m0.953\u001b[0m |  \u001b[1m\u001b[32m0.920\u001b[0m   | \u001b[1m\u001b[31m0.018\u001b[0m | \u001b[1m\u001b[31m0.029\u001b[0m | \u001b[37m1628628279_Flatten_Dropout-08_Dense-64-relu_Dropout-07_Dense-10-softmax\u001b[0m |\n",
      "+-------+----------+----------+-------+----------+-------+-------+-------------------------------------------------------------------------+\n",
      "\u001b[1m\u001b[37mEpoch: 99 - TIME: 42s RATE: 2.38e/s TTC: 1s\u001b[0m\r"
     ]
    }
   ],
   "source": [
    "model.train(epochs=100, init_logs=False)"
   ]
  },
  {
   "cell_type": "markdown",
   "metadata": {},
   "source": [
    "_"
   ]
  },
  {
   "cell_type": "code",
   "execution_count": 6,
   "metadata": {
    "tags": []
   },
   "outputs": [
    {
     "data": {
      "image/png": "[encoded data removed]",
      "text/plain": [
       "<Figure size 432x288 with 1 Axes>"
      ]
     },
     "metadata": {
      "needs_background": "light"
     },
     "output_type": "display_data"
    }
   ],
   "source": [
    "model.plot(path=False)"
   ]
  },
  {
   "cell_type": "markdown",
   "metadata": {},
   "source": [
    "### _"
   ]
  },
  {
   "cell_type": "markdown",
   "metadata": {},
   "source": [
    "_"
   ]
  },
  {
   "cell_type": "code",
   "execution_count": null,
   "metadata": {
    "tags": []
   },
   "outputs": [],
   "source": []
  },
  {
   "cell_type": "markdown",
   "metadata": {
    "tags": []
   },
   "source": [
    "_"
   ]
  },
  {
   "cell_type": "code",
   "execution_count": null,
   "metadata": {
    "tags": []
   },
   "outputs": [],
   "source": []
  },
  {
   "cell_type": "markdown",
   "metadata": {},
   "source": [
    "_"
   ]
  },
  {
   "cell_type": "code",
   "execution_count": null,
   "metadata": {},
   "outputs": [],
   "source": []
  },
  {
   "cell_type": "markdown",
   "metadata": {},
   "source": [
    "_"
   ]
  },
  {
   "cell_type": "code",
   "execution_count": null,
   "metadata": {
    "tags": []
   },
   "outputs": [],
   "source": []
  },
  {
   "cell_type": "markdown",
   "metadata": {},
   "source": [
    "## Convolutional Neural Network (CNN)"
   ]
  },
  {
   "cell_type": "markdown",
   "metadata": {},
   "source": [
    "_"
   ]
  },
  {
   "cell_type": "markdown",
   "metadata": {},
   "source": [
    "### Embedding"
   ]
  },
  {
   "cell_type": "markdown",
   "metadata": {},
   "source": [
    "_"
   ]
  },
  {
   "cell_type": "code",
   "execution_count": 7,
   "metadata": {},
   "outputs": [],
   "source": [
    "embedding = Embedding(X_data=X_features,\n",
    "                      Y_data=Y_label,\n",
    "                      X_scale=True,\n",
    "                      Y_encode=True,\n",
    "                      batch_size=500,\n",
    "                      relative_size=(2, 1, 0))"
   ]
  },
  {
   "cell_type": "markdown",
   "metadata": {},
   "source": [
    "_"
   ]
  },
  {
   "cell_type": "markdown",
   "metadata": {},
   "source": [
    "### Conv-MaxPool-Flatten-Dense"
   ]
  },
  {
   "cell_type": "markdown",
   "metadata": {},
   "source": [
    "_"
   ]
  },
  {
   "cell_type": "code",
   "execution_count": 8,
   "metadata": {
    "tags": []
   },
   "outputs": [],
   "source": [
    "name = 'Convolution-32-2_Pooling-3-3-Max_Flatten_Dense-10-softmax'\n",
    "\n",
    "se_hPars['learning_rate'] = 0.005\n",
    "se_hPars['softmax_temperature'] = 5\n",
    "\n",
    "convolution = Convolution(n_filters=32, f_width=2, activate=relu)\n",
    "\n",
    "pooling = Pooling(pool_size=(3, 3), stride=3)\n",
    "\n",
    "flatten = Flatten()\n",
    "\n",
    "# hidden_dense = Dense(128, relu)\n",
    "dense = Dense(10, softmax)\n",
    "\n",
    "layers = [embedding, convolution, pooling, flatten, dense]\n",
    "# layers = [embedding, convolution, pooling, flatten, hidden_dense, dense]"
   ]
  },
  {
   "cell_type": "markdown",
   "metadata": {
    "tags": []
   },
   "source": [
    "_"
   ]
  },
  {
   "cell_type": "code",
   "execution_count": 9,
   "metadata": {
    "tags": []
   },
   "outputs": [
    {
     "name": "stdout",
     "output_type": "stream",
     "text": [
      "\u001b[1m--- EpyNN Check --- \u001b[0m\n",
      "\u001b[1mLayer: Embedding\u001b[0m\n",
      "\u001b[1m\u001b[32mcompute_shapes: Embedding\u001b[0m\n",
      "\u001b[1m\u001b[32minitialize_parameters: Embedding\u001b[0m\n",
      "\u001b[1m\u001b[32mforward: Embedding\u001b[0m\n",
      "\u001b[1mLayer: Flatten\u001b[0m\n",
      "\u001b[1m\u001b[32mcompute_shapes: Flatten\u001b[0m\n",
      "\u001b[1m\u001b[32minitialize_parameters: Flatten\u001b[0m\n",
      "\u001b[1m\u001b[32mforward: Flatten\u001b[0m\n",
      "\u001b[1mLayer: Dropout\u001b[0m\n",
      "\u001b[1m\u001b[32mcompute_shapes: Dropout\u001b[0m\n",
      "\u001b[1m\u001b[32minitialize_parameters: Dropout\u001b[0m\n",
      "\u001b[1m\u001b[32mforward: Dropout\u001b[0m\n",
      "\u001b[1mLayer: Dense\u001b[0m\n",
      "\u001b[1m\u001b[32mcompute_shapes: Dense\u001b[0m\n",
      "\u001b[1m\u001b[32minitialize_parameters: Dense\u001b[0m\n",
      "\u001b[1m\u001b[32mforward: Dense\u001b[0m\n",
      "\u001b[1mLayer: Dropout\u001b[0m\n",
      "\u001b[1m\u001b[32mcompute_shapes: Dropout\u001b[0m\n",
      "\u001b[1m\u001b[32minitialize_parameters: Dropout\u001b[0m\n",
      "\u001b[1m\u001b[32mforward: Dropout\u001b[0m\n",
      "\u001b[1mLayer: Dense\u001b[0m\n",
      "\u001b[1m\u001b[32mcompute_shapes: Dense\u001b[0m\n",
      "\u001b[1m\u001b[32minitialize_parameters: Dense\u001b[0m\n",
      "\u001b[1m\u001b[32mforward: Dense\u001b[0m\n",
      "\u001b[1mLayer: Dense\u001b[0m\n",
      "\u001b[1m\u001b[36mbackward: Dense\u001b[0m\n",
      "\u001b[1m\u001b[36mcompute_gradients: Dense\u001b[0m\n",
      "\u001b[1mLayer: Dropout\u001b[0m\n",
      "\u001b[1m\u001b[36mbackward: Dropout\u001b[0m\n",
      "\u001b[1m\u001b[36mcompute_gradients: Dropout\u001b[0m\n",
      "\u001b[1mLayer: Dense\u001b[0m\n",
      "\u001b[1m\u001b[36mbackward: Dense\u001b[0m\n",
      "\u001b[1m\u001b[36mcompute_gradients: Dense\u001b[0m\n",
      "\u001b[1mLayer: Dropout\u001b[0m\n",
      "\u001b[1m\u001b[36mbackward: Dropout\u001b[0m\n",
      "\u001b[1m\u001b[36mcompute_gradients: Dropout\u001b[0m\n",
      "\u001b[1mLayer: Flatten\u001b[0m\n",
      "\u001b[1m\u001b[36mbackward: Flatten\u001b[0m\n",
      "\u001b[1m\u001b[36mcompute_gradients: Flatten\u001b[0m\n",
      "\u001b[1mLayer: Embedding\u001b[0m\n",
      "\u001b[1m\u001b[36mbackward: Embedding\u001b[0m\n",
      "\u001b[1m\u001b[36mcompute_gradients: Embedding\u001b[0m\n"
     ]
    }
   ],
   "source": [
    "model.initialize(loss='CCE', seed=1, se_hPars=se_hPars.copy())"
   ]
  },
  {
   "cell_type": "markdown",
   "metadata": {},
   "source": [
    "_"
   ]
  },
  {
   "cell_type": "code",
   "execution_count": 10,
   "metadata": {},
   "outputs": [
    {
     "name": "stdout",
     "output_type": "stream",
     "text": [
      "+-------+----------+----------+-------+----------+-------+-------+-------------------------------------------------------------------------+\n",
      "| \u001b[1m\u001b[37mepoch\u001b[0m |  \u001b[1m\u001b[37mlrate\u001b[0m   |  \u001b[1m\u001b[37mlrate\u001b[0m   |       | \u001b[1m\u001b[32maccuracy\u001b[0m |       |  \u001b[1m\u001b[31mCCE\u001b[0m  |                               \u001b[37mExperiment\u001b[0m                                |\n",
      "|       |  \u001b[37mDense\u001b[0m   |  \u001b[37mDense\u001b[0m   |  \u001b[1m\u001b[32m(0)\u001b[0m  |   \u001b[1m\u001b[32m(1)\u001b[0m    |  \u001b[1m\u001b[31m(0)\u001b[0m  |  \u001b[1m\u001b[31m(1)\u001b[0m  |                                                                         |\n",
      "+-------+----------+----------+-------+----------+-------+-------+-------------------------------------------------------------------------+\n",
      "|   \u001b[1m\u001b[37m0\u001b[0m   | \u001b[1m\u001b[37m5.00e-02\u001b[0m | \u001b[1m\u001b[37m5.00e-02\u001b[0m | \u001b[1m\u001b[32m0.643\u001b[0m |  \u001b[1m\u001b[32m0.624\u001b[0m   | \u001b[1m\u001b[31m0.117\u001b[0m | \u001b[1m\u001b[31m0.120\u001b[0m | \u001b[37m1628628279_Flatten_Dropout-08_Dense-64-relu_Dropout-07_Dense-10-softmax\u001b[0m |\n",
      "|   \u001b[1m\u001b[37m3\u001b[0m   | \u001b[1m\u001b[37m5.00e-02\u001b[0m | \u001b[1m\u001b[37m5.00e-02\u001b[0m | \u001b[1m\u001b[32m0.815\u001b[0m |  \u001b[1m\u001b[32m0.799\u001b[0m   | \u001b[1m\u001b[31m0.062\u001b[0m | \u001b[1m\u001b[31m0.063\u001b[0m | \u001b[37m1628628279_Flatten_Dropout-08_Dense-64-relu_Dropout-07_Dense-10-softmax\u001b[0m |\n",
      "|   \u001b[1m\u001b[37m6\u001b[0m   | \u001b[1m\u001b[37m5.00e-02\u001b[0m | \u001b[1m\u001b[37m5.00e-02\u001b[0m | \u001b[1m\u001b[32m0.844\u001b[0m |  \u001b[1m\u001b[32m0.836\u001b[0m   | \u001b[1m\u001b[31m0.052\u001b[0m | \u001b[1m\u001b[31m0.053\u001b[0m | \u001b[37m1628628279_Flatten_Dropout-08_Dense-64-relu_Dropout-07_Dense-10-softmax\u001b[0m |\n",
      "|   \u001b[1m\u001b[37m9\u001b[0m   | \u001b[1m\u001b[37m5.00e-02\u001b[0m | \u001b[1m\u001b[37m5.00e-02\u001b[0m | \u001b[1m\u001b[32m0.871\u001b[0m |  \u001b[1m\u001b[32m0.856\u001b[0m   | \u001b[1m\u001b[31m0.044\u001b[0m | \u001b[1m\u001b[31m0.046\u001b[0m | \u001b[37m1628628279_Flatten_Dropout-08_Dense-64-relu_Dropout-07_Dense-10-softmax\u001b[0m |\n",
      "|  \u001b[1m\u001b[37m12\u001b[0m   | \u001b[1m\u001b[37m5.00e-02\u001b[0m | \u001b[1m\u001b[37m5.00e-02\u001b[0m | \u001b[1m\u001b[32m0.882\u001b[0m |  \u001b[1m\u001b[32m0.866\u001b[0m   | \u001b[1m\u001b[31m0.041\u001b[0m | \u001b[1m\u001b[31m0.042\u001b[0m | \u001b[37m1628628279_Flatten_Dropout-08_Dense-64-relu_Dropout-07_Dense-10-softmax\u001b[0m |\n",
      "|  \u001b[1m\u001b[37m15\u001b[0m   | \u001b[1m\u001b[37m5.00e-02\u001b[0m | \u001b[1m\u001b[37m5.00e-02\u001b[0m | \u001b[1m\u001b[32m0.899\u001b[0m |  \u001b[1m\u001b[32m0.876\u001b[0m   | \u001b[1m\u001b[31m0.037\u001b[0m | \u001b[1m\u001b[31m0.041\u001b[0m | \u001b[37m1628628279_Flatten_Dropout-08_Dense-64-relu_Dropout-07_Dense-10-softmax\u001b[0m |\n",
      "|  \u001b[1m\u001b[37m18\u001b[0m   | \u001b[1m\u001b[37m5.00e-02\u001b[0m | \u001b[1m\u001b[37m5.00e-02\u001b[0m | \u001b[1m\u001b[32m0.904\u001b[0m |  \u001b[1m\u001b[32m0.882\u001b[0m   | \u001b[1m\u001b[31m0.035\u001b[0m | \u001b[1m\u001b[31m0.040\u001b[0m | \u001b[37m1628628279_Flatten_Dropout-08_Dense-64-relu_Dropout-07_Dense-10-softmax\u001b[0m |\n",
      "|  \u001b[1m\u001b[37m21\u001b[0m   | \u001b[1m\u001b[37m5.00e-02\u001b[0m | \u001b[1m\u001b[37m5.00e-02\u001b[0m | \u001b[1m\u001b[32m0.913\u001b[0m |  \u001b[1m\u001b[32m0.892\u001b[0m   | \u001b[1m\u001b[31m0.032\u001b[0m | \u001b[1m\u001b[31m0.035\u001b[0m | \u001b[37m1628628279_Flatten_Dropout-08_Dense-64-relu_Dropout-07_Dense-10-softmax\u001b[0m |\n",
      "|  \u001b[1m\u001b[37m24\u001b[0m   | \u001b[1m\u001b[37m5.00e-02\u001b[0m | \u001b[1m\u001b[37m5.00e-02\u001b[0m | \u001b[1m\u001b[32m0.916\u001b[0m |  \u001b[1m\u001b[32m0.902\u001b[0m   | \u001b[1m\u001b[31m0.032\u001b[0m | \u001b[1m\u001b[31m0.035\u001b[0m | \u001b[37m1628628279_Flatten_Dropout-08_Dense-64-relu_Dropout-07_Dense-10-softmax\u001b[0m |\n",
      "|  \u001b[1m\u001b[37m27\u001b[0m   | \u001b[1m\u001b[37m5.00e-02\u001b[0m | \u001b[1m\u001b[37m5.00e-02\u001b[0m | \u001b[1m\u001b[32m0.920\u001b[0m |  \u001b[1m\u001b[32m0.906\u001b[0m   | \u001b[1m\u001b[31m0.030\u001b[0m | \u001b[1m\u001b[31m0.033\u001b[0m | \u001b[37m1628628279_Flatten_Dropout-08_Dense-64-relu_Dropout-07_Dense-10-softmax\u001b[0m |\n",
      "|  \u001b[1m\u001b[37m29\u001b[0m   | \u001b[1m\u001b[37m5.00e-02\u001b[0m | \u001b[1m\u001b[37m5.00e-02\u001b[0m | \u001b[1m\u001b[32m0.924\u001b[0m |  \u001b[1m\u001b[32m0.900\u001b[0m   | \u001b[1m\u001b[31m0.029\u001b[0m | \u001b[1m\u001b[31m0.035\u001b[0m | \u001b[37m1628628279_Flatten_Dropout-08_Dense-64-relu_Dropout-07_Dense-10-softmax\u001b[0m |\n",
      "+-------+----------+----------+-------+----------+-------+-------+-------------------------------------------------------------------------+\n",
      "\u001b[1m\u001b[37mEpoch: 29 - TIME: 54s RATE: 0.56e/s TTC: 4s\u001b[0m\r"
     ]
    }
   ],
   "source": [
    "model.train(epochs=30, init_logs=False)"
   ]
  },
  {
   "cell_type": "markdown",
   "metadata": {},
   "source": [
    "_"
   ]
  },
  {
   "cell_type": "code",
   "execution_count": 11,
   "metadata": {
    "tags": []
   },
   "outputs": [
    {
     "data": {
      "image/png": "[encoded data removed]",
      "text/plain": [
       "<Figure size 432x288 with 1 Axes>"
      ]
     },
     "metadata": {
      "needs_background": "light"
     },
     "output_type": "display_data"
    }
   ],
   "source": [
    "model.plot(path=False)"
   ]
  },
  {
   "cell_type": "markdown",
   "metadata": {
    "tags": []
   },
   "source": [
    "_"
   ]
  },
  {
   "cell_type": "markdown",
   "metadata": {},
   "source": [
    "### _"
   ]
  },
  {
   "cell_type": "markdown",
   "metadata": {},
   "source": [
    "_"
   ]
  },
  {
   "cell_type": "code",
   "execution_count": null,
   "metadata": {
    "tags": []
   },
   "outputs": [],
   "source": []
  },
  {
   "cell_type": "markdown",
   "metadata": {
    "tags": []
   },
   "source": [
    "_"
   ]
  },
  {
   "cell_type": "code",
   "execution_count": null,
   "metadata": {
    "tags": []
   },
   "outputs": [],
   "source": []
  },
  {
   "cell_type": "markdown",
   "metadata": {},
   "source": [
    "_"
   ]
  },
  {
   "cell_type": "code",
   "execution_count": null,
   "metadata": {},
   "outputs": [],
   "source": []
  },
  {
   "cell_type": "markdown",
   "metadata": {},
   "source": [
    "_"
   ]
  },
  {
   "cell_type": "code",
   "execution_count": null,
   "metadata": {
    "tags": []
   },
   "outputs": [],
   "source": []
  },
  {
   "cell_type": "markdown",
   "metadata": {
    "tags": []
   },
   "source": [
    "_"
   ]
  }
 ],
 "metadata": {
  "kernelspec": {
   "display_name": "Python 3",
   "language": "python",
   "name": "python3"
  },
  "language_info": {
   "codemirror_mode": {
    "name": "ipython",
    "version": 3
   },
   "file_extension": ".py",
   "mimetype": "text/x-python",
   "name": "python",
   "nbconvert_exporter": "python",
   "pygments_lexer": "ipython3",
   "version": "3.7.3"
  }
 },
 "nbformat": 4,
 "nbformat_minor": 4
}
