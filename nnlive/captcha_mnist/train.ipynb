{
 "cells": [
  {
   "cell_type": "markdown",
   "metadata": {},
   "source": [
    "# Multiclass Classification"
   ]
  },
  {
   "cell_type": "markdown",
   "metadata": {},
   "source": [
    "* Find this notebook at `EpyNN/nnlive/captcha_mnist/train.ipynb`.\n",
    "* Regular python code at `EpyNN/nnlive/captcha_mnist/train.py`."
   ]
  },
  {
   "cell_type": "markdown",
   "metadata": {},
   "source": [
    "In this notebook we will review:\n",
    "\n",
    "* Handling numerical data image to proceed with Neural Network regression.\n",
    "* Training of Feed-Forward (FF) and Convolutional Neural Network (CNN) for multiclass classification task.\n",
    "* MNIST database as a benchmark for neural networks."
   ]
  },
  {
   "cell_type": "markdown",
   "metadata": {},
   "source": [
    "Please see the following if you get lost:\n",
    "\n",
    "* [Fully Connected (Dense)](../../Dense.html)\n",
    "* [Convolution (CNN)](../../Convolution.html)\n",
    "* [Pooling (CNN)](../../Pooling.html)"
   ]
  },
  {
   "cell_type": "markdown",
   "metadata": {},
   "source": [
    " Please follow this [external link](http://yann.lecun.com/exdb/mnist/) for detailed contextual information about the MNIST database."
   ]
  },
  {
   "cell_type": "markdown",
   "metadata": {},
   "source": [
    "## Environment and data"
   ]
  },
  {
   "cell_type": "markdown",
   "metadata": {},
   "source": [
    "Follow [this link](prepare_dataset.ipynb) for details about data preparation."
   ]
  },
  {
   "cell_type": "markdown",
   "metadata": {},
   "source": [
    "Briefly, the MNIST database contains 70 000 images (60K + 10k).\n",
    "\n",
    "Each image contains a single handwritten digit. In total, 500 different human writters contributed to the whole.\n",
    "\n",
    "The MNIST database is curated in that images were size normalized and centered."
   ]
  },
  {
   "cell_type": "code",
   "execution_count": 1,
   "metadata": {},
   "outputs": [],
   "source": [
    "# EpyNN/nnlive/captcha_mnist/train.ipynb\n",
    "# Standard library imports\n",
    "import random\n",
    "\n",
    "# Related third party imports\n",
    "import matplotlib.pyplot as plt\n",
    "import numpy as np\n",
    "\n",
    "# Local application/library specific imports\n",
    "import nnlibs.initialize\n",
    "from nnlibs.commons.maths import relu, softmax\n",
    "from nnlibs.commons.library import (\n",
    "    configure_directory,\n",
    "    read_model,\n",
    ")\n",
    "from nnlibs.network.models import EpyNN\n",
    "from nnlibs.embedding.models import Embedding\n",
    "from nnlibs.convolution.models import Convolution\n",
    "from nnlibs.pooling.models import Pooling\n",
    "from nnlibs.flatten.models import Flatten\n",
    "from nnlibs.dropout.models import Dropout\n",
    "from nnlibs.dense.models import Dense\n",
    "from prepare_dataset import (\n",
    "    prepare_dataset,\n",
    "    download_mnist,\n",
    ")\n",
    "from settings import se_hPars\n",
    "\n",
    "\n",
    "########################## CONFIGURE ##########################\n",
    "random.seed(1)\n",
    "np.random.seed(1)\n",
    "\n",
    "np.set_printoptions(threshold=10)\n",
    "\n",
    "np.seterr(all='warn')\n",
    "\n",
    "configure_directory()\n",
    "\n",
    "\n",
    "############################ DATASET ##########################\n",
    "download_mnist()\n",
    "\n",
    "X_features, Y_label = prepare_dataset(N_SAMPLES=750)"
   ]
  },
  {
   "cell_type": "markdown",
   "metadata": {},
   "source": [
    "Let's control what we retrieved."
   ]
  },
  {
   "cell_type": "code",
   "execution_count": 2,
   "metadata": {},
   "outputs": [
    {
     "name": "stdout",
     "output_type": "stream",
     "text": [
      "750\n",
      "(28, 28, 1)\n",
      "{0.0, 3.0, 6.0, 11.0, 12.0, 13.0, 15.0, 17.0, 18.0, 19.0, 20.0, 21.0, 22.0, 27.0, 28.0, 32.0, 39.0, 40.0, 42.0, 43.0, 44.0, 45.0, 46.0, 48.0, 55.0, 67.0, 82.0, 86.0, 87.0, 90.0, 91.0, 94.0, 97.0, 100.0, 101.0, 104.0, 107.0, 110.0, 112.0, 115.0, 116.0, 125.0, 127.0, 129.0, 143.0, 147.0, 150.0, 151.0, 155.0, 158.0, 162.0, 163.0, 166.0, 167.0, 169.0, 170.0, 172.0, 181.0, 183.0, 184.0, 186.0, 189.0, 202.0, 205.0, 206.0, 210.0, 211.0, 214.0, 215.0, 219.0, 220.0, 221.0, 223.0, 225.0, 227.0, 228.0, 230.0, 233.0, 234.0, 237.0, 238.0, 239.0, 240.0, 241.0, 242.0, 243.0, 247.0, 250.0, 252.0, 253.0, 255.0}\n"
     ]
    }
   ],
   "source": [
    "print(len(X_features))\n",
    "print(X_features[0].shape)\n",
    "print(set(X_features[0].flatten().tolist()))    # Get all unique tones in image"
   ]
  },
  {
   "cell_type": "markdown",
   "metadata": {},
   "source": [
    "We retrieved sample features describing ``7500`` samples.\n",
    "\n",
    "For each sample, we retrieved  features as a three-dimensional array of shape ``(widht, height, depth)``. Each image has dimension 28x28 and so contains 784 pixels.\n",
    "\n",
    "In the context, remember that the ``depth`` dimension represents the number of channels which encode the image. While the depth of any RGB image would be equal to 3, the depth of a grayscale image is equal to one. We namely have a regular grayscale image in that shades of gray range from 0 to 255. \n",
    "\n",
    "Let's recall how this looks like."
   ]
  },
  {
   "cell_type": "code",
   "execution_count": 3,
   "metadata": {},
   "outputs": [
    {
     "data": {
      "image/png": "[encoded data removed]",
      "text/plain": [
       "<Figure size 432x288 with 4 Axes>"
      ]
     },
     "metadata": {
      "needs_background": "light"
     },
     "output_type": "display_data"
    }
   ],
   "source": [
    "fig, ((ax0, ax1), (ax2, ax3)) = plt.subplots(2, 2)\n",
    "\n",
    "ax0.imshow(X_features[Y_label.index(0)], cmap='gray')\n",
    "ax0.set_title('label: 0')\n",
    "\n",
    "ax1.imshow(X_features[Y_label.index(1)], cmap='gray')\n",
    "ax1.set_title('label: 1')\n",
    "\n",
    "ax2.imshow(X_features[Y_label.index(2)], cmap='gray')\n",
    "ax2.set_title('label: 2')\n",
    "\n",
    "ax3.imshow(X_features[Y_label.index(3)], cmap='gray')\n",
    "ax3.set_title('label: 3')\n",
    "\n",
    "plt.tight_layout()\n",
    "plt.show()"
   ]
  },
  {
   "cell_type": "markdown",
   "metadata": {},
   "source": [
    "According to [comments from the authors](http://yann.lecun.com/exdb/mnist/) of the MNIST database: *\"The original black and white (bilevel) images from NIST were size normalized \\[...\\]. The resulting images contain grey levels as a result of the anti-aliasing technique used by the normalization algorithm\"*."
   ]
  },
  {
   "cell_type": "markdown",
   "metadata": {},
   "source": [
    "## Feed-Forward (FF)"
   ]
  },
  {
   "cell_type": "markdown",
   "metadata": {},
   "source": [
    "As explained in other exemples of network training, we like to begin by a Feed-Forward network each time we start to investigate a new problem. This because:\n",
    "\n",
    "* Feed-Forward (Dense-based) network are computationally faster to train than other architectures.\n",
    "* Such network may be less sensitive to training hyperparameters and thus they are easier to train.\n",
    "* There is no reasonable day/night results depending on the architecture: one Feed-Forward - even if inappropriate - architecture may result in metrics that will not be made twice better by using an appropriate architecture. This mostly depends on hyperparameters and data processing."
   ]
  },
  {
   "cell_type": "markdown",
   "metadata": {},
   "source": [
    "About this last item, one may look at the above-linked page which reports on classifier error rate with respect to method or architecture.\n",
    "\n",
    "As a condensate:\n",
    "\n",
    "* Single-layer FF (Perceptron) - 12.0% error.\n",
    "* Single-layer FF (Perceptron) - 7.6% error with deskewing.\n",
    "* Two-layers FF with 800 hidden nodes - 1.6% error.\n",
    "* Committee of 35 Convolutional Neural Networks (CNN) - 0.23% error (best of all reported).\n",
    "\n",
    "First, we can see that from the very basic perceptron to the most evolved CNN there is an improvement from 88% to 99.77% accuracy. This is a huge gap, but both architecture succeed at recognizing patterns and drawing a decent model. \n",
    "\n",
    "Note the gap is significantly reduced by simply applying *deskewing* to the image data, which highlights the critical importance of data pre-processing in the ability of the network to result in an accurate model.\n",
    "\n",
    "Also note that perceptron are only able of linear regression while multi-layers Feed-Forward or CNN and other architectures can achieve non-linear regressions.\n",
    "\n",
    "When considering the two-layers FF with 800 hidden nodes versus the state-of-the-art CNN, the accuracy goes from 98.4% to 99.77%. Overall, this illustrates that classical Feed-Forward networks may be a good alternative to more appropriate architecture when balancing between accuracy, hardness of training and need for more computational time."
   ]
  },
  {
   "cell_type": "markdown",
   "metadata": {},
   "source": [
    "### Embedding"
   ]
  },
  {
   "cell_type": "markdown",
   "metadata": {},
   "source": [
    "We start from sample features containing values ranging from 0 to 255.\n",
    "\n",
    "The most important things is to **normalize** sample features withing \\[0, 1\\].\n",
    "\n",
    "The second thing is to set a batch size which, in this case, will makes the regression converging faster.\n",
    "\n",
    "The last - but not least - thing is to one-hot encode the set of sample label. While one may not do this with binary classification problems and thus use a single node in the output dense layer - from which 0 or 1 decisions can be extracted -, the same can not reasonably be done with multiclass classification. Because we have ten distinct labels in the game, the reasonable choice is to use 10 output nodes and to one-hot encode the set of sample label."
   ]
  },
  {
   "cell_type": "code",
   "execution_count": 4,
   "metadata": {},
   "outputs": [],
   "source": [
    "embedding = Embedding(X_data=X_features,\n",
    "                      Y_data=Y_label,\n",
    "                      X_scale=True,\n",
    "                      Y_encode=True,\n",
    "                      batch_size=32,\n",
    "                      relative_size=(2, 1, 0))"
   ]
  },
  {
   "cell_type": "markdown",
   "metadata": {},
   "source": [
    "About data normalization:\n",
    "\n",
    "* It diminishes the complexity of the problem.\n",
    "* It accelerates training and makes it easier.\n",
    "* If no normalization is done in this example, the loss function and gradients will both readily explode and generate floatting points errors."
   ]
  },
  {
   "cell_type": "markdown",
   "metadata": {},
   "source": [
    "About this last point, remember that exponentials are used in the context of neural networks. If you begin feeding exponential functions with large numbers such as 255, you can be sure you will get floatting points errors pretty quickly: the computer typically deals with 64-bits float number, which has maximal value of ``1.8 * 10 ** 308``. \n",
    "\n",
    "Note that in previously used 32-bits processors architecture, this maximal value was down to ``3.4 * 10 ** 38``. Compare with ``exp(255)`` which outputs ``5.56 * 10 ** 110`` and conclude that un-normalized data in the context of this notebook would have overflowed straight away on a - not that ancient - 32-bits system. Actually, if you attempt to run this notebook on a [Raspberry Pi](https://www.raspberrypi.org/) - why not? - you would overflow without normalization because the device relies on 32-bits CPUs.  "
   ]
  },
  {
   "cell_type": "markdown",
   "metadata": {},
   "source": [
    "### Flatten-(Dense)n with Dropout"
   ]
  },
  {
   "cell_type": "markdown",
   "metadata": {},
   "source": [
    "We already explained why we need to use a *flatten* layer when willing to forward arrays of more than 2 dimensions to the *dense* layer: image data have three dimensions, and the array of sample features - the array of sample image - has four dimensions. Therefore we need to flatten this array to give it a bi-dimensional shape."
   ]
  },
  {
   "cell_type": "code",
   "execution_count": 5,
   "metadata": {
    "tags": []
   },
   "outputs": [],
   "source": [
    "name = 'Flatten_Dropout02_Dense-64-relu_Dropout05_Dense-10-softmax'\n",
    "\n",
    "se_hPars['learning_rate'] = 0.001\n",
    "se_hPars['softmax_temperature'] = 5\n",
    "\n",
    "flatten = Flatten()\n",
    "\n",
    "dropout1 = Dropout(drop_prob=0.2)\n",
    "\n",
    "hidden_dense = Dense(64, relu)\n",
    "\n",
    "dropout2 = Dropout(drop_prob=0.5)\n",
    "\n",
    "dense = Dense(10, softmax)\n",
    "\n",
    "layers = [embedding, flatten, dropout1, hidden_dense, dropout2, dense]\n",
    "\n",
    "model = EpyNN(layers=layers, name=name)"
   ]
  },
  {
   "cell_type": "markdown",
   "metadata": {
    "tags": []
   },
   "source": [
    "We have set up a custom learning rate, along with the 10 nodes in the output layers because we have labels one-hot encoded over 10 digit and again because we have ten distinct labels.\n",
    "\n",
    "Dropout layers were set to reduce overfitting and the *softmax temperature* was set higher than one to smooth the output probability distribution which practically results in more numerically stable training."
   ]
  },
  {
   "cell_type": "code",
   "execution_count": 6,
   "metadata": {
    "tags": []
   },
   "outputs": [
    {
     "name": "stdout",
     "output_type": "stream",
     "text": [
      "\u001b[1m--- EpyNN Check OK! --- \u001b[0mdding\u001b[0m0m0m\r"
     ]
    }
   ],
   "source": [
    "model.initialize(loss='CCE', seed=1, se_hPars=se_hPars.copy(), end='\\r')"
   ]
  },
  {
   "cell_type": "markdown",
   "metadata": {},
   "source": [
    "We have set the loss function to use *Categorical Cross Entropy* instead of *Binary Cross Entropy*. This because we have ten distinct labels instead of two."
   ]
  },
  {
   "cell_type": "code",
   "execution_count": 7,
   "metadata": {},
   "outputs": [
    {
     "name": "stdout",
     "output_type": "stream",
     "text": [
      "\u001b[1m\u001b[37mEpoch 99 - Batch 14/14 - Accuracy: 0.969 Cost: 0.11338 - TIME: 156.05s RATE: 7.71e+03e/s TTC: 0s\u001b[0m\n",
      "\n",
      "+-------+----------+----------+-------+----------+-------+-------+-----------------------------------------------------------------------+\n",
      "| \u001b[1m\u001b[37mepoch\u001b[0m |  \u001b[1m\u001b[37mlrate\u001b[0m   |  \u001b[1m\u001b[37mlrate\u001b[0m   |       | \u001b[1m\u001b[32maccuracy\u001b[0m |       |  \u001b[1m\u001b[31mCCE\u001b[0m  |                              \u001b[37mExperiment\u001b[0m                               |\n",
      "|       |  \u001b[37mDense\u001b[0m   |  \u001b[37mDense\u001b[0m   |  \u001b[1m\u001b[32m(0)\u001b[0m  |   \u001b[1m\u001b[32m(1)\u001b[0m    |  \u001b[1m\u001b[31m(0)\u001b[0m  |  \u001b[1m\u001b[31m(1)\u001b[0m  |                                                                       |\n",
      "+-------+----------+----------+-------+----------+-------+-------+-----------------------------------------------------------------------+\n",
      "|   \u001b[1m\u001b[37m0\u001b[0m   | \u001b[1m\u001b[37m1.00e-03\u001b[0m | \u001b[1m\u001b[37m1.00e-03\u001b[0m | \u001b[1m\u001b[32m0.246\u001b[0m |  \u001b[1m\u001b[32m0.216\u001b[0m   | \u001b[1m\u001b[31m2.238\u001b[0m | \u001b[1m\u001b[31m2.242\u001b[0m | \u001b[37m1630851972_Flatten_Dropout02_Dense-64-relu_Dropout05_Dense-10-softmax\u001b[0m |\n",
      "|  \u001b[1m\u001b[37m10\u001b[0m   | \u001b[1m\u001b[37m1.00e-03\u001b[0m | \u001b[1m\u001b[37m1.00e-03\u001b[0m | \u001b[1m\u001b[32m0.690\u001b[0m |  \u001b[1m\u001b[32m0.652\u001b[0m   | \u001b[1m\u001b[31m1.164\u001b[0m | \u001b[1m\u001b[31m1.264\u001b[0m | \u001b[37m1630851972_Flatten_Dropout02_Dense-64-relu_Dropout05_Dense-10-softmax\u001b[0m |\n",
      "|  \u001b[1m\u001b[37m20\u001b[0m   | \u001b[1m\u001b[37m1.00e-03\u001b[0m | \u001b[1m\u001b[37m1.00e-03\u001b[0m | \u001b[1m\u001b[32m0.800\u001b[0m |  \u001b[1m\u001b[32m0.728\u001b[0m   | \u001b[1m\u001b[31m0.737\u001b[0m | \u001b[1m\u001b[31m0.918\u001b[0m | \u001b[37m1630851972_Flatten_Dropout02_Dense-64-relu_Dropout05_Dense-10-softmax\u001b[0m |\n",
      "|  \u001b[1m\u001b[37m30\u001b[0m   | \u001b[1m\u001b[37m1.00e-03\u001b[0m | \u001b[1m\u001b[37m1.00e-03\u001b[0m | \u001b[1m\u001b[32m0.824\u001b[0m |  \u001b[1m\u001b[32m0.744\u001b[0m   | \u001b[1m\u001b[31m0.620\u001b[0m | \u001b[1m\u001b[31m0.838\u001b[0m | \u001b[37m1630851972_Flatten_Dropout02_Dense-64-relu_Dropout05_Dense-10-softmax\u001b[0m |\n",
      "|  \u001b[1m\u001b[37m40\u001b[0m   | \u001b[1m\u001b[37m1.00e-03\u001b[0m | \u001b[1m\u001b[37m1.00e-03\u001b[0m | \u001b[1m\u001b[32m0.866\u001b[0m |  \u001b[1m\u001b[32m0.812\u001b[0m   | \u001b[1m\u001b[31m0.492\u001b[0m | \u001b[1m\u001b[31m0.702\u001b[0m | \u001b[37m1630851972_Flatten_Dropout02_Dense-64-relu_Dropout05_Dense-10-softmax\u001b[0m |\n",
      "|  \u001b[1m\u001b[37m50\u001b[0m   | \u001b[1m\u001b[37m1.00e-03\u001b[0m | \u001b[1m\u001b[37m1.00e-03\u001b[0m | \u001b[1m\u001b[32m0.868\u001b[0m |  \u001b[1m\u001b[32m0.792\u001b[0m   | \u001b[1m\u001b[31m0.440\u001b[0m | \u001b[1m\u001b[31m0.734\u001b[0m | \u001b[37m1630851972_Flatten_Dropout02_Dense-64-relu_Dropout05_Dense-10-softmax\u001b[0m |\n",
      "|  \u001b[1m\u001b[37m60\u001b[0m   | \u001b[1m\u001b[37m1.00e-03\u001b[0m | \u001b[1m\u001b[37m1.00e-03\u001b[0m | \u001b[1m\u001b[32m0.864\u001b[0m |  \u001b[1m\u001b[32m0.804\u001b[0m   | \u001b[1m\u001b[31m0.418\u001b[0m | \u001b[1m\u001b[31m0.614\u001b[0m | \u001b[37m1630851972_Flatten_Dropout02_Dense-64-relu_Dropout05_Dense-10-softmax\u001b[0m |\n",
      "|  \u001b[1m\u001b[37m70\u001b[0m   | \u001b[1m\u001b[37m1.00e-03\u001b[0m | \u001b[1m\u001b[37m1.00e-03\u001b[0m | \u001b[1m\u001b[32m0.892\u001b[0m |  \u001b[1m\u001b[32m0.820\u001b[0m   | \u001b[1m\u001b[31m0.353\u001b[0m | \u001b[1m\u001b[31m0.636\u001b[0m | \u001b[37m1630851972_Flatten_Dropout02_Dense-64-relu_Dropout05_Dense-10-softmax\u001b[0m |\n",
      "|  \u001b[1m\u001b[37m80\u001b[0m   | \u001b[1m\u001b[37m1.00e-03\u001b[0m | \u001b[1m\u001b[37m1.00e-03\u001b[0m | \u001b[1m\u001b[32m0.932\u001b[0m |  \u001b[1m\u001b[32m0.820\u001b[0m   | \u001b[1m\u001b[31m0.285\u001b[0m | \u001b[1m\u001b[31m0.724\u001b[0m | \u001b[37m1630851972_Flatten_Dropout02_Dense-64-relu_Dropout05_Dense-10-softmax\u001b[0m |\n",
      "|  \u001b[1m\u001b[37m90\u001b[0m   | \u001b[1m\u001b[37m1.00e-03\u001b[0m | \u001b[1m\u001b[37m1.00e-03\u001b[0m | \u001b[1m\u001b[32m0.928\u001b[0m |  \u001b[1m\u001b[32m0.836\u001b[0m   | \u001b[1m\u001b[31m0.276\u001b[0m | \u001b[1m\u001b[31m0.628\u001b[0m | \u001b[37m1630851972_Flatten_Dropout02_Dense-64-relu_Dropout05_Dense-10-softmax\u001b[0m |\n",
      "|  \u001b[1m\u001b[37m99\u001b[0m   | \u001b[1m\u001b[37m1.00e-03\u001b[0m | \u001b[1m\u001b[37m1.00e-03\u001b[0m | \u001b[1m\u001b[32m0.946\u001b[0m |  \u001b[1m\u001b[32m0.832\u001b[0m   | \u001b[1m\u001b[31m0.227\u001b[0m | \u001b[1m\u001b[31m0.637\u001b[0m | \u001b[37m1630851972_Flatten_Dropout02_Dense-64-relu_Dropout05_Dense-10-softmax\u001b[0m |\n",
      "+-------+----------+----------+-------+----------+-------+-------+-----------------------------------------------------------------------+\n"
     ]
    }
   ],
   "source": [
    "model.train(epochs=100, init_logs=False)"
   ]
  },
  {
   "cell_type": "markdown",
   "metadata": {},
   "source": [
    "Again the Feed-Forward network has been quite performant to reproduce the training data, less about the testing ones. Overfitting is a general problem in the field."
   ]
  },
  {
   "cell_type": "code",
   "execution_count": 8,
   "metadata": {
    "tags": []
   },
   "outputs": [
    {
     "data": {
      "image/png": "[encoded data removed]",
      "text/plain": [
       "<Figure size 432x288 with 1 Axes>"
      ]
     },
     "metadata": {
      "needs_background": "light"
     },
     "output_type": "display_data"
    }
   ],
   "source": [
    "model.plot(path=False)"
   ]
  },
  {
   "cell_type": "markdown",
   "metadata": {},
   "source": [
    "We will not try to optimize this Feed-Forward network to go ahead with Convolutional networks."
   ]
  },
  {
   "cell_type": "markdown",
   "metadata": {},
   "source": [
    "## Convolutional Neural Network (CNN)"
   ]
  },
  {
   "cell_type": "markdown",
   "metadata": {},
   "source": [
    "As detailed in [another notebook](nnlive/dummy_image/train.html#Convolutional-Neural-Network-(CNN)), CNNs are preferred when it comes to consider *a priori* spatial relationships between data points."
   ]
  },
  {
   "cell_type": "markdown",
   "metadata": {},
   "source": [
    "### Embedding"
   ]
  },
  {
   "cell_type": "markdown",
   "metadata": {},
   "source": [
    "Using same embedding configuration than above."
   ]
  },
  {
   "cell_type": "code",
   "execution_count": 9,
   "metadata": {},
   "outputs": [],
   "source": [
    "embedding = Embedding(X_data=X_features,\n",
    "                      Y_data=Y_label,\n",
    "                      X_scale=True,\n",
    "                      Y_encode=True,\n",
    "                      batch_size=32,\n",
    "                      relative_size=(2, 1, 0))"
   ]
  },
  {
   "cell_type": "markdown",
   "metadata": {},
   "source": [
    "Note that we use only *500 + 250* sample images herein. Benchmarks using the MNIST Database generally employ the whole 60 000 images for the training set itself, but it is likely to overload the RAM or not run at all on many system configurations. "
   ]
  },
  {
   "cell_type": "markdown",
   "metadata": {},
   "source": [
    "### Conv-MaxPool-Flatten-Dense"
   ]
  },
  {
   "cell_type": "markdown",
   "metadata": {},
   "source": [
    "Using a single *Convolution-Pooling* block with ``16`` filters and *4x4* filter window for the *Convolution* layer."
   ]
  },
  {
   "cell_type": "code",
   "execution_count": 10,
   "metadata": {
    "tags": []
   },
   "outputs": [],
   "source": [
    "name = 'Convolution-16-2_Pooling-3-Max_Flatten_Dense-10-softmax'\n",
    "\n",
    "se_hPars['learning_rate'] = 0.005\n",
    "se_hPars['softmax_temperature'] = 5\n",
    "\n",
    "layers = [\n",
    "    embedding,\n",
    "    Convolution(unit_filters=16, filter_size=(2, 2), activate=relu),\n",
    "    Pooling(pool_size=(2, 2)),\n",
    "    Flatten(),\n",
    "    Dense(10, softmax)\n",
    "]\n",
    "\n",
    "model = EpyNN(layers=layers, name=name)"
   ]
  },
  {
   "cell_type": "markdown",
   "metadata": {
    "tags": []
   },
   "source": [
    "Initialize the model with *Categorical Cross Entropy* loss."
   ]
  },
  {
   "cell_type": "code",
   "execution_count": 11,
   "metadata": {
    "tags": []
   },
   "outputs": [
    {
     "name": "stdout",
     "output_type": "stream",
     "text": [
      "\u001b[1m--- EpyNN Check OK! --- \u001b[0mdding\u001b[0m0m\u001b[0m\r"
     ]
    }
   ],
   "source": [
    "model.initialize(loss='CCE', seed=1, se_hPars=se_hPars.copy(), end='\\r')"
   ]
  },
  {
   "cell_type": "markdown",
   "metadata": {},
   "source": [
    "Train for 20 epochs."
   ]
  },
  {
   "cell_type": "code",
   "execution_count": 12,
   "metadata": {},
   "outputs": [
    {
     "name": "stdout",
     "output_type": "stream",
     "text": [
      "\u001b[1m\u001b[37mEpoch 9 - Batch 14/14 - Accuracy: 0.938 Cost: 0.31801 - TIME: 29.16s RATE: 1.93e+02e/s TTC: 0s\u001b[0m\n",
      "\n",
      "+-------+-------------+----------+-------+----------+-------+-------+--------------------------------------------------------------------+\n",
      "| \u001b[1m\u001b[37mepoch\u001b[0m |    \u001b[1m\u001b[37mlrate\u001b[0m    |  \u001b[1m\u001b[37mlrate\u001b[0m   |       | \u001b[1m\u001b[32maccuracy\u001b[0m |       |  \u001b[1m\u001b[31mCCE\u001b[0m  |                             \u001b[37mExperiment\u001b[0m                             |\n",
      "|       | \u001b[37mConvolution\u001b[0m |  \u001b[37mDense\u001b[0m   |  \u001b[1m\u001b[32m(0)\u001b[0m  |   \u001b[1m\u001b[32m(1)\u001b[0m    |  \u001b[1m\u001b[31m(0)\u001b[0m  |  \u001b[1m\u001b[31m(1)\u001b[0m  |                                                                    |\n",
      "+-------+-------------+----------+-------+----------+-------+-------+--------------------------------------------------------------------+\n",
      "|   \u001b[1m\u001b[37m0\u001b[0m   |  \u001b[1m\u001b[37m5.00e-03\u001b[0m   | \u001b[1m\u001b[37m5.00e-03\u001b[0m | \u001b[1m\u001b[32m0.318\u001b[0m |  \u001b[1m\u001b[32m0.272\u001b[0m   | \u001b[1m\u001b[31m1.922\u001b[0m | \u001b[1m\u001b[31m1.993\u001b[0m | \u001b[37m1630852128_Convolution-16-2_Pooling-3-Max_Flatten_Dense-10-softmax\u001b[0m |\n",
      "|   \u001b[1m\u001b[37m1\u001b[0m   |  \u001b[1m\u001b[37m5.00e-03\u001b[0m   | \u001b[1m\u001b[37m5.00e-03\u001b[0m | \u001b[1m\u001b[32m0.730\u001b[0m |  \u001b[1m\u001b[32m0.688\u001b[0m   | \u001b[1m\u001b[31m1.057\u001b[0m | \u001b[1m\u001b[31m1.130\u001b[0m | \u001b[37m1630852128_Convolution-16-2_Pooling-3-Max_Flatten_Dense-10-softmax\u001b[0m |\n",
      "|   \u001b[1m\u001b[37m2\u001b[0m   |  \u001b[1m\u001b[37m5.00e-03\u001b[0m   | \u001b[1m\u001b[37m5.00e-03\u001b[0m | \u001b[1m\u001b[32m0.768\u001b[0m |  \u001b[1m\u001b[32m0.764\u001b[0m   | \u001b[1m\u001b[31m0.764\u001b[0m | \u001b[1m\u001b[31m0.802\u001b[0m | \u001b[37m1630852128_Convolution-16-2_Pooling-3-Max_Flatten_Dense-10-softmax\u001b[0m |\n",
      "|   \u001b[1m\u001b[37m3\u001b[0m   |  \u001b[1m\u001b[37m5.00e-03\u001b[0m   | \u001b[1m\u001b[37m5.00e-03\u001b[0m | \u001b[1m\u001b[32m0.796\u001b[0m |  \u001b[1m\u001b[32m0.764\u001b[0m   | \u001b[1m\u001b[31m0.626\u001b[0m | \u001b[1m\u001b[31m0.709\u001b[0m | \u001b[37m1630852128_Convolution-16-2_Pooling-3-Max_Flatten_Dense-10-softmax\u001b[0m |\n",
      "|   \u001b[1m\u001b[37m4\u001b[0m   |  \u001b[1m\u001b[37m5.00e-03\u001b[0m   | \u001b[1m\u001b[37m5.00e-03\u001b[0m | \u001b[1m\u001b[32m0.808\u001b[0m |  \u001b[1m\u001b[32m0.764\u001b[0m   | \u001b[1m\u001b[31m0.576\u001b[0m | \u001b[1m\u001b[31m0.672\u001b[0m | \u001b[37m1630852128_Convolution-16-2_Pooling-3-Max_Flatten_Dense-10-softmax\u001b[0m |\n",
      "|   \u001b[1m\u001b[37m5\u001b[0m   |  \u001b[1m\u001b[37m5.00e-03\u001b[0m   | \u001b[1m\u001b[37m5.00e-03\u001b[0m | \u001b[1m\u001b[32m0.818\u001b[0m |  \u001b[1m\u001b[32m0.800\u001b[0m   | \u001b[1m\u001b[31m0.520\u001b[0m | \u001b[1m\u001b[31m0.639\u001b[0m | \u001b[37m1630852128_Convolution-16-2_Pooling-3-Max_Flatten_Dense-10-softmax\u001b[0m |\n",
      "|   \u001b[1m\u001b[37m6\u001b[0m   |  \u001b[1m\u001b[37m5.00e-03\u001b[0m   | \u001b[1m\u001b[37m5.00e-03\u001b[0m | \u001b[1m\u001b[32m0.806\u001b[0m |  \u001b[1m\u001b[32m0.748\u001b[0m   | \u001b[1m\u001b[31m0.639\u001b[0m | \u001b[1m\u001b[31m0.812\u001b[0m | \u001b[37m1630852128_Convolution-16-2_Pooling-3-Max_Flatten_Dense-10-softmax\u001b[0m |\n",
      "|   \u001b[1m\u001b[37m7\u001b[0m   |  \u001b[1m\u001b[37m5.00e-03\u001b[0m   | \u001b[1m\u001b[37m5.00e-03\u001b[0m | \u001b[1m\u001b[32m0.808\u001b[0m |  \u001b[1m\u001b[32m0.768\u001b[0m   | \u001b[1m\u001b[31m0.523\u001b[0m | \u001b[1m\u001b[31m0.701\u001b[0m | \u001b[37m1630852128_Convolution-16-2_Pooling-3-Max_Flatten_Dense-10-softmax\u001b[0m |\n",
      "|   \u001b[1m\u001b[37m8\u001b[0m   |  \u001b[1m\u001b[37m5.00e-03\u001b[0m   | \u001b[1m\u001b[37m5.00e-03\u001b[0m | \u001b[1m\u001b[32m0.882\u001b[0m |  \u001b[1m\u001b[32m0.852\u001b[0m   | \u001b[1m\u001b[31m0.394\u001b[0m | \u001b[1m\u001b[31m0.554\u001b[0m | \u001b[37m1630852128_Convolution-16-2_Pooling-3-Max_Flatten_Dense-10-softmax\u001b[0m |\n",
      "|   \u001b[1m\u001b[37m9\u001b[0m   |  \u001b[1m\u001b[37m5.00e-03\u001b[0m   | \u001b[1m\u001b[37m5.00e-03\u001b[0m | \u001b[1m\u001b[32m0.860\u001b[0m |  \u001b[1m\u001b[32m0.796\u001b[0m   | \u001b[1m\u001b[31m0.441\u001b[0m | \u001b[1m\u001b[31m0.695\u001b[0m | \u001b[37m1630852128_Convolution-16-2_Pooling-3-Max_Flatten_Dense-10-softmax\u001b[0m |\n",
      "+-------+-------------+----------+-------+----------+-------+-------+--------------------------------------------------------------------+\n"
     ]
    }
   ],
   "source": [
    "model.train(epochs=10, init_logs=False)"
   ]
  },
  {
   "cell_type": "markdown",
   "metadata": {},
   "source": [
    "The overfitting using this CNN architecture is reduced compared with the pure Feed-Forward design. However, accuracy remains slightly lower for both training and testing data.\n",
    "\n",
    "Note the ``learning_rate`` may be a bit too high here: there are jump up and down for both accuracy and loss, particularly visible on the testing set."
   ]
  },
  {
   "cell_type": "code",
   "execution_count": 13,
   "metadata": {
    "tags": []
   },
   "outputs": [
    {
     "data": {
      "image/png": "[encoded data removed]",
      "text/plain": [
       "<Figure size 432x288 with 1 Axes>"
      ]
     },
     "metadata": {
      "needs_background": "light"
     },
     "output_type": "display_data"
    }
   ],
   "source": [
    "model.plot(path=False)"
   ]
  },
  {
   "cell_type": "markdown",
   "metadata": {},
   "source": [
    "Looking at the plot, the model seems to have converged.\n",
    "\n",
    "We will try to optimize it further."
   ]
  },
  {
   "cell_type": "markdown",
   "metadata": {},
   "source": [
    "### Conv-MaxPool-Flatten-(Dense)n"
   ]
  },
  {
   "cell_type": "markdown",
   "metadata": {},
   "source": [
    "Below we added one ``Dense(64, relu)`` hidden layer. This is the same design than used for the Feed-Forward network excepted, of course, for the *Convolution-Pooling* block. The thing to pay attention to here is the absence of *Dropout* layer compared to the Feed-Forward network."
   ]
  },
  {
   "cell_type": "code",
   "execution_count": 14,
   "metadata": {},
   "outputs": [
    {
     "name": "stdout",
     "output_type": "stream",
     "text": [
      "\u001b[1m\u001b[37mEpoch 9 - Batch 14/14 - Accuracy: 0.969 Cost: 0.18602 - TIME: 28.98s RATE: 1.68e+02e/s TTC: 0s\u001b[0m\n",
      "\n",
      "+-------+-------------+----------+----------+-------+----------+-------+-------+----------------------------------------------------------------------------------+\n",
      "| \u001b[1m\u001b[37mepoch\u001b[0m |    \u001b[1m\u001b[37mlrate\u001b[0m    |  \u001b[1m\u001b[37mlrate\u001b[0m   |  \u001b[1m\u001b[37mlrate\u001b[0m   |       | \u001b[1m\u001b[32maccuracy\u001b[0m |       |  \u001b[1m\u001b[31mCCE\u001b[0m  |                                    \u001b[37mExperiment\u001b[0m                                    |\n",
      "|       | \u001b[37mConvolution\u001b[0m |  \u001b[37mDense\u001b[0m   |  \u001b[37mDense\u001b[0m   |  \u001b[1m\u001b[32m(0)\u001b[0m  |   \u001b[1m\u001b[32m(1)\u001b[0m    |  \u001b[1m\u001b[31m(0)\u001b[0m  |  \u001b[1m\u001b[31m(1)\u001b[0m  |                                                                                  |\n",
      "+-------+-------------+----------+----------+-------+----------+-------+-------+----------------------------------------------------------------------------------+\n",
      "|   \u001b[1m\u001b[37m0\u001b[0m   |  \u001b[1m\u001b[37m5.00e-03\u001b[0m   | \u001b[1m\u001b[37m5.00e-03\u001b[0m | \u001b[1m\u001b[37m5.00e-03\u001b[0m | \u001b[1m\u001b[32m0.330\u001b[0m |  \u001b[1m\u001b[32m0.280\u001b[0m   | \u001b[1m\u001b[31m1.909\u001b[0m | \u001b[1m\u001b[31m1.985\u001b[0m | \u001b[37m1630852158_Convolution-16-2_Pooling-3-Max_Flatten_Dense-64-relu_Dense-10-softmax\u001b[0m |\n",
      "|   \u001b[1m\u001b[37m1\u001b[0m   |  \u001b[1m\u001b[37m5.00e-03\u001b[0m   | \u001b[1m\u001b[37m5.00e-03\u001b[0m | \u001b[1m\u001b[37m5.00e-03\u001b[0m | \u001b[1m\u001b[32m0.600\u001b[0m |  \u001b[1m\u001b[32m0.612\u001b[0m   | \u001b[1m\u001b[31m1.290\u001b[0m | \u001b[1m\u001b[31m1.313\u001b[0m | \u001b[37m1630852158_Convolution-16-2_Pooling-3-Max_Flatten_Dense-64-relu_Dense-10-softmax\u001b[0m |\n",
      "|   \u001b[1m\u001b[37m2\u001b[0m   |  \u001b[1m\u001b[37m5.00e-03\u001b[0m   | \u001b[1m\u001b[37m5.00e-03\u001b[0m | \u001b[1m\u001b[37m5.00e-03\u001b[0m | \u001b[1m\u001b[32m0.716\u001b[0m |  \u001b[1m\u001b[32m0.696\u001b[0m   | \u001b[1m\u001b[31m0.823\u001b[0m | \u001b[1m\u001b[31m0.859\u001b[0m | \u001b[37m1630852158_Convolution-16-2_Pooling-3-Max_Flatten_Dense-64-relu_Dense-10-softmax\u001b[0m |\n",
      "|   \u001b[1m\u001b[37m3\u001b[0m   |  \u001b[1m\u001b[37m5.00e-03\u001b[0m   | \u001b[1m\u001b[37m5.00e-03\u001b[0m | \u001b[1m\u001b[37m5.00e-03\u001b[0m | \u001b[1m\u001b[32m0.706\u001b[0m |  \u001b[1m\u001b[32m0.672\u001b[0m   | \u001b[1m\u001b[31m0.797\u001b[0m | \u001b[1m\u001b[31m0.838\u001b[0m | \u001b[37m1630852158_Convolution-16-2_Pooling-3-Max_Flatten_Dense-64-relu_Dense-10-softmax\u001b[0m |\n",
      "|   \u001b[1m\u001b[37m4\u001b[0m   |  \u001b[1m\u001b[37m5.00e-03\u001b[0m   | \u001b[1m\u001b[37m5.00e-03\u001b[0m | \u001b[1m\u001b[37m5.00e-03\u001b[0m | \u001b[1m\u001b[32m0.740\u001b[0m |  \u001b[1m\u001b[32m0.712\u001b[0m   | \u001b[1m\u001b[31m0.683\u001b[0m | \u001b[1m\u001b[31m0.794\u001b[0m | \u001b[37m1630852158_Convolution-16-2_Pooling-3-Max_Flatten_Dense-64-relu_Dense-10-softmax\u001b[0m |\n",
      "|   \u001b[1m\u001b[37m5\u001b[0m   |  \u001b[1m\u001b[37m5.00e-03\u001b[0m   | \u001b[1m\u001b[37m5.00e-03\u001b[0m | \u001b[1m\u001b[37m5.00e-03\u001b[0m | \u001b[1m\u001b[32m0.812\u001b[0m |  \u001b[1m\u001b[32m0.776\u001b[0m   | \u001b[1m\u001b[31m0.555\u001b[0m | \u001b[1m\u001b[31m0.736\u001b[0m | \u001b[37m1630852158_Convolution-16-2_Pooling-3-Max_Flatten_Dense-64-relu_Dense-10-softmax\u001b[0m |\n",
      "|   \u001b[1m\u001b[37m6\u001b[0m   |  \u001b[1m\u001b[37m5.00e-03\u001b[0m   | \u001b[1m\u001b[37m5.00e-03\u001b[0m | \u001b[1m\u001b[37m5.00e-03\u001b[0m | \u001b[1m\u001b[32m0.830\u001b[0m |  \u001b[1m\u001b[32m0.776\u001b[0m   | \u001b[1m\u001b[31m0.490\u001b[0m | \u001b[1m\u001b[31m0.731\u001b[0m | \u001b[37m1630852158_Convolution-16-2_Pooling-3-Max_Flatten_Dense-64-relu_Dense-10-softmax\u001b[0m |\n",
      "|   \u001b[1m\u001b[37m7\u001b[0m   |  \u001b[1m\u001b[37m5.00e-03\u001b[0m   | \u001b[1m\u001b[37m5.00e-03\u001b[0m | \u001b[1m\u001b[37m5.00e-03\u001b[0m | \u001b[1m\u001b[32m0.884\u001b[0m |  \u001b[1m\u001b[32m0.828\u001b[0m   | \u001b[1m\u001b[31m0.391\u001b[0m | \u001b[1m\u001b[31m0.590\u001b[0m | \u001b[37m1630852158_Convolution-16-2_Pooling-3-Max_Flatten_Dense-64-relu_Dense-10-softmax\u001b[0m |\n",
      "|   \u001b[1m\u001b[37m8\u001b[0m   |  \u001b[1m\u001b[37m5.00e-03\u001b[0m   | \u001b[1m\u001b[37m5.00e-03\u001b[0m | \u001b[1m\u001b[37m5.00e-03\u001b[0m | \u001b[1m\u001b[32m0.920\u001b[0m |  \u001b[1m\u001b[32m0.840\u001b[0m   | \u001b[1m\u001b[31m0.268\u001b[0m | \u001b[1m\u001b[31m0.521\u001b[0m | \u001b[37m1630852158_Convolution-16-2_Pooling-3-Max_Flatten_Dense-64-relu_Dense-10-softmax\u001b[0m |\n",
      "|   \u001b[1m\u001b[37m9\u001b[0m   |  \u001b[1m\u001b[37m5.00e-03\u001b[0m   | \u001b[1m\u001b[37m5.00e-03\u001b[0m | \u001b[1m\u001b[37m5.00e-03\u001b[0m | \u001b[1m\u001b[32m0.928\u001b[0m |  \u001b[1m\u001b[32m0.860\u001b[0m   | \u001b[1m\u001b[31m0.242\u001b[0m | \u001b[1m\u001b[31m0.563\u001b[0m | \u001b[37m1630852158_Convolution-16-2_Pooling-3-Max_Flatten_Dense-64-relu_Dense-10-softmax\u001b[0m |\n",
      "+-------+-------------+----------+----------+-------+----------+-------+-------+----------------------------------------------------------------------------------+\n"
     ]
    },
    {
     "data": {
      "image/png": "[encoded data removed]",
      "text/plain": [
       "<Figure size 432x288 with 1 Axes>"
      ]
     },
     "metadata": {
      "needs_background": "light"
     },
     "output_type": "display_data"
    }
   ],
   "source": [
    "name = 'Convolution-16-2_Pooling-3-Max_Flatten_Dense-64-relu_Dense-10-softmax'\n",
    "\n",
    "se_hPars['learning_rate'] = 0.005\n",
    "se_hPars['softmax_temperature'] = 5\n",
    "\n",
    "layers = [\n",
    "    embedding,\n",
    "    Convolution(unit_filters=16, filter_size=(2, 2), activate=relu),\n",
    "    Pooling(pool_size=(2, 2)),\n",
    "    Flatten(),\n",
    "    Dense(64, relu),\n",
    "    Dense(10, softmax)\n",
    "]\n",
    "\n",
    "model = EpyNN(layers=layers, name=name)\n",
    "\n",
    "model.initialize(loss='CCE', seed=1, se_hPars=se_hPars.copy(), end='\\r')\n",
    "\n",
    "model.train(epochs=10, init_logs=False)\n",
    "\n",
    "model.plot(path=False)"
   ]
  },
  {
   "cell_type": "markdown",
   "metadata": {},
   "source": [
    "This result is better than the one obtained with the Feed-Forward network. Although we did not use *Dropout* regularization, there is less overfitting and higher accuracy on the testing set."
   ]
  },
  {
   "cell_type": "markdown",
   "metadata": {},
   "source": [
    "## Write, Read & Predict"
   ]
  },
  {
   "cell_type": "code",
   "execution_count": 15,
   "metadata": {},
   "outputs": [
    {
     "name": "stdout",
     "output_type": "stream",
     "text": [
      "\u001b[1m\u001b[32mMake: /media/synthase/beta/EpyNN/nnlive/captcha_mnist/models/1630852158_Convolution-16-2_Pooling-3-Max_Flatten_Dense-64-relu_Dense-10-softmax.pickle\u001b[0m\n",
      "0 4 [2.41170822e-04 7.46186956e-07 7.07716754e-04 2.73031490e-04\n",
      " 9.95601665e-01 5.49060125e-04 1.48488031e-04 2.35899261e-05\n",
      " 1.26953655e-04 2.32757797e-03]\n",
      "1 1 [2.00499462e-06 8.30372213e-01 1.48334304e-01 1.70373887e-03\n",
      " 7.53930166e-05 1.31297812e-02 2.38000080e-03 2.82469591e-04\n",
      " 3.58257878e-03 1.37515622e-04]\n",
      "2 3 [7.88716265e-03 8.76252128e-10 6.05218506e-04 9.55619261e-01\n",
      " 1.08480112e-06 3.34724200e-02 5.15425984e-08 6.75031814e-07\n",
      " 2.41186270e-03 2.26273080e-06]\n",
      "3 5 [5.96424285e-04 8.10955260e-06 6.08970317e-03 3.79520785e-01\n",
      " 3.41094914e-06 6.00860892e-01 2.55325656e-06 3.92733160e-05\n",
      " 1.27970449e-02 8.18031933e-05]\n",
      "4 1 [2.78366412e-06 9.72345469e-01 9.53111701e-03 8.53663056e-06\n",
      " 2.27664677e-04 3.71129574e-04 3.29556453e-04 3.31676830e-04\n",
      " 1.68362951e-02 1.57714990e-05]\n",
      "5 4 [5.81135846e-04 1.16403301e-05 2.46834453e-03 3.15430408e-05\n",
      " 8.48132052e-01 1.46722013e-01 1.65236030e-03 5.72561480e-07\n",
      " 2.96060538e-04 1.04277887e-04]\n",
      "6 2 [3.20132214e-05 5.62133956e-06 9.95627679e-01 2.36311206e-04\n",
      " 2.48837036e-06 3.73390679e-03 6.96575641e-05 7.47983561e-06\n",
      " 2.50512308e-04 3.43303579e-05]\n",
      "7 0 [9.99735973e-01 1.37439502e-11 4.45790154e-05 8.38538929e-06\n",
      " 5.91814772e-09 1.99000651e-04 6.98064842e-06 1.47065870e-07\n",
      " 4.89539766e-06 3.33142208e-08]\n",
      "8 1 [2.36630866e-06 9.72399492e-01 1.88244355e-02 1.80224228e-04\n",
      " 8.61059386e-05 2.98695267e-03 1.02082469e-03 7.63643775e-04\n",
      " 3.55154959e-03 1.84404860e-04]\n",
      "9 9 [3.56873869e-05 1.04187320e-05 1.63456223e-05 1.21508154e-04\n",
      " 2.34893803e-01 3.51585866e-03 2.84736236e-05 1.73136550e-02\n",
      " 2.23894111e-04 7.43840356e-01]\n"
     ]
    }
   ],
   "source": [
    "### Write/read model\n",
    "\n",
    "model.write()\n",
    "\n",
    "model = read_model()\n",
    "\n",
    "\n",
    "### Predict\n",
    "\n",
    "X_features, _ = prepare_dataset(N_SAMPLES=10)\n",
    "\n",
    "dset = model.predict(X_features, X_scale=True)\n",
    "\n",
    "for n, pred, probs in zip(dset.ids, dset.P, dset.A):\n",
    "    print(n, pred, probs)"
   ]
  }
 ],
 "metadata": {
  "kernelspec": {
   "display_name": "Python 3",
   "language": "python",
   "name": "python3"
  },
  "language_info": {
   "codemirror_mode": {
    "name": "ipython",
    "version": 3
   },
   "file_extension": ".py",
   "mimetype": "text/x-python",
   "name": "python",
   "nbconvert_exporter": "python",
   "pygments_lexer": "ipython3",
   "version": "3.7.3"
  }
 },
 "nbformat": 4,
 "nbformat_minor": 4
}
