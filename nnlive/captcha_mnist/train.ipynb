{
 "cells": [
  {
   "cell_type": "markdown",
   "metadata": {},
   "source": [
    "# Multiclass Classification"
   ]
  },
  {
   "cell_type": "markdown",
   "metadata": {},
   "source": [
    "* Find this notebook at `EpyNN/nnlive/captcha_mnist/train.ipynb`.\n",
    "* Regular python code at `EpyNN/nnlive/captcha_mnist/train.py`."
   ]
  },
  {
   "cell_type": "markdown",
   "metadata": {},
   "source": [
    "In this notebook we will review:\n",
    "\n",
    "* Handling numerical data image to proceed with Neural Network regression.\n",
    "* Training of Feed-Forward (FF) and Convolutional Neural Network (CNN) for multiclass classification task.\n",
    "* MNIST database as a benchmark for neural networks."
   ]
  },
  {
   "cell_type": "markdown",
   "metadata": {},
   "source": [
    "Please see the following if you get lost:\n",
    "\n",
    "* [Fully Connected (Dense)](../../Dense.html)\n",
    "* [Convolution (CNN)](../../Convolution.html)\n",
    "* [Pooling (CNN)](../../Pooling.html)"
   ]
  },
  {
   "cell_type": "markdown",
   "metadata": {},
   "source": [
    " Please follow this [external link](http://yann.lecun.com/exdb/mnist/) for detailed contextual information about the MNIST database."
   ]
  },
  {
   "cell_type": "markdown",
   "metadata": {},
   "source": [
    "## Environment and data"
   ]
  },
  {
   "cell_type": "markdown",
   "metadata": {},
   "source": [
    "Follow [this link](prepare_dataset.ipynb) for details about data preparation."
   ]
  },
  {
   "cell_type": "markdown",
   "metadata": {},
   "source": [
    "Briefly, the MNIST database contains 70 000 images (60K + 10k).\n",
    "\n",
    "Each image contains a single handwritten digit. In total, 500 different human writters contributed to the whole.\n",
    "\n",
    "The MNIST database is curated in that images were size normalized and centered."
   ]
  },
  {
   "cell_type": "code",
   "execution_count": 1,
   "metadata": {},
   "outputs": [],
   "source": [
    "# EpyNN/nnlive/captcha_mnist/train.ipynb\n",
    "# Standard library imports\n",
    "import random\n",
    "\n",
    "# Related third party imports\n",
    "import matplotlib.pyplot as plt\n",
    "import numpy as np\n",
    "\n",
    "# Local application/library specific imports\n",
    "import nnlibs.initialize\n",
    "from nnlibs.commons.maths import relu, softmax\n",
    "from nnlibs.commons.library import (\n",
    "    configure_directory,\n",
    "    read_model,\n",
    ")\n",
    "from nnlibs.network.models import EpyNN\n",
    "from nnlibs.embedding.models import Embedding\n",
    "from nnlibs.convolution.models import Convolution\n",
    "from nnlibs.pooling.models import Pooling\n",
    "from nnlibs.flatten.models import Flatten\n",
    "from nnlibs.dropout.models import Dropout\n",
    "from nnlibs.dense.models import Dense\n",
    "from prepare_dataset import (\n",
    "    prepare_dataset,\n",
    "    download_mnist,\n",
    ")\n",
    "from settings import se_hPars\n",
    "\n",
    "\n",
    "########################## CONFIGURE ##########################\n",
    "random.seed(1)\n",
    "np.random.seed(1)\n",
    "\n",
    "np.set_printoptions(threshold=10)\n",
    "\n",
    "np.seterr(all='warn')\n",
    "\n",
    "configure_directory()\n",
    "\n",
    "\n",
    "############################ DATASET ##########################\n",
    "download_mnist()\n",
    "\n",
    "X_features, Y_label = prepare_dataset(N_SAMPLES=750)"
   ]
  },
  {
   "cell_type": "markdown",
   "metadata": {},
   "source": [
    "Let's control what we retrieved."
   ]
  },
  {
   "cell_type": "code",
   "execution_count": 2,
   "metadata": {},
   "outputs": [
    {
     "name": "stdout",
     "output_type": "stream",
     "text": [
      "750\n",
      "(28, 28, 1)\n",
      "{0.0, 3.0, 6.0, 11.0, 12.0, 13.0, 15.0, 17.0, 18.0, 19.0, 20.0, 21.0, 22.0, 27.0, 28.0, 32.0, 39.0, 40.0, 42.0, 43.0, 44.0, 45.0, 46.0, 48.0, 55.0, 67.0, 82.0, 86.0, 87.0, 90.0, 91.0, 94.0, 97.0, 100.0, 101.0, 104.0, 107.0, 110.0, 112.0, 115.0, 116.0, 125.0, 127.0, 129.0, 143.0, 147.0, 150.0, 151.0, 155.0, 158.0, 162.0, 163.0, 166.0, 167.0, 169.0, 170.0, 172.0, 181.0, 183.0, 184.0, 186.0, 189.0, 202.0, 205.0, 206.0, 210.0, 211.0, 214.0, 215.0, 219.0, 220.0, 221.0, 223.0, 225.0, 227.0, 228.0, 230.0, 233.0, 234.0, 237.0, 238.0, 239.0, 240.0, 241.0, 242.0, 243.0, 247.0, 250.0, 252.0, 253.0, 255.0}\n"
     ]
    }
   ],
   "source": [
    "print(len(X_features))\n",
    "print(X_features[0].shape)\n",
    "print(set(X_features[0].flatten().tolist()))    # Get all unique tones in image"
   ]
  },
  {
   "cell_type": "markdown",
   "metadata": {},
   "source": [
    "We retrieved sample features describing ``7500`` samples.\n",
    "\n",
    "For each sample, we retrieved  features as a three-dimensional array of shape ``(widht, height, depth)``. Each image has dimension 28x28 and so contains 784 pixels.\n",
    "\n",
    "In the context, remember that the ``depth`` dimension represents the number of channels which encode the image. While the depth of any RGB image would be equal to 3, the depth of a grayscale image is equal to one. We namely have a regular grayscale image in that shades of gray range from 0 to 255. \n",
    "\n",
    "Let's recall how this looks like."
   ]
  },
  {
   "cell_type": "code",
   "execution_count": 3,
   "metadata": {},
   "outputs": [
    {
     "name": "stdout",
     "output_type": "stream",
     "text": [
      "label: 2\n"
     ]
    },
    {
     "data": {
      "image/png": "[encoded data removed]",
      "text/plain": [
       "<Figure size 432x288 with 1 Axes>"
      ]
     },
     "metadata": {
      "needs_background": "light"
     },
     "output_type": "display_data"
    },
    {
     "name": "stdout",
     "output_type": "stream",
     "text": [
      "label: 4\n"
     ]
    },
    {
     "data": {
      "image/png": "[encoded data removed]",
      "text/plain": [
       "<Figure size 432x288 with 1 Axes>"
      ]
     },
     "metadata": {
      "needs_background": "light"
     },
     "output_type": "display_data"
    }
   ],
   "source": [
    "print('label:', Y_label[0])\n",
    "plt.imshow(X_features[0], cmap='gray')\n",
    "plt.show()\n",
    "\n",
    "print('label:', Y_label[4])\n",
    "plt.imshow(X_features[4], cmap='gray')\n",
    "plt.show()"
   ]
  },
  {
   "cell_type": "markdown",
   "metadata": {},
   "source": [
    "According to [comments from the authors](http://yann.lecun.com/exdb/mnist/) of the MNIST database: *\"The original black and white (bilevel) images from NIST were size normalized \\[...\\]. The resulting images contain grey levels as a result of the anti-aliasing technique used by the normalization algorithm\"*."
   ]
  },
  {
   "cell_type": "markdown",
   "metadata": {},
   "source": [
    "## Feed-Forward (FF)"
   ]
  },
  {
   "cell_type": "markdown",
   "metadata": {},
   "source": [
    "As explained in other exemples of network training, we like to begin by a Feed-Forward network each time we start to investigate a new problem. This because:\n",
    "\n",
    "* Feed-Forward (Dense-based) network are computationally faster to train than other architectures.\n",
    "* Such network may be less sensitive to training hyperparameters and thus they are easier to train.\n",
    "* There is no reasonable day/night results depending on the architecture: one Feed-Forward - even if inappropriate - architecture may result in metrics that will not be made twice better by using an appropriate architecture. This mostly depends on hyperparameters and data processing."
   ]
  },
  {
   "cell_type": "markdown",
   "metadata": {},
   "source": [
    "About this last item, one may look at the above-linked page which reports on classifier error rate with respect to method or architecture.\n",
    "\n",
    "As a condensate:\n",
    "\n",
    "* Single-layer FF (Perceptron) - 12.0% error.\n",
    "* Single-layer FF (Perceptron) - 7.6% error with deskewing.\n",
    "* Two-layers FF with 800 hidden nodes - 1.6% error.\n",
    "* Committee of 35 Convolutional Neural Networks (CNN) - 0.23% error (best of all reported).\n",
    "\n",
    "First, we can see that from the very basic perceptron to the most evolved CNN there is an improvement from 88% to 99.77% accuracy. This is a huge gap, but both architecture succeed at recognizing patterns and drawing a decent model. \n",
    "\n",
    "Note the gap is significantly reduced by simply applying *deskewing* to the image data, which highlights the critical importance of data pre-processing in the ability of the network to result in an accurate model.\n",
    "\n",
    "Also note that perceptron are only able of linear regression while multi-layers Feed-Forward or CNN and other architectures can achieve non-linear regressions.\n",
    "\n",
    "When considering the two-layers FF with 800 hidden nodes versus the state-of-the-art CNN, the accuracy goes from 98.4% to 99.77%. Overall, this illustrates that classical Feed-Forward networks may be a good alternative to more appropriate architecture when balancing between accuracy, hardness of training and need for more computational time."
   ]
  },
  {
   "cell_type": "markdown",
   "metadata": {},
   "source": [
    "### Embedding"
   ]
  },
  {
   "cell_type": "markdown",
   "metadata": {},
   "source": [
    "We start from sample features containing values ranging from 0 to 255.\n",
    "\n",
    "The most important things is to **normalize** sample features withing \\[0, 1\\].\n",
    "\n",
    "The second thing is to set a batch size which, in this case, will makes the regression converging faster.\n",
    "\n",
    "The last - but not least - thing is to one-hot encode the set of sample label. While one may not do this with binary classification problems and thus use a single node in the output dense layer - from which 0 or 1 decisions can be extracted -, the same can not reasonably be done with multiclass classification. Because we have ten distinct labels in the game, the reasonable choice is to use 10 output nodes and to one-hot encode the set of sample label."
   ]
  },
  {
   "cell_type": "code",
   "execution_count": 4,
   "metadata": {},
   "outputs": [],
   "source": [
    "embedding = Embedding(X_data=X_features,\n",
    "                      Y_data=Y_label,\n",
    "                      X_scale=True,\n",
    "                      Y_encode=True,\n",
    "                      batch_size=32,\n",
    "                      relative_size=(2, 1, 0))"
   ]
  },
  {
   "cell_type": "markdown",
   "metadata": {},
   "source": [
    "About data normalization:\n",
    "\n",
    "* It diminishes the complexity of the problem.\n",
    "* It accelerates training and makes it easier.\n",
    "* If no normalization is done in this example, the loss function and gradients will both readily explode and generate floatting points errors."
   ]
  },
  {
   "cell_type": "markdown",
   "metadata": {},
   "source": [
    "About this last point, remember that exponentials are used in the context of neural networks. If you begin feeding exponential functions with large numbers such as 255, you can be sure you will get floatting points errors pretty quickly: the computer typically deals with 64-bits float number, which has maximal value of ``1.8 * 10 ** 308``. \n",
    "\n",
    "Note that in previously used 32-bits processors architecture, this maximal value was down to ``3.4 * 10 ** 38``. Compare with ``exp(255)`` which outputs ``5.56 * 10 ** 110`` and conclude that un-normalized data in the context of this notebook would have overflowed straight away on a - not that ancient - 32-bits system."
   ]
  },
  {
   "cell_type": "markdown",
   "metadata": {},
   "source": [
    "### Flatten-(Dense)n with Dropout"
   ]
  },
  {
   "cell_type": "markdown",
   "metadata": {},
   "source": [
    "We already explained why we need to use a *flatten* layer when willing to forward arrays of more than 2 dimensions to the *dense* layer: image data have three dimensions, and the array of sample features - the array of sample image - has four dimensions. Therefore we need to flatten this array to give it a bi-dimensional shape."
   ]
  },
  {
   "cell_type": "code",
   "execution_count": 5,
   "metadata": {
    "tags": []
   },
   "outputs": [],
   "source": [
    "name = 'Flatten_Dropout-02_Dense-64-relu_Dropout-05_Dense-10-softmax'\n",
    "\n",
    "se_hPars['learning_rate'] = 0.001\n",
    "se_hPars['softmax_temperature'] = 5\n",
    "\n",
    "flatten = Flatten()\n",
    "\n",
    "dropout1 = Dropout(drop_prob=0.2)\n",
    "\n",
    "hidden_dense = Dense(64, relu)\n",
    "\n",
    "dropout2 = Dropout(drop_prob=0.5)\n",
    "\n",
    "dense = Dense(10, softmax)\n",
    "\n",
    "layers = [embedding, flatten, dropout1, hidden_dense, dropout2, dense]\n",
    "\n",
    "model = EpyNN(layers=layers, name=name)"
   ]
  },
  {
   "cell_type": "markdown",
   "metadata": {
    "tags": []
   },
   "source": [
    "We have set up a custom learning rate, along with the 10 nodes in the output layers because we have labels one-hot encoded over 10 digit and again because we have ten distinct labels.\n",
    "\n",
    "Dropout layers were set to reduce overfitting and the *softmax temperature* was set higher than one to smooth the output probability distribution which practically results in more numerically stable training."
   ]
  },
  {
   "cell_type": "code",
   "execution_count": 6,
   "metadata": {
    "tags": []
   },
   "outputs": [
    {
     "name": "stdout",
     "output_type": "stream",
     "text": [
      "\u001b[1m--- EpyNN Check OK! --- \u001b[0mdding\u001b[0m0m0m\r"
     ]
    }
   ],
   "source": [
    "model.initialize(loss='CCE', seed=1, se_hPars=se_hPars.copy(), end='\\r')"
   ]
  },
  {
   "cell_type": "markdown",
   "metadata": {},
   "source": [
    "We have set the loss function to use *Categorical Cross Entropy* instead of *Binary Cross Entropy*. This because we have ten distinct labels instead of two."
   ]
  },
  {
   "cell_type": "code",
   "execution_count": 7,
   "metadata": {},
   "outputs": [
    {
     "name": "stdout",
     "output_type": "stream",
     "text": [
      "\u001b[1m\u001b[37mEpoch 99 - Batch 14/14 - Accuracy: 0.969 Cost: 0.11338 - TIME: 74.52s RATE: 7.83e+04e/s TTC: 0s\u001b[0m\n",
      "\n",
      "+-------+----------+----------+-------+----------+-------+-------+-------------------------------------------------------------------------+\n",
      "| \u001b[1m\u001b[37mepoch\u001b[0m |  \u001b[1m\u001b[37mlrate\u001b[0m   |  \u001b[1m\u001b[37mlrate\u001b[0m   |       | \u001b[1m\u001b[32maccuracy\u001b[0m |       |  \u001b[1m\u001b[31mCCE\u001b[0m  |                               \u001b[37mExperiment\u001b[0m                                |\n",
      "|       |  \u001b[37mDense\u001b[0m   |  \u001b[37mDense\u001b[0m   |  \u001b[1m\u001b[32m(0)\u001b[0m  |   \u001b[1m\u001b[32m(1)\u001b[0m    |  \u001b[1m\u001b[31m(0)\u001b[0m  |  \u001b[1m\u001b[31m(1)\u001b[0m  |                                                                         |\n",
      "+-------+----------+----------+-------+----------+-------+-------+-------------------------------------------------------------------------+\n",
      "|   \u001b[1m\u001b[37m0\u001b[0m   | \u001b[1m\u001b[37m1.00e-03\u001b[0m | \u001b[1m\u001b[37m1.00e-03\u001b[0m | \u001b[1m\u001b[32m0.246\u001b[0m |  \u001b[1m\u001b[32m0.216\u001b[0m   | \u001b[1m\u001b[31m2.238\u001b[0m | \u001b[1m\u001b[31m2.242\u001b[0m | \u001b[37m1630340677_Flatten_Dropout-02_Dense-64-relu_Dropout-05_Dense-10-softmax\u001b[0m |\n",
      "|  \u001b[1m\u001b[37m10\u001b[0m   | \u001b[1m\u001b[37m1.00e-03\u001b[0m | \u001b[1m\u001b[37m1.00e-03\u001b[0m | \u001b[1m\u001b[32m0.690\u001b[0m |  \u001b[1m\u001b[32m0.652\u001b[0m   | \u001b[1m\u001b[31m1.164\u001b[0m | \u001b[1m\u001b[31m1.264\u001b[0m | \u001b[37m1630340677_Flatten_Dropout-02_Dense-64-relu_Dropout-05_Dense-10-softmax\u001b[0m |\n",
      "|  \u001b[1m\u001b[37m20\u001b[0m   | \u001b[1m\u001b[37m1.00e-03\u001b[0m | \u001b[1m\u001b[37m1.00e-03\u001b[0m | \u001b[1m\u001b[32m0.800\u001b[0m |  \u001b[1m\u001b[32m0.728\u001b[0m   | \u001b[1m\u001b[31m0.737\u001b[0m | \u001b[1m\u001b[31m0.918\u001b[0m | \u001b[37m1630340677_Flatten_Dropout-02_Dense-64-relu_Dropout-05_Dense-10-softmax\u001b[0m |\n",
      "|  \u001b[1m\u001b[37m30\u001b[0m   | \u001b[1m\u001b[37m1.00e-03\u001b[0m | \u001b[1m\u001b[37m1.00e-03\u001b[0m | \u001b[1m\u001b[32m0.824\u001b[0m |  \u001b[1m\u001b[32m0.744\u001b[0m   | \u001b[1m\u001b[31m0.620\u001b[0m | \u001b[1m\u001b[31m0.838\u001b[0m | \u001b[37m1630340677_Flatten_Dropout-02_Dense-64-relu_Dropout-05_Dense-10-softmax\u001b[0m |\n",
      "|  \u001b[1m\u001b[37m40\u001b[0m   | \u001b[1m\u001b[37m1.00e-03\u001b[0m | \u001b[1m\u001b[37m1.00e-03\u001b[0m | \u001b[1m\u001b[32m0.866\u001b[0m |  \u001b[1m\u001b[32m0.812\u001b[0m   | \u001b[1m\u001b[31m0.492\u001b[0m | \u001b[1m\u001b[31m0.702\u001b[0m | \u001b[37m1630340677_Flatten_Dropout-02_Dense-64-relu_Dropout-05_Dense-10-softmax\u001b[0m |\n",
      "|  \u001b[1m\u001b[37m50\u001b[0m   | \u001b[1m\u001b[37m1.00e-03\u001b[0m | \u001b[1m\u001b[37m1.00e-03\u001b[0m | \u001b[1m\u001b[32m0.868\u001b[0m |  \u001b[1m\u001b[32m0.792\u001b[0m   | \u001b[1m\u001b[31m0.440\u001b[0m | \u001b[1m\u001b[31m0.734\u001b[0m | \u001b[37m1630340677_Flatten_Dropout-02_Dense-64-relu_Dropout-05_Dense-10-softmax\u001b[0m |\n",
      "|  \u001b[1m\u001b[37m60\u001b[0m   | \u001b[1m\u001b[37m1.00e-03\u001b[0m | \u001b[1m\u001b[37m1.00e-03\u001b[0m | \u001b[1m\u001b[32m0.864\u001b[0m |  \u001b[1m\u001b[32m0.804\u001b[0m   | \u001b[1m\u001b[31m0.418\u001b[0m | \u001b[1m\u001b[31m0.614\u001b[0m | \u001b[37m1630340677_Flatten_Dropout-02_Dense-64-relu_Dropout-05_Dense-10-softmax\u001b[0m |\n",
      "|  \u001b[1m\u001b[37m70\u001b[0m   | \u001b[1m\u001b[37m1.00e-03\u001b[0m | \u001b[1m\u001b[37m1.00e-03\u001b[0m | \u001b[1m\u001b[32m0.892\u001b[0m |  \u001b[1m\u001b[32m0.820\u001b[0m   | \u001b[1m\u001b[31m0.353\u001b[0m | \u001b[1m\u001b[31m0.636\u001b[0m | \u001b[37m1630340677_Flatten_Dropout-02_Dense-64-relu_Dropout-05_Dense-10-softmax\u001b[0m |\n",
      "|  \u001b[1m\u001b[37m80\u001b[0m   | \u001b[1m\u001b[37m1.00e-03\u001b[0m | \u001b[1m\u001b[37m1.00e-03\u001b[0m | \u001b[1m\u001b[32m0.932\u001b[0m |  \u001b[1m\u001b[32m0.820\u001b[0m   | \u001b[1m\u001b[31m0.285\u001b[0m | \u001b[1m\u001b[31m0.724\u001b[0m | \u001b[37m1630340677_Flatten_Dropout-02_Dense-64-relu_Dropout-05_Dense-10-softmax\u001b[0m |\n",
      "|  \u001b[1m\u001b[37m90\u001b[0m   | \u001b[1m\u001b[37m1.00e-03\u001b[0m | \u001b[1m\u001b[37m1.00e-03\u001b[0m | \u001b[1m\u001b[32m0.928\u001b[0m |  \u001b[1m\u001b[32m0.836\u001b[0m   | \u001b[1m\u001b[31m0.276\u001b[0m | \u001b[1m\u001b[31m0.628\u001b[0m | \u001b[37m1630340677_Flatten_Dropout-02_Dense-64-relu_Dropout-05_Dense-10-softmax\u001b[0m |\n",
      "|  \u001b[1m\u001b[37m99\u001b[0m   | \u001b[1m\u001b[37m1.00e-03\u001b[0m | \u001b[1m\u001b[37m1.00e-03\u001b[0m | \u001b[1m\u001b[32m0.946\u001b[0m |  \u001b[1m\u001b[32m0.832\u001b[0m   | \u001b[1m\u001b[31m0.227\u001b[0m | \u001b[1m\u001b[31m0.637\u001b[0m | \u001b[37m1630340677_Flatten_Dropout-02_Dense-64-relu_Dropout-05_Dense-10-softmax\u001b[0m |\n",
      "+-------+----------+----------+-------+----------+-------+-------+-------------------------------------------------------------------------+\n"
     ]
    }
   ],
   "source": [
    "model.train(epochs=100, init_logs=False)"
   ]
  },
  {
   "cell_type": "markdown",
   "metadata": {},
   "source": [
    "-"
   ]
  },
  {
   "cell_type": "code",
   "execution_count": 8,
   "metadata": {
    "tags": []
   },
   "outputs": [
    {
     "data": {
      "image/png": "[encoded data removed]",
      "text/plain": [
       "<Figure size 432x288 with 1 Axes>"
      ]
     },
     "metadata": {
      "needs_background": "light"
     },
     "output_type": "display_data"
    }
   ],
   "source": [
    "model.plot(path=False)"
   ]
  },
  {
   "cell_type": "markdown",
   "metadata": {},
   "source": [
    "_"
   ]
  },
  {
   "cell_type": "markdown",
   "metadata": {},
   "source": [
    "## Convolutional Neural Network (CNN) \\[FLAG\\]"
   ]
  },
  {
   "cell_type": "markdown",
   "metadata": {},
   "source": [
    "_"
   ]
  },
  {
   "cell_type": "markdown",
   "metadata": {},
   "source": [
    "### Embedding"
   ]
  },
  {
   "cell_type": "markdown",
   "metadata": {},
   "source": [
    "_"
   ]
  },
  {
   "cell_type": "code",
   "execution_count": 9,
   "metadata": {},
   "outputs": [],
   "source": [
    "embedding = Embedding(X_data=X_features,\n",
    "                      Y_data=Y_label,\n",
    "                      X_scale=True,\n",
    "                      Y_encode=True,\n",
    "                      batch_size=32,\n",
    "                      relative_size=(2, 1, 0))"
   ]
  },
  {
   "cell_type": "markdown",
   "metadata": {},
   "source": [
    "_"
   ]
  },
  {
   "cell_type": "markdown",
   "metadata": {},
   "source": [
    "### Conv-MaxPool-Flatten-Dense"
   ]
  },
  {
   "cell_type": "markdown",
   "metadata": {},
   "source": [
    "_"
   ]
  },
  {
   "cell_type": "code",
   "execution_count": 10,
   "metadata": {
    "tags": []
   },
   "outputs": [],
   "source": [
    "name = 'Convolution-32-2_Pooling-3-3-Max_Flatten_Dense-10-softmax'\n",
    "\n",
    "se_hPars['learning_rate'] = 0.005\n",
    "se_hPars['softmax_temperature'] = 5\n",
    "\n",
    "convolution = Convolution(unit_filters=6, filter_size=(4, 4), activate=relu)\n",
    "\n",
    "pooling = Pooling(pool_size=(2, 2))\n",
    "\n",
    "flatten = Flatten()\n",
    "\n",
    "dense = Dense(10, softmax)\n",
    "\n",
    "layers = [embedding, convolution, pooling, flatten, dense]\n",
    "\n",
    "model = EpyNN(layers=layers, name=name)"
   ]
  },
  {
   "cell_type": "markdown",
   "metadata": {
    "tags": []
   },
   "source": [
    "_"
   ]
  },
  {
   "cell_type": "code",
   "execution_count": 11,
   "metadata": {
    "tags": []
   },
   "outputs": [
    {
     "name": "stdout",
     "output_type": "stream",
     "text": [
      "\u001b[1m--- EpyNN Check OK! --- \u001b[0mdding\u001b[0m0m\u001b[0m\r"
     ]
    }
   ],
   "source": [
    "model.initialize(loss='CCE', seed=1, se_hPars=se_hPars.copy(), end='\\r')"
   ]
  },
  {
   "cell_type": "markdown",
   "metadata": {},
   "source": [
    "_"
   ]
  },
  {
   "cell_type": "code",
   "execution_count": 12,
   "metadata": {},
   "outputs": [
    {
     "name": "stdout",
     "output_type": "stream",
     "text": [
      "\u001b[1m\u001b[37mEpoch 99 - Batch 14/14 - Accuracy: 0.969 Cost: 0.10478 - TIME: 84.27s RATE: 1.78e+04e/s TTC: 0s\u001b[0m\n",
      "\n",
      "+-------+-------------+----------+-------+----------+-------+-------+----------------------------------------------------------------------+\n",
      "| \u001b[1m\u001b[37mepoch\u001b[0m |    \u001b[1m\u001b[37mlrate\u001b[0m    |  \u001b[1m\u001b[37mlrate\u001b[0m   |       | \u001b[1m\u001b[32maccuracy\u001b[0m |       |  \u001b[1m\u001b[31mCCE\u001b[0m  |                              \u001b[37mExperiment\u001b[0m                              |\n",
      "|       | \u001b[37mConvolution\u001b[0m |  \u001b[37mDense\u001b[0m   |  \u001b[1m\u001b[32m(0)\u001b[0m  |   \u001b[1m\u001b[32m(1)\u001b[0m    |  \u001b[1m\u001b[31m(0)\u001b[0m  |  \u001b[1m\u001b[31m(1)\u001b[0m  |                                                                      |\n",
      "+-------+-------------+----------+-------+----------+-------+-------+----------------------------------------------------------------------+\n",
      "|   \u001b[1m\u001b[37m0\u001b[0m   |  \u001b[1m\u001b[37m5.00e-03\u001b[0m   | \u001b[1m\u001b[37m5.00e-03\u001b[0m | \u001b[1m\u001b[32m0.116\u001b[0m |  \u001b[1m\u001b[32m0.088\u001b[0m   | \u001b[1m\u001b[31m2.251\u001b[0m | \u001b[1m\u001b[31m2.333\u001b[0m | \u001b[37m1630340752_Convolution-32-2_Pooling-3-3-Max_Flatten_Dense-10-softmax\u001b[0m |\n",
      "|  \u001b[1m\u001b[37m10\u001b[0m   |  \u001b[1m\u001b[37m5.00e-03\u001b[0m   | \u001b[1m\u001b[37m5.00e-03\u001b[0m | \u001b[1m\u001b[32m0.562\u001b[0m |  \u001b[1m\u001b[32m0.480\u001b[0m   | \u001b[1m\u001b[31m1.402\u001b[0m | \u001b[1m\u001b[31m1.658\u001b[0m | \u001b[37m1630340752_Convolution-32-2_Pooling-3-3-Max_Flatten_Dense-10-softmax\u001b[0m |\n",
      "|  \u001b[1m\u001b[37m20\u001b[0m   |  \u001b[1m\u001b[37m5.00e-03\u001b[0m   | \u001b[1m\u001b[37m5.00e-03\u001b[0m | \u001b[1m\u001b[32m0.738\u001b[0m |  \u001b[1m\u001b[32m0.672\u001b[0m   | \u001b[1m\u001b[31m0.915\u001b[0m | \u001b[1m\u001b[31m1.244\u001b[0m | \u001b[37m1630340752_Convolution-32-2_Pooling-3-3-Max_Flatten_Dense-10-softmax\u001b[0m |\n",
      "|  \u001b[1m\u001b[37m30\u001b[0m   |  \u001b[1m\u001b[37m5.00e-03\u001b[0m   | \u001b[1m\u001b[37m5.00e-03\u001b[0m | \u001b[1m\u001b[32m0.750\u001b[0m |  \u001b[1m\u001b[32m0.624\u001b[0m   | \u001b[1m\u001b[31m1.279\u001b[0m | \u001b[1m\u001b[31m2.034\u001b[0m | \u001b[37m1630340752_Convolution-32-2_Pooling-3-3-Max_Flatten_Dense-10-softmax\u001b[0m |\n",
      "|  \u001b[1m\u001b[37m40\u001b[0m   |  \u001b[1m\u001b[37m5.00e-03\u001b[0m   | \u001b[1m\u001b[37m5.00e-03\u001b[0m | \u001b[1m\u001b[32m0.820\u001b[0m |  \u001b[1m\u001b[32m0.680\u001b[0m   | \u001b[1m\u001b[31m0.472\u001b[0m | \u001b[1m\u001b[31m1.189\u001b[0m | \u001b[37m1630340752_Convolution-32-2_Pooling-3-3-Max_Flatten_Dense-10-softmax\u001b[0m |\n",
      "|  \u001b[1m\u001b[37m50\u001b[0m   |  \u001b[1m\u001b[37m5.00e-03\u001b[0m   | \u001b[1m\u001b[37m5.00e-03\u001b[0m | \u001b[1m\u001b[32m0.916\u001b[0m |  \u001b[1m\u001b[32m0.728\u001b[0m   | \u001b[1m\u001b[31m0.251\u001b[0m | \u001b[1m\u001b[31m0.989\u001b[0m | \u001b[37m1630340752_Convolution-32-2_Pooling-3-3-Max_Flatten_Dense-10-softmax\u001b[0m |\n",
      "|  \u001b[1m\u001b[37m60\u001b[0m   |  \u001b[1m\u001b[37m5.00e-03\u001b[0m   | \u001b[1m\u001b[37m5.00e-03\u001b[0m | \u001b[1m\u001b[32m0.940\u001b[0m |  \u001b[1m\u001b[32m0.764\u001b[0m   | \u001b[1m\u001b[31m0.179\u001b[0m | \u001b[1m\u001b[31m1.009\u001b[0m | \u001b[37m1630340752_Convolution-32-2_Pooling-3-3-Max_Flatten_Dense-10-softmax\u001b[0m |\n",
      "|  \u001b[1m\u001b[37m70\u001b[0m   |  \u001b[1m\u001b[37m5.00e-03\u001b[0m   | \u001b[1m\u001b[37m5.00e-03\u001b[0m | \u001b[1m\u001b[32m0.936\u001b[0m |  \u001b[1m\u001b[32m0.736\u001b[0m   | \u001b[1m\u001b[31m0.183\u001b[0m | \u001b[1m\u001b[31m1.168\u001b[0m | \u001b[37m1630340752_Convolution-32-2_Pooling-3-3-Max_Flatten_Dense-10-softmax\u001b[0m |\n",
      "|  \u001b[1m\u001b[37m80\u001b[0m   |  \u001b[1m\u001b[37m5.00e-03\u001b[0m   | \u001b[1m\u001b[37m5.00e-03\u001b[0m | \u001b[1m\u001b[32m0.962\u001b[0m |  \u001b[1m\u001b[32m0.748\u001b[0m   | \u001b[1m\u001b[31m0.128\u001b[0m | \u001b[1m\u001b[31m1.147\u001b[0m | \u001b[37m1630340752_Convolution-32-2_Pooling-3-3-Max_Flatten_Dense-10-softmax\u001b[0m |\n",
      "|  \u001b[1m\u001b[37m90\u001b[0m   |  \u001b[1m\u001b[37m5.00e-03\u001b[0m   | \u001b[1m\u001b[37m5.00e-03\u001b[0m | \u001b[1m\u001b[32m0.968\u001b[0m |  \u001b[1m\u001b[32m0.740\u001b[0m   | \u001b[1m\u001b[31m0.119\u001b[0m | \u001b[1m\u001b[31m1.183\u001b[0m | \u001b[37m1630340752_Convolution-32-2_Pooling-3-3-Max_Flatten_Dense-10-softmax\u001b[0m |\n",
      "|  \u001b[1m\u001b[37m99\u001b[0m   |  \u001b[1m\u001b[37m5.00e-03\u001b[0m   | \u001b[1m\u001b[37m5.00e-03\u001b[0m | \u001b[1m\u001b[32m0.982\u001b[0m |  \u001b[1m\u001b[32m0.748\u001b[0m   | \u001b[1m\u001b[31m0.086\u001b[0m | \u001b[1m\u001b[31m1.322\u001b[0m | \u001b[37m1630340752_Convolution-32-2_Pooling-3-3-Max_Flatten_Dense-10-softmax\u001b[0m |\n",
      "+-------+-------------+----------+-------+----------+-------+-------+----------------------------------------------------------------------+\n"
     ]
    }
   ],
   "source": [
    "model.train(epochs=100, init_logs=False)"
   ]
  },
  {
   "cell_type": "markdown",
   "metadata": {},
   "source": [
    "_"
   ]
  },
  {
   "cell_type": "code",
   "execution_count": 13,
   "metadata": {
    "tags": []
   },
   "outputs": [
    {
     "data": {
      "image/png": "[encoded data removed]",
      "text/plain": [
       "<Figure size 432x288 with 1 Axes>"
      ]
     },
     "metadata": {
      "needs_background": "light"
     },
     "output_type": "display_data"
    }
   ],
   "source": [
    "model.plot(path=False)"
   ]
  },
  {
   "cell_type": "code",
   "execution_count": null,
   "metadata": {},
   "outputs": [],
   "source": []
  },
  {
   "cell_type": "markdown",
   "metadata": {},
   "source": [
    "## Write, Read & Predict"
   ]
  },
  {
   "cell_type": "code",
   "execution_count": 14,
   "metadata": {},
   "outputs": [
    {
     "name": "stdout",
     "output_type": "stream",
     "text": [
      "\u001b[1m\u001b[32mMake: /media/synthase/beta/EpyNN/nnlive/captcha_mnist/models/1630340752_Convolution-32-2_Pooling-3-3-Max_Flatten_Dense-10-softmax.pickle\u001b[0m\n",
      "0 7 [5.14403863e-10 5.16694162e-10 4.84021042e-10 1.83163393e-08\n",
      " 1.65197725e-04 1.78366923e-09 1.70067458e-12 9.99834771e-01\n",
      " 8.39811114e-09 9.21838741e-10]\n",
      "1 1 [4.73896081e-10 9.85751623e-01 2.77813941e-06 1.27732153e-05\n",
      " 7.24892612e-04 1.99408468e-04 1.00478923e-02 8.67569926e-06\n",
      " 2.41516999e-03 8.36786082e-04]\n",
      "2 3 [2.23146848e-03 2.37931130e-09 6.16473228e-04 9.94907091e-01\n",
      " 4.94541121e-09 2.86869244e-04 8.09874591e-12 8.50511286e-04\n",
      " 1.10757860e-03 1.24715696e-09]\n",
      "3 5 [3.06765028e-07 3.25115210e-06 1.03188186e-06 1.80213992e-06\n",
      " 2.20410746e-08 9.92319864e-01 5.94261186e-09 1.34366058e-07\n",
      " 7.67353130e-03 5.01058050e-08]\n",
      "4 1 [8.95055573e-10 9.99858579e-01 1.35169849e-05 1.41920199e-11\n",
      " 9.00774496e-06 1.80675997e-10 9.32871859e-06 2.50148398e-05\n",
      " 8.45512155e-05 2.14161263e-10]\n",
      "5 4 [5.17288613e-08 1.38669138e-07 1.96544782e-10 2.89826489e-13\n",
      " 9.99981371e-01 5.20581664e-06 2.54313857e-06 5.45643351e-09\n",
      " 1.04946930e-05 1.89775317e-07]\n",
      "6 2 [4.19901460e-04 1.17162813e-08 9.99571765e-01 6.88668963e-07\n",
      " 1.54803043e-07 8.43925347e-08 7.34490423e-06 4.02991230e-11\n",
      " 4.87055502e-08 4.44610578e-12]\n",
      "7 0 [5.07388572e-01 1.22609548e-06 1.11085092e-06 9.96591505e-08\n",
      " 1.03109778e-07 4.81451576e-01 9.11769979e-04 6.10942298e-09\n",
      " 1.02454198e-02 1.16689900e-07]\n",
      "8 1 [6.75661396e-09 9.97552603e-01 1.33194728e-05 8.50336427e-08\n",
      " 1.38161456e-04 3.50104116e-06 2.20932486e-03 2.57693668e-06\n",
      " 6.85302827e-05 1.18914433e-05]\n",
      "9 9 [1.24181804e-10 7.41353227e-10 1.26855548e-08 4.91195724e-11\n",
      " 2.68528988e-01 7.19995491e-11 9.53844142e-09 1.95216427e-04\n",
      " 3.48153674e-06 7.31272290e-01]\n"
     ]
    }
   ],
   "source": [
    "### Write/read model\n",
    "\n",
    "model.write()\n",
    "\n",
    "model = read_model()\n",
    "\n",
    "\n",
    "### Predict\n",
    "\n",
    "X_features, _ = prepare_dataset(N_SAMPLES=10)\n",
    "\n",
    "dset = model.predict(X_features, X_scale=True)\n",
    "\n",
    "for n, pred, probs in zip(dset.ids, dset.P, dset.A):\n",
    "    print(n, pred, probs)"
   ]
  }
 ],
 "metadata": {
  "kernelspec": {
   "display_name": "Python 3",
   "language": "python",
   "name": "python3"
  },
  "language_info": {
   "codemirror_mode": {
    "name": "ipython",
    "version": 3
   },
   "file_extension": ".py",
   "mimetype": "text/x-python",
   "name": "python",
   "nbconvert_exporter": "python",
   "pygments_lexer": "ipython3",
   "version": "3.7.3"
  }
 },
 "nbformat": 4,
 "nbformat_minor": 4
}
