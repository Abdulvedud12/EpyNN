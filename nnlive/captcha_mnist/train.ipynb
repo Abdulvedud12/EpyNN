{
 "cells": [
  {
   "cell_type": "markdown",
   "metadata": {},
   "source": [
    "# Multiclass Classification"
   ]
  },
  {
   "cell_type": "markdown",
   "metadata": {},
   "source": [
    "* Find this notebook at `EpyNN/nnlive/captcha_mnist/train.ipynb`.\n",
    "* Regular python code at `EpyNN/nnlive/captcha_mnist/train.py`."
   ]
  },
  {
   "cell_type": "markdown",
   "metadata": {},
   "source": [
    "In this notebook we will review:\n",
    "\n",
    "* Handling numerical data image to proceed with Neural Network regression.\n",
    "* Training of Feed-Forward (FF) and Convolutional Neural Network (CNN) for multiclass classification task.\n",
    "* MNIST database as a benchmark for neural networks."
   ]
  },
  {
   "cell_type": "markdown",
   "metadata": {},
   "source": [
    "Please see the following if you get lost:\n",
    "\n",
    "* [Fully Connected (Dense)](../../Dense.html)\n",
    "* [Convolution (CNN)](../../Convolution.html)\n",
    "* [Pooling (CNN)](../../Pooling.html)"
   ]
  },
  {
   "cell_type": "markdown",
   "metadata": {},
   "source": [
    " Please follow this [external link](http://yann.lecun.com/exdb/mnist/) for detailed contextual information about the MNIST database."
   ]
  },
  {
   "cell_type": "markdown",
   "metadata": {},
   "source": [
    "## Environment and data"
   ]
  },
  {
   "cell_type": "markdown",
   "metadata": {},
   "source": [
    "Follow [this link](prepare_dataset.ipynb) for details about data preparation."
   ]
  },
  {
   "cell_type": "markdown",
   "metadata": {},
   "source": [
    "Briefly, the MNIST database contains 70 000 images (60K + 10k).\n",
    "\n",
    "Each image contains a single handwritten digit. In total, 500 different human writters contributed to the whole.\n",
    "\n",
    "The MNIST database is curated in that images were size normalized and centered."
   ]
  },
  {
   "cell_type": "code",
   "execution_count": 1,
   "metadata": {},
   "outputs": [],
   "source": [
    "# EpyNN/nnlive/captcha_mnist/train.ipynb\n",
    "# Standard library imports\n",
    "import random\n",
    "\n",
    "# Related third party imports\n",
    "import matplotlib.pyplot as plt\n",
    "import numpy as np\n",
    "\n",
    "# Local application/library specific imports\n",
    "import nnlibs.initialize\n",
    "from nnlibs.commons.maths import relu, softmax\n",
    "from nnlibs.commons.library import (\n",
    "    configure_directory,\n",
    "    read_model,\n",
    ")\n",
    "from nnlibs.network.models import EpyNN\n",
    "from nnlibs.embedding.models import Embedding\n",
    "from nnlibs.convolution.models import Convolution\n",
    "from nnlibs.pooling.models import Pooling\n",
    "from nnlibs.flatten.models import Flatten\n",
    "from nnlibs.dropout.models import Dropout\n",
    "from nnlibs.dense.models import Dense\n",
    "from prepare_dataset import (\n",
    "    prepare_dataset,\n",
    "    download_mnist,\n",
    ")\n",
    "from settings import se_hPars\n",
    "\n",
    "\n",
    "########################## CONFIGURE ##########################\n",
    "random.seed(1)\n",
    "np.random.seed(1)\n",
    "\n",
    "np.set_printoptions(threshold=10)\n",
    "\n",
    "np.seterr(all='warn')\n",
    "\n",
    "configure_directory()\n",
    "\n",
    "\n",
    "############################ DATASET ##########################\n",
    "download_mnist()\n",
    "\n",
    "X_features, Y_label = prepare_dataset(N_SAMPLES=750)"
   ]
  },
  {
   "cell_type": "markdown",
   "metadata": {},
   "source": [
    "Let's control what we retrieved."
   ]
  },
  {
   "cell_type": "code",
   "execution_count": 2,
   "metadata": {},
   "outputs": [
    {
     "name": "stdout",
     "output_type": "stream",
     "text": [
      "750\n",
      "(28, 28, 1)\n",
      "{0.0, 3.0, 6.0, 11.0, 12.0, 13.0, 15.0, 17.0, 18.0, 19.0, 20.0, 21.0, 22.0, 27.0, 28.0, 32.0, 39.0, 40.0, 42.0, 43.0, 44.0, 45.0, 46.0, 48.0, 55.0, 67.0, 82.0, 86.0, 87.0, 90.0, 91.0, 94.0, 97.0, 100.0, 101.0, 104.0, 107.0, 110.0, 112.0, 115.0, 116.0, 125.0, 127.0, 129.0, 143.0, 147.0, 150.0, 151.0, 155.0, 158.0, 162.0, 163.0, 166.0, 167.0, 169.0, 170.0, 172.0, 181.0, 183.0, 184.0, 186.0, 189.0, 202.0, 205.0, 206.0, 210.0, 211.0, 214.0, 215.0, 219.0, 220.0, 221.0, 223.0, 225.0, 227.0, 228.0, 230.0, 233.0, 234.0, 237.0, 238.0, 239.0, 240.0, 241.0, 242.0, 243.0, 247.0, 250.0, 252.0, 253.0, 255.0}\n"
     ]
    }
   ],
   "source": [
    "print(len(X_features))\n",
    "print(X_features[0].shape)\n",
    "print(set(X_features[0].flatten().tolist()))    # Get all unique tones in image"
   ]
  },
  {
   "cell_type": "markdown",
   "metadata": {},
   "source": [
    "We retrieved sample features describing ``7500`` samples.\n",
    "\n",
    "For each sample, we retrieved  features as a three-dimensional array of shape ``(widht, height, depth)``. Each image has dimension 28x28 and so contains 784 pixels.\n",
    "\n",
    "In the context, remember that the ``depth`` dimension represents the number of channels which encode the image. While the depth of any RGB image would be equal to 3, the depth of a grayscale image is equal to one. We namely have a regular grayscale image in that shades of gray range from 0 to 255. \n",
    "\n",
    "Let's recall how this looks like."
   ]
  },
  {
   "cell_type": "code",
   "execution_count": 3,
   "metadata": {},
   "outputs": [
    {
     "data": {
      "image/png": "[encoded data removed]",
      "text/plain": [
       "<Figure size 432x288 with 4 Axes>"
      ]
     },
     "metadata": {
      "needs_background": "light"
     },
     "output_type": "display_data"
    }
   ],
   "source": [
    "fig, ((ax0, ax1), (ax2, ax3)) = plt.subplots(2, 2)\n",
    "\n",
    "ax0.imshow(X_features[Y_label.index(0)], cmap='gray')\n",
    "ax0.set_title('label: 0')\n",
    "\n",
    "ax1.imshow(X_features[Y_label.index(1)], cmap='gray')\n",
    "ax1.set_title('label: 1')\n",
    "\n",
    "ax2.imshow(X_features[Y_label.index(2)], cmap='gray')\n",
    "ax2.set_title('label: 2')\n",
    "\n",
    "ax3.imshow(X_features[Y_label.index(3)], cmap='gray')\n",
    "ax3.set_title('label: 3')\n",
    "\n",
    "plt.tight_layout()\n",
    "plt.show()"
   ]
  },
  {
   "cell_type": "markdown",
   "metadata": {},
   "source": [
    "According to [comments from the authors](http://yann.lecun.com/exdb/mnist/) of the MNIST database: *\"The original black and white (bilevel) images from NIST were size normalized \\[...\\]. The resulting images contain grey levels as a result of the anti-aliasing technique used by the normalization algorithm\"*."
   ]
  },
  {
   "cell_type": "markdown",
   "metadata": {},
   "source": [
    "## Feed-Forward (FF)"
   ]
  },
  {
   "cell_type": "markdown",
   "metadata": {},
   "source": [
    "As explained in other exemples of network training, we like to begin by a Feed-Forward network each time we start to investigate a new problem. This because:\n",
    "\n",
    "* Feed-Forward (Dense-based) network are computationally faster to train than other architectures.\n",
    "* Such network may be less sensitive to training hyperparameters and thus they are easier to train.\n",
    "* There is no reasonable day/night results depending on the architecture: one Feed-Forward - even if inappropriate - architecture may result in metrics that will not be made twice better by using an appropriate architecture. This mostly depends on hyperparameters and data processing."
   ]
  },
  {
   "cell_type": "markdown",
   "metadata": {},
   "source": [
    "About this last item, one may look at the above-linked page which reports on classifier error rate with respect to method or architecture.\n",
    "\n",
    "As a condensate:\n",
    "\n",
    "* Single-layer FF (Perceptron) - 12.0% error.\n",
    "* Single-layer FF (Perceptron) - 7.6% error with deskewing.\n",
    "* Two-layers FF with 800 hidden nodes - 1.6% error.\n",
    "* Committee of 35 Convolutional Neural Networks (CNN) - 0.23% error (best of all reported).\n",
    "\n",
    "First, we can see that from the very basic perceptron to the most evolved CNN there is an improvement from 88% to 99.77% accuracy. This is a huge gap, but both architecture succeed at recognizing patterns and drawing a decent model. \n",
    "\n",
    "Note the gap is significantly reduced by simply applying *deskewing* to the image data, which highlights the critical importance of data pre-processing in the ability of the network to result in an accurate model.\n",
    "\n",
    "Also note that perceptron are only able of linear regression while multi-layers Feed-Forward or CNN and other architectures can achieve non-linear regressions.\n",
    "\n",
    "When considering the two-layers FF with 800 hidden nodes versus the state-of-the-art CNN, the accuracy goes from 98.4% to 99.77%. Overall, this illustrates that classical Feed-Forward networks may be a good alternative to more appropriate architecture when balancing between accuracy, hardness of training and need for more computational time."
   ]
  },
  {
   "cell_type": "markdown",
   "metadata": {},
   "source": [
    "### Embedding"
   ]
  },
  {
   "cell_type": "markdown",
   "metadata": {},
   "source": [
    "We start from sample features containing values ranging from 0 to 255.\n",
    "\n",
    "The most important things is to **normalize** sample features withing \\[0, 1\\].\n",
    "\n",
    "The second thing is to set a batch size which, in this case, will makes the regression converging faster.\n",
    "\n",
    "The last - but not least - thing is to one-hot encode the set of sample label. While one may not do this with binary classification problems and thus use a single node in the output dense layer - from which 0 or 1 decisions can be extracted -, the same can not reasonably be done with multiclass classification. Because we have ten distinct labels in the game, the reasonable choice is to use 10 output nodes and to one-hot encode the set of sample label."
   ]
  },
  {
   "cell_type": "code",
   "execution_count": 4,
   "metadata": {},
   "outputs": [],
   "source": [
    "embedding = Embedding(X_data=X_features,\n",
    "                      Y_data=Y_label,\n",
    "                      X_scale=True,\n",
    "                      Y_encode=True,\n",
    "                      batch_size=32,\n",
    "                      relative_size=(2, 1, 0))"
   ]
  },
  {
   "cell_type": "markdown",
   "metadata": {},
   "source": [
    "About data normalization:\n",
    "\n",
    "* It diminishes the complexity of the problem.\n",
    "* It accelerates training and makes it easier.\n",
    "* If no normalization is done in this example, the loss function and gradients will both readily explode and generate floatting points errors."
   ]
  },
  {
   "cell_type": "markdown",
   "metadata": {},
   "source": [
    "About this last point, remember that exponentials are used in the context of neural networks. If you begin feeding exponential functions with large numbers such as 255, you can be sure you will get floatting points errors pretty quickly: the computer typically deals with 64-bits float number, which has maximal value of ``1.8 * 10 ** 308``. \n",
    "\n",
    "Note that in previously used 32-bits processors architecture, this maximal value was down to ``3.4 * 10 ** 38``. Compare with ``exp(255)`` which outputs ``5.56 * 10 ** 110`` and conclude that un-normalized data in the context of this notebook would have overflowed straight away on a - not that ancient - 32-bits system."
   ]
  },
  {
   "cell_type": "markdown",
   "metadata": {},
   "source": [
    "### Flatten-(Dense)n with Dropout"
   ]
  },
  {
   "cell_type": "markdown",
   "metadata": {},
   "source": [
    "We already explained why we need to use a *flatten* layer when willing to forward arrays of more than 2 dimensions to the *dense* layer: image data have three dimensions, and the array of sample features - the array of sample image - has four dimensions. Therefore we need to flatten this array to give it a bi-dimensional shape."
   ]
  },
  {
   "cell_type": "code",
   "execution_count": 5,
   "metadata": {
    "tags": []
   },
   "outputs": [],
   "source": [
    "name = 'Flatten_Dropout-02_Dense-64-relu_Dropout-05_Dense-10-softmax'\n",
    "\n",
    "se_hPars['learning_rate'] = 0.001\n",
    "se_hPars['softmax_temperature'] = 5\n",
    "\n",
    "flatten = Flatten()\n",
    "\n",
    "dropout1 = Dropout(drop_prob=0.2)\n",
    "\n",
    "hidden_dense = Dense(64, relu)\n",
    "\n",
    "dropout2 = Dropout(drop_prob=0.5)\n",
    "\n",
    "dense = Dense(10, softmax)\n",
    "\n",
    "layers = [embedding, flatten, dropout1, hidden_dense, dropout2, dense]\n",
    "\n",
    "model = EpyNN(layers=layers, name=name)"
   ]
  },
  {
   "cell_type": "markdown",
   "metadata": {
    "tags": []
   },
   "source": [
    "We have set up a custom learning rate, along with the 10 nodes in the output layers because we have labels one-hot encoded over 10 digit and again because we have ten distinct labels.\n",
    "\n",
    "Dropout layers were set to reduce overfitting and the *softmax temperature* was set higher than one to smooth the output probability distribution which practically results in more numerically stable training."
   ]
  },
  {
   "cell_type": "code",
   "execution_count": 6,
   "metadata": {
    "tags": []
   },
   "outputs": [
    {
     "name": "stdout",
     "output_type": "stream",
     "text": [
      "\u001b[1m--- EpyNN Check OK! --- \u001b[0mdding\u001b[0m0m0m\r"
     ]
    }
   ],
   "source": [
    "model.initialize(loss='CCE', seed=1, se_hPars=se_hPars.copy(), end='\\r')"
   ]
  },
  {
   "cell_type": "markdown",
   "metadata": {},
   "source": [
    "We have set the loss function to use *Categorical Cross Entropy* instead of *Binary Cross Entropy*. This because we have ten distinct labels instead of two."
   ]
  },
  {
   "cell_type": "code",
   "execution_count": 7,
   "metadata": {},
   "outputs": [
    {
     "name": "stdout",
     "output_type": "stream",
     "text": [
      "\u001b[1m\u001b[37mEpoch 99 - Batch 14/14 - Accuracy: 0.969 Cost: 0.11338 - TIME: 76.46s RATE: 7.20e+04e/s TTC: 0s\u001b[0m\n",
      "\n",
      "+-------+----------+----------+-------+----------+-------+-------+-------------------------------------------------------------------------+\n",
      "| \u001b[1m\u001b[37mepoch\u001b[0m |  \u001b[1m\u001b[37mlrate\u001b[0m   |  \u001b[1m\u001b[37mlrate\u001b[0m   |       | \u001b[1m\u001b[32maccuracy\u001b[0m |       |  \u001b[1m\u001b[31mCCE\u001b[0m  |                               \u001b[37mExperiment\u001b[0m                                |\n",
      "|       |  \u001b[37mDense\u001b[0m   |  \u001b[37mDense\u001b[0m   |  \u001b[1m\u001b[32m(0)\u001b[0m  |   \u001b[1m\u001b[32m(1)\u001b[0m    |  \u001b[1m\u001b[31m(0)\u001b[0m  |  \u001b[1m\u001b[31m(1)\u001b[0m  |                                                                         |\n",
      "+-------+----------+----------+-------+----------+-------+-------+-------------------------------------------------------------------------+\n",
      "|   \u001b[1m\u001b[37m0\u001b[0m   | \u001b[1m\u001b[37m1.00e-03\u001b[0m | \u001b[1m\u001b[37m1.00e-03\u001b[0m | \u001b[1m\u001b[32m0.246\u001b[0m |  \u001b[1m\u001b[32m0.216\u001b[0m   | \u001b[1m\u001b[31m2.238\u001b[0m | \u001b[1m\u001b[31m2.242\u001b[0m | \u001b[37m1630613044_Flatten_Dropout-02_Dense-64-relu_Dropout-05_Dense-10-softmax\u001b[0m |\n",
      "|  \u001b[1m\u001b[37m10\u001b[0m   | \u001b[1m\u001b[37m1.00e-03\u001b[0m | \u001b[1m\u001b[37m1.00e-03\u001b[0m | \u001b[1m\u001b[32m0.690\u001b[0m |  \u001b[1m\u001b[32m0.652\u001b[0m   | \u001b[1m\u001b[31m1.164\u001b[0m | \u001b[1m\u001b[31m1.264\u001b[0m | \u001b[37m1630613044_Flatten_Dropout-02_Dense-64-relu_Dropout-05_Dense-10-softmax\u001b[0m |\n",
      "|  \u001b[1m\u001b[37m20\u001b[0m   | \u001b[1m\u001b[37m1.00e-03\u001b[0m | \u001b[1m\u001b[37m1.00e-03\u001b[0m | \u001b[1m\u001b[32m0.800\u001b[0m |  \u001b[1m\u001b[32m0.728\u001b[0m   | \u001b[1m\u001b[31m0.737\u001b[0m | \u001b[1m\u001b[31m0.918\u001b[0m | \u001b[37m1630613044_Flatten_Dropout-02_Dense-64-relu_Dropout-05_Dense-10-softmax\u001b[0m |\n",
      "|  \u001b[1m\u001b[37m30\u001b[0m   | \u001b[1m\u001b[37m1.00e-03\u001b[0m | \u001b[1m\u001b[37m1.00e-03\u001b[0m | \u001b[1m\u001b[32m0.824\u001b[0m |  \u001b[1m\u001b[32m0.744\u001b[0m   | \u001b[1m\u001b[31m0.620\u001b[0m | \u001b[1m\u001b[31m0.838\u001b[0m | \u001b[37m1630613044_Flatten_Dropout-02_Dense-64-relu_Dropout-05_Dense-10-softmax\u001b[0m |\n",
      "|  \u001b[1m\u001b[37m40\u001b[0m   | \u001b[1m\u001b[37m1.00e-03\u001b[0m | \u001b[1m\u001b[37m1.00e-03\u001b[0m | \u001b[1m\u001b[32m0.866\u001b[0m |  \u001b[1m\u001b[32m0.812\u001b[0m   | \u001b[1m\u001b[31m0.492\u001b[0m | \u001b[1m\u001b[31m0.702\u001b[0m | \u001b[37m1630613044_Flatten_Dropout-02_Dense-64-relu_Dropout-05_Dense-10-softmax\u001b[0m |\n",
      "|  \u001b[1m\u001b[37m50\u001b[0m   | \u001b[1m\u001b[37m1.00e-03\u001b[0m | \u001b[1m\u001b[37m1.00e-03\u001b[0m | \u001b[1m\u001b[32m0.868\u001b[0m |  \u001b[1m\u001b[32m0.792\u001b[0m   | \u001b[1m\u001b[31m0.440\u001b[0m | \u001b[1m\u001b[31m0.734\u001b[0m | \u001b[37m1630613044_Flatten_Dropout-02_Dense-64-relu_Dropout-05_Dense-10-softmax\u001b[0m |\n",
      "|  \u001b[1m\u001b[37m60\u001b[0m   | \u001b[1m\u001b[37m1.00e-03\u001b[0m | \u001b[1m\u001b[37m1.00e-03\u001b[0m | \u001b[1m\u001b[32m0.864\u001b[0m |  \u001b[1m\u001b[32m0.804\u001b[0m   | \u001b[1m\u001b[31m0.418\u001b[0m | \u001b[1m\u001b[31m0.614\u001b[0m | \u001b[37m1630613044_Flatten_Dropout-02_Dense-64-relu_Dropout-05_Dense-10-softmax\u001b[0m |\n",
      "|  \u001b[1m\u001b[37m70\u001b[0m   | \u001b[1m\u001b[37m1.00e-03\u001b[0m | \u001b[1m\u001b[37m1.00e-03\u001b[0m | \u001b[1m\u001b[32m0.892\u001b[0m |  \u001b[1m\u001b[32m0.820\u001b[0m   | \u001b[1m\u001b[31m0.353\u001b[0m | \u001b[1m\u001b[31m0.636\u001b[0m | \u001b[37m1630613044_Flatten_Dropout-02_Dense-64-relu_Dropout-05_Dense-10-softmax\u001b[0m |\n",
      "|  \u001b[1m\u001b[37m80\u001b[0m   | \u001b[1m\u001b[37m1.00e-03\u001b[0m | \u001b[1m\u001b[37m1.00e-03\u001b[0m | \u001b[1m\u001b[32m0.932\u001b[0m |  \u001b[1m\u001b[32m0.820\u001b[0m   | \u001b[1m\u001b[31m0.285\u001b[0m | \u001b[1m\u001b[31m0.724\u001b[0m | \u001b[37m1630613044_Flatten_Dropout-02_Dense-64-relu_Dropout-05_Dense-10-softmax\u001b[0m |\n",
      "|  \u001b[1m\u001b[37m90\u001b[0m   | \u001b[1m\u001b[37m1.00e-03\u001b[0m | \u001b[1m\u001b[37m1.00e-03\u001b[0m | \u001b[1m\u001b[32m0.928\u001b[0m |  \u001b[1m\u001b[32m0.836\u001b[0m   | \u001b[1m\u001b[31m0.276\u001b[0m | \u001b[1m\u001b[31m0.628\u001b[0m | \u001b[37m1630613044_Flatten_Dropout-02_Dense-64-relu_Dropout-05_Dense-10-softmax\u001b[0m |\n",
      "|  \u001b[1m\u001b[37m99\u001b[0m   | \u001b[1m\u001b[37m1.00e-03\u001b[0m | \u001b[1m\u001b[37m1.00e-03\u001b[0m | \u001b[1m\u001b[32m0.946\u001b[0m |  \u001b[1m\u001b[32m0.832\u001b[0m   | \u001b[1m\u001b[31m0.227\u001b[0m | \u001b[1m\u001b[31m0.637\u001b[0m | \u001b[37m1630613044_Flatten_Dropout-02_Dense-64-relu_Dropout-05_Dense-10-softmax\u001b[0m |\n",
      "+-------+----------+----------+-------+----------+-------+-------+-------------------------------------------------------------------------+\n"
     ]
    }
   ],
   "source": [
    "model.train(epochs=100, init_logs=False)"
   ]
  },
  {
   "cell_type": "markdown",
   "metadata": {},
   "source": [
    "-"
   ]
  },
  {
   "cell_type": "code",
   "execution_count": 8,
   "metadata": {
    "tags": []
   },
   "outputs": [
    {
     "data": {
      "image/png": "[encoded data removed]",
      "text/plain": [
       "<Figure size 432x288 with 1 Axes>"
      ]
     },
     "metadata": {
      "needs_background": "light"
     },
     "output_type": "display_data"
    }
   ],
   "source": [
    "model.plot(path=False)"
   ]
  },
  {
   "cell_type": "markdown",
   "metadata": {},
   "source": [
    "_"
   ]
  },
  {
   "cell_type": "markdown",
   "metadata": {},
   "source": [
    "## Convolutional Neural Network (CNN) \\[FLAG\\]"
   ]
  },
  {
   "cell_type": "markdown",
   "metadata": {},
   "source": [
    "_"
   ]
  },
  {
   "cell_type": "markdown",
   "metadata": {},
   "source": [
    "### Embedding"
   ]
  },
  {
   "cell_type": "markdown",
   "metadata": {},
   "source": [
    "_"
   ]
  },
  {
   "cell_type": "code",
   "execution_count": 9,
   "metadata": {},
   "outputs": [],
   "source": [
    "embedding = Embedding(X_data=X_features,\n",
    "                      Y_data=Y_label,\n",
    "                      X_scale=True,\n",
    "                      Y_encode=True,\n",
    "                      batch_size=32,\n",
    "                      relative_size=(2, 1, 0))"
   ]
  },
  {
   "cell_type": "markdown",
   "metadata": {},
   "source": [
    "_"
   ]
  },
  {
   "cell_type": "markdown",
   "metadata": {},
   "source": [
    "### Conv-MaxPool-Flatten-Dense"
   ]
  },
  {
   "cell_type": "markdown",
   "metadata": {},
   "source": [
    "_"
   ]
  },
  {
   "cell_type": "code",
   "execution_count": 10,
   "metadata": {
    "tags": []
   },
   "outputs": [],
   "source": [
    "name = 'Convolution-32-2_Pooling-3-3-Max_Flatten_Dense-10-softmax'\n",
    "\n",
    "se_hPars['learning_rate'] = 0.005\n",
    "se_hPars['softmax_temperature'] = 5\n",
    "\n",
    "convolution = Convolution(unit_filters=6, filter_size=(4, 4), activate=relu)\n",
    "\n",
    "pooling = Pooling(pool_size=(2, 2))\n",
    "\n",
    "flatten = Flatten()\n",
    "\n",
    "dense = Dense(10, softmax)\n",
    "\n",
    "layers = [embedding, convolution, pooling, flatten, dense]\n",
    "\n",
    "model = EpyNN(layers=layers, name=name)"
   ]
  },
  {
   "cell_type": "markdown",
   "metadata": {
    "tags": []
   },
   "source": [
    "_"
   ]
  },
  {
   "cell_type": "code",
   "execution_count": 11,
   "metadata": {
    "tags": []
   },
   "outputs": [
    {
     "name": "stdout",
     "output_type": "stream",
     "text": [
      "\u001b[1m--- EpyNN Check OK! --- \u001b[0mdding\u001b[0m0m\u001b[0m\r"
     ]
    }
   ],
   "source": [
    "model.initialize(loss='CCE', seed=1, se_hPars=se_hPars.copy(), end='\\r')"
   ]
  },
  {
   "cell_type": "markdown",
   "metadata": {},
   "source": [
    "_"
   ]
  },
  {
   "cell_type": "code",
   "execution_count": 12,
   "metadata": {},
   "outputs": [
    {
     "name": "stdout",
     "output_type": "stream",
     "text": [
      "\u001b[1m\u001b[37mEpoch 99 - Batch 14/14 - Accuracy: 0.938 Cost: 0.14565 - TIME: 83.93s RATE: 1.81e+04e/s TTC: 0s\u001b[0m\n",
      "\n",
      "+-------+-------------+----------+-------+----------+-------+-------+----------------------------------------------------------------------+\n",
      "| \u001b[1m\u001b[37mepoch\u001b[0m |    \u001b[1m\u001b[37mlrate\u001b[0m    |  \u001b[1m\u001b[37mlrate\u001b[0m   |       | \u001b[1m\u001b[32maccuracy\u001b[0m |       |  \u001b[1m\u001b[31mCCE\u001b[0m  |                              \u001b[37mExperiment\u001b[0m                              |\n",
      "|       | \u001b[37mConvolution\u001b[0m |  \u001b[37mDense\u001b[0m   |  \u001b[1m\u001b[32m(0)\u001b[0m  |   \u001b[1m\u001b[32m(1)\u001b[0m    |  \u001b[1m\u001b[31m(0)\u001b[0m  |  \u001b[1m\u001b[31m(1)\u001b[0m  |                                                                      |\n",
      "+-------+-------------+----------+-------+----------+-------+-------+----------------------------------------------------------------------+\n",
      "|   \u001b[1m\u001b[37m0\u001b[0m   |  \u001b[1m\u001b[37m5.00e-03\u001b[0m   | \u001b[1m\u001b[37m5.00e-03\u001b[0m | \u001b[1m\u001b[32m0.162\u001b[0m |  \u001b[1m\u001b[32m0.128\u001b[0m   | \u001b[1m\u001b[31m2.207\u001b[0m | \u001b[1m\u001b[31m2.266\u001b[0m | \u001b[37m1630613120_Convolution-32-2_Pooling-3-3-Max_Flatten_Dense-10-softmax\u001b[0m |\n",
      "|  \u001b[1m\u001b[37m10\u001b[0m   |  \u001b[1m\u001b[37m5.00e-03\u001b[0m   | \u001b[1m\u001b[37m5.00e-03\u001b[0m | \u001b[1m\u001b[32m0.740\u001b[0m |  \u001b[1m\u001b[32m0.656\u001b[0m   | \u001b[1m\u001b[31m0.811\u001b[0m | \u001b[1m\u001b[31m1.050\u001b[0m | \u001b[37m1630613120_Convolution-32-2_Pooling-3-3-Max_Flatten_Dense-10-softmax\u001b[0m |\n",
      "|  \u001b[1m\u001b[37m20\u001b[0m   |  \u001b[1m\u001b[37m5.00e-03\u001b[0m   | \u001b[1m\u001b[37m5.00e-03\u001b[0m | \u001b[1m\u001b[32m0.850\u001b[0m |  \u001b[1m\u001b[32m0.700\u001b[0m   | \u001b[1m\u001b[31m0.496\u001b[0m | \u001b[1m\u001b[31m0.899\u001b[0m | \u001b[37m1630613120_Convolution-32-2_Pooling-3-3-Max_Flatten_Dense-10-softmax\u001b[0m |\n",
      "|  \u001b[1m\u001b[37m30\u001b[0m   |  \u001b[1m\u001b[37m5.00e-03\u001b[0m   | \u001b[1m\u001b[37m5.00e-03\u001b[0m | \u001b[1m\u001b[32m0.882\u001b[0m |  \u001b[1m\u001b[32m0.720\u001b[0m   | \u001b[1m\u001b[31m0.391\u001b[0m | \u001b[1m\u001b[31m0.939\u001b[0m | \u001b[37m1630613120_Convolution-32-2_Pooling-3-3-Max_Flatten_Dense-10-softmax\u001b[0m |\n",
      "|  \u001b[1m\u001b[37m40\u001b[0m   |  \u001b[1m\u001b[37m5.00e-03\u001b[0m   | \u001b[1m\u001b[37m5.00e-03\u001b[0m | \u001b[1m\u001b[32m0.926\u001b[0m |  \u001b[1m\u001b[32m0.744\u001b[0m   | \u001b[1m\u001b[31m0.276\u001b[0m | \u001b[1m\u001b[31m0.912\u001b[0m | \u001b[37m1630613120_Convolution-32-2_Pooling-3-3-Max_Flatten_Dense-10-softmax\u001b[0m |\n",
      "|  \u001b[1m\u001b[37m50\u001b[0m   |  \u001b[1m\u001b[37m5.00e-03\u001b[0m   | \u001b[1m\u001b[37m5.00e-03\u001b[0m | \u001b[1m\u001b[32m0.932\u001b[0m |  \u001b[1m\u001b[32m0.720\u001b[0m   | \u001b[1m\u001b[31m0.233\u001b[0m | \u001b[1m\u001b[31m1.020\u001b[0m | \u001b[37m1630613120_Convolution-32-2_Pooling-3-3-Max_Flatten_Dense-10-softmax\u001b[0m |\n",
      "|  \u001b[1m\u001b[37m60\u001b[0m   |  \u001b[1m\u001b[37m5.00e-03\u001b[0m   | \u001b[1m\u001b[37m5.00e-03\u001b[0m | \u001b[1m\u001b[32m0.958\u001b[0m |  \u001b[1m\u001b[32m0.724\u001b[0m   | \u001b[1m\u001b[31m0.175\u001b[0m | \u001b[1m\u001b[31m1.062\u001b[0m | \u001b[37m1630613120_Convolution-32-2_Pooling-3-3-Max_Flatten_Dense-10-softmax\u001b[0m |\n",
      "|  \u001b[1m\u001b[37m70\u001b[0m   |  \u001b[1m\u001b[37m5.00e-03\u001b[0m   | \u001b[1m\u001b[37m5.00e-03\u001b[0m | \u001b[1m\u001b[32m0.960\u001b[0m |  \u001b[1m\u001b[32m0.716\u001b[0m   | \u001b[1m\u001b[31m0.163\u001b[0m | \u001b[1m\u001b[31m1.186\u001b[0m | \u001b[37m1630613120_Convolution-32-2_Pooling-3-3-Max_Flatten_Dense-10-softmax\u001b[0m |\n",
      "|  \u001b[1m\u001b[37m80\u001b[0m   |  \u001b[1m\u001b[37m5.00e-03\u001b[0m   | \u001b[1m\u001b[37m5.00e-03\u001b[0m | \u001b[1m\u001b[32m0.972\u001b[0m |  \u001b[1m\u001b[32m0.732\u001b[0m   | \u001b[1m\u001b[31m0.137\u001b[0m | \u001b[1m\u001b[31m1.236\u001b[0m | \u001b[37m1630613120_Convolution-32-2_Pooling-3-3-Max_Flatten_Dense-10-softmax\u001b[0m |\n",
      "|  \u001b[1m\u001b[37m90\u001b[0m   |  \u001b[1m\u001b[37m5.00e-03\u001b[0m   | \u001b[1m\u001b[37m5.00e-03\u001b[0m | \u001b[1m\u001b[32m0.982\u001b[0m |  \u001b[1m\u001b[32m0.744\u001b[0m   | \u001b[1m\u001b[31m0.104\u001b[0m | \u001b[1m\u001b[31m1.281\u001b[0m | \u001b[37m1630613120_Convolution-32-2_Pooling-3-3-Max_Flatten_Dense-10-softmax\u001b[0m |\n",
      "|  \u001b[1m\u001b[37m99\u001b[0m   |  \u001b[1m\u001b[37m5.00e-03\u001b[0m   | \u001b[1m\u001b[37m5.00e-03\u001b[0m | \u001b[1m\u001b[32m0.980\u001b[0m |  \u001b[1m\u001b[32m0.716\u001b[0m   | \u001b[1m\u001b[31m0.095\u001b[0m | \u001b[1m\u001b[31m1.375\u001b[0m | \u001b[37m1630613120_Convolution-32-2_Pooling-3-3-Max_Flatten_Dense-10-softmax\u001b[0m |\n",
      "+-------+-------------+----------+-------+----------+-------+-------+----------------------------------------------------------------------+\n"
     ]
    }
   ],
   "source": [
    "model.train(epochs=100, init_logs=False)"
   ]
  },
  {
   "cell_type": "markdown",
   "metadata": {},
   "source": [
    "_"
   ]
  },
  {
   "cell_type": "code",
   "execution_count": 13,
   "metadata": {
    "tags": []
   },
   "outputs": [
    {
     "data": {
      "image/png": "[encoded data removed]",
      "text/plain": [
       "<Figure size 432x288 with 1 Axes>"
      ]
     },
     "metadata": {
      "needs_background": "light"
     },
     "output_type": "display_data"
    }
   ],
   "source": [
    "model.plot(path=False)"
   ]
  },
  {
   "cell_type": "code",
   "execution_count": null,
   "metadata": {},
   "outputs": [],
   "source": []
  },
  {
   "cell_type": "markdown",
   "metadata": {},
   "source": [
    "## Write, Read & Predict"
   ]
  },
  {
   "cell_type": "code",
   "execution_count": 14,
   "metadata": {},
   "outputs": [
    {
     "name": "stdout",
     "output_type": "stream",
     "text": [
      "\u001b[1m\u001b[32mMake: /media/synthase/beta/EpyNN/nnlive/captcha_mnist/models/1630613120_Convolution-32-2_Pooling-3-3-Max_Flatten_Dense-10-softmax.pickle\u001b[0m\n",
      "0 7 [1.68885780e-05 2.78628769e-08 3.67400064e-04 1.73371497e-02\n",
      " 9.33048667e-03 4.36209051e-07 2.98900368e-08 9.72705313e-01\n",
      " 1.26449878e-04 1.15818166e-04]\n",
      "1 1 [1.96842839e-08 9.95185373e-01 2.03800876e-07 1.19117418e-05\n",
      " 3.74476023e-05 6.45419400e-05 4.67089016e-03 2.49798276e-08\n",
      " 2.95122739e-05 7.48267788e-08]\n",
      "2 3 [5.24849188e-05 6.05699313e-12 1.14249602e-05 9.99891442e-01\n",
      " 6.88919800e-10 4.09859415e-05 1.52388638e-12 4.50039203e-08\n",
      " 3.61175592e-06 5.13971462e-09]\n",
      "3 5 [3.82547010e-03 4.05521907e-05 1.25248386e-03 8.08209103e-08\n",
      " 1.80304324e-08 9.90999763e-01 7.76280469e-07 1.18526551e-09\n",
      " 3.88064106e-03 2.13559425e-07]\n",
      "4 1 [2.97643399e-08 9.99521686e-01 3.28159957e-04 3.23885675e-10\n",
      " 5.44101287e-05 3.24638714e-11 1.33098542e-06 5.90535328e-06\n",
      " 8.84355836e-05 4.21748344e-08]\n",
      "5 4 [9.36139835e-09 1.41078863e-08 1.22709503e-11 3.20251481e-14\n",
      " 9.99998904e-01 6.62095257e-07 1.48270899e-07 6.45680805e-09\n",
      " 2.22681123e-07 3.28867388e-08]\n",
      "6 2 [2.14060331e-02 3.14214250e-09 9.61890869e-01 1.49056726e-02\n",
      " 1.50123453e-04 1.60181101e-03 4.07355749e-05 2.72898249e-08\n",
      " 4.71164045e-06 1.27404972e-08]\n",
      "7 0 [9.87358596e-01 1.23823011e-07 1.93941449e-04 9.48617202e-09\n",
      " 1.04517827e-05 3.34574262e-03 6.42834323e-04 2.05284340e-08\n",
      " 8.44826324e-03 1.65175662e-08]\n",
      "8 1 [1.73122042e-07 9.97510002e-01 1.62028189e-05 1.55495244e-06\n",
      " 6.90275493e-05 2.13666134e-05 2.33457630e-03 1.69681416e-06\n",
      " 4.22279822e-05 3.17143830e-06]\n",
      "9 4 [2.17714383e-11 6.15039074e-12 4.58038122e-10 2.29685542e-10\n",
      " 6.45241832e-01 3.88968282e-13 8.36567443e-11 5.20951651e-04\n",
      " 9.30993738e-07 3.54236284e-01]\n"
     ]
    }
   ],
   "source": [
    "### Write/read model\n",
    "\n",
    "model.write()\n",
    "\n",
    "model = read_model()\n",
    "\n",
    "\n",
    "### Predict\n",
    "\n",
    "X_features, _ = prepare_dataset(N_SAMPLES=10)\n",
    "\n",
    "dset = model.predict(X_features, X_scale=True)\n",
    "\n",
    "for n, pred, probs in zip(dset.ids, dset.P, dset.A):\n",
    "    print(n, pred, probs)"
   ]
  }
 ],
 "metadata": {
  "kernelspec": {
   "display_name": "Python 3",
   "language": "python",
   "name": "python3"
  },
  "language_info": {
   "codemirror_mode": {
    "name": "ipython",
    "version": 3
   },
   "file_extension": ".py",
   "mimetype": "text/x-python",
   "name": "python",
   "nbconvert_exporter": "python",
   "pygments_lexer": "ipython3",
   "version": "3.7.3"
  }
 },
 "nbformat": 4,
 "nbformat_minor": 4
}
