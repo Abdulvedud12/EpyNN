{
 "cells": [
  {
   "cell_type": "markdown",
   "metadata": {},
   "source": [
    "# Multiclass Classification"
   ]
  },
  {
   "cell_type": "markdown",
   "metadata": {},
   "source": [
    "* Find this notebook at `EpyNN/nnlive/captcha_mnist/train.ipynb`.\n",
    "* Regular python code at `EpyNN/nnlive/captcha_mnist/train.py`."
   ]
  },
  {
   "cell_type": "markdown",
   "metadata": {},
   "source": [
    "In this notebook we will review:\n",
    "\n",
    "* Handling numerical data image to proceed with Neural Network regression.\n",
    "* Training of Feed-Forward (FF) and Convolutional Neural Network (CNN) for multiclass classification task.\n",
    "* MNIST database as a benchmark for neural networks.\n",
    "\n",
    "**It is assumed that all *basics* notebooks were already reviewed:**\n",
    "\n",
    "* [Basics with Perceptron (P)](../dummy_boolean/train.ipynb)\n",
    "* [Basics with string sequence](../dummy_string/train.ipynb)\n",
    "* [Basics with numerical time-series](../dummy_time/train.ipynb)\n",
    "* [Basics with images](../dummy_image/train.ipynb)"
   ]
  },
  {
   "cell_type": "markdown",
   "metadata": {},
   "source": [
    "**<font color='red'>This notebook does not enhance, extend or replace EpyNN's documentation.</font>**\n",
    "\n",
    "**Relevant documentation pages for the current notebook:**\n",
    "\n",
    "* [Fully Connected (Dense)](../../Dense.html)\n",
    "* [Convolution (CNN)](../../Convolution.html)\n",
    "* [Pooling (CNN)](../../Pooling.html)"
   ]
  },
  {
   "cell_type": "markdown",
   "metadata": {},
   "source": [
    " Please follow this [external link](http://yann.lecun.com/exdb/mnist/) for detailed contextual information about the MNIST database."
   ]
  },
  {
   "cell_type": "markdown",
   "metadata": {},
   "source": [
    "## Environment and data"
   ]
  },
  {
   "cell_type": "markdown",
   "metadata": {},
   "source": [
    "Follow [this link](prepare_dataset.ipynb) for details about data preparation."
   ]
  },
  {
   "cell_type": "markdown",
   "metadata": {},
   "source": [
    "Briefly, the MNIST database contains 70 000 images (60K + 10k).\n",
    "\n",
    "Each image contains a single handwritten digit. In total, 500 different human writters contributed to the whole.\n",
    "\n",
    "The MNIST database is curated in that images were size normalized and centered."
   ]
  },
  {
   "cell_type": "code",
   "execution_count": 1,
   "metadata": {},
   "outputs": [],
   "source": [
    "# EpyNN/nnlive/captcha_mnist/train.ipynb\n",
    "# Standard library imports\n",
    "import random\n",
    "\n",
    "# Related third party imports\n",
    "import matplotlib.pyplot as plt\n",
    "import numpy as np\n",
    "\n",
    "# Local application/library specific imports\n",
    "import nnlibs.initialize\n",
    "from nnlibs.commons.maths import relu, softmax\n",
    "from nnlibs.commons.library import (\n",
    "    configure_directory,\n",
    "    read_model,\n",
    ")\n",
    "from nnlibs.network.models import EpyNN\n",
    "from nnlibs.embedding.models import Embedding\n",
    "from nnlibs.convolution.models import Convolution\n",
    "from nnlibs.pooling.models import Pooling\n",
    "from nnlibs.flatten.models import Flatten\n",
    "from nnlibs.dropout.models import Dropout\n",
    "from nnlibs.dense.models import Dense\n",
    "from prepare_dataset import (\n",
    "    prepare_dataset,\n",
    "    download_mnist,\n",
    ")\n",
    "from settings import se_hPars\n",
    "\n",
    "\n",
    "########################## CONFIGURE ##########################\n",
    "random.seed(1)\n",
    "np.random.seed(1)\n",
    "\n",
    "np.set_printoptions(threshold=10)\n",
    "\n",
    "np.seterr(all='warn')\n",
    "\n",
    "configure_directory()\n",
    "\n",
    "\n",
    "############################ DATASET ##########################\n",
    "download_mnist()\n",
    "\n",
    "X_features, Y_label = prepare_dataset(N_SAMPLES=750)"
   ]
  },
  {
   "cell_type": "markdown",
   "metadata": {},
   "source": [
    "Let's control what we retrieved."
   ]
  },
  {
   "cell_type": "code",
   "execution_count": 2,
   "metadata": {},
   "outputs": [
    {
     "name": "stdout",
     "output_type": "stream",
     "text": [
      "750\n",
      "(28, 28, 1)\n",
      "{0.0, 3.0, 6.0, 11.0, 12.0, 13.0, 15.0, 17.0, 18.0, 19.0, 20.0, 21.0, 22.0, 27.0, 28.0, 32.0, 39.0, 40.0, 42.0, 43.0, 44.0, 45.0, 46.0, 48.0, 55.0, 67.0, 82.0, 86.0, 87.0, 90.0, 91.0, 94.0, 97.0, 100.0, 101.0, 104.0, 107.0, 110.0, 112.0, 115.0, 116.0, 125.0, 127.0, 129.0, 143.0, 147.0, 150.0, 151.0, 155.0, 158.0, 162.0, 163.0, 166.0, 167.0, 169.0, 170.0, 172.0, 181.0, 183.0, 184.0, 186.0, 189.0, 202.0, 205.0, 206.0, 210.0, 211.0, 214.0, 215.0, 219.0, 220.0, 221.0, 223.0, 225.0, 227.0, 228.0, 230.0, 233.0, 234.0, 237.0, 238.0, 239.0, 240.0, 241.0, 242.0, 243.0, 247.0, 250.0, 252.0, 253.0, 255.0}\n"
     ]
    }
   ],
   "source": [
    "print(len(X_features))\n",
    "print(X_features[0].shape)\n",
    "print(set(X_features[0].flatten().tolist()))    # Get all unique tones in image"
   ]
  },
  {
   "cell_type": "markdown",
   "metadata": {},
   "source": [
    "We retrieved sample features describing ``7500`` samples.\n",
    "\n",
    "For each sample, we retrieved  features as a three-dimensional array of shape ``(widht, height, depth)``. Each image has dimension 28x28 and so contains 784 pixels.\n",
    "\n",
    "In the context, remember that the ``depth`` dimension represents the number of channels which encode the image. While the depth of any RGB image would be equal to 3, the depth of a grayscale image is equal to one. We namely have a regular grayscale image in that shades of gray range from 0 to 255. \n",
    "\n",
    "Let's recall how this looks like."
   ]
  },
  {
   "cell_type": "code",
   "execution_count": 3,
   "metadata": {},
   "outputs": [
    {
     "data": {
      "image/png": "[encoded data removed]",
      "text/plain": [
       "<Figure size 432x288 with 4 Axes>"
      ]
     },
     "metadata": {
      "needs_background": "light"
     },
     "output_type": "display_data"
    }
   ],
   "source": [
    "fig, ((ax0, ax1), (ax2, ax3)) = plt.subplots(2, 2)\n",
    "\n",
    "ax0.imshow(X_features[Y_label.index(0)], cmap='gray')\n",
    "ax0.set_title('label: 0')\n",
    "\n",
    "ax1.imshow(X_features[Y_label.index(1)], cmap='gray')\n",
    "ax1.set_title('label: 1')\n",
    "\n",
    "ax2.imshow(X_features[Y_label.index(2)], cmap='gray')\n",
    "ax2.set_title('label: 2')\n",
    "\n",
    "ax3.imshow(X_features[Y_label.index(3)], cmap='gray')\n",
    "ax3.set_title('label: 3')\n",
    "\n",
    "plt.tight_layout()\n",
    "plt.show()"
   ]
  },
  {
   "cell_type": "markdown",
   "metadata": {},
   "source": [
    "According to [comments from the authors](http://yann.lecun.com/exdb/mnist/) of the MNIST database: *\"The original black and white (bilevel) images from NIST were size normalized \\[...\\]. The resulting images contain grey levels as a result of the anti-aliasing technique used by the normalization algorithm\"*."
   ]
  },
  {
   "cell_type": "markdown",
   "metadata": {},
   "source": [
    "## Feed-Forward (FF)"
   ]
  },
  {
   "cell_type": "markdown",
   "metadata": {},
   "source": [
    "As explained in other exemples of network training, we like to begin by a Feed-Forward network each time we start to investigate a new problem. This because:\n",
    "\n",
    "* Feed-Forward (Dense-based) network are computationally faster to train than other architectures.\n",
    "* Such network may be less sensitive to training hyperparameters and thus they are easier to train.\n",
    "* There is no reasonable day/night results depending on the architecture: one Feed-Forward - even if inappropriate - architecture may result in metrics that will not be made twice better by using an appropriate architecture. This mostly depends on hyperparameters and data processing."
   ]
  },
  {
   "cell_type": "markdown",
   "metadata": {},
   "source": [
    "About this last item, one may look at the above-linked page which reports on classifier error rate with respect to method or architecture.\n",
    "\n",
    "As a condensate:\n",
    "\n",
    "* Single-layer FF (Perceptron) - 12.0% error.\n",
    "* Single-layer FF (Perceptron) - 7.6% error with deskewing.\n",
    "* Two-layers FF with 800 hidden nodes - 1.6% error.\n",
    "* Committee of 35 Convolutional Neural Networks (CNN) - 0.23% error (best of all reported).\n",
    "\n",
    "First, we can see that from the very basic perceptron to the most evolved CNN there is an improvement from 88% to 99.77% accuracy. This is a huge gap, but both architecture succeed at recognizing patterns and drawing a decent model. \n",
    "\n",
    "Note the gap is significantly reduced by simply applying *deskewing* to the image data, which highlights the critical importance of data pre-processing in the ability of the network to result in an accurate model.\n",
    "\n",
    "Also note that perceptron are only able of linear regression while multi-layers Feed-Forward or CNN and other architectures can achieve non-linear regressions.\n",
    "\n",
    "When considering the two-layers FF with 800 hidden nodes versus the state-of-the-art CNN, the accuracy goes from 98.4% to 99.77%. Overall, this illustrates that classical Feed-Forward networks may be a good alternative to more appropriate architecture when balancing between accuracy, hardness of training and need for more computational time."
   ]
  },
  {
   "cell_type": "markdown",
   "metadata": {},
   "source": [
    "### Embedding"
   ]
  },
  {
   "cell_type": "markdown",
   "metadata": {},
   "source": [
    "We start from sample features containing values ranging from 0 to 255.\n",
    "\n",
    "The most important things is to **normalize** sample features withing \\[0, 1\\].\n",
    "\n",
    "The second thing is to set a batch size which, in this case, will makes the regression converging faster.\n",
    "\n",
    "The last - but not least - thing is to one-hot encode the set of sample label. While one may not do this with binary classification problems and thus use a single node in the output dense layer - from which 0 or 1 decisions can be extracted -, the same can not reasonably be done with multiclass classification. Because we have ten distinct labels in the game, the reasonable choice is to use 10 output nodes and to one-hot encode the set of sample label."
   ]
  },
  {
   "cell_type": "code",
   "execution_count": 4,
   "metadata": {},
   "outputs": [],
   "source": [
    "embedding = Embedding(X_data=X_features,\n",
    "                      Y_data=Y_label,\n",
    "                      X_scale=True,\n",
    "                      Y_encode=True,\n",
    "                      batch_size=32,\n",
    "                      relative_size=(2, 1, 0))"
   ]
  },
  {
   "cell_type": "markdown",
   "metadata": {},
   "source": [
    "About data normalization:\n",
    "\n",
    "* It diminishes the complexity of the problem.\n",
    "* It accelerates training and makes it easier.\n",
    "* If no normalization is done in this example, the loss function and gradients will both readily explode and generate floatting points errors."
   ]
  },
  {
   "cell_type": "markdown",
   "metadata": {},
   "source": [
    "About this last point, remember that exponentials are used in the context of neural networks. If you begin feeding exponential functions with large numbers such as 255, you can be sure you will get floatting points errors pretty quickly: the computer typically deals with 64-bits float number, which has maximal value of ``1.8 * 10 ** 308``. \n",
    "\n",
    "Note that in previously used 32-bits processors architecture, this maximal value was down to ``3.4 * 10 ** 38``. Compare with ``exp(255)`` which outputs ``5.56 * 10 ** 110`` and conclude that un-normalized data in the context of this notebook would have overflowed straight away on a - not that ancient - 32-bits system. Actually, if you attempt to run this notebook on a [Raspberry Pi](https://www.raspberrypi.org/) - why not? - you would overflow without normalization because the device relies on 32-bits CPUs.  "
   ]
  },
  {
   "cell_type": "markdown",
   "metadata": {},
   "source": [
    "### Flatten-(Dense)n with Dropout"
   ]
  },
  {
   "cell_type": "markdown",
   "metadata": {},
   "source": [
    "We already explained why we need to use a *flatten* layer when willing to forward arrays of more than 2 dimensions to the *dense* layer: image data have three dimensions, and the array of sample features - the array of sample image - has four dimensions. Therefore we need to flatten this array to give it a bi-dimensional shape."
   ]
  },
  {
   "cell_type": "code",
   "execution_count": 5,
   "metadata": {
    "tags": []
   },
   "outputs": [],
   "source": [
    "name = 'Flatten_Dropout02_Dense-64-relu_Dropout05_Dense-10-softmax'\n",
    "\n",
    "se_hPars['learning_rate'] = 0.001\n",
    "se_hPars['softmax_temperature'] = 5\n",
    "\n",
    "flatten = Flatten()\n",
    "\n",
    "dropout1 = Dropout(drop_prob=0.2)\n",
    "\n",
    "hidden_dense = Dense(64, relu)\n",
    "\n",
    "dropout2 = Dropout(drop_prob=0.5)\n",
    "\n",
    "dense = Dense(10, softmax)\n",
    "\n",
    "layers = [embedding, flatten, dropout1, hidden_dense, dropout2, dense]\n",
    "\n",
    "model = EpyNN(layers=layers, name=name)"
   ]
  },
  {
   "cell_type": "markdown",
   "metadata": {
    "tags": []
   },
   "source": [
    "We have set up a custom learning rate, along with the 10 nodes in the output layers because we have labels one-hot encoded over 10 digit and again because we have ten distinct labels.\n",
    "\n",
    "Dropout layers were set to reduce overfitting and the *softmax temperature* was set higher than one to smooth the output probability distribution which practically results in more numerically stable training."
   ]
  },
  {
   "cell_type": "code",
   "execution_count": 6,
   "metadata": {
    "tags": []
   },
   "outputs": [
    {
     "name": "stdout",
     "output_type": "stream",
     "text": [
      "\u001b[1m--- EpyNN Check OK! ---                                                                             \u001b[0m\r"
     ]
    }
   ],
   "source": [
    "model.initialize(loss='CCE', seed=1, se_hPars=se_hPars.copy(), end='\\r')"
   ]
  },
  {
   "cell_type": "markdown",
   "metadata": {},
   "source": [
    "We have set the loss function to use *Categorical Cross Entropy* instead of *Binary Cross Entropy*. This because we have ten distinct labels instead of two."
   ]
  },
  {
   "cell_type": "code",
   "execution_count": 7,
   "metadata": {},
   "outputs": [
    {
     "name": "stdout",
     "output_type": "stream",
     "text": [
      "\u001b[1m\u001b[37mEpoch 99 - Batch 14/14 - Accuracy: 0.875 Cost: 0.34122 - TIME: 16.74s RATE: 1.49e+03e/s TTC: 0s     \u001b[0m\n",
      "\n",
      "+-------+----------+----------+-------+----------+-------+-------+-----------------------------------------------------------------------+\n",
      "| \u001b[1m\u001b[37mepoch\u001b[0m |  \u001b[1m\u001b[37mlrate\u001b[0m   |  \u001b[1m\u001b[37mlrate\u001b[0m   |       | \u001b[1m\u001b[32maccuracy\u001b[0m |       |  \u001b[1m\u001b[31mCCE\u001b[0m  |                              \u001b[37mExperiment\u001b[0m                               |\n",
      "|       |  \u001b[37mDense\u001b[0m   |  \u001b[37mDense\u001b[0m   |  \u001b[1m\u001b[32m(0)\u001b[0m  |   \u001b[1m\u001b[32m(1)\u001b[0m    |  \u001b[1m\u001b[31m(0)\u001b[0m  |  \u001b[1m\u001b[31m(1)\u001b[0m  |                                                                       |\n",
      "+-------+----------+----------+-------+----------+-------+-------+-----------------------------------------------------------------------+\n",
      "|   \u001b[1m\u001b[37m0\u001b[0m   | \u001b[1m\u001b[37m1.00e-03\u001b[0m | \u001b[1m\u001b[37m1.00e-03\u001b[0m | \u001b[1m\u001b[32m0.252\u001b[0m |  \u001b[1m\u001b[32m0.228\u001b[0m   | \u001b[1m\u001b[31m2.118\u001b[0m | \u001b[1m\u001b[31m2.143\u001b[0m | \u001b[37m1631326462_Flatten_Dropout02_Dense-64-relu_Dropout05_Dense-10-softmax\u001b[0m |\n",
      "|  \u001b[1m\u001b[37m10\u001b[0m   | \u001b[1m\u001b[37m1.00e-03\u001b[0m | \u001b[1m\u001b[37m1.00e-03\u001b[0m | \u001b[1m\u001b[32m0.720\u001b[0m |  \u001b[1m\u001b[32m0.684\u001b[0m   | \u001b[1m\u001b[31m0.913\u001b[0m | \u001b[1m\u001b[31m1.055\u001b[0m | \u001b[37m1631326462_Flatten_Dropout02_Dense-64-relu_Dropout05_Dense-10-softmax\u001b[0m |\n",
      "|  \u001b[1m\u001b[37m20\u001b[0m   | \u001b[1m\u001b[37m1.00e-03\u001b[0m | \u001b[1m\u001b[37m1.00e-03\u001b[0m | \u001b[1m\u001b[32m0.812\u001b[0m |  \u001b[1m\u001b[32m0.748\u001b[0m   | \u001b[1m\u001b[31m0.640\u001b[0m | \u001b[1m\u001b[31m0.871\u001b[0m | \u001b[37m1631326462_Flatten_Dropout02_Dense-64-relu_Dropout05_Dense-10-softmax\u001b[0m |\n",
      "|  \u001b[1m\u001b[37m30\u001b[0m   | \u001b[1m\u001b[37m1.00e-03\u001b[0m | \u001b[1m\u001b[37m1.00e-03\u001b[0m | \u001b[1m\u001b[32m0.830\u001b[0m |  \u001b[1m\u001b[32m0.752\u001b[0m   | \u001b[1m\u001b[31m0.552\u001b[0m | \u001b[1m\u001b[31m0.843\u001b[0m | \u001b[37m1631326462_Flatten_Dropout02_Dense-64-relu_Dropout05_Dense-10-softmax\u001b[0m |\n",
      "|  \u001b[1m\u001b[37m40\u001b[0m   | \u001b[1m\u001b[37m1.00e-03\u001b[0m | \u001b[1m\u001b[37m1.00e-03\u001b[0m | \u001b[1m\u001b[32m0.878\u001b[0m |  \u001b[1m\u001b[32m0.804\u001b[0m   | \u001b[1m\u001b[31m0.437\u001b[0m | \u001b[1m\u001b[31m0.705\u001b[0m | \u001b[37m1631326462_Flatten_Dropout02_Dense-64-relu_Dropout05_Dense-10-softmax\u001b[0m |\n",
      "|  \u001b[1m\u001b[37m50\u001b[0m   | \u001b[1m\u001b[37m1.00e-03\u001b[0m | \u001b[1m\u001b[37m1.00e-03\u001b[0m | \u001b[1m\u001b[32m0.876\u001b[0m |  \u001b[1m\u001b[32m0.784\u001b[0m   | \u001b[1m\u001b[31m0.417\u001b[0m | \u001b[1m\u001b[31m0.718\u001b[0m | \u001b[37m1631326462_Flatten_Dropout02_Dense-64-relu_Dropout05_Dense-10-softmax\u001b[0m |\n",
      "|  \u001b[1m\u001b[37m60\u001b[0m   | \u001b[1m\u001b[37m1.00e-03\u001b[0m | \u001b[1m\u001b[37m1.00e-03\u001b[0m | \u001b[1m\u001b[32m0.876\u001b[0m |  \u001b[1m\u001b[32m0.796\u001b[0m   | \u001b[1m\u001b[31m0.395\u001b[0m | \u001b[1m\u001b[31m0.647\u001b[0m | \u001b[37m1631326462_Flatten_Dropout02_Dense-64-relu_Dropout05_Dense-10-softmax\u001b[0m |\n",
      "|  \u001b[1m\u001b[37m70\u001b[0m   | \u001b[1m\u001b[37m1.00e-03\u001b[0m | \u001b[1m\u001b[37m1.00e-03\u001b[0m | \u001b[1m\u001b[32m0.910\u001b[0m |  \u001b[1m\u001b[32m0.796\u001b[0m   | \u001b[1m\u001b[31m0.324\u001b[0m | \u001b[1m\u001b[31m0.656\u001b[0m | \u001b[37m1631326462_Flatten_Dropout02_Dense-64-relu_Dropout05_Dense-10-softmax\u001b[0m |\n",
      "|  \u001b[1m\u001b[37m80\u001b[0m   | \u001b[1m\u001b[37m1.00e-03\u001b[0m | \u001b[1m\u001b[37m1.00e-03\u001b[0m | \u001b[1m\u001b[32m0.918\u001b[0m |  \u001b[1m\u001b[32m0.820\u001b[0m   | \u001b[1m\u001b[31m0.286\u001b[0m | \u001b[1m\u001b[31m0.733\u001b[0m | \u001b[37m1631326462_Flatten_Dropout02_Dense-64-relu_Dropout05_Dense-10-softmax\u001b[0m |\n",
      "|  \u001b[1m\u001b[37m90\u001b[0m   | \u001b[1m\u001b[37m1.00e-03\u001b[0m | \u001b[1m\u001b[37m1.00e-03\u001b[0m | \u001b[1m\u001b[32m0.918\u001b[0m |  \u001b[1m\u001b[32m0.836\u001b[0m   | \u001b[1m\u001b[31m0.264\u001b[0m | \u001b[1m\u001b[31m0.650\u001b[0m | \u001b[37m1631326462_Flatten_Dropout02_Dense-64-relu_Dropout05_Dense-10-softmax\u001b[0m |\n",
      "|  \u001b[1m\u001b[37m99\u001b[0m   | \u001b[1m\u001b[37m1.00e-03\u001b[0m | \u001b[1m\u001b[37m1.00e-03\u001b[0m | \u001b[1m\u001b[32m0.928\u001b[0m |  \u001b[1m\u001b[32m0.816\u001b[0m   | \u001b[1m\u001b[31m0.228\u001b[0m | \u001b[1m\u001b[31m0.656\u001b[0m | \u001b[37m1631326462_Flatten_Dropout02_Dense-64-relu_Dropout05_Dense-10-softmax\u001b[0m |\n",
      "+-------+----------+----------+-------+----------+-------+-------+-----------------------------------------------------------------------+\n"
     ]
    }
   ],
   "source": [
    "model.train(epochs=100, init_logs=False)"
   ]
  },
  {
   "cell_type": "markdown",
   "metadata": {},
   "source": [
    "Again the Feed-Forward network has been quite performant to reproduce the training data, less about the validation ones. Overfitting is a general problem in the field."
   ]
  },
  {
   "cell_type": "code",
   "execution_count": 8,
   "metadata": {
    "tags": []
   },
   "outputs": [
    {
     "data": {
      "image/png": "[encoded data removed]",
      "text/plain": [
       "<Figure size 432x288 with 1 Axes>"
      ]
     },
     "metadata": {
      "needs_background": "light"
     },
     "output_type": "display_data"
    }
   ],
   "source": [
    "model.plot(path=False)"
   ]
  },
  {
   "cell_type": "markdown",
   "metadata": {},
   "source": [
    "We will not try to optimize this Feed-Forward network to go ahead with Convolutional networks."
   ]
  },
  {
   "cell_type": "markdown",
   "metadata": {},
   "source": [
    "## Convolutional Neural Network (CNN)"
   ]
  },
  {
   "cell_type": "markdown",
   "metadata": {},
   "source": [
    "As detailed in [Basics with images](nnlive/dummy_image/train.html#Convolutional-Neural-Network-(CNN)), CNNs are preferred when it comes to consider *a priori* spatial relationships between data points."
   ]
  },
  {
   "cell_type": "markdown",
   "metadata": {},
   "source": [
    "### Embedding"
   ]
  },
  {
   "cell_type": "markdown",
   "metadata": {},
   "source": [
    "Using same embedding configuration than above."
   ]
  },
  {
   "cell_type": "code",
   "execution_count": 9,
   "metadata": {},
   "outputs": [],
   "source": [
    "embedding = Embedding(X_data=X_features,\n",
    "                      Y_data=Y_label,\n",
    "                      X_scale=True,\n",
    "                      Y_encode=True,\n",
    "                      batch_size=32,\n",
    "                      relative_size=(2, 1, 0))"
   ]
  },
  {
   "cell_type": "markdown",
   "metadata": {},
   "source": [
    "Note that we use only *500 + 250* sample images herein. Benchmarks using the MNIST Database generally employ the whole 60 000 images for the training set itself, but it is likely to overload the RAM or not run at all on many system configurations. "
   ]
  },
  {
   "cell_type": "markdown",
   "metadata": {},
   "source": [
    "### Conv-MaxPool-Flatten-Dense"
   ]
  },
  {
   "cell_type": "markdown",
   "metadata": {},
   "source": [
    "Using a single *Convolution-Pooling* block with ``16`` filters and *4x4* filter window for the *Convolution* layer."
   ]
  },
  {
   "cell_type": "code",
   "execution_count": 10,
   "metadata": {
    "tags": []
   },
   "outputs": [],
   "source": [
    "name = 'Convolution-16-2_Pooling-3-Max_Flatten_Dense-10-softmax'\n",
    "\n",
    "se_hPars['learning_rate'] = 0.005\n",
    "se_hPars['softmax_temperature'] = 5\n",
    "\n",
    "layers = [\n",
    "    embedding,\n",
    "    Convolution(unit_filters=16, filter_size=(2, 2), activate=relu),\n",
    "    Pooling(pool_size=(2, 2)),\n",
    "    Flatten(),\n",
    "    Dense(10, softmax)\n",
    "]\n",
    "\n",
    "model = EpyNN(layers=layers, name=name)"
   ]
  },
  {
   "cell_type": "markdown",
   "metadata": {
    "tags": []
   },
   "source": [
    "Initialize the model with *Categorical Cross Entropy* loss."
   ]
  },
  {
   "cell_type": "code",
   "execution_count": 11,
   "metadata": {
    "tags": []
   },
   "outputs": [
    {
     "name": "stdout",
     "output_type": "stream",
     "text": [
      "\u001b[1m--- EpyNN Check OK! ---                                                                             \u001b[0m\r"
     ]
    }
   ],
   "source": [
    "model.initialize(loss='CCE', seed=1, se_hPars=se_hPars.copy(), end='\\r')"
   ]
  },
  {
   "cell_type": "markdown",
   "metadata": {},
   "source": [
    "Train for 20 epochs."
   ]
  },
  {
   "cell_type": "code",
   "execution_count": 12,
   "metadata": {},
   "outputs": [
    {
     "name": "stdout",
     "output_type": "stream",
     "text": [
      "\u001b[1m\u001b[37mEpoch 9 - Batch 14/14 - Accuracy: 0.844 Cost: 0.43269 - TIME: 7.92s RATE: 2.59e+01e/s TTC: 0s       \u001b[0m\n",
      "\n",
      "+-------+-------------+----------+-------+----------+-------+-------+--------------------------------------------------------------------+\n",
      "| \u001b[1m\u001b[37mepoch\u001b[0m |    \u001b[1m\u001b[37mlrate\u001b[0m    |  \u001b[1m\u001b[37mlrate\u001b[0m   |       | \u001b[1m\u001b[32maccuracy\u001b[0m |       |  \u001b[1m\u001b[31mCCE\u001b[0m  |                             \u001b[37mExperiment\u001b[0m                             |\n",
      "|       | \u001b[37mConvolution\u001b[0m |  \u001b[37mDense\u001b[0m   |  \u001b[1m\u001b[32m(0)\u001b[0m  |   \u001b[1m\u001b[32m(1)\u001b[0m    |  \u001b[1m\u001b[31m(0)\u001b[0m  |  \u001b[1m\u001b[31m(1)\u001b[0m  |                                                                    |\n",
      "+-------+-------------+----------+-------+----------+-------+-------+--------------------------------------------------------------------+\n",
      "|   \u001b[1m\u001b[37m0\u001b[0m   |  \u001b[1m\u001b[37m5.00e-03\u001b[0m   | \u001b[1m\u001b[37m5.00e-03\u001b[0m | \u001b[1m\u001b[32m0.666\u001b[0m |  \u001b[1m\u001b[32m0.660\u001b[0m   | \u001b[1m\u001b[31m1.363\u001b[0m | \u001b[1m\u001b[31m1.408\u001b[0m | \u001b[37m1631326479_Convolution-16-2_Pooling-3-Max_Flatten_Dense-10-softmax\u001b[0m |\n",
      "|   \u001b[1m\u001b[37m1\u001b[0m   |  \u001b[1m\u001b[37m5.00e-03\u001b[0m   | \u001b[1m\u001b[37m5.00e-03\u001b[0m | \u001b[1m\u001b[32m0.774\u001b[0m |  \u001b[1m\u001b[32m0.748\u001b[0m   | \u001b[1m\u001b[31m0.873\u001b[0m | \u001b[1m\u001b[31m0.946\u001b[0m | \u001b[37m1631326479_Convolution-16-2_Pooling-3-Max_Flatten_Dense-10-softmax\u001b[0m |\n",
      "|   \u001b[1m\u001b[37m2\u001b[0m   |  \u001b[1m\u001b[37m5.00e-03\u001b[0m   | \u001b[1m\u001b[37m5.00e-03\u001b[0m | \u001b[1m\u001b[32m0.806\u001b[0m |  \u001b[1m\u001b[32m0.788\u001b[0m   | \u001b[1m\u001b[31m0.659\u001b[0m | \u001b[1m\u001b[31m0.730\u001b[0m | \u001b[37m1631326479_Convolution-16-2_Pooling-3-Max_Flatten_Dense-10-softmax\u001b[0m |\n",
      "|   \u001b[1m\u001b[37m3\u001b[0m   |  \u001b[1m\u001b[37m5.00e-03\u001b[0m   | \u001b[1m\u001b[37m5.00e-03\u001b[0m | \u001b[1m\u001b[32m0.822\u001b[0m |  \u001b[1m\u001b[32m0.812\u001b[0m   | \u001b[1m\u001b[31m0.552\u001b[0m | \u001b[1m\u001b[31m0.661\u001b[0m | \u001b[37m1631326479_Convolution-16-2_Pooling-3-Max_Flatten_Dense-10-softmax\u001b[0m |\n",
      "|   \u001b[1m\u001b[37m4\u001b[0m   |  \u001b[1m\u001b[37m5.00e-03\u001b[0m   | \u001b[1m\u001b[37m5.00e-03\u001b[0m | \u001b[1m\u001b[32m0.826\u001b[0m |  \u001b[1m\u001b[32m0.780\u001b[0m   | \u001b[1m\u001b[31m0.529\u001b[0m | \u001b[1m\u001b[31m0.653\u001b[0m | \u001b[37m1631326479_Convolution-16-2_Pooling-3-Max_Flatten_Dense-10-softmax\u001b[0m |\n",
      "|   \u001b[1m\u001b[37m5\u001b[0m   |  \u001b[1m\u001b[37m5.00e-03\u001b[0m   | \u001b[1m\u001b[37m5.00e-03\u001b[0m | \u001b[1m\u001b[32m0.846\u001b[0m |  \u001b[1m\u001b[32m0.832\u001b[0m   | \u001b[1m\u001b[31m0.485\u001b[0m | \u001b[1m\u001b[31m0.625\u001b[0m | \u001b[37m1631326479_Convolution-16-2_Pooling-3-Max_Flatten_Dense-10-softmax\u001b[0m |\n",
      "|   \u001b[1m\u001b[37m6\u001b[0m   |  \u001b[1m\u001b[37m5.00e-03\u001b[0m   | \u001b[1m\u001b[37m5.00e-03\u001b[0m | \u001b[1m\u001b[32m0.894\u001b[0m |  \u001b[1m\u001b[32m0.820\u001b[0m   | \u001b[1m\u001b[31m0.381\u001b[0m | \u001b[1m\u001b[31m0.585\u001b[0m | \u001b[37m1631326479_Convolution-16-2_Pooling-3-Max_Flatten_Dense-10-softmax\u001b[0m |\n",
      "|   \u001b[1m\u001b[37m7\u001b[0m   |  \u001b[1m\u001b[37m5.00e-03\u001b[0m   | \u001b[1m\u001b[37m5.00e-03\u001b[0m | \u001b[1m\u001b[32m0.796\u001b[0m |  \u001b[1m\u001b[32m0.752\u001b[0m   | \u001b[1m\u001b[31m0.543\u001b[0m | \u001b[1m\u001b[31m0.740\u001b[0m | \u001b[37m1631326479_Convolution-16-2_Pooling-3-Max_Flatten_Dense-10-softmax\u001b[0m |\n",
      "|   \u001b[1m\u001b[37m8\u001b[0m   |  \u001b[1m\u001b[37m5.00e-03\u001b[0m   | \u001b[1m\u001b[37m5.00e-03\u001b[0m | \u001b[1m\u001b[32m0.868\u001b[0m |  \u001b[1m\u001b[32m0.832\u001b[0m   | \u001b[1m\u001b[31m0.368\u001b[0m | \u001b[1m\u001b[31m0.607\u001b[0m | \u001b[37m1631326479_Convolution-16-2_Pooling-3-Max_Flatten_Dense-10-softmax\u001b[0m |\n",
      "|   \u001b[1m\u001b[37m9\u001b[0m   |  \u001b[1m\u001b[37m5.00e-03\u001b[0m   | \u001b[1m\u001b[37m5.00e-03\u001b[0m | \u001b[1m\u001b[32m0.902\u001b[0m |  \u001b[1m\u001b[32m0.852\u001b[0m   | \u001b[1m\u001b[31m0.329\u001b[0m | \u001b[1m\u001b[31m0.551\u001b[0m | \u001b[37m1631326479_Convolution-16-2_Pooling-3-Max_Flatten_Dense-10-softmax\u001b[0m |\n",
      "+-------+-------------+----------+-------+----------+-------+-------+--------------------------------------------------------------------+\n"
     ]
    }
   ],
   "source": [
    "model.train(epochs=10, init_logs=False)"
   ]
  },
  {
   "cell_type": "markdown",
   "metadata": {},
   "source": [
    "The overfitting using this CNN architecture is reduced compared with the pure Feed-Forward design. However, accuracy remains slightly lower for both training and validation data.\n",
    "\n",
    "Note the ``learning_rate`` may be a bit too high here: there are jump up and down for both accuracy and loss, particularly visible on the validation set."
   ]
  },
  {
   "cell_type": "code",
   "execution_count": 13,
   "metadata": {
    "tags": []
   },
   "outputs": [
    {
     "data": {
      "image/png": "[encoded data removed]",
      "text/plain": [
       "<Figure size 432x288 with 1 Axes>"
      ]
     },
     "metadata": {
      "needs_background": "light"
     },
     "output_type": "display_data"
    }
   ],
   "source": [
    "model.plot(path=False)"
   ]
  },
  {
   "cell_type": "markdown",
   "metadata": {},
   "source": [
    "Looking at the plot, the model seems to have converged.\n",
    "\n",
    "We will try to optimize it further."
   ]
  },
  {
   "cell_type": "markdown",
   "metadata": {},
   "source": [
    "### Conv-MaxPool-Flatten-(Dense)n"
   ]
  },
  {
   "cell_type": "markdown",
   "metadata": {},
   "source": [
    "Below we added one ``Dense(64, relu)`` hidden layer. This is the same design than used for the Feed-Forward network excepted, of course, for the *Convolution-Pooling* block. The thing to pay attention to here is the absence of *Dropout* layer compared to the Feed-Forward network."
   ]
  },
  {
   "cell_type": "code",
   "execution_count": 14,
   "metadata": {},
   "outputs": [
    {
     "name": "stdout",
     "output_type": "stream",
     "text": [
      "\u001b[1m\u001b[37mEpoch 9 - Batch 14/14 - Accuracy: 0.875 Cost: 0.38357 - TIME: 8.46s RATE: 2.15e+01e/s TTC: 0s       \u001b[0m\n",
      "\n",
      "+-------+-------------+----------+----------+-------+----------+-------+-------+----------------------------------------------------------------------------------+\n",
      "| \u001b[1m\u001b[37mepoch\u001b[0m |    \u001b[1m\u001b[37mlrate\u001b[0m    |  \u001b[1m\u001b[37mlrate\u001b[0m   |  \u001b[1m\u001b[37mlrate\u001b[0m   |       | \u001b[1m\u001b[32maccuracy\u001b[0m |       |  \u001b[1m\u001b[31mCCE\u001b[0m  |                                    \u001b[37mExperiment\u001b[0m                                    |\n",
      "|       | \u001b[37mConvolution\u001b[0m |  \u001b[37mDense\u001b[0m   |  \u001b[37mDense\u001b[0m   |  \u001b[1m\u001b[32m(0)\u001b[0m  |   \u001b[1m\u001b[32m(1)\u001b[0m    |  \u001b[1m\u001b[31m(0)\u001b[0m  |  \u001b[1m\u001b[31m(1)\u001b[0m  |                                                                                  |\n",
      "+-------+-------------+----------+----------+-------+----------+-------+-------+----------------------------------------------------------------------------------+\n",
      "|   \u001b[1m\u001b[37m0\u001b[0m   |  \u001b[1m\u001b[37m5.00e-03\u001b[0m   | \u001b[1m\u001b[37m5.00e-03\u001b[0m | \u001b[1m\u001b[37m5.00e-03\u001b[0m | \u001b[1m\u001b[32m0.618\u001b[0m |  \u001b[1m\u001b[32m0.568\u001b[0m   | \u001b[1m\u001b[31m1.401\u001b[0m | \u001b[1m\u001b[31m1.465\u001b[0m | \u001b[37m1631326487_Convolution-16-2_Pooling-3-Max_Flatten_Dense-64-relu_Dense-10-softmax\u001b[0m |\n",
      "|   \u001b[1m\u001b[37m1\u001b[0m   |  \u001b[1m\u001b[37m5.00e-03\u001b[0m   | \u001b[1m\u001b[37m5.00e-03\u001b[0m | \u001b[1m\u001b[37m5.00e-03\u001b[0m | \u001b[1m\u001b[32m0.744\u001b[0m |  \u001b[1m\u001b[32m0.724\u001b[0m   | \u001b[1m\u001b[31m0.883\u001b[0m | \u001b[1m\u001b[31m0.990\u001b[0m | \u001b[37m1631326487_Convolution-16-2_Pooling-3-Max_Flatten_Dense-64-relu_Dense-10-softmax\u001b[0m |\n",
      "|   \u001b[1m\u001b[37m2\u001b[0m   |  \u001b[1m\u001b[37m5.00e-03\u001b[0m   | \u001b[1m\u001b[37m5.00e-03\u001b[0m | \u001b[1m\u001b[37m5.00e-03\u001b[0m | \u001b[1m\u001b[32m0.798\u001b[0m |  \u001b[1m\u001b[32m0.796\u001b[0m   | \u001b[1m\u001b[31m0.643\u001b[0m | \u001b[1m\u001b[31m0.718\u001b[0m | \u001b[37m1631326487_Convolution-16-2_Pooling-3-Max_Flatten_Dense-64-relu_Dense-10-softmax\u001b[0m |\n",
      "|   \u001b[1m\u001b[37m3\u001b[0m   |  \u001b[1m\u001b[37m5.00e-03\u001b[0m   | \u001b[1m\u001b[37m5.00e-03\u001b[0m | \u001b[1m\u001b[37m5.00e-03\u001b[0m | \u001b[1m\u001b[32m0.820\u001b[0m |  \u001b[1m\u001b[32m0.780\u001b[0m   | \u001b[1m\u001b[31m0.581\u001b[0m | \u001b[1m\u001b[31m0.743\u001b[0m | \u001b[37m1631326487_Convolution-16-2_Pooling-3-Max_Flatten_Dense-64-relu_Dense-10-softmax\u001b[0m |\n",
      "|   \u001b[1m\u001b[37m4\u001b[0m   |  \u001b[1m\u001b[37m5.00e-03\u001b[0m   | \u001b[1m\u001b[37m5.00e-03\u001b[0m | \u001b[1m\u001b[37m5.00e-03\u001b[0m | \u001b[1m\u001b[32m0.858\u001b[0m |  \u001b[1m\u001b[32m0.796\u001b[0m   | \u001b[1m\u001b[31m0.482\u001b[0m | \u001b[1m\u001b[31m0.609\u001b[0m | \u001b[37m1631326487_Convolution-16-2_Pooling-3-Max_Flatten_Dense-64-relu_Dense-10-softmax\u001b[0m |\n",
      "|   \u001b[1m\u001b[37m5\u001b[0m   |  \u001b[1m\u001b[37m5.00e-03\u001b[0m   | \u001b[1m\u001b[37m5.00e-03\u001b[0m | \u001b[1m\u001b[37m5.00e-03\u001b[0m | \u001b[1m\u001b[32m0.818\u001b[0m |  \u001b[1m\u001b[32m0.764\u001b[0m   | \u001b[1m\u001b[31m0.508\u001b[0m | \u001b[1m\u001b[31m0.690\u001b[0m | \u001b[37m1631326487_Convolution-16-2_Pooling-3-Max_Flatten_Dense-64-relu_Dense-10-softmax\u001b[0m |\n",
      "|   \u001b[1m\u001b[37m6\u001b[0m   |  \u001b[1m\u001b[37m5.00e-03\u001b[0m   | \u001b[1m\u001b[37m5.00e-03\u001b[0m | \u001b[1m\u001b[37m5.00e-03\u001b[0m | \u001b[1m\u001b[32m0.916\u001b[0m |  \u001b[1m\u001b[32m0.836\u001b[0m   | \u001b[1m\u001b[31m0.330\u001b[0m | \u001b[1m\u001b[31m0.589\u001b[0m | \u001b[37m1631326487_Convolution-16-2_Pooling-3-Max_Flatten_Dense-64-relu_Dense-10-softmax\u001b[0m |\n",
      "|   \u001b[1m\u001b[37m7\u001b[0m   |  \u001b[1m\u001b[37m5.00e-03\u001b[0m   | \u001b[1m\u001b[37m5.00e-03\u001b[0m | \u001b[1m\u001b[37m5.00e-03\u001b[0m | \u001b[1m\u001b[32m0.870\u001b[0m |  \u001b[1m\u001b[32m0.808\u001b[0m   | \u001b[1m\u001b[31m0.361\u001b[0m | \u001b[1m\u001b[31m0.592\u001b[0m | \u001b[37m1631326487_Convolution-16-2_Pooling-3-Max_Flatten_Dense-64-relu_Dense-10-softmax\u001b[0m |\n",
      "|   \u001b[1m\u001b[37m8\u001b[0m   |  \u001b[1m\u001b[37m5.00e-03\u001b[0m   | \u001b[1m\u001b[37m5.00e-03\u001b[0m | \u001b[1m\u001b[37m5.00e-03\u001b[0m | \u001b[1m\u001b[32m0.940\u001b[0m |  \u001b[1m\u001b[32m0.864\u001b[0m   | \u001b[1m\u001b[31m0.221\u001b[0m | \u001b[1m\u001b[31m0.521\u001b[0m | \u001b[37m1631326487_Convolution-16-2_Pooling-3-Max_Flatten_Dense-64-relu_Dense-10-softmax\u001b[0m |\n",
      "|   \u001b[1m\u001b[37m9\u001b[0m   |  \u001b[1m\u001b[37m5.00e-03\u001b[0m   | \u001b[1m\u001b[37m5.00e-03\u001b[0m | \u001b[1m\u001b[37m5.00e-03\u001b[0m | \u001b[1m\u001b[32m0.930\u001b[0m |  \u001b[1m\u001b[32m0.860\u001b[0m   | \u001b[1m\u001b[31m0.238\u001b[0m | \u001b[1m\u001b[31m0.505\u001b[0m | \u001b[37m1631326487_Convolution-16-2_Pooling-3-Max_Flatten_Dense-64-relu_Dense-10-softmax\u001b[0m |\n",
      "+-------+-------------+----------+----------+-------+----------+-------+-------+----------------------------------------------------------------------------------+\n"
     ]
    },
    {
     "data": {
      "image/png": "[encoded data removed]",
      "text/plain": [
       "<Figure size 432x288 with 1 Axes>"
      ]
     },
     "metadata": {
      "needs_background": "light"
     },
     "output_type": "display_data"
    }
   ],
   "source": [
    "name = 'Convolution-16-2_Pooling-3-Max_Flatten_Dense-64-relu_Dense-10-softmax'\n",
    "\n",
    "se_hPars['learning_rate'] = 0.005\n",
    "se_hPars['softmax_temperature'] = 5\n",
    "\n",
    "layers = [\n",
    "    embedding,\n",
    "    Convolution(unit_filters=16, filter_size=(2, 2), activate=relu),\n",
    "    Pooling(pool_size=(2, 2)),\n",
    "    Flatten(),\n",
    "    Dense(64, relu),\n",
    "    Dense(10, softmax)\n",
    "]\n",
    "\n",
    "model = EpyNN(layers=layers, name=name)\n",
    "\n",
    "model.initialize(loss='CCE', seed=1, se_hPars=se_hPars.copy(), end='\\r')\n",
    "\n",
    "model.train(epochs=10, init_logs=False)\n",
    "\n",
    "model.plot(path=False)"
   ]
  },
  {
   "cell_type": "markdown",
   "metadata": {},
   "source": [
    "This result is better than the one obtained with the Feed-Forward network. Although we did not use *Dropout* regularization, there is less overfitting and higher accuracy on the validation set."
   ]
  },
  {
   "cell_type": "markdown",
   "metadata": {},
   "source": [
    "For code, maths and pictures behind the convolution and pooling layers, follow these link:\n",
    "\n",
    "* [Convolution (CNN)](../../Convolution.html)\n",
    "* [Pooling (CNN)](../../Pooling.html)"
   ]
  },
  {
   "cell_type": "markdown",
   "metadata": {},
   "source": [
    "## Write, read & Predict"
   ]
  },
  {
   "cell_type": "markdown",
   "metadata": {},
   "source": [
    "A trained model can be written on disk such as:"
   ]
  },
  {
   "cell_type": "code",
   "execution_count": 15,
   "metadata": {},
   "outputs": [
    {
     "name": "stdout",
     "output_type": "stream",
     "text": [
      "\u001b[1m\u001b[32mMake: /media/synthase/beta/EpyNN/nnlive/captcha_mnist/models/1631326487_Convolution-16-2_Pooling-3-Max_Flatten_Dense-64-relu_Dense-10-softmax.pickle\u001b[0m\n"
     ]
    }
   ],
   "source": [
    "model.write()\n",
    "\n",
    "# model.write(path=/your/custom/path)"
   ]
  },
  {
   "cell_type": "markdown",
   "metadata": {},
   "source": [
    "A model can be read from disk such as:"
   ]
  },
  {
   "cell_type": "code",
   "execution_count": 16,
   "metadata": {},
   "outputs": [],
   "source": [
    "model = read_model()\n",
    "\n",
    "# model = read_model(path=/your/custom/path)"
   ]
  },
  {
   "cell_type": "markdown",
   "metadata": {},
   "source": [
    "We can retrieve new features and predict on them."
   ]
  },
  {
   "cell_type": "code",
   "execution_count": 17,
   "metadata": {},
   "outputs": [],
   "source": [
    "X_features, _ = prepare_dataset(N_SAMPLES=10)\n",
    "\n",
    "dset = model.predict(X_features, X_scale=True)"
   ]
  },
  {
   "cell_type": "markdown",
   "metadata": {},
   "source": [
    "Results can be extracted such as:"
   ]
  },
  {
   "cell_type": "code",
   "execution_count": 18,
   "metadata": {},
   "outputs": [
    {
     "name": "stdout",
     "output_type": "stream",
     "text": [
      "0 4 [2.73318830e-04 1.31963490e-05 5.89703903e-04 1.40826295e-03\n",
      " 9.88250312e-01 6.13755843e-04 2.83748432e-04 9.12669946e-05\n",
      " 2.75425428e-04 8.20100878e-03]\n",
      "1 1 [3.91240140e-07 9.81628794e-01 1.07503304e-02 1.47657390e-04\n",
      " 2.89737647e-05 1.84569525e-03 9.05105765e-04 1.05423369e-04\n",
      " 4.54519421e-03 4.24349339e-05]\n",
      "2 3 [1.15512984e-03 3.03381121e-08 7.54904900e-05 9.62571316e-01\n",
      " 1.41139717e-05 3.34014638e-03 4.74569239e-07 1.05712098e-05\n",
      " 3.27966649e-02 3.60618520e-05]\n",
      "3 3 [1.85479980e-04 5.25017177e-04 3.27202551e-03 8.38762229e-01\n",
      " 1.84793991e-05 5.88948258e-02 2.45608181e-05 3.48942227e-03\n",
      " 9.46346025e-02 1.93357511e-04]\n",
      "4 1 [7.82674259e-07 9.87579724e-01 7.89081046e-04 7.32716295e-06\n",
      " 1.17458351e-04 3.39978105e-05 1.46985434e-04 4.09498177e-04\n",
      " 1.08823444e-02 3.28010455e-05]\n",
      "5 4 [2.89392844e-04 1.93949236e-03 3.84790866e-03 2.36734339e-04\n",
      " 8.93497318e-01 8.16124815e-02 1.31474977e-02 3.31110486e-05\n",
      " 4.19537964e-03 1.20068407e-03]\n",
      "6 2 [1.30712669e-03 7.34991626e-04 9.22273372e-01 8.72755455e-03\n",
      " 3.16478302e-05 1.27866409e-02 1.12644342e-02 3.57716408e-04\n",
      " 4.13895998e-02 1.12691626e-03]\n",
      "7 0 [9.99410846e-01 2.58751298e-09 5.63690552e-05 3.63864863e-05\n",
      " 4.13786045e-08 1.95026616e-04 2.58429890e-04 3.39845629e-06\n",
      " 3.94409547e-05 5.82410121e-08]\n",
      "8 1 [3.37907661e-06 9.82018353e-01 3.92383827e-03 1.28000792e-04\n",
      " 9.13499559e-05 9.01911250e-04 6.43822603e-04 9.39252171e-04\n",
      " 1.09885188e-02 3.61574556e-04]\n",
      "9 9 [1.46124219e-05 4.41278497e-05 1.50934686e-06 1.87393448e-05\n",
      " 2.43301177e-02 4.95203620e-05 2.62480300e-05 3.48654717e-02\n",
      " 1.41677070e-03 9.39232883e-01]\n"
     ]
    }
   ],
   "source": [
    "for n, pred, probs in zip(dset.ids, dset.P, dset.A):\n",
    "    print(n, pred, probs)"
   ]
  }
 ],
 "metadata": {
  "kernelspec": {
   "display_name": "Python 3",
   "language": "python",
   "name": "python3"
  },
  "language_info": {
   "codemirror_mode": {
    "name": "ipython",
    "version": 3
   },
   "file_extension": ".py",
   "mimetype": "text/x-python",
   "name": "python",
   "nbconvert_exporter": "python",
   "pygments_lexer": "ipython3",
   "version": "3.7.3"
  }
 },
 "nbformat": 4,
 "nbformat_minor": 4
}
