{
 "cells": [
  {
   "cell_type": "markdown",
   "metadata": {},
   "source": [
    "# Multiclass Classification"
   ]
  },
  {
   "cell_type": "markdown",
   "metadata": {},
   "source": [
    "* Find this notebook at `EpyNN/nnlive/captcha_mnist/train.ipynb`.\n",
    "* Regular python code at `EpyNN/nnlive/captcha_mnist/train.py`."
   ]
  },
  {
   "cell_type": "markdown",
   "metadata": {},
   "source": [
    "In this notebook we will review:\n",
    "\n",
    "* Handling numerical data image to proceed with Neural Network regression.\n",
    "* Training of Feed-Forward (FF) and Convolutional Neural Network (CNN) for multiclass classification task.\n",
    "* MNIST database as a benchmark for neural networks.\n",
    "\n",
    "**It is assumed that all *basics* notebooks were already reviewed:**\n",
    "\n",
    "* [Basics with Perceptron (P)](../dummy_boolean/train.ipynb)\n",
    "* [Basics with string sequence](../dummy_string/train.ipynb)\n",
    "* [Basics with numerical time-series](../dummy_time/train.ipynb)\n",
    "* [Basics with images](../dummy_image/train.ipynb)"
   ]
  },
  {
   "cell_type": "markdown",
   "metadata": {},
   "source": [
    "**<font color='red'>This notebook does not enhance, extend or replace EpyNN's documentation.</font>**\n",
    "\n",
    "**Relevant documentation pages for the current notebook:**\n",
    "\n",
    "* [Fully Connected (Dense)](https://epynn.net/Dense.html)\n",
    "* [Convolution (CNN)](https://epynn.net/Convolution.html)\n",
    "* [Pooling (CNN)](https://epynn.net/Pooling.html)"
   ]
  },
  {
   "cell_type": "markdown",
   "metadata": {},
   "source": [
    " Please follow this [external link](http://yann.lecun.com/exdb/mnist/) for detailed contextual information about the MNIST database."
   ]
  },
  {
   "cell_type": "markdown",
   "metadata": {},
   "source": [
    "## Environment and data"
   ]
  },
  {
   "cell_type": "markdown",
   "metadata": {},
   "source": [
    "Follow [this link](prepare_dataset.ipynb) for details about data preparation."
   ]
  },
  {
   "cell_type": "markdown",
   "metadata": {},
   "source": [
    "Briefly, the MNIST database contains 70 000 images (60K + 10k).\n",
    "\n",
    "Each image contains a single handwritten digit. In total, 500 different human writters contributed to the whole.\n",
    "\n",
    "The MNIST database is curated in that images were size normalized and centered."
   ]
  },
  {
   "cell_type": "code",
   "execution_count": 1,
   "metadata": {},
   "outputs": [
    {
     "name": "stdout",
     "output_type": "stream",
     "text": [
      "\u001b[1m\u001b[32mMake: /media/synthase/beta/EpyNN/nnlive/captcha_mnist/datasets\u001b[0m\n",
      "\u001b[1m\u001b[32mMake: /media/synthase/beta/EpyNN/nnlive/captcha_mnist/models\u001b[0m\n",
      "\u001b[1m\u001b[32mMake: /media/synthase/beta/EpyNN/nnlive/captcha_mnist/plots\u001b[0m\n",
      "\u001b[1m\u001b[32mMake: mnist_database.tar\u001b[0m\n"
     ]
    }
   ],
   "source": [
    "# EpyNN/nnlive/captcha_mnist/train.ipynb\n",
    "# Standard library imports\n",
    "import random\n",
    "\n",
    "# Related third party imports\n",
    "import matplotlib.pyplot as plt\n",
    "import numpy as np\n",
    "\n",
    "# Local application/library specific imports\n",
    "import nnlibs.initialize\n",
    "from nnlibs.commons.maths import relu, softmax\n",
    "from nnlibs.commons.library import (\n",
    "    configure_directory,\n",
    "    read_model,\n",
    ")\n",
    "from nnlibs.network.models import EpyNN\n",
    "from nnlibs.embedding.models import Embedding\n",
    "from nnlibs.convolution.models import Convolution\n",
    "from nnlibs.pooling.models import Pooling\n",
    "from nnlibs.flatten.models import Flatten\n",
    "from nnlibs.dropout.models import Dropout\n",
    "from nnlibs.dense.models import Dense\n",
    "from prepare_dataset import (\n",
    "    prepare_dataset,\n",
    "    download_mnist,\n",
    ")\n",
    "from settings import se_hPars\n",
    "\n",
    "\n",
    "########################## CONFIGURE ##########################\n",
    "random.seed(1)\n",
    "np.random.seed(1)\n",
    "\n",
    "np.set_printoptions(threshold=10)\n",
    "\n",
    "np.seterr(all='warn')\n",
    "\n",
    "configure_directory()\n",
    "\n",
    "\n",
    "############################ DATASET ##########################\n",
    "download_mnist()\n",
    "\n",
    "X_features, Y_label = prepare_dataset(N_SAMPLES=750)"
   ]
  },
  {
   "cell_type": "markdown",
   "metadata": {},
   "source": [
    "Let's control what we retrieved."
   ]
  },
  {
   "cell_type": "code",
   "execution_count": 2,
   "metadata": {},
   "outputs": [
    {
     "name": "stdout",
     "output_type": "stream",
     "text": [
      "750\n",
      "(28, 28, 1)\n",
      "{0.0, 3.0, 6.0, 11.0, 12.0, 13.0, 15.0, 17.0, 18.0, 19.0, 20.0, 21.0, 22.0, 27.0, 28.0, 32.0, 39.0, 40.0, 42.0, 43.0, 44.0, 45.0, 46.0, 48.0, 55.0, 67.0, 82.0, 86.0, 87.0, 90.0, 91.0, 94.0, 97.0, 100.0, 101.0, 104.0, 107.0, 110.0, 112.0, 115.0, 116.0, 125.0, 127.0, 129.0, 143.0, 147.0, 150.0, 151.0, 155.0, 158.0, 162.0, 163.0, 166.0, 167.0, 169.0, 170.0, 172.0, 181.0, 183.0, 184.0, 186.0, 189.0, 202.0, 205.0, 206.0, 210.0, 211.0, 214.0, 215.0, 219.0, 220.0, 221.0, 223.0, 225.0, 227.0, 228.0, 230.0, 233.0, 234.0, 237.0, 238.0, 239.0, 240.0, 241.0, 242.0, 243.0, 247.0, 250.0, 252.0, 253.0, 255.0}\n"
     ]
    }
   ],
   "source": [
    "print(len(X_features))\n",
    "print(X_features[0].shape)\n",
    "print(set(X_features[0].flatten().tolist()))    # Get all unique tones in image"
   ]
  },
  {
   "cell_type": "markdown",
   "metadata": {},
   "source": [
    "We retrieved sample features describing ``7500`` samples.\n",
    "\n",
    "For each sample, we retrieved  features as a three-dimensional array of shape ``(widht, height, depth)``. Each image has dimension 28x28 and so contains 784 pixels.\n",
    "\n",
    "In the context, remember that the ``depth`` dimension represents the number of channels which encode the image. While the depth of any RGB image would be equal to 3, the depth of a grayscale image is equal to one. We namely have a regular grayscale image in that shades of gray range from 0 to 255. \n",
    "\n",
    "Let's recall how this looks like."
   ]
  },
  {
   "cell_type": "code",
   "execution_count": 3,
   "metadata": {},
   "outputs": [
    {
     "data": {
      "image/png": "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://epynn.net/4iRaR2UBDVFsK5AD650G0UgDn1SUekqagdFEQll8/cD+BZAP1IbiA5GsAtAM4huRLA0GhZpLDUDoptn2OEZjayzKYhdc6l3ZLPGm5rXNC3ePFiFzdyTHBf/PE9//nHQPyhT/544eOPPx7bz59kVhonz+2gETp27OjiHj16VPSan//857HlO++8s645NZLuLBGR4KkQikjwmnrShR//+MdVvW7q1Kl1zqR2lU64esghhzQ4ExHgqKOOcvGkSZMqek3yWSQffvhhXXNqJJ0RikjwVAhFJHhN1zW++uqrXdyeR15ec801Lv7LX/5Sz5Qawp8YwvfMM8+knImE6Gc/+1lF+y1cuNDF8+bNa1Q6DaczQhEJngqhiARPhVBEgtd0Y4T+JTNtPUfVv3sE+Mc7MvImefV+uZ8tj5f+SPMbMGBAbPkrX/mKi8uNVwPAySef3LCc0qQzQhEJngqhiASv6bhttps://epynn.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://epynn.net/kd0OTz1euxkcffRRbXr9+vYv939ETTzwR2++3v/2ti5csWdLWITT7TE6EOPvM5s17Hvl8wAEHxLZp9hkRkRxQIRSR4DX1p8bXX399bLnS7rDv9ttvrzmP5LNHPvjgg4pe99BDD7n4ueeei2178MEHa85LwuTfuXHLLfFnzk+cONHFH374YV2P26FDh9jy5MmTXewPM+XhGSVJOiMUkeDtsxCS7E3ySZJLSb5Gcmy0vjvJBSRXhttps://epynn.net/EUSZnaQbFVcka4G8CPzGwAgFMAfJ/kAAATALSYWV8ALdGySFGpHRTYPscIzawVQGsU7yC5DMARAEYAGBztNh3AnwHc1JAsy9i5c2dsua3nBB944IEu9u8Kacu2bdtcfMcdd8S2tba2uth/MA0AvPHGGxW9vzSPPLeDJH/i03HjxsW2ff7zn3fxjTfe6GJ/pqX28O96mjJlSmzb2Wef7eJXX33Vxf7YYV6068MSkkcDGAjgeQA9oz8OANgIYK/3d5EcA2BMDTmK5IraQfFU/GEJyU4AHgbwQzOL3aBrpSt+93qRqJlNMbOTdDGvFIHaQTFVdGcJyQMAPApgvpndGq1bAWCwmbWS7AXgz2bWbx/vk9kV9V/84hddPHjw4IpeM3PmTBfn4cbwGunOkho1Szvo1KmTi5cuXRrb5k8QsnbtWhf7l9UA8b93v6udnGDk4osv3utxAWDx4sUuHjZsmIs3bdrUZv6NVPWdJSxNizIVwLJPfvmRuQA+eQL6KABzak1SJK/UDoqtkjHC0wFcCeBVkouidZMA3AJgFsnRANYB+FZDMhTJB7WDAqvkU+NnAOz1dBJA7bMNiDQBtYNia+rZZ6RdNEaYE2m2g+OPPz627I97J7dVIjmBsF8/WlpaYtvGjx/v4kWLFrX7WI2g2WdERMpQIRSR4KlrHA51jXMiy3bQv39/F48cOdLFyQmK/bu2XnrpJRc/8MADsf0ee+wxF+/YsSO2LTnZcB6oaywiUoYKoYgET13jcKhrnBNqB9lR11hEpAwVQhEJngqhiARPhVBEgqdCKCLBUyEUkeCpEIpI8FQIRSR4KoQiEjwVQhEJngqhiARPhVBEgqdCKCLBq+QpdvW0BaUnffWI4izlIQcgvTz6pHAMqcwWAO8hrL+/fUkjj7JtINVpuNxByYVZTwmVhxzylIekKy+/d+VRoq6xiARPhVBEgpdVIZyS0XF9ecgByE8ekq68/N6VBzIaIxQRyRN1jUUkeCqEIhK8VAshyWEkV5BcRXJCisedRnIzySXeuu4kF5BcGX3vlkIevUk+SXIpyddIjs0qF8lOyO0gr20gtUJIsgOAOwF8HcAAACNJDkjp8PcCGJZYNwFAi5n1BdASLTfabgA/MrMBAE4B8P3o3yCLXCQDagf5bANpnhEOArDKzNaY2S4ADwAYkcaBzexpAFsTq0cAmB7F0wGcn0IerWb2UhTvALAMwBFZ5CKZCbod5LUNpFkIjwCw3lveEK3LSk8za43ijQB6pnlwkkcDGAjg+axzkVSpHUTy1Ab0YQkAK11DlNp1RCQ7AXgYwA/NbHuWuYh8Is2/vby1gTQL4RsAenvLR0brsrKJZC8AiL5vTuOgJA9A6Q/gPjObnWUukong20Ee20CahfAFAH1JfpZkRwCXApib4vGT5gIYFcWjAMxp9AFJEsBUAMvM7NYsc5HMBN0OctsGzCy1LwDDAbwOYDWAf03xuPcDaAXwIUpjMqMBHILSp1MrAfwJQPcU8jgDpVP+VwAsir6GZ5GLvrL7Crkd5LUN6BY7EQmePiwRkeCpEIpI8FQIRSR4KoQiEjwVQhEJngqhiARPhVBEgve/+L8hLEPzf8YAAAAASUVORK5CYII=\n",
      "text/plain": [
       "<Figure size 432x288 with 4 Axes>"
      ]
     },
     "metadata": {
      "needs_background": "light"
     },
     "output_type": "display_data"
    }
   ],
   "source": [
    "fig, ((ax0, ax1), (ax2, ax3)) = plt.subplots(2, 2)\n",
    "\n",
    "ax0.imshow(X_features[Y_label.index(0)], cmap='gray')\n",
    "ax0.set_title('label: 0')\n",
    "\n",
    "ax1.imshow(X_features[Y_label.index(1)], cmap='gray')\n",
    "ax1.set_title('label: 1')\n",
    "\n",
    "ax2.imshow(X_features[Y_label.index(2)], cmap='gray')\n",
    "ax2.set_title('label: 2')\n",
    "\n",
    "ax3.imshow(X_features[Y_label.index(3)], cmap='gray')\n",
    "ax3.set_title('label: 3')\n",
    "\n",
    "plt.tight_layout()\n",
    "plt.show()"
   ]
  },
  {
   "cell_type": "markdown",
   "metadata": {},
   "source": [
    "According to [comments from the authors](http://yann.lecun.com/exdb/mnist/) of the MNIST database: *\"The original black and white (bilevel) images from NIST were size normalized \\[...\\]. The resulting images contain grey levels as a result of the anti-aliasing technique used by the normalization algorithm\"*."
   ]
  },
  {
   "cell_type": "markdown",
   "metadata": {},
   "source": [
    "## Feed-Forward (FF)"
   ]
  },
  {
   "cell_type": "markdown",
   "metadata": {},
   "source": [
    "As explained in other exemples of network training, we like to begin by a Feed-Forward network each time we start to investigate a new problem. This because:\n",
    "\n",
    "* Feed-Forward (Dense-based) network are computationally faster to train than other architectures.\n",
    "* Such network may be less sensitive to training hyperparameters and thus they are easier to train.\n",
    "* There is no reasonable day/night results depending on the architecture: one Feed-Forward - even if inappropriate - architecture may result in metrics that will not be made twice better by using an appropriate architecture. This mostly depends on hyperparameters and data processing."
   ]
  },
  {
   "cell_type": "markdown",
   "metadata": {},
   "source": [
    "About this last item, one may look at the above-linked page which reports on classifier error rate with respect to method or architecture.\n",
    "\n",
    "As a condensate:\n",
    "\n",
    "* Single-layer FF (Perceptron) - 12.0% error.\n",
    "* Single-layer FF (Perceptron) - 7.6% error with deskewing.\n",
    "* Two-layers FF with 800 hidden nodes - 1.6% error.\n",
    "* Committee of 35 Convolutional Neural Networks (CNN) - 0.23% error (best of all reported).\n",
    "\n",
    "First, we can see that from the very basic perceptron to the most evolved CNN there is an improvement from 88% to 99.77% accuracy. This is a huge gap, but both architecture succeed at recognizing patterns and drawing a decent model. \n",
    "\n",
    "Note the gap is significantly reduced by simply applying *deskewing* to the image data, which highlights the critical importance of data pre-processing in the ability of the network to result in an accurate model.\n",
    "\n",
    "Also note that perceptron are only able of linear regression while multi-layers Feed-Forward or CNN and other architectures can achieve non-linear regressions.\n",
    "\n",
    "When considering the two-layers FF with 800 hidden nodes versus the state-of-the-art CNN, the accuracy goes from 98.4% to 99.77%. Overall, this illustrates that classical Feed-Forward networks may be a good alternative to more appropriate architecture when balancing between accuracy, hardness of training and need for more computational time."
   ]
  },
  {
   "cell_type": "markdown",
   "metadata": {},
   "source": [
    "### Embedding"
   ]
  },
  {
   "cell_type": "markdown",
   "metadata": {},
   "source": [
    "We start from sample features containing values ranging from 0 to 255.\n",
    "\n",
    "The most important things is to **normalize** sample features withing \\[0, 1\\].\n",
    "\n",
    "The second thing is to set a batch size which, in this case, will makes the regression converging faster.\n",
    "\n",
    "The last - but not least - thing is to one-hot encode the set of sample label. While one may not do this with binary classification problems and thus use a single node in the output dense layer - from which 0 or 1 decisions can be extracted -, the same can not reasonably be done with multiclass classification. Because we have ten distinct labels in the game, the reasonable choice is to use 10 output nodes and to one-hot encode the set of sample label."
   ]
  },
  {
   "cell_type": "code",
   "execution_count": 4,
   "metadata": {},
   "outputs": [],
   "source": [
    "embedding = Embedding(X_data=X_features,\n",
    "                      Y_data=Y_label,\n",
    "                      X_scale=True,\n",
    "                      Y_encode=True,\n",
    "                      batch_size=32,\n",
    "                      relative_size=(2, 1, 0))"
   ]
  },
  {
   "cell_type": "markdown",
   "metadata": {},
   "source": [
    "About data normalization:\n",
    "\n",
    "* It diminishes the complexity of the problem.\n",
    "* It accelerates training and makes it easier.\n",
    "* If no normalization is done in this example, the loss function and gradients will both readily explode and generate floatting points errors."
   ]
  },
  {
   "cell_type": "markdown",
   "metadata": {},
   "source": [
    "About this last point, remember that exponentials are used in the context of neural networks. If you begin feeding exponential functions with large numbers such as 255, you can be sure you will get floatting points errors pretty quickly: the computer typically deals with 64-bits float number, which has maximal value of ``1.8 * 10 ** 308``. \n",
    "\n",
    "Note that in previously used 32-bits processors architecture, this maximal value was down to ``3.4 * 10 ** 38``. Compare with ``exp(255)`` which outputs ``5.56 * 10 ** 110`` and conclude that un-normalized data in the context of this notebook would have overflowed straight away on a - not that ancient - 32-bits system. Actually, if you attempt to run this notebook on a [Raspberry Pi](https://www.raspberrypi.org/) - why not? - you would overflow without normalization because the device relies on 32-bits CPUs.  "
   ]
  },
  {
   "cell_type": "markdown",
   "metadata": {},
   "source": [
    "### Flatten-(Dense)n with Dropout"
   ]
  },
  {
   "cell_type": "markdown",
   "metadata": {},
   "source": [
    "We already explained why we need to use a *flatten* layer when willing to forward arrays of more than 2 dimensions to the *dense* layer: image data have three dimensions, and the array of sample features - the array of sample image - has four dimensions. Therefore we need to flatten this array to give it a bi-dimensional shape."
   ]
  },
  {
   "cell_type": "code",
   "execution_count": 5,
   "metadata": {
    "tags": []
   },
   "outputs": [],
   "source": [
    "name = 'Flatten_Dropout02_Dense-64-relu_Dropout05_Dense-10-softmax'\n",
    "\n",
    "se_hPars['learning_rate'] = 0.001\n",
    "se_hPars['softmax_temperature'] = 5\n",
    "\n",
    "flatten = Flatten()\n",
    "\n",
    "dropout1 = Dropout(drop_prob=0.2)\n",
    "\n",
    "hidden_dense = Dense(64, relu)\n",
    "\n",
    "dropout2 = Dropout(drop_prob=0.5)\n",
    "\n",
    "dense = Dense(10, softmax)\n",
    "\n",
    "layers = [embedding, flatten, dropout1, hidden_dense, dropout2, dense]\n",
    "\n",
    "model = EpyNN(layers=layers, name=name)"
   ]
  },
  {
   "cell_type": "markdown",
   "metadata": {
    "tags": []
   },
   "source": [
    "We have set up a custom learning rate, along with the 10 nodes in the output layers because we have labels one-hot encoded over 10 digit and again because we have ten distinct labels.\n",
    "\n",
    "Dropout layers were set to reduce overfitting and the *softmax temperature* was set higher than one to smooth the output probability distribution which practically results in more numerically stable training."
   ]
  },
  {
   "cell_type": "code",
   "execution_count": 6,
   "metadata": {
    "tags": []
   },
   "outputs": [
    {
     "name": "stdout",
     "output_type": "stream",
     "text": [
      "\u001b[1m--- EpyNN Check OK! ---                                                                             \u001b[0m\r"
     ]
    }
   ],
   "source": [
    "model.initialize(loss='CCE', seed=1, se_hPars=se_hPars.copy(), end='\\r')"
   ]
  },
  {
   "cell_type": "markdown",
   "metadata": {},
   "source": [
    "We have set the loss function to use *Categorical Cross Entropy* instead of *Binary Cross Entropy*. This because we have ten distinct labels instead of two."
   ]
  },
  {
   "cell_type": "code",
   "execution_count": 7,
   "metadata": {},
   "outputs": [
    {
     "name": "stdout",
     "output_type": "stream",
     "text": [
      "\u001b[1m\u001b[37mEpoch 99 - Batch 14/14 - Accuracy: 0.906 Cost: 0.36511 - TIME: 19.76s RATE: 1.05e+03e/s TTC: 0s     \u001b[0m\n",
      "\n",
      "+-------+----------+----------+-------+----------+-------+-------+-----------------------------------------------------------------------+\n",
      "| \u001b[1m\u001b[37mepoch\u001b[0m |  \u001b[1m\u001b[37mlrate\u001b[0m   |  \u001b[1m\u001b[37mlrate\u001b[0m   |       | \u001b[1m\u001b[32maccuracy\u001b[0m |       |  \u001b[1m\u001b[31mCCE\u001b[0m  |                              \u001b[37mExperiment\u001b[0m                               |\n",
      "|       |  \u001b[37mDense\u001b[0m   |  \u001b[37mDense\u001b[0m   |  \u001b[1m\u001b[32m(0)\u001b[0m  |   \u001b[1m\u001b[32m(1)\u001b[0m    |  \u001b[1m\u001b[31m(0)\u001b[0m  |  \u001b[1m\u001b[31m(1)\u001b[0m  |                                                                       |\n",
      "+-------+----------+----------+-------+----------+-------+-------+-----------------------------------------------------------------------+\n",
      "|   \u001b[1m\u001b[37m0\u001b[0m   | \u001b[1m\u001b[37m1.00e-03\u001b[0m | \u001b[1m\u001b[37m1.00e-03\u001b[0m | \u001b[1m\u001b[32m0.240\u001b[0m |  \u001b[1m\u001b[32m0.220\u001b[0m   | \u001b[1m\u001b[31m2.235\u001b[0m | \u001b[1m\u001b[31m2.239\u001b[0m | \u001b[37m1631698354_Flatten_Dropout02_Dense-64-relu_Dropout05_Dense-10-softmax\u001b[0m |\n",
      "|  \u001b[1m\u001b[37m10\u001b[0m   | \u001b[1m\u001b[37m1.00e-03\u001b[0m | \u001b[1m\u001b[37m1.00e-03\u001b[0m | \u001b[1m\u001b[32m0.700\u001b[0m |  \u001b[1m\u001b[32m0.664\u001b[0m   | \u001b[1m\u001b[31m1.155\u001b[0m | \u001b[1m\u001b[31m1.258\u001b[0m | \u001b[37m1631698354_Flatten_Dropout02_Dense-64-relu_Dropout05_Dense-10-softmax\u001b[0m |\n",
      "|  \u001b[1m\u001b[37m20\u001b[0m   | \u001b[1m\u001b[37m1.00e-03\u001b[0m | \u001b[1m\u001b[37m1.00e-03\u001b[0m | \u001b[1m\u001b[32m0.798\u001b[0m |  \u001b[1m\u001b[32m0.740\u001b[0m   | \u001b[1m\u001b[31m0.741\u001b[0m | \u001b[1m\u001b[31m0.910\u001b[0m | \u001b[37m1631698354_Flatten_Dropout02_Dense-64-relu_Dropout05_Dense-10-softmax\u001b[0m |\n",
      "|  \u001b[1m\u001b[37m30\u001b[0m   | \u001b[1m\u001b[37m1.00e-03\u001b[0m | \u001b[1m\u001b[37m1.00e-03\u001b[0m | \u001b[1m\u001b[32m0.830\u001b[0m |  \u001b[1m\u001b[32m0.764\u001b[0m   | \u001b[1m\u001b[31m0.618\u001b[0m | \u001b[1m\u001b[31m0.819\u001b[0m | \u001b[37m1631698354_Flatten_Dropout02_Dense-64-relu_Dropout05_Dense-10-softmax\u001b[0m |\n",
      "|  \u001b[1m\u001b[37m40\u001b[0m   | \u001b[1m\u001b[37m1.00e-03\u001b[0m | \u001b[1m\u001b[37m1.00e-03\u001b[0m | \u001b[1m\u001b[32m0.864\u001b[0m |  \u001b[1m\u001b[32m0.808\u001b[0m   | \u001b[1m\u001b[31m0.474\u001b[0m | \u001b[1m\u001b[31m0.714\u001b[0m | \u001b[37m1631698354_Flatten_Dropout02_Dense-64-relu_Dropout05_Dense-10-softmax\u001b[0m |\n",
      "|  \u001b[1m\u001b[37m50\u001b[0m   | \u001b[1m\u001b[37m1.00e-03\u001b[0m | \u001b[1m\u001b[37m1.00e-03\u001b[0m | \u001b[1m\u001b[32m0.872\u001b[0m |  \u001b[1m\u001b[32m0.788\u001b[0m   | \u001b[1m\u001b[31m0.435\u001b[0m | \u001b[1m\u001b[31m0.722\u001b[0m | \u001b[37m1631698354_Flatten_Dropout02_Dense-64-relu_Dropout05_Dense-10-softmax\u001b[0m |\n",
      "|  \u001b[1m\u001b[37m60\u001b[0m   | \u001b[1m\u001b[37m1.00e-03\u001b[0m | \u001b[1m\u001b[37m1.00e-03\u001b[0m | \u001b[1m\u001b[32m0.872\u001b[0m |  \u001b[1m\u001b[32m0.820\u001b[0m   | \u001b[1m\u001b[31m0.425\u001b[0m | \u001b[1m\u001b[31m0.627\u001b[0m | \u001b[37m1631698354_Flatten_Dropout02_Dense-64-relu_Dropout05_Dense-10-softmax\u001b[0m |\n",
      "|  \u001b[1m\u001b[37m70\u001b[0m   | \u001b[1m\u001b[37m1.00e-03\u001b[0m | \u001b[1m\u001b[37m1.00e-03\u001b[0m | \u001b[1m\u001b[32m0.900\u001b[0m |  \u001b[1m\u001b[32m0.824\u001b[0m   | \u001b[1m\u001b[31m0.351\u001b[0m | \u001b[1m\u001b[31m0.607\u001b[0m | \u001b[37m1631698354_Flatten_Dropout02_Dense-64-relu_Dropout05_Dense-10-softmax\u001b[0m |\n",
      "|  \u001b[1m\u001b[37m80\u001b[0m   | \u001b[1m\u001b[37m1.00e-03\u001b[0m | \u001b[1m\u001b[37m1.00e-03\u001b[0m | \u001b[1m\u001b[32m0.926\u001b[0m |  \u001b[1m\u001b[32m0.824\u001b[0m   | \u001b[1m\u001b[31m0.292\u001b[0m | \u001b[1m\u001b[31m0.729\u001b[0m | \u001b[37m1631698354_Flatten_Dropout02_Dense-64-relu_Dropout05_Dense-10-softmax\u001b[0m |\n",
      "|  \u001b[1m\u001b[37m90\u001b[0m   | \u001b[1m\u001b[37m1.00e-03\u001b[0m | \u001b[1m\u001b[37m1.00e-03\u001b[0m | \u001b[1m\u001b[32m0.930\u001b[0m |  \u001b[1m\u001b[32m0.848\u001b[0m   | \u001b[1m\u001b[31m0.269\u001b[0m | \u001b[1m\u001b[31m0.616\u001b[0m | \u001b[37m1631698354_Flatten_Dropout02_Dense-64-relu_Dropout05_Dense-10-softmax\u001b[0m |\n",
      "|  \u001b[1m\u001b[37m99\u001b[0m   | \u001b[1m\u001b[37m1.00e-03\u001b[0m | \u001b[1m\u001b[37m1.00e-03\u001b[0m | \u001b[1m\u001b[32m0.942\u001b[0m |  \u001b[1m\u001b[32m0.828\u001b[0m   | \u001b[1m\u001b[31m0.232\u001b[0m | \u001b[1m\u001b[31m0.625\u001b[0m | \u001b[37m1631698354_Flatten_Dropout02_Dense-64-relu_Dropout05_Dense-10-softmax\u001b[0m |\n",
      "+-------+----------+----------+-------+----------+-------+-------+-----------------------------------------------------------------------+\n"
     ]
    }
   ],
   "source": [
    "model.train(epochs=100, init_logs=False)"
   ]
  },
  {
   "cell_type": "markdown",
   "metadata": {},
   "source": [
    "Again the Feed-Forward network has been quite performant to reproduce the training data, less about the validation ones. Overfitting is a general problem in the field."
   ]
  },
  {
   "cell_type": "code",
   "execution_count": 8,
   "metadata": {
    "tags": []
   },
   "outputs": [
    {
     "data": {
      "image/png": "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://epynn.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://epynn.net/73P6666ioCAwN58sknAfj4449ZtWoVHTp0oEuXLoSEhODs7MzLL79M9+7dGTx48AXjefXVV7n55pvp0qVLXtU4GNfF4+PjCQgIIDAwkFWrVuWNGzt2LH369Mmr0tZKlxIRe8dQaXTt2lVyG0hcqidXPcF1/1tOsw59aKIbSWhangMHDtC2bVt7h6FdxLXXXssTTzzBoEGDCh1f2OeolNqu+xYoHl1SLmdD/IYS3NxKyubNWHVvOJqmVRIJCQm0bt0ad3f3IhOydvl0Ui5n/Rr1Y09LJ1RmFmlbt9o7HE3TtGLx8vLi8OHD/PLLL/YOpUrTSbmcVXeujnu3bmQ5K1JWr7F3OJqmaVoFopOyHfRpNoA9TSFh9Ur0NX1N0zQtl07KdtCvYT92tlBI5Bmyjh+3dziapmlaBaGTsh34efoRFWh065yyZq2do9E0TdMqCp2U7aRDwEDC6iiSVusOKjStIrLtTKKkJkyYwMKFC0s5Iu1KoJOynfRv2J8dLSB9+w4sKSn2DkfTtCpEd8tYeemkbCdd63Vlf2s3lMVK6voN9g5H0zQK77rx4MGDdO9+rqv1kydP5nXEMHXqVLp160ZAQAD333//RRtuFtXFY2FdMELh3TUWLIXXqFEDgNWrV9OvXz9Gjx5Nu3btALj++uvp0qUL7du3Z9asWXnzLFu2jKCgIAIDAxk0aBBWq5VWrVoRExMDgNVqpWXLlnnvtfKjO6SwExdHF2p160XSb6upsXgxHsMK71VG065Ifz8HZ/aW7jLrdYDhbxc5uqihttps://epynn.net/cnKyuLEiRM0a9aMn376Ka+npUceeYSXX34ZgDvvvJMlS5YwatSoItdx4403FtrFY2FdMO7fv7/Q7hovZMeOHezbty+vt6c5c+ZQu3Zt0tPT6datGzfddBNWq5WJEyeydu1amjVrRlxcHA4ODtxxxx388MMPTJ48mRUrVhAYGEidOnWKvXu10qFLynbUr+kA1rQTUlavJsd80LymafZh23Wjh4dHvq4bx44dy08//QSQLymvWrWKHj160KFDB1auXMn+/fsvuI59+/bRr18/OnTowA8//JA3/cqVK3nwwQeBc10wFtVd44V07949LyEDzJgxg8DAQHr27ElYWBhHjhxh8+bN9O/fP2+63OXec889ed1AzpkzR/cCZSe6pGxH/Rr2Y05HB0ZttZC4eDHeEybYOyRNqxguUKK1h3HjxnHzzTdz4403opSiVatWZGRk8NBDDxEcHEzjxo159dVXL9rNYnG7eLwQ264ZrVYrWVlZeeNsu2VcvXo1K1asYNOmTVSrVo0BAwZcML7GjRtTt25dVq5cydatWy+rtyvt0lXqkrJSqrFSapVSKkQptV8p9Xgh0yil1Ayl1FGl1B6lVJDNuPFKqSPma3z5Rg/1qtcjx68+MX6eJP72u36QiKbZ0YW6bmzRogWOjo68/vrreaXk3ATn4+NDSkpKsVpbF9XFY2FdMBbVXaOfnx/bt28H4M8//yQ7O7vQdSUmJlKrVi2qVavGwYMH2bx5MwA9e/Zk7dq1nDhxIt9ywegv+Y477uDmm2/G0dGxGHtNK22VOikDOcBTItIO6Ak8rJRqV2Ca4UAr83U/8AWAUqo28ArQA+gOvKKUKve+yDr4dGB1R0cyDx8mIySkvFevaZrpQl03glFa/v777xk7dixgPAt64sSJBAQEMHTo0POmL0xRXTwW1gVjUd01Tpw4kTVr1hAYGMimTZvylY5tDRs2jJycHNq2bctzzz1Hz549AahTpw6zZs3ixhtvJDAwMO8kA2D06NGkpKToqms7qlJdNyqlFgGfishym2FfAqtFZL75/hAwIPclIg8UNl1hSqPrxoLm7pvLzPXT+eZzR2rdfDP1XnqxVJevaZWF7rrR/oKDg3niiSdYt27dJS9Dd914eSp7STmPUsoP6AxsKTCqIRBm8z7cHFbU8ILLvV8pFayUCi6L2wM61ulIqrsivVcHkpYswWpzfUjTNK28vP3229x000289dZb9g7lilYlkrJSqgbwKzBZRJJKc9kiMktEuopI17K4PaCtd1sclSMHetbDkphIyspVpb4OTdO0i3nuuecIDQ2lb9++9g7lilbpk7JSyhkjIf8gIr8VMkkE0NjmfSNzWFHDy5W7kzuta7Vmdf14HDw9Sd2wvrxD0DRN0yqISp2UlVIK+Bo4ICIfFDHZn8BdZivsnkCiiJwG/gGGKKVqmQ28hpjDyl0Hnw7siwvBvWNH0nftskcImqZpWgVQqZMy0Ae4E7haKbXLfI1QSk1SSk0yp/kLOA4cBWYDDwGISBzwOrDNfE01h5W7DnU6kJKdQkbbJmQePYYlOdkeYWiapml2VqkfHiIi6wF1kWkEeLiIcXOAOWUQWol09OkIwInGrjQRIX33Hmr07WPnqDRN07TyVtlLylWCn6cfNZ1rst07CZTSVdiaVgHYdt04d+5cIiMjS7yMmTNn5j26srgOHz7MiBEjaNWqFUFBQYwdO5aoqCgAtm7dSv/+/WnTpg2dO3fmvvvuIy0tjblz51KnTh06deqU9wrRzz2olCp1SbmqcFAOtPdpz87Ug9zSsqVOyppWwcydO5eAgAAaNGhw3jiLxVLk068mTZpU6PCiZGRkMHLkSD744IO8ji1Wr16d11vTzTffzIIFC+jVqxcACxcuJNm83DVu3Dg+/fTTEq1Pq3h0SbmC6ODTgSPxR3AODCB9927EfLatpmnlp7CuGxcuXEhwcDC33347nTp1Ij09HT8/P6ZMmUJQUBC//PJLkV0y2pa2BwwYwJQpU+jevTutW7cu9AEdP/74I7169crX09SAAQMICAjgs88+Y/z48XkJGWDMmDHUrVu3LHeJVs50SbmC6FinIxaxENvCB9fkZLJOnMC1RQt7h6VpdvHO1nc4GHewVJfpX9ufKd2nFDm+qK4bx4wZw6effsr06dPp2vXcQ6m8vb3ZsWMHALGxsYV2yVhQTk4OW7du5a+//uK1115jxYoV+cbv27ePLl26FBrfvn37GD++6Ef0//TTT6xff+6Wyk2bNuHu7l7k9FrFpJNyBdHBx+g0/UADK52A9F27dFLWtHJk23UjkK/rxsLYPjN63759vPjiiyQkJJCSksLQoYX3j37jjTcC0KVLF06ePFk6gdvEo6uvKz+dlCsIb3dvmns2ZzWHCfL0JH3XLrxuusneYWmaXVyoRFtR2HYEUdwuGV1dXQGjz+ScnJzzxrdv3541a9YUOm/79u3Zvn0711133eUHr1VY+ppyBdK7QW+2x+zAtWOAbuylaeXsQl031qxZM69BVWGK6pKxpG677TY2btzI0qVL84atXbuWffv28cgjjzBv3jy2bDn3eP/ffvstr2W2VjXopFyB9G7Qm0xLJnEt6uiHiGhaObtQ140TJkxg0qRJeQ29CiqqS8aScnd3Z8mSJXzyySe0atWKdu3a8fnnn1OnTh3q1q3LggULePrpp2nTpg1t27bln3/+oWbNmoBxTdn2lqiNGzdechya/VSprhvLWll03WgrPSedPvP78GhOf3q+8w+Nv/pKP0REu2LorhurBt114+XRJeUKxN3JnaC6QfxT7bjxEBGzZaemaZp2ZdBJuYLp06AP+zNO4BQYQNKyZeiaDE3TtCuHTsoVTO8GvQEI79eKrOPHydi7184RaZqmaeVFJ+UKpnWt1ni7ebOiRRrK1ZWE33+3d0iapmlaOdFJuYJRStG7QW/WJgRT45pBJP31N9asLHuHpWmappUDnZQroN4Ne5OQmUDioCCsiYmkrFxl75A0TdO0clCpk7JSao5SKlopta+I8c8opXaZr31KKYtSqrY57qRSaq85ruzuc7oEveobD5zf0CAZp7p1SfzjD/sGpGlXINvOJEpqwoQJLFy4sNBx06dPx9/fn06dOtGtW7e8rh2zs7N57rnn8rps7NWrF3///TcAfn5+dOjQIe8e5Mcee+zSNkqr8Cr7YzbnAp8ChXZYKiLvAe8BKKVGAU+ISJzNJANF5GxZB1lS3u7etK7Vmq3RwVw/ehSxc74h5+xZnHx87B2apmmXYebMmSxfvpytW7fi4eFBUlISv5vtRl566SVOnz7Nvn37cHV1JSoqKt8jN1etWoWPPgZUeZW6pCwia4G4i05ouBWYX4bhlKqudbuyO3o31UddCxYLiYuX2DskTavyCuu68eDBg3Tv3j1vmpMnT9Khg9GBzNSpU+nWrRsBAQHcf//9F72Fcdq0aXzxxRd4eHgA4OHhwfjx40lLS2P27Nl88sknec/Hrlu3LmPHji2LzdQqsMpeUi4WpVQ1YBjwiM1gAf5VSgnwpYjMKmLe+4H7AZo0aVLWoebpWq8rPx78kSNe6Xi0akXqxo143z2h3NavafZ0Zto0Mg+UbteNrm39qffCC0WOL6rrRn9/f7Kysjhx4gTNmjXjp59+yush6pFHHuHll18G4M4772TJkiX5+kK2lZSURHJyMs2bNz9v3NGjR2nSpElesi7MwIEDcXR0BGD8+PE88cQTxd52rfKo1CXlEhgFbChQdd1XRIKA4cDDSqn+hc0oIrNEpKuIdK1Tp055xApAl7pGn6rBUcG4tvUn8/Dhclu3pl2JbLtu9PDwyNd149ixY/npp58A8iXlVatW0aNHDzp06MDKlSvZv39/mcW3atUqdu3axa5du3RCrsKuiJIycAsFqq5FJML8G62U+h3oDqy1Q2yFqu1Wm+aezQmOCuaGNt1I+nMxloQEHL287B2appW5C5Vo7WHcuHHcfPPN3HjjjSilaNWqFRkZGTz00EMEBwfTuHFjXn31VTIyMopchoeHBzVq1OD48ePnlZZbtmzJqVOnSEpKumBpWav6qnxJWSnlCVwFLLIZVl0pVTP3f2AIUGgLbnvqWrcrO6N24tSyBQAZurSsaWXmQl03tmjRAkdHR15//fW8UnJuAvbx8SElJaXI1ta2nn/+eR5++GGSkpIASElJ4dtvv6VatWrce++9PP7442SZzyWIiYnhl19+Ke3N1Cq4Sl1SVkrNBwYAPkqpcOAVwBlARGaak90A/CsiqTaz1gV+V0qBsQ9+FJFl5RV3cXWt15WfD/9MWF0HHIHMw0eobtPgRNO00mPbdaOvr2++rhvBKC0/88wznDhxAgAvLy8mTpxIQEAA9erVO2/6wjz44IOkpKTQrVs3nJ2dcXZ25qmnngLgjTfe4MUXX6Rdu3a4ublRvXp1pk6dmjev7TXljh075t1KpVUtuuvGEijrrhsLikmL4epfruapoCfpPXEWNQcPpv7rUy8+o6ZVQrrrxqpBd914eap89XVlVqdaHZp6NCU4ejuurVuTcfiQvUPSNE3TypBOyhVc17pd2RG1A5fWrcg8chSxWu0dkqZpmlZGdFKu4LrU7UJydjIJDT2QtDSyw8PtHZKmlRl9Oa1y05/f5dNJuYLrVs9oPHKgdjqAvl9Zq7Lc3NyIjY3VB/ZKSkSIjY3Fzc3N3qFUapW69fWVoF71ejSs0ZCNrmG0VYqMQ4eoec019g5L00pdo0aNCA8PJyYmxt6haJfIzc2NRo0a2TuMSk0n5UogyDeIDZEbmNS4MZmHj9g7HE0rE87OzjRr1szeYWiaXenq60qgc93OxGXEYW3RmMxDugW2pmlaVaWTciUQ5BsEQFQ9V7JCQ7Gmp9s5Ik3TNK0s6KRcCTTzbIaHiwcHa2eACJlHj9k7JE3TNK0M6KRcCTgoBzr7dmaDm3E7VKZ+iIimaVqVpJNyJdHZtzM7nCPAzU3fFqVpmlZF6aRcSQTVDUKUIqtZfdL37LV3OJqmaVoZ0Em5kmjn3Q5nB2dCW3uSvmcPFrPrN03TNK3q0Em5knB1dCXAJ4CNTdLBYiF14yZ7h6RpmqaVMp2UK5HOvp1ZXuMkDjVrkLJ+nb3D0TRN00pZpU7KSqk5SqlopdS+IsYPUEolKqV2ma+XbcYNU0odUkodVUo9V35RX7og3yCysJAV1JbUdev1M4I1TdOqmEqdlIG5wLCLTLNORDqZr6kASilH4DNgONAOuFUp1a5MIy0FnXw7AXCibS1yoqLIPKIfualpmlaVVOqkLCJrgbhLmLU7cFREjotIFrAAuK5UgysDnq6etPBswdqGRiOv1HXr7RyRpmmaVpoqdVIupl5Kqd1Kqb+VUu3NYQ2BMJtpws1hFV73+t1Zm7Ufl1YtSVmnrytrmqZVJVU9Ke8AmopIIPAJ8EdJF6CUul8pFayUCq4IXcr1rN+T9Jx0UoJakbZ9O9bUVHuHpGmappWSKp2URSRJRFLM//8CnJVSPkAE0Nhm0kbmsMKWMUtEuopI1zp16pR5zBfTrV43HJUje1s6Q3Y2qVu22jskTdM0rZRU6aSslKqnlFLm/90xtjcW2Aa0Uko1U0q5ALcAf9ov0uKr6VKTAJ8A/vU4hapWjVR9a5SmaVqVUamTslJqPrAJaKOUCldK3auUmqSUmmROMgbYp5TaDcwAbhFDDvAI8A9wAPhZRPbbYxsuRa8GvdidGIJrr+4kLl5Cztmz9g5J0zRNKwWVOimLyK0iUl9EnEWkkYh8LSIzRWSmOf5TEWkvIoEi0lNENtrM+5eItBaRFiLypv22ouR61u+JVaycuqUv1owMot+bbu+QNE3TtFJQqZPylaqjT0fcndxZ53wC77vvJnHRIlK36mvLmqZplZ1OypWQs6Mz3ep1Y/Ppzfg8OAnnBg04M3Uqkp1t79A0TdO0y6CTciXVs35PQpNCOWOJp+6LL5J19Bhx8+bZOyxN0zTtMuikXEn1qt8LgM2nN1Pz6oHUGDSImBmfkHHwoJ0j0zRN0y6VTsqVVAuvFvi4+7A+wnjUZv2pr+Ho5UXE45OxpKTYOTpN0zTtUuikXEkppRjZbCTLQ5ez7MQynLy9afjB+2SFh3P6xZd0D1KapmmVkE7KldhjQY/RqU4nXtrwEgdiD1Cta1fqTH6c5GXLiP/hR3uHp2mappWQTsqVmIujCx8O/BBPV08eX/U4semxeN97L9X79SP6gw+wZmbaO0RN0zStBHRSruR83H34+OqPicuI48UNL6IcHKh1+21IWhrp27fbOzxN0zStBHRSrgLae7fnnoB72BCxgdj0WKp3745ydiZF97esaZpWqVSopKyUqmbvGCqrAY0HIAgbIjfgUK0a1bp1JWXdWnuHpWmappVAhUjKSqneSqkQ4KD5PlAp9bmdw6pU2tZuSx33OqwNNxJx9b79yDp6jOzISDtHpmmaphVXhUjKwIfAUIxuFRGR3UB/u0ZUySil6NuwLxsjNpJtzaZG/34ApKzXVdiapmmVRUVJyohIWIFBFrsEUon1b9Sf5OxkdkfvxqVFC5zq1yd1ne5vWdM0rbKoKEk5TCnVGxCllLNS6mmMfo61EuhZvydODk6sjViLUooaffuSunGT7qhC0zStkqgoSXkS8DDQEIgAOpnvtRKo4VKDLr5dWBdulI6r9+uLNTWV9F277BuYpmmaViwVIimLyFkRuV1E6oqIr4jcISKxF5tPKTVHKRWtlNpXxPjblVJ7lFJ7lVIblVKBNuNOmsN3KaWCS3N77Klfo34cTThKZEok1Xv1AicnUtbqKmxN07TKoEIkZaXUN2aCzfcqxqxzgWEXGH8CuEpEOgCvA7MKjB8oIp1EpOulRV7x9GtkNPBaF74Ox5o1qdapk27spWmaVklUiKQMLAGWmhttps://epynn.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://epynn.net/C6/vrz5o149lmSl69A0tPxfnASvo8/ft40f+yMYPJPuwCjtHpD54YM9PelcS3juueB08l8tf44S80Wtjd3bcwjV7ckJSOHe+dtIzo5k8nXtEIEGn/9Aa2CVhttps://epynn.net/y9OM30LuFDyLC5uNxrDgQRecmXgxo41usa5WZORaORaeyPzKRw1HJDGzjS2+bhKxVArvmw9In4ZYfoMXVZb++pEhIi4N6AcWbPj4Ulj4FJ9dDjtnKvO0oGPudcSZYxnRSLj6dlEvgSk7KAG9vfZsfDvzAnKFz6FavW6ksMzkjm9DYtLyWptb0dMIemERacDDVunYlbetW6r36Cl5jxnDq7ntI37ePlA9n0bl/l7xWpJKTw5E+fXHp2w9Hi4XU1atosexvnOvVy1vPqoPRTPw2mK5+tbi3b3MWbg/jvwPR5JitcR0dFBarUMPViXHdGjOhtx+Na58rlcamZPLgDzvYeiKO+qlnmb3iXRzFitOtd9LqlbI5SdEqiT2/wG8TAYEmveGev8tmPTlZcOgv2Pk9HPvPGHbTVxBw04XnSwiDuSMgIxE63gLN+kPUflg9DUZ/AkF3lU28NnRSLj6dlEvgSk/KadlpjFk8BqtY+W30b1RzLrr1b3FkZFsYN2szu8MSeP36AO7s2RQAa2oqhyfci+zdjfOE+2j53FMAnDwUSswtY4lzcmPfix/z1HWdjLiCgwm9407e6XkXR70a88W/73AisDeRk56lUS13ROCZhbtp6VuD+RN7UtPNuP81LjWLA6eT8m6Z8a7hwk1dGuHh5lxovBarEBaXhsM7U0n79x9c/dtgiTlLi/9WVMkWs1Veaixs+gTCbX7THg2hz+NQt13xlrHvN/j1XmjaB1oMhP+mwr3LoXH3i89blJjDkBoDDbuAsxtYso1EvHY6JIUbMXa6zSj1hm2Fm7+BdtcVvqzECCMhp8XD+EXQoLMx3GqF764ztv2BdeDT8sIxnVgLztWg0aXlVZ2Ui6+CXwDRKpJqztV4vc/r3L3sbjhttps://epynn.net/6/m/S16WiPDcr3vYHZZAYCNPXvpjHxlZFu7r14wf957l/Za34lezB7sTWjHku+10buLFjP+O0LHHHby8+nPWfPMNq/3/x4A2vkT/+x85yoGIlh0Z2aU522IH02PbMj6eH8Qxr0aA0ZJ47t3d8xIyQO3qLvmu216Mo4OiflI0x5cuofZdd+Hapg2nn3+ejL17ce/Y8ZL3RaVntcKenyDuOHg1MV61mhrJw9EZslIh5E8jsWQlw6iPbZKDBda8A3t+hpbXQOc7oH7ghatUT22GXycaiasgpaDNcBj2NtTwNYZF7oK/nzWqe/36QrN+EBUCW2YasTXqZsQpAgeXGtsScCN0vhPSYiEhFNITjO2p1dRITmFbjEQVuhEa94TbfjLm3zADNnxsVGPbyko14o7YAa2HGNtYUFYqrJoGmz8HsYKTmxFbwikjhoZd4doPjP3k4AiZyfDdjbDwHhj9KdTrYCwnJxMSTxlV1jvmGScfd/1xbp8DODjADV/CF72Nk4p7l4NTIS3WQzfBqjfh5Drwv/b87dJKnS4pl8CVXlLO9c7Wd/j+wPe8d9V7DPMbdknL+Hz1Ud5ddoinh7TmgataMPmnXSzdcxr/ejU5eCaZfq18eHaoP8v2n+b7zadITM+mZ/PavD+2EzkvTiFuzVqeGP0y3z89jOMjryXSqQYdFnxH+waeWJKSODZiJLi5YZkxmzMO1ejcxOv822QithsHvrrtix13xNPPkPzff7RcsRzl7MzhPn2pfccd1J3yrDGBJRtOrIFmA0re6Of0buOA3nwgBN2Zf5xI6Vz7y0ozqj5bDjZKYYVJOAXh28CrKdTvdOHtiDkEix+HU5sABdgcT5SjkcjS441kXKsZWLKMZDr8HfAfZSSEE2uM5HN6D1gyjeTS90lod72RPGwdWGLM49EQ/Au5fS4zCXb9CM7uMHgqnD1iJLnqdYxEGLrJiAWg/Y0w4Dmo0+bc/GlxsOlT2DwTslPPDXd0MWI/t3HG9dwWV0P/Z8DVfDLWyjeMEu0j28CnlXGisuRJo1RrzTamca4GY76BNuZvRwhttps://epynn.net/PW3s+y53Q6vBcHIDnFwLztWh31PGsILfgYwk+O5647tcmJoN4Oa50KRH4eMPLIaf7jD2/+hPwLetMTw82EjGx1ZCdV/o96QRV1HfmYvQJeXi00m5BHRSNqTnpDP+7/EciDtA/0b9mdJtCk08muSNt1qF0Lg0QiKTEIR29T3w866OVYQ9EYmsPhjNJ6uOcm3HBsy4pRNKGddzn/t1D4t2R/L8https://epynn.net/LLu+c3LSuHQ2eS856glHn8BMdHjWJps9780+YqZix9gzN3PsjA/z12LsbduwkdPwHXNq1p+vmHOLi5QHWzVJyeAMtfNkoRDs4w9E3ofv9Fk17m0aMcHzUa7/vuxfcpo0o9bNKDZBw6RMuV/6EA/ngQds83DqKDXi7eDj2zF1a/DQeXGO8dnOG+FWQ7NkC5OONUs5px4MxKhbHfntuOkjp7FH6+E6JDwLuVUWL162MkhdCNRgnx+GqjVJbLpea5A3p8KCSGGQnPqwnUrG8ctF2qw5A3oeNYSIowpsst3SWcAidX41pm095G0vttonFi4FwdxAIjphsnIenxsO9X2DILzh4https://epynn.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://epynn.net/owRchixWiwz+ZbB0/razBMwNkGfXPCtPr35aAucFyp7o4pWMrnTpBw9J/MJfS1y9m7Znrxzs1t1IXBMn5g1P/Ocfo/X22rV5w3Jb4Z796ut86z3YOUhC774nb91ZUVFG6/DP859U5cTHy4GOgXnVwNEfzzCqy2+5NW9dCYuXnLfeXBHPvyAHOwflJeKkVaskJKCDxP/yS77pYmYZpfTM0FDJOn1aoj76yFjmunMlz8ywcDnQqbMcCOx03glFwp+LJfyppyU7JkZERE6MHScnxo676L5M3b5dQtr4S+zcuSJiJOOExUvkyNWD8pJwwp+LJW3vPslJvnA1tyUjQyKenSIh/m3zVSMXR/xvvxs1Jq+/YcQzb16x5ov7+WfjEsMff5w3LjsuzvjsZ88uUSwF6aRc/JfdA6hMr8qQlNMyc+R/v++RplOWyOQFOyU7LUlkxVSRNxuI9RVPsbzZUOTtpkbJt6BVbxml4y2zyi3ez3d+Ll2+6yILDy0Uq9UqiZmJcs0v18jI30ZKalbqBee1Wq1yIuGEXa43VgXp+/dL6H0TJePYuVKbNTNTDvXoKeFPGNf6k1atkkN9+sqxUaPPK3nFzpuX7/aruAU/GSXiQ4fOW1fE8y/Igc5Bkrpjh4QEdJDwp58RS3q6HBs1Wg716CnHrrtejgweUmj1e+r2HRLShttps://epynn.net/lF0nbtkgOBnYzS4IiR+T77Y9ddny+JWjIz5cg1g43Yc3LEarVK6MSJcqBzkBwI6CARz7+QN21mWJgc6NRZQtr4y+G+/STpv5US0radRH/8cbH25cm7xsuhvn2Na/adgySkjb8cG31dXg1ESeQkJMjB7j3ynfBcjNVqlWPXXS/Hrh1lbOe998nBrt0k++zZC68rOVkO9egpJ267vch1HRl0jYQ9PrnE22FLJ+Xiv+weQGV6VbikHLpZ5NiqvLd7wxPk6umrpOmUJfLGkv1isViNa7+veBhV0lEHRGKPi3zcWeR1X+Oe39xrwYf+EXnFU+Shttps://epynn.net/1vGLFbLecl3S+QW6TC3g0zdOLXI+WLSYmTyyskSMDdA5u6bW9ZhXlFOT31dDnToKKcefjgv+RWWaK2ZmXJ0yFA5OnyEWLOyJHTiRDlyzeBCD+5pe/ZKSBt/Odg5SA716CnZsbEiIpJx7LgcMJPY2a/nFBqP1WqVoyNHytERI+VQj55y5JrBeaXilM1bjOWYDcxi532bb97Ev/82Gp79/LMkLl2aV6I98/Y7Rmn0wAEjid19jxzsHCRJq1blVSGHtPGX1ODgYu2z1K1bJcS/rRzq21ciX3pZklevPu8SQEnEzp1bZM1BYVI2bc47cRERyTh2TELaB0jkiy9eeD3ffmdcs9+1q8hpwiZPliNXDyp+8IXQSbn4L7sHUJleFSopZ6WLvNdaZFojSYiNkXeXHZAWzy+VHm+ukHWHjeo3yc4UeaeZ0TDLVkqMyKyBRrJ+rbbIhx1E3mwg8kUfkazCWweXt/e2vicBcwPk/n/vl0Nx5xJCRk6G/Hn0T+kzv490/razXPvbtdLrx16SkJFgx2irlrS9+/JaGMd8OUusmYU/jEXEpmp79mw5ENBBzkx7q8hpj4+52Ugcv/+eb3jiP//IiVtulZz4+CLnzU1Sh3r1lsyTJ8WSni4Hu/fIK8HlXv/NiorKN5/VapUT426RQ337yqE+feX4jTeJNSfnXGn0nnsl/nej2jf2++9FxCg9hj/5lFESL+Z1WRGjVXVpNfCzZmbKkcHGQzyK0xjx1KQH5VCv3vkatuWeeEQ8O0Uyjh07fx0WixwdMvSiVfRnv/pKQtr4S3ZcXMk3xKSTcvFfdg+gMr0qVFLeMiuvVfSnL98nTacskcfn75D4VJsD6IElxjhttps://epynn.net//sxUkR3fiax4TeSXe0QW3C4Sd6Lcwr+YbEu2zNs3T3r/2Fs6zusok1dOltuW3iadvu0kAXMD5LYlt8mx+GNyOO6wdJzXUd7Z+o69Q65SklaskMywsItOZ7Va5eSdd+Xd3pOyZUuR06Zu2ybRH8+4pMsNOYmJEjHlOUnbd+52nzNvvyMh7QMkKypKjg4dJifHTyh8vTuM6u+Qdu0lff/+vOG5if5AYCc5ccutFe5pZonLjOv7cfMXXHC6jGPHjKeNfTwj33BLWpqcmfaWUd3v31bCJk/O12gtec0a41ry4iUXXH5uKTx57bpL3hadlIv/qtTPvi5vFeXZ1ympqcjHnTmSVYtYS3V6Ox8ifPxW2jRtmH/CBbcbvSU9GWL0XFQJJWYmMnP3TJYcX0Jzz+YE+gYS5BtEv4b9cDR7hXpl4yv8eexP/rz+TxrXbHyRJWqlLX3/fk6OuRlHDw9abVhfbg/CyDp5kmPDhlNz8DUkL19BvdenUuvmmwudNubzz3H08qL2bbflDct9TnjOmTM0++P3wjsqsSMRIfSOO0nfsQOvMTdR57HHcKpzrpcvycoi7ocfOfv554jFQst/luUbnysnLo64ed8SO2cO1Xv0oPGXM1GOjpyaeD+ZBw/S8r8VqAs82MWSnMzhbt2pM/lxfCZNuqRt0c++Lj6dlEugIiTln7eFcfivGbwos/ig7tuM6hVAqz+uhatfMjpKz5V6Ft5vAz0mwdA37RdwOYhOi2bkbyMZ2Hggr/R+heWhy1kRuoIbWt3AoCaD7B3eFeHszJk4VKtO7bvuLNf1nrr3PlI3bABnZ1qvW3ve40MvJvPECSxxcVTr0qVsArxMlqQkzn72OXE//ohydsZjxHCUszNYhdTNm8gOPUX1/v2o++yzuLZsecFlxf/8M2defgXviRPxvOEGjo8Ygc9jj1LnoYcuGsexYcNxa9eWhh98cEnboZNy8emkXAL2TsqLdkXw1IJgNlZ/muq1G1L9oVVG13s/3Gx0Dzh5r9HLEpg9Kk2BBzdC3fZ2i7m8fLLzE2btmYW7kzvpOem4OhrPSp43bB7tfar+9l+phttps://epynn.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://epynn.net/cpqN2jaRemScglcbkn5521hxC16ngdclqGeCwWX6qUYnaZVbCJCWHIYJ5NOcjLxJJmWTIb5DaOxh9GDakRKBJ/s/ISVp1Yyre80rml6TaHLybHmcCD2AC28WuRrEb7sxDJe2/QaTg5OvH/V+3Sv3z3fPDujd7I6bDWrw1bndf7h7eZNnWp1CE0KJT0nHXchttps://epynn.net/k/9mNJSpkvKxaeTcglcblJ+7tc93Ll3PO2a1EXds6wUI9O0qsMqVhzUpXX1HpoUymMrHyM0KZRnuj1DkG8Qfx77k79O/EVcRhzODs50r9+dfg370bN+T5p7NkcphVWsHIk/wu1/3c7AxgN576r3Ljn+9Jx0fj70M4OaDKJRzUb5xu2P3Y+fhx/Vna+sE3KdlItPV1+Xo6Mnw2jLCVTzcfYORdMqrEtNyABNPZryw4gfeH7987y99W0AnB2cGdB4AMObDad3g96FJkQH5UCb2m24N+BePt/9OWPbjKVbvW4lXn9seiyPrnyUvWf3MnvvbN7t/y69G/QmIyeD97a9x8+Hf6Z7ve7MGjwLRwfHS95OrerSSbmcJGVk4xO3FQdngWZX2TscTauyarjU4OOBH/P7kd+xiIWhfkPxdPUs1rx3B9zNomOLmLZlGr+M+oUsSxaz9sxixakV1HCuQW232lR3rk58Zjyx6bGk56TTq0EvhvkNo457HR7+72HOpp/lxR4vsuDQAh5c8SD3BNzD6rDVHE04St+GfVkfsZ7Ze2czKXBS3npzrDnsidnD2vC1rItYh39tf97o80apPZo0LTuNpSeWMtxvODVcapTKMrWyoauvS+Byqq/XHznL8XmTuN1tA47PhYKTSylHp2laafjv1H9MXjWZkc1HsvX0VmLSY+jTsA8AcelxpGan4uXmhY+bD0opNkZuJD0nHTAecfrJ1Z/QsU5H0rLTeHnjy/xz8h+83byZ1ncavRr04vn1z/P3ib+ZM3QOXep2YU3YGt7a+hYRKRE4KSeaeTXjSPwRnuv+HLe3vT0vruSsZCJSImjh2QJnx/NbmFvFyo8HfmTFqRW81vs1mno0zRv+1OqnWHFqBR3rdGTmNTOLvKWtrOjq6+Kr9ElZKTUM+BhwBL4SkbcLjH8SuA/IAWKAe0Qk1BxnAfaak54SkdEXWtflJOUZ/x1h5JpRNGnZHue7fr2kZWiaVvZEhEkrJrExciPtvdvzfI/nCawTWOT06TnprAtfx76z+7i59c15Dddyl7UuYh3tvdvj7W48Tjc1O5Wxi8eSYcmgvXd7VoWtorlncx4MfJA+DftQw7kGj618jPWR6/l++Pe092nPvrP7mLxqMlFpUbg6utLOux2dfDvRo14POvt2JjY9lhc3vMiO6B04OThR29V4/rmfpx+f7PyEWXtmMbL5SP458Q9tvdsyc/DMfPd7lzWdlIuvUidlpZQjcBgYDIQD24BbRSTEZpqBwBYRSVNKPQgMEJFx5rgUESl2Xc7lJOUnZv/FhxG3wpA3oLfuc1bTKrL4jHj2nt1L34Z9L+sad1FCYkO44687cHJw4oGOD3BXu7vylX4TMxMZs3gMTsqJCe0n8O62d/Fx92FS4CSOJhxld8xu9sfuJ8eag5ODE47KERcHF6Z0n0I773bc9+99OCpHbmt7Gx/v+JgbW93Iq71eZXXYap5c8yRtarVhxtUzinxSWnRaNC+sf4Euvl2YFDjpsqvRdVIuvsqelHsBr4rIUPP98wAi8lYR03cGPhWRPub7cknKIsJLU1/kDfkUHlgH9TuWeBmaplUtB+MO4uXqVeTtV7uidzFh2QQsYqF7ve5Mv2p6vp7B0rLT2BW9iy1ntpCUlcQDHR/IW9bR+KPc+++9xGXE0aVuF2YPnp2X9NeEreHJ1U/i6ODIxA4Tuav9Xbg6uuYt90TiCSYtn0RUWhQWsTCuzThe6PHCZZ2c6KRcfJU9KY8BhonIfeb7O4EeIvJIEdN/CpwRkTfM9znALoyq7bdF5I9C5rkfuB+gSZMmXUJDQ0sc57GYFHbNuIWR7vtwe+44OJT+mbemaVXP4mOLiUiJ4N4O95b4SWXHE44z/+B8Huz0ILXdaucbF5YUxvvb3https://epynn.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\n",
      "text/plain": [
       "<Figure size 432x288 with 1 Axes>"
      ]
     },
     "metadata": {
      "needs_background": "light"
     },
     "output_type": "display_data"
    }
   ],
   "source": [
    "model.plot(path=False)"
   ]
  },
  {
   "cell_type": "markdown",
   "metadata": {},
   "source": [
    "We will not try to optimize this Feed-Forward network to go ahead with Convolutional networks."
   ]
  },
  {
   "cell_type": "markdown",
   "metadata": {},
   "source": [
    "## Convolutional Neural Network (CNN)"
   ]
  },
  {
   "cell_type": "markdown",
   "metadata": {},
   "source": [
    "As detailed in [Basics with images](nnlive/dummy_image/train.html#Convolutional-Neural-Network-(CNN)), CNNs are preferred when it comes to consider *a priori* spatial relationships between data points."
   ]
  },
  {
   "cell_type": "markdown",
   "metadata": {},
   "source": [
    "### Embedding"
   ]
  },
  {
   "cell_type": "markdown",
   "metadata": {},
   "source": [
    "Using same embedding configuration than above."
   ]
  },
  {
   "cell_type": "code",
   "execution_count": 9,
   "metadata": {},
   "outputs": [],
   "source": [
    "embedding = Embedding(X_data=X_features,\n",
    "                      Y_data=Y_label,\n",
    "                      X_scale=True,\n",
    "                      Y_encode=True,\n",
    "                      batch_size=32,\n",
    "                      relative_size=(2, 1, 0))"
   ]
  },
  {
   "cell_type": "markdown",
   "metadata": {},
   "source": [
    "Note that we use only *500 + 250* sample images herein. Benchmarks using the MNIST Database generally employ the whole 60 000 images for the training set itself, but it is likely to overload the RAM or not run at all on many system configurations. "
   ]
  },
  {
   "cell_type": "markdown",
   "metadata": {},
   "source": [
    "### Conv-MaxPool-Flatten-Dense"
   ]
  },
  {
   "cell_type": "markdown",
   "metadata": {},
   "source": [
    "Using a single *Convolution-Pooling* block with ``16`` filters and *4x4* filter window for the *Convolution* layer."
   ]
  },
  {
   "cell_type": "code",
   "execution_count": 10,
   "metadata": {
    "tags": []
   },
   "outputs": [],
   "source": [
    "name = 'Convolution-16-2_Pooling-3-Max_Flatten_Dense-10-softmax'\n",
    "\n",
    "se_hPars['learning_rate'] = 0.005\n",
    "se_hPars['softmax_temperature'] = 5\n",
    "\n",
    "layers = [\n",
    "    embedding,\n",
    "    Convolution(unit_filters=16, filter_size=(2, 2), activate=relu),\n",
    "    Pooling(pool_size=(2, 2)),\n",
    "    Flatten(),\n",
    "    Dense(10, softmax)\n",
    "]\n",
    "\n",
    "model = EpyNN(layers=layers, name=name)"
   ]
  },
  {
   "cell_type": "markdown",
   "metadata": {
    "tags": []
   },
   "source": [
    "Initialize the model with *Categorical Cross Entropy* loss."
   ]
  },
  {
   "cell_type": "code",
   "execution_count": 11,
   "metadata": {
    "tags": []
   },
   "outputs": [
    {
     "name": "stdout",
     "output_type": "stream",
     "text": [
      "\u001b[1m--- EpyNN Check OK! ---                                                                             \u001b[0m\r"
     ]
    }
   ],
   "source": [
    "model.initialize(loss='CCE', seed=1, se_hPars=se_hPars.copy(), end='\\r')"
   ]
  },
  {
   "cell_type": "markdown",
   "metadata": {},
   "source": [
    "Train for 20 epochs."
   ]
  },
  {
   "cell_type": "code",
   "execution_count": 12,
   "metadata": {},
   "outputs": [
    {
     "name": "stdout",
     "output_type": "stream",
     "text": [
      "\u001b[1m\u001b[37mEpoch 9 - Batch 14/14 - Accuracy: 0.75 Cost: 0.52838 - TIME: 4.05s RATE: 4.09e+01e/s TTC: 0s        \u001b[0m\n",
      "\n",
      "+-------+-------------+----------+-------+----------+-------+-------+--------------------------------------------------------------------+\n",
      "| \u001b[1m\u001b[37mepoch\u001b[0m |    \u001b[1m\u001b[37mlrate\u001b[0m    |  \u001b[1m\u001b[37mlrate\u001b[0m   |       | \u001b[1m\u001b[32maccuracy\u001b[0m |       |  \u001b[1m\u001b[31mCCE\u001b[0m  |                             \u001b[37mExperiment\u001b[0m                             |\n",
      "|       | \u001b[37mConvolution\u001b[0m |  \u001b[37mDense\u001b[0m   |  \u001b[1m\u001b[32m(0)\u001b[0m  |   \u001b[1m\u001b[32m(1)\u001b[0m    |  \u001b[1m\u001b[31m(0)\u001b[0m  |  \u001b[1m\u001b[31m(1)\u001b[0m  |                                                                    |\n",
      "+-------+-------------+----------+-------+----------+-------+-------+--------------------------------------------------------------------+\n",
      "|   \u001b[1m\u001b[37m0\u001b[0m   |  \u001b[1m\u001b[37m5.00e-03\u001b[0m   | \u001b[1m\u001b[37m5.00e-03\u001b[0m | \u001b[1m\u001b[32m0.594\u001b[0m |  \u001b[1m\u001b[32m0.564\u001b[0m   | \u001b[1m\u001b[31m1.880\u001b[0m | \u001b[1m\u001b[31m1.916\u001b[0m | \u001b[37m1631698377_Convolution-16-2_Pooling-3-Max_Flatten_Dense-10-softmax\u001b[0m |\n",
      "|   \u001b[1m\u001b[37m1\u001b[0m   |  \u001b[1m\u001b[37m5.00e-03\u001b[0m   | \u001b[1m\u001b[37m5.00e-03\u001b[0m | \u001b[1m\u001b[32m0.728\u001b[0m |  \u001b[1m\u001b[32m0.716\u001b[0m   | \u001b[1m\u001b[31m1.083\u001b[0m | \u001b[1m\u001b[31m1.149\u001b[0m | \u001b[37m1631698377_Convolution-16-2_Pooling-3-Max_Flatten_Dense-10-softmax\u001b[0m |\n",
      "|   \u001b[1m\u001b[37m2\u001b[0m   |  \u001b[1m\u001b[37m5.00e-03\u001b[0m   | \u001b[1m\u001b[37m5.00e-03\u001b[0m | \u001b[1m\u001b[32m0.770\u001b[0m |  \u001b[1m\u001b[32m0.728\u001b[0m   | \u001b[1m\u001b[31m0.767\u001b[0m | \u001b[1m\u001b[31m0.824\u001b[0m | \u001b[37m1631698377_Convolution-16-2_Pooling-3-Max_Flatten_Dense-10-softmax\u001b[0m |\n",
      "|   \u001b[1m\u001b[37m3\u001b[0m   |  \u001b[1m\u001b[37m5.00e-03\u001b[0m   | \u001b[1m\u001b[37m5.00e-03\u001b[0m | \u001b[1m\u001b[32m0.782\u001b[0m |  \u001b[1m\u001b[32m0.792\u001b[0m   | \u001b[1m\u001b[31m0.661\u001b[0m | \u001b[1m\u001b[31m0.748\u001b[0m | \u001b[37m1631698377_Convolution-16-2_Pooling-3-Max_Flatten_Dense-10-softmax\u001b[0m |\n",
      "|   \u001b[1m\u001b[37m4\u001b[0m   |  \u001b[1m\u001b[37m5.00e-03\u001b[0m   | \u001b[1m\u001b[37m5.00e-03\u001b[0m | \u001b[1m\u001b[32m0.814\u001b[0m |  \u001b[1m\u001b[32m0.788\u001b[0m   | \u001b[1m\u001b[31m0.573\u001b[0m | \u001b[1m\u001b[31m0.668\u001b[0m | \u001b[37m1631698377_Convolution-16-2_Pooling-3-Max_Flatten_Dense-10-softmax\u001b[0m |\n",
      "|   \u001b[1m\u001b[37m5\u001b[0m   |  \u001b[1m\u001b[37m5.00e-03\u001b[0m   | \u001b[1m\u001b[37m5.00e-03\u001b[0m | \u001b[1m\u001b[32m0.820\u001b[0m |  \u001b[1m\u001b[32m0.784\u001b[0m   | \u001b[1m\u001b[31m0.585\u001b[0m | \u001b[1m\u001b[31m0.707\u001b[0m | \u001b[37m1631698377_Convolution-16-2_Pooling-3-Max_Flatten_Dense-10-softmax\u001b[0m |\n",
      "|   \u001b[1m\u001b[37m6\u001b[0m   |  \u001b[1m\u001b[37m5.00e-03\u001b[0m   | \u001b[1m\u001b[37m5.00e-03\u001b[0m | \u001b[1m\u001b[32m0.866\u001b[0m |  \u001b[1m\u001b[32m0.816\u001b[0m   | \u001b[1m\u001b[31m0.434\u001b[0m | \u001b[1m\u001b[31m0.613\u001b[0m | \u001b[37m1631698377_Convolution-16-2_Pooling-3-Max_Flatten_Dense-10-softmax\u001b[0m |\n",
      "|   \u001b[1m\u001b[37m7\u001b[0m   |  \u001b[1m\u001b[37m5.00e-03\u001b[0m   | \u001b[1m\u001b[37m5.00e-03\u001b[0m | \u001b[1m\u001b[32m0.774\u001b[0m |  \u001b[1m\u001b[32m0.744\u001b[0m   | \u001b[1m\u001b[31m0.610\u001b[0m | \u001b[1m\u001b[31m0.773\u001b[0m | \u001b[37m1631698377_Convolution-16-2_Pooling-3-Max_Flatten_Dense-10-softmax\u001b[0m |\n",
      "|   \u001b[1m\u001b[37m8\u001b[0m   |  \u001b[1m\u001b[37m5.00e-03\u001b[0m   | \u001b[1m\u001b[37m5.00e-03\u001b[0m | \u001b[1m\u001b[32m0.842\u001b[0m |  \u001b[1m\u001b[32m0.816\u001b[0m   | \u001b[1m\u001b[31m0.426\u001b[0m | \u001b[1m\u001b[31m0.639\u001b[0m | \u001b[37m1631698377_Convolution-16-2_Pooling-3-Max_Flatten_Dense-10-softmax\u001b[0m |\n",
      "|   \u001b[1m\u001b[37m9\u001b[0m   |  \u001b[1m\u001b[37m5.00e-03\u001b[0m   | \u001b[1m\u001b[37m5.00e-03\u001b[0m | \u001b[1m\u001b[32m0.878\u001b[0m |  \u001b[1m\u001b[32m0.856\u001b[0m   | \u001b[1m\u001b[31m0.389\u001b[0m | \u001b[1m\u001b[31m0.580\u001b[0m | \u001b[37m1631698377_Convolution-16-2_Pooling-3-Max_Flatten_Dense-10-softmax\u001b[0m |\n",
      "+-------+-------------+----------+-------+----------+-------+-------+--------------------------------------------------------------------+\n"
     ]
    }
   ],
   "source": [
    "model.train(epochs=10, init_logs=False)"
   ]
  },
  {
   "cell_type": "markdown",
   "metadata": {},
   "source": [
    "The overfitting using this CNN architecture is reduced compared with the pure Feed-Forward design. However, accuracy remains slightly lower for both training and validation data.\n",
    "\n",
    "Note the ``learning_rate`` may be a bit too high here: there are jump up and down for both accuracy and loss, particularly visible on the validation set."
   ]
  },
  {
   "cell_type": "code",
   "execution_count": 13,
   "metadata": {
    "tags": []
   },
   "outputs": [
    {
     "data": {
      "image/png": "iVBORw0KGgoAAAANSUhEUgAAAccAAAEWCAYAAAATnlw4AAAAOXRFWHRTb2Z0d2FyZQBNYXRwbG90bGliIHZlcnNpb24zLjQuMywgaHR0cHM6Ly9tYXRwbG90bGliLm9yZy/MnkTPAAAACXBIWXMAAAsTAAALEwEAmpwYAABipklEQVR4nO3dd3wUZf7A8c83yaYXAkkoCUmQ3gwdpIlgBPtZwPPUU89y6CmWs56eotjP8+zn6anoT896Z0FBKaGogAiCCkgnIaEnkLLpyT6/P2YSNiENSLKb5Pt+vfaV7DyzM9+dnZ3vPs88M48YY1BKKaXUET6eDkAppZTyNpoclVJKqWo0OSqllFLVaHJUSimlqtHkqJRSSlWjyVEppZSqRpNjGyciqSJy+nG+Nl5EnCLi29hxtWYiYkSkh/3/KyLyV0/H5M3ct5dqHUTkAhFJt48fgz0dT00alBxF5CYRWS0ixSIyu1pZsIi8LCKZIpIjIsvcym4TkR0ikisie0TkHyLi51Y+S0R+EZEyEZlZw3qjReQ/9nIPi8i7bmWxIvKZiBwSkQwRmV7ttRNF5Ed73TtE5Hq3stPs9WaLSJaIfCIisW7lG+wPreJRJiJz7LJx1cqc9pf3ogZsx14i8pHbtvpZRG5vKcmleiI1xuwyxoQaY8qbYF0DRORre1vVeDGuiPxWRH4VkXwR2S4i42qZL0BEXheRNBHJE5F1InJmA2KYICIu+zPOE5HNInL1ib43d8aY6caYWY25zAr1ff9qmH+2vS+fX236P+zpVzVFnPY6lohIUbXv1SnHuIxEO073Y8xVIvJt40d81Lpni0iJvZ/kich6EXlcRCKaet3HQkT8ReRj+7tsRGRCtXIRkSft42KW/b80QShPAzcZY0KBwhttps://epynn.net/Q0JrjHuAR4I0ayl4F2gN97b+3uZV9DgwxxoQDA4AkYIZb+TbgLuDLWtb7P2AfEA/EYG3QCu8AO4GOwNnAYyJyGoCIOIBPgH8BEcAlwDMikmS/diMw2RjTDugCbAX+WbFgY0x/+6AfCoQB6cBHdtk3FWV2+TmAE/iqlveAHVN34Ht7WQONMRHAVGCYvQ5VVSnwIXBNTYUikgw8CVyNtf3GAztqWZYf1nY/Fhttps://epynn.net/4UEQSGxDHHvtzDgfuBl4TkX4NfxseVd/3ryZbgN9XPLEPWNOA7U0VpJub3L9bxpgVzbDOxvSUMSYMiMbaL0cB34lIiGfDOsq3wOVYx9bqrgd+g7WvnAycC/yxCWJIADY0wXIbjzGmwQ+sBDnb7XkfIBcIb8BrOwALgZdrKHsHmFlt2hlAKuBbw/yhgAGi3aa9Cvyf/X9HuzzYrfwH4NIalhUAPA5srCXuU4E8IKSW8jeBNxvw/t8BvqxnnvOwdphsYAnQ160sFbgD+BnIAT4AAu2yX4Fz3Ob1Aw5iHRgbstzT7f9nA4+4lU0AMuz//w9wAYVYPwbuAhLt7exnz9MF64B8COuHz3Vuy5qJlezetrfnBmBYA7ZbD2s3PWr6cuCaY9l/q73+Z+CieuapfP9u0w4CF9v7zbNYPxz32P8HuM13nb0NDtnbpItbmQF6VN/mFesD/gwcAPYCV1f7Ds3B+s79gPV9/LaB77fW75/bPLOxfoDuByLtaecA87AOqFfZ07oDKUAWkAm8C7RzKzvktu91sbfZhHriWwJcW0uZ+/Y6G1hrb4N03I4bwC57Xqf9OAUoAsrt59lu3/mn7fn3A68AQQ35DOrZdo9UmxZmv/4mt2l/wPq+Hga+BhKqvc/pWD/Ws4GXAHH7HizF+u5nAh+4va4PsMDe7puBaQ3cJzKqfy5Y36vr3Z5fA6ysYxlXYf0ozcOqrFxmT/fB+hGaZm/Ht7F+mAbYn4UB8rF+dNX0uV0FfAf8w94WO4DR9vR0e5lXusVR135xiR1buP38TKwfBtF1bp9jPKBUT46/B36x30Cm/f9F1V7zOztgg/UlSaphuTUlxwfsnecdrC/hD8CpbjudAWLc5n8NWOv2/D/AnwBfe2MfALq6lcfbG92FVUu5qpb3/Ib7e65WFmLvFHV+8e1591HHlwzoZe8syYADK/lsA/zt8lRgFdbBpj3WF2y627Z6t9qO8usxLLfe5Fh9Xvt5IlWT4zLgZSAQGGR/3hPtsplYB6qz7M/kcer40rmt46jkaL++BLjHfi8ZwIvYB7gGLLOjHUufeuarfP9YX/YL7H2lN/AwsBKrRSMa66Ayy553Itb3YQjWweAFYJnbcutKjmX2sh32tirgSKJ6334EA/2wDgJ1Jkca8P1zm3c21nf8VeAGe9qHwKVUTY497P0pwH7vy4Bn3ZZzHVbrTDDWd/jpBnwmS2hYcpwADLQ/j5Oxkttvatof7WlXVd9GWMerz7G+R2FYPzgeb8hnUN+2q2H629iJDDgfhttps://epynn.net/UD9n5gebX3+QXQDuv4dBCYYpe9B9xnv+9AYKzbMSgdq6bqBwzG2vf6NWCb15Qcc4CRbs+HAXm1vD7E3rd6288https://epynn.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://epynn.net//6V32bvU3S5NhAS9OXctfmO3grxmpa1eSolPf55ptvuOCCCwgODgbgvHq+p5dccknl/+vXr+f+++8nOzsbp9PJ5MmTa3zNhRdeCMDQoUNJTU09qtwYw1/+8heWLVuGj48Pu3fvZv/+/aSkpDB16lSioqIAaN++PQApKSmV5zR9fX2JiIioNzm6x52RkcEll1zC3r17KSkpqbw+ceHChbz//vuV80VGRgIwceJEvvjiC/r27UtpaSkDBw6sc11tlSbHBuoV2YuC8iJ2j+hNl6+/ozwnB9+ICE+HpZTXqquG5y1CQkIq/7/qqqv49NNPSUpKYvbs2SxZsqTG1wQEBABWIqvpnN+7777LwYMHWbNmDQ6Hg8TExGO+btDPzw+Xy1X5vPrr3eO++eabuf322znvvPNYsmRJZfNrba699loee+wx+vTpw9VXX31McbUles6xgTqHdmZg1EC+PCkXSkvJW7jI0yEppaoZP348n376KYWFheTl5TFnzpzKsrCwMPLy8mp9bV5eHp07d6a0tJR33333uGPIyckhJiYGh8PB4sWLSUuzRnqaOHEiH330EVlZWQCVzaqTJk3in//8J2B1DMrJyaFjx44cOHCArKwsiouL+eKLL+pcX2xsLABvvfVW5fTk5GReeumlyucVtdGRI0eSnp7Of/7zHy699NLjfp+tnSbHY5CckMyC4B1IbCdy52mvVaW8zZAhQ7jkkktISkrizDPPZPjw4ZVlV111FdOnT6/skFPdrFmzGDlyJGPGjKFPnz7HHcNll13G6tWrGThwIG+//Xblsvr37899993HqaeeSlJSErfffjsAzz33HIsXL2bgwIEMHTqUjRs34nA4eOCBBxgxYgTJycl1xjNz5kymTp3K0KFDK5tswTpvevjwYQYMGEBSUhKLFy+uLJs2bRpjxoypbGpVRxNjjKdjaFbDhg0zxzvYcXpeOmf97yye3TSMLp//QM9vv8FPdy6lKv3666/07dvX02GoepxzzjncdtttTJo0qcbymj5HEVljjBlW4wtaIa05HoOuYV3p274vX56UDeXl5H0939MhKaVUg2VnZ9OrVy+CgoJqTYzKosnxGCUnJLPAsRWfhK7atKqUalHatWvHli1b+OijjzwditfT5HiMkhOSQYTdIxIo+OEHyg4e9HRISimlGpnXJkcReUNEDojI+lrKI0Rkjoj8JCIbRKRZ+iQnRiTSM7InX3bLBpeLXG1aVUqpVsdrkyMwG5hSR/mfgI3GmCRgAvB3EfFvhrisplXfzfh276ZNq0op1Qp5bXI0xiwDDtU1CxAm1uBjofa8zXIX3jMSzsBgyBiZSOGaNZTu29ccq1VKKdVMvDY5NsCLQF9gD/ALcIsxxlXTjCJyvYisFpHVBxvhHGH3dt3pFtHNaloFcr/66oSXqZRqfO43DT9WV111FR9//HEjR6RaipacHCcD64AuwCDgRREJr2lGY8yrxphhxphh0dHRjbLy5IRkFpoN+PXppcNYKaUanQ5H5VktOTleDfzPWLYBO4Hjv63FMToj4QxcxsXukQkU/fwzJRkZzbVqpVQdahqyatOmTYwYMaJyntTU1Mobbj/88MMMHz6cAQMGcP3111PfjVFqG9qqpqGnoOZhqqrXSkNDQwFYsmQJ48aN47zzzqNfv34A/OY3v2Ho0KH079+fV199tfI1X331FUOGDCEpKYlJkybhcrno2bMnFa1jLpeLHj160BitZW1RS77x+C5gEvCNiHQEegM7mmvlvSJ7ER8Wz5eJ2fwByJ03jyh7uBulFDDvHtj3S+Mus9NAOPOJWotrG7KqT58+lJSUsHPnTrp168YHH3xQObLFTTfdxAMPPADAFVdcwRdffMG5555b6zouvPDCGoe2qmnoqQ0bNtQ4TFVdfvzxR9avX185usYbb7xB+/btKSwsZPjw4Vx00UW4XC6uu+46li1bRrdu3Th06BA+Pj5cfvnlvPvuu9x6660sXLiQpKQkGqu1rK3x2pqjiLwHrAB6i0iGiFwjItNFZLo9yyxgtIj8AiwC7jbGZDZjfFav1dKfcQzop71WlfIC7kNWhYeHVxmyatq0aXzwwQcAVZLj4sWLGTlyJAMHDiQlJYUNGzbUuY7169czbtw4Bg4cyLvvvls5f0pKCjfccANwZOip2oapqsuIESMqEyPA888/T1JSEqNGjSI9PZ2tW7eycuVKxo8fXzlfxXL/8Ic/VA5/9cYbb+ioGyfAa2uOxpg6bxdvjNkDnNFM4dQoOTGZ19e/TsbIRDq+PpeS1FT8ExM9GZJS3qOOGp4nXHLJJUydOpULL7wQEaFnz54UFRVx4403snr1arp27crMmTPrHV6qoUNb1cV9SCqXy0VJSUllmftwVEuWLGHhwoWsWLGC4OBgJkyYUGd8Xbt2pWPHjqSkpLBq1aoTGl2krfPammNL0K99P2JDY/ky0RoKRmuPSnlWXUNWde/eHV9fX2bNmlVZa6xINFFRUTidzgb1Tq1taKuahp6qbZiqxMRE1qxZA8Dnn39OaWlpjevKyckhMjKS4OBgNm3axMqVKwEYNWoUy5YtY+fOnVWWC9Z4jZdffjlTp07F19e3AVtN1UST4wkQEU6PP52FRWvxH5xE7ty5ng5JqTatriGrwKo9vvPOO0ybNg2w7jV63XXXMWDAACZPnnzU/DWpbWirmoaeqm2Yquuuu46lS5eSlJTEihUrqtQW3U2ZMoWysjL69u3LPffcw6hRowCIjo7m1Vdf5cILLyQpKaky2QOcd955OJ1ObVI9QTpk1Qn66eBPXD73cl46fDbRr3zGSXM+J6Bnz0ZbvlItiQ5Z5XmrV6/mtttu45tvvjnuZeiQVVpzPGEDowbSMbgjXyYcBh8fbVpVSnnME088wUUXXcTjjz/u6VBaPE2OJ8hHfKwbAjhXEzBsCLlz59V7nZRSSjWFe+65h7S0NMaOHevpUFo8TY6NIDkhmRJXCbtHJlKSmkrxpk2eDkkppdQJ0OTYCAbFDCIqKIq5CYfB11dvJ6eUUi2cJsdG4CM+TIqfxMLs7wkcNYLcedq0qpRSLZkmx0ZyRsIZFJUXsWdkN0ozMij6pZFvm6WUUqrZaHJsJEM6DqF9YHvmxWWBw6FNq0p5Afchq2bPns2ePXuOeRmvvPJK5S3ZGmrLli2cddZZ9OzZkyFDhjBt2jT2798PwKpVqxg/fjy9e/dm8ODBXHvttRQUFDB79myio6MZNGhQ5WPjxo3HHK9qHF57+7iWxs/Hj4nxE5m7Yy7Xjj6F3K++IuauOxEf/f2hlDeYPXs2AwYMoEuXLkeVlZeX13o3menTp9c4vTZFRUWcffbZPPPMM5U3MF+yZEnl6BhTp07l/fff55RTTgHg448/Ji8vD7BuUvDiiy8e0/pU09AjdyNKTkimoKyAvSO7UbZvH4Xr1nk6JKXanJqGrPr4449ZvXo1l112GYMGDaKwsJDExETuvvtuhgwZwkcffVTrUFTutc8JEyZw9913M2LECHr16lXjhfb/+c9/OOWUU6qM7DFhwgQGDBjASy+9xJVXXlmZGAEuvvhiOnbs2JSbRB0HrTk2ouGdhhPuH868Dpn8zt+f3LnzCB4yxNNhKeURT656kk2HGveypj7t+3D3iLtrLa9tyKqLL76YF198kaeffpphw47c5KVDhw78+OOPAGRlZdU4FFV1ZWVlrFq1irlz5/LQQw+xcOHCKuXr169n6NChNca3fv16rrzyylrj/+CDD/j2228rn69YsYKgoKBa51dNR2uOjcjh42Bi/EQWZi4nePw4cr/+ClNe7umwlGoz6hqyqibu9yStbSiq6i688EIAhg4dSmpqaqPFXhHPunXrKh+aGD1Ha46NLDkhmU+3fcreUScRvnARBT+sJmTUSE+HpVSzq6uG5y3cb/jd0KGoAgICAGvMxrKysqPK+/fvz9KlS2t8bf/+/VmzZg3nn3/+iQevmpTWHBvZqM6jCHOEMa/LQSQoSO+1qlQzqmvIqrCwsMqOLzWpbSiqY/W73/2O5cuX8+WXX1ZOW7ZsGevXr+emm27irbfe4vvvv68s+9///lfZk1V5D02Ojczf158JXSewYP8yQiacSt78+Zgafl0qpRpfXUNWXXXVVUyfPr2yQ051tQ1FdayCgoL44osveOGFF+jZsyf9+vXj5ZdfJjo6mo4dO/L+++9zxx130Lt3b/r27cvXX39NWFgYYJ1zdL+UY/ny5ccdhzoxXjtklYi8AZwDHDDGDKhlngnAs4ADyDTGnFrfcht7yKqaLN61mBmLZ/BG4B8JffAluv7734SOHdOk61TKG+iQVa2DDlnl3TXH2cCU2gpFpB3wMnCeMaY/MLV5wqrf6NjRBPsFM6/TfnxCQsidp4MgK6VUS+K1ydEYsww4VMcsvwP+Z4zZZc9/oFkCa4AA3wBOjTuVRfuWETJpInkLFmJKSjwdllJKqQby2uTYAL2ASBFZIiJrROT3tc0oIteLyGoRWV1xl4qmlpyYzKGiQ+wf1QNXbi5OPXeglFItRktOjn7AUOBsYDLwVxHpVdOMxphXjTHDjDHDoqOjmyW4sbFjCfIL4quYvfhERJA7V5tWlVKqpWjJyTED+NoYk2+MyQSWAUkejqlSkF8QY2PHsnDPEkInTcS5KAVXcbGnw1JKKdUALTk5fgaMFRE/EQkGRgK/ejimKs5IOIPMwkwOjO6FKz8f57Jlng5JKaVUA3htchSR94AVQG8RyRCRa0RkuohMBzDG/Ap8BfwMrAL+bYxZ77mIjzYubhz+Pv7M77AH38hI8vSGAEo1K/ebhh+rq666io8//rjGsqeffpo+ffowaNAghg8fXjmkVWlpKffcc0/lUFWnnHIK8+zvfWJiIgMHDqy8hnHGjBnH96ZUs/Da28cZYy5twDx/A/7WDOEclxBHCGNix7AgI4Urzkgm9/M5uAoK8AkO9nRoSqnj9Morr7BgwQJWrVpFeHg4ubm5fPLJJwD89https://epynn.net/evaxfv56AgAD2799f5VZyixcvJioqylOhq2PgtTXH1iI5IZn9BfvJHNMbU1iIs5Z7LiqlGkdNQ1Zt2rSJESNGVM6TmprKwIEDAXj44YcZPnw4AwYM4Prrr6e+G6M89thj/POf/yQ8PByA8PBwrrzySgoKCnjttdd44YUXKu+/2rFjR6ZNm9YUb1M1Ma+tObYWE7pOhttps://epynn.net/kRGZwXHUXu3LmEn3mmp8NSqsnte+wxin9t3CGrAvr2odNf/lJreW1DVvXp04eSkhJ27txJt27d+OCDDypH5Ljpppt44IEHALjiiiv44osvqozF6C43N5e8vDxOOumko8q2bdtGfHx8ZdKsyWmnnVY5qPKVV17Jbbfd1uD3rpqX1hybWJh/GKO7jGZB+iLCJ0/GuXQZ5U6np8NSqlWqa8iqadOm8cEHHwBUSY6LFy9m5MiRDBw4kJSUlFqHqmoMixcvrhyOShOjd9OaYzNITkhmWcYyskb3xeedEpwpKUTUM86cUi1dXTU8T7jkkkuYOnUqF154ISJCz549KSoq4sYbb2T16tV07dqVmTNnUlRUVOsywsPDCQ0NZceOHUfVHnv06MGuXbvIzc2ts/aoWgatOTaD07qehp/4MT8sDb9Oncidq71WlWoKdQ1Z1b17d3x9fZk1a1ZlrbEiEUZFReF0Omvtneru3nvv5U9/+hO5ubkAOJ1O3n77bYKDg7nmmmu45ZZbKLFvF3nw4EE++uijxn6bqhlozbEZRAREMKLzCBamL+LSKZhttps://epynn.net/KM/JwTciwtOhKdWquA9ZFRMTU2XIKrBqj3feeSc7d+4EoF27dlx33XUMGDCATp06HTV/TW644QacTifDhw/H4XDgcDj485//DMAjjzzC/fffT79+/QgMDCQkJISHH3648rXu5xxPPvnkyktAlPfx2iGrmkpzDFlVk4+3fMxDKx7io+6PYa69i86PPkq7iy5s9jiUako6ZFXroENWabNqs5kYPxEf8WFB8E4ccXHk6g0BlFLKa2lybCbtA9szvONw5qctIOzMKeSvWEHZobpG5FJKKeUpmhybUXJCMqm5qeSOHQjl5eTNX+DpkJRqdG3tVE1ro5+fRZNjM5qUMAlBWhttps://epynn.net/ERG1aVa1OYGAgWVlZeoBtoYwxZGVlERgY6OlQPE57qzajqKAoBscMZkH6Qi4+60wyX/kXZQcP4tdMY0wq1dTi4uLIyMiguQYVV40vMDCQuLg4T4fhcZocm9kZiWfwxKonyB03A152kfv1fNpffpmnw1KqUTgcDrp16+bpMJQ6Ydqs2swmxU8CIMV3KwE9e2rTqlJKeSFNjs2sU0gnkqKTWJC2gPCzzqRwzRpK9+71dFhKKaXcaHL0gOSEZH499Cv54wcDkPvV1x6OSCmllDtNjh6QnJAMQIr5lYB+fbVpVSmlvIzXJkcReUNEDojI+nrmGy4iZSJycXPFdqK6hHahf4f+VtPqmWdS9PPPlGRkeDospZRSNq9NjsBsYEpdM4iIL/AkML85AmpMyQnJ/JL5C0XjhwBo7VEppbyI1yZHY8wyoL77q90M/Bc40PQRNa7KptWyDQSefLImR6WU8iJemxzrIyKxwAXAPxsw7/UislpEVnvLxcnx4fH0ad+nstdq8cZfKbaH0VFKKeVZLTY5As8CdxtjXPXNaIx51RgzzBgzLNqL7kaTnJDMuoPrKBk/FNCmVaWU8hYtOTkOA94XkVTgYuBlEfmNRyM6RhVNq4uLfyFo6FDyNDkqpZRXaLHJ0RjTzRiTaIxJBD4GbjTGfOrZqI5Nt4hu9GjXo7LXavHWbRRv3erpsJRSqs3z2uQoIu8BK4DeIpIhIteIyHQRme7p2BpTckIya/avoezUYeDjo02rSinlBbw2ORpjLjXGdDbGOIwxccaY140xrxhjXqlh3quMMR97Is4TlZyQjMGwpOAngocPJ3fuPB3uRymlPMxrk2Nb0aNdDxLDE5mfNp/ws86iJDWV4k2bPB2WUkq1aZocPUxESE5IZvW+1bjGDwdfX3LnzvV0WEop1aZpcvQCZySeQbkpZ6lzLSGnnKJNq0op5WGaHL1A78jexIXGWU2rZ55J6e7dFP3yi6fDUkqpNkuToxcQEZITk/l+z/eY8cPB4SB3rvZaVUopT9Hk6CXOSDiDMlPGspwfCR0zhtyvvsK46r35j1JKqSagydFL9O/Qn84hnSvvtVq2bx+F69Z5OiyllGqTNDl6iYpeq8v3LEfGjkACAsj9UnutKqWUJ2hy9CLJCcmUukr5JnsNoePHkzv/a0x5uafDUkqpNkeToxc5OfpkYoJiKptWyw9mUvDDak+HpZRSbY4mRy/iIz6cnnA63+7+Fp/RI5CgIL3XqlJKeYAmRy+TnJBMcXkx3x7+gbDTJpA3fz6mrMzTYSmlVJuiydHLDI4ZTIfADixIXUDYmWdSfvgw+Su/93RYSinVpmhy9DK+Pr6cnnA63+z+https://epynn.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://epynn.net/J+dDrgdz8NjoUMPiOoFUT2t/zv2h7BOx/VeNDm2cpoc61fuKmfG4hlhttps://epynn.net/pX8L0Z2HglYB9F9DzxA9kcfE/vss4RPmezhSNWxyi8uY8v+I0lw075cNu/L43DBkdpKdFiAnQTD6NM5nD6dwugRE0qg48RbC3ZlFTDn5z18unY3Ww848fMRxveK5vxBXTi9b0dCAlp2H8FD+SWs3JHFd9syWb49i52Z1o38A/x87GRnNYEmdggm3q4JxkYG4fCtduFASYFV48va6lYL3AJZ26HE7dpjRwh06G4lv6hedjK0E6F/SKO+N02OrZwmx4Zxlji5fO7lHCw8yHtnv0d8eDwArpISdl3xe4q2biXxvfcI7N3Lw5GqmlhNovlVa4P7rCbRCsH+vvTqeKQp1KoNhjdLTc4Yw6978/jsp93MWbeHPTlFBDl8Se7XkfMHdWF8r+ijE4YXyi8uY9XOQyzfnsl327LYuNdqvgzx92XkSR0Y3b0Do7tH0adT2NE1bJcL8vZUrf1VNIPmpLvNKBDRFaJ6QIeediLsaf0f3gWaqcOTJsdWTpNjw6XnpfO7L39HZGAk7571LmH+VoeK0v0HSL34YspzcggeMYLQ8eMJPXU8/gkJHo7YOxljKC03lJa7KC13UVLusp6XVXtul9dVVlLmoszlXu7+OhcFJeVsO+Bk6wEnJW5Not2iQujTKdwtCYbRNbL+JtHjUl4KJfkQ1K5Bs7tchtVph/ls3W6+/GUv2QWlRAY7OGtgZ84fFMuwhMimifM4FJeVs3ZXNsvtmuG69GzKXAZ/Xx+GJLRjTPcoRvfowMlx7Y4k99IiOLjJSnqZFTXArVYtsPTIjxX8Q48kvYraX1RPaNhttps://epynn.net/jlaToxcRkSnAc4Av8G9jzBPVyuOBt4B29jz3GGPm1rVMTY7H5od9P3D9/OsZ2WUkL018CV8fq2mteOdOst//AOeyZZTstO7B6p+YSOip4wkZP57g4cPx8W9d55KMMWQ6S8g4XMDu7EJ2Hy4k43Ahu7ML2ZNdSEFJeZUkVpHUylxN9x3z9/PB4SM4/Hxw+PoQ4OdjJ8KwymTYWE2ilUqLICcDcnZB9i7rXFf2Lqu2k51u1YaMC2L6Q/fToMckiD8FHEH1LrqkzMU3Ww/y2bo9LNi4n8LScmLbBXFuUhfOH9SFPp3CmvXSkHKXYcOeHL7blsXy7Zn8kHqIolIXPgIDYyMY3SOKMd2jGJoQSZC/vY2NgQO/wvYU2L4I0pZDWcXF9wLt4mtoBu1pnQv04steNDl6CRHxBbYAyUAG8ANwqTFmo9s8rwJrjTH/FJF+wFxjTGJdy9XkeOw+2vIRD694mN/3+z13Dr/zqPKSXbtwLl2Gc9kyCr7/HlNSggQHE3LKKZW1Sken4+sE0JzKXYYDeUVWwjtcWJkEK57vzi6s7KBSISLIQWy7ILq0CyI80A+Hrw9+voLD18dKXPb/Dl8f/N3LfH1w+NVcVr28xjJfwddHmiZRFDvtRLfLLenZSTAn3boswJ34QkQsRMRDu67Wwd/XH3Yug10roLwE/AIhYQx0n2gly+g+9SaC/OIyFmzcz2frdrNsq9XjtVfHUM4fFMt5SV3o2r7xa1PGGLYdcLJ8u3XecOWOLHKLygDo1TGU0d2jGN29AyNP6kBEkMMt2CzYsdhOiClWpxmAqN7W++060kqG7U8CR2Cjx90cNDl6CRE5BZhpjJlsP78XwBjzuNs8/wJ2GGOetOf/uzFmdF3L1eR4fB77/jHe2/QeD49+mAt6XlDrfK7CQvJXrsS5bBnOpUsp22MdJAJ697YS5YRTCUpKQvyav+NFabmLfTlFpB8uqFLr2324kIzsAvZmFx1Vy4sK9Se2XRCxkUHERQYT2y6IuEjreWy7IMICHbWszUsZA0XZR9f2stOO/F94qOprfP2tc17tutp/E44kwYiuENYZfGv5PEvyrZrTtkVW0sjcbE0P62Inyolw0mkQ3L7OsLOcxcxdv4/P1+3mh9TDAAxNiOT8QV04a2BnokIDjnuTZBwuYLldM1y+PYsDeda1hHGRQZXNpKd070BMmFtSKy+F9FVHaod71gEGAttZteXuE61HRNxxx+VtNDl6CRG5GJhijLnWfn4FMNIYc5PbPJ2B+UAkEAKcboxZU8OyrgeuB4iPjx+alpbWDO+gdSlzlXHDwhtYvX81r5/xOkM6Dqn3NcYYSrZtsxPlMgp+/BHKyvAJDyd07BhCxo8ndPx4/NrXfWCswuWCAxsg9TtI+xbSVlgHcx8/jI8fRnwpx4dyfCkzPpQaH0qMD8Uuobjch7KKMvuvj68DPz8HDocDh7+DAIeDgIAAggL8CQwIwM/PAT5+4ONhttps://epynn.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://epynn.net/HvqVIL8gzup2FlN7T6V/h/6Nso2qc5WUULDqB5wpi8hLWUzZvn0gQtDgwYRNmkjoaRMJOKlbk6xbNY3yvDwOPvsch997D9/27el4911Wbe8EWyOMy0XegoUcfOF5SrZtJ6BvX6Jn3EzohAnNeh9Xb6fJsZVrScmx3GWY89Menlu0lZ2Z+fw2Jp37fN4kLHtT3S/0DbCSmH+o/Te46vOK5OYfUvPD4f481Hq9I7hR7vyxIXMDH275kHk751FYVkj/Dv2Z2msqZ3Y7k2BH0/Q+NcZQtHEjzpTF5C1OoXij1UPRPzGR0EkTCZs4kaBBg7RJzUsZY8j9ci77n3yC8swsIi+9lOhbb8E3/OjrHU9oPeXl5H75JQdffInSXbsITDqZmFtuIfiUUzRJosmx1WsJydHlMny1YR//WLCFrQecjIsp5G/hH9MpY551Ufe42yE8rvbEVtt9Lr1IXkkeX+z4gg83f8i27G2EOkI556RzmNp7Kr0im3aMyNI9e8hbvBjnohTyf/gBSkvxjYwkdMIEQieeRuiYMV5/mUjZ4cOUpKZSkppm/d25k5LUVMr27yd4xAjCzzuX0FNPbfEjoxTv3Mn+WbPIX76CwP796TRzJkEDBzTpOk1pKdmffkrmy/+kbO9egocPJ/q2WwkeUv8tE1szTY6tnDcnR2MMi349wN8XbOHXvbn0jfLj2a7L6LX1dQRg7G0wZkaDhv5pKYwxrDu4jg83f8j81PmUuEoYHDOYqb2mckbiGQT4Hv8NpRuiPChttps://epynn.net/JW9RCs5ly3Dl5iL+/taIIpMmEjphAo6YmCaNoTauwkJKdu2iZGeqnQiPJMHynJwjM/r54R8Xh39iIr6Rkdat+bKy8AkPJ3zyZCLOO5egoUNb1Hk0V1ERWa++StZr/0YCAoi+7VYif/vbZq3du0pKyP7gQhttps://epynn.net/KMzMJGTeO6Bkzmjw5eytNjq2cNyZHYwzLtmbyzIIt/JSeTUL7IJ7qt5MRW59BcjKg/wWQPMu6HVgrdrjoMJ9v/5yPtnxEWm4aEQERnN/9fKb2mkpiRGKTr9+UllKwZg15KSk4F6VQuns3AIEnn0zYxImETjyNgJ49G7WJzZSXU7p795HkZz+KU1MrRzSp4NexI/6Jidajm/U3IDERR2xslUsRTFkZ+StWkDNnDnkLF2EKCvDr0pmIs88h4rxzCejZs9HibwrOb75h38OzKE1PJ/ycc+h49134RUd7LB5XYSGH//Mfsl59jfKcHMKSTyfqppsJ7N20LRzeRpNjK+dtyXHF9iyeWbCZH1IPE9suiL8OL+eMhttps://epynn.net/YtdBwIZz5hdXhpQ4wxrNq3ig83f0jKrhTKTBkjO41kau+pTOw6EUcdIzY0ZgzFW7biXJxCXspiin627sji6NqVsImnETpxEsFDhzRo6C1jDOVZWVbSs2t+Fc2hpbt2YUqP3CjcJywM/27d8E9MqEx+/t264R8fj09IyDG/D1dBAXmLUsiZ8zn53y2H8nIC+vQh4txzCT/nbBwdOx7zMptK6f797H/scfhttps://epynn.net/xEQ6PfgAIaec4umwKpU7nRx66y0OvTkbV34+4WedRdRNfyKgW9vo2KXJsZXzluS4Ju0Qf5+/heXbs+gYHsDtY6K4OPctfH+cbY0JN/F+GHpVqx3+pqEyCzP5ZOsnfLzlY/bk76F9YHsu7HkhF/W8iLiw5hsrr3T/AZxLlpCXsoiCFSsxJSX4REQQOn48YZMmEjJ2LCCUpFU0f1atCbqczsplicNRmfyqP3zbt2+yzh9lWVnkzp1Hzpw5VrIXIXjkSCLOPZewM5LxDWv8y2sawpSVceidd8h8/gVMeTlR0/9I+2uu8drzpeXZ2WS98Shttps://epynn.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://epynn.net/b9wH3f3seBggNMT5rOtQOvbdZBtL2dJsdWTpOjUrBm/xqeXPUkvx76lUHRg7hnxD30j+rv6bCqWJS2iIdXPkxeSR43DrqRq/pf1eTJKrckl8e+f4wvd3xJUnQSj4993GuuZ/U0TY6tnCZHpSzlrnI+3/45z/74LIeKDnF+9/O5ZcgtRAdHezSunOIcHl/1OF/u+JK+7fvy6NhHm/1et3N3zOWRlY9Qbsq5Z8Q9/KbHb7y2dt1cNDm2cpoclarKWeLk1Z9f5f9+/T/8ffy5/uTruaLfFfj7+tf/4ka2NH0pM1fMJLsom+uTrufagdfi8PHM3Wz2Ovdy33f38cO+Hzg9/nQePOVB2gW280gs3kCTYyunyVGpmqXlpvH06qdZkr6EuNA47hh+BxO7TmyWGlNuSS5PrnqSzhttps://epynn.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://epynn.net/OwDn6xno3Kc0QkDjgb+LenY/E0EYkAxgOvAxhjSowx2R4NyvP8gCAR8QOCgT0ejkc1gCbHhokF0t2eZ9CGk4E7EUkEBgPfezgUT3oWuAtweTgOb9ANOAi8aTcz/1tEQjwdlKcYY3YDTwO7gL1AjjFmvmejUg2hyVEdNxEJBf4L3GqMyfV0PJ4gIucAB4wxazwdi5fwA4YA/zTGDAbygTZ7jl5EIrFamboBXYAQEbncs1GphtDk2DC7ga5uz+PsaW2WiDiwEuO7xpj/eToeDxoDnCciqVjN7RNF5B3PhuRRGUCGMaaiJeFjrGTZVp0O7DTGHDTGlAL/A0Z7OCbVAJocG+YHoKeIdBMRf6wT6p97OCaPERHBOqf0qzHmGU/H40nGmHuNMXHGmESs/SLFGNNmawbGmH1Auoj0tidNAjZ6MCRP2wWMEpFg+3sziTbcQakl8fN0AC2BMaZMRG4CvsbqbfaGMWaDh8PypDHAFcAvIrLOnvYXY8xcz4WkvMjNwLv2D8kdwNUejsdjjDHfi8jHwI9YvbzXoreSaxH09nFKKaVUNdqsqpRSSlWjyVEppZSqRpOjUkopVY0mR6WUUqoaTY5KKaVUNZoclWpkIlIuIuvcHo12hxgRSRSR9Y21PKVUzfQ6R6UaX6ExZpCng1BKHT+tOSrVTEQkVUSeEpFfRGSViPSwpyeKSIqI/Cwii0Qk3p7eUUQ+EZGf7EfFbcd8ReQ1e4zA+SIS5LE3pVQrpclRqcYXVK1Z9RK3shxjzEDgRazRPABeAN4yxpwMvAs8b09/HlhqjEnCuj9pxV2ZegIvGWP6A9nARU36bpRqg/QOOUo1MhFxGmNCa5ieCkw0xuywb9y+zxjTQUQygc7GmFJ7+l5jTJSIHATijDHFbstIBBYYY3raz+8GHMaYR5rhrSnVZmjNUanmZWr5/1gUu/1fjvYdUKrRaXJUqnld4vZ3hf3/cqwRPQAuA76x/18E3AAgIr4iEtFcQSrV1ukvTqUaX5DbaCUAXxljKi7niBSRn7Fqf5fa024G3hSRO4GDHBnF4hbgVRG5BquGeAPWaPJKqSam5xyVaib2OcdhxphMT8eilKqbNqsqpZRS1WjNUSmllKpGa45KKaVUNZoclVJKqWo0OSqllFLVaHJUSimlqtHkqJRSSlXz/9tvAQoLEnwEAAAAAElFTkSuQmCC\n",
      "text/plain": [
       "<Figure size 432x288 with 1 Axes>"
      ]
     },
     "metadata": {
      "needs_background": "light"
     },
     "output_type": "display_data"
    }
   ],
   "source": [
    "model.plot(path=False)"
   ]
  },
  {
   "cell_type": "markdown",
   "metadata": {},
   "source": [
    "Looking at the plot, the model seems to have converged.\n",
    "\n",
    "We will try to optimize it further."
   ]
  },
  {
   "cell_type": "markdown",
   "metadata": {},
   "source": [
    "### Conv-MaxPool-Flatten-(Dense)n"
   ]
  },
  {
   "cell_type": "markdown",
   "metadata": {},
   "source": [
    "Below we added one ``Dense(64, relu)`` hidden layer. This is the same design than used for the Feed-Forward network excepted, of course, for the *Convolution-Pooling* block. The thing to pay attention to here is the absence of *Dropout* layer compared to the Feed-Forward network."
   ]
  },
  {
   "cell_type": "code",
   "execution_count": 14,
   "metadata": {},
   "outputs": [
    {
     "name": "stdout",
     "output_type": "stream",
     "text": [
      "\u001b[1m\u001b[37mEpoch 9 - Batch 14/14 - Accuracy: 0.906 Cost: 0.5155 - TIME: 6.13s RATE: 1.88e+01e/s TTC: 0s        \u001b[0m\n",
      "\n",
      "+-------+-------------+----------+----------+-------+----------+-------+-------+----------------------------------------------------------------------------------+\n",
      "| \u001b[1m\u001b[37mepoch\u001b[0m |    \u001b[1m\u001b[37mlrate\u001b[0m    |  \u001b[1m\u001b[37mlrate\u001b[0m   |  \u001b[1m\u001b[37mlrate\u001b[0m   |       | \u001b[1m\u001b[32maccuracy\u001b[0m |       |  \u001b[1m\u001b[31mCCE\u001b[0m  |                                    \u001b[37mExperiment\u001b[0m                                    |\n",
      "|       | \u001b[37mConvolution\u001b[0m |  \u001b[37mDense\u001b[0m   |  \u001b[37mDense\u001b[0m   |  \u001b[1m\u001b[32m(0)\u001b[0m  |   \u001b[1m\u001b[32m(1)\u001b[0m    |  \u001b[1m\u001b[31m(0)\u001b[0m  |  \u001b[1m\u001b[31m(1)\u001b[0m  |                                                                                  |\n",
      "+-------+-------------+----------+----------+-------+----------+-------+-------+----------------------------------------------------------------------------------+\n",
      "|   \u001b[1m\u001b[37m0\u001b[0m   |  \u001b[1m\u001b[37m5.00e-03\u001b[0m   | \u001b[1m\u001b[37m5.00e-03\u001b[0m | \u001b[1m\u001b[37m5.00e-03\u001b[0m | \u001b[1m\u001b[32m0.570\u001b[0m |  \u001b[1m\u001b[32m0.520\u001b[0m   | \u001b[1m\u001b[31m1.822\u001b[0m | \u001b[1m\u001b[31m1.863\u001b[0m | \u001b[37m1631698381_Convolution-16-2_Pooling-3-Max_Flatten_Dense-64-relu_Dense-10-softmax\u001b[0m |\n",
      "|   \u001b[1m\u001b[37m1\u001b[0m   |  \u001b[1m\u001b[37m5.00e-03\u001b[0m   | \u001b[1m\u001b[37m5.00e-03\u001b[0m | \u001b[1m\u001b[37m5.00e-03\u001b[0m | \u001b[1m\u001b[32m0.628\u001b[0m |  \u001b[1m\u001b[32m0.564\u001b[0m   | \u001b[1m\u001b[31m1.172\u001b[0m | \u001b[1m\u001b[31m1.293\u001b[0m | \u001b[37m1631698381_Convolution-16-2_Pooling-3-Max_Flatten_Dense-64-relu_Dense-10-softmax\u001b[0m |\n",
      "|   \u001b[1m\u001b[37m2\u001b[0m   |  \u001b[1m\u001b[37m5.00e-03\u001b[0m   | \u001b[1m\u001b[37m5.00e-03\u001b[0m | \u001b[1m\u001b[37m5.00e-03\u001b[0m | \u001b[1m\u001b[32m0.630\u001b[0m |  \u001b[1m\u001b[32m0.632\u001b[0m   | \u001b[1m\u001b[31m1.011\u001b[0m | \u001b[1m\u001b[31m1.081\u001b[0m | \u001b[37m1631698381_Convolution-16-2_Pooling-3-Max_Flatten_Dense-64-relu_Dense-10-softmax\u001b[0m |\n",
      "|   \u001b[1m\u001b[37m3\u001b[0m   |  \u001b[1m\u001b[37m5.00e-03\u001b[0m   | \u001b[1m\u001b[37m5.00e-03\u001b[0m | \u001b[1m\u001b[37m5.00e-03\u001b[0m | \u001b[1m\u001b[32m0.776\u001b[0m |  \u001b[1m\u001b[32m0.740\u001b[0m   | \u001b[1m\u001b[31m0.680\u001b[0m | \u001b[1m\u001b[31m0.798\u001b[0m | \u001b[37m1631698381_Convolution-16-2_Pooling-3-Max_Flatten_Dense-64-relu_Dense-10-softmax\u001b[0m |\n",
      "|   \u001b[1m\u001b[37m4\u001b[0m   |  \u001b[1m\u001b[37m5.00e-03\u001b[0m   | \u001b[1m\u001b[37m5.00e-03\u001b[0m | \u001b[1m\u001b[37m5.00e-03\u001b[0m | \u001b[1m\u001b[32m0.852\u001b[0m |  \u001b[1m\u001b[32m0.812\u001b[0m   | \u001b[1m\u001b[31m0.514\u001b[0m | \u001b[1m\u001b[31m0.623\u001b[0m | \u001b[37m1631698381_Convolution-16-2_Pooling-3-Max_Flatten_Dense-64-relu_Dense-10-softmax\u001b[0m |\n",
      "|   \u001b[1m\u001b[37m5\u001b[0m   |  \u001b[1m\u001b[37m5.00e-03\u001b[0m   | \u001b[1m\u001b[37m5.00e-03\u001b[0m | \u001b[1m\u001b[37m5.00e-03\u001b[0m | \u001b[1m\u001b[32m0.770\u001b[0m |  \u001b[1m\u001b[32m0.736\u001b[0m   | \u001b[1m\u001b[31m0.621\u001b[0m | \u001b[1m\u001b[31m0.773\u001b[0m | \u001b[37m1631698381_Convolution-16-2_Pooling-3-Max_Flatten_Dense-64-relu_Dense-10-softmax\u001b[0m |\n",
      "|   \u001b[1m\u001b[37m6\u001b[0m   |  \u001b[1m\u001b[37m5.00e-03\u001b[0m   | \u001b[1m\u001b[37m5.00e-03\u001b[0m | \u001b[1m\u001b[37m5.00e-03\u001b[0m | \u001b[1m\u001b[32m0.912\u001b[0m |  \u001b[1m\u001b[32m0.820\u001b[0m   | \u001b[1m\u001b[31m0.348\u001b[0m | \u001b[1m\u001b[31m0.587\u001b[0m | \u001b[37m1631698381_Convolution-16-2_Pooling-3-Max_Flatten_Dense-64-relu_Dense-10-softmax\u001b[0m |\n",
      "|   \u001b[1m\u001b[37m7\u001b[0m   |  \u001b[1m\u001b[37m5.00e-03\u001b[0m   | \u001b[1m\u001b[37m5.00e-03\u001b[0m | \u001b[1m\u001b[37m5.00e-03\u001b[0m | \u001b[1m\u001b[32m0.830\u001b[0m |  \u001b[1m\u001b[32m0.780\u001b[0m   | \u001b[1m\u001b[31m0.520\u001b[0m | \u001b[1m\u001b[31m0.676\u001b[0m | \u001b[37m1631698381_Convolution-16-2_Pooling-3-Max_Flatten_Dense-64-relu_Dense-10-softmax\u001b[0m |\n",
      "|   \u001b[1m\u001b[37m8\u001b[0m   |  \u001b[1m\u001b[37m5.00e-03\u001b[0m   | \u001b[1m\u001b[37m5.00e-03\u001b[0m | \u001b[1m\u001b[37m5.00e-03\u001b[0m | \u001b[1m\u001b[32m0.900\u001b[0m |  \u001b[1m\u001b[32m0.856\u001b[0m   | \u001b[1m\u001b[31m0.315\u001b[0m | \u001b[1m\u001b[31m0.536\u001b[0m | \u001b[37m1631698381_Convolution-16-2_Pooling-3-Max_Flatten_Dense-64-relu_Dense-10-softmax\u001b[0m |\n",
      "|   \u001b[1m\u001b[37m9\u001b[0m   |  \u001b[1m\u001b[37m5.00e-03\u001b[0m   | \u001b[1m\u001b[37m5.00e-03\u001b[0m | \u001b[1m\u001b[37m5.00e-03\u001b[0m | \u001b[1m\u001b[32m0.902\u001b[0m |  \u001b[1m\u001b[32m0.860\u001b[0m   | \u001b[1m\u001b[31m0.290\u001b[0m | \u001b[1m\u001b[31m0.506\u001b[0m | \u001b[37m1631698381_Convolution-16-2_Pooling-3-Max_Flatten_Dense-64-relu_Dense-10-softmax\u001b[0m |\n",
      "+-------+-------------+----------+----------+-------+----------+-------+-------+----------------------------------------------------------------------------------+\n"
     ]
    },
    {
     "data": {
      "image/png": "iVBORw0KGgoAAAANSUhEUgAAAiIAAAEWCAYAAABbt/wMAAAAOXRFWHRTb2Z0d2FyZQBNYXRwbG90bGliIHZlcnNpb24zLjQuMywgaHR0cHM6Ly9tYXRwbG90bGliLm9yZy/MnkTPAAAACXBIWXMAAAsTAAALEwEAmpwYAABwmUlEQVR4nO3dd3gU1dfA8e9JT0iDJIRO6N3QQUCKoGBDqUGxgBSxYe/lxYKVnw0rSBFFQUBRbBQBQUEQEJXeS4CE9E7a3veP2YQQkhAgySbkfJ5nn2Rn7sycnd3ZOXvvnTtijEEppZRSyhGcHB2AUkoppSovTUSUUkop5TCaiCillFLKYTQRUUoppZTDaCKilFJKKYfRREQppZRSDqOJSCUnIqtFZOxFLJ8sIg1LMqZLnYgcEpF+9v+fFpFPHR1TeZZ3f6mKTUQmicgXjo6jMhGR7iKy1/5dfZOj4ylIsRIREblPRDaJSLqIzM43z0tEPhSRaBFJEJE1eeY9JCIHRCRRRI6LyNsi4pJn/ksi8p+IZInIpAK2GyQiX9rXGycic/PMqy0i34lIrIiEi8iEfMteKSJb7Ns+ICLj88zrY99uvIjEiMi3IlI7z/xqIjLfPi9aROaKiG9x4y5iP9YUkRkickJEkkRkl4i8ICJVirsORyooaTHGeBtjDpTCtmqKyPf2z40RkZACyvSzv8cp9s/A8CLWN8V+MObs99uLEUOIfdvJ9schEXnyIl/aGYwxrxhjLjgRLIqIjBCR3fbj56SIfJb3c1xA+Un21/tAvukP2KdPKo047duYLSIZefZ1soiEXcB6jIg0zvO8t4iEl2y0BW53kohk2j9fSSKyR0TeF5Gapb3t8yUiziLysv3YShKRv0XEv4Byv9r3p0sBq3GYCravp9mPQZuIjCpg/kMiEmE/T80UEfdSCONF4H3https://epynn.net/MdIeVDcGpHjwMvAzALmTQOqAS3sfx/KM+97oL0xxhdoDYQCE/PM3wc8DvxYyHa/ASKAekB1YEqeeV8AB4Fg4DrgFRHpAyAirsC3wCeAHxAGvCUiofZldwD9jTH+QC1gL/BRnnW/DFQFGgCN7NuYdB5xn0VEqgHrAU/gcmOMD3AV4G/fhjqTDfgFGFLQTBFpCXwJPIP1HocCm4tYXwpwg73sHcC7ItKtmLH4G2O8gZuB50VkQDGXc7Q/gO7GGD+gIeCC9dkuyh4gf5J2h316aXvD/mWZ85hfBtssSfPtx3U1YBBQA9hcDk+QLwDdgMsBX+A24FTeAiIyEnA93xWLiHNJBFgMFWVf/wPcA2zJP0NE+gNPAn2B+ljH6AulEEN9YHsprLfkGGOK/cD6Epud53lzIBHwLcayAcAK4MMC5n0BTMo37WrgEOBcQHlvwABBeaZNAz63/x9sn++VZ/5fwM0FrMsdeBXYkWfaz8A9eZ7fCywtTtzn2Hf/AU5FlOlmjzPB/rdbnnmrgZewTi5JwDIgME+89+Vb1z/A4GKud6z9/0nAF3nmhdj3owswGcjG+sJKxsqwsc9vbP/fD5gDRAGHgWdzXi8wCvgdK5mMw0oirynGfnOxbyMk3/QvgZfO5/Obb/nvgUfOUSb39ef7HD2KlcQ/a3+dJ+2v2y9PuYFYB3+8fR+3yDPvENAv/z7Ps707gCNANPBMnuU8gc/s+28nVjIcXszX622P8aciykzC+kzvBFrZp7XCStxzP+tYSfoP9vc5zv5/Hfu8akA4cEOe7e4Dbj9HfLOBlwuZl3d/dcZK6OOBE8D7gJt93hr7/kuxf0bvANKwktpk+6OW/b17EtgPxABfA9WK8x6ca9/lm+aMdRxOyTPtemCrPf51wGX5XuejwL9Yx+p8wMM+L9C+n+OBWGAtp4+tWsAi+/txEJhYRJxV7fuhURFl/LASz67k+/wX8r59BPxk3+/9ioqHMz/vvcn3+c37Xlf0fZ0vvt+BUfmmfQm8kud5XyCiiHVci3UsJgHHgEfzzBuHdZzFYn231bJP34/1+U+zv+/rOfMYCct5H7C+T05iHVc32be3x77Op/Nsq6hjsBvWMVPX/jwU6zuieVH752L7iHTG+iJ+wd6E8Z+InPELVkRuEZFEe3ChWLUUxdEV2A18Zm8i+UtEeuWsNt/fnP9bAxhjIoGvgNH2asjLsbLC3/PEVU9E4rHeoEeBN/Ks6wPgehGpKiJVsX6V/1zMuAvTD/jGGGMraKa9xuRH4D2spO0t4EcRCchT7BZgNFbtkJs9buyv9eY862qJ9Xp/LOZ6z8kY8wzWAXmfsX6t3ldAsalYX2INgV5Yv6xH55nfBes9DcTa3zNERPKvpJi6Atg/cydE5Av7az0nEfEEOnEevxLE0h3rxPw3VmI1CuiD9Xq9sQ5IRKQp1nvyIBCE9SW9RETcirm5HkAzrC+m50WkhX36/2GdKBti1abdWoy4e4hIAtaX1xDgnWJs/3NO14rcYX+elxMwC+szVg/rGHofwBgTC9wJTBeR6sDbwFZjzJxibLc4srFqXQOxftH3xfrFiTGmp71MqP0z+hlwDXDcnK5lOQ7cj/VF2wvrxBKHdcznVdh7UGzGmGzgO+AKABFph1WrfBfWsfgJ8H2+6vjhwACs2tjLsD5jAI9gnSyCsH5oPQ0YEXEClmCdhGvb433Q/mu7IG2ALGCovUlgj4jcm6/MK1jJRUQxX+otWD9UfLBO+OcTT4kop/v6XFrZ15XjHyC4iO/mGcBdxqoJag2stL/WK7F+TA8HamKdk+cBGGMaYSXUN9g//5fb15VzjOTUOtYAPOyv63lgOtb3SwesffqciDSwly3qGFyHthttps://epynn.net/PfgE8Z4zZVdSOuNhEpA7WDknAOqDvsweQe9AaY740VtNMU+BjIPI81n01sAprJ/0P+E5EAo0xSVg1A8+JiIeItMf6kvXKs/xXWDs0HesE+owx5mieuI4Yq2kmEOuXbd4dtQXrRB9jf2QDHxYz7sIEYGWPhbkO2GuM+dwYk2WM+coe0w15yswyxuwxxqRh/Ypra5/+LdBWROrbn4/ESnrSi7nei2avkh0BPGWMSTLGHMJ6z27LU+ywMWa6/UvjM6yDJvgCN1nHvu4hQBOs2oKpxVz2Y6yDfmkxy0dj/Sr4FHjSGPMr1j5+yxhzwBiTDDwFjLC3p4cBPxpjlhtjMrFqgTyxfi0UxwvGmDRjzD/2OHOaFIdj/YKKM8aEYyWXRTLG/G6sppk6wJtYvwTP5QvgZnsT5wj787zrjDHGLDLGpNqPxclYJ/Wc+cuABcCvWL+q7irGNgEeFavfVryIRBfyejYbY/60f5YPYX3p9SqobBEmYH0fhNuPkUlYJ+a8fSEKew/O13GsWiKA8cAnxpgNxphse6KUjj2ptnvPGHPcntAt4fQxnol1vNQ3xmQaY9Ya6ydnJ6ya4ReNMRnG6q81Het9K0gdrB8LTbFOwEOBSSJyFYCIdAS6U/xjCeA7Y8wf9h9Zbc4znpJU3vb1uXhjnTtz5PzvU0j5TKCliPjavwNymntGAjONMVvsn+engMulgH51RcgEJtu/r+ZhnRfftX+Xb8eqiQmFYh2Dk7A+Yxuxam7yJ/lnudhEJM3+Al62vzG/YSUOV+cvaIzZi/ULtLgn9DTgkDFmhv3DMA84inWQgLXzG9infYT1ZRkOICLNsXbm7VgJRSvgcRG5roC4YrFOit/l+SL6GqtKygerDXU/+b6ML0AM1oe7MLWwMtm8DmNlqDny/kJJxfogYz8Z/MjpA+JmIKdjb3HWWxICsdqU826r0PiNMan2f71F5Ao53UGxuLUUaZxOzJKxfsVdCyAiH+dZ39N5FxKRN7GS5+H2L5divTZjTFVjTAtjTM7JP/9+PYzVjBScf579C/ooxd/nBb7P9vUezTMv938RGZnnNZ9Ve2eMOYbV52beucobY45gVfO+gpXE5t1mTgf1T0TksL22cw3gn69/wDSs/TzbGBNTzNc9xRjjb38EFlRARJqKyA85HfzsMRZYtgj1gW9zkh6spqhszkyKC3sPzldtrCQ2Z7uP5Em24oG6WO/rubb7JtZ7skyszvc5nabrA7XyrfPpnNciZ3b+zam9AnjRnmj9i/WZuNb+i/9D4AFjTFb+FyLWFV456/o4z6y8n48i4yll5W1fn0sy1vklR87/SYXs6yFY33GHReQ3sWr64ezvm2Ss8835fMfH2H8gwunPSN5KgzTs++dcx6A9mZmNdfz/rzjfsxebiPxbwLSiNupC8Ttm/lvAunKfG2MOG2OuN8YEGWO6YO2IjfbZrYE9xpilxhibMWY31on6miLiqs7pD0JbrGw6xf6mfoz9JHcRVgCD7Ad7QY5jfdDzqoeVURbHVhttps://epynn.net/HqmJbdQHrTeHMWqUa+eYX9d5GYyWlebdVrPjtvzhyqs5bnau8Xf7PR97PxoQ863slZ7qIvID1GbjaGJNYzO0UJv9+rYdV5R2Zf56ICNaXYHHfy8KcwPpFm6Nuzj/GmLl5XnNRn/NGxSw/B6uKuqAmlUewmi26GKu2M6dJRCC3dmyafdl7pGR76H+EVaPXxL7tpzmziTa/gj6zR7H6J/nneXjYk7USYz/Wb8Cqkc3Z7uR82/UyVi1lkey/TB8xxjTE6n/0sIj0ta/zYL51+hhjrrUvl7fz7xFOf2cXdOz4Ah2B+SISgdUfCiBcRK4w1hVeOeuaUMDyOa+x0HjyOeP7xv65CTrXvihIOd3X57KdM2vaQoFIY9U4nrWvjTF/GWNuxDpXLcb6wQxnf99UwaqBL9HPcx5FHoNiXYH6f1jNt/+TYlwJVNzLd11ExAOrQ5CzvTnEBeuX0BHgKXuZ7lht5kvty40Vq504p9/CU1jVtTnrdbWv1wlwsa8351fVt0BVEblDrH4eQ7G+hP+wL9tCRHxExE1EbsWqhXnLvuzfQBOxLuEVEWmE1XHpX/uyg0WkmYg4iUiQfbm/7bUjYB2AY0XEU6x2rvHkSbrOEXdh3sI60D8TexOKWJcgvyUil2H1I2gqVp8aF7EuXWyJ1WmqOH7C+jC+iNWj3JZnenHXuxXoKVb/GT+s9yuvSKz+CWexZ9NfA5Pt70t94GEuoibJvo9zPsTu9uc5ZmH1AWooIl5YnQ8L3Vci8hRWW3a/8/iFXpSvgIdEpIGIeGP9Kphv/yX5NXCdiPQVq3njEaxq4XUXuc2vsY61qvaDvaB+OrnEqvWoZ/+/PlYTyq9FLZPHfKxj6usC5vlg/UKKF6tfhttps://epynn.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://epynn.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://epynn.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://epynn.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://epynn.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://epynn.net/x932OpLkcMrME+C0uj0/9UagGsZjB2SnQXhG0/Xepz4x5peJeh0P49GV4JXxWmqKi2aiJR/moiUMBG5HJhkjOlvf/4UgDHm1TxlPgEOGGNet5f/nzGmW1Hr1USkfIpOi2bEDyNwEie+uu4rAjwDiiyfvncvh2+7HScvL2pPfa/AZpqMLGtMit/syUdO34HqPu5W4tEsiB6NA4seE8MY60Sak3gcXAvpCYBAzVDriohGfcC/HhxcY12ueeA3yEiyrlSo2+X0Ca1Gm0JrS9KzsvnzQCwr7EOgn0g4VWL3Zdl3Mpn/LdvNz9siqOrlyj29G3Pb5fXPr+YlOxMO/2FPPn6yrgoRJ6jX7XTyUTXk3OvJyoD4w3mSFHuiEr0XkiPyFBQrqcubnOQkK/71Lq5GIuHY6cTjwG/W+ynO9veqr1XrEdzGuspF5dJEpPzTRKSEichQYIAxZqz9+W1AF2PMfXnK1ASWAVWBKkA/Y8zmAtY1HhgPUK9evQ6HDx8ug1egztf2mO3c8fMdtApoxadXf4rrOTr9pW3bztG7J5AdG0fAnXcSeN+9HE/NthKP3VGs2x9DcnoWLk5Cx5Cq9GpanV5Ng2hR06foE3pyFBz8zUo+9q8+fSmmfz1o2MdKPEJ6QpVCkqXsTKumZN9y62QX8Z813TvYnpT0tdZTyK/snPuyrNhpJSXbjp2+L0vf5la/ko7FuC/Lsfg03lm+h0VbwvF0dWbMFQ0Zd0WD4nfSTE+G/b9ayceeX6xLVF08rRqC5tdB0wGF74MLkZ6https://epynn.net/5nJSnri6XLObtZYGPlrUQIaWzUZ+d/brHRrLI+cS2tP2itVfWvba6+usq508fAruddyCdJEpPzTRKSEFTMReRhr3//PXiMyA2htTP5G6tO0RqR8+/HAjzy59knCmoXxbNdnz1k+JTqW3f83Gc9ffyLSL5g3LxvK9oAG1Pb3zL20tlujgKJPvhmpcGSdVeOxf7V1WSaAhz806GklHg17X/BAUCRFnNnv4FS8VZtQu+Pp2pJabQv9lX88Po1fd51kxY5I1u8/fWnwlc2ty1R7Ng084/XFJKfzwar9fPGnlXDf2rU+9/ZpVLxmnuSTsPtn2P0T7F8F2engWQ2aXWMlHw37gFsZX/FjjNUJ9oxaFHuyEnvAijGHu+/p5MS/PkRut2qqMlOsBKbe5VaNR+N+ENS8TDvRVnSaiJR/moiUsGI2zWzHSlaO2p8fALoaY04Wtl5NRMq/tza/xaxts3iu63MMbza8wDIJaZl8tHo/c9YfIjUjm04xe3n4n4X4JcXiPGgojZ9+HGdv74I3YMuGE1vticcqawyI7AzrRFW3y+nEo2bbku+UaMuGY1tO15Yc2wIY62Sf07ek0ZXgXb3AxZPTs1i7J4rlOyNZucu6L4urs9C1QTWGpR/gVEwcL2Y2IDXLMLRDHR7o15Ta57pPS8z+PJ1NN1jx+NeD5tdbyUfdruBcvm5Al8uWDQnhBdeixB+BqvWtGo/G/SCkB7gX8plQ56SJSPmniUgJExEXrM6qfYFjWJ1VbzHGbM9T5mdgvjFmtoi0AH4Fapsi3gxNRMq/bFs29668lw3https://epynn.net/0/pENwhd156Vjafrz/M+6v2EZ+aycDQWgxqV5suDavhkZnOybffIW7uXFxr1qTGiy/i3aO7tWDsgdOJx8E1Vq0EWP02Gva2HvW6lf2v/ZQYqwlo73KrGSQlyppes+3p2pI6nQpMBLKybWw5Es/mX36nzrxpNI7cD0B4/eaEvPkGTS5rUvA2jYHjW6y+Hrt+hKid1vQabU4nH8GtK35tQXaWffTSCv46yglNRMo/TURKgYhcC7yDdWnuTGPMZBF5EdhkjPnefqXMdMAbMMDjxphlRa1TE5GKITEjkVt+vIWkjCTmXTePYK8aLN56jP8t28Ox+DSuaBLIEwOa07r22e36qVu2cOLpp8g4dAS/jrUIbnMS57Qj1kzfOtCot9XE0KAXeAeV7Qsris0GEf/aa0t+tfqZmGxw97NibtwPGvUFv9oAZB47xsm33ibxxx9xDgyE0eNAnDHvvwUiBD/zDH6DbrL6w2RlwOHfT3c2TTpuddCs381KPppdY9UeKFUITUTKP01EKghNRCqOAwkHGPnjSPzdamA7dh+7T5yiVS1fnrqmBT2aBJ5ZOPOU1SHxwGo4sApb+L9Eb/MmZpc3zlVcqTH6GnzDxlv9ByrKL+S0eKvT7F57YpJ0HIBsv5bE7A8m9rf94OxCtdGjCBgzFmdv634wGeHhnHjyKVI3bcK7c0tq9q2Cy/HV1tUhLp5WE1Dz66Fpf70sVRWbJiLlXzltQFWq4kpJCiAwbTQHM97HzX0O74RNZmBo7dPjfCQcg20LrQ6gR/60RvN0coW6nXHq9wzVx/fGJ96dE89P4tjUJSTuyaDGc8/iEhhY9IbLC09/aHmj9TAGc/w/4ma+T/ScP8hOi8cvJJWg9lm4Vv8TdlaxakxcPHGLWE69q1OJzU4hatN2DvwLNYd3xWfEKKsJqqybn5RSZUITEaVKyJGYVKYs2833/xynqlcIPdrdxh+xc4hxWYoTo2DPCtg0C/YutUbxrN4SOo6xTrL1u53RIdGzLjT4ej4xM2YS/cEHHPjzT4KffgrfgQMvbijzMmSMIXnVak5OmULGgQN4de5M9Yfvx9Mzyl5bsty6yiUP8a9PwKjbqOIRyvG3viR8zn/4pfxB8FM9cS76BrVKqQpKm2YqCG2aKb9iktOZunIfczccxtlJGNOjAXf1aoSPuwhttps://epynn.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://epynn.net/YUtLo/ojD1P11lvP68SdefKk1ezyy1JSN20CY3Br2BDfAVbNh3vTpmU+sFvyqlVEvfse6bt3496kCUEPTMS7b18d3M1OE5HyTxOREiYizsAe4CogHPgLuNkYsyNPmSbA18CVxpg4EalujDlZ1HrLQyISl5LB1vB4th6J5++j8fxzNJ6EtEwAqrg5c1kdK+FoW9efdnX9qe5bSv0L0uLg8Do4uNZKPiK3AQZcPKFeV2hwhTXmR612F3Sn2/Jod+xuXvrzJf6J+odONTrxbJdnahttps://epynn.net/oy5rN2NgYsZFFexbx65FfybRl0q56OwY3Gcz3+79nc+RmXr/idQY0KN0xQLKiojjx7HMk//YbXpd3pdYrr+Bas2ah5TMjI0lauozEZUtJ27zFSj4aN8K3v1Xz4da4scNP+sZmI/Hnn4me+j4Zhw7h0aYNQQ88QJXu3Rwem6NpIlL+aSJSwkTkcmCSMaa//flTAMaYV/OUeQPYY4z5tLjrLetEJCPLxs4TZzaxHIpJBcBJoGmwj5Vw1POnbd2qNK7ujbNTKX3hnUqAw+ut2o6DayDiP6zEwwPqdrZqOxpcAbXaF2uY9YrKZmx8s/cb3t78NqlZqYxuNZrxl43Hw6V8dyiNTovmu33fsWjvIo4mHcXXzZeBjQYypMkQGle1xmZJzUzl7hV380/UP7zR8w2uDrm6VGMyxhC/YAGRr72OODtT49ln8B04MPeknXniBEnLlpH4y1LS/v4bAPemTa0Op/3749645MaUKUkmK4uE774n+oMPyDx+HM+OHaj+4IMV4tLr0qKJSPmniUgJE5GhwABjzFj789uALsaY+/KUWYxVa9Idq/lmkjHmlwLWNR4YD1CvXr0Ohw8fLpWYjTEcjU3j76Onk47txxPJyLIBUN3HPTfhaFvXn8vq+FHFvRSbONKTTiceh9bCiX/A2MDZ3Z549LBqPOp0vKgRTiuqmLQY/rfpfyw5sIQ63nV4tuuzdK/d3dFhncFmbKw/vp5Fexex6sgqskwWHYM7MqTpEK6qfxXuzme/bymZKdy94m7+i/qPKb2m0Ld+yYynUpSMo0c5/sSTpG3Zgs/VV+PZrh1Jv/xC2j//AODevLnV7HJ1f9wbNij1eEqKLSOD+AULiP74Y7KjoqnSowdBD0wsk6uGyhtNRMo/TURKWDETkR+ATGA4UAdYA7QxxsQXtt6SrBFJSMvhttps://epynn.net/j5iJR3/HI0nJiUDAA9XJy6rfbqJpW1df2r6eZRu9W56Mhz9097UshaObwWTDU6uUKeTvamlh/W/q46dkGPjiY289OdLHEo8RP+Q/jze6XGqezn2PisnU0/y7d5v+XbftxxLPkZV96rc2PhGBjcZThttps://epynn.net/IkzOSmbBiAtujt/NW77foU69PqcdssrOJmTmTqPemQmYm7i1bWM0u/a/GLSSk1LdfmmxpacR9+RUx06eTHR+Pd7++BE2ciEfTsh0nx5E0ESn/NBEpYcVsmvkY2GCMmWV//ivwpDHmr8LWe6GJSGa2jd0RSfx91OrbsfVoHPujUnLnN67ufbpDaV1/mtXwwdW5lHvdZ6Raiceh363k4/gW6062Ti5Qu4NV29HgCqjTGdwufsjzS1lGdgazts1i2r/TcHV25f529zOi2QicnZzLLIZsWzZ/HP+DBXsWsDZ8Ldkmmy41uzC0yVCurHclbs7n11yWlJHEXcvvYmfsTt7p/Q696hY+AFtJyjxxApOVhVvdumWyvbKUnZxM7GefETtrNraUFHyvu46g++6t8IlWcWgiUv5pIlLCRMQFq9mlL3AMq7PqLcaY7XnKDMDqwHqHiAQCfwNtjTExha33QhORYR+v469DcQAEVHE74yqWy+r44+dZyp05jYHE4xC1E47Yk4/wTWDLBHGG2u1PN7XU6wpuVUo3nkvUkcQjTN4wmXXH19EyoCXPX/48rQJaleo2I1Ii+GbvN3y771siUiKo5lGNQY0HMbjJYOr51ruodSdmJDJu2Tj2xu3lvSvfo0ftHiUUdeWWHR9PzIyZxH7xBSYjA79BNxF0zz2X9J1+NREp/zQRKQUici3wDlb/j5nGmMki8iKwyRjzvVjtHP8DBgDZwGRjzLyi1nmhicjP/50g02ZoV9efOlU9S6+JxWaDhCMQtRuidtn/2h8ZSVYZcYKabU9f1VKvK7j7lE48lZAxhqWHlvL6X68TeyqWEc1GcF+7+/BxK7l9nGXLYk34GhbtXcTvx37HGEO3Wt0Y0nQIvev0xrUEr1JKSE9g3LJx7I/fz9Qrp9Ktdvm4Z8ylICsqiujp04n/yvrauZTv9KuJSPmniUgFUR4u3wUgOwviDtmTjV0Qvcf+/x7IyjNwmXcwBDWDwGbW36Bm1jgeHuXzbqiXkqSMJKb+PZV5u+YR6BnI450fp3/9/heVhIYnhfPN3m/4bt93nEw7SZBnEIOaWLUftb1rl2D0Zhttps://epynn.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://epynn.net/HsH8+SlpXm6LCUOoMmIiXvGJD3G6qOfVoOH6A1sFpEDgFdge+1w6pSZaN9cHs+7PshESkRjF06lpi0mELL/hf1H2E/hjH176n0qduH72/6nkFNBpXqJbklrZpHNT7q9xF3h97Nkv1LGPnTSA4lHHJ0WErl0kSk5P0FNBGRBiLiBowAvs+ZaYxJMMYEGmNCjDEhwJ/AQGPMJseEq1Tl07FGRz7o+wHHko8xbvk44k7FnTE/NTOV1ze+zsifRpKQnsC7fd7lf73/R6BnoIMivjjOTs7c0/YePu73MVGpUYz4cQRLDy11dFhKAZqIlDhjTBZwH7AU2Al8bYzZLiIvishAx0anlMrRqUYnpvadypHEI4xbNo7https://epynn.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\n",
      "text/plain": [
       "<Figure size 432x288 with 1 Axes>"
      ]
     },
     "metadata": {
      "needs_background": "light"
     },
     "output_type": "display_data"
    }
   ],
   "source": [
    "name = 'Convolution-16-2_Pooling-3-Max_Flatten_Dense-64-relu_Dense-10-softmax'\n",
    "\n",
    "se_hPars['learning_rate'] = 0.005\n",
    "se_hPars['softmax_temperature'] = 5\n",
    "\n",
    "layers = [\n",
    "    embedding,\n",
    "    Convolution(unit_filters=16, filter_size=(2, 2), activate=relu),\n",
    "    Pooling(pool_size=(2, 2)),\n",
    "    Flatten(),\n",
    "    Dense(64, relu),\n",
    "    Dense(10, softmax)\n",
    "]\n",
    "\n",
    "model = EpyNN(layers=layers, name=name)\n",
    "\n",
    "model.initialize(loss='CCE', seed=1, se_hPars=se_hPars.copy(), end='\\r')\n",
    "\n",
    "model.train(epochs=10, init_logs=False)\n",
    "\n",
    "model.plot(path=False)"
   ]
  },
  {
   "cell_type": "markdown",
   "metadata": {},
   "source": [
    "This result is better than the one obtained with the Feed-Forward network. Although we did not use *Dropout* regularization, there is less overfitting and higher accuracy on the validation set."
   ]
  },
  {
   "cell_type": "markdown",
   "metadata": {},
   "source": [
    "For code, maths and pictures behind the convolution and pooling layers, follow these link:\n",
    "\n",
    "* [Convolution (CNN)](https://epynn.net/Convolution.html)\n",
    "* [Pooling (CNN)](https://epynn.net/Pooling.html)"
   ]
  },
  {
   "cell_type": "markdown",
   "metadata": {},
   "source": [
    "## Write, read & Predict"
   ]
  },
  {
   "cell_type": "markdown",
   "metadata": {},
   "source": [
    "A trained model can be written on disk such as:"
   ]
  },
  {
   "cell_type": "code",
   "execution_count": 15,
   "metadata": {},
   "outputs": [
    {
     "name": "stdout",
     "output_type": "stream",
     "text": [
      "\u001b[1m\u001b[32mMake: /media/synthase/beta/EpyNN/nnlive/captcha_mnist/models/1631698381_Convolution-16-2_Pooling-3-Max_Flatten_Dense-64-relu_Dense-10-softmax.pickle\u001b[0m\n"
     ]
    }
   ],
   "source": [
    "model.write()\n",
    "\n",
    "# model.write(path=/your/custom/path)"
   ]
  },
  {
   "cell_type": "markdown",
   "metadata": {},
   "source": [
    "A model can be read from disk such as:"
   ]
  },
  {
   "cell_type": "code",
   "execution_count": 16,
   "metadata": {},
   "outputs": [],
   "source": [
    "model = read_model()\n",
    "\n",
    "# model = read_model(path=/your/custom/path)"
   ]
  },
  {
   "cell_type": "markdown",
   "metadata": {},
   "source": [
    "We can retrieve new features and predict on them."
   ]
  },
  {
   "cell_type": "code",
   "execution_count": 17,
   "metadata": {},
   "outputs": [],
   "source": [
    "X_features, _ = prepare_dataset(N_SAMPLES=10)\n",
    "\n",
    "dset = model.predict(X_features, X_scale=True)"
   ]
  },
  {
   "cell_type": "markdown",
   "metadata": {},
   "source": [
    "Results can be extracted such as:"
   ]
  },
  {
   "cell_type": "code",
   "execution_count": 18,
   "metadata": {},
   "outputs": [
    {
     "name": "stdout",
     "output_type": "stream",
     "text": [
      "0 4 [1.31587431e-03 4.08317943e-05 1.30351360e-03 1.47063124e-03\n",
      " 9.78023255e-01 1.93182534e-03 1.40558825e-03 3.30961357e-04\n",
      " 4.94257777e-04 1.36832613e-02]\n",
      "1 1 [7.28977838e-05 9.29707175e-01 3.32038257e-02 1.98144195e-03\n",
      " 2.40938005e-04 1.34165640e-02 1.50138537e-03 1.67654867e-03\n",
      " 1.77799721e-02 4.19250987e-04]\n",
      "2 3 [4.78064492e-03 3.29830971e-06 1.58072929e-03 9.54198963e-01\n",
      " 6.41479062e-05 1.35982207e-02 5.87131031e-06 3.48727032e-05\n",
      " 2.55519849e-02 1.81267435e-04]\n",
      "3 3 [4.14994350e-03 2.29267766e-03 1.15714086e-02 5.79869691e-01\n",
      " 3.52961208e-04 6.38732938e-02 1.03465443e-04 9.56096045e-03\n",
      " 3.23308022e-01 4.91757634e-03]\n",
      "4 1 [4.89436878e-06 9.80078656e-01 1.78383500e-03 7.31766268e-06\n",
      " 7.22962122e-05 1.67800975e-04 1.39517610e-04 3.73043330e-04\n",
      " 1.73534589e-02 1.91798796e-05]\n",
      "5 4 [1.27447904e-03 3.62544371e-03 1.60817813e-02 5.22806853e-04\n",
      " 5.99689165e-01 3.52024299e-01 1.56190299e-02 1.34865787e-04\n",
      " 8.51033165e-03 2.51779700e-03]\n",
      "6 2 [4.34791238e-02 5.76774386e-03 8.07714111e-01 1.08754447e-02\n",
      " 7.84182950e-04 2.48067747e-02 1.02054993e-02 2.28036464e-02\n",
      " 6.73872013e-02 6.17627146e-03]\n",
      "7 0 [9.99507456e-01 5.13513994e-09 3.37688225e-05 3.65112950e-05\n",
      " 4.74996217e-08 2.58860168e-04 1.39608623e-04 7.52209081e-06\n",
      " 1.61164137e-05 1.04078231e-07]\n",
      "8 1 [3.17634507e-05 9.73326939e-01 7.03134936e-03 4.32744881e-04\n",
      " 1.55381335e-04 2.48030926e-03 6.37703894e-04 2.73099384e-03\n",
      " 1.27339923e-02 4.38822977e-04]\n",
      "9 9 [2.59605004e-05 2.29246440e-05 1.49105703e-05 2.63219182e-04\n",
      " 4.59102905e-02 8.82117671e-04 5.73083834e-05 7.31917762e-02\n",
      " 1.00839461e-03 8.78623098e-01]\n"
     ]
    }
   ],
   "source": [
    "for n, pred, probs in zip(dset.ids, dset.P, dset.A):\n",
    "    print(n, pred, probs)"
   ]
  }
 ],
 "metadata": {
  "kernelspec": {
   "display_name": "Python 3",
   "language": "python",
   "name": "python3"
  },
  "language_info": {
   "codemirror_mode": {
    "name": "ipython",
    "version": 3
   },
   "file_extension": ".py",
   "mimetype": "text/x-python",
   "name": "python",
   "nbconvert_exporter": "python",
   "pygments_lexer": "ipython3",
   "version": "3.7.3"
  }
 },
 "nbformat": 4,
 "nbformat_minor": 4
}
