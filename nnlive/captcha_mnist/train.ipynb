{
 "cells": [
  {
   "cell_type": "markdown",
   "metadata": {},
   "source": [
    "# Multiclass Classification"
   ]
  },
  {
   "cell_type": "markdown",
   "metadata": {},
   "source": [
    "* Find this notebook at `EpyNN/nnlive/captcha_mnist/train.ipynb`.\n",
    "* Regular python code at `EpyNN/nnlive/captcha_mnist/train.py`."
   ]
  },
  {
   "cell_type": "markdown",
   "metadata": {},
   "source": [
    "In this notebook we will review:\n",
    "\n",
    "* Handling numerical data image to proceed with Neural Network regression.\n",
    "* Training of Feed-Forward (FF) and Convolutional Neural Network (CNN) for multiclass classification task.\n",
    "* MNIST database as a benchmark for neural networks."
   ]
  },
  {
   "cell_type": "markdown",
   "metadata": {},
   "source": [
    " Please follow this [external link](http://yann.lecun.com/exdb/mnist/) for detailed contextual information about the MNIST database."
   ]
  },
  {
   "cell_type": "markdown",
   "metadata": {},
   "source": [
    "## Environment and data"
   ]
  },
  {
   "cell_type": "markdown",
   "metadata": {},
   "source": [
    "Follow [this link](prepare_dataset.ipynb) for details about data preparation."
   ]
  },
  {
   "cell_type": "markdown",
   "metadata": {},
   "source": [
    "Briefly, the MNIST database contains 70 000 images (60K + 10k).\n",
    "\n",
    "Each image contains a single handwritten digit. In total, 500 different human writters contributed to the whole.\n",
    "\n",
    "The MNIST database is curated in that images were size normalized and centered."
   ]
  },
  {
   "cell_type": "code",
   "execution_count": 1,
   "metadata": {},
   "outputs": [],
   "source": [
    "# EpyNN/nnlive/captcha_mnist/train.ipynb\n",
    "# Standard library imports\n",
    "import random\n",
    "\n",
    "# Related third party imports\n",
    "import matplotlib.pyplot as plt\n",
    "import numpy as np\n",
    "\n",
    "# Local application/library specific imports\n",
    "import nnlibs.initialize\n",
    "from nnlibs.commons.maths import relu, softmax\n",
    "from nnlibs.commons.library import (\n",
    "    configure_directory,\n",
    "    read_model,\n",
    ")\n",
    "from nnlibs.network.models import EpyNN\n",
    "\n",
    "from nnlibs.embedding.models import Embedding\n",
    "from nnlibs.convolution.models import Convolution\n",
    "from nnlibs.pooling.models import Pooling\n",
    "from nnlibs.flatten.models import Flatten\n",
    "from nnlibs.dropout.models import Dropout\n",
    "from nnlibs.dense.models import Dense\n",
    "from prepare_dataset import prepare_dataset\n",
    "from settings import se_hPars\n",
    "\n",
    "\n",
    "########################## CONFIGURE ##########################\n",
    "random.seed(1)\n",
    "np.random.seed(1)\n",
    "\n",
    "np.set_printoptions(threshold=10)\n",
    "\n",
    "np.seterr(all='warn')\n",
    "\n",
    "configure_directory()\n",
    "\n",
    "\n",
    "############################ DATASET ##########################\n",
    "X_features, Y_label = prepare_dataset(N_SAMPLES=7500)"
   ]
  },
  {
   "cell_type": "markdown",
   "metadata": {},
   "source": [
    "Let's control what we retrieved."
   ]
  },
  {
   "cell_type": "code",
   "execution_count": 2,
   "metadata": {},
   "outputs": [
    {
     "name": "stdout",
     "output_type": "stream",
     "text": [
      "7500\n",
      "(28, 28, 1)\n",
      "{0.0, 4.0, 5.0, 6.0, 7.0, 8.0, 9.0, 12.0, 13.0, 14.0, 18.0, 20.0, 23.0, 25.0, 26.0, 29.0, 31.0, 33.0, 38.0, 41.0, 49.0, 53.0, 55.0, 59.0, 61.0, 63.0, 66.0, 67.0, 74.0, 75.0, 76.0, 77.0, 87.0, 88.0, 90.0, 99.0, 106.0, 108.0, 111.0, 114.0, 122.0, 125.0, 127.0, 128.0, 130.0, 131.0, 139.0, 143.0, 144.0, 148.0, 149.0, 152.0, 154.0, 155.0, 157.0, 161.0, 163.0, 165.0, 180.0, 181.0, 187.0, 189.0, 192.0, 198.0, 202.0, 206.0, 209.0, 215.0, 217.0, 218.0, 219.0, 224.0, 228.0, 232.0, 234.0, 236.0, 237.0, 239.0, 240.0, 244.0, 247.0, 248.0, 249.0, 250.0, 252.0, 253.0, 254.0, 255.0}\n"
     ]
    }
   ],
   "source": [
    "print(len(X_features))\n",
    "print(X_features[0].shape)\n",
    "print(set(X_features[0].flatten().tolist()))    # Get all unique tones in image"
   ]
  },
  {
   "cell_type": "markdown",
   "metadata": {},
   "source": [
    "We retrieved sample features describing ``7500`` samples.\n",
    "\n",
    "For each sample, we retrieved  features as a three-dimensional array of shape ``(widht, height, depth)``. Each image has dimension 28x28 and so contains 784 pixels.\n",
    "\n",
    "In the context, remember that the ``depth`` dimension represents the number of channels which encode the image. While the depth of any RGB image would be equal to 3, the depth of a grayscale image is equal to one. We namely have a regular grayscale image in that shades of gray range from 0 to 255. \n",
    "\n",
    "Let's recall how this looks like."
   ]
  },
  {
   "cell_type": "code",
   "execution_count": 3,
   "metadata": {},
   "outputs": [
    {
     "name": "stdout",
     "output_type": "stream",
     "text": [
      "label: 5\n"
     ]
    },
    {
     "data": {
      "image/png": "[encoded data removed]",
      "text/plain": [
       "<Figure size 432x288 with 1 Axes>"
      ]
     },
     "metadata": {
      "needs_background": "light"
     },
     "output_type": "display_data"
    },
    {
     "name": "stdout",
     "output_type": "stream",
     "text": [
      "label: 7\n"
     ]
    },
    {
     "data": {
      "image/png": "[encoded data removed]",
      "text/plain": [
       "<Figure size 432x288 with 1 Axes>"
      ]
     },
     "metadata": {
      "needs_background": "light"
     },
     "output_type": "display_data"
    }
   ],
   "source": [
    "print('label:', Y_label[0])\n",
    "plt.imshow(X_features[0], cmap='gray')\n",
    "plt.show()\n",
    "\n",
    "print('label:', Y_label[4])\n",
    "plt.imshow(X_features[4], cmap='gray')\n",
    "plt.show()"
   ]
  },
  {
   "cell_type": "markdown",
   "metadata": {},
   "source": [
    "According to [comments from the authors](http://yann.lecun.com/exdb/mnist/) of the MNIST database: *\"The original black and white (bilevel) images from NIST were size normalized \\[...\\]. The resulting images contain grey levels as a result of the anti-aliasing technique used by the normalization algorithm\"*."
   ]
  },
  {
   "cell_type": "markdown",
   "metadata": {},
   "source": [
    "## Feed-Forward (FF)"
   ]
  },
  {
   "cell_type": "markdown",
   "metadata": {},
   "source": [
    "As explained in other exemples of network training, we like to begin by a Feed-Forward network each time we start to investigate a new problem. This because:\n",
    "\n",
    "* Feed-Forward (Dense-based) network are computationally faster to train than other architectures.\n",
    "* Such network may be less sensitive to training hyperparameters and thus they are easier to train.\n",
    "* There is no reasonable day/night results depending on the architecture: one Feed-Forward - even if inappropriate - architecture may result in metrics that will not be made twice better by using an appropriate architecture. This mostly depends on hyperparameters and data processing."
   ]
  },
  {
   "cell_type": "markdown",
   "metadata": {},
   "source": [
    "About this last item, one may look at the above-linked page which reports on classifier error rate with respect to method or architecture.\n",
    "\n",
    "As a condensate:\n",
    "\n",
    "* Single-layer FF (Perceptron) - 12.0% error.\n",
    "* Single-layer FF (Perceptron) - 7.6% error with deskewing.\n",
    "* Two-layers FF with 800 hidden nodes - 1.6% error.\n",
    "* Committee of 35 Convolutional Neural Networks (CNN) - 0.23% error (best of all reported).\n",
    "\n",
    "First, we can see that from the very basic perceptron to the most evolved CNN there is an improvement from 88% to 99.77% accuracy. This is a huge gap, but both architecture succeed at recognizing patterns and drawing a decent model. \n",
    "\n",
    "Note the gap is significantly reduced by simply applying *deskewing* to the image data, which highlights the critical importance of data pre-processing in the ability of the network to result in an accurate model.\n",
    "\n",
    "Also note that perceptron are only able of linear regression while multi-layers Feed-Forward or CNN and other architectures can achieve non-linear regressions.\n",
    "\n",
    "When considering the two-layers FF with 800 hidden nodes versus the state-of-the-art CNN, the accuracy goes from 98.4% to 99.77%. Overall, this illustrates that classical Feed-Forward networks may be a good alternative to more appropriate architecture when balancing between accuracy, hardness of training and need for more computational time."
   ]
  },
  {
   "cell_type": "markdown",
   "metadata": {},
   "source": [
    "### Embedding"
   ]
  },
  {
   "cell_type": "markdown",
   "metadata": {},
   "source": [
    "We start from sample features containing values ranging from 0 to 255.\n",
    "\n",
    "The most important things is to **normalize** sample features withing \\[0, 1\\].\n",
    "\n",
    "The second thing is to set a batch size which, in this case, will makes the regression converging faster.\n",
    "\n",
    "The last - but not least - thing is to one-hot encode the set of sample label. While one may not do this with binary classification problems and thus use a single node in the output dense layer - from which 0 or 1 decisions can be extracted -, the same can not reasonably be done with multiclass classification. Because we have ten distinct labels in the game, the reasonable choice is to use 10 output nodes and to one-hot encode the set of sample label."
   ]
  },
  {
   "cell_type": "code",
   "execution_count": 4,
   "metadata": {},
   "outputs": [],
   "source": [
    "embedding = Embedding(X_data=X_features,\n",
    "                      Y_data=Y_label,\n",
    "                      X_scale=True,\n",
    "                      Y_encode=True,\n",
    "                      batch_size=500,\n",
    "                      relative_size=(2, 1, 0))"
   ]
  },
  {
   "cell_type": "markdown",
   "metadata": {},
   "source": [
    "About data normalization:\n",
    "\n",
    "* It diminishes the complexity of the problem.\n",
    "* It accelerates training and makes it easier.\n",
    "* If no normalization is done in this example, the loss function and gradients will both readily explode and generate floatting points errors."
   ]
  },
  {
   "cell_type": "markdown",
   "metadata": {},
   "source": [
    "About this last point, remember that exponentials are used in the context of neural networks. If you begin feeding exponential functions with large numbers such as 255, you can be sure you will get floatting points errors pretty quickly: the computer typically deals with 64-bits float number, which has maximal value of ``1.8 * 10 ** 308``. \n",
    "\n",
    "Note that in previously used 32-bits processors architecture, this maximal value was down to ``3.4 * 10 ** 38``. Compare with ``exp(255)`` which outputs ``5.56 * 10 ** 110`` and conclude that un-normalized data in the context of this notebook would have overflowed straight away on a - not that ancient - 32-bits system."
   ]
  },
  {
   "cell_type": "markdown",
   "metadata": {},
   "source": [
    "### Flatten-(Dense)n with Dropout"
   ]
  },
  {
   "cell_type": "markdown",
   "metadata": {},
   "source": [
    "We already explained why we need to use a *flatten* layer when willing to forward arrays of more than 2 dimensions to the *dense* layer: image data have three dimensions, and the array of sample features - the array of sample image - has four dimensions. Therefore we need to flatten this array to give it a bi-dimensional shape."
   ]
  },
  {
   "cell_type": "code",
   "execution_count": 5,
   "metadata": {
    "tags": []
   },
   "outputs": [],
   "source": [
    "name = 'Flatten_Dropout-08_Dense-64-relu_Dropout-07_Dense-10-softmax'\n",
    "\n",
    "se_hPars['learning_rate'] = 0.05\n",
    "se_hPars['softmax_temperature'] = 5\n",
    "\n",
    "flatten = Flatten()\n",
    "\n",
    "dropout1 = Dropout(keep_prob=0.8)\n",
    "\n",
    "hidden_dense = Dense(64, relu)\n",
    "\n",
    "dropout2 = Dropout(keep_prob=0.7)\n",
    "\n",
    "dense = Dense(10, softmax)\n",
    "\n",
    "layers = [embedding, flatten, dropout1, hidden_dense, dropout2, dense]\n",
    "\n",
    "model = EpyNN(layers=layers, name=name)"
   ]
  },
  {
   "cell_type": "markdown",
   "metadata": {
    "tags": []
   },
   "source": [
    "We have set up a custom learning rate, along with the 10 nodes in the output layers because we have labels one-hot encoded over 10 digit and again because we have ten distinct labels.\n",
    "\n",
    "Dropout layers were set to reduce overfitting and the *softmax temperature* was set higher than one to smooth the output probability distribution which practically results in more numerically stable training."
   ]
  },
  {
   "cell_type": "code",
   "execution_count": 6,
   "metadata": {
    "tags": []
   },
   "outputs": [
    {
     "name": "stdout",
     "output_type": "stream",
     "text": [
      "\u001b[1m--- EpyNN Check --- \u001b[0m\n",
      "\u001b[1mLayer: Embedding\u001b[0m\n",
      "\u001b[1m\u001b[32mcompute_shapes: Embedding\u001b[0m\n",
      "\u001b[1m\u001b[32minitialize_parameters: Embedding\u001b[0m\n",
      "\u001b[1m\u001b[32mforward: Embedding\u001b[0m\n",
      "\u001b[1mLayer: Flatten\u001b[0m\n",
      "\u001b[1m\u001b[32mcompute_shapes: Flatten\u001b[0m\n",
      "\u001b[1m\u001b[32minitialize_parameters: Flatten\u001b[0m\n",
      "\u001b[1m\u001b[32mforward: Flatten\u001b[0m\n",
      "\u001b[1mLayer: Dropout\u001b[0m\n",
      "\u001b[1m\u001b[32mcompute_shapes: Dropout\u001b[0m\n",
      "\u001b[1m\u001b[32minitialize_parameters: Dropout\u001b[0m\n",
      "\u001b[1m\u001b[32mforward: Dropout\u001b[0m\n",
      "\u001b[1mLayer: Dense\u001b[0m\n",
      "\u001b[1m\u001b[32mcompute_shapes: Dense\u001b[0m\n",
      "\u001b[1m\u001b[32minitialize_parameters: Dense\u001b[0m\n",
      "\u001b[1m\u001b[32mforward: Dense\u001b[0m\n",
      "\u001b[1mLayer: Dropout\u001b[0m\n",
      "\u001b[1m\u001b[32mcompute_shapes: Dropout\u001b[0m\n",
      "\u001b[1m\u001b[32minitialize_parameters: Dropout\u001b[0m\n",
      "\u001b[1m\u001b[32mforward: Dropout\u001b[0m\n",
      "\u001b[1mLayer: Dense\u001b[0m\n",
      "\u001b[1m\u001b[32mcompute_shapes: Dense\u001b[0m\n",
      "\u001b[1m\u001b[32minitialize_parameters: Dense\u001b[0m\n",
      "\u001b[1m\u001b[32mforward: Dense\u001b[0m\n",
      "\u001b[1mLayer: Dense\u001b[0m\n",
      "\u001b[1m\u001b[36mbackward: Dense\u001b[0m\n",
      "\u001b[1m\u001b[36mcompute_gradients: Dense\u001b[0m\n",
      "\u001b[1mLayer: Dropout\u001b[0m\n",
      "\u001b[1m\u001b[36mbackward: Dropout\u001b[0m\n",
      "\u001b[1m\u001b[36mcompute_gradients: Dropout\u001b[0m\n",
      "\u001b[1mLayer: Dense\u001b[0m\n",
      "\u001b[1m\u001b[36mbackward: Dense\u001b[0m\n",
      "\u001b[1m\u001b[36mcompute_gradients: Dense\u001b[0m\n",
      "\u001b[1mLayer: Dropout\u001b[0m\n",
      "\u001b[1m\u001b[36mbackward: Dropout\u001b[0m\n",
      "\u001b[1m\u001b[36mcompute_gradients: Dropout\u001b[0m\n",
      "\u001b[1mLayer: Flatten\u001b[0m\n",
      "\u001b[1m\u001b[36mbackward: Flatten\u001b[0m\n",
      "\u001b[1m\u001b[36mcompute_gradients: Flatten\u001b[0m\n",
      "\u001b[1mLayer: Embedding\u001b[0m\n",
      "\u001b[1m\u001b[36mbackward: Embedding\u001b[0m\n",
      "\u001b[1m\u001b[36mcompute_gradients: Embedding\u001b[0m\n"
     ]
    }
   ],
   "source": [
    "model.initialize(loss='CCE', seed=1, se_hPars=se_hPars.copy())"
   ]
  },
  {
   "cell_type": "markdown",
   "metadata": {},
   "source": [
    "We have set the loss function to use *Categorical Cross Entropy* instead of *Binary Cross Entropy*. This because we have ten distinct labels instead of two."
   ]
  },
  {
   "cell_type": "code",
   "execution_count": 7,
   "metadata": {},
   "outputs": [
    {
     "name": "stdout",
     "output_type": "stream",
     "text": [
      "+-------+----------+----------+-------+----------+-------+-------+-------------------------------------------------------------------------+\n",
      "| \u001b[1m\u001b[37mepoch\u001b[0m |  \u001b[1m\u001b[37mlrate\u001b[0m   |  \u001b[1m\u001b[37mlrate\u001b[0m   |       | \u001b[1m\u001b[32maccuracy\u001b[0m |       |  \u001b[1m\u001b[31mCCE\u001b[0m  |                               \u001b[37mExperiment\u001b[0m                                |\n",
      "|       |  \u001b[37mDense\u001b[0m   |  \u001b[37mDense\u001b[0m   |  \u001b[1m\u001b[32m(0)\u001b[0m  |   \u001b[1m\u001b[32m(1)\u001b[0m    |  \u001b[1m\u001b[31m(0)\u001b[0m  |  \u001b[1m\u001b[31m(1)\u001b[0m  |                                                                         |\n",
      "+-------+----------+----------+-------+----------+-------+-------+-------------------------------------------------------------------------+\n",
      "|   \u001b[1m\u001b[37m0\u001b[0m   | \u001b[1m\u001b[37m5.00e-02\u001b[0m | \u001b[1m\u001b[37m5.00e-02\u001b[0m | \u001b[1m\u001b[32m0.594\u001b[0m |  \u001b[1m\u001b[32m0.583\u001b[0m   | \u001b[1m\u001b[31m0.130\u001b[0m | \u001b[1m\u001b[31m0.132\u001b[0m | \u001b[37m1628846508_Flatten_Dropout-08_Dense-64-relu_Dropout-07_Dense-10-softmax\u001b[0m |\n",
      "|  \u001b[1m\u001b[37m10\u001b[0m   | \u001b[1m\u001b[37m5.00e-02\u001b[0m | \u001b[1m\u001b[37m5.00e-02\u001b[0m | \u001b[1m\u001b[32m0.868\u001b[0m |  \u001b[1m\u001b[32m0.860\u001b[0m   | \u001b[1m\u001b[31m0.046\u001b[0m | \u001b[1m\u001b[31m0.045\u001b[0m | \u001b[37m1628846508_Flatten_Dropout-08_Dense-64-relu_Dropout-07_Dense-10-softmax\u001b[0m |\n",
      "|  \u001b[1m\u001b[37m20\u001b[0m   | \u001b[1m\u001b[37m5.00e-02\u001b[0m | \u001b[1m\u001b[37m5.00e-02\u001b[0m | \u001b[1m\u001b[32m0.898\u001b[0m |  \u001b[1m\u001b[32m0.886\u001b[0m   | \u001b[1m\u001b[31m0.036\u001b[0m | \u001b[1m\u001b[31m0.038\u001b[0m | \u001b[37m1628846508_Flatten_Dropout-08_Dense-64-relu_Dropout-07_Dense-10-softmax\u001b[0m |\n",
      "|  \u001b[1m\u001b[37m30\u001b[0m   | \u001b[1m\u001b[37m5.00e-02\u001b[0m | \u001b[1m\u001b[37m5.00e-02\u001b[0m | \u001b[1m\u001b[32m0.915\u001b[0m |  \u001b[1m\u001b[32m0.893\u001b[0m   | \u001b[1m\u001b[31m0.031\u001b[0m | \u001b[1m\u001b[31m0.037\u001b[0m | \u001b[37m1628846508_Flatten_Dropout-08_Dense-64-relu_Dropout-07_Dense-10-softmax\u001b[0m |\n",
      "|  \u001b[1m\u001b[37m40\u001b[0m   | \u001b[1m\u001b[37m5.00e-02\u001b[0m | \u001b[1m\u001b[37m5.00e-02\u001b[0m | \u001b[1m\u001b[32m0.926\u001b[0m |  \u001b[1m\u001b[32m0.907\u001b[0m   | \u001b[1m\u001b[31m0.029\u001b[0m | \u001b[1m\u001b[31m0.034\u001b[0m | \u001b[37m1628846508_Flatten_Dropout-08_Dense-64-relu_Dropout-07_Dense-10-softmax\u001b[0m |\n",
      "|  \u001b[1m\u001b[37m50\u001b[0m   | \u001b[1m\u001b[37m5.00e-02\u001b[0m | \u001b[1m\u001b[37m5.00e-02\u001b[0m | \u001b[1m\u001b[32m0.936\u001b[0m |  \u001b[1m\u001b[32m0.907\u001b[0m   | \u001b[1m\u001b[31m0.026\u001b[0m | \u001b[1m\u001b[31m0.034\u001b[0m | \u001b[37m1628846508_Flatten_Dropout-08_Dense-64-relu_Dropout-07_Dense-10-softmax\u001b[0m |\n",
      "|  \u001b[1m\u001b[37m60\u001b[0m   | \u001b[1m\u001b[37m5.00e-02\u001b[0m | \u001b[1m\u001b[37m5.00e-02\u001b[0m | \u001b[1m\u001b[32m0.940\u001b[0m |  \u001b[1m\u001b[32m0.915\u001b[0m   | \u001b[1m\u001b[31m0.023\u001b[0m | \u001b[1m\u001b[31m0.031\u001b[0m | \u001b[37m1628846508_Flatten_Dropout-08_Dense-64-relu_Dropout-07_Dense-10-softmax\u001b[0m |\n",
      "|  \u001b[1m\u001b[37m70\u001b[0m   | \u001b[1m\u001b[37m5.00e-02\u001b[0m | \u001b[1m\u001b[37m5.00e-02\u001b[0m | \u001b[1m\u001b[32m0.942\u001b[0m |  \u001b[1m\u001b[32m0.912\u001b[0m   | \u001b[1m\u001b[31m0.022\u001b[0m | \u001b[1m\u001b[31m0.030\u001b[0m | \u001b[37m1628846508_Flatten_Dropout-08_Dense-64-relu_Dropout-07_Dense-10-softmax\u001b[0m |\n",
      "|  \u001b[1m\u001b[37m80\u001b[0m   | \u001b[1m\u001b[37m5.00e-02\u001b[0m | \u001b[1m\u001b[37m5.00e-02\u001b[0m | \u001b[1m\u001b[32m0.946\u001b[0m |  \u001b[1m\u001b[32m0.914\u001b[0m   | \u001b[1m\u001b[31m0.020\u001b[0m | \u001b[1m\u001b[31m0.030\u001b[0m | \u001b[37m1628846508_Flatten_Dropout-08_Dense-64-relu_Dropout-07_Dense-10-softmax\u001b[0m |\n",
      "|  \u001b[1m\u001b[37m90\u001b[0m   | \u001b[1m\u001b[37m5.00e-02\u001b[0m | \u001b[1m\u001b[37m5.00e-02\u001b[0m | \u001b[1m\u001b[32m0.953\u001b[0m |  \u001b[1m\u001b[32m0.919\u001b[0m   | \u001b[1m\u001b[31m0.019\u001b[0m | \u001b[1m\u001b[31m0.030\u001b[0m | \u001b[37m1628846508_Flatten_Dropout-08_Dense-64-relu_Dropout-07_Dense-10-softmax\u001b[0m |\n",
      "|  \u001b[1m\u001b[37m99\u001b[0m   | \u001b[1m\u001b[37m5.00e-02\u001b[0m | \u001b[1m\u001b[37m5.00e-02\u001b[0m | \u001b[1m\u001b[32m0.952\u001b[0m |  \u001b[1m\u001b[32m0.911\u001b[0m   | \u001b[1m\u001b[31m0.019\u001b[0m | \u001b[1m\u001b[31m0.030\u001b[0m | \u001b[37m1628846508_Flatten_Dropout-08_Dense-64-relu_Dropout-07_Dense-10-softmax\u001b[0m |\n",
      "+-------+----------+----------+-------+----------+-------+-------+-------------------------------------------------------------------------+\n",
      "\u001b[1m\u001b[37mEpoch: 99 - TIME: 30s RATE: 3.33e/s TTC: 1s\u001b[0m\r"
     ]
    }
   ],
   "source": [
    "model.train(epochs=100, init_logs=False)"
   ]
  },
  {
   "cell_type": "markdown",
   "metadata": {},
   "source": [
    "On a small fraction of the MNIST dataset we observe that the overfitting, while visible, is well reduced by the use of two *dropout* layers. The accuracy on testing data is correct, while it may be improved with no doubt by using more hidden nodes or by adding a third *dense* layer in the network, yielding an architecture related to *Deep Feed-Forward*.\n",
    "\n",
    "Increasing the number of nodes or adding a new layer will however requires a thinner optimization and higher computational time."
   ]
  },
  {
   "cell_type": "code",
   "execution_count": 8,
   "metadata": {
    "tags": []
   },
   "outputs": [
    {
     "data": {
      "image/png": "[encoded data removed]",
      "text/plain": [
       "<Figure size 432x288 with 1 Axes>"
      ]
     },
     "metadata": {
      "needs_background": "light"
     },
     "output_type": "display_data"
    }
   ],
   "source": [
    "model.plot(path=False)"
   ]
  },
  {
   "cell_type": "markdown",
   "metadata": {},
   "source": [
    "_"
   ]
  },
  {
   "cell_type": "markdown",
   "metadata": {},
   "source": [
    "## Convolutional Neural Network (CNN)"
   ]
  },
  {
   "cell_type": "markdown",
   "metadata": {},
   "source": [
    "_"
   ]
  },
  {
   "cell_type": "markdown",
   "metadata": {},
   "source": [
    "### Embedding"
   ]
  },
  {
   "cell_type": "markdown",
   "metadata": {},
   "source": [
    "_"
   ]
  },
  {
   "cell_type": "code",
   "execution_count": 9,
   "metadata": {},
   "outputs": [],
   "source": [
    "embedding = Embedding(X_data=X_features,\n",
    "                      Y_data=Y_label,\n",
    "                      X_scale=True,\n",
    "                      Y_encode=True,\n",
    "                      batch_size=500,\n",
    "                      relative_size=(2, 1, 0))"
   ]
  },
  {
   "cell_type": "markdown",
   "metadata": {},
   "source": [
    "_"
   ]
  },
  {
   "cell_type": "markdown",
   "metadata": {},
   "source": [
    "### Conv-MaxPool-Flatten-Dense"
   ]
  },
  {
   "cell_type": "markdown",
   "metadata": {},
   "source": [
    "_"
   ]
  },
  {
   "cell_type": "code",
   "execution_count": 10,
   "metadata": {
    "tags": []
   },
   "outputs": [],
   "source": [
    "name = 'Convolution-32-2_Pooling-3-3-Max_Flatten_Dense-10-softmax'\n",
    "\n",
    "se_hPars['learning_rate'] = 0.005\n",
    "se_hPars['softmax_temperature'] = 5\n",
    "\n",
    "convolution = Convolution(n_filters=32, f_width=2, activate=relu)\n",
    "\n",
    "pooling = Pooling(pool_size=(3, 3), stride=3)\n",
    "\n",
    "flatten = Flatten()\n",
    "\n",
    "# hidden_dense = Dense(128, relu)\n",
    "dense = Dense(10, softmax)\n",
    "\n",
    "layers = [embedding, convolution, pooling, flatten, dense]\n",
    "# layers = [embedding, convolution, pooling, flatten, hidden_dense, dense]\n",
    "\n",
    "model = EpyNN(layers=layers, name=name)"
   ]
  },
  {
   "cell_type": "markdown",
   "metadata": {
    "tags": []
   },
   "source": [
    "_"
   ]
  },
  {
   "cell_type": "code",
   "execution_count": 11,
   "metadata": {
    "tags": []
   },
   "outputs": [
    {
     "name": "stdout",
     "output_type": "stream",
     "text": [
      "\u001b[1m--- EpyNN Check --- \u001b[0m\n",
      "\u001b[1mLayer: Embedding\u001b[0m\n",
      "\u001b[1m\u001b[32mcompute_shapes: Embedding\u001b[0m\n",
      "\u001b[1m\u001b[32minitialize_parameters: Embedding\u001b[0m\n",
      "\u001b[1m\u001b[32mforward: Embedding\u001b[0m\n",
      "\u001b[1mLayer: Convolution\u001b[0m\n",
      "\u001b[1m\u001b[32mcompute_shapes: Convolution\u001b[0m\n",
      "\u001b[1m\u001b[32minitialize_parameters: Convolution\u001b[0m\n",
      "\u001b[1m\u001b[32mforward: Convolution\u001b[0m\n",
      "\u001b[1mLayer: Pooling\u001b[0m\n",
      "\u001b[1m\u001b[32mcompute_shapes: Pooling\u001b[0m\n",
      "\u001b[1m\u001b[32minitialize_parameters: Pooling\u001b[0m\n",
      "\u001b[1m\u001b[32mforward: Pooling\u001b[0m\n",
      "\u001b[1mLayer: Flatten\u001b[0m\n",
      "\u001b[1m\u001b[32mcompute_shapes: Flatten\u001b[0m\n",
      "\u001b[1m\u001b[32minitialize_parameters: Flatten\u001b[0m\n",
      "\u001b[1m\u001b[32mforward: Flatten\u001b[0m\n",
      "\u001b[1mLayer: Dense\u001b[0m\n",
      "\u001b[1m\u001b[32mcompute_shapes: Dense\u001b[0m\n",
      "\u001b[1m\u001b[32minitialize_parameters: Dense\u001b[0m\n",
      "\u001b[1m\u001b[32mforward: Dense\u001b[0m\n",
      "\u001b[1mLayer: Dense\u001b[0m\n",
      "\u001b[1m\u001b[36mbackward: Dense\u001b[0m\n",
      "\u001b[1m\u001b[36mcompute_gradients: Dense\u001b[0m\n",
      "\u001b[1mLayer: Flatten\u001b[0m\n",
      "\u001b[1m\u001b[36mbackward: Flatten\u001b[0m\n",
      "\u001b[1m\u001b[36mcompute_gradients: Flatten\u001b[0m\n",
      "\u001b[1mLayer: Pooling\u001b[0m\n",
      "\u001b[1m\u001b[36mbackward: Pooling\u001b[0m\n",
      "\u001b[1m\u001b[36mcompute_gradients: Pooling\u001b[0m\n",
      "\u001b[1mLayer: Convolution\u001b[0m\n",
      "\u001b[1m\u001b[36mbackward: Convolution\u001b[0m\n",
      "\u001b[1m\u001b[36mcompute_gradients: Convolution\u001b[0m\n",
      "\u001b[1mLayer: Embedding\u001b[0m\n",
      "\u001b[1m\u001b[36mbackward: Embedding\u001b[0m\n",
      "\u001b[1m\u001b[36mcompute_gradients: Embedding\u001b[0m\n"
     ]
    }
   ],
   "source": [
    "model.initialize(loss='CCE', seed=1, se_hPars=se_hPars.copy())"
   ]
  },
  {
   "cell_type": "markdown",
   "metadata": {},
   "source": [
    "_"
   ]
  },
  {
   "cell_type": "code",
   "execution_count": 12,
   "metadata": {},
   "outputs": [
    {
     "name": "stdout",
     "output_type": "stream",
     "text": [
      "+-------+-------------+----------+-------+----------+-------+-------+----------------------------------------------------------------------+\n",
      "| \u001b[1m\u001b[37mepoch\u001b[0m |    \u001b[1m\u001b[37mlrate\u001b[0m    |  \u001b[1m\u001b[37mlrate\u001b[0m   |       | \u001b[1m\u001b[32maccuracy\u001b[0m |       |  \u001b[1m\u001b[31mCCE\u001b[0m  |                              \u001b[37mExperiment\u001b[0m                              |\n",
      "|       | \u001b[37mConvolution\u001b[0m |  \u001b[37mDense\u001b[0m   |  \u001b[1m\u001b[32m(0)\u001b[0m  |   \u001b[1m\u001b[32m(1)\u001b[0m    |  \u001b[1m\u001b[31m(0)\u001b[0m  |  \u001b[1m\u001b[31m(1)\u001b[0m  |                                                                      |\n",
      "+-------+-------------+----------+-------+----------+-------+-------+----------------------------------------------------------------------+\n",
      "|   \u001b[1m\u001b[37m0\u001b[0m   |  \u001b[1m\u001b[37m5.00e-03\u001b[0m   | \u001b[1m\u001b[37m5.00e-03\u001b[0m | \u001b[1m\u001b[32m0.258\u001b[0m |  \u001b[1m\u001b[32m0.254\u001b[0m   | \u001b[1m\u001b[31m0.225\u001b[0m | \u001b[1m\u001b[31m0.225\u001b[0m | \u001b[37m1628846538_Convolution-32-2_Pooling-3-3-Max_Flatten_Dense-10-softmax\u001b[0m |\n",
      "|  \u001b[1m\u001b[37m10\u001b[0m   |  \u001b[1m\u001b[37m5.00e-03\u001b[0m   | \u001b[1m\u001b[37m5.00e-03\u001b[0m | \u001b[1m\u001b[32m0.800\u001b[0m |  \u001b[1m\u001b[32m0.786\u001b[0m   | \u001b[1m\u001b[31m0.065\u001b[0m | \u001b[1m\u001b[31m0.067\u001b[0m | \u001b[37m1628846538_Convolution-32-2_Pooling-3-3-Max_Flatten_Dense-10-softmax\u001b[0m |\n",
      "|  \u001b[1m\u001b[37m20\u001b[0m   |  \u001b[1m\u001b[37m5.00e-03\u001b[0m   | \u001b[1m\u001b[37m5.00e-03\u001b[0m | \u001b[1m\u001b[32m0.866\u001b[0m |  \u001b[1m\u001b[32m0.843\u001b[0m   | \u001b[1m\u001b[31m0.047\u001b[0m | \u001b[1m\u001b[31m0.049\u001b[0m | \u001b[37m1628846538_Convolution-32-2_Pooling-3-3-Max_Flatten_Dense-10-softmax\u001b[0m |\n",
      "|  \u001b[1m\u001b[37m30\u001b[0m   |  \u001b[1m\u001b[37m5.00e-03\u001b[0m   | \u001b[1m\u001b[37m5.00e-03\u001b[0m | \u001b[1m\u001b[32m0.884\u001b[0m |  \u001b[1m\u001b[32m0.867\u001b[0m   | \u001b[1m\u001b[31m0.041\u001b[0m | \u001b[1m\u001b[31m0.044\u001b[0m | \u001b[37m1628846538_Convolution-32-2_Pooling-3-3-Max_Flatten_Dense-10-softmax\u001b[0m |\n",
      "|  \u001b[1m\u001b[37m40\u001b[0m   |  \u001b[1m\u001b[37m5.00e-03\u001b[0m   | \u001b[1m\u001b[37m5.00e-03\u001b[0m | \u001b[1m\u001b[32m0.897\u001b[0m |  \u001b[1m\u001b[32m0.877\u001b[0m   | \u001b[1m\u001b[31m0.038\u001b[0m | \u001b[1m\u001b[31m0.041\u001b[0m | \u001b[37m1628846538_Convolution-32-2_Pooling-3-3-Max_Flatten_Dense-10-softmax\u001b[0m |\n",
      "|  \u001b[1m\u001b[37m50\u001b[0m   |  \u001b[1m\u001b[37m5.00e-03\u001b[0m   | \u001b[1m\u001b[37m5.00e-03\u001b[0m | \u001b[1m\u001b[32m0.904\u001b[0m |  \u001b[1m\u001b[32m0.882\u001b[0m   | \u001b[1m\u001b[31m0.036\u001b[0m | \u001b[1m\u001b[31m0.039\u001b[0m | \u001b[37m1628846538_Convolution-32-2_Pooling-3-3-Max_Flatten_Dense-10-softmax\u001b[0m |\n",
      "|  \u001b[1m\u001b[37m60\u001b[0m   |  \u001b[1m\u001b[37m5.00e-03\u001b[0m   | \u001b[1m\u001b[37m5.00e-03\u001b[0m | \u001b[1m\u001b[32m0.912\u001b[0m |  \u001b[1m\u001b[32m0.889\u001b[0m   | \u001b[1m\u001b[31m0.035\u001b[0m | \u001b[1m\u001b[31m0.039\u001b[0m | \u001b[37m1628846538_Convolution-32-2_Pooling-3-3-Max_Flatten_Dense-10-softmax\u001b[0m |\n",
      "|  \u001b[1m\u001b[37m70\u001b[0m   |  \u001b[1m\u001b[37m5.00e-03\u001b[0m   | \u001b[1m\u001b[37m5.00e-03\u001b[0m | \u001b[1m\u001b[32m0.915\u001b[0m |  \u001b[1m\u001b[32m0.888\u001b[0m   | \u001b[1m\u001b[31m0.034\u001b[0m | \u001b[1m\u001b[31m0.038\u001b[0m | \u001b[37m1628846538_Convolution-32-2_Pooling-3-3-Max_Flatten_Dense-10-softmax\u001b[0m |\n",
      "|  \u001b[1m\u001b[37m80\u001b[0m   |  \u001b[1m\u001b[37m5.00e-03\u001b[0m   | \u001b[1m\u001b[37m5.00e-03\u001b[0m | \u001b[1m\u001b[32m0.920\u001b[0m |  \u001b[1m\u001b[32m0.889\u001b[0m   | \u001b[1m\u001b[31m0.033\u001b[0m | \u001b[1m\u001b[31m0.038\u001b[0m | \u001b[37m1628846538_Convolution-32-2_Pooling-3-3-Max_Flatten_Dense-10-softmax\u001b[0m |\n",
      "|  \u001b[1m\u001b[37m90\u001b[0m   |  \u001b[1m\u001b[37m5.00e-03\u001b[0m   | \u001b[1m\u001b[37m5.00e-03\u001b[0m | \u001b[1m\u001b[32m0.922\u001b[0m |  \u001b[1m\u001b[32m0.888\u001b[0m   | \u001b[1m\u001b[31m0.033\u001b[0m | \u001b[1m\u001b[31m0.038\u001b[0m | \u001b[37m1628846538_Convolution-32-2_Pooling-3-3-Max_Flatten_Dense-10-softmax\u001b[0m |\n",
      "|  \u001b[1m\u001b[37m99\u001b[0m   |  \u001b[1m\u001b[37m5.00e-03\u001b[0m   | \u001b[1m\u001b[37m5.00e-03\u001b[0m | \u001b[1m\u001b[32m0.926\u001b[0m |  \u001b[1m\u001b[32m0.890\u001b[0m   | \u001b[1m\u001b[31m0.033\u001b[0m | \u001b[1m\u001b[31m0.038\u001b[0m | \u001b[37m1628846538_Convolution-32-2_Pooling-3-3-Max_Flatten_Dense-10-softmax\u001b[0m |\n",
      "+-------+-------------+----------+-------+----------+-------+-------+----------------------------------------------------------------------+\n",
      "\u001b[1m\u001b[37mEpoch: 99 - TIME: 1980s RATE: 0.05e/s TTC: 40s\u001b[0m\r"
     ]
    }
   ],
   "source": [
    "model.train(epochs=100, init_logs=False)"
   ]
  },
  {
   "cell_type": "markdown",
   "metadata": {},
   "source": [
    "_"
   ]
  },
  {
   "cell_type": "code",
   "execution_count": 13,
   "metadata": {
    "tags": []
   },
   "outputs": [
    {
     "data": {
      "image/png": "[encoded data removed]",
      "text/plain": [
       "<Figure size 432x288 with 1 Axes>"
      ]
     },
     "metadata": {
      "needs_background": "light"
     },
     "output_type": "display_data"
    }
   ],
   "source": [
    "model.plot(path=False)"
   ]
  }
 ],
 "metadata": {
  "kernelspec": {
   "display_name": "Python 3",
   "language": "python",
   "name": "python3"
  },
  "language_info": {
   "codemirror_mode": {
    "name": "ipython",
    "version": 3
   },
   "file_extension": ".py",
   "mimetype": "text/x-python",
   "name": "python",
   "nbconvert_exporter": "python",
   "pygments_lexer": "ipython3",
   "version": "3.7.3"
  }
 },
 "nbformat": 4,
 "nbformat_minor": 4
}
