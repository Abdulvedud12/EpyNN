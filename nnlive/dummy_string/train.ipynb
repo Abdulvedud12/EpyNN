{
 "cells": [
  {
   "cell_type": "markdown",
   "metadata": {},
   "source": [
    "# Basics with string sequence"
   ]
  },
  {
   "cell_type": "markdown",
   "metadata": {},
   "source": [
    "* Find this notebook at `EpyNN/nnlive/dummy_string/train.ipynb`.\n",
    "* Regular python code at `EpyNN/nnlive/dummy_string/train.py`."
   ]
  },
  {
   "cell_type": "markdown",
   "metadata": {},
   "source": [
    "In this notebook we will review:\n",
    "\n",
    "* Handling sequential string data.\n",
    "* Training of Feed-Forward (FF) and recurrent networks (RNN, LSTM, GRU).\n",
    "* Differences between decisions and probabilities and related functions.\n",
    "\n",
    "**It is assumed that all *basics* notebooks were already reviewed:**\n",
    "\n",
    "* [Basics with Perceptron (P)](../dummy_boolean/train.ipynb)"
   ]
  },
  {
   "cell_type": "markdown",
   "metadata": {},
   "source": [
    "**<font color='red'>This notebook does not enhance, extend or replace EpyNN's documentation.</font>**\n",
    "\n",
    "**Relevant documentation pages for the current notebook:**\n",
    "\n",
    "* [Fully Connected (Dense)](https://epynn.net/Dense.html)\n",
    "* [Recurrent Neural Network (RNN)](https://epynn.net/RNN.html)\n",
    "* [Long Short-Term Memory (LSTM)](https://epynn.net/LSTM.html)\n",
    "* [Gated Recurrent Unit (GRU)](https://epynn.net/GRU.html)"
   ]
  },
  {
   "cell_type": "markdown",
   "metadata": {},
   "source": [
    "## Environment and data"
   ]
  },
  {
   "cell_type": "markdown",
   "metadata": {},
   "source": [
    "Follow [this link](prepare_dataset.ipynb) for details about data preparation."
   ]
  },
  {
   "cell_type": "markdown",
   "metadata": {},
   "source": [
    "Briefly, these dummy string data consists of sequence of characters. Sample features are each represented by one sequence and can be either associated with a positive or negative label.\n",
    "\n",
    "Positive sequences are met when the first element in the sequence is equal to the last element in this same sequence, and reciprocally."
   ]
  },
  {
   "cell_type": "code",
   "execution_count": 1,
   "metadata": {},
   "outputs": [
    {
     "name": "stdout",
     "output_type": "stream",
     "text": [
      "\u001b[1m\u001b[32mMake: /media/synthase/beta/EpyNN/nnlive/dummy_string/datasets\u001b[0m\n",
      "\u001b[1m\u001b[32mMake: /media/synthase/beta/EpyNN/nnlive/dummy_string/models\u001b[0m\n",
      "\u001b[1m\u001b[32mMake: /media/synthase/beta/EpyNN/nnlive/dummy_string/plots\u001b[0m\n"
     ]
    }
   ],
   "source": [
    "# EpyNN/nnlive/dummy_string/train.ipynb\n",
    "# Standard library imports\n",
    "import random\n",
    "\n",
    "# Related third party imports\n",
    "import numpy as np\n",
    "\n",
    "# Local application/library specific imports\n",
    "import nnlibs.initialize\n",
    "from nnlibs.commons.io import one_hot_decode_sequence\n",
    "from nnlibs.commons.maths import relu, softmax\n",
    "from nnlibs.commons.library import (\n",
    "    configure_directory,\n",
    "    read_model,\n",
    ")\n",
    "from nnlibs.network.models import EpyNN\n",
    "from nnlibs.embedding.models import Embedding\n",
    "from nnlibs.flatten.models import Flatten\n",
    "from nnlibs.rnn.models import RNN\n",
    "from nnlibs.gru.models import GRU\n",
    "from nnlibs.lstm.models import LSTM\n",
    "from nnlibs.dense.models import Dense\n",
    "from prepare_dataset import prepare_dataset\n",
    "from settings import se_hPars\n",
    "\n",
    "\n",
    "########################## CONFIGURE ##########################\n",
    "random.seed(1)\n",
    "\n",
    "np.set_printoptions(threshold=10)\n",
    "\n",
    "np.seterr(all='warn')\n",
    "\n",
    "configure_directory()\n",
    "\n",
    "\n",
    "############################ DATASET ##########################\n",
    "X_features, Y_label = prepare_dataset(N_SAMPLES=480)"
   ]
  },
  {
   "cell_type": "markdown",
   "metadata": {},
   "source": [
    "Let's control what we retrieved."
   ]
  },
  {
   "cell_type": "code",
   "execution_count": 2,
   "metadata": {},
   "outputs": [
    {
     "name": "stdout",
     "output_type": "stream",
     "text": [
      "480\n",
      "12\n",
      "['G', 'A', 'C', 'T', 'T', 'G', 'G', 'C', 'C', 'A', 'T', 'C']\n",
      "0\n"
     ]
    }
   ],
   "source": [
    "print(len(X_features))\n",
    "print(len(X_features[0]))\n",
    "print(X_features[0])\n",
    "print(Y_label[0])"
   ]
  },
  {
   "cell_type": "markdown",
   "metadata": {},
   "source": [
    "We retrieved a set sample features describing ``480`` samples.\n",
    "\n",
    "Each sample is described by ``12`` string features.\n",
    "\n",
    "Herein the label is ``0`` because the first and last element are different."
   ]
  },
  {
   "cell_type": "markdown",
   "metadata": {},
   "source": [
    "## Feed-Forward (FF)"
   ]
  },
  {
   "cell_type": "markdown",
   "metadata": {},
   "source": [
    "To compare Feed-Forward and recurrent networks, we are goign to train a simple Perceptron first."
   ]
  },
  {
   "cell_type": "markdown",
   "metadata": {},
   "source": [
    "### Embedding"
   ]
  },
  {
   "cell_type": "markdown",
   "metadata": {},
   "source": [
    "The principle of [One-hot encoding of string features](prepare_dataset.ipynb#One-hot-encoding-of-string-features) was detailed before.\n",
    "\n",
    "Briefly, we can not do math on string data. Therefore, the one-hot encoding process may be summarized as such:\n",
    "\n",
    "* List of all elements of size vocab_size. This basically answers: what is the number of distinct elements we can find in your data?\n",
    "* Each element is associated with one index in the range(0, vocab_size). This provides a element_to_idx encoder.\n",
    "* For each element in one sample features, a zero array is initialized. This array is set to one at the index which is assigned to the element in the encoder.\n",
    "\n",
    "This is achieved during instantiation of the *embedding* layer by setting up ``X_encode=True``."
   ]
  },
  {
   "cell_type": "code",
   "execution_count": 3,
   "metadata": {},
   "outputs": [],
   "source": [
    "embedding = Embedding(X_data=X_features,\n",
    "                      Y_data=Y_label,\n",
    "                      X_encode=True,\n",
    "                      Y_encode=True,\n",
    "                      relative_size=(2, 1, 0))"
   ]
  },
  {
   "cell_type": "markdown",
   "metadata": {},
   "source": [
    "Let's inspect some properties."
   ]
  },
  {
   "cell_type": "code",
   "execution_count": 4,
   "metadata": {},
   "outputs": [
    {
     "name": "stdout",
     "output_type": "stream",
     "text": [
      "{'A': 0, 'C': 1, 'G': 2, 'T': 3}\n",
      "[[0. 0. 1. 0.]\n",
      " [1. 0. 0. 0.]\n",
      " [0. 1. 0. 0.]\n",
      " ...\n",
      " [1. 0. 0. 0.]\n",
      " [0. 0. 0. 1.]\n",
      " [0. 1. 0. 0.]]\n",
      "{0: 'A', 1: 'C', 2: 'G', 3: 'T'}\n",
      "['G', 'A', 'C', 'T', 'T', 'G', 'G', 'C', 'C', 'A', 'T', 'C']\n"
     ]
    }
   ],
   "source": [
    "print(embedding.e2i)  # element_to_idx\n",
    "print(embedding.dtrain.X[0])\n",
    "\n",
    "print(embedding.i2e)  # idx_to_element\n",
    "print(one_hot_decode_sequence(embedding.dtrain.X[0], embedding.i2e))"
   ]
  },
  {
   "cell_type": "markdown",
   "metadata": {},
   "source": [
    "Encoded sequences may be decoded as shown above."
   ]
  },
  {
   "cell_type": "markdown",
   "metadata": {},
   "source": [
    "### Flatten-Dense - Perceptron"
   ]
  },
  {
   "cell_type": "markdown",
   "metadata": {},
   "source": [
    "Let's inspect the shape of the data."
   ]
  },
  {
   "cell_type": "code",
   "execution_count": 5,
   "metadata": {},
   "outputs": [
    {
     "name": "stdout",
     "output_type": "stream",
     "text": [
      "(320, 12, 4)\n"
     ]
    }
   ],
   "source": [
    "print(embedding.dtrain.X.shape)"
   ]
  },
  {
   "cell_type": "markdown",
   "metadata": {},
   "source": [
    "It contains 320 samples (m), each described by a sequence of 12 features (s) containing 4 elements (v).\n",
    "\n",
    "12 features is the length of the sequences and 4 elements is the size of the vocabulary. Remember one-hot encoding makes a zero array of this size and sets 1 at the index corresponding to the element being encoded.\n",
    "\n",
    "Still, the fully-connected or *dense* layer can only process bi-dimensionnal input arrays. That is the reason why we need to invoke a *flatten* layer in between the *embedding* and *dense* layer."
   ]
  },
  {
   "cell_type": "code",
   "execution_count": 6,
   "metadata": {
    "tags": []
   },
   "outputs": [],
   "source": [
    "name = 'Flatten_Dense-2-softmax'\n",
    "\n",
    "se_hPars['learning_rate'] = 0.001\n",
    "\n",
    "flatten = Flatten()\n",
    "\n",
    "dense = Dense(2, softmax)\n",
    "\n",
    "layers = [embedding, flatten, dense]\n",
    "\n",
    "model = EpyNN(layers=layers, name=name)"
   ]
  },
  {
   "cell_type": "markdown",
   "metadata": {
    "tags": []
   },
   "source": [
    "Initialize using most classically a *MSE* or *Binary Cross Entropy* loss function."
   ]
  },
  {
   "cell_type": "code",
   "execution_count": 7,
   "metadata": {
    "tags": []
   },
   "outputs": [
    {
     "name": "stdout",
     "output_type": "stream",
     "text": [
      "\u001b[1m--- EpyNN Check OK! ---                                                                             \u001b[0m\r"
     ]
    }
   ],
   "source": [
    "model.initialize(loss='BCE', seed=1, se_hPars=se_hPars.copy(), end='\\r')"
   ]
  },
  {
   "cell_type": "markdown",
   "metadata": {},
   "source": [
    "Train for hundred epochs."
   ]
  },
  {
   "cell_type": "code",
   "execution_count": 8,
   "metadata": {},
   "outputs": [
    {
     "name": "stdout",
     "output_type": "stream",
     "text": [
      "\u001b[1m\u001b[37mEpoch 49 - Batch 0/0 - Accuracy: 0.738 Cost: 0.55307 - TIME: 2.98s RATE: 6.82e+03e/s TTC: 0s        \u001b[0m\n",
      "\n",
      "+-------+----------+-------+----------+-------+-------+------------------------------------+\n",
      "| \u001b[1m\u001b[37mepoch\u001b[0m |  \u001b[1m\u001b[37mlrate\u001b[0m   |       | \u001b[1m\u001b[32maccuracy\u001b[0m |       |  \u001b[1m\u001b[31mBCE\u001b[0m  |             \u001b[37mExperiment\u001b[0m             |\n",
      "|       |  \u001b[37mDense\u001b[0m   |  \u001b[1m\u001b[32m(0)\u001b[0m  |   \u001b[1m\u001b[32m(1)\u001b[0m    |  \u001b[1m\u001b[31m(0)\u001b[0m  |  \u001b[1m\u001b[31m(1)\u001b[0m  |                                    |\n",
      "+-------+----------+-------+----------+-------+-------+------------------------------------+\n",
      "|   \u001b[1m\u001b[37m0\u001b[0m   | \u001b[1m\u001b[37m1.00e-03\u001b[0m | \u001b[1m\u001b[32m0.556\u001b[0m |  \u001b[1m\u001b[32m0.556\u001b[0m   | \u001b[1m\u001b[31m0.729\u001b[0m | \u001b[1m\u001b[31m0.710\u001b[0m | \u001b[37m1631698458_Flatten_Dense-2-softmax\u001b[0m |\n",
      "|   \u001b[1m\u001b[37m5\u001b[0m   | \u001b[1m\u001b[37m1.00e-03\u001b[0m | \u001b[1m\u001b[32m0.712\u001b[0m |  \u001b[1m\u001b[32m0.738\u001b[0m   | \u001b[1m\u001b[31m0.620\u001b[0m | \u001b[1m\u001b[31m0.573\u001b[0m | \u001b[37m1631698458_Flatten_Dense-2-softmax\u001b[0m |\n",
      "|  \u001b[1m\u001b[37m10\u001b[0m   | \u001b[1m\u001b[37m1.00e-03\u001b[0m | \u001b[1m\u001b[32m0.728\u001b[0m |  \u001b[1m\u001b[32m0.744\u001b[0m   | \u001b[1m\u001b[31m0.600\u001b[0m | \u001b[1m\u001b[31m0.567\u001b[0m | \u001b[37m1631698458_Flatten_Dense-2-softmax\u001b[0m |\n",
      "|  \u001b[1m\u001b[37m15\u001b[0m   | \u001b[1m\u001b[37m1.00e-03\u001b[0m | \u001b[1m\u001b[32m0.728\u001b[0m |  \u001b[1m\u001b[32m0.744\u001b[0m   | \u001b[1m\u001b[31m0.586\u001b[0m | \u001b[1m\u001b[31m0.565\u001b[0m | \u001b[37m1631698458_Flatten_Dense-2-softmax\u001b[0m |\n",
      "|  \u001b[1m\u001b[37m20\u001b[0m   | \u001b[1m\u001b[37m1.00e-03\u001b[0m | \u001b[1m\u001b[32m0.731\u001b[0m |  \u001b[1m\u001b[32m0.750\u001b[0m   | \u001b[1m\u001b[31m0.575\u001b[0m | \u001b[1m\u001b[31m0.565\u001b[0m | \u001b[37m1631698458_Flatten_Dense-2-softmax\u001b[0m |\n",
      "|  \u001b[1m\u001b[37m25\u001b[0m   | \u001b[1m\u001b[37m1.00e-03\u001b[0m | \u001b[1m\u001b[32m0.731\u001b[0m |  \u001b[1m\u001b[32m0.756\u001b[0m   | \u001b[1m\u001b[31m0.568\u001b[0m | \u001b[1m\u001b[31m0.565\u001b[0m | \u001b[37m1631698458_Flatten_Dense-2-softmax\u001b[0m |\n",
      "|  \u001b[1m\u001b[37m30\u001b[0m   | \u001b[1m\u001b[37m1.00e-03\u001b[0m | \u001b[1m\u001b[32m0.738\u001b[0m |  \u001b[1m\u001b[32m0.750\u001b[0m   | \u001b[1m\u001b[31m0.563\u001b[0m | \u001b[1m\u001b[31m0.567\u001b[0m | \u001b[37m1631698458_Flatten_Dense-2-softmax\u001b[0m |\n",
      "|  \u001b[1m\u001b[37m35\u001b[0m   | \u001b[1m\u001b[37m1.00e-03\u001b[0m | \u001b[1m\u001b[32m0.738\u001b[0m |  \u001b[1m\u001b[32m0.750\u001b[0m   | \u001b[1m\u001b[31m0.559\u001b[0m | \u001b[1m\u001b[31m0.569\u001b[0m | \u001b[37m1631698458_Flatten_Dense-2-softmax\u001b[0m |\n",
      "|  \u001b[1m\u001b[37m40\u001b[0m   | \u001b[1m\u001b[37m1.00e-03\u001b[0m | \u001b[1m\u001b[32m0.738\u001b[0m |  \u001b[1m\u001b[32m0.744\u001b[0m   | \u001b[1m\u001b[31m0.556\u001b[0m | \u001b[1m\u001b[31m0.570\u001b[0m | \u001b[37m1631698458_Flatten_Dense-2-softmax\u001b[0m |\n",
      "|  \u001b[1m\u001b[37m45\u001b[0m   | \u001b[1m\u001b[37m1.00e-03\u001b[0m | \u001b[1m\u001b[32m0.741\u001b[0m |  \u001b[1m\u001b[32m0.750\u001b[0m   | \u001b[1m\u001b[31m0.554\u001b[0m | \u001b[1m\u001b[31m0.572\u001b[0m | \u001b[37m1631698458_Flatten_Dense-2-softmax\u001b[0m |\n",
      "|  \u001b[1m\u001b[37m49\u001b[0m   | \u001b[1m\u001b[37m1.00e-03\u001b[0m | \u001b[1m\u001b[32m0.738\u001b[0m |  \u001b[1m\u001b[32m0.750\u001b[0m   | \u001b[1m\u001b[31m0.553\u001b[0m | \u001b[1m\u001b[31m0.574\u001b[0m | \u001b[37m1631698458_Flatten_Dense-2-softmax\u001b[0m |\n",
      "+-------+----------+-------+----------+-------+-------+------------------------------------+\n"
     ]
    }
   ],
   "source": [
    "model.train(epochs=50, init_logs=False)"
   ]
  },
  {
   "cell_type": "markdown",
   "metadata": {},
   "source": [
    "Plot the results."
   ]
  },
  {
   "cell_type": "code",
   "execution_count": 9,
   "metadata": {
    "tags": []
   },
   "outputs": [
    {
     "data": {
      "image/png": "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://epynn.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://epynn.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://epynn.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://epynn.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://epynn.net//6NWrF8OHD2fMmDHVcaqcTuchIdMfeeSRpjWqleFLyBGDF+ry4C53EB1dd7guhzh4+MSHuWDeBdy+5HbeOvstQpwhzSilwWDwN4899hgXXnghpaWlDBgwgF//+tekpKTw29/+lpSUFDZs2IDD4WDLli2sWWNFSAoLC6sOtd6eMCOOxhJUibqFGGf9/ovEsEQePOFBNuRs4B8Z/2gm4QyGo5PawqqvXbuWESNGVJfZunUrgwcPBuCBBx7guOOOY9CgQVxzzTWN8keWlpYCVsyrTZs2sXz5ch566CEcDqs7TUlJ4eyzz/ZX01olZsTRSMRZgQKR5cU0FCT45K4nc1n/y3jjlzc4vvPxZntZQ7tnz1/+Qtkv/l0fHNK/Hx3vvrvO/LrCqvfr14/y8nK2bNlCSkoKc+bMqY6Me+ONN3LvvfcCcPnll/PRRx9xzjnn1CvH7bffzkMPPcTGjRu5+eabSU5OZtmyZaSlpdW5IVRJSQlpaWnV13fdddch0XnbKmbE0UgcTiumovgY0+bW4bdybNyx/PnrP7O3aG8gRTMYjkrqC6s+efJk5syZA3CI4li0aBEjR45k8ODBLFy4sM5w6t489thjrFq1ij179vD555/zzTffNHhPlamq6mgPSgPMiKPRBAUVUwm483J9Kh/sDObRkx9l6sdT+c2nv+Gl01+ic+Th21gaDO2B+kYGLcGUKVO46KKLmDRpEiJCnz59KC0t5frrrycjI4Nu3boxffr0avOTL0RGRjJmzBi++uorLrjgAn744Yd6t6Ftj5gRRyMJdVpbS7rz8ny+55jYY3jxtBfJKcvh8k8uZ3Pu5kCJZzAcddQXVr1Xr144nU4efPDB6rf9KiWRmJhIYWFhrbOo6qOyspLly5fTq1cvevXqRXp6Ovfdd1+1n2Tr1q18/PHHfmpd68QojkYSFmQtnvc0QnEApCWnMXP8TDzq4Yr/XsHqAw0PjQ0GQ8N4h1U/88wzDwmrDtao44033mDy5MkAxMbGcvXVVzNo0CDOOOOMw8rXxe23305aWhpDhgxh8ODB1bsCvvzyy+zdu5fevXszaNAgpk2bRnJyMnDQx1F13HnnnX5secvRYFj1I6pcZDzwFNYOgC+r6mGTmEVkMjAdUOAHVb1ERNKA54BorJ0BH1bVOXb5mcBooKrnnqaqq+qTw19h1fG48fw5gXXvdSL59j+QcNVVja5ie/52rvnsGnLLcnl67NMc19G3H63B0FoxYdXbB34Nq95URMQJPAucCQwALhaRATXK9MGKiXWCqg4EbrGzioFf22njgSftXQiruF1V0+xjVaDacBileUiQog7Bndu4EUcV3aO789r41+gY3pFrP7uWxTsW+1VEg8FgCDSBNFWNADbaW72WA7OBc2uUuRp4tioelqrusz/XV20Upaq7sPY5TwqgrD6hJTmIgDssFHdubpPr6RDRgZnjZ9I3ri+3LLqFuRvm+k9Ig8FgCDCBVBxdgB1e15l2mjd9gb4i8rWILLNNW4cgIiOAYMA7dsfDIvKjiDwhIrUuyRaRa0QkQ0Qy9u/ff2QtsSnJzwLAExHeKOd4bcSGxvLyGS8zouMI7v3mXh5Y+gDl7nJ/iGkwGAwBpaWd40FAH2AM1u6CL3mbpESkE/Bv4EpV9djJdwH9gOOAeOCO2ipW1RdVNV1V05OS/DNYKcqzFJBGRh2x4gCIcEXwr1P/xVWDruKd9e9wxSdXsLtw9xHXazA0NyYSdNumsX+/QCqOnUA3r+uudpo3mcA8Va1Q1S3AeixFgohEY20edY+qVu+MpKq71aIMeBXLJNYslOZnAyDRsX5RHABBjiBuGX4LT57yJFvztzL5o8l8s7PhhUUGQ2shNDSUrKwsozzaKKpKVlYWoaGhPt8TyAWAK4A+IpKCpTCmApfUKPM+1kjjVRFJxDJdbRaRYGAu8LqqHjLJWkQ6qepuERhttps://epynn.net/DmAbDqG8wDJVOeLica/9xa91j+s+jt4TenPLolu4dsG13JB2A1cPuRqHtPSg0GCon65du5KZmYm/TMKG5ic0NJSuXbv6XD5gikNVK0XkRuBTrOm4M1R1tYg8AGSo6jw773QRWYM17fZ2Vc0SkcuAk4EEEZlmV1k17XaWiCQBAqwCrg1UG2pSWWTtaeVKSMKd5//tYXtE92DWWbN4YNkDPLPqGX7Y/wMPnPAAiWF1h3A3GFoal8tFSkpKS4thaEYCuo6jteCvdRy/zLyJHlvmsK/jQ5Q89QR9vv6KoITaN3Q6ElSVOevm8NiKx4gMjuSB4x8wARINBkOz0+zrONolpbnkEUFs+jAAir/7LiCPERGm9pvKnAlzSApL4saFN/Lg0gcprigOyPMMBoOhMRjF0QgcpbnkE0l06hAkOJiSjJUBfV7vuN68efabTBs4jXfWv8OUj6aYUCUGg6HFMYqjEbjK8yh2ROIIDiZsyJCAjTi8CXYG8/v03/PS6S9RUlnCZfMv48UfX6TSUxnwZxsMBkNtGMXRCIIr8ykOigYgbPhwSteswVNU1CzPHtlpJO9NfI9Te5zK098/zSUfX8K67HXN8myDwWDwxiiORhBWWUC5rTjChw8Dt5uSH39stufHhMTw2OjH+Pvov7O3eC9TP5rKM98/Y1acGwyGZsUojkYQ4SmgMtjaLjZs6FAQoXhl4M1VNTm95+l8cO4HjE8Zzws/vsCUj6bw0/6fml0Og8FwdGIUh69UlhFKGZ7QWACcUVGEHHssxSv9EK69CcSGxvLXk/7Ks+OeJb88n8s+uYzHVzxuZl4ZDIaAYxSHj2iJtfhPw2Kr08KHD6fkhx/RiooWkgpO7noy75/7PpP6TOK1Na9x/gfns2j7ohaTx2AwtH+M4vCRMjsyrjMsvjotfPgwtLiY0rVrW0osAKKCo7jvV/fx6hmvEu4K5+ZFN3PTwpvYVbirReUyGAztE6M4fKQw7wAAQZFx1Wlhw4cDULwysOs5fCW9Yzpvn/M2tw6/leW7l3Pu++fy8k8vU+FuuRGRwWBofxjF4SMltuIIiTwYYsTVoQOurl0paQEHeV24HC5+M+g3fHDuBxzf+Xie+u4pLvzwQpbvXt7SohkMhnaCURw+UlpghVQPjY4/JD18+HCKV65sdSGlO0V24qmxT/HM2Gcoc5fx2//9lt8t/B3b87e3tGgGg6GNYxSHj1QWWT6O8JhDN4UKGz4Md3Y25Vu3toBUDTO622g+OO8Dbh56M0t3L+W8D87jHxn/oLC8sKVFMxgMbRSjOHzEbYdUj449NBpuuO3nKGklfo7aCHGGcPWhttps://epynn.net/I85K+UsXl39KmfPPZv31r+H2+NuafEMBkMbwygOH9GSHPI0nNjIQ3fJCj7mGJyxsS2yELCxJIUn8dCJDzH77Nn0iO7B9KXTmfzRZL7M/LLVmdoMBkPrJaCKQ0TGi8g6EdkoInfWUWayiKwRkdUi8qZX+hUissE+rvBKHy4iP9l1/tPeCTDgSGke+UQS5nLWlJ8w28/RVhiYOJDXxr/GY6Mfo7iimOs/v56r/neVWX1uMBh8ImCKQ0ScwLPAmcAA4GIRGVCjTB/gLuAEVR0I3GKnxwP3ASOx9hS/T0Sq5sE+B1yNtTd5H2B8oNrgTVB5LgWOKGrTU+HDh1OxfTsV+/Y1hyh+QUQY33M8886bx90j72ZT7iYumX8Jty2+ja15W1taPIPB0IoJ5IhjBLBRVTerajkwGzi3RpmrgWdVNQdAVat63jOAz1Q12877DBgvIp2AaFVdppZt5XWsfccDTnB5PiWOyFrzwodbGzuVfPd9c4jiV1xOFxf3u5j5k+Zzfer1fL3za8774DzuX3o/uwt3t7R4BoOhFRJIxdEF2OF1nWmnedMX6CsiX4vIMhEZ38C9Xezz+uoEQESuEZEMEcnYv3//ETTDIsSdT5krpta80AEDkNDQNmWuqkmEK4Lr0q5j/qT5TDl2Ch9s/ICz5p7FQ8seYk/RnpYWz2AwtCJa2jkehGVuGgNcDLwkIrH+qFhVX1TVdFVNT0pKaviGBohwF1Dhiq41T1wuwlJTW/XMKl9JCEvgrpF3MX/SfCb1nsR7G97jrP+cxcPLHmZv0d6WFs9gMLQCAqk4dgLdvK672mneZALzVLVCVbcA67EUSV337rTP66vT/6gSqYW4Q2ofcYBlripduxZ3YftYH9ExoiN//tWf+fj8j5nYayLvrn+Xs/5zFn9d/lczAjEYjnICqThWAH1EJEVEgoGpwLwaZd7HGm0gIolYpqvNwKfA6SISZzvFTwc+VdXdQL6IjLJnU/0a+CCAbbAoLyQIN2qHVK+NsOHDweOhZNUPARenOekc2Znphttps://epynn.net/M/ZEKvCcxZN4cz/3Mmf/76z2zJ29LS4hkMhhYgYIpDVSuBG7GUwC/A26q6WkQeEJGJdrFPgSwRWQMsAm5X1SxVzQYexFI+K4AH7DSA64GXgY3AJuCTQLWhiqpwIxIeV2eZsNQ0cDgo+a7tm6tqo2tUV+4//n7mT5rPRX0v4pMtn3Du++dy2+LbWJ21uqXFMxgMzYgcDQu/0tPTNSOj6RsuZW/MIP6NcXyR9g9Gn3dVneW2XHAhjogIerz+WpOf1VbIKsli1i+zmL12NgUVBfyq06+YNmgav+r0q1qnLBsMhraHiKxU1fSa6S3tHG8TFOVbkXGDo+LrLRc2fBglP/6Ilrf/PcATwhK4edjNfHrhp9wy7BbW56zn/z77PybNm8TcDXMpc5e1tIgGgyFAGMXhA6X2Jk6hUYn1lgtPT0dLSylcsqQ5xGoVRAVHcdXgq/jfhf/joRMewiEO7v3mXk5/93T+tepfHCg50NIiGgwGP2MUhw+U2z6O8JiEestFnXIKwb17sfeRv+EpLW0O0VoNwc5gzu19Lu+e8y4vn/4ygxIH8dwPz3H6u6dzz1f3mHAmBkM7wigOH6gsshRHREz960HE5aLjn/5MRWYmWS+/0hyitTpEhJGdRvLsuGeZd948JvWZxIJtC7hk/iVM/WgqczfMpbTy6FKqBkN7wygOH9CSHCrUSUxM3es4qogYNZLos84i66WXKN+xo8Hy7ZmUmBT+NOpPfH7R59w98m5KK0u595t7GffOOB5f8Tjb8re1tIgGg6EJGMXhC6W55BFBZKjLp+LJd/wRcTrZ+5e/BliwtkFkcCQX97uYuefOZcYZMxjVaRSzfpnFhLkT+M2nv+HDTR+aUYjB0IYwisMHnKW5FEqkz9NMXR06kHjDDRQuWkTBokUBlq7tICIhttps://epynn.net/j7m73x64af8btjv2FO0h7u/upuxb4/loWUP8UvWLy0tpsFgaACzjsMHfnl0LJ7SQgbe+63P92hFBZvPOx8tK+OYjz7EERra8E1HIR71kLEhttps://epynn.net/A+fbf2Mck85/eL7MbHXRM5MOZPEsPpnshkMhsBh1nEcAaEVeZQG1R7gsC7E5aLjn/90VDvKfcEhDkZ0GsEjJz3CwskLuWvEXTjEwaMrHuXUd07lugXXMX/zfEoqS1paVIPBYBPU0gK0BcLcBZSH9Wj0fRGjRhF91plkvfQSMedOJLhbt4ZvOoqJCYnhkv6XcEn/S9iUu4kPN33Ix1s+5o4v7yDCFcFpPU7jzJQzGdFxBEEO89M1GFoKY6rygYLpnVgVP56Tbn610fdW7N3LpjPPImLkSLo9968my3C0UmXK+nDzh3y27TOKKoqID43n1O6nMj5lPMOSh+F0OBuuyGAwNJq6TFXmta0hPG6iKMYTEtuk210dOpB0ww3se+wxcua8TdyUyf6Vr51TZcoa0WkEfxr1J7https://epynn.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://epynn.net/ZGJfB7VR0AjAJusP/G7b3tZcBYVU0F0oDxIjKKg9sy9wZysLZlbo/8DjsSt83R0u5TVDXNa+1Gk3/nRnHUTfXWt6paDlRtfdvuUNUlWNGJvTmXgxtrvQac15wyNQequltVv7PPC7A6ky6087arRaF96bIPxdqW+V07vd21G0BEugJnY+3/470ddbtudx00+XduFEfd+Lr1bXulg6ruts/3AB1aUphAIyI9sTYLW85R0HbbXLMK2Ie1++Ymjo5tmZ8E/gh47OujZTtqBf4nIitF5Bo7rcm/84Dtx2FoP6iqiki7nbctIpHAe8AtqppvvYRatNe2q6obSBORWGAu0K9lJQo8IjIB2KeqK0VkTAuL09ycqKo7RSQZ+ExE1npnNvZ3bkYcddPg1rftnL1VOzTan/taWJ6AICIuLKUxS1X/YycfFW0HUNVcrF01f4WP2zK3YU4AJorIVizT81jgKdp/u7234t6H9aIwgiP4nRvFUTcNbn3bzpmHtTUvtNMtem379ivAL6r6D6+sdt12EUmyRxqISBhwGpZ/p11vy6yqd6lqV1XtifX/vFBVL6Wdt1tEIkQkquocOB34mSP4nZuV4/UgImdh2USrtr59uGUlCgwi8hYwBivM8l7gPuB94G2gO1ZI+smqWtOB3qYRkROBL4GfOGjzvhvLz9Fu2y4iQ7CcoU6sl8e3VfUBETkG6008Hmtb5stUtazlJA0ctqnqD6o6ob23227fXPsyCHhTVR8WkQSa+Ds3isNgMBgMjcKYqgwGg8HQKIziMBgMBkOjMIrDYDAYDI3CKA6DwWAwNAqjOAwGg8HQKIziMBj8gIi47cijVYffAiOKSE/vyMUGQ0tjQo4YDP6hRFXTWloIg6E5MCMOgyGA2PsgPGrvhfCtiPS203uKyEIR+VFEPheR7nZ6BxGZa++V8YOIHG9X5RSRl+z9M/5nr/g2GFoEozgMBv8QVsNUNcUrL09VBwPPYEUiAHgaeE1VhwCzgH/a6f8EvrD3yhgGrLbT+wDPqupAIBe4IKCtMRjqwawcNxj8gIgUqmpkLelbsTZN2mwHVNyjqgkicgDopKoVdvpuVU0Ukf1AV++QF3bI98/sDXcQkTsAl6o+1AxNMxgOw4w4DIbAo3WcNwbv2ElujH/S0IIYxWEwBJ4pXp9L7fNvsCK0AlyKFWwRrC08r4PqzZZimktIg8FXzFuLweAfwuwd9ar4r6pWTcmNE5EfsUYNF9tpNwGvisjtwH7gSjv9d8CLInIV1sjiOmA3BkMrwvg4DIYAYvs40lX1QEvLYjD4C2OqMhgMBkOjMCMOg8FgMDQKM+IwGAwGQ6MwisNgMBgMjcIoDoPBYDA0CqM4DAaDwdAojOIwGAwGQ6P4f6p6HRHez5ZMAAAAAElFTkSuQmCC\n",
      "text/plain": [
       "<Figure size 432x288 with 1 Axes>"
      ]
     },
     "metadata": {
      "needs_background": "light"
     },
     "output_type": "display_data"
    }
   ],
   "source": [
    "model.plot(path=False)"
   ]
  },
  {
   "cell_type": "markdown",
   "metadata": {
    "tags": []
   },
   "source": [
    "Strictly talking, the Perceptron seems to have converged in the good direction."
   ]
  },
  {
   "cell_type": "markdown",
   "metadata": {
    "tags": []
   },
   "source": [
    "By reducing the learning rate, all other things being equal, we obtained greater accuracy, lower cost and smoother curves on the plot.\n",
    "\n",
    "You may have observed something possibly counter-intuituve: the cost, which describes the mean difference between experimental and expected outputs, is different between the training and testing set whereas the accuracy is the same.\n",
    "\n",
    "That's because accuracy compares **decisions** and labels, whereas the cost from the loss function compare **probabilities** and labels.\n",
    "\n",
    "For code, maths and pictures behind the *Flatten* and *Dense* layers, follow these link:\n",
    "\n",
    "* [Flatten - Adapter](https://epynn.net/Flatten.html)\n",
    "* [Fully Connected (Dense)](https://epynn.net/Dense.html)\n",
    "\n",
    "Let's take a break and understand the difference in addition to make clear some semantics."
   ]
  },
  {
   "cell_type": "markdown",
   "metadata": {
    "tags": []
   },
   "source": [
    "### Difference between accuracy and cost"
   ]
  },
  {
   "cell_type": "markdown",
   "metadata": {
    "tags": []
   },
   "source": [
    "The question is: Can we expect identical costs for the training and testing set **if** the accuracy is identical for the training and testing set?\n",
    "\n",
    "Let's compare what outputs the *dense* layer (A) to the set of sample label (Y)."
   ]
  },
  {
   "cell_type": "code",
   "execution_count": 10,
   "metadata": {
    "tags": []
   },
   "outputs": [
    {
     "name": "stdout",
     "output_type": "stream",
     "text": [
      "[[0.66591406 0.33408594]\n",
      " [0.86094668 0.13905332]\n",
      " [0.77311108 0.22688892]\n",
      " ...\n",
      " [0.89296296 0.10703704]\n",
      " [0.81178023 0.18821977]\n",
      " [0.74004683 0.25995317]]\n",
      "(320, 2)\n",
      "[[1. 0.]\n",
      " [1. 0.]\n",
      " [0. 1.]\n",
      " ...\n",
      " [0. 1.]\n",
      " [1. 0.]\n",
      " [1. 0.]]\n",
      "(320, 2)\n"
     ]
    }
   ],
   "source": [
    "# This is probability distributions for each sample. \n",
    "print(model.embedding.dtrain.A)\n",
    "print(model.embedding.dtrain.A.shape)\n",
    "\n",
    "# These are the labels we target\n",
    "print(model.embedding.dtrain.Y) \n",
    "print(model.embedding.dtrain.Y.shape) "
   ]
  },
  {
   "cell_type": "markdown",
   "metadata": {
    "tags": []
   },
   "source": [
    "We have probabilities (A) versus binary values (Y).\n",
    "\n",
    "To compute the accuracy, one need to convert probabilities to decision, as well as to retrieve single-digit labels."
   ]
  },
  {
   "cell_type": "code",
   "execution_count": 11,
   "metadata": {
    "tags": []
   },
   "outputs": [
    {
     "name": "stdout",
     "output_type": "stream",
     "text": [
      "[0 0 0 ... 0 0 0]\n",
      "[0 0 1 ... 1 0 0]\n"
     ]
    }
   ],
   "source": [
    "print(np.argmax(model.embedding.dtrain.A, axis=1))\n",
    "\n",
    "# Equivalent to calling model.embedding.dtrain.y directly\n",
    "print(np.argmax(model.embedding.dtrain.Y, axis=1))"
   ]
  },
  {
   "cell_type": "markdown",
   "metadata": {
    "tags": []
   },
   "source": [
    "Then, accuracy is computed such as:"
   ]
  },
  {
   "cell_type": "code",
   "execution_count": 12,
   "metadata": {
    "tags": []
   },
   "outputs": [
    {
     "name": "stdout",
     "output_type": "stream",
     "text": [
      "[ True  True False ... False  True  True]\n",
      "0.7375\n"
     ]
    }
   ],
   "source": [
    "print ((np.argmax(model.embedding.dtrain.A, axis=1) == model.embedding.dtrain.y))\n",
    "print ((np.argmax(model.embedding.dtrain.A, axis=1) == model.embedding.dtrain.y).mean())"
   ]
  },
  {
   "cell_type": "markdown",
   "metadata": {
    "tags": []
   },
   "source": [
    "The cost is computed from **probabilities, not from decisions**. This apart from the fact that accuracy and cost are simply two different functions.\n",
    "\n",
    "To compute a cost, we first need to compute the loss, which provides information for each single probability in the array (A)."
   ]
  },
  {
   "cell_type": "code",
   "execution_count": 13,
   "metadata": {
    "tags": []
   },
   "outputs": [
    {
     "name": "stdout",
     "output_type": "stream",
     "text": [
      "(320,)\n"
     ]
    }
   ],
   "source": [
    "# This is the cost. It deals with \"true\" labels against probabilities\n",
    "\n",
    "loss = model.training_loss(model.embedding.dtrain.Y, model.embedding.dtrain.A)\n",
    "\n",
    "print(loss.shape)"
   ]
  },
  {
   "cell_type": "markdown",
   "metadata": {
    "tags": []
   },
   "source": [
    "The cost is a form of average of the loss. Whereas the loss in an array from element-wise comparison between probabilities and label, the cost is a scalar which is an average per sample, itself an average of the element-wise loss for this sample."
   ]
  },
  {
   "cell_type": "code",
   "execution_count": 14,
   "metadata": {
    "tags": []
   },
   "outputs": [
    {
     "name": "stdout",
     "output_type": "stream",
     "text": [
      "(320,)\n",
      "()\n",
      "0.5527806811447783\n"
     ]
    }
   ],
   "source": [
    "print(loss.shape)          # Averaged for each sample\n",
    "print(loss.mean().shape)   # Average of above - scalar\n",
    "\n",
    "cost = loss.mean()\n",
    "\n",
    "print(cost)"
   ]
  },
  {
   "cell_type": "markdown",
   "metadata": {
    "tags": []
   },
   "source": [
    "Note that what is fed back in the network during the backward propagation phase is not the loss. It is the **derivative** of the loss."
   ]
  },
  {
   "cell_type": "code",
   "execution_count": 15,
   "metadata": {
    "tags": []
   },
   "outputs": [
    {
     "name": "stdout",
     "output_type": "stream",
     "text": [
      "[0.40659465 0.1497227  1.48329471 ... 2.23458032 0.20852563 0.30104181]\n",
      "[[-0.75084764  0.75084764]\n",
      " [-0.58075606  0.58075606]\n",
      " [ 2.20372151 -2.20372151]\n",
      " ...\n",
      " [ 4.67128005 -4.67128005]\n",
      " [-0.61593025  0.61593025]\n",
      " [-0.67563292  0.67563292]]\n"
     ]
    }
   ],
   "source": [
    "dloss = model.training_loss(model.embedding.dtrain.Y, model.embedding.dtrain.A, deriv=True)\n",
    "\n",
    "print(loss)\n",
    "print(dloss)    # dloss is referred to as dA"
   ]
  },
  {
   "cell_type": "markdown",
   "metadata": {
    "tags": []
   },
   "source": [
    "The loss function and derivatives natively provided with EpyNN can be found in `EpyNN/nnlibs/commons/loss.py`.\n",
    "\n",
    "The metrics natively provided with EpyNN can be found in `EpyNN/nnlibs/commons/metrics.py`."
   ]
  },
  {
   "cell_type": "markdown",
   "metadata": {},
   "source": [
    "## Recurrent Architectures"
   ]
  },
  {
   "cell_type": "markdown",
   "metadata": {},
   "source": [
    "Herein, we are going to chain simple schemes based on recurrent architectures.\n",
    "\n",
    "There are three most commonly cited recurrent layers:\n",
    "\n",
    "* **Recurrent Neural Network (RNN)**: This is the most simple recurrent layer. It is composed of one to many recurrent units. Each cell performs a single activation which output the *hidden cell state* or simply *hidden state*.\n",
    "* **Long Short-Term Memory (LSTM)**: By contrast with the RNN cell, the LSTM cell requires four activation which corresponds to three different gates: forget, input (two activations), and output. To compute the hidden cell state, it then requires a fifth activation. Note that in addition to the hidden cell state, there is another so-called cell *memory* state.\n",
    "* **Gated Recurrent Unit (GRU)**: Compared to the LSTM cell, the GRU cell has only two gates: reset and update. Practically talking, GRU trains faster than LSTM and is reported to perform better on small dataset or shorter sequences. Both GRU and LSTM, however, are state-of-the art architecture to deal with sequential data.\n",
    "\n",
    "See [here](nnlive/dummy_time/train.html#Recurrent-Neural-Network-(RNN)) for more detailed practical description or simply via the pages linked on top of this notebook."
   ]
  },
  {
   "cell_type": "markdown",
   "metadata": {},
   "source": [
    "### Embedding"
   ]
  },
  {
   "cell_type": "markdown",
   "metadata": {},
   "source": [
    "In this example, we use the same setup than for Feed-Forward networks."
   ]
  },
  {
   "cell_type": "code",
   "execution_count": 16,
   "metadata": {},
   "outputs": [],
   "source": [
    "embedding = Embedding(X_data=X_features,\n",
    "                      Y_data=Y_label,\n",
    "                      X_encode=True,\n",
    "                      Y_encode=True,\n",
    "                      relative_size=(2, 1, 0))"
   ]
  },
  {
   "cell_type": "markdown",
   "metadata": {},
   "source": [
    "We can now chain the simplest schemes to train binary classifiers based on recurrent layers."
   ]
  },
  {
   "cell_type": "markdown",
   "metadata": {},
   "source": [
    "### RNN-Dense"
   ]
  },
  {
   "cell_type": "markdown",
   "metadata": {},
   "source": [
    "The number of RNN units in the RNN layer is set to 1."
   ]
  },
  {
   "cell_type": "code",
   "execution_count": 17,
   "metadata": {
    "tags": []
   },
   "outputs": [],
   "source": [
    "name = 'RNN-1_Dense-2-softmax'\n",
    "\n",
    "se_hPars['learning_rate'] = 0.001\n",
    "\n",
    "rnn = RNN(1)\n",
    "\n",
    "dense = Dense(2, softmax)\n",
    "\n",
    "layers = [embedding, rnn, dense]\n",
    "\n",
    "model = EpyNN(layers=layers, name=name)"
   ]
  },
  {
   "cell_type": "markdown",
   "metadata": {
    "tags": []
   },
   "source": [
    "Initialize the model."
   ]
  },
  {
   "cell_type": "code",
   "execution_count": 18,
   "metadata": {
    "tags": []
   },
   "outputs": [
    {
     "name": "stdout",
     "output_type": "stream",
     "text": [
      "\u001b[1m--- EpyNN Check OK! ---                                                                             \u001b[0m\r"
     ]
    }
   ],
   "source": [
    "model.initialize(loss='BCE', seed=1, se_hPars=se_hPars.copy(), end='\\r')"
   ]
  },
  {
   "cell_type": "markdown",
   "metadata": {},
   "source": [
    "Train for 50 epochs."
   ]
  },
  {
   "cell_type": "code",
   "execution_count": 19,
   "metadata": {},
   "outputs": [
    {
     "name": "stdout",
     "output_type": "stream",
     "text": [
      "\u001b[1m\u001b[37mEpoch 9 - Batch 0/0 - Accuracy: 0.734 Cost: 0.58778 - TIME: 2.61s RATE: 1.16e+03e/s TTC: 0s         \u001b[0m\n",
      "\n",
      "+-------+----------+----------+-------+----------+-------+-------+----------------------------------+\n",
      "| \u001b[1m\u001b[37mepoch\u001b[0m |  \u001b[1m\u001b[37mlrate\u001b[0m   |  \u001b[1m\u001b[37mlrate\u001b[0m   |       | \u001b[1m\u001b[32maccuracy\u001b[0m |       |  \u001b[1m\u001b[31mBCE\u001b[0m  |            \u001b[37mExperiment\u001b[0m            |\n",
      "|       |   \u001b[37mRNN\u001b[0m    |  \u001b[37mDense\u001b[0m   |  \u001b[1m\u001b[32m(0)\u001b[0m  |   \u001b[1m\u001b[32m(1)\u001b[0m    |  \u001b[1m\u001b[31m(0)\u001b[0m  |  \u001b[1m\u001b[31m(1)\u001b[0m  |                                  |\n",
      "+-------+----------+----------+-------+----------+-------+-------+----------------------------------+\n",
      "|   \u001b[1m\u001b[37m0\u001b[0m   | \u001b[1m\u001b[37m1.00e-03\u001b[0m | \u001b[1m\u001b[37m1.00e-03\u001b[0m | \u001b[1m\u001b[32m0.584\u001b[0m |  \u001b[1m\u001b[32m0.500\u001b[0m   | \u001b[1m\u001b[31m0.659\u001b[0m | \u001b[1m\u001b[31m0.671\u001b[0m | \u001b[37m1631698463_RNN-1_Dense-2-softmax\u001b[0m |\n",
      "|   \u001b[1m\u001b[37m1\u001b[0m   | \u001b[1m\u001b[37m1.00e-03\u001b[0m | \u001b[1m\u001b[37m1.00e-03\u001b[0m | \u001b[1m\u001b[32m0.656\u001b[0m |  \u001b[1m\u001b[32m0.612\u001b[0m   | \u001b[1m\u001b[31m0.638\u001b[0m | \u001b[1m\u001b[31m0.644\u001b[0m | \u001b[37m1631698463_RNN-1_Dense-2-softmax\u001b[0m |\n",
      "|   \u001b[1m\u001b[37m2\u001b[0m   | \u001b[1m\u001b[37m1.00e-03\u001b[0m | \u001b[1m\u001b[37m1.00e-03\u001b[0m | \u001b[1m\u001b[32m0.734\u001b[0m |  \u001b[1m\u001b[32m0.762\u001b[0m   | \u001b[1m\u001b[31m0.623\u001b[0m | \u001b[1m\u001b[31m0.624\u001b[0m | \u001b[37m1631698463_RNN-1_Dense-2-softmax\u001b[0m |\n",
      "|   \u001b[1m\u001b[37m3\u001b[0m   | \u001b[1m\u001b[37m1.00e-03\u001b[0m | \u001b[1m\u001b[37m1.00e-03\u001b[0m | \u001b[1m\u001b[32m0.734\u001b[0m |  \u001b[1m\u001b[32m0.762\u001b[0m   | \u001b[1m\u001b[31m0.612\u001b[0m | \u001b[1m\u001b[31m0.610\u001b[0m | \u001b[37m1631698463_RNN-1_Dense-2-softmax\u001b[0m |\n",
      "|   \u001b[1m\u001b[37m4\u001b[0m   | \u001b[1m\u001b[37m1.00e-03\u001b[0m | \u001b[1m\u001b[37m1.00e-03\u001b[0m | \u001b[1m\u001b[32m0.734\u001b[0m |  \u001b[1m\u001b[32m0.762\u001b[0m   | \u001b[1m\u001b[31m0.604\u001b[0m | \u001b[1m\u001b[31m0.598\u001b[0m | \u001b[37m1631698463_RNN-1_Dense-2-softmax\u001b[0m |\n",
      "|   \u001b[1m\u001b[37m5\u001b[0m   | \u001b[1m\u001b[37m1.00e-03\u001b[0m | \u001b[1m\u001b[37m1.00e-03\u001b[0m | \u001b[1m\u001b[32m0.734\u001b[0m |  \u001b[1m\u001b[32m0.762\u001b[0m   | \u001b[1m\u001b[31m0.598\u001b[0m | \u001b[1m\u001b[31m0.590\u001b[0m | \u001b[37m1631698463_RNN-1_Dense-2-softmax\u001b[0m |\n",
      "|   \u001b[1m\u001b[37m6\u001b[0m   | \u001b[1m\u001b[37m1.00e-03\u001b[0m | \u001b[1m\u001b[37m1.00e-03\u001b[0m | \u001b[1m\u001b[32m0.734\u001b[0m |  \u001b[1m\u001b[32m0.762\u001b[0m   | \u001b[1m\u001b[31m0.594\u001b[0m | \u001b[1m\u001b[31m0.583\u001b[0m | \u001b[37m1631698463_RNN-1_Dense-2-softmax\u001b[0m |\n",
      "|   \u001b[1m\u001b[37m7\u001b[0m   | \u001b[1m\u001b[37m1.00e-03\u001b[0m | \u001b[1m\u001b[37m1.00e-03\u001b[0m | \u001b[1m\u001b[32m0.734\u001b[0m |  \u001b[1m\u001b[32m0.762\u001b[0m   | \u001b[1m\u001b[31m0.590\u001b[0m | \u001b[1m\u001b[31m0.578\u001b[0m | \u001b[37m1631698463_RNN-1_Dense-2-softmax\u001b[0m |\n",
      "|   \u001b[1m\u001b[37m8\u001b[0m   | \u001b[1m\u001b[37m1.00e-03\u001b[0m | \u001b[1m\u001b[37m1.00e-03\u001b[0m | \u001b[1m\u001b[32m0.734\u001b[0m |  \u001b[1m\u001b[32m0.762\u001b[0m   | \u001b[1m\u001b[31m0.588\u001b[0m | \u001b[1m\u001b[31m0.573\u001b[0m | \u001b[37m1631698463_RNN-1_Dense-2-softmax\u001b[0m |\n",
      "|   \u001b[1m\u001b[37m9\u001b[0m   | \u001b[1m\u001b[37m1.00e-03\u001b[0m | \u001b[1m\u001b[37m1.00e-03\u001b[0m | \u001b[1m\u001b[32m0.734\u001b[0m |  \u001b[1m\u001b[32m0.762\u001b[0m   | \u001b[1m\u001b[31m0.586\u001b[0m | \u001b[1m\u001b[31m0.570\u001b[0m | \u001b[37m1631698463_RNN-1_Dense-2-softmax\u001b[0m |\n",
      "+-------+----------+----------+-------+----------+-------+-------+----------------------------------+\n"
     ]
    }
   ],
   "source": [
    "model.train(epochs=10, init_logs=False)"
   ]
  },
  {
   "cell_type": "markdown",
   "metadata": {},
   "source": [
    "You may already note that results are virtually identical to just using a basic Perceptron, although slightly better."
   ]
  },
  {
   "cell_type": "code",
   "execution_count": 20,
   "metadata": {
    "tags": []
   },
   "outputs": [
    {
     "data": {
      "image/png": "iVBORw0KGgoAAAANSUhEUgAAAYgAAAEWCAYAAAB8LwAVAAAAOXRFWHRTb2Z0d2FyZQBNYXRwbG90bGliIHZlcnNpb24zLjQuMywgaHR0cHM6Ly9tYXRwbG90bGliLm9yZy/MnkTPAAAACXBIWXMAAAsTAAALEwEAmpwYAABMM0lEQVR4nO3dd3zU9f3A8dc7l00CCSTsFcIeJkAEt6hlqAw3UBdtxWqLWufPWis4a611Va1YB6IoVBwFZAs4EQjIDBBWkDBDFgnZl8/vj+834RIuIYE7LuP9fDzukbvvfN83yb3vM79ijEEppZSqzM/XASillKqbNEEopZRySxOEUkoptzRBKKWUcksThFJKKbc0QSillHJLE4RSSim3NEEopeo0EQkRkbkiki0in/o6nsZEE0QdJyKTRCRRRApFZFqldaEi8qaIHLX/eb51WXe/iOwWkWMickBEXhYRf5f1T4vIJhEpEZEpbs4bLSIf28fNFJEZLuvaicj/RCRDRFJF5K5K+14uIuvsc+8WkTureG/viYgRka6Vlo8Tka0iclxEdonIxfby3va1yLQfS0Wkdw2u4TQRKRKRXDvmJSLS02X9BDuORyrtlyoiQ+znU+xtbnJZ728v61zFeQNFZLaIpNjbDTlVrJXizbEfm0XkbyLSrCb7ny0icp59LTNEJE1EPhWRNl441Q1AK6CFMeZG+/o844XzqEo0QdR9B4BngPfcrHsbaA70sn/e77JuDjDAGNMU6AvEAfe6rN8JPAJ8VcV5PwcOAR2BlsCLLus+AvZg/dNeDTwnIpcBiEgA8AUwFWgGjAVeEpE414OLyEVAbOWTishQ4O/Ab4Bw4BJgt8u1uMF+r1H2e5xZRfyVvWCMCQPaAfuBdyutzwAeEZHwao6RATwpIo4anhPge+AWrGtZGy8YY8KBaKxrcR7wg4g0qeVxvCkS62+wM9AJyAHe98J5OgHJxpgSLxxbVccYo4968MBKEtNcXvcEjgFNa7BvC2Ap8KabdR8BUyotGwakAA4324cBBoh2WfY28KH9vJW9PtRl/RpgvMtrf+Bn4Bx7264u634EfleD9+QP/BHIq8G204BnXF5fBRx3eT0B64N8LjDZZXkqMMR+PgWYAWwAbneJwQCdaxBD+bFqG6+9LBw4CExyWfZbYCuQCSwCOrmsM8BdwA4gC3gDEHtdV+AbIBs4Csyq9He1BCsZbgduqsXf6AAgp5r1UcA8O54M4DvAz17XC1hhr9sCjLaXPwkUAcVALvB7+3mR/XquvV0K8DCwETiO9QWgFbAAK3EtBSJdYvkUK2lnA98CfezlgcB64B77tQP4AXjCG//Xdf2hJYj6axCwF+sb7VG7uuh61w1E5NcicgzrQyAO61t9TZyH9eHwgYiki8gaEbm07LCVfpY97wtgjDkMfAL8RkQcInI+1jfA7122vx/41hizsVK8DiABiBaRnXYVz+siElJpuyygAPgX8FwN31PZvk2A8VglqMr+CvxJRJpXsbuxt5lsl5TOGmNMDtYHd1l12xjgMeA6rFLGd1jX3dVI4FysRHwTMNxe/jSwGKsE0B7rOpZdmyXAx1ilxnHAmzWpxrNdgvXhXpUHsRJlNNaH92OAsa/lXDumlsA9wAwR6WGMmYz1O55ljAkzxkzFStQv2K9HuRz/emAo0B0YhZUcHrPP50fFEvQCoJt9vnX2MTHGFGGV+J4SkV7Ao1hJ4tkaXoMGRRNE/dUe60M5G2gLTML6QO9VtoEx5mNjVTF1B94CDtfi2MOA5UBr4J/A/0Qkyv6g+gH4q4gEi8gArH/MUJf9PwGeAAqxPrj+YozZByAiHbC+BT7h5rytgACsaqSLgXigP/C460bGmAis6qtJWCWRmnjITiw5wEXArZU3MMahttps://epynn.net/L+qDmKMmQOkAXfU8LyedACreg2s0sHfjDFbjVX18hwQLyKdXLZ/3hiTZYz5Bet3GW8vL8ZK2m2NMQXGmLLkPRJIMca8b4wpMcb8DHwG3HiqwETkHKzf6cPVbFYMtMEq6RQbY74z1tf087BKps8bY4qMMcuwShrjT3XeSv5ljDlsjNmP9Xe3yhjzszGmAKvas3/ZhsaY94wxOcaYQqzSYVxZG48xZjNWif1L4CHgVmOMs5axNAiaIOqvfKx/uGfsf6pvsD4EhlXe0BizA+ub3Zu1OHaKMeZd+x95JrAPuNBefzMQYy/7N1Y1VSqA3fg7E7gNq7jeB6tu/2p731eAp4wx2VWcF6x/9IPGmKPAS1hVQpXf03GspDddRFrW4D29aCeWzvZ5elSx3RPA3SLSqppjPQ78BQguWyAiHe1G8FwRya1BPKejHVbVDFgf8K+KSJad+DKwSnLtXLZ3bffIw/oQBqvtSYDVIrJFRH7rcszBZce0j3sz0Lq692d3MlgA3GeM+c5e5m77f2CV3BbbnRcetZe3BfYZY0pdDru30nupCdcvQPluXofZsTlE5Hm7A8QxrOopsKrAynxgX4/59v9Po6QJov7a6GZZdXO3++OmUbiaY1c+VvlrY8xeY8xIY0y0MWYw1j/Want1X6wGxUXGmFJjzHashvAr7fVXAP8QkUMiUvYBtlJEfm2MycRKNK7nru49+WGVXGr8QWJ/m74P68M1xM36bVgN9H+p5hhLsD7o/uB6XLvKI8xYjeEeJSJhwK+wvhmDlZx/b4yJcHmEGGN+PNWxjDGHjDETjTFtsUpzb9of8vuAbyodM8wYc3dV788usSwFnjbGfOhyjpO2t7+xP2iM6QKMBh4QkSuwSkYdRMT186gjVmcCt2+hRhetar8GxmBdz2ZYXxqgYrXpm1ilmOF2h4pGSRNEHWd3pQzGqgd12NU6/lgNa78Af7a3uRC4DKuxEhG5o+ybtV2H/Gfga5fjBtjH9QP87eOW9c75AogUkdvtb1s3YFU7/WDv20tEwsXqxnkLVqnlJXvfn4FuYnV1FRGJxaq6KEto3bHaQ+I5UeUxyj4nWL1g7hGRliISidVeMc8+71AR6W/H1NQ+ZyZWQ22N2R/wBwC33W+xGkZ/A0RUc5i/YH0Tr5aIBNnXGSDQvs5S7U4n7z8Qq7ojkxO9hN7C+t33sbdrJiKnrAqyt71RRNrbLzOxPnBLsa5zdxG51f77CBCRc12rLSsdpx2wDHjdGPNWDc47UkS62u8/G3Da512FVcJ5xD7nEKy/iap6qB0GutTkvVYhHKv6Mx3rC0aFdiwRuRUYiNV54V6sqluPJ/164Wy3iuujdg+s+lFT6THFXtcHWInVayMJuNZhttps://epynn.net/pGOYxWh/wEEu6yf5ua4E1zWXwxswuopkghc7LLuT1j18MexGp8TKsV8E7AZq74/Favbql8V769yL6YArG9vWVhVJK+VxY1VF77NjikNq2RyTg2u4TRO7hU0FusbahB2L6ZK69+0Yxvi8nv4qNI28zlFLyb72le+zlVu7xJvkX39crGqB/8ORFTa7lb7d3QM69v/e9Vc1/JrALxgv/dcYBdwp8t2Pezrmob1AboMiK8izsn2eXJdH9W8r/vt63Hc/rv4q8u6PpzoWVX5b7nCtcdqXF5v/4186XKdf+WyTYXeeVhtRkvt52HA/+zruxerOtRg9e7qaL/vC132nQX8x9efBb54lHV7U0oppSrQKiallFJuaYJQDYLdGyfXzeNmX8fmTn2LVzVOWsWklFLKLf9Tb1I/REVFmc6dO/s6DKWUqlfWrl171BgT7W5dg0kQnTt3JjEx0ddhKKVUvSIie6tap20QSiml3NIEoZRSyi1NEEoppdzSBKGUUsotTRBKKaXc0gShlFLKLU0QSiml3Gow4yCUhxw7COs+gNJGeQMtpeqnpm0h4TceP6wmCFXRj6/BT29S8d4pSqk6rX2CJgjlZcbA9gXQdSjcMtvX0SilfEzbINQJR3dA5h7oMcLXkSil6gBNEOqE5AXWz27DfRuHUqpO0AShTti+EFr1g4gOvo5EKVUHaIJQlrwM2PeTVi8ppcp5NUGIyAgR2S4iO0XkUTfrXxaR9fYjWUSyXNY5XdbN8WacCti5FEwpdNcEoZSyeK0Xk4g4gDeAoUAqsEZE5hhjksq2Mcbc77L9PUB/l0PkG2PivRWfqmT7AmjSEtoO8HUkSqk6wpsliEHATmPMbmNMETATGFPN9uOBT7wYj6qKsxh2fg3dh4Gf1joqpSze/DRoB+xzeZ1qLzuJiHQCYoBlLouDRSRRRH4SkWu8FqWCX1ZCYbZWLymlKqgrA+XGAbONMa7zO3QyxuwXkS7AMhHZZIzZ5bqTiNwJ3AnQsWPHsxdtQ5O8CByB0OUyX0eilKpDvFmC2A+49pdsby9zZxyVqpeMMfvtn7uBFVRsnyjb5m1jTIIxJiE62u09t1VNbF8AMZdAUJivI1FK1SHeTBBrgG4iEiMigVhJ4KTeSCLSE4gEVrosixSRIPt5FHAhkFR5X+UBR3dAxi6tXlJKncRrVUzGmBIRmQQsAhzAe8aYLSLyFJBojClLFuOAmcYY47J7L2CqiJRiJbHnXXs/KQ9KXmj97K6jp5VSFXm1DcIYMx+YX2nZE5VeT3Gz349AP2/GpmzbF0KrvhChbThKqYq0T2Njlp9p9WDS0oNSyg1NEI3Zzq/BOKH7lb6ORClVB2mCaMy2L4DQKGino6eVUifTBNFYOYth5xKresnP4etolFJ1kCaIxmrfKijQ0dNKqarVlZHU6mzbvsAaPR1bcfR0UUkp3ySnUews9VFgSqnaiggJ4IKuUR4/riaIxip5IXS+CILCKyyePGczn6zeV8VOSqm6KL5DBF9qglAecXQnpO+EQb+vsHjz/mxmrtnHLed15NbzOvsmNqVUrQUHeKe1QBNEY+Rm9LQxhqfmJdE8NJCHh/ekWUiAj4JTStUV2kjdGCUvhJa9IbJT+aL5mw6xek8GDw7roclBKQVogmh88rPs0dMnei8VFDt5bv5WerVpythzO1S9r1KqUdEE0djsXAqlJRUSxDvf7WZ/Vj5PjOyNw098GJxSqi7RBNHYJC+C0BbQPgGAw8cKeHPFLkb0ac35sS18HJxSqi7RBNGYOEtgx2LodmL09N8XbqPEaXjsql4+Dk4pVddogmhM9q2Cgqzy3kvr92Xx+br9/O7iGDq2CPVtbEqpOkcTRGOSvBD8AiD2cowxPDl3C9HhQfzxsq6+jkwpVQdpgmhMykZPBzflf+sP8PMvWTwyvAdhQTocRil1Mk0QjUX6LjiaDN1HkFdUwvMLtnFO+2ZcP6C9ryNTStVRmiAai+RF1s8eI3jrm90cOlbAEyN746fdWpVSVdAE0VgkL4DoXuyXVkz9Zhej4tqS0Lm5r6NSStVhmiAag4Js2PsjdB/O8wu2IQKPXtnT11Eppeo4TRCNwc6vobSErU0vZO6GA/z+kljaRYT4OiqlVB2n3Vcag+SFmJDmPLoqiDbNHNx1aayvI1JK1QNagmjoSp2wYzF7m1/IhgO5PHplT0IC9R7USqlT0wTR0O1bDfmZvHWoOwM6RjA6rq2vI1JK1RNaxdTQJS/AKQ6+Ot6Ljyb0QUS7tSqlakYTRANXtHUBic5eDB3QjbgOEb4ORylVj2gVU0OWsYfAjGRWMJD/G6HdWpVStaMJogHb8+NsADqcdy2tmgb7OBqlVH3j1QQhIiNEZLuI7BSRR92sf1lE1tuPZBHJcll3u4jssB+3ezPOhshZashcP4890p4bh17i63CUUvWQ19ogRMQBvAEMBVKBNSIyxxiTVLaNMeZ+l+3vAfrbz5sDk4EEwABr7X0zvRVvQzP7xySuLd7Evh6/IThAu7UqpWrPmyWIQcBOY8xuY0wRMBMYU83244FP7OfDgSXGmAw7KSwBRlS5p6ogO7+YtctmEyhOulxwna/DUUrVU95MEO2AfS6vU+1lJxGRTkAMsKw2+4rInSKSKCKJaWlpHgm6IfjX1zsYXLyGkqAIpMNgX4ejlKqn6koj9ThgtjHGWZudjDFvG2MSjDEJ0dHRXgqtftmVlsv0H3czPHAj/j2Gg0N7MiulTo83E8R+oIPL6/b2MnfGcaJ6qbb7KhfPfrWVwQG7CHNml997WimlToc3E8QaoJuIxIhIIFYSmFN5IxHpCUQCK10WLwKGiUikiEQCw+xlqhrfJKexbNsRHui8B/z8oeuvfB2SUqoe81r9gzGmREQmYX2wO4D3jDFbROQpINEYU5YsxgEzjTHGZd8MEXkaK8kAPGWMyfBWrA1BsbOUp+cl0blFKHF5K6HTBRDczNdhKaXqMa9WUBtj5gPzKy17otLrKVXs+x7wnteCa2Bm/LSXnUdy+fC6VvjN3wYDbvN1SEqpeq6uNFKrM5B5vIiXl+7goq5RXFSaaC3srr2ClVJnRhNEA/Dy0mRyCor568jeSPJCaNENWuhNgZRSZ0YTRD2XfDiHGat+4ebBnegRCaR8Dz209KCUOnOaIOoxYwxPz0siLMifB4Z2h13LoLQYul/p69CUUg2AJoh67OutR/hux1H+9KtuRDYJhO0LITgCdPS0UsoDNEHUU0UlpTw7fytdW4Zxy3mdyu89TbehOnpaKeURmiDqqQ9+TGHP0eM8fnUvAhx+sH8t5B3V3ktKKY/RBFEPHc0t5LWvd3BZj2iG9GhpLdy+AMQBXa/wbXBKqQZDE0Q99M/F28kvdvL4yN4nFiYvskZPh0T6LjClVIOiCaKe2XIgm5lr9nH7BZ2JjQ6zFmb9Ake2aPWSUsqjNEHUI8YYnpqbRGRoIPde0e3Eiu0LrZ+aIJRSHqQJoh5ZuPkQq/Zk8MDQ7jQLCTixInkhtOgKUV19F5xSqsHRBFFPFBQ7eXb+Vnq2DmfcuS63yijMgZTvtPSglPI4TRD1xLvf7yE1M58nRvbG3+Hya9u1HJxFmiCUUh6nCaIeOHysgDeW72RY71Zc0DWq4srkRdZ9Hzqe55vglFINliYIIPe77zFFRb4Oo0ovLNxOidPwl6t7VVxRWgo7FkHXoeAIcL+zUkqdpkafIAp372HfnXeye8w15H73va/DOcmGfVl8ti6V314UQ6cWTSquPLAOjqdp9ZJSyisafYII6hJD+3+/iSl1sm/iRPb94Y8U7dvn67AAq1vrk3O3EBUWxKTL3fRQKhs93U3vPa2U8rxGnyAAwocMocvcuUQ/+ADHf/qJ3VeP5Mgrr1Cal+fTuOZsOMC6X7J4ZHgPwoLcTMCXvBA6nq+jp5VSXqEJwuYXGEjUxInELphP+PDhpL81lV1XXU32V19hjDnr8eQVlfD8gm30bdeUGwa2P3mDrH1weDN0H37WY1NKNQ6aICoJaNWKdv94gU4zPsIRGcmBBx9i7623UrBt21mNY+o3uzmYXcATI/vg5ycnb5Bsj57uoTcHUkp5hyaIKoQOHEjM7E9pPWUKRTt3see66zn01FOUZGZ6/dwHsvKZ+u0urj6nDYNimrvfKHkhNO9ijaBWSikv0ARRDXE4iBw3ltiFC4gcP57MmbPYPeJKMj/5BON0eu28zy/YhjHw5yt7ut+gMBf2fGvdWlTclC6UUsoDNEHUgCMigtZ/fZyYLz4nqHt3Dj35FHuuv4G8xESPnysxJYM5Gw7w+0u60D4y1P1Gu1dYo6d7aPdWpZT3NPoEUews5o5Fd/BZ8mcUOasfLBfcowcdp39Au5dfwpmVxd5bbmX/gw9RfPiwR2IpLTU8OTeJ1k2DuWtIbNUbJi+AoGZWDyallPKSRp8g0vLTyCnOYcrKKYz4bATTNk8jtyi3yu1FhKZXXkns/K9ocfdd5CxZwq4rr+Lo1LcpPcPR2J+tS2XT/mz+78oehAZWcV/p0lJIXmzdOU5HTyulvKjRJ4i2YW2ZefVM3h76Nl0iuvDPtf9k2GfDeG3da6Tnp1e5n19oKC3vu48uX82jyQXnk/byy+weOYqc5ctPq1tsbmEJLyzaTnyHCMbEtat6wwM/w/Ej2ntJKeV1jT5BgFUqOL/t+bwz7B0+ufoTzmtzHu9seofhnw3n2Z+eJTUntcp9Azt0oMPrr9PhnXcQf39S7/4D+37/ewp376lVDC8vSSYtp5DJo3q779ZaJnkBiB901dHTSinvEl8MAvOGhIQEk+jBRuM92XuYtmUac3bNwRjDiJgR/Lbvb+ke2b3KfUxxMRkfzeDo669TWlRE89tuJeruu3GEhVV7rs37sxn9+veMH9SRZ6/tV31gb10EgeHw2wWn87aUUqoCEVlrjElwt86rJQgRGSEi20Vkp4g8WsU2N4lIkohsEZGPXZY7RWS9/ZjjzTjdiWkWw5MXPMnC6xZyS69bWPbLMq6fcz1//PqPrDu8zu0+EhBAi99MIHbhApqNGkXGu++x68oryf7f/zClpW73cZYa/vz5Jpo3CeKREVV0ay2TnQqHNmnvJaXUWeG1EoSIOIBkYCiQCqwBxhtjkly26Qb8F7jcGJMpIi2NMUfsdbnGmOq/ervwdAmisuzCbGZum8mMrTPILMykf8v+/K7v77i4/cX4ifs8m79hA4eeeZaCTZsIiY+n1eOPE9K3T4Vt3v9hD0/OTeJf4/szKq5t9UGseRe+egD+uBqie3jqrSmlGjFflSAGATuNMbuNMUXATGBMpW0mAm8YYzIBypJDXdQsqBm/j/s9i25YxJ8H/ZnDxw8zadkkrp9zPXN3zaW4tPikfULi4ug8ayZtnn2Won37SLnxRg7+9QlKMjIAOJidz4uLtnNp92hGntPm1EEkL4TIGIiquppLKaU8xZsJoh3gOm92qr3MVXegu4j8ICI/iYhr3UmwiCTay69xdwIRudPeJjEtLc2jwVclxD+EX/f6NfOum8dzFz0HwGPfP8bIz0fy8daPyS/Jrxijnx8R119H7MIFNL/9drK++IJdw0eQMf1DnvxyI05jeOaavsipRkQXHYfd31i9l3T0tFLqLPB1LyZ/oBswBBgP/EdEIux1nexiz6+BV0TkpJFjxpi3jTEJxpiE6OjosxSyJcAvgFGxo/hs9Ge8fvnrtAxtyd9W/43hs4czdcNUsguzK2zvCA+n1aP/R5f/fUlIv34cfu45xrz+f0xul0+H5lWMmHa1+xtwFursrUqps8abCWI/0MHldXt7matUYI4xptgYswerzaIbgDFmv/1zN7AC6O/FWE+bn/hxaYdL+fCqD/lgxAf0i+7H6+tfZ9jsYby45kUOH684yjooNpbmb77F65dNJJwS4l/5C6n3/Yni/ZUvTSXJCyCoKXS8wIvvRimlTqhxghCRGnzNrWAN0E1EYkQkEBgHVO6N9CVW6QERicKqctotIpEiEuSy/EIgiTpuQKsBvHHFG8weNZvLOl7GR1s/YsTnI5j842T2ZJ8YF/HK0h181awHITNmE3XvPeR+8w27rrqatH+9jjMn5+QDl5ZC8iJr9LR/4Fl8R0qpxuyUCUJELhCRJGCb/TpORN481X7GmBJgErAI2Ar81xizRUSeEpHR9maLgHT7+MuBh40x6UAvIFFENtjLn3ft/VTX9Wjeg+cvfp55187jhm438NXurxjz5RgeWPEA/0v6ifd+2MPNgzsysHtrov/wB2Lnf0XY5Zdx9I032HnpEA498yxFe/eeOODB9ZB7WO89rZQ6q07ZzVVEVgE3YFUF9beXbTbG9D0L8dWYt7u5non0/HRmbJ3BzO0zySnKQQq68dLwB7ii04UVGqfzt2whc/qHZM+fDyUlhA0ZQvPbbyM072vkuxfhoZ3QpIUP34lSqqGprptrjRKEMWawiPzskiA2GGPivBDraavLCaLM1O+28OLK6US3+4mckgx6t+jN7/r+jis6XoHDz1G+XUlaGpmfzCRz5kycGRkERTlontCMpn9fhl9QkA/fgVKqoTnTcRD7ROQCwIhIgIg8hFVlpGrhYHY+/1qayvlR17N87GKmnD+F48XHefCbBxnzvzEVphv3j44m+t576Lp8GW3++jCUFHBwYQY7L7uctNf+RclZ6tKrlGrcalKCiAJeBX4FCLAYuM9uK6gz6noJ4q4P17J8+xGW3H8pHVtY7f3OUifL9i3jnU3vkJSeRFRIFFfFXMXwzsPpF9XPqn5KfA8z937yzn+HjDkryF2+HPz9aXbVVUTedishffqc4sxKKVW1M6piqi/qcoJYknSYidMTeWRED/4w5OR7SBtjWHVoFTOSZvDDgR8oLi2mbZO2DO88nOHbltP7aApy30YQoWjvXjI+/Iiszz/H5OURmpBA5O23EX755YjD4ebsSilVtTNtg3gfOGkjY8xvPROeZ9TVBHG8sIShL31DeHAA8+69iABH9bV6x4qOsfyX5SxKWcTKAz9SYpy09wtleO/xjIgZQY/IHogIzmPHyPrsczI//JDiAwcIaNeOyFtvIeL663GEh5+ld6eUqu/ONEFc7/IyGLgWOGCMuddzIZ65upognpmXxDvf7+Gzu89nYKfmtdo3e8tnLFtwD4u6XchP2TtwGiedmnZiWKdhjIgZQbeIbuB0krNsGRnTp5OfuBa/0FCaXX89zW+5mcBOnbz0rpRSDYVHq5hExA/43hhTp4b01sUEUXafh3GDOvLcqe7z4M7c+2DTZ/DIbjJLjvP1L1+zMGUhaw6todSUEtMshhGdRzC883BiI2LJ37yFzA+nkz1/gdVN9rLLaH7bbYQOHnTquZ6UUo2SpxNED+ArY8zJlek+VNcShLPUcO2bP3Agq4CvH7iUZqG1vH+0MfBSL+gwCG6aXmFVen56ebJIPJSIwdA1oqvVZtF5OO0Lm5A1cyaZn8zEmZlJUM+eNL/tNppefZV2k1VKVXCmVUw5WG0QYv88BPzZGPOZpwM9E3UtQUz7YQ9T5ibx2vj+jD7VfR7cOfAzvD0ErnkL4sdXudnR/KMsTlnMopRF/HzkZwyGHpE9GN55OMNaD6HZdxvJ+GA6hcnJOFq0IHLcOCLHjcX/LE9uqJSqm7QX01l2MDufoS99y4BOkXzwm3NPr3pnxfPW4+Gd0CSqRrscPn6YJXuXsChlEevT1gPQq3kvhncaxhVHW+H4dAG5K1Yg/v40vfpqmt92K8G9e9c+NqVUg3FaCUJEBlR3UGOM+/tu+khdShDuxjzU2tRLwT8Ifrf4tHY/mHuQxXutksWmo5sA6NuiL6ODzmXQd2kUz1tsdZM991ya334bYZddpt1klWqETjdBLK/mmMYYc7kngvOUupIgTjXmoUaOHYSXesIVk+HiB844pv25+1mcspiFKQtJSrfmPDw3rDfjkqPptHgzpQcPE9C+Pc1vvYVm11+PI6zGd3pVStVzWsV0ltR2zEOV1k6zejDdvRJaebYKaN+xfSzau4hFKYvYlrENv1LDTYc7M2xVEWFb9+HXpAnNrrmGpldfTUh8HOLn63tKKaW86YwThIj0BXpjjYMAwBgzveo9zr66kCDOZMxDBR+PgyNbwB497S0p2SksSlnEor2L2JG5g9iDhls2R9JrfSZ+JU78W7UifNgwmo4YTkj//poslGqAzrQX02Ssm/r0BuYDV2KNg7jBw3GeEV8niDMe81CmOB/+HgMDboOrXvBcgKewK2tXeTXUwcO7SNhpuDjZn767SvAvKYWoSCKGXUnTEcMJHThQ2yuUaiDONEFsAuKAn40xcSLSCvjIGDPU86GePl8miDMe8+AqeRF8fBPc8rl1B7mzzBhDam4qiYcSSTycyOa9a2izYT/nbTf032UILIGiiCb4D7mQDmPGEn7uIMTf/6zHqZTyjOoSRE3+swuMMaUiUiIiTYEjVLzXdKP34coUNqZm89r4/meWHAC2L4DAMOh8kWeCqyURoUN4BzqEd+DabtfCRXBwzEESDycyd+9P5H/3A7E/H2HAvMXs/3IxeWEBHDu/F82vvJpeV9xIYFCIT+JWSnlelQlCRN4APgFWi0gE8B9gLZALrDwr0dUDB7PzeXFxMpd0j2bUOW3O7GDGWCWI2MutLq51RJuwNowKG8Wo2FFwOaTlpbFu748cWPoVod+tp/uKjQQu2cj6kL+xJ74VZsh5xF4xhn6t+xPsH3zqEyil6qTqShDJwD+AtsBxrGQxFGhqjNl4FmKrF56ck0Sxs5RnxvQ98/mODm2EnAN1/t7T0aHRDO81BnqNgXsgPesgW+d/TP6SZfRYl0LQyv+R+/L/eL+7gyPnxdL8oiEMbD+Y+Oh4QgNOc1yIUuqsq0kbRCdgnP0IwUoUHxtjdng/vJrzRRtE2ZiHh4f34I+XeWBqqhV/hxV/g4d2QFj9nAqjtLCQtBWLOTDnMxw/riMgv5jcYEjsJqzp6U9JQh/i259LQqsE+rfsT3igTk2ulC95bByEiPQH3gPOMcbUqW4sZztBlI15CAv2Z949FxPo74EuoG9fBn4OuGPpmR+rDigtKuL4Dz+QuWA+OcuW4ZebR0GwgzVdDSt7wKZYB12ie5LQOoGEVgkMbDWQZkHNfB22Uo3KGTVSi4g/VtfWccAVwApgigfjq5deXpLMgewCZo8/3zPJIecQHFgHl//1zI9VR/gFBhJ+2WWEX3YZpqiI4z/9xLFFi7h0yVIu3nyMkmAHyb0PsDhmBjNjplMcIHSL7FaeLPq37E90SLROVa6Uj1TXSD0UGA9cBawGZgJ3GmOOn6XY6qzN+7N574c9jB/UkYTOZzAgrsJB7clxe470zPHqGAkMJOySSwi75BLMlCkcX7WanEULCVqylN7rijAhQaTFd2J1T8P/Mr7gk22fABAZFEm3yG50j+xe/ugS0YUQf+0tpZS3VTcX0zLgY+AzY0zmWY3qNJytKqYTYx7y+fqBIWferRWs3kuvnwshkXDHkjM/Xj1iSkrIW72aY4sWk7NkCc6MDCQkGOfgOPbGt2ZjB8NG9rEzayf5JfkA+IkfHcM70j2ye4Xk0TasLX6io72Vqo3TqmKqa5Px1RUf/bSXjanZvDou3jPJAWDvj5C+A8a86Znj1SPi70+TCy6gyQUX0Pqvj5OXuJZjixaSs2QpMStWEQPc2LkzIYNGUNAvlpTYMLb5HSY5M5mtGVtZvPfEbLdNAprQLeJEwugW2Y1ukd20IVyp06ST9dXCoewCfvXSN/TvGMH033rwNp6fTbTGPzy4DQK1GyiAcTop2LaNvFWryVu9mrzEREpzcwEIjIkhdNAgmgwehPTvyx7/LJIzkys8copyyo/VtknbE6WN5lby6BjeEX8/HQGulM7m6iF3f7SWZduOsPj+S+jUoolnDpqXAf/sCQNvh6v+4ZljNkDG6aQgaauVLMoSxnGrOSywSxdCBw+iyaBBhJ57Lo4WLTicd7hCwtiRuYM92XtwGicAQY4gujTrcqJtw04czYM91KakVD2hCcIDliYd5g5Pjnkos/JNWPRnuPtHaNXHc8dt4ExJCQVbrYRxfNUq8hPXUpqXB0Bg11grWdgJw79FCwCKnEXszt5dnjDKksfR/KPlx40KiTpRTWUnjc5NO+uIcNVg+SxBiMgI4FXAAbxjjHnezTY3YXWbNcAGY8yv7eW3A4/bmz1jjPmgunN5M0EcLyxh2Mvf0iTI4bkxD2A1Tr8xCIKbNZixD75iSkooSEqyE8Zq8tauxdgJI6hbV0LPtRPGoHPxb16xlJCen86OrB0kZyRbPzOT2Zm5k6LSovJtokOiaR/envZh7a2f9vN2Ye2IDo3WxnFVb/kkQYiIA2u6jqFAKrAGGG+MSXLZphvwX+ByY0ymiLQ0xhwRkeZAIpCAlTjWAgOr603lzQTx7FdJ/Oe7Pcy+63zPdWsFq3H6/SthzBvQ/xbPHVdhiosp2LKF46vXWFVS69a5JIxuVrIYbJcwIiNP2r+ktIRfcn4hOTOZX479QmpOKqm5qaTmpHLo+CEMJ/5vAv0CaRferjx5tAtrVyGZNAnwUHWkUl5wprO5nq5BwE5jzG47iJnAGCDJZZuJwBtlH/zGmCP28uHAEmNMhr3vEmAE1jQfZ5U15iHFs2MeyqydBkFNoc+1nj2uQgICCImPJyQ+Hu6ciCkuJn/zZvJWryFv1SqyPv+czBkzAAjq3p3QwYMJHXQuoQkJ+EdG4u/nT5dmXejSrMtJxy52FnPg+AFSc1LZn7u/QvJYf2Q9OcU5FbZvHty8vLThWvpoH96eVqGtcPjVqUkJlCrnzQTRDtjn8joVGFxpm+4AIvIDVjXUFGPMwir2bee9UN1zlhr+8sUmIkMDeHRET88ePC8Dtnxp3RgoUL9hepsEBBDavz+h/fvD7+/EFBWRv3kLeatXkbd6NVmffkrmhx+CCEE9ehA66FyrHSMhAUdERIVjBTgC6NS0E52adnJ7ruzC7PKE4Zo8NqdvZsneJZSYkvJt/cWfNmFtTqq6KiuJ6NQjypd83c/PH+iGdce69sC3IlLj27GJyJ3AnQAdO3b0eHAf/bSXDZ4e81Bm4yxwFlq9l9RZJ4GBhA7oT+iA/nDXXXbC2EzeqlUcX72arFn/JXO6lTACY7sQ3Ks3wb3tR6+eOJo2rfLYzYKa0SyoGX1anNzpoKS0hMN5hyskj/05+0nNTWXp3qVkFlasRQ0PDK9Q2ogOjSY6JJqokCiiQ6KJDo2maWBTnY5EeYU3E8R+Kt5YqL29zFUqsMoYUwzsEZFkrISxHytpuO67ovIJjDFvA2+D1QbhqcDBGvPwj0XbubhbFKPj2nry0FbjdOL70C4BWp/B7UmVx1gJYwChAwYQdffdlBYVUbBxI8dXr6Zg4yZrtPfcueXbB3ToQHCvXnbSsH76R0Wd8jz+fv60C2tHu7B2DG5TuUANuUW5J1VbpeamsiNzBz/s/4G8kryT9gn0C7QShmvyqPQ8KiSK5sHNtTFd1Yo3E8QaoJuIxGB94I8Dfl1pmy+x5nt6X0SisKqcdgO7gOdEpKz1cBjwZy/GepIn526x7vNwjQfu81DZLz/B0e0w+nXPHld5jF9gIKEJCYQmnGi7K0lPpyBpKwVJSdZj61ZyFp8Yye0fHW0ljD69CerVi5DevfFv27ZWfz9hgWH0aN6DHs17uF2fV5xHWn4aaXlpHM0/ypG8IxzNP2oty09jT/YeVh9azbGiYyft6xAHLUJaWCWPkGiiQqNOKo1Eh0TTIqSFDiJUgBcThDGmREQmAYuw2hfeM8ZsEZGngERjzBx73TARSQKcwMPGmHQAEXkaK8kAPFXWYH02LE06zILNh3h4eA/PDYhzVdY43fc6zx9beY1/ixaEXXwRYRefuB2sMyeHgq1W0ii0f+Z+9x2UlgLg16yZVcIor6LqRWCnTojj9BqmQwNC6RRQdftHmUJnYXkScU0oZYnkwPEDbDy6kYyCk/+tBCEyOLJCEnEtjUQERVR4BDg8XP2q6gwdKFeJ18Y8lCkbOT3gVrj6n549tqoTSvPzKUxOthLHFqu0UZicjCkuBkBCQwnu2bNCFVVQbCwSGHjWYy0uLSY9P91KHnlp5QnENaEczTtKekF6+Sj0ykL9Q4kIiihveyl7XpZAXJeXvQ4PDNfqrjrCV91c66VXliazPyuf2Xd56D4PlW38r904PcHzx1Z1gl9ICCFxcYTExZUvM8XFFO7adaKKautWsr74AmN3tZWAAIK6datQPRXUowd+Id6d1jzAL4DWTVrTuknrardzljrJLMzkaP5RMgsyyS7KJrsgm6zCLLIKs8guzC7/efD4QbIKszhWeKzCeBFXfuJH08CmFZLJqZJKRFCEjmg/y7QE4WLz/mzGvPEDNyV04G/XeaHx2Bh483xrQr6Jyzx/fFWvmNJSilL2UrA16UQV1ZYknNnZ1gZ+fgR2ibF7TvUmqGtXAmM6E9CmzWlXUZ1NzlInOUU5FZJIdlE2WQUnJ5Wswiwr6RRml0/r7k6QI6g8eYQHhBMWGEaTgCaEBYRZDzevwwLsZfbzIEeQ9vpyoSWIGvDqmIcy+1ZB2lYY/S/vHF/VK+LnR1CXGIK6xNDs6qsBMMZQcvDgiYbwpK3k/bSKY3NO9KCSwEACO3UisHNnAmNi7J+dCezc2e2ocF9x+DmICI4gIjiiVvsVOgtPTiJ28ihfXpTN8eLjpOWlkVKcQm5xLrlFuRWmR6mKv/jTJPBEEnFNHmEBYRXWVUg4rsmmkSQaTRA2r455KLN2GgSGQx9tnFbuiQgBbdsS0LYt4b/6VfnykvR0inbvpnDPHopS9lK0Zw+FO3eSs3w5lJwYeOeIiHBJGjEEdu5EUEwMAR074hcU5Iu3VGtBjiBaNWlFqyatar1vkbOI48XHyS3KtZJGca712k4g5a8rrT+tROPnT5OAJoT4hxDsCCbEP8R6BIQQ6h9acXlASPn6YEdwhW3Kl/sHV9imLiQfTRB4ecxDmfxM2PIFxN8MQWHeOYdqsPxbtMC/RQtCzz23wnJTXExRaipFKSkU7Umxf+7h+Pffk/3FFyc29PMjoG3bCiWOIDuJ+Ldqhfg1jAbjQEcggY5AIoPPrCRVnmgqJxY3iabAWUB+SX75I7sgm0Mlh05aXhuCVEgYlR+V13UI78AN3W84o/fsjiYIvDzmoczG/0JJgTZOK4+SgACCYmIIiomByyquc+bmVkgaRSkpFKbsqTDTLYCEhLhUWXUmyKUE4ghvnHfj81SiKVNqSikosRJGgbOA/OL8CsnjVI+yffNL8jmSd4T8knzySvLK1/Vp0UcThDfsSstlcdJhHhja3TtjHsBqnF47DdoOgDbneOccSlXiCAsjpF9fQvr1rbDcGEPJkSN28thjVVelpFCQlGQN/LPHcAA4WrQob98oSxwB7doR0LYtfuHhdaIapD7wEz9CA0IJDfDOHSOdpe67IJ+pRp8gYqPDmH/vxcREeXHCvH2r4UgSjHrNe+dQqoZEhIBWrQho1Yom51Wc7sMUFVG0b195qaOszSN32XKyMz6rsK1fkyYEtG2Df9u2BLRpQ0DbdvbPNgS0bYt/dDTi3+g/Ys4Kb80IrL89oEdrLxejyxqn+17v3fModYYkMJCg2FiCYmNPWufMzqZo716KDxyg+MBBig8etJ4fPEDBho04s7Iq7uBw4N+qpdXo3qYsibS1Eoj93K+JzmRcl2mC8Lb8TNjyOcT/WhunVb3maNaMkHPOIeQc99WkpcePU3zokJU87MRRcvAgxfsPkL9uHccOH67Q4wqsqUgCykoglRKIf9u2+EdFNZgG9PpIE4S3bfxUG6dVo+DXpEmVpQ8A43RSkpZmlz7s5FFWGtm/n7w1ayjNqXizJQICCGjd+kQSKau+at0G/+ho/KOjcEREaBLxEk0Q3lTeON0f2sSdcnOlGjJxOKwP+9atgf5ut3Hm5JRXXVkJpKw0cpDjq1ZRcvhwhUZ0APz9rW7AUVH4R0XhiI6yn0dbP8teR0fjF+qdRuKGShOEN6WugSNbYNSrvo6kTisuLiY1NZWCggJfh6JOU3BwMO3btycg4MwGmTrCw3GEhxPcvbvb9aa4mJIjRyg+dIiStKOUHD1KydE0StLSrOdpaRRs3UpJejo4T+7Z4xcaaieQ6PKEUpZAHHYS8Y+Kxr9Fc21gRxOEd62dBoFh2jh9CqmpqYSHh9O5c2ftNlkPGWNIT08nNTWVmJgYr55LAgKsbrbtqr8DsSktxZmVZSeRNJx28jiRVI5SuHMnx3/6idKyua8qnEhwREZWSCKOCqUSu3qreXMczZo12CouTRDekp8Fmz+HuLEQ1DgHG9VUQUGBJod6TERo0aIFaWlpvg6lnPj54d+8Of7Nm0MP96WRMqWFhTjT011KIS4lk6NHcaYdJW/vXkrS0jBFbqbg8PPD0bQpjogIHJGR1s8Kz5tZycZ1ebNmyBmWts4GTRDesulTKMmHgb/xdST1giaH+q0+//78goLws+e/qo4xhtKcHJckkoYzPR1nVpZVWsnMxJmVRfGhQxRs3YozKwtTTbWpX1hYpYQSUf7c322iicAv+OxOd64JwhvK7jndJh7axvs6GqWUB4iIVVJo2pSgLl1qtE9pfn55AnHaCaSk/Hn2ieWZmRTt2YMzM5PS48erjiEkxCWJnEgogbGxNL/5Zk+91XKaILxh/1qrcXrkK76ORJ2GKVOmEBYWxkMPPcS0adMYNmwYbU/x7bKyt956i9DQUG677TYvRanqA7+QEPxCQgho06bG+5iiIpzZ2eUlEiuJZJ2UaJyZmRTvP4AzK4ugbt00QdQbie9DQBPo5/nJs9TZNW3aNPr27es2QTidThxV3Ljnrrvu8nZop62kpAR/7aFTZ0lgoN0IHl3jfbx14zf9K/G0gmzY/Bmcc5M2Tp+GJ+duIenAMY8es3fbpkwe1afabZ599lk++OADWrZsSYcOHRg4cCCzZ88mMTGRm2++mZCQEFauXEmvXr0YO3YsS5Ys4ZFHHiEnJ4e3336boqIiunbtyocffkhoaGiFUsiQIUMYPHgwy5cvJysri3fffZeLL764wvlzc3MZM2YMmZmZFBcX88wzzzBmzBgApk+fzosvvoiIcM455/Dhhx9y+PBh7rrrLnbv3g3Av//9b9q2bcvIkSPZvHkzAC+++CK5ublMmTKFIUOGEB8fz/fff8/48ePp3r07zzzzDEVFRbRo0YIZM2bQqlUrcnNzueeee0hMTEREmDx5MtnZ2WzcuJFXXnkFgP/85z8kJSXx8ssve/T3pE6ft9qANEF42sb/Wo3TCdo4XV+sXbuWmTNnsn79ekpKShgwYAADBw7khhtu4PXXX+fFF18kIeHEHRlbtGjBunXrAEhPT2fixIkAPP7447z77rvcc889J52jpKSE1atXM3/+fJ588kmWLl1aYX1wcDBffPEFTZs25ejRo5x33nmMHj2apKQknnnmGX788UeioqLIyMgA4N577+XSSy/liy++wOl0kpubS2ZmZrXvs6ioiLLb8mZmZvLTTz8hIrzzzju88MIL/POf/+Tpp5+mWbNmbNq0qXy7gIAAnn32Wf7xj38QEBDA+++/z9SpU0/zaqv6RBOEJ5WNnG4TZ42eVrV2qm/63vDdd99x7bXXEmqPsh09enS1248dO7b8+ebNm3n88cfJysoiNzeX4cOHu93nuuusuwgOHDiQlJSUk9YbY3jsscf49ttv8fPhttps://epynn.net/Rw+fJhly5Zx4403EhUVBUDz5s0BWLZsGdOnTwfA4XDQrFmzUyYI17hTU1MZO3YsBw8epKioqHz8wtKlS5k5c2b5dpH2LUwvv/xy5s2bR69evSguLqZfPy/cs13VOQ1zdIev7F8HhzfrvEsNXBOXGUgnTJjA66+/zqZNm5g8eXKVo8GD7Nt9OhwOSipNWAcwY8YM0tLSWLt2LevXr6dVq1a1Hlnu7+9Pqcs0FJX3d437nnvuYdKkSWzatImpU6ee8lx33HEH06ZN4/333+c3v9HScWOhCcKT1r5nNU731cbp+uSSSy7hyy+/JD8/n5ycHObOnVu+Ljw8nJzKE8i5yMnJoU2bNhQXFzNjxozTjiE7O5uWLVsSEBDA8uXL2bt3L2B9c//0009JT08HKK9iuuKKK/j3v/8NWI3l2dnZtGrViiNHjpCenk5hYSHz5s2r9nzt7NHIH3zwQfnyoUOH8sYbb5S/LiuVDB48mH379vHxxx8zfvz4036fqn7RBOEpBdnWyOl+10NwU19Ho2phwIABjB07lri4OK688krOdbnv84QJE7jrrruIj48nP//k+wo//fTTDB48mAsvvJCePXuedgw333wziYmJ9OvXj+nTp5cfq0+fPvzlL3/h0ksvJS4ujgceeACAV199leXLl9OvXz8GDhxIUlISAQEBPPHEEwwaNIihQ4dWG8+UKVO48cYbGThwYHn1FVjtKJmZmfTt25e4uDiWL19evu6mm27iwgsvLK92Ug2feKt71NmWkJBgyhrgfGLNO/DVgzBxObQb4Ls46qGtW7fSq1cvX4ehTmHkyJHcf//9XHHFFW7X6++xfhKRtcaYBHfrtAThCcZA4jRofY42TqsGJysri+7duxMSElJlclANk/Zi8oQD6+DwJrj6JajHc9Io5U5ERATJycm+DkP5gJYgPCHxfQgIhX43+joSpZTyGK8mCBEZISLbRWSniDzqZv0EEUkTkfX24w6XdU6X5XO8GecZKThmjZzuq43TSqmGxWtVTCLiAN4AhgKpwBoRmWOMSaq06SxjzCQ3h8g3xsR7Kz6P2fQpFOfpyGmlVIPjzRLEIGCnMWa3MaYImAmM8eL5zj5jYO370LoftNWeS0qphsWbCaIdsM/ldaq9rLLrRWSjiMwWkQ4uy4NFJFFEfhKRa9ydQETutLdJ9MndrA78DIc2WSOntXG6wZgyZQovvvjiae07YcIEZs+e7eGIlPINXzdSzwU6G2POAZYAH7is62T3zf018IqIxFbe2RjztjEmwRiTEF2LqXE9Zu00bZxWdYq7aTyUOl3e7Oa6H3AtEbS3l5UzxqS7vHwHeMFl3X77524RWQH0B3Z5K9haKzgGm2ZD3+sguJmvo2k4Fjxqlco8qXU/uPL5ajdxN933tm3buO2221i9ejUAKSkpjBo1ik2bNvHUU08xd+5c8vPzueCCC5g6dWq1Uhttps://epynn.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://epynn.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\n",
      "text/plain": [
       "<Figure size 432x288 with 1 Axes>"
      ]
     },
     "metadata": {
      "needs_background": "light"
     },
     "output_type": "display_data"
    }
   ],
   "source": [
    "model.plot(path=False)"
   ]
  },
  {
   "cell_type": "markdown",
   "metadata": {
    "tags": []
   },
   "source": [
    "While the y-scale on the plot is a bit missleading when looking at the accuracy, there is no overfitting in there because the BCE cost is the same for both training and testing set at the end of the regression."
   ]
  },
  {
   "cell_type": "markdown",
   "metadata": {
    "tags": []
   },
   "source": [
    "For code, maths and pictures behind the *RNN* layer, follow this link:\n",
    "\n",
    "* [Recurrent Neural Network (RNN)](https://epynn.net/RNN.html)"
   ]
  },
  {
   "cell_type": "markdown",
   "metadata": {},
   "source": [
    "### LSTM-Dense"
   ]
  },
  {
   "cell_type": "markdown",
   "metadata": {},
   "source": [
    "Let's now proceed with an *LSTM* layer composed of the 1 unit, all other things being equal."
   ]
  },
  {
   "cell_type": "code",
   "execution_count": 21,
   "metadata": {
    "tags": []
   },
   "outputs": [],
   "source": [
    "name = 'LSTM-1_Dense-2-softmax'\n",
    "\n",
    "se_hPars['learning_rate'] = 0.005\n",
    "\n",
    "lstm = LSTM(1)\n",
    "\n",
    "dense = Dense(2, softmax)\n",
    "\n",
    "layers = [embedding, lstm, dense]\n",
    "\n",
    "model = EpyNN(layers=layers, name=name)"
   ]
  },
  {
   "cell_type": "markdown",
   "metadata": {
    "tags": []
   },
   "source": [
    "Initialize the model."
   ]
  },
  {
   "cell_type": "code",
   "execution_count": 22,
   "metadata": {
    "tags": []
   },
   "outputs": [
    {
     "name": "stdout",
     "output_type": "stream",
     "text": [
      "\u001b[1m--- EpyNN Check OK! ---                                                                             \u001b[0m\r"
     ]
    }
   ],
   "source": [
    "model.initialize(loss='BCE', seed=1, se_hPars=se_hPars.copy(), end='\\r')"
   ]
  },
  {
   "cell_type": "markdown",
   "metadata": {},
   "source": [
    "Train for 50 epochs."
   ]
  },
  {
   "cell_type": "code",
   "execution_count": 23,
   "metadata": {},
   "outputs": [
    {
     "name": "stdout",
     "output_type": "stream",
     "text": [
      "\u001b[1m\u001b[37mEpoch 9 - Batch 0/0 - Accuracy: 0.734 Cost: 0.57896 - TIME: 1.62s RATE: 5.54e+02e/s TTC: 0s         \u001b[0m\n",
      "\n",
      "+-------+----------+----------+-------+----------+-------+-------+-----------------------------------+\n",
      "| \u001b[1m\u001b[37mepoch\u001b[0m |  \u001b[1m\u001b[37mlrate\u001b[0m   |  \u001b[1m\u001b[37mlrate\u001b[0m   |       | \u001b[1m\u001b[32maccuracy\u001b[0m |       |  \u001b[1m\u001b[31mBCE\u001b[0m  |            \u001b[37mExperiment\u001b[0m             |\n",
      "|       |   \u001b[37mLSTM\u001b[0m   |  \u001b[37mDense\u001b[0m   |  \u001b[1m\u001b[32m(0)\u001b[0m  |   \u001b[1m\u001b[32m(1)\u001b[0m    |  \u001b[1m\u001b[31m(0)\u001b[0m  |  \u001b[1m\u001b[31m(1)\u001b[0m  |                                   |\n",
      "+-------+----------+----------+-------+----------+-------+-------+-----------------------------------+\n",
      "|   \u001b[1m\u001b[37m0\u001b[0m   | \u001b[1m\u001b[37m5.00e-03\u001b[0m | \u001b[1m\u001b[37m5.00e-03\u001b[0m | \u001b[1m\u001b[32m0.734\u001b[0m |  \u001b[1m\u001b[32m0.762\u001b[0m   | \u001b[1m\u001b[31m0.585\u001b[0m | \u001b[1m\u001b[31m0.566\u001b[0m | \u001b[37m1631698465_LSTM-1_Dense-2-softmax\u001b[0m |\n",
      "|   \u001b[1m\u001b[37m1\u001b[0m   | \u001b[1m\u001b[37m5.00e-03\u001b[0m | \u001b[1m\u001b[37m5.00e-03\u001b[0m | \u001b[1m\u001b[32m0.734\u001b[0m |  \u001b[1m\u001b[32m0.762\u001b[0m   | \u001b[1m\u001b[31m0.580\u001b[0m | \u001b[1m\u001b[31m0.556\u001b[0m | \u001b[37m1631698465_LSTM-1_Dense-2-softmax\u001b[0m |\n",
      "|   \u001b[1m\u001b[37m2\u001b[0m   | \u001b[1m\u001b[37m5.00e-03\u001b[0m | \u001b[1m\u001b[37m5.00e-03\u001b[0m | \u001b[1m\u001b[32m0.734\u001b[0m |  \u001b[1m\u001b[32m0.762\u001b[0m   | \u001b[1m\u001b[31m0.579\u001b[0m | \u001b[1m\u001b[31m0.554\u001b[0m | \u001b[37m1631698465_LSTM-1_Dense-2-softmax\u001b[0m |\n",
      "|   \u001b[1m\u001b[37m3\u001b[0m   | \u001b[1m\u001b[37m5.00e-03\u001b[0m | \u001b[1m\u001b[37m5.00e-03\u001b[0m | \u001b[1m\u001b[32m0.734\u001b[0m |  \u001b[1m\u001b[32m0.762\u001b[0m   | \u001b[1m\u001b[31m0.579\u001b[0m | \u001b[1m\u001b[31m0.553\u001b[0m | \u001b[37m1631698465_LSTM-1_Dense-2-softmax\u001b[0m |\n",
      "|   \u001b[1m\u001b[37m4\u001b[0m   | \u001b[1m\u001b[37m5.00e-03\u001b[0m | \u001b[1m\u001b[37m5.00e-03\u001b[0m | \u001b[1m\u001b[32m0.734\u001b[0m |  \u001b[1m\u001b[32m0.762\u001b[0m   | \u001b[1m\u001b[31m0.579\u001b[0m | \u001b[1m\u001b[31m0.553\u001b[0m | \u001b[37m1631698465_LSTM-1_Dense-2-softmax\u001b[0m |\n",
      "|   \u001b[1m\u001b[37m5\u001b[0m   | \u001b[1m\u001b[37m5.00e-03\u001b[0m | \u001b[1m\u001b[37m5.00e-03\u001b[0m | \u001b[1m\u001b[32m0.734\u001b[0m |  \u001b[1m\u001b[32m0.762\u001b[0m   | \u001b[1m\u001b[31m0.579\u001b[0m | \u001b[1m\u001b[31m0.553\u001b[0m | \u001b[37m1631698465_LSTM-1_Dense-2-softmax\u001b[0m |\n",
      "|   \u001b[1m\u001b[37m6\u001b[0m   | \u001b[1m\u001b[37m5.00e-03\u001b[0m | \u001b[1m\u001b[37m5.00e-03\u001b[0m | \u001b[1m\u001b[32m0.734\u001b[0m |  \u001b[1m\u001b[32m0.762\u001b[0m   | \u001b[1m\u001b[31m0.579\u001b[0m | \u001b[1m\u001b[31m0.553\u001b[0m | \u001b[37m1631698465_LSTM-1_Dense-2-softmax\u001b[0m |\n",
      "|   \u001b[1m\u001b[37m7\u001b[0m   | \u001b[1m\u001b[37m5.00e-03\u001b[0m | \u001b[1m\u001b[37m5.00e-03\u001b[0m | \u001b[1m\u001b[32m0.734\u001b[0m |  \u001b[1m\u001b[32m0.762\u001b[0m   | \u001b[1m\u001b[31m0.579\u001b[0m | \u001b[1m\u001b[31m0.553\u001b[0m | \u001b[37m1631698465_LSTM-1_Dense-2-softmax\u001b[0m |\n",
      "|   \u001b[1m\u001b[37m8\u001b[0m   | \u001b[1m\u001b[37m5.00e-03\u001b[0m | \u001b[1m\u001b[37m5.00e-03\u001b[0m | \u001b[1m\u001b[32m0.734\u001b[0m |  \u001b[1m\u001b[32m0.762\u001b[0m   | \u001b[1m\u001b[31m0.579\u001b[0m | \u001b[1m\u001b[31m0.553\u001b[0m | \u001b[37m1631698465_LSTM-1_Dense-2-softmax\u001b[0m |\n",
      "|   \u001b[1m\u001b[37m9\u001b[0m   | \u001b[1m\u001b[37m5.00e-03\u001b[0m | \u001b[1m\u001b[37m5.00e-03\u001b[0m | \u001b[1m\u001b[32m0.734\u001b[0m |  \u001b[1m\u001b[32m0.762\u001b[0m   | \u001b[1m\u001b[31m0.579\u001b[0m | \u001b[1m\u001b[31m0.553\u001b[0m | \u001b[37m1631698465_LSTM-1_Dense-2-softmax\u001b[0m |\n",
      "+-------+----------+----------+-------+----------+-------+-------+-----------------------------------+\n"
     ]
    }
   ],
   "source": [
    "model.train(epochs=10, init_logs=False)"
   ]
  },
  {
   "cell_type": "markdown",
   "metadata": {},
   "source": [
    "The accuracy metrics is simply identical to what we have seen with a simple *RNN*, which is much faster to compute. It is not significantly better than what we obtained from a simple Perceptron, itself way faster to compute than the *RNN* based network."
   ]
  },
  {
   "cell_type": "code",
   "execution_count": 24,
   "metadata": {
    "tags": []
   },
   "outputs": [
    {
     "data": {
      "image/png": "iVBORw0KGgoAAAANSUhEUgAAAYgAAAEWCAYAAAB8LwAVAAAAOXRFWHRTb2Z0d2FyZQBNYXRwbG90bGliIHZlcnNpb24zLjQuMywgaHR0cHM6Ly9tYXRwbG90bGliLm9yZy/MnkTPAAAACXBIWXMAAAsTAAALEwEAmpwYAAAuj0lEQVR4nO3de3xU1b3//9cnk3AJCRe5aBVqUgRBwCAEsEWQI1WxVbR4QYu22Iq1PWilrfXSVlHUn1VstUePiohopcVf6dHirT0qIHgUJVhaFe8QNaiI3Ey4GJJ8vn/snWESdiYJZpiEvJ+Pxzwye6+11/7MTjKfWXvtWdvcHRERkdoy0h2AiIg0T0oQIiISSQlCREQiKUGIiEgkJQgREYmkBCEiIpGUIEREJJIShIi0KGY20szeMbMyMzst3fHsz5Qgmikzm2pmRWb2hZnNrVWWbWb/bWafmdlWM1uaUDbNzNaY2edm9pGZ/d7MMhPKZ5jZq2ZWYWbTI/bb3cz+FLa72czmJZQdYmZ/M7NNZlZiZhfV2vY4M3sl3PcaM7uwjtc2x8zczA6rtf5sM3vDzLaZ2XtmNipcnxfWL0t4/KYBx3CJmV1QR9kPzexNMys1s/Vm9qSZ5ZrZUwn72GVm5QnLd5vZmDCWR2q1VxCuX5Iknv8ws8XhsS2uL/6E7Tw8JmVmttHMnjWziQ3dfl8xs8vM7LXwmK41s8tStKvrgDvcPcfdH436W5KmoQTRfH0EXA/MiSibBRwA9A9/TksoWwgMcfeOwECgALgkofxd4JfAE3Xs93+AT4CvAj2AmQllDwFrgQOBbwM3mtl/AJhZFvAIcA/QCZgI/M7MChIbN7NjgN61d2pmxwO/Bc4HcoHRwJpa1TqHbwo57j6jjvjrZWbHAjcC57h7LsFxfBjA3U+q3gcwD7g5YZ/VCXED8HUz65rQ7PeBt+vZ9TaC3+fevHEWhDEdDswF7jCza/ainVQy4HtAF2AcMNXMzk7Bfg4FXk9Bu1Kbu+vRjB8ESWJuwnI/4HOgYwO27Qo8A/x3RNlDwPRa604AioFYRP0cwIHuCetmAX8Mnx8YlmcnlK8geBOuXs4E/gkcGdY9LKHsBeCHdbyOvLB+ZiOP3RLggoj1vwAebcD2c4Hra60bA5QAdwP/Ga6LAeuAq4ElDWj3m0BxI15HjWMVrjsD2Al0DZc7AfcBH4exXF/9ewQmA88TJPvNBEn+pIS2JhMk49KwbFJC2Q+AN8Lt/gEc2oi4/wD8V5LybwGrw/2uA36RUDaF4MPMJoIPPQeH698DqoAdQBnwYnh8toXLExN+R78EPg2PyWnh/t4O27wqYV/Dw3a2hHXvANqEZd8APgN6hcsF4bHo92X+r1vKQz2Ilmc48D5wbXiK6VUzOz2xgpl918w+J/jDLiD4VN8QRwNvAQ+EpzJWhJ+2Ifh0mPiz+vlAAHdfD/wZON/MYmb2dYJPes8n1J8GLHX3f9eKNwYUAt3N7N3w9NUdZta+Vnzvh2X3m1m3Br6mKC8BJ5rZtRacz267F208SPBpGeBE4DWCXt++8jeChDs8XJ4LVACHAUcRJPvE02sjCH633YCbgfss0IHgjfwkD3pT3wBWAZjZqcBVwASgO7CM4HdcLzMzYBTJP+nfB/wo3O9AYFG47XHA/wecBXyF4O99PoC79wY+AE7xoFf39bCtgnD54XD5IKAdcAhB4r4XOBcYGsb1GzPLD+tWEvxtdgO+DowFfhLu7wWC/58Hwr/Hh4DfuPubDTkOLV66M5QeyR/s2YO4iuAT03SgDXAswSen/hHb9gFmAAdFlEX1IGaFbf8QyALOJvhU1S0sfx74L4J/vCEEn8TeStj+FGA9wRtVBTAloawXwSfCTuFy/FMxcHC4XETwhtAN+D/ghrA8hyCBZBL0VBYA/2jAsVtCRA8iLDsJeCx8fWXA76jVcyJJDyJ8/g7BKZ/5wCSCN+QlDYjrS/cgwvWfhPs9EPgCaJ9Qdg6wOHw+GXg3oSw7bPMgoEN4DE5P3D6s9xQJvTqCU9LbaUAvArgW+BfQNkmdD4AfUas3TJA4bk5YzgF2AXnhcjHwzbqOT/g72sHuHlRuWGdEQp2VwGl1xHUp8EjCclZY/1Xg74A1xf92S3ioB9Hy7CD4Z7ne3cvd/TlgMcEnxhrc/R2CT3D/3Yi2i939Pnff5e7zgQ+BkWH5JCA/XHcXQZIpATCzfgRvlN8jSFwDgF+a2bfDbW8DrnP3rXXsF4LTER+7+2cEb9jfCl9HmbsXuXuFBz2VqcAJZpbbwNe1B3d/yt1PIRjDOZXgTTRyQDuJP4ax/AfB+EucmV2VOLi9t3HWJRzz6U6QpA8leBP72My2mNkWgk+9PRI2+aT6ibtvD5/muPs2gtMyF4XbPxH+LgnbvT2hzU0EvcZDkr0+M5tK8HfwbXf/IlwXVf90gt/x+2b2XNjrhOADw/sJ8ZYBGwl6Aw210d0rw+fVf1/rE8p3ECQezKyvmT1uZp+EPe8bCT6kVO9/F8GHhYHArR5mjdZACaLl+XfEumR/sJlEDAonabt2W/Fld3/f3U929+7uPoLgn+jlsHgg8La7/8Pdq9z9LYKB8JPC8rHALeE/YfWb1Ytm9l1330yQaBL3new1VZd96b/fMNZnCU5vDGzk5n8kOBXxZMKbbnW7N/qeg9tN6VSCXtrLBAn7C4KeXufw0dHdBzSkofB3djxB7+1NgtMxhO3+KKHNzu7e3t1fqOv1mdkPgCuAse5ekrCPPeq7+wp3P5UgkT0K/P9h9Y8IklN1mx0IxtPWNfYgNdBd4evu48HFHVeRcCrVzA4BrgHuB27dy1OSLZISRDNlZplm1o5gADRmZu0suFx1KUHX/MqwzkiCT7D/CLe7wMx6hM+PAK4Enk1oNytsNwPIDNuNhcWPAF3M7PvhOMIZQE+C0z2YWX8LLgVtY2bnEvRafhdu+0+gjwWXupqZ9QZOZndC60swHjI4fEBwSqr6k/f9wMVm1sPMuhCcE3483O8IMzvczDLCK4f+QHAqJ6o3Ulv1a6x+ZJnZqRZcUtsljHU4wam65Q1oL87d14bb/aoh9cP42xF82rcwnjaN2aeZHWBmk4A7gd+6+0Z3/xj4X4I3r47hfnonjB8la+/A8Hh0IEgyZQSDwBAMxF9pZgPCup3M7MwkbU0i+PR9vLvXvgKtdt02ZjbJzDqFn9A/T9hv9VjW4PDN+EbgJXcvrqO59cDX6nutSeSG+y8Le08/TojTCHoP9xGcev2Y4LRt65Duc1x6RD8Ixhi81mN6WDaA4KqLbQRXgXwnYbv7Cf5hthGcq70FaJdQPjei3ckJ5aMIzrWWEYwJjEoou5TgEs9tBOMRhbViPotgsLaUoEfwWyCjjtdX+7xxFsGpsC0Ep0P+UB03wfn0teF+PyYYIN5jXCViH0siXutDBJfQPkswiF9KcGXLLyO2n0uSMYiI+knHIMJta8dTZ/1ax6r6Kp1NBKcUv1urTieCT8IlwFaChH12WDYZeD7q+BP0Gp4Lt9kSHrMjEuqdF/49fE7Qo5iTJM61BKc/yxIed9dRtw3B+fzNYdsrgGMSyi8iuGJpE8EHhZ4JZcXUHIO4KPy72BL+Ddb4HRH0op1wDCNc9zxwbvh8NEEPooxgIP666uMF/JRgLKX6qqaDCf4HRtV1HPanh4UvWkREpAadYhIRkUiZ9VcRab7MrKyOopPcfdk+DWYvWTClyFNRZR58e1okLXSKSUREIu03PYhu3bp5Xl5eusMQEWlRVq5c+Zm7d48q228SRF5eHkVFRekOQ0SkRTGz9+sq0yC1iIhEUoIQEZFIShAiIhJJCUJERCIpQYiISCQlCBERiaQEISIikfab70F8KU9dAZ+8mu4oRET2zkGD4KSbmrxZ9SBERCSSehCQkswrItLSqQchIiKRlCBERCSSEoSIiERSghARkUhKECIiEkkJQkREIilBiIhIpJQmCDMbZ2Zvmdm7ZnZFRPnvzWxV+HjbzLYklFUmlC1MZZwiIrKnlH1RzsxiwJ3A8UAJsMLMFrr76uo67j4tof7FwFEJTexw98Gpik9ERJJLZQ9iOPCuu69x93JgPnBqkvrnAH9OYTwiItIIqUwQhwAfJiyXhOv2YGaHAvnAooTV7cysyMyWm9lpdWx3YVinaMOGDU0UtoiIQPMZpD4bWODulQnrDnX3QuC7wG1m1rv2Ru4+y90L3b2we/fu+ypWEZFWIZUJYh3QK2G5Z7guytnUOr3k7uvCn2uAJdQcnxARkRRLZYJYAfQxs3wza0OQBPa4GsnM+gFdgBcT1nUxs7bh827ASGB17W1FRCR1UnYVk7tXmNlU4B9ADJjj7q+b2XVAkbtXJ4uzgfnu7gmb9wfuMbMqgiR2U+LVTyIiknpW83255SosLPSioqJ0hyEi0qKY2cpwvHcPzWWQWkREmhklCBERiaQEISIikZQgREQkkhKEiIhEUoIQEZFIShAiIhJJCUJERCKl7JvULcm1j73O6o8+T3cYIiJ75YiDO3LNKQOavF31IEREJJJ6EJCSzCsi0tKpByEiIpGUIEREJJIShIiIRFKCEBGRSEoQIiISSQlCREQiKUGIiEgkJQgREYmkBCEiIpGUIEREJJIShIiIRFKCEBGRSEoQIiISSQlCREQiKUGIiEgkJQgREYmkBCEiIpGUIEREJJIShIiIRFKCEBGRSEoQIiISSQlCREQiKUGIiEgkJQgREYmkBCEiIpGUIEREJJIShIiIREppgjCzcWb2lpm9a2ZXRJT/3sxWhY+3zWxLQtn3zeyd8PH9VMYpIiJ7ykxVw2YWA+4EjgdKgBVmttDdV1fXcfdpCfUvBo4Knx8AXAMUAg6sDLfdnKp4RUSkplT2IIYD77r7GncvB+YDpyapfw7w5/D5icDT7r4pTApPA+NSGKuIiNSSygRxCPBhwnJJuG4PZnYokA8sasy2ZnahmRWZWdGGDRuaJGgREQk0l0Hqs4EF7l7ZmI3cfZa7F7p7Yffu3VMUmohI65TKBLEO6JWw3DNcF+Vsdp9eauy2IiKSAqlMECuAPmaWb2ZtCJLAwtqVzKwf0AV4MWH1P4ATzKyLmXUBTgjXiYjIPpKyq5jcvcLMphK8sceAOe7+upldBxS5e3WyOBuY7+6esO0mM5tBkGQArnP3TamKVURE9mQJ78stWmFhoRcVFaU7DBGRFsXMVrp7YVRZcxmkFhGRZkYJQkREIilBiIhIpJQNUovI/mPXrl2UlJSwc+fOdIcie6ldu3b07NmTrKysBm+jBCEi9SopKSE3N5e8vDzMLN3hSCO5Oxs3bqSkpIT8/PwGb6dTTCJSr507d9K1a1clhxbKzOjatWuje4BKECLSIEoOLdve/P6UIESkxZk+fTozZ84EYO7cuXz00UeNbuPuu+/mwQcfbOrQ9isagxCRFm3u3LkMHDiQgw8+eI+yyspKYrFY5HYXXXRRqkPbaxUVFWRmpv/tWT0IEWkRbrjhBvr27csxxxzDW2+9BcCCBQsoKipi0qRJDB48mB07dpCXl8fll1/OkCFD+Mtf/sK9997LsGHDKCgo4PTTT2f79u1AzV7ImDFjuPzyyxk+fDh9+/Zl2bJle+y/rKyMsWPHMmTIEAYNGsTf/va3eNmDDz7IkUceSUFBAeeddx4A69ev5zvf+Q4FBQUUFBTwwgsvUFxczMCBA+PbzZw5k+nTp8djuPTSSyksLOT222/nscceY8SIERx11FF885vfZP369fE4zj//fAYNGsSRRx7JX//6V+bMmcOll14ab/fee+9l2rT4/dj2WvpTlIi0KNc+9jqrP/q8Sds84uCOXHPKgDrLV65cyfz581m1ahUVFRUMGTKEoUOHcsYZZ3DHHXcwc+ZMCgt3zxbRtWtXXnnlFQA2btzIlClTAPj1r3/Nfffdx8UXX7zHPioqKnj55Zd58sknufbaa3nmmWdqlLdr145HHnmEjh078tlnn3H00Uczfvx4Vq9ezfXXX88LL7xAt27d2LQpmDbukksu4dhjj+WRRx6hsrKSsrIyNm9OflPM8vJyqqcM2rx5M8uXL8fMmD17NjfffDO33norM2bMoFOnTrz66qvxellZWdxwww3ccsstZGVlcf/993PPPffUd9jrpQQhIs3esmXL+M53vkN2djYA48ePT1p/4sSJ8eevvfYav/71r9myZQtlZWWceOKJkdtMmDABgKFDh1JcXLxHubtz1VVXsXTpUjIyMli3bh3r169n0aJFnHnmmXTr1g2AAw44AIBFixbFxzhisRidOnWqN0Ekxl1SUsLEiRP5+OOPKS8vj1+e+swzzzB//vx4vS5dugBw3HHH8fjjj9O/f3927drFoEGDku6rIZQgRKRRkn3Sby46dOgQfz558mQeffRRCgoKmDt3LkuWLIncpm3btkDwZl5RUbFH+bx589iwYQMrV64kKyuLvLy8Rl82mpmZSVVVVXy59vaJcV988cX87Gc/Y/z48SxZsiR+KqouF1xwATfeeCP9+vXj/PPPb1RcddEYhIg0e6NHj+bRRx9lx44dlJaW8thjj8XLcnNzKS0trXPb0tJSvvKVr7Br1y7mzZu31zFs3bqVHj16kJWVxeLFi3n//feB4JP7X/7yFzZu3AgQP8U0duxY7rrrLiAYLN+6dSsHHnggn376KRs3buSLL77g8ccfT7q/Qw4J7rT8wAMPxNcff/zx3HnnnfHl6l7JiBEj+PDDD/nTn/7EOeecs9evM5EShIg0e0OGDGHixIkUFBRw0kknMWzYsHjZ5MmTueiii+KD1LXNmDGDESNGMHLkSPr167fXMUyaNImioiIGDRrEgw8+GG9rwIAB/OpXv+LYY4+loKCAn/3sZwDcfvvtLF68mEGDBjF06FBWr15NVlYWV199NcOHD+f4449PGs/06dM588wzGTp0aPz0FQTjKJs3b2bgwIEUFBSwePHieNlZZ53FyJEj46edvizdD0JE6vXGG2/Qv3//dIch9Tj55JOZNm0aY8eOjSyP+j3qfhAiIvuxLVu20LdvX9q3b19nctgbGqQWEWnhOnfuzNtvv93k7aoHISIikZQgREQkkhKEiIhEUoIQEZFIShAi0uIkTrTXWJMnT2bBggVNHNH+qcEJwsyyUxmIiEhrEDWNR3NVb4Iws2+Y2WrgzXC5wMz+O+WRiYgkiJru+80332T48OHxOsXFxfFJ6q677jqGDRvGwIEDufDCC6nvS8F1TQseNW03RE/xXbt3kpOTA8CSJUsYNWoU48eP54gjjgDgtNNOY+jQoQwYMIBZs2bFt/n73//OkCFDKCgoYOzYsVRVVdGnTx82bNgAQFVVFYcddlh8OZUa8j2I3wMnAgsB3P1fZjY6pVGJSPP11BXwyatN2+ZBg+Ckm+osrmu67379+lFeXs7atWvJz8/n4Ycfjs+IOnXqVK6++moAzjvvPB5//HFOOeWUOvcxYcKEyGnBo6btfv311yOn+E7mlVde4bXXXovPyjpnzhwOOOAAduzYwbBhwzj99NOpqqpiypQpLF26lPz8fDZt2kRGRgbnnnsu8+bN49JLL+WZZ56hoKCA7t27N/jw7q0GnWJy9w9rrapMQSwiIpESp/vu2LFjjem+zzrrLB5++GGAGgli8eLFjBgxgkGDBrFo0SJef/31pPt47bXXGDVqFIMGDWLevHnx+osWLeLHP/4xsHva7rqm+E5m+PDh8eQA8Ic//IGCggKOPvpoPvzwQ9555x2WL1/O6NGj4/Wq2/3BD34Qnzp8zpw5TTZba30a0oP40My+AbiZZQE/Bd5IbVgi0mwl+aSfDhMnTuTMM89kwoQJmBl9+vRh586d/OQnP6GoqIhevXoxffr0eqfmbui04MkkTuddVVVFeXl5vCxxKu8lS5bwzDPP8OKLL5Kdnc2YMWOSxterVy8OPPBAFi1axMsvv/ylZqVtjIb0IC4C/hM4BFgHDA6XRUT2iWTTfffu3ZtYLMaMGTPivYfqN9tu3bpRVlbWoKuW6poWPGra7rqm+M7Ly2PlypUALFy4kF27dkXua+vWrXTp0oXs7GzefPNNli9fDsDRRx/N0qVLWbt2bY12Ibjfw7nnnsuZZ55Z5322m1q9CcLdP3P3Se5+oLv3cPdz3X3jvghORASST/cNQS/ioYce4qyzzgKCuYmmTJnCwIEDOfHEE/eoH6WuacGjpu2ua4rvKVOm8Nxzz1FQUMCLL75Yo9eQaNy4cVRUVNC/f3+uuOIKjj76aAC6d+/OrFmzmDBhAgUFBTXuMDd+/Pj4/aj3lXqn+zaz+4E9Krn7D1IV1N7QdN8iqaPpvtOvqKiIadOmsWzZsr1uo7HTfTdkDCLxlkftgO8AH+11hCIi0ig33XQTd9111z4be6hWb4Jw978mLpvZn4HnUxaRiIjUcMUVV3DFFVfs8/3uzVQbfYAeTR2IiIg0L/X2IMyslGAMwsKfnwCXpzguERFJs4acYsrdF4GIiEjzUmeCMLMhyTZ091eaPhwREWkukvUgbk1S5sBxTRyLiEiDTJ8+nZycHH7xi18wd+5cTjjhBA4++OBGtXH33XeTnZ3N9773vQbVLy4upn///hx++OG4Ox06dOD+++/n8MMPB+Cpp57iN7/5Ddu3b6dt27Ycd9xx3HrrrUyfPp177723xtxJS5YsoXPnzo2KNx3qTBDu/h9ftnEzGwfcDsSA2e6+x3f0zewsYDpB0vmXu383XF8JVM8I9oG7j6+9rYjI3LlzGThwYGSCqKysrPNbxxdddFGj99W7d29WrVoFwD333MONN97IAw88wGuvvcbUqVN54okn6NevH5WVlTVmaJ02bRq/+MUvGr2/dGvI9yAws4HAEQTfgwDA3R+sZ5sYcCdwPFACrDCzhe6+OqFOH+BKYKS7bzazxKujdrj74Ia+EBHZv91www088MAD9OjRg169ejF06FAWLFhAUVERkyZNon379rz44ov079+fiRMn8vTTT/PLX/6S0tJSZs2aRXl5OYcddhh//OMfyc7OrtELGTNmDCNGjGDx4sVs2bKF++67j1GjRiWN5/PPP6dLly4A3HzzzfzqV7+KfwM7FovFJ/hryRpyFdM1wBiCBPEkcBLB9yCSJghgOPCuu68J25kPnAqsTqgzBbjT3TcDuPunjYxfRPax3778W97c9GaTttnvgH5cPrzuiyPrmu77jDPO4I477mDmzJkUFu7+MnDXrl155ZVgmHTjxo2R03jXVlFRwcsvv8yTTz7JtddeyzPPPLNHnffee4/BgwdTWlrK9u3beemll4BgJtif//zndhttps://epynn.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://epynn.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://epynn.net/V0zTEzOze8D4D/2tm7dP2oqTVU4IQaZz2tU4xTUwo2+rug4A7CGaCBfgv4AF3PxKYB/whXP8H4Dl3LyCY06j6G/x9gDvdfQCwBTg9pa9GJAl9k1qkEcyszN1zItYXA8e5+5pwwsNP3L2rmX0GfMXdd4XrP3b3bma2Aejp7l8ktJEHPO3ufcLly4Esd79+H7w0kT2oByHSdLyO543xRcLzSjROKGmkBCHSdCYm/HwxfP4Cu29FOQlYFj5/FvgxxO973WlfBSnSUPp0ItI47RNmuoXgHs3Vl7p2MbN/E/QCzgnXXUxwF7bLCO7IVj0D6k+BWWb2Q4Kewo8J7kwm0mxoDEKkCYRjEIXu/lm6YxFpKjrFJCIikdSDEBGRSOpBiIhIJCUIERGJpAQhIiKRlCBERCSSEoSIiET6fzwQa4XTEdYJAAAAAElFTkSuQmCC\n",
      "text/plain": [
       "<Figure size 432x288 with 1 Axes>"
      ]
     },
     "metadata": {
      "needs_background": "light"
     },
     "output_type": "display_data"
    }
   ],
   "source": [
    "model.plot(path=False)"
   ]
  },
  {
   "cell_type": "markdown",
   "metadata": {
    "tags": []
   },
   "source": [
    "By contrast with the RNN-based network, we observe here a slight overfitting because the cost is lower for the training dataset compared to the testing dataset.\n",
    "\n",
    "For code, maths and pictures behind the *LSTM* layer, follow this link:\n",
    "\n",
    "* [Long Short-Term Memory (LSTM)](https://epynn.net/LSTM.html)"
   ]
  },
  {
   "cell_type": "markdown",
   "metadata": {},
   "source": [
    "### GRU-Dense"
   ]
  },
  {
   "cell_type": "markdown",
   "metadata": {},
   "source": [
    "Let's now proceed with a GRU layer, all other things being equal."
   ]
  },
  {
   "cell_type": "code",
   "execution_count": 25,
   "metadata": {
    "tags": []
   },
   "outputs": [],
   "source": [
    "name = 'GRU-1_Dense-2-softmax'\n",
    "\n",
    "se_hPars['learning_rate'] = 0.005\n",
    "\n",
    "gru = GRU(1)\n",
    "\n",
    "flatten = Flatten()\n",
    "\n",
    "dense = Dense(2, softmax)\n",
    "\n",
    "layers = [embedding, gru, dense]\n",
    "\n",
    "model = EpyNN(layers=layers, name=name)"
   ]
  },
  {
   "cell_type": "markdown",
   "metadata": {
    "tags": []
   },
   "source": [
    "Initialize the network."
   ]
  },
  {
   "cell_type": "code",
   "execution_count": 26,
   "metadata": {
    "tags": []
   },
   "outputs": [
    {
     "name": "stdout",
     "output_type": "stream",
     "text": [
      "\u001b[1m--- EpyNN Check OK! ---                                                                             \u001b[0m\r"
     ]
    }
   ],
   "source": [
    "model.initialize(loss='BCE', seed=1, se_hPars=se_hPars.copy(), end='\\r')"
   ]
  },
  {
   "cell_type": "markdown",
   "metadata": {},
   "source": [
    "Train for 50 epochs."
   ]
  },
  {
   "cell_type": "code",
   "execution_count": 27,
   "metadata": {},
   "outputs": [
    {
     "name": "stdout",
     "output_type": "stream",
     "text": [
      "\u001b[1m\u001b[37mEpoch 9 - Batch 0/0 - Accuracy: 0.734 Cost: 0.57968 - TIME: 0.61s RATE: 7.34e+02e/s TTC: 0s         \u001b[0m\n",
      "\n",
      "+-------+----------+----------+-------+----------+-------+-------+----------------------------------+\n",
      "| \u001b[1m\u001b[37mepoch\u001b[0m |  \u001b[1m\u001b[37mlrate\u001b[0m   |  \u001b[1m\u001b[37mlrate\u001b[0m   |       | \u001b[1m\u001b[32maccuracy\u001b[0m |       |  \u001b[1m\u001b[31mBCE\u001b[0m  |            \u001b[37mExperiment\u001b[0m            |\n",
      "|       |   \u001b[37mGRU\u001b[0m    |  \u001b[37mDense\u001b[0m   |  \u001b[1m\u001b[32m(0)\u001b[0m  |   \u001b[1m\u001b[32m(1)\u001b[0m    |  \u001b[1m\u001b[31m(0)\u001b[0m  |  \u001b[1m\u001b[31m(1)\u001b[0m  |                                  |\n",
      "+-------+----------+----------+-------+----------+-------+-------+----------------------------------+\n",
      "|   \u001b[1m\u001b[37m0\u001b[0m   | \u001b[1m\u001b[37m5.00e-03\u001b[0m | \u001b[1m\u001b[37m5.00e-03\u001b[0m | \u001b[1m\u001b[32m0.734\u001b[0m |  \u001b[1m\u001b[32m0.762\u001b[0m   | \u001b[1m\u001b[31m0.582\u001b[0m | \u001b[1m\u001b[31m0.562\u001b[0m | \u001b[37m1631698467_GRU-1_Dense-2-softmax\u001b[0m |\n",
      "|   \u001b[1m\u001b[37m1\u001b[0m   | \u001b[1m\u001b[37m5.00e-03\u001b[0m | \u001b[1m\u001b[37m5.00e-03\u001b[0m | \u001b[1m\u001b[32m0.734\u001b[0m |  \u001b[1m\u001b[32m0.762\u001b[0m   | \u001b[1m\u001b[31m0.580\u001b[0m | \u001b[1m\u001b[31m0.557\u001b[0m | \u001b[37m1631698467_GRU-1_Dense-2-softmax\u001b[0m |\n",
      "|   \u001b[1m\u001b[37m2\u001b[0m   | \u001b[1m\u001b[37m5.00e-03\u001b[0m | \u001b[1m\u001b[37m5.00e-03\u001b[0m | \u001b[1m\u001b[32m0.734\u001b[0m |  \u001b[1m\u001b[32m0.762\u001b[0m   | \u001b[1m\u001b[31m0.580\u001b[0m | \u001b[1m\u001b[31m0.556\u001b[0m | \u001b[37m1631698467_GRU-1_Dense-2-softmax\u001b[0m |\n",
      "|   \u001b[1m\u001b[37m3\u001b[0m   | \u001b[1m\u001b[37m5.00e-03\u001b[0m | \u001b[1m\u001b[37m5.00e-03\u001b[0m | \u001b[1m\u001b[32m0.734\u001b[0m |  \u001b[1m\u001b[32m0.762\u001b[0m   | \u001b[1m\u001b[31m0.580\u001b[0m | \u001b[1m\u001b[31m0.556\u001b[0m | \u001b[37m1631698467_GRU-1_Dense-2-softmax\u001b[0m |\n",
      "|   \u001b[1m\u001b[37m4\u001b[0m   | \u001b[1m\u001b[37m5.00e-03\u001b[0m | \u001b[1m\u001b[37m5.00e-03\u001b[0m | \u001b[1m\u001b[32m0.734\u001b[0m |  \u001b[1m\u001b[32m0.762\u001b[0m   | \u001b[1m\u001b[31m0.580\u001b[0m | \u001b[1m\u001b[31m0.555\u001b[0m | \u001b[37m1631698467_GRU-1_Dense-2-softmax\u001b[0m |\n",
      "|   \u001b[1m\u001b[37m5\u001b[0m   | \u001b[1m\u001b[37m5.00e-03\u001b[0m | \u001b[1m\u001b[37m5.00e-03\u001b[0m | \u001b[1m\u001b[32m0.734\u001b[0m |  \u001b[1m\u001b[32m0.762\u001b[0m   | \u001b[1m\u001b[31m0.580\u001b[0m | \u001b[1m\u001b[31m0.555\u001b[0m | \u001b[37m1631698467_GRU-1_Dense-2-softmax\u001b[0m |\n",
      "|   \u001b[1m\u001b[37m6\u001b[0m   | \u001b[1m\u001b[37m5.00e-03\u001b[0m | \u001b[1m\u001b[37m5.00e-03\u001b[0m | \u001b[1m\u001b[32m0.734\u001b[0m |  \u001b[1m\u001b[32m0.762\u001b[0m   | \u001b[1m\u001b[31m0.580\u001b[0m | \u001b[1m\u001b[31m0.555\u001b[0m | \u001b[37m1631698467_GRU-1_Dense-2-softmax\u001b[0m |\n",
      "|   \u001b[1m\u001b[37m7\u001b[0m   | \u001b[1m\u001b[37m5.00e-03\u001b[0m | \u001b[1m\u001b[37m5.00e-03\u001b[0m | \u001b[1m\u001b[32m0.734\u001b[0m |  \u001b[1m\u001b[32m0.762\u001b[0m   | \u001b[1m\u001b[31m0.580\u001b[0m | \u001b[1m\u001b[31m0.555\u001b[0m | \u001b[37m1631698467_GRU-1_Dense-2-softmax\u001b[0m |\n",
      "|   \u001b[1m\u001b[37m8\u001b[0m   | \u001b[1m\u001b[37m5.00e-03\u001b[0m | \u001b[1m\u001b[37m5.00e-03\u001b[0m | \u001b[1m\u001b[32m0.734\u001b[0m |  \u001b[1m\u001b[32m0.762\u001b[0m   | \u001b[1m\u001b[31m0.580\u001b[0m | \u001b[1m\u001b[31m0.555\u001b[0m | \u001b[37m1631698467_GRU-1_Dense-2-softmax\u001b[0m |\n",
      "|   \u001b[1m\u001b[37m9\u001b[0m   | \u001b[1m\u001b[37m5.00e-03\u001b[0m | \u001b[1m\u001b[37m5.00e-03\u001b[0m | \u001b[1m\u001b[32m0.734\u001b[0m |  \u001b[1m\u001b[32m0.762\u001b[0m   | \u001b[1m\u001b[31m0.580\u001b[0m | \u001b[1m\u001b[31m0.555\u001b[0m | \u001b[37m1631698467_GRU-1_Dense-2-softmax\u001b[0m |\n",
      "+-------+----------+----------+-------+----------+-------+-------+----------------------------------+\n"
     ]
    }
   ],
   "source": [
    "model.train(epochs=10, init_logs=False)"
   ]
  },
  {
   "cell_type": "markdown",
   "metadata": {},
   "source": [
    "Plot the results."
   ]
  },
  {
   "cell_type": "code",
   "execution_count": 28,
   "metadata": {
    "tags": []
   },
   "outputs": [
    {
     "data": {
      "image/png": "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://epynn.net/+UEo4fldfUTbqN2BDufnHA7p/x3F/7bDiY4bHcwe7bzvcAMMxsbbueOZvbNpJ1sXX2eaGaHhQluC8EJ4CqCJL/NzGaZWfvw336omY2uo58uBL9vf3f32XFtktp/zcyGhb9nWwm2XVV4+PFF4P+G22c4wcnpui5l/QTIa8x2TNKZYES4geB3/2qgSyTOYwjOQZ1L8Lv232bW2NHM/iGdZ8D1+OIPgitaPOkxJ6wbQnAibjuwBjg5stwDBH9I2wmuaLmF8CqWsH5uTL9TI/VHA28QXBFSRM2rPC4h+OPaTnDyuTAp5tOBVcA2ghHBTwmvkol5f8lXMeUQHArbTHCI5FdJcbcL6yY0cjuOJbg6ZXP4WEXwKfHAsH4qkauYwrI+BMf1h4ev+xIcy/6Y4MT/M8ARDax3acx2Hp/Cv3n1VTrbgXfDbXJIUruJBCdbNwP/CmPrHNYVA19P6vPh8PnMsH57+O/zk0i73gTJ6GOCw3PLo/0krf+88P1sD2OtfhxaR/szCS5+2E7wu/kroE1kWz9JcAjtPWBGZLka/zYE5zFeCONbGdnOF0TaJF/193Vgbfg8m+AE/9Zwu/2oensRJIpi4IzIsj8lGCVZpvcH+/ph4QYQERGpQYeYREQklhKE7BfMbHXSVTPVj7MyHVscM3u6jnivzHRsItV0iElERGK1abhJy9CjRw/Py8vLdBgiIi3KihUrPnP3nnF1+02CyMvLo6ioKNNhiIi0KGZW53QyOgchIiKxlCBERCSWEoSIiMRSghARkVhKECIiEksJQkREYilBiIhIrP3mexBfyNOz4eM3Mh2FiMjeOXgYfOPmJu9WIwgREYmlEQSkJfOKiLR0GkGIiEgsJQgREYmlBCEiIrGUIEREJJYShIiIxFKCEBGRWEoQIiISK60JwswmmtnbZrbWzGbH1P/CzF4NH++Y2eZIXWWkblE64xQRkdrS9kU5M8sG7gSOA0qAV8xskbuvqW7j7jMj7S8Cjox0sdPdR6QrPhERqV86RxBjgLXuvs7dy4D5wLfqaX8m8Ls0xiMiIo2QzgRxCPBB5HVJWFaLmfUD8oHFkeJ2ZlZkZsvN7Nt1LDc9bFO0YcOGJgpbRESg+ZykPgNY6O6VkbJ+7l4IfAf4pZn1T17I3e9x90J3L+zZs+e+ilVEpFVIZ4L4EOgbed0nLItzBkmHl9z9w/DnOmApNc9PiIhImqUzQbwCDDCzfDPLJUgCta5GMrNBQDdgWaSsm5m1DZ/3AI4C1iQvKyIi6ZO2q5jcvcLMLgSeAbKB+919tZldBxS5e3WyOAOY7+4eWXwwcLeZVREksZujVz+JiEj6Wc39cstVWFjoRUVFmQ5DRKRFMbMV4fneWprLSWoREWlmlCBERCSWEoSIiMRSghARkVhKECIiEksJQkREYilBiIhILCUIERGJlbZvUrck1z6xmjUfbc10GCIie+WI3l245qQhTd6vRhAiIhJLIwhIS+YVEWnpNIIQEZFYShAiIhJLCUJERGIpQYiISCwlCBERiaUEISIisZQgREQklhKEiIjEUoIQEZFYShAiIhJLCUJERGIpQYiISCwlCBERiaUEISIisZQgREQklhKEiIjEUoIQEZFYShAiIhJLCUJERGIpQYiISCwlCBERiaUEISIisZQgREQklhKEiIjEUoIQEZFYShAiIhJLCUJERGIpQYiISKy0Jggzm2hmb5vZWjObHVP/CzN7NXy8Y2abI3Xnmdm74eO8dMYpIiK1tUlXx2aWDdwJHAeUAK+Y2SJ3X1Pdxt1nRtpfBBwZPu8OXAMUAg6sCJfdlK54RUSkpnSOIMYAa919nbuXAfOBb9XT/kzgd+HzE4C/uPvnYVL4CzAxjbGKiEiSdCaIQ4APIq9LwrJazKwfkA8sbsyyZjbdzIrMrGjDhg1NErSIiASay0nqM4CF7l7ZmIXc/R53L3T3wp49e6YpNBGR1imdCeJDoG/kdZ+wLM4Z7Dm81NhlRUQkDdKZIF4BBphZvpnlEiSBRcmNzGwQ0A1YFil+BjjezLqZWTfg+LBMRET2kbRdxeTuFWZ2IcGOPRu4391Xm9l1QJG7VyeLM4D57u6RZT83s+sJkgzAde7+ebpiFRGR2iyyX27RCgsLvaioKNNhiIi0KGa2wt0L4+qay0lqERFpZpQgREQkVtrOQYjI/qO8vJySkhJ27dqV6VBkL7Vr144+ffqQk5OT8jJKECLSoJKSEjp37kxeXh5mlulwpJHcnY0bN1JSUkJ+fn7Ky+kQk4g0aNeuXRx44IFKDi2UmXHggQc2egSoBCEiKVFyaNn25t9PCUJEWpw5c+Zw6623AjB37lw++uijRvdx11138dBDDzV1aPsVnYMQkRZt7ty5DB06lN69e9eqq6ysJDs7O3a5GTNmpDu0vVZRUUGbNpnfPWsEISItwo033sjAgQP5yle+wttvvw3AwoULKSoq4qyzzmLEiBHs3LmTvLw8Zs2axciRI3n00Ue59957GT16NAUFBZxyyins2LEDqDkKGT9+PLNmzWLMmDEMHDiQ559/vtb6S0tLmTBhAiNHjmTYsGH84Q9/SNQ99NBDDB8+nIKCAs455xwAPvnkE04++WQKCgooKCjgxRdfpLi4mKFDhyaWu/XWW5kzZ04ihksuuYTCwkJuv/12nnjiCcaOHcuRRx7J17/+dT755JNEHOeffz7Dhg1j+PDh/P73v+f+++/nkksuSfR77733MnNm4nY7ey3zKUpEWpRrn1jNmo+2NmmfR/TuwjUnDamzfsWKFcyfP59XX32ViooKRo4cyahRozj11FO54447uPXWWyks3PNl4AMPPJCVK1cCsHHjRqZNmwbAVVddxW9/+1suuuiiWuuoqKjg5Zdf5qmnnuLaa6/l2WefrVHfrl07HnvsMbp06cJnn33GuHHjmDRpEmvWrOGGG27gxRdfpEePHnz+eTAr0MUXX8xXv/pVHnvsMSorKyktLWXTpvrveVZWVkb1jBCbNm1i+fLlmBn33XcfP/vZz7jtttu4/vrrOeCAA3jjjTcS7XJycrjxxhu55ZZbyMnJ4YEHHuDuu+9uaLM3SAlCRJq9559/npNPPpkOHToAMGnSpHrbT5kyJfF81apVXHXVVWzevJnS0lJOOOGE2GUmT54MwKhRoyguLq5V7+5ceeWVPPfcc2RlZfHhhx/yySefsHjxYk477TR69OgBQPfu3QFYvHhx4hxHdnY2BxxwQIMJIhp3SUkJU6ZM4V//+hdlZWWJy1OfffZZ5s+fn2jXrVs3AI499liefPJJBg8eTHl5OcOGDat3XalQghCRRqnvk35z0bFjx8TzqVOn8vjjj1NQUMDcuXNZunRp7DJt27YFgp15RUVFrfp58+axYcMGVqxYQU5ODnl5eY2+bLRNmzZUVVUlXicvH437oosu4tJLL2XSpEksXbo0cSiqLhdccAE33XQTgwYN4vzzz29UXHXROQgRafaOOeYYHn/8cXbu3Mm2bdt44oknEnWdO3dm27ZtdS67bds2vvSlL1FeXs68efP2OoYtW7Zw0EEHkZOTw5IlS3j//feB4JP7o48+ysaNGwESh5gmTJjAb37zGyA4Wb5lyxZ69erFp59+ysaNG9m9ezdPPvlkves75JDgRpoPPvhgovy4447jzjvvTLyuHpWMHTuWDz74gEceeYQzzzxzr99nlBKEiDR7I0eOZMqUKRQUFPCNb3yD0aNHJ+qmTp3KjBkzEiepk11//fWMHTuWo446ikGDBu11DGeddRZFRUUMGzaMhx56KNHXkCFD+PGPf8xXv/pVCgoKuPTSSwG4/fbbWbJkCcOGDWPUqFGsWbOGnJwcrr76asaMGcNxxx1Xbzxz5szhtNNOY9SoUYnDVxCcR9m0aRNDhw6loKCAJUuWJOpOP/10jjrqqMRhpy9K032LSIPefPNNBg8enOkwpAEnnngiM2fOZMKECbH1cf+Omu5bRGQ/tnnzZgYOHEj79u3rTA57QyepRURauK5du/LOO+80eb8aQYiISCwlCBERiaUEISIisZQgREQklhKEiLQ40Yn2Gmvq1KksXLiwiSPaP6WcIMysQzoDERFpDeKm8WiuGkwQZvZlM1sDvBW+LjCzX6c9MhGRiLjpvt966y3GjBmTaFNcXJyYpO66665j9OjRDB06lOnTp9PQl4LrmhY8btpuiJ/iO3l00qlTJwCWLl3K0UcfzaRJkzjiiCMA+Pa3v82oUaMYMmQI99xzT2KZP/3pT4wcOZKCggImTJhAVVUVAwYMYMOGDQBUVVVx2GGHJV6nUyrfg/gFcAKwCMDdXzOzY9IalYg0X0/Pho/faNo+Dx4G37i5zuq6pvseNGgQZWVlrF+/nvz8fBYsWJCYEfXCCy/k6quvBuCcc87hySef5KSTTqpzHZMnT46dFjxu2u7Vq1fHTvFdn5UrV7Jq1arErKz3338/3bt3Z+fOnYwePZpTTjmFqqoqpk2bxnPPPUd+fj6ff/45WVlZnH322cybN49LLrmEZ599loKCAnr27Jny5t1bKR1icvcPkooq0xCLiEis6HTfXbp0qTHd9+mnn86CBQsAaiSIJUuWMHbsWIYNG8bixYtZvXp1vetYtWoVRx99NMOGDWPevHmJ9osXL+Z73/sesGfa7rqm+K7PmDFjEskB4Fe/+hUFBQWMGzeODz74gHfffZfly5dzzDHHJNpV9/vd7343MXX4/fff32SztTYklRHEB2b2ZcDNLAf4AfBmesMSkWarnk/6mTBlyhROO+00Jk+ejJkxYMAAdu3axfe//32Kioro27cvc+bMaXBq7lSnBa9PdDrvqqoqysrKEnXRqbyXLl3Ks88+y7Jly+jQoQPjx4+vN76+ffvSq1cvFi9ezMsvv/yFZqVtjFRGEDOA/wMcAnwIjAhfi4jsE/VN992/f3+ys7O5/vrrE6OH6p1tjx49KC0tTemqpbqmBY+btruuKb7z8vJYsWIFAIsWLaK8vDx2XVu2bKFbt2506NCBt956i+XLlwMwbtw4nnvuOdavX1+jXwju93D22Wdz2mmn1Xmf7abWYIJw98/c/Sx37+XuB7n72e6+cV8EJyIC9U/3DcEo4uGHH+b0008HgrmJpk2bxtChQznhhBNqtY9T17TgcdN21zXF97Rp0/jb3/5GQUEBy5YtqzFqiJo4cSIVFRUMHjyY2bNnM27cOAB69uzJPffcw+TJkykoKKhxh7lJkyYl7ke9rzQ43beZPQDUauTu301XUHtD032LpI+m+868oqIiZs6cyfPPP7/XfTR2uu9UzkFEb3nUDjgZ+GivIxQRkUa5+eab+c1vfrPPzj1UazBBuPvvo6/N7HfAC2mLSEREapg9ezazZ8/e5+vdm6k2BgAHNXUgIiLSvDQ4gjCzbQTnICz8+TEwK81xiYhIhqVyiKnzvghERESalzoThJmNrG9Bd1/Z9OGIiEhzUd8I4rZ66hw4toljERFJyZw5c+jUqRM//OEPmTt3Lscffzy9e/duVB933XUXHTp04Nxzz02pfXFxMYMHD+bwww/H3enYsSMPPPAAhx9+OABPP/00P/nJT9ixYwdt27bl2GOP5bbbbmPOnDnce++9NeZOWrp0KV27dm1UvJlQZ4Jw96/ty0BERPbG3LlzGTp0aGyCqKysrPNbxzNmzGj0uvr378+rr74KwN13381NN93Egw8+yKpVq7jwwgv54x//yKBBg6isrKwxQ+vMmTP54Q9/2Oj1ZVpKVzGZ2VAzO93Mzq1+pLjcRDN728zWmlnsNVphv2vMbLWZPRIprzSzV8PHotTejojsr+Km+164cCFFRUWcddZZjBgxgp07d5KXl8esWbMYOXIkjz76aJ3TeEdvOjR+/HhmzZrFmDFjGDhwYEpfRtu6dSvdunUD4Gc/+xk//vGPE9/Azs7OTkzw15KlchXTNcB44AjgKeAbBN+DeKiB5bKBO4HjgBLgFTNb5O5rIm0GAFcAR7n7JjOLXj67091HNOrdiEja/fTln/LW5281aZ+Dug9i1pi6L46sa7rvU089lTvuuINbb72VwsI9XwY+8MADWbkyOE26cePG2Gm8k1VUVPDyyy/z1FNPce211/Lss8/WavPee+8xYsQItm3bxo4dO3jppZeAYCbYyy67rM74f/GLX/Dwww8D0K1bN5YsWZLCVsm8VL5JfSpQAPzD3c83s17AwyksNwZY6+7rAMxsPvAtYE2kzTTgTnffBODunzYmeBFpHaLTfQM1pvuOE53DaNWqVVx11VVs3ryZ0tJSTjjhhNhlJk+eDMCoUaMoLi6ObRM9xLRgwQKmhttps://epynn.net/70pwbjb6mHmFJJELvcvcrMKsysC/Ap0DeF5Q4BoveRKAHGJrUZCGBmfweygTnuXr2125lZEVAB3OzujyevwMymA9MBDj300BRCEpEvqr5P+s1FdJK8VKfxbtu2LRAcHkrltqCTJk1KTJw3ZMgQVqxYQUFBwRcPvhmp8xyEmd1pZl8BXjazrsC9wApgJbCsidbfhuCb2eOBM4F7w3UB9AsnkPoO8Esz65+8sLvf4+6F7l64L+6uJCKZUd903507d2bbtm11LlvXNN5f1AsvvED//sFu6fLLL+emm27inXfeAYJ7Qdx1111Ntq5MqW8E8Q5wC9Ab2A78juB8Qhd3fz2Fvj+k5kijT1gWVQK85O7lwHoze4cgYbzi7h8CuPs6M1sKHAm8l8J6RWQ/E53u+6CDDqoxfffUqVOZMWMG7du3Z9my2p9dq6fx7tmzJ2PHjq03mTSk+hyEu5Obm8t9990HwPDhw/nlL3/JmWeeyY4dOzAzTjzxxMRy0XMQAI8//jh5eXl7Hce+ksp03/2AM8JHe4JE8Yi7v9vAcm0IkswEgsTwCvAdd18daTMRONPdzzOzHsA/CG5IVAXscPfdYfky4FvRE9zJNN23SPpouu/9Q2On+07lhkHvu/tP3f1IgsNA3wYavITB3SuAC4FnCG5R+v/cfbWZXWdm1WeYngE2mtkaYAlweXgzosFAkZm9FpbfXF9yEBGRppfKZa5tCC5tPYNgNLAUmJNK5+7+FMGlsdGyqyPPHbg0fETbvAgMS2UdIiKSHvXNxXQcwYjhP4CXgfnAdHffvo9iExGRDKpvBHEF8AhwWfX3FEREpPWoby4mTcYnItKK7c0d5UREpBVQghCRFic60V5jTZ06lYULF8aW5+fnM2LECAYNGsS1116bqCstLehttps://epynn.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://epynn.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\n",
      "text/plain": [
       "<Figure size 432x288 with 1 Axes>"
      ]
     },
     "metadata": {
      "needs_background": "light"
     },
     "output_type": "display_data"
    }
   ],
   "source": [
    "model.plot(path=False)"
   ]
  },
  {
   "cell_type": "markdown",
   "metadata": {
    "tags": []
   },
   "source": [
    "Overall, and using this dummy dataset made of string features, there is no significant metrcis/cost difference from the simple Perceptron to recurrent RNN, GRU and LSTM. In this situation, one would favor the simple Perceptron because it computes faster. At least, it is important to note that the best architecture is not the fanciest, but simply the one that suits your needs and resources."
   ]
  },
  {
   "cell_type": "markdown",
   "metadata": {
    "tags": []
   },
   "source": [
    "For code, maths and pictures behind the *GRU* layer, follow this link:\n",
    "\n",
    "* [Gated Recurrent Unit (GRU)](https://epynn.net/GRU.html)"
   ]
  },
  {
   "cell_type": "markdown",
   "metadata": {},
   "source": [
    "## Write, read & Predict"
   ]
  },
  {
   "cell_type": "markdown",
   "metadata": {},
   "source": [
    "A trained model can be written on disk such as:"
   ]
  },
  {
   "cell_type": "code",
   "execution_count": 29,
   "metadata": {},
   "outputs": [
    {
     "name": "stdout",
     "output_type": "stream",
     "text": [
      "\u001b[1m\u001b[32mMake: /media/synthase/beta/EpyNN/nnlive/dummy_string/models/1631698467_GRU-1_Dense-2-softmax.pickle\u001b[0m\n"
     ]
    }
   ],
   "source": [
    "model.write()\n",
    "\n",
    "# model.write(path=/your/custom/path)"
   ]
  },
  {
   "cell_type": "markdown",
   "metadata": {},
   "source": [
    "A model can be read from disk such as:"
   ]
  },
  {
   "cell_type": "code",
   "execution_count": 30,
   "metadata": {},
   "outputs": [],
   "source": [
    "model = read_model()\n",
    "\n",
    "# model = read_model(path=/your/custom/path)"
   ]
  },
  {
   "cell_type": "markdown",
   "metadata": {},
   "source": [
    "We can retrieve new features and predict on them."
   ]
  },
  {
   "cell_type": "code",
   "execution_count": 31,
   "metadata": {},
   "outputs": [],
   "source": [
    "X_features, _ = prepare_dataset(N_SAMPLES=10)\n",
    "\n",
    "dset = model.predict(X_features, X_encode=True)"
   ]
  },
  {
   "cell_type": "markdown",
   "metadata": {},
   "source": [
    "Results can be extracted such as:"
   ]
  },
  {
   "cell_type": "code",
   "execution_count": 32,
   "metadata": {},
   "outputs": [
    {
     "name": "stdout",
     "output_type": "stream",
     "text": [
      "0 0 [0.75278242 0.24721758]\n",
      "1 0 [0.73513511 0.26486489]\n",
      "2 0 [0.73912875 0.26087125]\n",
      "3 0 [0.7353358 0.2646642]\n",
      "4 0 [0.73412882 0.26587118]\n",
      "5 0 [0.74691258 0.25308742]\n",
      "6 0 [0.73011278 0.26988722]\n",
      "7 0 [0.73147555 0.26852445]\n",
      "8 0 [0.73852927 0.26147073]\n",
      "9 0 [0.73678448 0.26321552]\n"
     ]
    }
   ],
   "source": [
    "for n, pred, probs in zip(dset.ids, dset.P, dset.A):\n",
    "    print(n, pred, probs)"
   ]
  }
 ],
 "metadata": {
  "kernelspec": {
   "display_name": "Python 3",
   "language": "python",
   "name": "python3"
  },
  "language_info": {
   "codemirror_mode": {
    "name": "ipython",
    "version": 3
   },
   "file_extension": ".py",
   "mimetype": "text/x-python",
   "name": "python",
   "nbconvert_exporter": "python",
   "pygments_lexer": "ipython3",
   "version": "3.7.3"
  }
 },
 "nbformat": 4,
 "nbformat_minor": 4
}
