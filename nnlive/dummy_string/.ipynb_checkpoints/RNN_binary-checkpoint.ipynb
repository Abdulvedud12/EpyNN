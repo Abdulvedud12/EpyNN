{
 "cells": [
  {
   "cell_type": "markdown",
   "metadata": {},
   "source": [
    "# Many-to-one RNN on dummy string data"
   ]
  },
  {
   "cell_type": "markdown",
   "metadata": {},
   "source": [
    "Proceed to full imports."
   ]
  },
  {
   "cell_type": "code",
   "execution_count": 1,
   "metadata": {},
   "outputs": [],
   "source": [
    "# EpyNN/nnlive/dummy_string/RNN_binary.ipynb\n",
    "# Standard library imports\n",
    "import random\n",
    "import sys\n",
    "\n",
    "# Related third party imports\n",
    "import numpy as np\n",
    "\n",
    "# Local application/library specific imports\n",
    "import nnlibs.initialize\n",
    "from nnlibs.commons.io import one_hot_decode_sequence\n",
    "from nnlibs.commons.logs import pretty_json\n",
    "from nnlibs.commons.library import (\n",
    "    configure_directory,\n",
    "    read_dataset,\n",
    "    read_model,\n",
    ")\n",
    "from nnlibs.commons.maths import relu\n",
    "from nnlibs.meta.models import EpyNN\n",
    "from nnlibs.embedding.models import Embedding\n",
    "from nnlibs.rnn.models import RNN\n",
    "# from nnlibs.lstm.models import LSTM\n",
    "# from nnlibs.gru.models import GRU\n",
    "from nnlibs.flatten.models import Flatten\n",
    "from nnlibs.dense.models import Dense\n",
    "from prepare_dataset import (\n",
    "    labeled_dataset,\n",
    "    unlabeled_dataset,\n",
    ")\n",
    "from settings import (\n",
    "    dataset as se_dataset,\n",
    "    config as se_config,\n",
    "    hPars as se_hPars,\n",
    ")"
   ]
  },
  {
   "cell_type": "markdown",
   "metadata": {},
   "source": [
    "Let's concatenate our settings in a settings list for conveniency."
   ]
  },
  {
   "cell_type": "code",
   "execution_count": 2,
   "metadata": {},
   "outputs": [],
   "source": [
    "settings = [se_dataset, se_config, se_hPars]"
   ]
  },
  {
   "cell_type": "markdown",
   "metadata": {},
   "source": [
    "Check the `se_config` settings dictionnary."
   ]
  },
  {
   "cell_type": "code",
   "execution_count": 3,
   "metadata": {},
   "outputs": [
    {
     "name": "stdout",
     "output_type": "stream",
     "text": [
      "{\n",
      "    \u001b[94m\"experiment_name\"\u001b[39;49;00m: \u001b[33m\"DUMMY_STRINGS\"\u001b[39;49;00m,\n",
      "    \u001b[94m\"logs_frequency\"\u001b[39;49;00m: \u001b[34m1\u001b[39;49;00m,\n",
      "    \u001b[94m\"logs_frequency_display\"\u001b[39;49;00m: \u001b[34m25\u001b[39;49;00m,\n",
      "    \u001b[94m\"model_save\"\u001b[39;49;00m: \u001b[34mtrue\u001b[39;49;00m,\n",
      "    \u001b[94m\"plot_display\"\u001b[39;49;00m: \u001b[34mtrue\u001b[39;49;00m,\n",
      "    \u001b[94m\"plot_save\"\u001b[39;49;00m: \u001b[34mfalse\u001b[39;49;00m,\n",
      "    \u001b[94m\"directory_clear\"\u001b[39;49;00m: \u001b[34mtrue\u001b[39;49;00m,\n",
      "    \u001b[94m\"dataset_target\"\u001b[39;49;00m: \u001b[34m1\u001b[39;49;00m,\n",
      "    \u001b[94m\"metrics_target\"\u001b[39;49;00m: \u001b[33m\"accuracy\"\u001b[39;49;00m,\n",
      "    \u001b[94m\"metrics_list\"\u001b[39;49;00m: [\n",
      "        \u001b[33m\"accuracy\"\u001b[39;49;00m,\n",
      "        \u001b[33m\"recall\"\u001b[39;49;00m,\n",
      "        \u001b[33m\"precision\"\u001b[39;49;00m,\n",
      "        \u001b[33m\"BCE\"\u001b[39;49;00m,\n",
      "        \u001b[33m\"MSE\"\u001b[39;49;00m\n",
      "    ],\n",
      "    \u001b[94m\"metrics_plot\"\u001b[39;49;00m: [\n",
      "        \u001b[33m\"accuracy\"\u001b[39;49;00m,\n",
      "        \u001b[33m\"BCE\"\u001b[39;49;00m\n",
      "    ]\n",
      "}\n",
      "\n"
     ]
    }
   ],
   "source": [
    "print(pretty_json(se_config))"
   ]
  },
  {
   "cell_type": "markdown",
   "metadata": {},
   "source": [
    "Proceed with local configuration."
   ]
  },
  {
   "cell_type": "code",
   "execution_count": 4,
   "metadata": {},
   "outputs": [
    {
     "name": "stdout",
     "output_type": "stream",
     "text": [
      "\u001b[1m\u001b[31mRemove: /media/synthase/beta/EpyNN/nnlive/dummy_string/datasets\u001b[0m\n",
      "\u001b[1m\u001b[31mRemove: /media/synthase/beta/EpyNN/nnlive/dummy_string/models\u001b[0m\n",
      "\u001b[1m\u001b[32mMake: /media/synthase/beta/EpyNN/nnlive/dummy_string/datasets\u001b[0m\n",
      "\u001b[1m\u001b[32mMake: /media/synthase/beta/EpyNN/nnlive/dummy_string/models\u001b[0m\n"
     ]
    }
   ],
   "source": [
    "random.seed(1)    # For reproducibility in dummy data generation\n",
    "\n",
    "np.set_printoptions(precision=3,threshold=sys.maxsize)    # To not truncate numpy arrays on print\n",
    "\n",
    "np.seterr(all='warn')    # Show warning upon numpy floating-point errors\n",
    "\n",
    "configure_directory(se_config=se_config)    # Configure working directory according to se_config"
   ]
  },
  {
   "cell_type": "markdown",
   "metadata": {},
   "source": [
    "Check the `se_dataset` settings dictionnary."
   ]
  },
  {
   "cell_type": "code",
   "execution_count": 5,
   "metadata": {},
   "outputs": [
    {
     "name": "stdout",
     "output_type": "stream",
     "text": [
      "{\n",
      "    \u001b[94m\"N_SAMPLES\"\u001b[39;49;00m: \u001b[34m1000\u001b[39;49;00m,\n",
      "    \u001b[94m\"dataset_name\"\u001b[39;49;00m: \u001b[33m\"dummy_strings\"\u001b[39;49;00m,\n",
      "    \u001b[94m\"dataset_save\"\u001b[39;49;00m: \u001b[34mtrue\u001b[39;49;00m,\n",
      "    \u001b[94m\"dtrain_relative\"\u001b[39;49;00m: \u001b[34m2\u001b[39;49;00m,\n",
      "    \u001b[94m\"dtest_relative\"\u001b[39;49;00m: \u001b[34m1\u001b[39;49;00m,\n",
      "    \u001b[94m\"dval_relative\"\u001b[39;49;00m: \u001b[34m1\u001b[39;49;00m,\n",
      "    \u001b[94m\"batch_number\"\u001b[39;49;00m: \u001b[34m5\u001b[39;49;00m\n",
      "}\n",
      "\n"
     ]
    }
   ],
   "source": [
    "print(pretty_json(se_dataset))"
   ]
  },
  {
   "cell_type": "markdown",
   "metadata": {},
   "source": [
    "Prepare a dummy dataset containing samples composed of string features and one-hot encoded label."
   ]
  },
  {
   "cell_type": "code",
   "execution_count": 6,
   "metadata": {},
   "outputs": [],
   "source": [
    "dataset = labeled_dataset(se_dataset)\n",
    "# dataset = read_dataset(dataset_path=None)    # Read last generated dataset "
   ]
  },
  {
   "cell_type": "markdown",
   "metadata": {},
   "source": [
    "Let's have a look at it."
   ]
  },
  {
   "cell_type": "code",
   "execution_count": 7,
   "metadata": {
    "tags": []
   },
   "outputs": [
    {
     "name": "stdout",
     "output_type": "stream",
     "text": [
      "<class 'list'>\n",
      "1000\n",
      "<class 'list'>\n",
      "2\n",
      "['T', 'G', 'T', 'T', 'T', 'C', 'T', 'T', 'T', 'A', 'G', 'T']\n",
      "[0, 1]\n"
     ]
    }
   ],
   "source": [
    "print(type(dataset))     # Type of object for dataset\n",
    "print(len(dataset))      # Number of samples it contains\n",
    "\n",
    "sample_0 = dataset[0]    # Take first sample at index 0\n",
    "print(type(sample_0))    # Type of object for sample_0\n",
    "print(len(sample_0))     # Number of elements in sample_0\n",
    "\n",
    "features_0 = sample_0[0]\n",
    "label_0 = sample_0[1]\n",
    "print(features_0)        # Sample_0 features\n",
    "print(label_0)           # Sample_0 label"
   ]
  },
  {
   "cell_type": "markdown",
   "metadata": {},
   "source": [
    "Proceed with dataset embedding by calling the class constructor `Embedding()` which returns a layer object."
   ]
  },
  {
   "cell_type": "code",
   "execution_count": 8,
   "metadata": {},
   "outputs": [
    {
     "name": "stdout",
     "output_type": "stream",
     "text": [
      "(500, 4, 12)\n"
     ]
    }
   ],
   "source": [
    "embedding = Embedding(dataset, se_dataset, encode=True)\n",
    "print(embedding.dtrain.X.shape)"
   ]
  },
  {
   "cell_type": "markdown",
   "metadata": {},
   "source": [
    "Embedded X data have 3D shape upon one-hot encoding. Dimensions are such as (n_samples, vocab_size, sequence_length)."
   ]
  },
  {
   "cell_type": "markdown",
   "metadata": {},
   "source": [
    "Let's get into the details of the one-hot encoding operation."
   ]
  },
  {
   "cell_type": "code",
   "execution_count": 9,
   "metadata": {},
   "outputs": [
    {
     "name": "stdout",
     "output_type": "stream",
     "text": [
      "['T', 'G', 'T', 'T', 'T', 'C', 'T', 'T', 'T', 'A', 'G', 'T']\n",
      "{'A': 0, 'C': 1, 'G': 2, 'T': 3}\n",
      "[[0. 0. 0. 0. 0. 0. 0. 0. 0. 1. 0. 0.]\n",
      " [0. 0. 0. 0. 0. 1. 0. 0. 0. 0. 0. 0.]\n",
      " [0. 1. 0. 0. 0. 0. 0. 0. 0. 0. 1. 0.]\n",
      " [1. 0. 1. 1. 1. 0. 1. 1. 1. 0. 0. 1.]]\n",
      "{0: 'A', 1: 'C', 2: 'G', 3: 'T'}\n",
      "['T', 'G', 'T', 'T', 'T', 'C', 'T', 'T', 'T', 'A', 'G', 'T']\n"
     ]
    }
   ],
   "source": [
    "encoded_features_0 = embedding.dtrain.X[0]  # One-hot encoded features for sample_0\n",
    "decoded_features_0 = one_hot_decode_sequence(encoded_features_0.T, embedding.i2w)\n",
    "\n",
    "print(features_0)           # Features for sample_0 before one-hot encoding\n",
    "print(embedding.w2i)        # word_to_index dictionary for one-hot encoding\n",
    "print(encoded_features_0)   # Features for sample_0 after one-hot encoding\n",
    "print(embedding.i2w)        # index_to_word dictionary for one-hot decoding\n",
    "print(decoded_features_0)   # Features for sample_0 after one-hot decoding"
   ]
  },
  {
   "cell_type": "markdown",
   "metadata": {},
   "source": [
    "One-hot encoding is performed here because strings or characters are not a convenient material for a computer. Each individual character (or word) is assigned to an index and is further translated into a 1D zeros array of shape (vocab_size) which takes the value 1 at the index assigned to the character (or word). "
   ]
  },
  {
   "cell_type": "markdown",
   "metadata": {},
   "source": [
    "Now we have an embedding layer, also referred to as input layer."
   ]
  },
  {
   "cell_type": "markdown",
   "metadata": {},
   "source": [
    "We will next instantiate a *many-to-one* type of RNN layer."
   ]
  },
  {
   "cell_type": "code",
   "execution_count": 10,
   "metadata": {},
   "outputs": [],
   "source": [
    "bin_rnn = RNN(12, binary=True)\n",
    "\n",
    "name = 'Embedding_RNN-12-Binary' # The name of the model\n",
    "\n",
    "layers = [embedding, bin_rnn]    # The architecture of the model\n",
    "\n",
    "bin_rnnNet = EpyNN(layers=layers, settings=settings, seed=1, name=name)    # The model for a many-to-one network"
   ]
  },
  {
   "cell_type": "markdown",
   "metadata": {},
   "source": [
    "Let's now proceed with this *many-to-one* model and start the training protocol.  "
   ]
  },
  {
   "cell_type": "code",
   "execution_count": 11,
   "metadata": {},
   "outputs": [
    {
     "name": "stdout",
     "output_type": "stream",
     "text": [
      "\u001b[1m----------------------- Embedding_RNN-12-Binary -------------------------\n",
      "\u001b[0m\n",
      "\n",
      "\u001b[1m-------------------------------- Datasets ------------------------------------\n",
      "\u001b[0m\n",
      "+-----------+--------+-------+------+--------+----------+---------+----------+\n",
      "| N_SAMPLES | dtrain | dtest | dval | batch  | dtrain/b | dataset | metrics  |\n",
      "|           | (0)    | (1)   | (2)  | number |          | target  | target   |\n",
      "|           |        |       |      | (b)    |          |         |          |\n",
      "+-----------+--------+-------+------+--------+----------+---------+----------+\n",
      "| 1000      | 500    | 250   | 250  | 5      | 100      | 1       | accuracy |\n",
      "+-----------+--------+-------+------+--------+----------+---------+----------+\n",
      "\n",
      "+----------+--------+--------+--------+\n",
      "| N_LABELS | dtrain | dtest  | dval   |\n",
      "|          | (0)    | (1)    | (2)    |\n",
      "+----------+--------+--------+--------+\n",
      "| 2        | 0: 240 | 0: 115 | 0: 109 |\n",
      "|          | 1: 260 | 1: 135 | 1: 141 |\n",
      "+----------+--------+--------+--------+\n",
      "\n",
      "\u001b[1m----------------------- Model Architecture -------------------------\n",
      "\u001b[0m\n",
      "+----+-----------+------------+-----------------------+------------------+--------------------+\n",
      "| ID | Layer     | Dimensions | Activation            | FW_Shapes        | BW_Shapes          |\n",
      "+----+-----------+------------+-----------------------+------------------+--------------------+\n",
      "| 0  | Embedding | v: 4       |                       | X: (100, 4, 12)  | dX: (12, 4, 100)   |\n",
      "|    |           | m: 100     |                       | A: (12, 4, 100)  | dA: (12, 4, 100)   |\n",
      "|    |           | n: 4       |                       |                  |                    |\n",
      "+----+-----------+------------+-----------------------+------------------+--------------------+\n",
      "| 1  | RNN       | h: 12      | activate: sigmoid     | Wx: (12, 4)      | dX: (2, 100)       |\n",
      "|    |           | s: 12      | activate_hidden: tanh | Wh: (12, 12)     | dh: (12, 12, 100)  |\n",
      "|    |           | v: 4       |                       | bh: (12, 1)      | dhn: (12, 12, 100) |\n",
      "|    |           | m: 100     |                       | W: (2, 12)       | dA: (12, 4, 100)   |\n",
      "|    |           | l: 12      |                       | b: (2, 1)        |                    |\n",
      "|    |           | o: 2       |                       | X: (12, 4, 100)  |                    |\n",
      "|    |           |            |                       | h: (12, 12, 100) |                    |\n",
      "|    |           |            |                       | A: (2, 100)      |                    |\n",
      "+----+-----------+------------+-----------------------+------------------+--------------------+\n",
      "\n",
      "\u001b[1m------------------------------------------- Layers ---------------------------------------------\n",
      "\u001b[0m\n",
      "+-----------+----------+-----------+---------+-----+-------+---------+-------+-------+--------+\n",
      "| Layer     | training | schedule  | cycling | e/n | decay | descent | start | end   | end    |\n",
      "|           | epochs   | mode      | (n)     |     | (k)   | (d)     |       |       | (%)    |\n",
      "|           | (e)      |           |         |     |       |         |       |       |        |\n",
      "+-----------+----------+-----------+---------+-----+-------+---------+-------+-------+--------+\n",
      "| Embedding | 100      | exp_decay | 1       | 100 | 0.003 | 1       | 0.100 | 0.078 | 78.075 |\n",
      "+-----------+----------+-----------+---------+-----+-------+---------+-------+-------+--------+\n",
      "| RNN       | 100      | exp_decay | 1       | 100 | 0.003 | 1       | 0.100 | 0.078 | 78.075 |\n",
      "+-----------+----------+-----------+---------+-----+-------+---------+-------+-------+--------+\n",
      "\n",
      "+-----------+-------+-------+-------------+---------+------+------+\n",
      "| Layer     | LRELU | ELU   | softmax     | min.    | reg. | reg. |\n",
      "|           | alpha | alpha | temperature | epsilon | l1   | l2   |\n",
      "+-----------+-------+-------+-------------+---------+------+------+\n",
      "| Embedding | 1     | 0.010 | 1           | 0.000   | 0    | 0    |\n",
      "+-----------+-------+-------+-------------+---------+------+------+\n",
      "| RNN       | 1     | 0.010 | 1           | 0.000   | 0    | 0    |\n",
      "+-----------+-------+-------+-------------+---------+------+------+\n",
      "\n",
      "\u001b[1m----------------------- Embedding_RNN-12-Binary -------------------------\n",
      "\u001b[0m\n",
      "\n"
     ]
    }
   ],
   "source": [
    "bin_rnnNet.train(init=True, run=False)    # We will initialize the model first to print the logs"
   ]
  },
  {
   "cell_type": "markdown",
   "metadata": {},
   "source": [
    "Prior to start the training, we will adapt some settings to print logs in a conveniant way for this notebook."
   ]
  },
  {
   "cell_type": "code",
   "execution_count": 12,
   "metadata": {},
   "outputs": [],
   "source": [
    "se_config['logs_frequency'] = 5            # Will store logs 1 every 50 epochs\n",
    "se_config['logs_frequency_display'] = 20   # Will display logs every 50*20 = 1000 epochs"
   ]
  },
  {
   "cell_type": "markdown",
   "metadata": {},
   "source": [
    "Start the training of our *many-to-one* RNN network."
   ]
  },
  {
   "cell_type": "code",
   "execution_count": 13,
   "metadata": {},
   "outputs": [
    {
     "name": "stdout",
     "output_type": "stream",
     "text": [
      "+-------+----------+----------+-------+-------+----------+-------+-------+--------+-------+-------+-----------+-------+-------+-------+-------+-------+-------+------------------------------------+\n",
      "| \u001b[1m\u001b[37mepoch\u001b[0m |          |    \u001b[1m\u001b[37mlr\u001b[0m    |       |       | \u001b[1m\u001b[32maccuracy\u001b[0m |       |       | \u001b[1m\u001b[31mrecall\u001b[0m |       |       | \u001b[1m\u001b[35mprecision\u001b[0m |       |       |  \u001b[1m\u001b[36mBCE\u001b[0m  |       |       |  \u001b[1m\u001b[33mMSE\u001b[0m  |                                    |\n",
      "|       |   \u001b[1m\u001b[37m(0)\u001b[0m    |   \u001b[1m\u001b[37m(1)\u001b[0m    |  \u001b[1m\u001b[37m(2)\u001b[0m  |  \u001b[1m\u001b[32m(0)\u001b[0m  |   \u001b[1m\u001b[32m(1)\u001b[0m    |  \u001b[1m\u001b[32m(2)\u001b[0m  |  \u001b[1m\u001b[31m(0)\u001b[0m  |  \u001b[1m\u001b[31m(1)\u001b[0m   |  \u001b[1m\u001b[31m(2)\u001b[0m  |  \u001b[1m\u001b[35m(0)\u001b[0m  |    \u001b[1m\u001b[35m(1)\u001b[0m    |  \u001b[1m\u001b[35m(2)\u001b[0m  |  \u001b[1m\u001b[36m(0)\u001b[0m  |  \u001b[1m\u001b[36m(1)\u001b[0m  |  \u001b[1m\u001b[36m(2)\u001b[0m  |  \u001b[1m\u001b[33m(0)\u001b[0m  |  \u001b[1m\u001b[33m(1)\u001b[0m  |                \u001b[1m\u001b[33m(2)\u001b[0m                 |\n",
      "+-------+----------+----------+-------+-------+----------+-------+-------+--------+-------+-------+-----------+-------+-------+-------+-------+-------+-------+------------------------------------+\n",
      "|   \u001b[1m\u001b[37m4\u001b[0m   | \u001b[1m\u001b[37m9.90e-02\u001b[0m | \u001b[1m\u001b[37m9.90e-02\u001b[0m | \u001b[1m\u001b[32m0.608\u001b[0m | \u001b[1m\u001b[32m0.628\u001b[0m |  \u001b[1m\u001b[32m0.616\u001b[0m   | \u001b[1m\u001b[31m0.608\u001b[0m | \u001b[1m\u001b[31m0.722\u001b[0m | \u001b[1m\u001b[31m0.633\u001b[0m  | \u001b[1m\u001b[35m0.589\u001b[0m | \u001b[1m\u001b[35m0.576\u001b[0m |   \u001b[1m\u001b[35m0.552\u001b[0m   | \u001b[1m\u001b[36m0.674\u001b[0m | \u001b[1m\u001b[36m0.663\u001b[0m | \u001b[1m\u001b[36m0.655\u001b[0m | \u001b[1m\u001b[33m0.240\u001b[0m | \u001b[1m\u001b[33m0.235\u001b[0m | \u001b[1m\u001b[33m0.232\u001b[0m | \u001b[37m1627596534_Embedding_RNN-12-Binary\u001b[0m |\n",
      "|   \u001b[1m\u001b[37m9\u001b[0m   | \u001b[1m\u001b[37m9.78e-02\u001b[0m | \u001b[1m\u001b[37m9.78e-02\u001b[0m | \u001b[1m\u001b[32m0.750\u001b[0m | \u001b[1m\u001b[32m0.748\u001b[0m |  \u001b[1m\u001b[32m0.732\u001b[0m   | \u001b[1m\u001b[31m0.779\u001b[0m | \u001b[1m\u001b[31m0.783\u001b[0m | \u001b[1m\u001b[31m0.761\u001b[0m  | \u001b[1m\u001b[35m0.722\u001b[0m | \u001b[1m\u001b[35m0.703\u001b[0m |   \u001b[1m\u001b[35m0.669\u001b[0m   | \u001b[1m\u001b[36m0.569\u001b[0m | \u001b[1m\u001b[36m0.548\u001b[0m | \u001b[1m\u001b[36m0.555\u001b[0m | \u001b[1m\u001b[33m0.192\u001b[0m | \u001b[1m\u001b[33m0.183\u001b[0m | \u001b[1m\u001b[33m0.187\u001b[0m | \u001b[37m1627596534_Embedding_RNN-12-Binary\u001b[0m |\n",
      "|  \u001b[1m\u001b[37m14\u001b[0m   | \u001b[1m\u001b[37m9.66e-02\u001b[0m | \u001b[1m\u001b[37m9.66e-02\u001b[0m | \u001b[1m\u001b[32m0.900\u001b[0m | \u001b[1m\u001b[32m0.904\u001b[0m |  \u001b[1m\u001b[32m0.888\u001b[0m   | \u001b[1m\u001b[31m0.908\u001b[0m | \u001b[1m\u001b[31m0.870\u001b[0m | \u001b[1m\u001b[31m0.872\u001b[0m  | \u001b[1m\u001b[35m0.886\u001b[0m | \u001b[1m\u001b[35m0.917\u001b[0m |   \u001b[1m\u001b[35m0.872\u001b[0m   | \u001b[1m\u001b[36m0.348\u001b[0m | \u001b[1m\u001b[36m0.331\u001b[0m | \u001b[1m\u001b[36m0.344\u001b[0m | \u001b[1m\u001b[33m0.099\u001b[0m | \u001b[1m\u001b[33m0.093\u001b[0m | \u001b[1m\u001b[33m0.099\u001b[0m | \u001b[37m1627596534_Embedding_RNN-12-Binary\u001b[0m |\n",
      "|  \u001b[1m\u001b[37m19\u001b[0m   | \u001b[1m\u001b[37m9.54e-02\u001b[0m | \u001b[1m\u001b[37m9.54e-02\u001b[0m | \u001b[1m\u001b[32m0.892\u001b[0m | \u001b[1m\u001b[32m0.900\u001b[0m |  \u001b[1m\u001b[32m0.896\u001b[0m   | \u001b[1m\u001b[31m0.875\u001b[0m | \u001b[1m\u001b[31m0.870\u001b[0m | \u001b[1m\u001b[31m0.862\u001b[0m  | \u001b[1m\u001b[35m0.897\u001b[0m | \u001b[1m\u001b[35m0.909\u001b[0m |   \u001b[1m\u001b[35m0.895\u001b[0m   | \u001b[1m\u001b[36m0.275\u001b[0m | \u001b[1m\u001b[36m0.266\u001b[0m | \u001b[1m\u001b[36m0.255\u001b[0m | \u001b[1m\u001b[33m0.079\u001b[0m | \u001b[1m\u001b[33m0.076\u001b[0m | \u001b[1m\u001b[33m0.071\u001b[0m | \u001b[37m1627596534_Embedding_RNN-12-Binary\u001b[0m |\n",
      "|  \u001b[1m\u001b[37m24\u001b[0m   | \u001b[1m\u001b[37m9.42e-02\u001b[0m | \u001b[1m\u001b[37m9.42e-02\u001b[0m | \u001b[1m\u001b[32m0.904\u001b[0m | \u001b[1m\u001b[32m0.912\u001b[0m |  \u001b[1m\u001b[32m0.904\u001b[0m   | \u001b[1m\u001b[31m0.896\u001b[0m | \u001b[1m\u001b[31m0.887\u001b[0m | \u001b[1m\u001b[31m0.881\u001b[0m  | \u001b[1m\u001b[35m0.903\u001b[0m | \u001b[1m\u001b[35m0.919\u001b[0m |   \u001b[1m\u001b[35m0.897\u001b[0m   | \u001b[1m\u001b[36m0.234\u001b[0m | \u001b[1m\u001b[36m0.225\u001b[0m | \u001b[1m\u001b[36m0.232\u001b[0m | \u001b[1m\u001b[33m0.068\u001b[0m | \u001b[1m\u001b[33m0.063\u001b[0m | \u001b[1m\u001b[33m0.066\u001b[0m | \u001b[37m1627596534_Embedding_RNN-12-Binary\u001b[0m |\n",
      "|  \u001b[1m\u001b[37m29\u001b[0m   | \u001b[1m\u001b[37m9.30e-02\u001b[0m | \u001b[1m\u001b[37m9.30e-02\u001b[0m | \u001b[1m\u001b[32m0.928\u001b[0m | \u001b[1m\u001b[32m0.932\u001b[0m |  \u001b[1m\u001b[32m0.924\u001b[0m   | \u001b[1m\u001b[31m0.917\u001b[0m | \u001b[1m\u001b[31m0.904\u001b[0m | \u001b[1m\u001b[31m0.890\u001b[0m  | \u001b[1m\u001b[35m0.932\u001b[0m | \u001b[1m\u001b[35m0.945\u001b[0m |   \u001b[1m\u001b[35m0.933\u001b[0m   | \u001b[1m\u001b[36m0.186\u001b[0m | \u001b[1m\u001b[36m0.185\u001b[0m | \u001b[1m\u001b[36m0.192\u001b[0m | \u001b[1m\u001b[33m0.051\u001b[0m | \u001b[1m\u001b[33m0.051\u001b[0m | \u001b[1m\u001b[33m0.054\u001b[0m | \u001b[37m1627596534_Embedding_RNN-12-Binary\u001b[0m |\n",
      "|  \u001b[1m\u001b[37m34\u001b[0m   | \u001b[1m\u001b[37m9.19e-02\u001b[0m | \u001b[1m\u001b[37m9.19e-02\u001b[0m | \u001b[1m\u001b[32m0.952\u001b[0m | \u001b[1m\u001b[32m0.948\u001b[0m |  \u001b[1m\u001b[32m0.948\u001b[0m   | \u001b[1m\u001b[31m0.942\u001b[0m | \u001b[1m\u001b[31m0.939\u001b[0m | \u001b[1m\u001b[31m0.936\u001b[0m  | \u001b[1m\u001b[35m0.958\u001b[0m | \u001b[1m\u001b[35m0.947\u001b[0m |   \u001b[1m\u001b[35m0.944\u001b[0m   | \u001b[1m\u001b[36m0.144\u001b[0m | \u001b[1m\u001b[36m0.150\u001b[0m | \u001b[1m\u001b[36m0.154\u001b[0m | \u001b[1m\u001b[33m0.038\u001b[0m | \u001b[1m\u001b[33m0.040\u001b[0m | \u001b[1m\u001b[33m0.042\u001b[0m | \u001b[37m1627596534_Embedding_RNN-12-Binary\u001b[0m |\n",
      "|  \u001b[1m\u001b[37m39\u001b[0m   | \u001b[1m\u001b[37m9.07e-02\u001b[0m | \u001b[1m\u001b[37m9.07e-02\u001b[0m | \u001b[1m\u001b[32m0.964\u001b[0m | \u001b[1m\u001b[32m0.948\u001b[0m |  \u001b[1m\u001b[32m0.960\u001b[0m   | \u001b[1m\u001b[31m0.958\u001b[0m | \u001b[1m\u001b[31m0.939\u001b[0m | \u001b[1m\u001b[31m0.945\u001b[0m  | \u001b[1m\u001b[35m0.966\u001b[0m | \u001b[1m\u001b[35m0.947\u001b[0m |   \u001b[1m\u001b[35m0.963\u001b[0m   | \u001b[1m\u001b[36m0.110\u001b[0m | \u001b[1m\u001b[36m0.124\u001b[0m | \u001b[1m\u001b[36m0.120\u001b[0m | \u001b[1m\u001b[33m0.028\u001b[0m | \u001b[1m\u001b[33m0.033\u001b[0m | \u001b[1m\u001b[33m0.033\u001b[0m | \u001b[37m1627596534_Embedding_RNN-12-Binary\u001b[0m |\n",
      "|  \u001b[1m\u001b[37m44\u001b[0m   | \u001b[1m\u001b[37m8.96e-02\u001b[0m | \u001b[1m\u001b[37m8.96e-02\u001b[0m | \u001b[1m\u001b[32m0.974\u001b[0m | \u001b[1m\u001b[32m0.960\u001b[0m |  \u001b[1m\u001b[32m0.968\u001b[0m   | \u001b[1m\u001b[31m0.967\u001b[0m | \u001b[1m\u001b[31m0.939\u001b[0m | \u001b[1m\u001b[31m0.963\u001b[0m  | \u001b[1m\u001b[35m0.979\u001b[0m | \u001b[1m\u001b[35m0.973\u001b[0m |   \u001b[1m\u001b[35m0.963\u001b[0m   | \u001b[1m\u001b[36m0.085\u001b[0m | \u001b[1m\u001b[36m0.108\u001b[0m | \u001b[1m\u001b[36m0.099\u001b[0m | \u001b[1m\u001b[33m0.021\u001b[0m | \u001b[1m\u001b[33m0.030\u001b[0m | \u001b[1m\u001b[33m0.027\u001b[0m | \u001b[37m1627596534_Embedding_RNN-12-Binary\u001b[0m |\n",
      "|  \u001b[1m\u001b[37m49\u001b[0m   | \u001b[1m\u001b[37m8.85e-02\u001b[0m | \u001b[1m\u001b[37m8.85e-02\u001b[0m | \u001b[1m\u001b[32m0.980\u001b[0m | \u001b[1m\u001b[32m0.956\u001b[0m |  \u001b[1m\u001b[32m0.972\u001b[0m   | \u001b[1m\u001b[31m0.975\u001b[0m | \u001b[1m\u001b[31m0.922\u001b[0m | \u001b[1m\u001b[31m0.963\u001b[0m  | \u001b[1m\u001b[35m0.983\u001b[0m | \u001b[1m\u001b[35m0.981\u001b[0m |   \u001b[1m\u001b[35m0.972\u001b[0m   | \u001b[1m\u001b[36m0.066\u001b[0m | \u001b[1m\u001b[36m0.095\u001b[0m | \u001b[1m\u001b[36m0.082\u001b[0m | \u001b[1m\u001b[33m0.016\u001b[0m | \u001b[1m\u001b[33m0.027\u001b[0m | \u001b[1m\u001b[33m0.021\u001b[0m | \u001b[37m1627596534_Embedding_RNN-12-Binary\u001b[0m |\n",
      "|  \u001b[1m\u001b[37m54\u001b[0m   | \u001b[1m\u001b[37m8.74e-02\u001b[0m | \u001b[1m\u001b[37m8.74e-02\u001b[0m | \u001b[1m\u001b[32m0.984\u001b[0m | \u001b[1m\u001b[32m0.964\u001b[0m |  \u001b[1m\u001b[32m0.988\u001b[0m   | \u001b[1m\u001b[31m0.975\u001b[0m | \u001b[1m\u001b[31m0.930\u001b[0m | \u001b[1m\u001b[31m0.972\u001b[0m  | \u001b[1m\u001b[35m0.992\u001b[0m | \u001b[1m\u001b[35m0.991\u001b[0m |   \u001b[1m\u001b[35m1.000\u001b[0m   | \u001b[1m\u001b[36m0.056\u001b[0m | \u001b[1m\u001b[36m0.082\u001b[0m | \u001b[1m\u001b[36m0.073\u001b[0m | \u001b[1m\u001b[33m0.013\u001b[0m | \u001b[1m\u001b[33m0.024\u001b[0m | \u001b[1m\u001b[33m0.017\u001b[0m | \u001b[37m1627596534_Embedding_RNN-12-Binary\u001b[0m |\n",
      "|  \u001b[1m\u001b[37m59\u001b[0m   | \u001b[1m\u001b[37m8.63e-02\u001b[0m | \u001b[1m\u001b[37m8.63e-02\u001b[0m | \u001b[1m\u001b[32m0.986\u001b[0m | \u001b[1m\u001b[32m0.968\u001b[0m |  \u001b[1m\u001b[32m0.988\u001b[0m   | \u001b[1m\u001b[31m0.979\u001b[0m | \u001b[1m\u001b[31m0.939\u001b[0m | \u001b[1m\u001b[31m0.972\u001b[0m  | \u001b[1m\u001b[35m0.992\u001b[0m | \u001b[1m\u001b[35m0.991\u001b[0m |   \u001b[1m\u001b[35m1.000\u001b[0m   | \u001b[1m\u001b[36m0.049\u001b[0m | \u001b[1m\u001b[36m0.077\u001b[0m | \u001b[1m\u001b[36m0.068\u001b[0m | \u001b[1m\u001b[33m0.011\u001b[0m | \u001b[1m\u001b[33m0.022\u001b[0m | \u001b[1m\u001b[33m0.015\u001b[0m | \u001b[37m1627596534_Embedding_RNN-12-Binary\u001b[0m |\n",
      "|  \u001b[1m\u001b[37m64\u001b[0m   | \u001b[1m\u001b[37m8.52e-02\u001b[0m | \u001b[1m\u001b[37m8.52e-02\u001b[0m | \u001b[1m\u001b[32m0.984\u001b[0m | \u001b[1m\u001b[32m0.968\u001b[0m |  \u001b[1m\u001b[32m0.980\u001b[0m   | \u001b[1m\u001b[31m0.979\u001b[0m | \u001b[1m\u001b[31m0.939\u001b[0m | \u001b[1m\u001b[31m0.972\u001b[0m  | \u001b[1m\u001b[35m0.987\u001b[0m | \u001b[1m\u001b[35m0.991\u001b[0m |   \u001b[1m\u001b[35m0.981\u001b[0m   | \u001b[1m\u001b[36m0.049\u001b[0m | \u001b[1m\u001b[36m0.078\u001b[0m | \u001b[1m\u001b[36m0.086\u001b[0m | \u001b[1m\u001b[33m0.012\u001b[0m | \u001b[1m\u001b[33m0.022\u001b[0m | \u001b[1m\u001b[33m0.021\u001b[0m | \u001b[37m1627596534_Embedding_RNN-12-Binary\u001b[0m |\n",
      "|  \u001b[1m\u001b[37m69\u001b[0m   | \u001b[1m\u001b[37m8.42e-02\u001b[0m | \u001b[1m\u001b[37m8.42e-02\u001b[0m | \u001b[1m\u001b[32m0.988\u001b[0m | \u001b[1m\u001b[32m0.972\u001b[0m |  \u001b[1m\u001b[32m0.980\u001b[0m   | \u001b[1m\u001b[31m0.983\u001b[0m | \u001b[1m\u001b[31m0.948\u001b[0m | \u001b[1m\u001b[31m0.972\u001b[0m  | \u001b[1m\u001b[35m0.992\u001b[0m | \u001b[1m\u001b[35m0.991\u001b[0m |   \u001b[1m\u001b[35m0.981\u001b[0m   | \u001b[1m\u001b[36m0.049\u001b[0m | \u001b[1m\u001b[36m0.074\u001b[0m | \u001b[1m\u001b[36m0.093\u001b[0m | \u001b[1m\u001b[33m0.012\u001b[0m | \u001b[1m\u001b[33m0.021\u001b[0m | \u001b[1m\u001b[33m0.022\u001b[0m | \u001b[37m1627596534_Embedding_RNN-12-Binary\u001b[0m |\n",
      "|  \u001b[1m\u001b[37m74\u001b[0m   | \u001b[1m\u001b[37m8.31e-02\u001b[0m | \u001b[1m\u001b[37m8.31e-02\u001b[0m | \u001b[1m\u001b[32m0.990\u001b[0m | \u001b[1m\u001b[32m0.972\u001b[0m |  \u001b[1m\u001b[32m0.980\u001b[0m   | \u001b[1m\u001b[31m0.983\u001b[0m | \u001b[1m\u001b[31m0.948\u001b[0m | \u001b[1m\u001b[31m0.972\u001b[0m  | \u001b[1m\u001b[35m0.996\u001b[0m | \u001b[1m\u001b[35m0.991\u001b[0m |   \u001b[1m\u001b[35m0.981\u001b[0m   | \u001b[1m\u001b[36m0.046\u001b[0m | \u001b[1m\u001b[36m0.076\u001b[0m | \u001b[1m\u001b[36m0.093\u001b[0m | \u001b[1m\u001b[33m0.011\u001b[0m | \u001b[1m\u001b[33m0.022\u001b[0m | \u001b[1m\u001b[33m0.022\u001b[0m | \u001b[37m1627596534_Embedding_RNN-12-Binary\u001b[0m |\n",
      "|  \u001b[1m\u001b[37m79\u001b[0m   | \u001b[1m\u001b[37m8.21e-02\u001b[0m | \u001b[1m\u001b[37m8.21e-02\u001b[0m | \u001b[1m\u001b[32m0.990\u001b[0m | \u001b[1m\u001b[32m0.972\u001b[0m |  \u001b[1m\u001b[32m0.980\u001b[0m   | \u001b[1m\u001b[31m0.983\u001b[0m | \u001b[1m\u001b[31m0.948\u001b[0m | \u001b[1m\u001b[31m0.972\u001b[0m  | \u001b[1m\u001b[35m0.996\u001b[0m | \u001b[1m\u001b[35m0.991\u001b[0m |   \u001b[1m\u001b[35m0.981\u001b[0m   | \u001b[1m\u001b[36m0.044\u001b[0m | \u001b[1m\u001b[36m0.077\u001b[0m | \u001b[1m\u001b[36m0.095\u001b[0m | \u001b[1m\u001b[33m0.010\u001b[0m | \u001b[1m\u001b[33m0.022\u001b[0m | \u001b[1m\u001b[33m0.022\u001b[0m | \u001b[37m1627596534_Embedding_RNN-12-Binary\u001b[0m |\n",
      "|  \u001b[1m\u001b[37m84\u001b[0m   | \u001b[1m\u001b[37m8.11e-02\u001b[0m | \u001b[1m\u001b[37m8.11e-02\u001b[0m | \u001b[1m\u001b[32m0.984\u001b[0m | \u001b[1m\u001b[32m0.972\u001b[0m |  \u001b[1m\u001b[32m0.968\u001b[0m   | \u001b[1m\u001b[31m0.983\u001b[0m | \u001b[1m\u001b[31m0.948\u001b[0m | \u001b[1m\u001b[31m0.972\u001b[0m  | \u001b[1m\u001b[35m0.983\u001b[0m | \u001b[1m\u001b[35m0.991\u001b[0m |   \u001b[1m\u001b[35m0.955\u001b[0m   | \u001b[1m\u001b[36m0.046\u001b[0m | \u001b[1m\u001b[36m0.074\u001b[0m | \u001b[1m\u001b[36m0.099\u001b[0m | \u001b[1m\u001b[33m0.011\u001b[0m | \u001b[1m\u001b[33m0.021\u001b[0m | \u001b[1m\u001b[33m0.025\u001b[0m | \u001b[37m1627596534_Embedding_RNN-12-Binary\u001b[0m |\n",
      "|  \u001b[1m\u001b[37m89\u001b[0m   | \u001b[1m\u001b[37m8.01e-02\u001b[0m | \u001b[1m\u001b[37m8.01e-02\u001b[0m | \u001b[1m\u001b[32m0.986\u001b[0m | \u001b[1m\u001b[32m0.972\u001b[0m |  \u001b[1m\u001b[32m0.968\u001b[0m   | \u001b[1m\u001b[31m0.987\u001b[0m | \u001b[1m\u001b[31m0.948\u001b[0m | \u001b[1m\u001b[31m0.972\u001b[0m  | \u001b[1m\u001b[35m0.983\u001b[0m | \u001b[1m\u001b[35m0.991\u001b[0m |   \u001b[1m\u001b[35m0.955\u001b[0m   | \u001b[1m\u001b[36m0.046\u001b[0m | \u001b[1m\u001b[36m0.072\u001b[0m | \u001b[1m\u001b[36m0.101\u001b[0m | \u001b[1m\u001b[33m0.011\u001b[0m | \u001b[1m\u001b[33m0.020\u001b[0m | \u001b[1m\u001b[33m0.025\u001b[0m | \u001b[37m1627596534_Embedding_RNN-12-Binary\u001b[0m |\n",
      "|  \u001b[1m\u001b[37m94\u001b[0m   | \u001b[1m\u001b[37m7.91e-02\u001b[0m | \u001b[1m\u001b[37m7.91e-02\u001b[0m | \u001b[1m\u001b[32m0.986\u001b[0m | \u001b[1m\u001b[32m0.972\u001b[0m |  \u001b[1m\u001b[32m0.968\u001b[0m   | \u001b[1m\u001b[31m0.987\u001b[0m | \u001b[1m\u001b[31m0.948\u001b[0m | \u001b[1m\u001b[31m0.972\u001b[0m  | \u001b[1m\u001b[35m0.983\u001b[0m | \u001b[1m\u001b[35m0.991\u001b[0m |   \u001b[1m\u001b[35m0.955\u001b[0m   | \u001b[1m\u001b[36m0.045\u001b[0m | \u001b[1m\u001b[36m0.071\u001b[0m | \u001b[1m\u001b[36m0.100\u001b[0m | \u001b[1m\u001b[33m0.011\u001b[0m | \u001b[1m\u001b[33m0.020\u001b[0m | \u001b[1m\u001b[33m0.025\u001b[0m | \u001b[37m1627596534_Embedding_RNN-12-Binary\u001b[0m |\n",
      "|  \u001b[1m\u001b[37m99\u001b[0m   | \u001b[1m\u001b[37m7.81e-02\u001b[0m | \u001b[1m\u001b[37m7.81e-02\u001b[0m | \u001b[1m\u001b[32m0.984\u001b[0m | \u001b[1m\u001b[32m0.972\u001b[0m |  \u001b[1m\u001b[32m0.968\u001b[0m   | \u001b[1m\u001b[31m0.983\u001b[0m | \u001b[1m\u001b[31m0.948\u001b[0m | \u001b[1m\u001b[31m0.972\u001b[0m  | \u001b[1m\u001b[35m0.983\u001b[0m | \u001b[1m\u001b[35m0.991\u001b[0m |   \u001b[1m\u001b[35m0.955\u001b[0m   | \u001b[1m\u001b[36m0.045\u001b[0m | \u001b[1m\u001b[36m0.073\u001b[0m | \u001b[1m\u001b[36m0.100\u001b[0m | \u001b[1m\u001b[33m0.011\u001b[0m | \u001b[1m\u001b[33m0.020\u001b[0m | \u001b[1m\u001b[33m0.025\u001b[0m | \u001b[37m1627596534_Embedding_RNN-12-Binary\u001b[0m |\n",
      "+-------+----------+----------+-------+-------+----------+-------+-------+--------+-------+-------+-----------+-------+-------+-------+-------+-------+-------+------------------------------------+\n",
      "\u001b[1m\u001b[37mTIME: 3.53s RATE: 28.33e/s TTC: 0s\u001b[0m\n"
     ]
    }
   ],
   "source": [
    "bin_rnnNet.train(init=False, run=True)    # The model was already initialized. We only run training here."
   ]
  },
  {
   "cell_type": "markdown",
   "metadata": {},
   "source": [
    "Plot the metrics along epochs."
   ]
  },
  {
   "cell_type": "code",
   "execution_count": 14,
   "metadata": {},
   "outputs": [
    {
     "data": {
      "image/png": "[encoded data removed]",
      "text/plain": [
       "<Figure size 432x288 with 1 Axes>"
      ]
     },
     "metadata": {
      "needs_background": "light"
     },
     "output_type": "display_data"
    }
   ],
   "source": [
    "bin_rnnNet.plot()"
   ]
  },
  {
   "cell_type": "markdown",
   "metadata": {},
   "source": [
    "Write the model on disk."
   ]
  },
  {
   "cell_type": "code",
   "execution_count": 15,
   "metadata": {},
   "outputs": [
    {
     "name": "stdout",
     "output_type": "stream",
     "text": [
      "\u001b[1m\u001b[32mMake: /media/synthase/beta/EpyNN/nnlive/dummy_string/models/1627596534_Embedding_RNN-12-Binary.pickle\u001b[0m\n"
     ]
    }
   ],
   "source": [
    "bin_rnnNet.evaluate(write=True)"
   ]
  },
  {
   "cell_type": "markdown",
   "metadata": {},
   "source": [
    "Let's read our model back to predict on unlabeled data."
   ]
  },
  {
   "cell_type": "code",
   "execution_count": 21,
   "metadata": {},
   "outputs": [],
   "source": [
    "bin_rnnNet = read_model(model_path=None)"
   ]
  },
  {
   "cell_type": "code",
   "execution_count": 22,
   "metadata": {},
   "outputs": [],
   "source": [
    "unlabeled_one = unlabeled_dataset(N_SAMPLES=1)"
   ]
  },
  {
   "cell_type": "code",
   "execution_count": 23,
   "metadata": {},
   "outputs": [],
   "source": [
    "dset = bin_rnnNet.predict(unlabeled_one, encode=True)"
   ]
  },
  {
   "cell_type": "markdown",
   "metadata": {},
   "source": [
    "Let's print data, output of forward propagation and decision."
   ]
  },
  {
   "cell_type": "code",
   "execution_count": 24,
   "metadata": {},
   "outputs": [
    {
     "name": "stdout",
     "output_type": "stream",
     "text": [
      "[[['A', 'A', 'C', 'G', 'T', 'A', 'G', 'G', 'G', 'T', 'A', 'T'], []]]\n",
      "[[[1. 1. 0. 0. 0. 1. 0. 0. 0. 0. 1. 0.]\n",
      "  [0. 0. 1. 0. 0. 0. 0. 0. 0. 0. 0. 0.]\n",
      "  [0. 0. 0. 1. 0. 0. 1. 1. 1. 0. 0. 0.]\n",
      "  [0. 0. 0. 0. 1. 0. 0. 0. 0. 1. 0. 1.]]]\n",
      "[[0.997 0.001]]\n",
      "[0]\n"
     ]
    }
   ],
   "source": [
    "print(unlabeled_one)\n",
    "print(dset.X)\n",
    "print(dset.A)\n",
    "print(np.argmax(dset.A, axis=1))"
   ]
  },
  {
   "cell_type": "markdown",
   "metadata": {},
   "source": [
    "Now with more data."
   ]
  },
  {
   "cell_type": "code",
   "execution_count": 25,
   "metadata": {},
   "outputs": [
    {
     "name": "stdout",
     "output_type": "stream",
     "text": [
      "[['C', 'G', 'A', 'G', 'G', 'T', 'A', 'A', 'A', 'C', 'C', 'T'], []] [0.99  0.004] 0\n",
      "[['C', 'T', 'A', 'T', 'A', 'G', 'C', 'G', 'C', 'G', 'C', 'G'], []] [0.043 0.935] 1\n",
      "[['T', 'C', 'C', 'G', 'G', 'G', 'T', 'A', 'C', 'G', 'A', 'T'], []] [0.001 0.998] 1\n",
      "[['T', 'G', 'G', 'C', 'G', 'A', 'G', 'A', 'A', 'T', 'G', 'C'], []] [0.25  0.811] 1\n",
      "[['A', 'T', 'C', 'A', 'G', 'A', 'G', 'C', 'G', 'G', 'G', 'C'], []] [0.858 0.208] 0\n",
      "[['G', 'C', 'T', 'T', 'T', 'T', 'A', 'C', 'A', 'T', 'T', 'A'], []] [0.171 0.879] 1\n",
      "[['G', 'T', 'C', 'G', 'A', 'T', 'T', 'G', 'T', 'A', 'G', 'C'], []] [7.714e-04 9.995e-01] 1\n",
      "[['T', 'G', 'T', 'T', 'A', 'A', 'T', 'T', 'A', 'T', 'T', 'A'], []] [9.994e-01 4.002e-04] 0\n",
      "[['T', 'C', 'A', 'G', 'C', 'C', 'C', 'C', 'T', 'G', 'G', 'T'], []] [4.505e-04 9.995e-01] 1\n",
      "[['A', 'T', 'T', 'G', 'T', 'C', 'C', 'T', 'C', 'T', 'C', 'A'], []] [0.008 0.993] 1\n"
     ]
    }
   ],
   "source": [
    "unlabeled_more = unlabeled_dataset(N_SAMPLES=10)\n",
    "\n",
    "dset = bin_rnnNet.predict(unlabeled_more, encode=True)\n",
    "\n",
    "dset.P = np.argmax(dset.A, axis=1)\n",
    "\n",
    "for i in range(len(unlabeled_more)):\n",
    "    print(unlabeled_more[i], dset.A[i], dset.P[i])"
   ]
  }
 ],
 "metadata": {
  "kernelspec": {
   "display_name": "Python 3",
   "language": "python",
   "name": "python3"
  },
  "language_info": {
   "codemirror_mode": {
    "name": "ipython",
    "version": 3
   },
   "file_extension": ".py",
   "mimetype": "text/x-python",
   "name": "python",
   "nbconvert_exporter": "python",
   "pygments_lexer": "ipython3",
   "version": "3.7.3"
  }
 },
 "nbformat": 4,
 "nbformat_minor": 4
}
