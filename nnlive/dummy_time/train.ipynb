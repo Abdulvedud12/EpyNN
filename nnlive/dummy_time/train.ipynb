{
 "cells": [
  {
   "cell_type": "markdown",
   "metadata": {},
   "source": [
    "# Basics with numerical time-series"
   ]
  },
  {
   "cell_type": "markdown",
   "metadata": {},
   "source": [
    "## Shape of numerical time-series"
   ]
  },
  {
   "cell_type": "code",
   "execution_count": 4,
   "metadata": {},
   "outputs": [],
   "source": [
    "# EpyNN/nnlive/dummy_time/train.py\n",
    "# Standard library imports\n",
    "import random\n",
    "\n",
    "# Related third party imports\n",
    "import numpy as np\n",
    "\n",
    "# Local application/library specific imports\n",
    "import nnlibs.initialize\n",
    "from nnlibs.commons.maths import relu, softmax\n",
    "from nnlibs.commons.library import (\n",
    "    configure_directory,\n",
    "    read_model,\n",
    ")\n",
    "from nnlibs.network.models import EpyNN\n",
    "from nnlibs.embedding.models import Embedding\n",
    "from nnlibs.flatten.models import Flatten\n",
    "from nnlibs.rnn.models import RNN\n",
    "from nnlibs.dense.models import Dense\n",
    "from prepare_dataset import prepare_dataset\n",
    "from settings import se_hPars\n",
    "\n",
    "\n",
    "########################## CONFIGURE ##########################\n",
    "random.seed(1)\n",
    "np.random.seed(1)\n",
    "\n",
    "np.set_printoptions(threshold=10)\n",
    "\n",
    "np.seterr(all='warn')\n",
    "\n",
    "configure_directory()\n",
    "\n",
    "\n",
    "############################ DATASET ##########################\n",
    "X_features, Y_label = prepare_dataset(N_SAMPLES=256)\n",
    "\n",
    "embedding = Embedding(X_data=X_features,\n",
    "                      Y_data=Y_label,\n",
    "                      Y_encode=True,\n",
    "                      relative_size=(2, 1, 0))"
   ]
  },
  {
   "cell_type": "markdown",
   "metadata": {},
   "source": [
    "## Flatten-Dense"
   ]
  },
  {
   "cell_type": "code",
   "execution_count": 5,
   "metadata": {},
   "outputs": [
    {
     "name": "stdout",
     "output_type": "stream",
     "text": [
      "\u001b[1m--- EpyNN Check --- \u001b[0m\n",
      "\u001b[1mLayer: Embedding\u001b[0m\n",
      "\u001b[1m\u001b[32mcompute_shapes: Embedding\u001b[0m\n",
      "\u001b[1m\u001b[32minitialize_parameters: Embedding\u001b[0m\n",
      "\u001b[1m\u001b[32mforward: Embedding\u001b[0m\n",
      "\u001b[1mLayer: Flatten\u001b[0m\n",
      "\u001b[1m\u001b[32mcompute_shapes: Flatten\u001b[0m\n",
      "\u001b[1m\u001b[32minitialize_parameters: Flatten\u001b[0m\n",
      "\u001b[1m\u001b[32mforward: Flatten\u001b[0m\n",
      "\u001b[1mLayer: Dense\u001b[0m\n",
      "\u001b[1m\u001b[32mcompute_shapes: Dense\u001b[0m\n",
      "\u001b[1m\u001b[32minitialize_parameters: Dense\u001b[0m\n",
      "\u001b[1m\u001b[32mforward: Dense\u001b[0m\n",
      "\u001b[1m\u001b[36mbackward: Dense\u001b[0m\n",
      "\u001b[1m\u001b[36mcompute_gradients: Dense\u001b[0m\n",
      "\u001b[1m\u001b[36mbackward: Flatten\u001b[0m\n",
      "\u001b[1m\u001b[36mcompute_gradients: Flatten\u001b[0m\n",
      "\u001b[1m\u001b[36mbackward: Embedding\u001b[0m\n",
      "\u001b[1m\u001b[36mcompute_gradients: Embedding\u001b[0m\n"
     ]
    }
   ],
   "source": [
    "name = 'Flatten_Dense-2-softmax'\n",
    "\n",
    "flatten = Flatten()\n",
    "\n",
    "dense = Dense(2, softmax)\n",
    "\n",
    "layers = [embedding, flatten, dense]\n",
    "\n",
    "model = EpyNN(layers=layers, name=name)\n",
    "\n",
    "model.initialize(loss='MSE', seed=1)"
   ]
  },
  {
   "cell_type": "code",
   "execution_count": 6,
   "metadata": {},
   "outputs": [
    {
     "name": "stdout",
     "output_type": "stream",
     "text": [
      "+-------+----------+-------+----------+-------+-------+------------------------------------+\n",
      "| \u001b[1m\u001b[37mepoch\u001b[0m |  \u001b[1m\u001b[37mlrate\u001b[0m   |       | \u001b[1m\u001b[32maccuracy\u001b[0m |       |  \u001b[1m\u001b[31mMSE\u001b[0m  |             \u001b[37mExperiment\u001b[0m             |\n",
      "|       |  \u001b[37mDense\u001b[0m   |  \u001b[1m\u001b[32m(0)\u001b[0m  |   \u001b[1m\u001b[32m(1)\u001b[0m    |  \u001b[1m\u001b[31m(0)\u001b[0m  |  \u001b[1m\u001b[31m(1)\u001b[0m  |                                    |\n",
      "+-------+----------+-------+----------+-------+-------+------------------------------------+\n",
      "|   \u001b[1m\u001b[37m0\u001b[0m   | \u001b[1m\u001b[37m1.00e-01\u001b[0m | \u001b[1m\u001b[32m0.561\u001b[0m |  \u001b[1m\u001b[32m0.553\u001b[0m   | \u001b[1m\u001b[31m0.403\u001b[0m | \u001b[1m\u001b[31m0.412\u001b[0m | \u001b[37m1628546616_Flatten_Dense-2-softmax\u001b[0m |\n",
      "|  \u001b[1m\u001b[37m10\u001b[0m   | \u001b[1m\u001b[37m1.00e-01\u001b[0m | \u001b[1m\u001b[32m0.731\u001b[0m |  \u001b[1m\u001b[32m0.576\u001b[0m   | \u001b[1m\u001b[31m0.263\u001b[0m | \u001b[1m\u001b[31m0.381\u001b[0m | \u001b[37m1628546616_Flatten_Dense-2-softmax\u001b[0m |\n",
      "|  \u001b[1m\u001b[37m20\u001b[0m   | \u001b[1m\u001b[37m1.00e-01\u001b[0m | \u001b[1m\u001b[32m0.789\u001b[0m |  \u001b[1m\u001b[32m0.612\u001b[0m   | \u001b[1m\u001b[31m0.212\u001b[0m | \u001b[1m\u001b[31m0.347\u001b[0m | \u001b[37m1628546616_Flatten_Dense-2-softmax\u001b[0m |\n",
      "|  \u001b[1m\u001b[37m30\u001b[0m   | \u001b[1m\u001b[37m1.00e-01\u001b[0m | \u001b[1m\u001b[32m0.801\u001b[0m |  \u001b[1m\u001b[32m0.576\u001b[0m   | \u001b[1m\u001b[31m0.198\u001b[0m | \u001b[1m\u001b[31m0.351\u001b[0m | \u001b[37m1628546616_Flatten_Dense-2-softmax\u001b[0m |\n",
      "|  \u001b[1m\u001b[37m40\u001b[0m   | \u001b[1m\u001b[37m1.00e-01\u001b[0m | \u001b[1m\u001b[32m0.830\u001b[0m |  \u001b[1m\u001b[32m0.588\u001b[0m   | \u001b[1m\u001b[31m0.170\u001b[0m | \u001b[1m\u001b[31m0.341\u001b[0m | \u001b[37m1628546616_Flatten_Dense-2-softmax\u001b[0m |\n",
      "|  \u001b[1m\u001b[37m50\u001b[0m   | \u001b[1m\u001b[37m1.00e-01\u001b[0m | \u001b[1m\u001b[32m0.842\u001b[0m |  \u001b[1m\u001b[32m0.612\u001b[0m   | \u001b[1m\u001b[31m0.155\u001b[0m | \u001b[1m\u001b[31m0.322\u001b[0m | \u001b[37m1628546616_Flatten_Dense-2-softmax\u001b[0m |\n",
      "|  \u001b[1m\u001b[37m60\u001b[0m   | \u001b[1m\u001b[37m1.00e-01\u001b[0m | \u001b[1m\u001b[32m0.848\u001b[0m |  \u001b[1m\u001b[32m0.635\u001b[0m   | \u001b[1m\u001b[31m0.153\u001b[0m | \u001b[1m\u001b[31m0.312\u001b[0m | \u001b[37m1628546616_Flatten_Dense-2-softmax\u001b[0m |\n",
      "|  \u001b[1m\u001b[37m70\u001b[0m   | \u001b[1m\u001b[37m1.00e-01\u001b[0m | \u001b[1m\u001b[32m0.848\u001b[0m |  \u001b[1m\u001b[32m0.659\u001b[0m   | \u001b[1m\u001b[31m0.151\u001b[0m | \u001b[1m\u001b[31m0.307\u001b[0m | \u001b[37m1628546616_Flatten_Dense-2-softmax\u001b[0m |\n",
      "|  \u001b[1m\u001b[37m80\u001b[0m   | \u001b[1m\u001b[37m1.00e-01\u001b[0m | \u001b[1m\u001b[32m0.860\u001b[0m |  \u001b[1m\u001b[32m0.635\u001b[0m   | \u001b[1m\u001b[31m0.141\u001b[0m | \u001b[1m\u001b[31m0.304\u001b[0m | \u001b[37m1628546616_Flatten_Dense-2-softmax\u001b[0m |\n",
      "|  \u001b[1m\u001b[37m90\u001b[0m   | \u001b[1m\u001b[37m1.00e-01\u001b[0m | \u001b[1m\u001b[32m0.860\u001b[0m |  \u001b[1m\u001b[32m0.635\u001b[0m   | \u001b[1m\u001b[31m0.141\u001b[0m | \u001b[1m\u001b[31m0.300\u001b[0m | \u001b[37m1628546616_Flatten_Dense-2-softmax\u001b[0m |\n",
      "|  \u001b[1m\u001b[37m99\u001b[0m   | \u001b[1m\u001b[37m1.00e-01\u001b[0m | \u001b[1m\u001b[32m0.860\u001b[0m |  \u001b[1m\u001b[32m0.647\u001b[0m   | \u001b[1m\u001b[31m0.141\u001b[0m | \u001b[1m\u001b[31m0.298\u001b[0m | \u001b[37m1628546616_Flatten_Dense-2-softmax\u001b[0m |\n",
      "+-------+----------+-------+----------+-------+-------+------------------------------------+\n",
      "\u001b[1m\u001b[37mTIME: 1s RATE: 100.0e/s TTC: 0s\u001b[0m\r"
     ]
    }
   ],
   "source": [
    "model.train(epochs=100, init_logs=False)"
   ]
  },
  {
   "cell_type": "markdown",
   "metadata": {},
   "source": [
    "## Recurrent Neural Network (RNN)"
   ]
  },
  {
   "cell_type": "code",
   "execution_count": 8,
   "metadata": {},
   "outputs": [
    {
     "name": "stdout",
     "output_type": "stream",
     "text": [
      "\u001b[1m--- EpyNN Check --- \u001b[0m\n",
      "\u001b[1mLayer: Embedding\u001b[0m\n",
      "\u001b[1m\u001b[32mcompute_shapes: Embedding\u001b[0m\n",
      "\u001b[1m\u001b[32minitialize_parameters: Embedding\u001b[0m\n",
      "\u001b[1m\u001b[32mforward: Embedding\u001b[0m\n",
      "\u001b[1mLayer: RNN\u001b[0m\n",
      "\u001b[1m\u001b[32mcompute_shapes: RNN\u001b[0m\n",
      "\u001b[1m\u001b[32minitialize_parameters: RNN\u001b[0m\n",
      "\u001b[1m\u001b[32mforward: RNN\u001b[0m\n",
      "\u001b[1mLayer: Flatten\u001b[0m\n",
      "\u001b[1m\u001b[32mcompute_shapes: Flatten\u001b[0m\n",
      "\u001b[1m\u001b[32minitialize_parameters: Flatten\u001b[0m\n",
      "\u001b[1m\u001b[32mforward: Flatten\u001b[0m\n",
      "\u001b[1mLayer: Dense\u001b[0m\n",
      "\u001b[1m\u001b[32mcompute_shapes: Dense\u001b[0m\n",
      "\u001b[1m\u001b[32minitialize_parameters: Dense\u001b[0m\n",
      "\u001b[1m\u001b[32mforward: Dense\u001b[0m\n",
      "\u001b[1m\u001b[36mbackward: Dense\u001b[0m\n",
      "\u001b[1m\u001b[36mcompute_gradients: Dense\u001b[0m\n",
      "\u001b[1m\u001b[36mbackward: Flatten\u001b[0m\n",
      "\u001b[1m\u001b[36mcompute_gradients: Flatten\u001b[0m\n",
      "\u001b[1m\u001b[36mbackward: RNN\u001b[0m\n",
      "\u001b[1m\u001b[36mcompute_gradients: RNN\u001b[0m\n",
      "\u001b[1m\u001b[36mbackward: Embedding\u001b[0m\n",
      "\u001b[1m\u001b[36mcompute_gradients: Embedding\u001b[0m\n"
     ]
    }
   ],
   "source": [
    "name = 'RNN-128_Flatten_Dense-2-softmax'\n",
    "\n",
    "rnn = RNN(128)\n",
    "\n",
    "flatten = Flatten()\n",
    "\n",
    "dense = Dense(2, softmax)\n",
    "\n",
    "layers = [embedding, rnn, flatten, dense]\n",
    "\n",
    "model = EpyNN(layers=layers, name=name)\n",
    "\n",
    "model.initialize(loss='MSE', seed=1)"
   ]
  },
  {
   "cell_type": "code",
   "execution_count": 9,
   "metadata": {},
   "outputs": [
    {
     "name": "stdout",
     "output_type": "stream",
     "text": [
      "+-------+----------+----------+-------+----------+-------+-------+--------------------------------------------+\n",
      "| \u001b[1m\u001b[37mepoch\u001b[0m |  \u001b[1m\u001b[37mlrate\u001b[0m   |  \u001b[1m\u001b[37mlrate\u001b[0m   |       | \u001b[1m\u001b[32maccuracy\u001b[0m |       |  \u001b[1m\u001b[31mMSE\u001b[0m  |                 \u001b[37mExperiment\u001b[0m                 |\n",
      "|       |   \u001b[37mRNN\u001b[0m    |  \u001b[37mDense\u001b[0m   |  \u001b[1m\u001b[32m(0)\u001b[0m  |   \u001b[1m\u001b[32m(1)\u001b[0m    |  \u001b[1m\u001b[31m(0)\u001b[0m  |  \u001b[1m\u001b[31m(1)\u001b[0m  |                                            |\n",
      "+-------+----------+----------+-------+----------+-------+-------+--------------------------------------------+\n",
      "|   \u001b[1m\u001b[37m0\u001b[0m   | \u001b[1m\u001b[37m1.00e-01\u001b[0m | \u001b[1m\u001b[37m1.00e-01\u001b[0m | \u001b[1m\u001b[32m0.573\u001b[0m |  \u001b[1m\u001b[32m0.506\u001b[0m   | \u001b[1m\u001b[31m0.346\u001b[0m | \u001b[1m\u001b[31m0.364\u001b[0m | \u001b[37m1628546639_RNN-128_Flatten_Dense-2-softmax\u001b[0m |\n",
      "|  \u001b[1m\u001b[37m10\u001b[0m   | \u001b[1m\u001b[37m1.00e-01\u001b[0m | \u001b[1m\u001b[37m1.00e-01\u001b[0m | \u001b[1m\u001b[32m0.602\u001b[0m |  \u001b[1m\u001b[32m0.565\u001b[0m   | \u001b[1m\u001b[31m0.290\u001b[0m | \u001b[1m\u001b[31m0.340\u001b[0m | \u001b[37m1628546639_RNN-128_Flatten_Dense-2-softmax\u001b[0m |\n",
      "|  \u001b[1m\u001b[37m20\u001b[0m   | \u001b[1m\u001b[37m1.00e-01\u001b[0m | \u001b[1m\u001b[37m1.00e-01\u001b[0m | \u001b[1m\u001b[32m0.591\u001b[0m |  \u001b[1m\u001b[32m0.494\u001b[0m   | \u001b[1m\u001b[31m0.260\u001b[0m | \u001b[1m\u001b[31m0.313\u001b[0m | \u001b[37m1628546639_RNN-128_Flatten_Dense-2-softmax\u001b[0m |\n",
      "|  \u001b[1m\u001b[37m30\u001b[0m   | \u001b[1m\u001b[37m1.00e-01\u001b[0m | \u001b[1m\u001b[37m1.00e-01\u001b[0m | \u001b[1m\u001b[32m0.602\u001b[0m |  \u001b[1m\u001b[32m0.565\u001b[0m   | \u001b[1m\u001b[31m0.243\u001b[0m | \u001b[1m\u001b[31m0.288\u001b[0m | \u001b[37m1628546639_RNN-128_Flatten_Dense-2-softmax\u001b[0m |\n",
      "|  \u001b[1m\u001b[37m40\u001b[0m   | \u001b[1m\u001b[37m1.00e-01\u001b[0m | \u001b[1m\u001b[37m1.00e-01\u001b[0m | \u001b[1m\u001b[32m0.602\u001b[0m |  \u001b[1m\u001b[32m0.529\u001b[0m   | \u001b[1m\u001b[31m0.243\u001b[0m | \u001b[1m\u001b[31m0.294\u001b[0m | \u001b[37m1628546639_RNN-128_Flatten_Dense-2-softmax\u001b[0m |\n",
      "|  \u001b[1m\u001b[37m50\u001b[0m   | \u001b[1m\u001b[37m1.00e-01\u001b[0m | \u001b[1m\u001b[37m1.00e-01\u001b[0m | \u001b[1m\u001b[32m0.602\u001b[0m |  \u001b[1m\u001b[32m0.541\u001b[0m   | \u001b[1m\u001b[31m0.237\u001b[0m | \u001b[1m\u001b[31m0.288\u001b[0m | \u001b[37m1628546639_RNN-128_Flatten_Dense-2-softmax\u001b[0m |\n",
      "|  \u001b[1m\u001b[37m60\u001b[0m   | \u001b[1m\u001b[37m1.00e-01\u001b[0m | \u001b[1m\u001b[37m1.00e-01\u001b[0m | \u001b[1m\u001b[32m0.626\u001b[0m |  \u001b[1m\u001b[32m0.576\u001b[0m   | \u001b[1m\u001b[31m0.231\u001b[0m | \u001b[1m\u001b[31m0.289\u001b[0m | \u001b[37m1628546639_RNN-128_Flatten_Dense-2-softmax\u001b[0m |\n",
      "|  \u001b[1m\u001b[37m70\u001b[0m   | \u001b[1m\u001b[37m1.00e-01\u001b[0m | \u001b[1m\u001b[37m1.00e-01\u001b[0m | \u001b[1m\u001b[32m0.544\u001b[0m |  \u001b[1m\u001b[32m0.424\u001b[0m   | \u001b[1m\u001b[31m0.281\u001b[0m | \u001b[1m\u001b[31m0.341\u001b[0m | \u001b[37m1628546639_RNN-128_Flatten_Dense-2-softmax\u001b[0m |\n",
      "|  \u001b[1m\u001b[37m80\u001b[0m   | \u001b[1m\u001b[37m1.00e-01\u001b[0m | \u001b[1m\u001b[37m1.00e-01\u001b[0m | \u001b[1m\u001b[32m0.673\u001b[0m |  \u001b[1m\u001b[32m0.529\u001b[0m   | \u001b[1m\u001b[31m0.203\u001b[0m | \u001b[1m\u001b[31m0.298\u001b[0m | \u001b[37m1628546639_RNN-128_Flatten_Dense-2-softmax\u001b[0m |\n",
      "|  \u001b[1m\u001b[37m90\u001b[0m   | \u001b[1m\u001b[37m1.00e-01\u001b[0m | \u001b[1m\u001b[37m1.00e-01\u001b[0m | \u001b[1m\u001b[32m0.596\u001b[0m |  \u001b[1m\u001b[32m0.529\u001b[0m   | \u001b[1m\u001b[31m0.301\u001b[0m | \u001b[1m\u001b[31m0.352\u001b[0m | \u001b[37m1628546639_RNN-128_Flatten_Dense-2-softmax\u001b[0m |\n",
      "|  \u001b[1m\u001b[37m99\u001b[0m   | \u001b[1m\u001b[37m1.00e-01\u001b[0m | \u001b[1m\u001b[37m1.00e-01\u001b[0m | \u001b[1m\u001b[32m0.620\u001b[0m |  \u001b[1m\u001b[32m0.494\u001b[0m   | \u001b[1m\u001b[31m0.235\u001b[0m | \u001b[1m\u001b[31m0.345\u001b[0m | \u001b[37m1628546639_RNN-128_Flatten_Dense-2-softmax\u001b[0m |\n",
      "+-------+----------+----------+-------+----------+-------+-------+--------------------------------------------+\n",
      "\u001b[1m\u001b[37mTIME: 55s RATE: 1.82e/s TTC: 1s\u001b[0m\r"
     ]
    }
   ],
   "source": [
    "model.train(epochs=100, init_logs=False)"
   ]
  },
  {
   "cell_type": "code",
   "execution_count": null,
   "metadata": {},
   "outputs": [],
   "source": []
  }
 ],
 "metadata": {
  "kernelspec": {
   "display_name": "Python 3",
   "language": "python",
   "name": "python3"
  },
  "language_info": {
   "codemirror_mode": {
    "name": "ipython",
    "version": 3
   },
   "file_extension": ".py",
   "mimetype": "text/x-python",
   "name": "python",
   "nbconvert_exporter": "python",
   "pygments_lexer": "ipython3",
   "version": "3.7.3"
  }
 },
 "nbformat": 4,
 "nbformat_minor": 4
}
