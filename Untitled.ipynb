{
 "cells": [
  {
   "cell_type": "code",
   "execution_count": null,
   "metadata": {},
   "outputs": [],
   "source": [
    "# EpyNN/nnlive/dummy_boolean/train.py\n",
    "# Standard library imports\n",
    "# Related third party imports\n",
    "# Local application/library specific imports\n",
    "\n",
    "from nnlibs.initialize import *\n",
    "from nnlibs.meta.models import EpyNN\n",
    "from nnlibs.embedding.models import Embedding\n",
    "from nnlibs.dense.models import Dense\n",
    "import nnlibs.commons.library as cl\n",
    "import nnlibs.commons.maths as cm\n",
    "import prepare_dataset as pd\n",
    "# Local EpyNN settings\n",
    "import settings as se\n",
    "# Compute with NumPy\n",
    "import numpy as np"
   ]
  }
 ],
 "metadata": {
  "kernelspec": {
   "display_name": "Python 3",
   "language": "python",
   "name": "python3"
  },
  "language_info": {
   "codemirror_mode": {
    "name": "ipython",
    "version": 3
   },
   "file_extension": ".py",
   "mimetype": "text/x-python",
   "name": "python",
   "nbconvert_exporter": "python",
   "pygments_lexer": "ipython3",
   "version": "3.7.3"
  }
 },
 "nbformat": 4,
 "nbformat_minor": 4
}
