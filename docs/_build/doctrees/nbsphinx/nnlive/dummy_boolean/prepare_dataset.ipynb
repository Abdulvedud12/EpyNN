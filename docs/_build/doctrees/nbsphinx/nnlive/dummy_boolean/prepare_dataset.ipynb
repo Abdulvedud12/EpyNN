{
 "cells": [
  {
   "cell_type": "markdown",
   "metadata": {},
   "source": [
    "# Dummy boolean data"
   ]
  },
  {
   "cell_type": "markdown",
   "metadata": {},
   "source": [
    "Regular Python code located in ..."
   ]
  },
  {
   "cell_type": "markdown",
   "metadata": {},
   "source": [
    "... using these data:"
   ]
  },
  {
   "cell_type": "markdown",
   "metadata": {},
   "source": [
    "Imports."
   ]
  },
  {
   "cell_type": "code",
   "execution_count": 1,
   "metadata": {},
   "outputs": [],
   "source": [
    "# EpyNN/nnlive/dummy_boolean/prepare_dataset.ipynb\n",
    "# Standard library imports\n",
    "import random\n",
    "\n",
    "# Local application/library specific imports\n",
    "from settings import dataset as se_dataset"
   ]
  },
  {
   "cell_type": "markdown",
   "metadata": {},
   "source": [
    "Set `random` seed for reproducibility."
   ]
  },
  {
   "cell_type": "code",
   "execution_count": 2,
   "metadata": {},
   "outputs": [],
   "source": [
    "random.seed(1)"
   ]
  },
  {
   "cell_type": "markdown",
   "metadata": {},
   "source": [
    "Dummy string features."
   ]
  },
  {
   "cell_type": "code",
   "execution_count": 3,
   "metadata": {},
   "outputs": [],
   "source": [
    "def features_boolean(N_FEATURES=11):\n",
    "    \"\"\"Generate dummy string features.\n",
    "\n",
    "    :param N_FEATURES: Number of features\n",
    "    :type N_FEATURES: int\n",
    "\n",
    "    :return: random boolean features of length N_FEATURES\n",
    "    :rtype: list[bool]\n",
    "    \"\"\"\n",
    "    # Random choice True or False for N_FEATURES iterations\n",
    "    features = [random.choice([True, False]) for j in range(N_FEATURES)]\n",
    "\n",
    "    return features"
   ]
  },
  {
   "cell_type": "markdown",
   "metadata": {},
   "source": [
    "Check the function."
   ]
  },
  {
   "cell_type": "code",
   "execution_count": 4,
   "metadata": {},
   "outputs": [
    {
     "name": "stdout",
     "output_type": "stream",
     "text": [
      "[True, True, False, True, False, False, False, False, True, True, False]\n"
     ]
    }
   ],
   "source": [
    "features = features_boolean()\n",
    "print(features)"
   ]
  },
  {
   "cell_type": "markdown",
   "metadata": {},
   "source": [
    "Label from features."
   ]
  },
  {
   "cell_type": "code",
   "execution_count": 5,
   "metadata": {},
   "outputs": [],
   "source": [
    "def label_features(features):\n",
    "    \"\"\"Prepare label associated with features.\n",
    "\n",
    "    :param features: random boolean features of length N_FEATURES\n",
    "    :type features: list[bool]\n",
    "    \n",
    "    :return: One-hot encoded label\n",
    "    :rtype: list[int]\n",
    "    \"\"\"\n",
    "    # One-hot encoded positive and negative labels\n",
    "    p_label = [1, 0]\n",
    "    n_label = [0, 1]\n",
    "\n",
    "    # Test if features contains more True (+)\n",
    "    if features.count(True) > features.count(False):\n",
    "        label = p_label\n",
    "\n",
    "    # Test if features contains more False (-)\n",
    "    elif features.count(True) < features.count(False):\n",
    "        label = n_label\n",
    "            \n",
    "    return label"
   ]
  },
  {
   "cell_type": "markdown",
   "metadata": {},
   "source": [
    "Check the function."
   ]
  },
  {
   "cell_type": "code",
   "execution_count": 6,
   "metadata": {},
   "outputs": [
    {
     "name": "stdout",
     "output_type": "stream",
     "text": [
      "[0, 1]\n"
     ]
    }
   ],
   "source": [
    "label = label_features(features)\n",
    "print(label)"
   ]
  },
  {
   "cell_type": "markdown",
   "metadata": {},
   "source": [
    "Prepare labeled dataset."
   ]
  },
  {
   "cell_type": "code",
   "execution_count": 7,
   "metadata": {},
   "outputs": [],
   "source": [
    "def labeled_dataset(se_dataset):\n",
    "    \"\"\"Prepare a dummy dataset of labeled samples.\n",
    "    \n",
    "    One sample is a list such as [features, label].\n",
    "    \n",
    "    For one sample, features is a list and label is a list.\n",
    "\n",
    "    :param se_dataset: Settings for dataset preparation\n",
    "    :type se_dataset: dict\n",
    "\n",
    "    :return: A dataset of length N_SAMPLES\n",
    "    :rtype: list[list[list[bool],list[int]]]\n",
    "    \"\"\"\n",
    "    # See ./settings.py\n",
    "    N_SAMPLES = se_dataset['N_SAMPLES']\n",
    "\n",
    "    # Initialize dataset\n",
    "    dataset = []\n",
    "\n",
    "    # Iterate over N_SAMPLES\n",
    "    for i in range(N_SAMPLES):\n",
    "\n",
    "        # Compute random boolean features\n",
    "        features = features_boolean()\n",
    "\n",
    "        # Retrieve label associated with features\n",
    "        label = label_features(features)\n",
    "        \n",
    "        # Define labeled sample\n",
    "        sample = [features, label]\n",
    "\n",
    "        # Append sample to dataset\n",
    "        dataset.append(sample)\n",
    "        \n",
    "    # Shuffle dataset\n",
    "    random.shuffle(dataset)\n",
    "\n",
    "    return dataset"
   ]
  },
  {
   "cell_type": "markdown",
   "metadata": {},
   "source": [
    "Check the function."
   ]
  },
  {
   "cell_type": "code",
   "execution_count": 8,
   "metadata": {},
   "outputs": [
    {
     "name": "stdout",
     "output_type": "stream",
     "text": [
      "[True, False, False, True, False, False, True, True, False, True, True] [1, 0]\n",
      "[True, True, False, True, False, True, True, False, False, True, False] [1, 0]\n",
      "[False, True, False, False, False, False, False, True, False, False, True] [0, 1]\n",
      "[False, True, False, False, False, False, True, False, True, False, False] [0, 1]\n",
      "[False, True, False, True, True, False, False, True, True, True, False] [1, 0]\n",
      "[False, False, False, False, True, False, True, True, False, True, False] [0, 1]\n",
      "[False, True, False, False, True, True, True, True, True, True, False] [1, 0]\n",
      "[True, False, False, True, False, True, True, False, False, False, True] [0, 1]\n",
      "[True, True, False, False, True, False, True, True, False, True, False] [1, 0]\n",
      "[True, True, True, True, False, True, True, True, True, False, True] [1, 0]\n"
     ]
    }
   ],
   "source": [
    "se_dataset['N_SAMPLES'] = 10\n",
    "\n",
    "for sample in labeled_dataset(se_dataset):\n",
    "    features, label = sample\n",
    "    print(features, label)"
   ]
  },
  {
   "cell_type": "markdown",
   "metadata": {},
   "source": [
    "Prepare unlabeled dataset."
   ]
  },
  {
   "cell_type": "code",
   "execution_count": 9,
   "metadata": {},
   "outputs": [],
   "source": [
    "def unlabeled_dataset(N_SAMPLES=1):\n",
    "    \"\"\"Prepare a dummy dataset of unlabeled samples.\n",
    "    \n",
    "    One sample is a list such as [features, []].\n",
    "\n",
    "    For one sample, features is a list and label is an empty list.\n",
    "\n",
    "    :param N_SAMPLES: Length for unlabeled dataset\n",
    "    :type N_SAMPLES: int\n",
    "\n",
    "    :return: A dataset of length N_SAMPLES\n",
    "    :rtype: list[list[list[bool],list]]\n",
    "    \"\"\"\n",
    "    # Initialize unlabeled_dataset\n",
    "    unlabeled_dataset = []\n",
    "\n",
    "    # Iterate over N_SAMPLES\n",
    "    for i in range(N_SAMPLES):\n",
    "\n",
    "        # Generate dummy boolean features\n",
    "        features = features_boolean()\n",
    "\n",
    "        # Define unlabeled sample\n",
    "        sample = [features, []]\n",
    "\n",
    "        # Append to unlabeled_dataset\n",
    "        unlabeled_dataset.append(sample)\n",
    "\n",
    "    return unlabeled_dataset"
   ]
  },
  {
   "cell_type": "markdown",
   "metadata": {},
   "source": [
    "Check the function."
   ]
  },
  {
   "cell_type": "code",
   "execution_count": 10,
   "metadata": {},
   "outputs": [
    {
     "name": "stdout",
     "output_type": "stream",
     "text": [
      "[False, False, True, True, False, False, False, False, True, False, True] []\n",
      "[False, True, False, True, True, True, False, True, True, True, False] []\n",
      "[False, True, False, True, True, False, False, False, True, False, True] []\n",
      "[True, True, False, True, True, False, False, True, False, False, True] []\n",
      "[True, True, True, False, True, True, False, True, False, True, True] []\n"
     ]
    }
   ],
   "source": [
    "for sample in unlabeled_dataset(N_SAMPLES=5):\n",
    "    features, label = sample\n",
    "    print(features, label)"
   ]
  },
  {
   "cell_type": "markdown",
   "metadata": {},
   "source": [
    "Done."
   ]
  }
 ],
 "metadata": {
  "kernelspec": {
   "display_name": "Python 3",
   "language": "python",
   "name": "python3"
  },
  "language_info": {
   "codemirror_mode": {
    "name": "ipython",
    "version": 3
   },
   "file_extension": ".py",
   "mimetype": "text/x-python",
   "name": "python",
   "nbconvert_exporter": "python",
   "pygments_lexer": "ipython3",
   "version": "3.7.3"
  }
 },
 "nbformat": 4,
 "nbformat_minor": 4
}
