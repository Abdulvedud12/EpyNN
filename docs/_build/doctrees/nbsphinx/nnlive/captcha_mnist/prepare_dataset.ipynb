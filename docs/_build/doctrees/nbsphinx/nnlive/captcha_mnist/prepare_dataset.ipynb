{
 "cells": [
  {
   "cell_type": "markdown",
   "metadata": {},
   "source": [
    "# MNIST"
   ]
  },
  {
   "cell_type": "markdown",
   "metadata": {},
   "source": [
    "Regular Python code located in ..."
   ]
  },
  {
   "cell_type": "markdown",
   "metadata": {},
   "source": [
    "... using these data:"
   ]
  },
  {
   "cell_type": "markdown",
   "metadata": {},
   "source": [
    "Imports."
   ]
  },
  {
   "cell_type": "code",
   "execution_count": 1,
   "metadata": {},
   "outputs": [],
   "source": [
    "# EpyNN/nnlive/captcha_mnist/prepare_dataset.py\n",
    "# Standard library imports\n",
    "import tarfile\n",
    "import random\n",
    "import wget\n",
    "import gzip\n",
    "import os\n",
    "\n",
    "# Related third party imports\n",
    "import numpy as np\n",
    "\n",
    "# Local application/library specific imports\n",
    "from nnlibs.commons.logs import process_logs"
   ]
  },
  {
   "cell_type": "markdown",
   "metadata": {},
   "source": [
    "Retrieve MNIST from the cloud."
   ]
  },
  {
   "cell_type": "code",
   "execution_count": 2,
   "metadata": {},
   "outputs": [],
   "source": [
    "def download_mnist():\n",
    "    \"\"\"Download a subset of the MNIST database.\n",
    "    \"\"\"\n",
    "    data_path = os.path.join('.', 'data')\n",
    "\n",
    "    if not os.path.exists(data_path):\n",
    "\n",
    "        # Download @url with wget\n",
    "        url = 'https://synthase.s3.us-west-2.amazonaws.com/mnist_database_data.tar'\n",
    "        fname = wget.download(url)\n",
    "\n",
    "        # Extract archive\n",
    "        tar = tarfile.open(fname).extractall('.')\n",
    "        process_logs('Make: '+fname, level=1)\n",
    "\n",
    "        # Clean-up\n",
    "        os.remove(fname)\n",
    "\n",
    "    return None\n",
    "\n",
    "download_mnist()"
   ]
  },
  {
   "cell_type": "markdown",
   "metadata": {},
   "source": [
    "Labeled dataset."
   ]
  },
  {
   "cell_type": "code",
   "execution_count": 3,
   "metadata": {},
   "outputs": [],
   "source": [
    "def labeled_dataset(se_dataset):\n",
    "    \"\"\"Prepare a dataset of labeled samples.\n",
    "    \n",
    "    One sample is a list such as [features, label].\n",
    "    \n",
    "    For one sample, features is a list and label is a list.\n",
    "    \n",
    "    :param se_dataset: Settings for dataset preparation\n",
    "    :type se_dataset: dict\n",
    "\n",
    "    :return: A dataset of length N_SAMPLES\n",
    "    :rtype: list[list[list[str],list[int]]]\n",
    "    \"\"\"\n",
    "    # See ./settings.py\n",
    "    N_SAMPLES = se_dataset['N_SAMPLES']\n",
    "\n",
    "    # Process MNIST images\n",
    "    f = gzip.open('data/train-images.gz')\n",
    "\n",
    "    header = f.read(16)\n",
    "    num_images = int.from_bytes(header[4:8], byteorder='big')\n",
    "    image_size = int.from_bytes(header[8:12], byteorder='big')\n",
    "    buf = f.read(image_size * image_size * num_images)\n",
    "    data = np.frombuffer(buf, dtype=np.uint8).astype(np.float32)\n",
    "    images = data.reshape(num_images, image_size, image_size, 1)\n",
    "\n",
    "    # Process MNIST labels\n",
    "    f = gzip.open('data/train-labels.gz')\n",
    "\n",
    "    header = f.read(8)\n",
    "    num_labels = int.from_bytes(header[4:8], byteorder='big')\n",
    "    buf = f.read(image_size * image_size * num_images)\n",
    "    labels = np.frombuffer(buf, dtype=np.uint8)\n",
    "\n",
    "    num_classes = np.max(labels) + 1\n",
    "\n",
    "    # one-hot-encoded labels\n",
    "    labels = np.eye(num_classes)[labels]\n",
    "\n",
    "    # Initialize dataset\n",
    "    dataset = [[x,y] for x,y in zip(images,labels)]\n",
    "\n",
    "    # Shuffle dataset before split\n",
    "    random.shuffle(dataset)\n",
    "\n",
    "    # Default N_SAMPLES\n",
    "    if N_SAMPLES == None:\n",
    "        N_SAMPLES = len(dataset)\n",
    "\n",
    "    # Truncate dataset to N_SAMPLES\n",
    "    dataset = dataset[:N_SAMPLES]\n",
    "\n",
    "    return dataset"
   ]
  }
 ],
 "metadata": {
  "kernelspec": {
   "display_name": "Python 3",
   "language": "python",
   "name": "python3"
  },
  "language_info": {
   "codemirror_mode": {
    "name": "ipython",
    "version": 3
   },
   "file_extension": ".py",
   "mimetype": "text/x-python",
   "name": "python",
   "nbconvert_exporter": "python",
   "pygments_lexer": "ipython3",
   "version": "3.7.3"
  }
 },
 "nbformat": 4,
 "nbformat_minor": 4
}
