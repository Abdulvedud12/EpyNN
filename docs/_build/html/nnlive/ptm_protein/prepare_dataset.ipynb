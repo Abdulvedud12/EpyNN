{
 "cells": [
  {
   "cell_type": "markdown",
   "metadata": {},
   "source": [
    "# Protein sequences"
   ]
  },
  {
   "cell_type": "markdown",
   "metadata": {},
   "source": [
    "Regular Python code located in ..."
   ]
  },
  {
   "cell_type": "markdown",
   "metadata": {},
   "source": [
    "... using these data:"
   ]
  },
  {
   "cell_type": "markdown",
   "metadata": {},
   "source": [
    "Imports."
   ]
  },
  {
   "cell_type": "code",
   "execution_count": 1,
   "metadata": {},
   "outputs": [],
   "source": [
    "# EpyNN/nnlive/ptm_protein/prepare_dataset.ipynb\n",
    "# Standard library imports\n",
    "import tarfile\n",
    "import random\n",
    "import wget\n",
    "import os\n",
    "\n",
    "# Local application/library specific imports\n",
    "from nnlibs.commons.library import read_file\n",
    "from nnlibs.commons.logs import process_logs\n",
    "from settings import dataset as se_dataset"
   ]
  },
  {
   "cell_type": "markdown",
   "metadata": {},
   "source": [
    "Retrieve sequences from the cloud."
   ]
  },
  {
   "cell_type": "code",
   "execution_count": 2,
   "metadata": {},
   "outputs": [
    {
     "name": "stdout",
     "output_type": "stream",
     "text": [
      "\u001b[1m\u001b[32mMake: ptm_prediction_data.tar\u001b[0m\n"
     ]
    }
   ],
   "source": [
    "def download_sequences():\n",
    "    \"\"\"Download a set of peptide sequences.\n",
    "    \"\"\"\n",
    "    data_path = os.path.join('.', 'data')\n",
    "    \n",
    "    if not os.path.exists(data_path):\n",
    "        \n",
    "        # Download @url with wget\n",
    "        url = 'https://synthase.s3.us-west-2.amazonaws.com/ptm_prediction_data.tar'\n",
    "        fname = wget.download(url)\n",
    "        \n",
    "        # Extract archive\n",
    "        tar = tarfile.open(fname).extractall('.')\n",
    "        process_logs('Make: '+fname, level=1)\n",
    "        \n",
    "        # Clean-up\n",
    "        os.remove(fname)\n",
    "\n",
    "    return None\n",
    "\n",
    "download_sequences()"
   ]
  },
  {
   "cell_type": "markdown",
   "metadata": {},
   "source": [
    "Labeled dataset."
   ]
  },
  {
   "cell_type": "code",
   "execution_count": 3,
   "metadata": {},
   "outputs": [],
   "source": [
    "def labeled_dataset(se_dataset):\n",
    "    \"\"\"Prepare a dataset of labeled samples.\n",
    "    \n",
    "    One sample is a list such as [features, label].\n",
    "    \n",
    "    For one sample, features is a list and label is a list.\n",
    "    \n",
    "    :param se_dataset: Settings for dataset preparation\n",
    "    :type se_dataset: dict\n",
    "\n",
    "    :return: A dataset of length N_SAMPLES\n",
    "    :rtype: list[list[list[str],list[int]]]\n",
    "    \"\"\"\n",
    "    # See ./settings.py\n",
    "    N_SAMPLES = se_dataset['N_SAMPLES']\n",
    "\n",
    "    # One-hot encoded positive and negative labels\n",
    "    p_label = [1, 0]\n",
    "    n_label = [0, 1]\n",
    "\n",
    "    # Positive data are Homo sapiens O-GlcNAcylated peptide sequences from oglcnac.mcw.edu\n",
    "    path_positive = 'data/21_positive.dat'\n",
    "    # Negative data are peptide sequences presumably not O-GlcNAcylated\n",
    "    path_negative = 'data/21_negative.dat'\n",
    "\n",
    "    # Read text files, each containing one sequence per line\n",
    "    positive = [[x, p_label] for x in read_file(path_positive).splitlines()]\n",
    "    negative = [[x, n_label] for x in read_file(path_negative).splitlines()]\n",
    "\n",
    "    # Shuffle data to prevent from any sorting previously applied\n",
    "    random.shuffle(positive)\n",
    "    random.shuffle(negative)\n",
    "\n",
    "    # Truncate list of negative sequences\n",
    "    negative = negative[:len(positive)]\n",
    "\n",
    "    # Prepare a balanced dataset\n",
    "    dataset = positive + negative\n",
    "\n",
    "    # Shuffle dataset before split\n",
    "    random.shuffle(dataset)\n",
    "\n",
    "    # Truncate dataset to N_SAMPLES\n",
    "    dataset = dataset[:N_SAMPLES]\n",
    "\n",
    "    return dataset\n"
   ]
  },
  {
   "cell_type": "markdown",
   "metadata": {},
   "source": [
    "Check the function."
   ]
  },
  {
   "cell_type": "code",
   "execution_count": 4,
   "metadata": {},
   "outputs": [
    {
     "name": "stdout",
     "output_type": "stream",
     "text": [
      "1000\n",
      "['YYSIDDNQNKTHDKKEKKMVV', [0, 1]]\n",
      "YYSIDDNQNKTHDKKEKKMVV\n",
      "[0, 1]\n"
     ]
    }
   ],
   "source": [
    "dataset = labeled_dataset(se_dataset)\n",
    "\n",
    "print(len(dataset))\n",
    "\n",
    "sample_0 = dataset[0]\n",
    "features_0 = dataset[0][0]\n",
    "label_0 = dataset[0][1]\n",
    "\n",
    "print(sample_0)\n",
    "print(features_0)\n",
    "print(label_0)"
   ]
  }
 ],
 "metadata": {
  "kernelspec": {
   "display_name": "Python 3",
   "language": "python",
   "name": "python3"
  },
  "language_info": {
   "codemirror_mode": {
    "name": "ipython",
    "version": 3
   },
   "file_extension": ".py",
   "mimetype": "text/x-python",
   "name": "python",
   "nbconvert_exporter": "python",
   "pygments_lexer": "ipython3",
   "version": "3.7.3"
  }
 },
 "nbformat": 4,
 "nbformat_minor": 4
}
